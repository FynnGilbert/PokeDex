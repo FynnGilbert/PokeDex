{
 "cells": [
  {
   "cell_type": "code",
   "execution_count": 1,
   "id": "b4e6188a-7562-461d-b6e7-b3548515370e",
   "metadata": {},
   "outputs": [],
   "source": [
    "import requests\n",
    "import pandas as pd\n",
    "\n",
    "url = 'https://play.pokemonshowdown.com/data/pokedex.json'\n",
    "params = {}\n",
    "resp = requests.get(url=url, params=params)\n",
    "data = resp.json() # Check the JSON Response Content documentation below"
   ]
  },
  {
   "cell_type": "code",
   "execution_count": 2,
   "id": "13b9a5fd-2718-4fef-9cd6-f6c83800bbec",
   "metadata": {},
   "outputs": [
    {
     "data": {
      "text/html": [
       "<div>\n",
       "<style scoped>\n",
       "    .dataframe tbody tr th:only-of-type {\n",
       "        vertical-align: middle;\n",
       "    }\n",
       "\n",
       "    .dataframe tbody tr th {\n",
       "        vertical-align: top;\n",
       "    }\n",
       "\n",
       "    .dataframe thead th {\n",
       "        text-align: right;\n",
       "    }\n",
       "</style>\n",
       "<table border=\"1\" class=\"dataframe\">\n",
       "  <thead>\n",
       "    <tr style=\"text-align: right;\">\n",
       "      <th></th>\n",
       "      <th>num</th>\n",
       "      <th>name</th>\n",
       "      <th>types</th>\n",
       "      <th>genderRatio</th>\n",
       "      <th>baseStats</th>\n",
       "      <th>abilities</th>\n",
       "      <th>heightm</th>\n",
       "      <th>weightkg</th>\n",
       "      <th>color</th>\n",
       "      <th>evos</th>\n",
       "      <th>...</th>\n",
       "      <th>cosmeticFormes</th>\n",
       "      <th>maxHP</th>\n",
       "      <th>requiredAbility</th>\n",
       "      <th>battleOnly</th>\n",
       "      <th>requiredMove</th>\n",
       "      <th>requiredItems</th>\n",
       "      <th>cannotDynamax</th>\n",
       "      <th>forceTeraType</th>\n",
       "      <th>links</th>\n",
       "      <th>species</th>\n",
       "    </tr>\n",
       "  </thead>\n",
       "  <tbody>\n",
       "    <tr>\n",
       "      <th>bulbasaur</th>\n",
       "      <td>1</td>\n",
       "      <td>Bulbasaur</td>\n",
       "      <td>[Grass, Poison]</td>\n",
       "      <td>{'M': 0.875, 'F': 0.125}</td>\n",
       "      <td>{'hp': 45, 'atk': 49, 'def': 49, 'spa': 65, 's...</td>\n",
       "      <td>{'0': 'Overgrow', 'H': 'Chlorophyll'}</td>\n",
       "      <td>0.7</td>\n",
       "      <td>6.9</td>\n",
       "      <td>Green</td>\n",
       "      <td>[Ivysaur]</td>\n",
       "      <td>...</td>\n",
       "      <td>NaN</td>\n",
       "      <td>NaN</td>\n",
       "      <td>NaN</td>\n",
       "      <td>NaN</td>\n",
       "      <td>NaN</td>\n",
       "      <td>NaN</td>\n",
       "      <td>NaN</td>\n",
       "      <td>NaN</td>\n",
       "      <td>bulbasaur</td>\n",
       "      <td>Bulbasaur</td>\n",
       "    </tr>\n",
       "    <tr>\n",
       "      <th>ivysaur</th>\n",
       "      <td>2</td>\n",
       "      <td>Ivysaur</td>\n",
       "      <td>[Grass, Poison]</td>\n",
       "      <td>{'M': 0.875, 'F': 0.125}</td>\n",
       "      <td>{'hp': 60, 'atk': 62, 'def': 63, 'spa': 80, 's...</td>\n",
       "      <td>{'0': 'Overgrow', 'H': 'Chlorophyll'}</td>\n",
       "      <td>1</td>\n",
       "      <td>13</td>\n",
       "      <td>Green</td>\n",
       "      <td>[Venusaur]</td>\n",
       "      <td>...</td>\n",
       "      <td>NaN</td>\n",
       "      <td>NaN</td>\n",
       "      <td>NaN</td>\n",
       "      <td>NaN</td>\n",
       "      <td>NaN</td>\n",
       "      <td>NaN</td>\n",
       "      <td>NaN</td>\n",
       "      <td>NaN</td>\n",
       "      <td>ivysaur</td>\n",
       "      <td>Ivysaur</td>\n",
       "    </tr>\n",
       "    <tr>\n",
       "      <th>venusaur</th>\n",
       "      <td>3</td>\n",
       "      <td>Venusaur</td>\n",
       "      <td>[Grass, Poison]</td>\n",
       "      <td>{'M': 0.875, 'F': 0.125}</td>\n",
       "      <td>{'hp': 80, 'atk': 82, 'def': 83, 'spa': 100, '...</td>\n",
       "      <td>{'0': 'Overgrow', 'H': 'Chlorophyll'}</td>\n",
       "      <td>2</td>\n",
       "      <td>100</td>\n",
       "      <td>Green</td>\n",
       "      <td>NaN</td>\n",
       "      <td>...</td>\n",
       "      <td>NaN</td>\n",
       "      <td>NaN</td>\n",
       "      <td>NaN</td>\n",
       "      <td>NaN</td>\n",
       "      <td>NaN</td>\n",
       "      <td>NaN</td>\n",
       "      <td>NaN</td>\n",
       "      <td>NaN</td>\n",
       "      <td>venusaur</td>\n",
       "      <td>Venusaur</td>\n",
       "    </tr>\n",
       "    <tr>\n",
       "      <th>venusaurmega</th>\n",
       "      <td>3</td>\n",
       "      <td>Venusaur-Mega</td>\n",
       "      <td>[Grass, Poison]</td>\n",
       "      <td>{'M': 0.875, 'F': 0.125}</td>\n",
       "      <td>{'hp': 80, 'atk': 100, 'def': 123, 'spa': 122,...</td>\n",
       "      <td>{'0': 'Thick Fat'}</td>\n",
       "      <td>2.4</td>\n",
       "      <td>155.5</td>\n",
       "      <td>Green</td>\n",
       "      <td>NaN</td>\n",
       "      <td>...</td>\n",
       "      <td>NaN</td>\n",
       "      <td>NaN</td>\n",
       "      <td>NaN</td>\n",
       "      <td>NaN</td>\n",
       "      <td>NaN</td>\n",
       "      <td>NaN</td>\n",
       "      <td>NaN</td>\n",
       "      <td>NaN</td>\n",
       "      <td>venusaur-mega</td>\n",
       "      <td>Venusaur</td>\n",
       "    </tr>\n",
       "    <tr>\n",
       "      <th>venusaurgmax</th>\n",
       "      <td>3</td>\n",
       "      <td>Venusaur-Gmax</td>\n",
       "      <td>[Grass, Poison]</td>\n",
       "      <td>{'M': 0.875, 'F': 0.125}</td>\n",
       "      <td>{'hp': 80, 'atk': 82, 'def': 83, 'spa': 100, '...</td>\n",
       "      <td>{'0': 'Overgrow', 'H': 'Chlorophyll'}</td>\n",
       "      <td>2</td>\n",
       "      <td>0</td>\n",
       "      <td>Green</td>\n",
       "      <td>NaN</td>\n",
       "      <td>...</td>\n",
       "      <td>NaN</td>\n",
       "      <td>NaN</td>\n",
       "      <td>NaN</td>\n",
       "      <td>NaN</td>\n",
       "      <td>NaN</td>\n",
       "      <td>NaN</td>\n",
       "      <td>NaN</td>\n",
       "      <td>NaN</td>\n",
       "      <td>venusaur-gmax</td>\n",
       "      <td>Venusaur</td>\n",
       "    </tr>\n",
       "    <tr>\n",
       "      <th>...</th>\n",
       "      <td>...</td>\n",
       "      <td>...</td>\n",
       "      <td>...</td>\n",
       "      <td>...</td>\n",
       "      <td>...</td>\n",
       "      <td>...</td>\n",
       "      <td>...</td>\n",
       "      <td>...</td>\n",
       "      <td>...</td>\n",
       "      <td>...</td>\n",
       "      <td>...</td>\n",
       "      <td>...</td>\n",
       "      <td>...</td>\n",
       "      <td>...</td>\n",
       "      <td>...</td>\n",
       "      <td>...</td>\n",
       "      <td>...</td>\n",
       "      <td>...</td>\n",
       "      <td>...</td>\n",
       "      <td>...</td>\n",
       "      <td>...</td>\n",
       "    </tr>\n",
       "    <tr>\n",
       "      <th>chiyu</th>\n",
       "      <td>1004</td>\n",
       "      <td>Chi-Yu</td>\n",
       "      <td>[Dark, Fire]</td>\n",
       "      <td>NaN</td>\n",
       "      <td>{'hp': 55, 'atk': 80, 'def': 80, 'spa': 135, '...</td>\n",
       "      <td>{'0': 'Beads of Ruin'}</td>\n",
       "      <td>0.4</td>\n",
       "      <td>4.9</td>\n",
       "      <td>Red</td>\n",
       "      <td>NaN</td>\n",
       "      <td>...</td>\n",
       "      <td>NaN</td>\n",
       "      <td>NaN</td>\n",
       "      <td>NaN</td>\n",
       "      <td>NaN</td>\n",
       "      <td>NaN</td>\n",
       "      <td>NaN</td>\n",
       "      <td>NaN</td>\n",
       "      <td>NaN</td>\n",
       "      <td>chi-yu</td>\n",
       "      <td>Chi-Yu</td>\n",
       "    </tr>\n",
       "    <tr>\n",
       "      <th>roaringmoon</th>\n",
       "      <td>1005</td>\n",
       "      <td>Roaring Moon</td>\n",
       "      <td>[Dragon, Dark]</td>\n",
       "      <td>NaN</td>\n",
       "      <td>{'hp': 105, 'atk': 139, 'def': 71, 'spa': 55, ...</td>\n",
       "      <td>{'0': 'Protosynthesis'}</td>\n",
       "      <td>2</td>\n",
       "      <td>380</td>\n",
       "      <td>Green</td>\n",
       "      <td>NaN</td>\n",
       "      <td>...</td>\n",
       "      <td>NaN</td>\n",
       "      <td>NaN</td>\n",
       "      <td>NaN</td>\n",
       "      <td>NaN</td>\n",
       "      <td>NaN</td>\n",
       "      <td>NaN</td>\n",
       "      <td>NaN</td>\n",
       "      <td>NaN</td>\n",
       "      <td>roaring-moon</td>\n",
       "      <td>Roaring Moon</td>\n",
       "    </tr>\n",
       "    <tr>\n",
       "      <th>ironvaliant</th>\n",
       "      <td>1006</td>\n",
       "      <td>Iron Valiant</td>\n",
       "      <td>[Fairy, Fighting]</td>\n",
       "      <td>NaN</td>\n",
       "      <td>{'hp': 74, 'atk': 130, 'def': 90, 'spa': 120, ...</td>\n",
       "      <td>{'0': 'Quark Drive'}</td>\n",
       "      <td>1.4</td>\n",
       "      <td>35</td>\n",
       "      <td>White</td>\n",
       "      <td>NaN</td>\n",
       "      <td>...</td>\n",
       "      <td>NaN</td>\n",
       "      <td>NaN</td>\n",
       "      <td>NaN</td>\n",
       "      <td>NaN</td>\n",
       "      <td>NaN</td>\n",
       "      <td>NaN</td>\n",
       "      <td>NaN</td>\n",
       "      <td>NaN</td>\n",
       "      <td>iron-valiant</td>\n",
       "      <td>Iron Valiant</td>\n",
       "    </tr>\n",
       "    <tr>\n",
       "      <th>koraidon</th>\n",
       "      <td>1007</td>\n",
       "      <td>Koraidon</td>\n",
       "      <td>[Fighting, Dragon]</td>\n",
       "      <td>NaN</td>\n",
       "      <td>{'hp': 100, 'atk': 135, 'def': 115, 'spa': 85,...</td>\n",
       "      <td>{'0': 'Orichalcum Pulse'}</td>\n",
       "      <td>2.5</td>\n",
       "      <td>303</td>\n",
       "      <td>Red</td>\n",
       "      <td>NaN</td>\n",
       "      <td>...</td>\n",
       "      <td>NaN</td>\n",
       "      <td>NaN</td>\n",
       "      <td>NaN</td>\n",
       "      <td>NaN</td>\n",
       "      <td>NaN</td>\n",
       "      <td>NaN</td>\n",
       "      <td>NaN</td>\n",
       "      <td>NaN</td>\n",
       "      <td>koraidon</td>\n",
       "      <td>Koraidon</td>\n",
       "    </tr>\n",
       "    <tr>\n",
       "      <th>miraidon</th>\n",
       "      <td>1008</td>\n",
       "      <td>Miraidon</td>\n",
       "      <td>[Electric, Dragon]</td>\n",
       "      <td>NaN</td>\n",
       "      <td>{'hp': 100, 'atk': 85, 'def': 100, 'spa': 135,...</td>\n",
       "      <td>{'0': 'Hadron Engine'}</td>\n",
       "      <td>3.5</td>\n",
       "      <td>240</td>\n",
       "      <td>Blue</td>\n",
       "      <td>NaN</td>\n",
       "      <td>...</td>\n",
       "      <td>NaN</td>\n",
       "      <td>NaN</td>\n",
       "      <td>NaN</td>\n",
       "      <td>NaN</td>\n",
       "      <td>NaN</td>\n",
       "      <td>NaN</td>\n",
       "      <td>NaN</td>\n",
       "      <td>NaN</td>\n",
       "      <td>miraidon</td>\n",
       "      <td>Miraidon</td>\n",
       "    </tr>\n",
       "  </tbody>\n",
       "</table>\n",
       "<p>1300 rows × 42 columns</p>\n",
       "</div>"
      ],
      "text/plain": [
       "               num           name               types  \\\n",
       "bulbasaur        1      Bulbasaur     [Grass, Poison]   \n",
       "ivysaur          2        Ivysaur     [Grass, Poison]   \n",
       "venusaur         3       Venusaur     [Grass, Poison]   \n",
       "venusaurmega     3  Venusaur-Mega     [Grass, Poison]   \n",
       "venusaurgmax     3  Venusaur-Gmax     [Grass, Poison]   \n",
       "...            ...            ...                 ...   \n",
       "chiyu         1004         Chi-Yu        [Dark, Fire]   \n",
       "roaringmoon   1005   Roaring Moon      [Dragon, Dark]   \n",
       "ironvaliant   1006   Iron Valiant   [Fairy, Fighting]   \n",
       "koraidon      1007       Koraidon  [Fighting, Dragon]   \n",
       "miraidon      1008       Miraidon  [Electric, Dragon]   \n",
       "\n",
       "                           genderRatio  \\\n",
       "bulbasaur     {'M': 0.875, 'F': 0.125}   \n",
       "ivysaur       {'M': 0.875, 'F': 0.125}   \n",
       "venusaur      {'M': 0.875, 'F': 0.125}   \n",
       "venusaurmega  {'M': 0.875, 'F': 0.125}   \n",
       "venusaurgmax  {'M': 0.875, 'F': 0.125}   \n",
       "...                                ...   \n",
       "chiyu                              NaN   \n",
       "roaringmoon                        NaN   \n",
       "ironvaliant                        NaN   \n",
       "koraidon                           NaN   \n",
       "miraidon                           NaN   \n",
       "\n",
       "                                                      baseStats  \\\n",
       "bulbasaur     {'hp': 45, 'atk': 49, 'def': 49, 'spa': 65, 's...   \n",
       "ivysaur       {'hp': 60, 'atk': 62, 'def': 63, 'spa': 80, 's...   \n",
       "venusaur      {'hp': 80, 'atk': 82, 'def': 83, 'spa': 100, '...   \n",
       "venusaurmega  {'hp': 80, 'atk': 100, 'def': 123, 'spa': 122,...   \n",
       "venusaurgmax  {'hp': 80, 'atk': 82, 'def': 83, 'spa': 100, '...   \n",
       "...                                                         ...   \n",
       "chiyu         {'hp': 55, 'atk': 80, 'def': 80, 'spa': 135, '...   \n",
       "roaringmoon   {'hp': 105, 'atk': 139, 'def': 71, 'spa': 55, ...   \n",
       "ironvaliant   {'hp': 74, 'atk': 130, 'def': 90, 'spa': 120, ...   \n",
       "koraidon      {'hp': 100, 'atk': 135, 'def': 115, 'spa': 85,...   \n",
       "miraidon      {'hp': 100, 'atk': 85, 'def': 100, 'spa': 135,...   \n",
       "\n",
       "                                          abilities heightm weightkg  color  \\\n",
       "bulbasaur     {'0': 'Overgrow', 'H': 'Chlorophyll'}     0.7      6.9  Green   \n",
       "ivysaur       {'0': 'Overgrow', 'H': 'Chlorophyll'}       1       13  Green   \n",
       "venusaur      {'0': 'Overgrow', 'H': 'Chlorophyll'}       2      100  Green   \n",
       "venusaurmega                     {'0': 'Thick Fat'}     2.4    155.5  Green   \n",
       "venusaurgmax  {'0': 'Overgrow', 'H': 'Chlorophyll'}       2        0  Green   \n",
       "...                                             ...     ...      ...    ...   \n",
       "chiyu                        {'0': 'Beads of Ruin'}     0.4      4.9    Red   \n",
       "roaringmoon                 {'0': 'Protosynthesis'}       2      380  Green   \n",
       "ironvaliant                    {'0': 'Quark Drive'}     1.4       35  White   \n",
       "koraidon                  {'0': 'Orichalcum Pulse'}     2.5      303    Red   \n",
       "miraidon                     {'0': 'Hadron Engine'}     3.5      240   Blue   \n",
       "\n",
       "                    evos  ... cosmeticFormes maxHP requiredAbility battleOnly  \\\n",
       "bulbasaur      [Ivysaur]  ...            NaN   NaN             NaN        NaN   \n",
       "ivysaur       [Venusaur]  ...            NaN   NaN             NaN        NaN   \n",
       "venusaur             NaN  ...            NaN   NaN             NaN        NaN   \n",
       "venusaurmega         NaN  ...            NaN   NaN             NaN        NaN   \n",
       "venusaurgmax         NaN  ...            NaN   NaN             NaN        NaN   \n",
       "...                  ...  ...            ...   ...             ...        ...   \n",
       "chiyu                NaN  ...            NaN   NaN             NaN        NaN   \n",
       "roaringmoon          NaN  ...            NaN   NaN             NaN        NaN   \n",
       "ironvaliant          NaN  ...            NaN   NaN             NaN        NaN   \n",
       "koraidon             NaN  ...            NaN   NaN             NaN        NaN   \n",
       "miraidon             NaN  ...            NaN   NaN             NaN        NaN   \n",
       "\n",
       "             requiredMove requiredItems cannotDynamax forceTeraType  \\\n",
       "bulbasaur             NaN           NaN           NaN           NaN   \n",
       "ivysaur               NaN           NaN           NaN           NaN   \n",
       "venusaur              NaN           NaN           NaN           NaN   \n",
       "venusaurmega          NaN           NaN           NaN           NaN   \n",
       "venusaurgmax          NaN           NaN           NaN           NaN   \n",
       "...                   ...           ...           ...           ...   \n",
       "chiyu                 NaN           NaN           NaN           NaN   \n",
       "roaringmoon           NaN           NaN           NaN           NaN   \n",
       "ironvaliant           NaN           NaN           NaN           NaN   \n",
       "koraidon              NaN           NaN           NaN           NaN   \n",
       "miraidon              NaN           NaN           NaN           NaN   \n",
       "\n",
       "                      links       species  \n",
       "bulbasaur         bulbasaur     Bulbasaur  \n",
       "ivysaur             ivysaur       Ivysaur  \n",
       "venusaur           venusaur      Venusaur  \n",
       "venusaurmega  venusaur-mega      Venusaur  \n",
       "venusaurgmax  venusaur-gmax      Venusaur  \n",
       "...                     ...           ...  \n",
       "chiyu                chi-yu        Chi-Yu  \n",
       "roaringmoon    roaring-moon  Roaring Moon  \n",
       "ironvaliant    iron-valiant  Iron Valiant  \n",
       "koraidon           koraidon      Koraidon  \n",
       "miraidon           miraidon      Miraidon  \n",
       "\n",
       "[1300 rows x 42 columns]"
      ]
     },
     "execution_count": 2,
     "metadata": {},
     "output_type": "execute_result"
    }
   ],
   "source": [
    "df = pd.DataFrame(data).T\n",
    "df = df[df.num >0] # get rid of custom stuff\n",
    "df = df[df.num <= 1008] # only the real pokemon\n",
    "df[\"links\"] = df.name.str.replace(\" \", \"-\").str.lower()\n",
    "df[\"species\"] = df.baseSpecies.fillna(df.name)\n",
    "df"
   ]
  },
  {
   "cell_type": "code",
   "execution_count": 3,
   "id": "812b3c66-ee86-491b-a392-16b9aa2d697e",
   "metadata": {},
   "outputs": [
    {
     "data": {
      "text/html": [
       "<div>\n",
       "<style scoped>\n",
       "    .dataframe tbody tr th:only-of-type {\n",
       "        vertical-align: middle;\n",
       "    }\n",
       "\n",
       "    .dataframe tbody tr th {\n",
       "        vertical-align: top;\n",
       "    }\n",
       "\n",
       "    .dataframe thead th {\n",
       "        text-align: right;\n",
       "    }\n",
       "</style>\n",
       "<table border=\"1\" class=\"dataframe\">\n",
       "  <thead>\n",
       "    <tr style=\"text-align: right;\">\n",
       "      <th></th>\n",
       "      <th>links</th>\n",
       "      <th>species</th>\n",
       "    </tr>\n",
       "  </thead>\n",
       "  <tbody>\n",
       "    <tr>\n",
       "      <th>bulbasaur</th>\n",
       "      <td>bulbasaur</td>\n",
       "      <td>Bulbasaur</td>\n",
       "    </tr>\n",
       "    <tr>\n",
       "      <th>ivysaur</th>\n",
       "      <td>ivysaur</td>\n",
       "      <td>Ivysaur</td>\n",
       "    </tr>\n",
       "    <tr>\n",
       "      <th>venusaur</th>\n",
       "      <td>venusaur</td>\n",
       "      <td>Venusaur</td>\n",
       "    </tr>\n",
       "    <tr>\n",
       "      <th>venusaurmega</th>\n",
       "      <td>venusaur-mega</td>\n",
       "      <td>Venusaur</td>\n",
       "    </tr>\n",
       "    <tr>\n",
       "      <th>venusaurgmax</th>\n",
       "      <td>venusaur-gmax</td>\n",
       "      <td>Venusaur</td>\n",
       "    </tr>\n",
       "    <tr>\n",
       "      <th>...</th>\n",
       "      <td>...</td>\n",
       "      <td>...</td>\n",
       "    </tr>\n",
       "    <tr>\n",
       "      <th>chiyu</th>\n",
       "      <td>chi-yu</td>\n",
       "      <td>Chi-Yu</td>\n",
       "    </tr>\n",
       "    <tr>\n",
       "      <th>roaringmoon</th>\n",
       "      <td>roaring-moon</td>\n",
       "      <td>Roaring Moon</td>\n",
       "    </tr>\n",
       "    <tr>\n",
       "      <th>ironvaliant</th>\n",
       "      <td>iron-valiant</td>\n",
       "      <td>Iron Valiant</td>\n",
       "    </tr>\n",
       "    <tr>\n",
       "      <th>koraidon</th>\n",
       "      <td>koraidon</td>\n",
       "      <td>Koraidon</td>\n",
       "    </tr>\n",
       "    <tr>\n",
       "      <th>miraidon</th>\n",
       "      <td>miraidon</td>\n",
       "      <td>Miraidon</td>\n",
       "    </tr>\n",
       "  </tbody>\n",
       "</table>\n",
       "<p>1300 rows × 2 columns</p>\n",
       "</div>"
      ],
      "text/plain": [
       "                      links       species\n",
       "bulbasaur         bulbasaur     Bulbasaur\n",
       "ivysaur             ivysaur       Ivysaur\n",
       "venusaur           venusaur      Venusaur\n",
       "venusaurmega  venusaur-mega      Venusaur\n",
       "venusaurgmax  venusaur-gmax      Venusaur\n",
       "...                     ...           ...\n",
       "chiyu                chi-yu        Chi-Yu\n",
       "roaringmoon    roaring-moon  Roaring Moon\n",
       "ironvaliant    iron-valiant  Iron Valiant\n",
       "koraidon           koraidon      Koraidon\n",
       "miraidon           miraidon      Miraidon\n",
       "\n",
       "[1300 rows x 2 columns]"
      ]
     },
     "execution_count": 3,
     "metadata": {},
     "output_type": "execute_result"
    }
   ],
   "source": [
    "clms = [\"links\", \"species\"]\n",
    "df = df[clms]\n",
    "df"
   ]
  },
  {
   "cell_type": "code",
   "execution_count": 13,
   "id": "d3a1f169-1980-4677-ad15-c7e751c4dce2",
   "metadata": {},
   "outputs": [
    {
     "data": {
      "text/html": [
       "<div>\n",
       "<style scoped>\n",
       "    .dataframe tbody tr th:only-of-type {\n",
       "        vertical-align: middle;\n",
       "    }\n",
       "\n",
       "    .dataframe tbody tr th {\n",
       "        vertical-align: top;\n",
       "    }\n",
       "\n",
       "    .dataframe thead th {\n",
       "        text-align: right;\n",
       "    }\n",
       "</style>\n",
       "<table border=\"1\" class=\"dataframe\">\n",
       "  <thead>\n",
       "    <tr style=\"text-align: right;\">\n",
       "      <th></th>\n",
       "      <th>links</th>\n",
       "      <th>species</th>\n",
       "    </tr>\n",
       "  </thead>\n",
       "  <tbody>\n",
       "    <tr>\n",
       "      <th>bulbasaur</th>\n",
       "      <td>bulbasaur</td>\n",
       "      <td>Bulbasaur</td>\n",
       "    </tr>\n",
       "    <tr>\n",
       "      <th>ivysaur</th>\n",
       "      <td>ivysaur</td>\n",
       "      <td>Ivysaur</td>\n",
       "    </tr>\n",
       "    <tr>\n",
       "      <th>venusaur</th>\n",
       "      <td>venusaur</td>\n",
       "      <td>Venusaur</td>\n",
       "    </tr>\n",
       "    <tr>\n",
       "      <th>venusaurmega</th>\n",
       "      <td>venusaur-mega</td>\n",
       "      <td>Venusaur</td>\n",
       "    </tr>\n",
       "    <tr>\n",
       "      <th>venusaurgmax</th>\n",
       "      <td>venusaur-gmax</td>\n",
       "      <td>Venusaur</td>\n",
       "    </tr>\n",
       "    <tr>\n",
       "      <th>...</th>\n",
       "      <td>...</td>\n",
       "      <td>...</td>\n",
       "    </tr>\n",
       "    <tr>\n",
       "      <th>dragonite</th>\n",
       "      <td>dragonite</td>\n",
       "      <td>Dragonite</td>\n",
       "    </tr>\n",
       "    <tr>\n",
       "      <th>mewtwo</th>\n",
       "      <td>mewtwo</td>\n",
       "      <td>Mewtwo</td>\n",
       "    </tr>\n",
       "    <tr>\n",
       "      <th>mewtwomegax</th>\n",
       "      <td>mewtwo-mega-x</td>\n",
       "      <td>Mewtwo</td>\n",
       "    </tr>\n",
       "    <tr>\n",
       "      <th>mewtwomegay</th>\n",
       "      <td>mewtwo-mega-y</td>\n",
       "      <td>Mewtwo</td>\n",
       "    </tr>\n",
       "    <tr>\n",
       "      <th>mew</th>\n",
       "      <td>mew</td>\n",
       "      <td>Mew</td>\n",
       "    </tr>\n",
       "  </tbody>\n",
       "</table>\n",
       "<p>232 rows × 2 columns</p>\n",
       "</div>"
      ],
      "text/plain": [
       "                      links    species\n",
       "bulbasaur         bulbasaur  Bulbasaur\n",
       "ivysaur             ivysaur    Ivysaur\n",
       "venusaur           venusaur   Venusaur\n",
       "venusaurmega  venusaur-mega   Venusaur\n",
       "venusaurgmax  venusaur-gmax   Venusaur\n",
       "...                     ...        ...\n",
       "dragonite         dragonite  Dragonite\n",
       "mewtwo               mewtwo     Mewtwo\n",
       "mewtwomegax   mewtwo-mega-x     Mewtwo\n",
       "mewtwomegay   mewtwo-mega-y     Mewtwo\n",
       "mew                     mew        Mew\n",
       "\n",
       "[232 rows x 2 columns]"
      ]
     },
     "execution_count": 13,
     "metadata": {},
     "output_type": "execute_result"
    }
   ],
   "source": [
    "df[:232]"
   ]
  },
  {
   "cell_type": "code",
   "execution_count": 16,
   "id": "049666fc-7700-4bdf-9fd2-7fbe5768280a",
   "metadata": {},
   "outputs": [
    {
     "data": {
      "text/plain": [
       "array(['Bulbasaur', 'Ivysaur', 'Venusaur', 'Charmander', 'Charmeleon',\n",
       "       'Charizard', 'Squirtle', 'Wartortle', 'Blastoise', 'Caterpie',\n",
       "       'Metapod', 'Butterfree', 'Weedle', 'Kakuna', 'Beedrill', 'Pidgey',\n",
       "       'Pidgeotto', 'Pidgeot', 'Rattata', 'Raticate', 'Spearow', 'Fearow',\n",
       "       'Ekans', 'Arbok', 'Pikachu', 'Raichu', 'Sandshrew', 'Sandslash',\n",
       "       'Nidoran-F', 'Nidorina', 'Nidoqueen', 'Nidoran-M', 'Nidorino',\n",
       "       'Nidoking', 'Clefairy', 'Clefable', 'Vulpix', 'Ninetales',\n",
       "       'Jigglypuff', 'Wigglytuff', 'Zubat', 'Golbat', 'Oddish', 'Gloom',\n",
       "       'Vileplume', 'Paras', 'Parasect', 'Venonat', 'Venomoth', 'Diglett',\n",
       "       'Dugtrio', 'Meowth', 'Persian', 'Psyduck', 'Golduck', 'Mankey',\n",
       "       'Primeape', 'Growlithe', 'Arcanine', 'Poliwag', 'Poliwhirl',\n",
       "       'Poliwrath', 'Abra', 'Kadabra', 'Alakazam', 'Machop', 'Machoke',\n",
       "       'Machamp', 'Bellsprout', 'Weepinbell', 'Victreebel', 'Tentacool',\n",
       "       'Tentacruel', 'Geodude', 'Graveler', 'Golem', 'Ponyta', 'Rapidash',\n",
       "       'Slowpoke', 'Slowbro', 'Magnemite', 'Magneton', 'Farfetch’d',\n",
       "       'Doduo', 'Dodrio', 'Seel', 'Dewgong', 'Grimer', 'Muk', 'Shellder',\n",
       "       'Cloyster', 'Gastly', 'Haunter', 'Gengar', 'Onix', 'Drowzee',\n",
       "       'Hypno', 'Krabby', 'Kingler', 'Voltorb', 'Electrode', 'Exeggcute',\n",
       "       'Exeggutor', 'Cubone', 'Marowak', 'Hitmonlee', 'Hitmonchan',\n",
       "       'Lickitung', 'Koffing', 'Weezing', 'Rhyhorn', 'Rhydon', 'Chansey',\n",
       "       'Tangela', 'Kangaskhan', 'Horsea', 'Seadra', 'Goldeen', 'Seaking',\n",
       "       'Staryu', 'Starmie', 'Mr. Mime', 'Scyther', 'Jynx', 'Electabuzz',\n",
       "       'Magmar', 'Pinsir', 'Tauros', 'Magikarp', 'Gyarados', 'Lapras',\n",
       "       'Ditto', 'Eevee', 'Vaporeon', 'Jolteon', 'Flareon', 'Porygon',\n",
       "       'Omanyte', 'Omastar', 'Kabuto', 'Kabutops', 'Aerodactyl',\n",
       "       'Snorlax', 'Articuno', 'Zapdos', 'Moltres', 'Dratini', 'Dragonair',\n",
       "       'Dragonite', 'Mewtwo', 'Mew'], dtype=object)"
      ]
     },
     "execution_count": 16,
     "metadata": {},
     "output_type": "execute_result"
    }
   ],
   "source": [
    "df[\"species\"].unique()[:151]"
   ]
  },
  {
   "cell_type": "markdown",
   "id": "7992a6b1-7c17-4711-8bc8-df7b166e5f15",
   "metadata": {},
   "source": [
    "# Create folder structure:"
   ]
  },
  {
   "cell_type": "code",
   "execution_count": 6,
   "id": "a9a1997f-157f-476a-a769-43bfcc68162f",
   "metadata": {},
   "outputs": [
    {
     "data": {
      "text/plain": [
       "'/Users/fynn/Projects/PokeDex/dataset'"
      ]
     },
     "execution_count": 6,
     "metadata": {},
     "output_type": "execute_result"
    }
   ],
   "source": [
    "import os\n",
    "cwd = os.getcwd()\n",
    "cwd, _ = os.path.split(cwd)\n",
    "folder = \"dataset\"\n",
    "os.path.join(cwd, folder)"
   ]
  },
  {
   "cell_type": "code",
   "execution_count": 7,
   "id": "817d7ffb-aac4-413e-8a22-ee99682baa87",
   "metadata": {},
   "outputs": [
    {
     "name": "stdout",
     "output_type": "stream",
     "text": [
      "created folder for Bulbasaur\n",
      "created folder for Ivysaur\n",
      "created folder for Venusaur\n",
      "created folder for Charmander\n",
      "created folder for Charmeleon\n",
      "created folder for Charizard\n",
      "created folder for Squirtle\n",
      "created folder for Wartortle\n",
      "created folder for Blastoise\n",
      "created folder for Caterpie\n",
      "created folder for Metapod\n",
      "created folder for Butterfree\n",
      "created folder for Weedle\n",
      "created folder for Kakuna\n",
      "created folder for Beedrill\n",
      "created folder for Pidgey\n",
      "created folder for Pidgeotto\n",
      "created folder for Pidgeot\n",
      "created folder for Rattata\n",
      "created folder for Raticate\n",
      "created folder for Spearow\n",
      "created folder for Fearow\n",
      "created folder for Ekans\n",
      "created folder for Arbok\n",
      "created folder for Pikachu\n",
      "created folder for Raichu\n",
      "created folder for Sandshrew\n",
      "created folder for Sandslash\n",
      "created folder for Nidoran-F\n",
      "created folder for Nidorina\n",
      "created folder for Nidoqueen\n",
      "created folder for Nidoran-M\n",
      "created folder for Nidorino\n",
      "created folder for Nidoking\n",
      "created folder for Clefairy\n",
      "created folder for Clefable\n",
      "created folder for Vulpix\n",
      "created folder for Ninetales\n",
      "created folder for Jigglypuff\n",
      "created folder for Wigglytuff\n",
      "created folder for Zubat\n",
      "created folder for Golbat\n",
      "created folder for Oddish\n",
      "created folder for Gloom\n",
      "created folder for Vileplume\n",
      "created folder for Paras\n",
      "created folder for Parasect\n",
      "created folder for Venonat\n",
      "created folder for Venomoth\n",
      "created folder for Diglett\n",
      "created folder for Dugtrio\n",
      "created folder for Meowth\n",
      "created folder for Persian\n",
      "created folder for Psyduck\n",
      "created folder for Golduck\n",
      "created folder for Mankey\n",
      "created folder for Primeape\n",
      "created folder for Growlithe\n",
      "created folder for Arcanine\n",
      "created folder for Poliwag\n",
      "created folder for Poliwhirl\n",
      "created folder for Poliwrath\n",
      "created folder for Abra\n",
      "created folder for Kadabra\n",
      "created folder for Alakazam\n",
      "created folder for Machop\n",
      "created folder for Machoke\n",
      "created folder for Machamp\n",
      "created folder for Bellsprout\n",
      "created folder for Weepinbell\n",
      "created folder for Victreebel\n",
      "created folder for Tentacool\n",
      "created folder for Tentacruel\n",
      "created folder for Geodude\n",
      "created folder for Graveler\n",
      "created folder for Golem\n",
      "created folder for Ponyta\n",
      "created folder for Rapidash\n",
      "created folder for Slowpoke\n",
      "created folder for Slowbro\n",
      "created folder for Magnemite\n",
      "created folder for Magneton\n",
      "created folder for Farfetch’d\n",
      "created folder for Doduo\n",
      "created folder for Dodrio\n",
      "created folder for Seel\n",
      "created folder for Dewgong\n",
      "created folder for Grimer\n",
      "created folder for Muk\n",
      "created folder for Shellder\n",
      "created folder for Cloyster\n",
      "created folder for Gastly\n",
      "created folder for Haunter\n",
      "created folder for Gengar\n",
      "created folder for Onix\n",
      "created folder for Drowzee\n",
      "created folder for Hypno\n",
      "created folder for Krabby\n",
      "created folder for Kingler\n",
      "created folder for Voltorb\n",
      "created folder for Electrode\n",
      "created folder for Exeggcute\n",
      "created folder for Exeggutor\n",
      "created folder for Cubone\n",
      "created folder for Marowak\n",
      "created folder for Hitmonlee\n",
      "created folder for Hitmonchan\n",
      "created folder for Lickitung\n",
      "created folder for Koffing\n",
      "created folder for Weezing\n",
      "created folder for Rhyhorn\n",
      "created folder for Rhydon\n",
      "created folder for Chansey\n",
      "created folder for Tangela\n",
      "created folder for Kangaskhan\n",
      "created folder for Horsea\n",
      "created folder for Seadra\n",
      "created folder for Goldeen\n",
      "created folder for Seaking\n",
      "created folder for Staryu\n",
      "created folder for Starmie\n",
      "created folder for Mr. Mime\n",
      "created folder for Scyther\n",
      "created folder for Jynx\n",
      "created folder for Electabuzz\n",
      "created folder for Magmar\n",
      "created folder for Pinsir\n",
      "created folder for Tauros\n",
      "created folder for Magikarp\n",
      "created folder for Gyarados\n",
      "created folder for Lapras\n",
      "created folder for Ditto\n",
      "created folder for Eevee\n",
      "created folder for Vaporeon\n",
      "created folder for Jolteon\n",
      "created folder for Flareon\n",
      "created folder for Porygon\n",
      "created folder for Omanyte\n",
      "created folder for Omastar\n",
      "created folder for Kabuto\n",
      "created folder for Kabutops\n",
      "created folder for Aerodactyl\n",
      "created folder for Snorlax\n",
      "created folder for Articuno\n",
      "created folder for Zapdos\n",
      "created folder for Moltres\n",
      "created folder for Dratini\n",
      "created folder for Dragonair\n",
      "created folder for Dragonite\n",
      "created folder for Mewtwo\n",
      "created folder for Mew\n",
      "created folder for Chikorita\n",
      "created folder for Bayleef\n",
      "created folder for Meganium\n",
      "created folder for Cyndaquil\n",
      "created folder for Quilava\n",
      "created folder for Typhlosion\n",
      "created folder for Totodile\n",
      "created folder for Croconaw\n",
      "created folder for Feraligatr\n",
      "created folder for Sentret\n",
      "created folder for Furret\n",
      "created folder for Hoothoot\n",
      "created folder for Noctowl\n",
      "created folder for Ledyba\n",
      "created folder for Ledian\n",
      "created folder for Spinarak\n",
      "created folder for Ariados\n",
      "created folder for Crobat\n",
      "created folder for Chinchou\n",
      "created folder for Lanturn\n",
      "created folder for Pichu\n",
      "created folder for Cleffa\n",
      "created folder for Igglybuff\n",
      "created folder for Togepi\n",
      "created folder for Togetic\n",
      "created folder for Natu\n",
      "created folder for Xatu\n",
      "created folder for Mareep\n",
      "created folder for Flaaffy\n",
      "created folder for Ampharos\n",
      "created folder for Bellossom\n",
      "created folder for Marill\n",
      "created folder for Azumarill\n",
      "created folder for Sudowoodo\n",
      "created folder for Politoed\n",
      "created folder for Hoppip\n",
      "created folder for Skiploom\n",
      "created folder for Jumpluff\n",
      "created folder for Aipom\n",
      "created folder for Sunkern\n",
      "created folder for Sunflora\n",
      "created folder for Yanma\n",
      "created folder for Wooper\n",
      "created folder for Quagsire\n",
      "created folder for Espeon\n",
      "created folder for Umbreon\n",
      "created folder for Murkrow\n",
      "created folder for Slowking\n",
      "created folder for Misdreavus\n",
      "created folder for Unown\n",
      "created folder for Wobbuffet\n",
      "created folder for Girafarig\n",
      "created folder for Pineco\n",
      "created folder for Forretress\n",
      "created folder for Dunsparce\n",
      "created folder for Gligar\n",
      "created folder for Steelix\n",
      "created folder for Snubbull\n",
      "created folder for Granbull\n",
      "created folder for Qwilfish\n",
      "created folder for Scizor\n",
      "created folder for Shuckle\n",
      "created folder for Heracross\n",
      "created folder for Sneasel\n",
      "created folder for Teddiursa\n",
      "created folder for Ursaring\n",
      "created folder for Slugma\n",
      "created folder for Magcargo\n",
      "created folder for Swinub\n",
      "created folder for Piloswine\n",
      "created folder for Corsola\n",
      "created folder for Remoraid\n",
      "created folder for Octillery\n",
      "created folder for Delibird\n",
      "created folder for Mantine\n",
      "created folder for Skarmory\n",
      "created folder for Houndour\n",
      "created folder for Houndoom\n",
      "created folder for Kingdra\n",
      "created folder for Phanpy\n",
      "created folder for Donphan\n",
      "created folder for Porygon2\n",
      "created folder for Stantler\n",
      "created folder for Smeargle\n",
      "created folder for Tyrogue\n",
      "created folder for Hitmontop\n",
      "created folder for Smoochum\n",
      "created folder for Elekid\n",
      "created folder for Magby\n",
      "created folder for Miltank\n",
      "created folder for Blissey\n",
      "created folder for Raikou\n",
      "created folder for Entei\n",
      "created folder for Suicune\n",
      "created folder for Larvitar\n",
      "created folder for Pupitar\n",
      "created folder for Tyranitar\n",
      "created folder for Lugia\n",
      "created folder for Ho-Oh\n",
      "created folder for Celebi\n",
      "created folder for Treecko\n",
      "created folder for Grovyle\n",
      "created folder for Sceptile\n",
      "created folder for Torchic\n",
      "created folder for Combusken\n",
      "created folder for Blaziken\n",
      "created folder for Mudkip\n",
      "created folder for Marshtomp\n",
      "created folder for Swampert\n",
      "created folder for Poochyena\n",
      "created folder for Mightyena\n",
      "created folder for Zigzagoon\n",
      "created folder for Linoone\n",
      "created folder for Wurmple\n",
      "created folder for Silcoon\n",
      "created folder for Beautifly\n",
      "created folder for Cascoon\n",
      "created folder for Dustox\n",
      "created folder for Lotad\n",
      "created folder for Lombre\n",
      "created folder for Ludicolo\n",
      "created folder for Seedot\n",
      "created folder for Nuzleaf\n",
      "created folder for Shiftry\n",
      "created folder for Taillow\n",
      "created folder for Swellow\n",
      "created folder for Wingull\n",
      "created folder for Pelipper\n",
      "created folder for Ralts\n",
      "created folder for Kirlia\n",
      "created folder for Gardevoir\n",
      "created folder for Surskit\n",
      "created folder for Masquerain\n",
      "created folder for Shroomish\n",
      "created folder for Breloom\n",
      "created folder for Slakoth\n",
      "created folder for Vigoroth\n",
      "created folder for Slaking\n",
      "created folder for Nincada\n",
      "created folder for Ninjask\n",
      "created folder for Shedinja\n",
      "created folder for Whismur\n",
      "created folder for Loudred\n",
      "created folder for Exploud\n",
      "created folder for Makuhita\n",
      "created folder for Hariyama\n",
      "created folder for Azurill\n",
      "created folder for Nosepass\n",
      "created folder for Skitty\n",
      "created folder for Delcatty\n",
      "created folder for Sableye\n",
      "created folder for Mawile\n",
      "created folder for Aron\n",
      "created folder for Lairon\n",
      "created folder for Aggron\n",
      "created folder for Meditite\n",
      "created folder for Medicham\n",
      "created folder for Electrike\n",
      "created folder for Manectric\n",
      "created folder for Plusle\n",
      "created folder for Minun\n",
      "created folder for Volbeat\n",
      "created folder for Illumise\n",
      "created folder for Roselia\n",
      "created folder for Gulpin\n",
      "created folder for Swalot\n",
      "created folder for Carvanha\n",
      "created folder for Sharpedo\n",
      "created folder for Wailmer\n",
      "created folder for Wailord\n",
      "created folder for Numel\n",
      "created folder for Camerupt\n",
      "created folder for Torkoal\n",
      "created folder for Spoink\n",
      "created folder for Grumpig\n",
      "created folder for Spinda\n",
      "created folder for Trapinch\n",
      "created folder for Vibrava\n",
      "created folder for Flygon\n",
      "created folder for Cacnea\n",
      "created folder for Cacturne\n",
      "created folder for Swablu\n",
      "created folder for Altaria\n",
      "created folder for Zangoose\n",
      "created folder for Seviper\n",
      "created folder for Lunatone\n",
      "created folder for Solrock\n",
      "created folder for Barboach\n",
      "created folder for Whiscash\n",
      "created folder for Corphish\n",
      "created folder for Crawdaunt\n",
      "created folder for Baltoy\n",
      "created folder for Claydol\n",
      "created folder for Lileep\n",
      "created folder for Cradily\n",
      "created folder for Anorith\n",
      "created folder for Armaldo\n",
      "created folder for Feebas\n",
      "created folder for Milotic\n",
      "created folder for Castform\n",
      "created folder for Kecleon\n",
      "created folder for Shuppet\n",
      "created folder for Banette\n",
      "created folder for Duskull\n",
      "created folder for Dusclops\n",
      "created folder for Tropius\n",
      "created folder for Chimecho\n",
      "created folder for Absol\n",
      "created folder for Wynaut\n",
      "created folder for Snorunt\n",
      "created folder for Glalie\n",
      "created folder for Spheal\n",
      "created folder for Sealeo\n",
      "created folder for Walrein\n",
      "created folder for Clamperl\n",
      "created folder for Huntail\n",
      "created folder for Gorebyss\n",
      "created folder for Relicanth\n",
      "created folder for Luvdisc\n",
      "created folder for Bagon\n",
      "created folder for Shelgon\n",
      "created folder for Salamence\n",
      "created folder for Beldum\n",
      "created folder for Metang\n",
      "created folder for Metagross\n",
      "created folder for Regirock\n",
      "created folder for Regice\n",
      "created folder for Registeel\n",
      "created folder for Latias\n",
      "created folder for Latios\n",
      "created folder for Kyogre\n",
      "created folder for Groudon\n",
      "created folder for Rayquaza\n",
      "created folder for Jirachi\n",
      "created folder for Deoxys\n",
      "created folder for Turtwig\n",
      "created folder for Grotle\n",
      "created folder for Torterra\n",
      "created folder for Chimchar\n",
      "created folder for Monferno\n",
      "created folder for Infernape\n",
      "created folder for Piplup\n",
      "created folder for Prinplup\n",
      "created folder for Empoleon\n",
      "created folder for Starly\n",
      "created folder for Staravia\n",
      "created folder for Staraptor\n",
      "created folder for Bidoof\n",
      "created folder for Bibarel\n",
      "created folder for Kricketot\n",
      "created folder for Kricketune\n",
      "created folder for Shinx\n",
      "created folder for Luxio\n",
      "created folder for Luxray\n",
      "created folder for Budew\n",
      "created folder for Roserade\n",
      "created folder for Cranidos\n",
      "created folder for Rampardos\n",
      "created folder for Shieldon\n",
      "created folder for Bastiodon\n",
      "created folder for Burmy\n",
      "created folder for Wormadam\n",
      "created folder for Mothim\n",
      "created folder for Combee\n",
      "created folder for Vespiquen\n",
      "created folder for Pachirisu\n",
      "created folder for Buizel\n",
      "created folder for Floatzel\n",
      "created folder for Cherubi\n",
      "created folder for Cherrim\n",
      "created folder for Shellos\n",
      "created folder for Gastrodon\n",
      "created folder for Ambipom\n",
      "created folder for Drifloon\n",
      "created folder for Drifblim\n",
      "created folder for Buneary\n",
      "created folder for Lopunny\n",
      "created folder for Mismagius\n",
      "created folder for Honchkrow\n",
      "created folder for Glameow\n",
      "created folder for Purugly\n",
      "created folder for Chingling\n",
      "created folder for Stunky\n",
      "created folder for Skuntank\n",
      "created folder for Bronzor\n",
      "created folder for Bronzong\n",
      "created folder for Bonsly\n",
      "created folder for Mime Jr.\n",
      "created folder for Happiny\n",
      "created folder for Chatot\n",
      "created folder for Spiritomb\n",
      "created folder for Gible\n",
      "created folder for Gabite\n",
      "created folder for Garchomp\n",
      "created folder for Munchlax\n",
      "created folder for Riolu\n",
      "created folder for Lucario\n",
      "created folder for Hippopotas\n",
      "created folder for Hippowdon\n",
      "created folder for Skorupi\n",
      "created folder for Drapion\n",
      "created folder for Croagunk\n",
      "created folder for Toxicroak\n",
      "created folder for Carnivine\n",
      "created folder for Finneon\n",
      "created folder for Lumineon\n",
      "created folder for Mantyke\n",
      "created folder for Snover\n",
      "created folder for Abomasnow\n",
      "created folder for Weavile\n",
      "created folder for Magnezone\n",
      "created folder for Lickilicky\n",
      "created folder for Rhyperior\n",
      "created folder for Tangrowth\n",
      "created folder for Electivire\n",
      "created folder for Magmortar\n",
      "created folder for Togekiss\n",
      "created folder for Yanmega\n",
      "created folder for Leafeon\n",
      "created folder for Glaceon\n",
      "created folder for Gliscor\n",
      "created folder for Mamoswine\n",
      "created folder for Porygon-Z\n",
      "created folder for Gallade\n",
      "created folder for Probopass\n",
      "created folder for Dusknoir\n",
      "created folder for Froslass\n",
      "created folder for Rotom\n",
      "created folder for Uxie\n",
      "created folder for Mesprit\n",
      "created folder for Azelf\n",
      "created folder for Dialga\n",
      "created folder for Palkia\n",
      "created folder for Heatran\n",
      "created folder for Regigigas\n",
      "created folder for Giratina\n",
      "created folder for Cresselia\n",
      "created folder for Phione\n",
      "created folder for Manaphy\n",
      "created folder for Darkrai\n",
      "created folder for Shaymin\n",
      "created folder for Arceus\n",
      "created folder for Victini\n",
      "created folder for Snivy\n",
      "created folder for Servine\n",
      "created folder for Serperior\n",
      "created folder for Tepig\n",
      "created folder for Pignite\n",
      "created folder for Emboar\n",
      "created folder for Oshawott\n",
      "created folder for Dewott\n",
      "created folder for Samurott\n",
      "created folder for Patrat\n",
      "created folder for Watchog\n",
      "created folder for Lillipup\n",
      "created folder for Herdier\n",
      "created folder for Stoutland\n",
      "created folder for Purrloin\n",
      "created folder for Liepard\n",
      "created folder for Pansage\n",
      "created folder for Simisage\n",
      "created folder for Pansear\n",
      "created folder for Simisear\n",
      "created folder for Panpour\n",
      "created folder for Simipour\n",
      "created folder for Munna\n",
      "created folder for Musharna\n",
      "created folder for Pidove\n",
      "created folder for Tranquill\n",
      "created folder for Unfezant\n",
      "created folder for Blitzle\n",
      "created folder for Zebstrika\n",
      "created folder for Roggenrola\n",
      "created folder for Boldore\n",
      "created folder for Gigalith\n",
      "created folder for Woobat\n",
      "created folder for Swoobat\n",
      "created folder for Drilbur\n",
      "created folder for Excadrill\n",
      "created folder for Audino\n",
      "created folder for Timburr\n",
      "created folder for Gurdurr\n",
      "created folder for Conkeldurr\n",
      "created folder for Tympole\n",
      "created folder for Palpitoad\n",
      "created folder for Seismitoad\n",
      "created folder for Throh\n",
      "created folder for Sawk\n",
      "created folder for Sewaddle\n",
      "created folder for Swadloon\n",
      "created folder for Leavanny\n",
      "created folder for Venipede\n",
      "created folder for Whirlipede\n",
      "created folder for Scolipede\n",
      "created folder for Cottonee\n",
      "created folder for Whimsicott\n",
      "created folder for Petilil\n",
      "created folder for Lilligant\n",
      "created folder for Basculin\n",
      "created folder for Sandile\n",
      "created folder for Krokorok\n",
      "created folder for Krookodile\n",
      "created folder for Darumaka\n",
      "created folder for Darmanitan\n",
      "created folder for Maractus\n",
      "created folder for Dwebble\n",
      "created folder for Crustle\n",
      "created folder for Scraggy\n",
      "created folder for Scrafty\n",
      "created folder for Sigilyph\n",
      "created folder for Yamask\n",
      "created folder for Cofagrigus\n",
      "created folder for Tirtouga\n",
      "created folder for Carracosta\n",
      "created folder for Archen\n",
      "created folder for Archeops\n",
      "created folder for Trubbish\n",
      "created folder for Garbodor\n",
      "created folder for Zorua\n",
      "created folder for Zoroark\n",
      "created folder for Minccino\n",
      "created folder for Cinccino\n",
      "created folder for Gothita\n",
      "created folder for Gothorita\n",
      "created folder for Gothitelle\n",
      "created folder for Solosis\n",
      "created folder for Duosion\n",
      "created folder for Reuniclus\n",
      "created folder for Ducklett\n",
      "created folder for Swanna\n",
      "created folder for Vanillite\n",
      "created folder for Vanillish\n",
      "created folder for Vanilluxe\n",
      "created folder for Deerling\n",
      "created folder for Sawsbuck\n",
      "created folder for Emolga\n",
      "created folder for Karrablast\n",
      "created folder for Escavalier\n",
      "created folder for Foongus\n",
      "created folder for Amoonguss\n",
      "created folder for Frillish\n",
      "created folder for Jellicent\n",
      "created folder for Alomomola\n",
      "created folder for Joltik\n",
      "created folder for Galvantula\n",
      "created folder for Ferroseed\n",
      "created folder for Ferrothorn\n",
      "created folder for Klink\n",
      "created folder for Klang\n",
      "created folder for Klinklang\n",
      "created folder for Tynamo\n",
      "created folder for Eelektrik\n",
      "created folder for Eelektross\n",
      "created folder for Elgyem\n",
      "created folder for Beheeyem\n",
      "created folder for Litwick\n",
      "created folder for Lampent\n",
      "created folder for Chandelure\n",
      "created folder for Axew\n",
      "created folder for Fraxure\n",
      "created folder for Haxorus\n",
      "created folder for Cubchoo\n",
      "created folder for Beartic\n",
      "created folder for Cryogonal\n",
      "created folder for Shelmet\n",
      "created folder for Accelgor\n",
      "created folder for Stunfisk\n",
      "created folder for Mienfoo\n",
      "created folder for Mienshao\n",
      "created folder for Druddigon\n",
      "created folder for Golett\n",
      "created folder for Golurk\n",
      "created folder for Pawniard\n",
      "created folder for Bisharp\n",
      "created folder for Bouffalant\n",
      "created folder for Rufflet\n",
      "created folder for Braviary\n",
      "created folder for Vullaby\n",
      "created folder for Mandibuzz\n",
      "created folder for Heatmor\n",
      "created folder for Durant\n",
      "created folder for Deino\n",
      "created folder for Zweilous\n",
      "created folder for Hydreigon\n",
      "created folder for Larvesta\n",
      "created folder for Volcarona\n",
      "created folder for Cobalion\n",
      "created folder for Terrakion\n",
      "created folder for Virizion\n",
      "created folder for Tornadus\n",
      "created folder for Thundurus\n",
      "created folder for Reshiram\n",
      "created folder for Zekrom\n",
      "created folder for Landorus\n",
      "created folder for Kyurem\n",
      "created folder for Keldeo\n",
      "created folder for Meloetta\n",
      "created folder for Genesect\n",
      "created folder for Chespin\n",
      "created folder for Quilladin\n",
      "created folder for Chesnaught\n",
      "created folder for Fennekin\n",
      "created folder for Braixen\n",
      "created folder for Delphox\n",
      "created folder for Froakie\n",
      "created folder for Frogadier\n",
      "created folder for Greninja\n",
      "created folder for Bunnelby\n",
      "created folder for Diggersby\n",
      "created folder for Fletchling\n",
      "created folder for Fletchinder\n",
      "created folder for Talonflame\n",
      "created folder for Scatterbug\n",
      "created folder for Spewpa\n",
      "created folder for Vivillon\n",
      "created folder for Litleo\n",
      "created folder for Pyroar\n",
      "created folder for Flabébé\n",
      "created folder for Floette\n",
      "created folder for Florges\n",
      "created folder for Skiddo\n",
      "created folder for Gogoat\n",
      "created folder for Pancham\n",
      "created folder for Pangoro\n",
      "created folder for Furfrou\n",
      "created folder for Espurr\n",
      "created folder for Meowstic\n",
      "created folder for Honedge\n",
      "created folder for Doublade\n",
      "created folder for Aegislash\n",
      "created folder for Spritzee\n",
      "created folder for Aromatisse\n",
      "created folder for Swirlix\n",
      "created folder for Slurpuff\n",
      "created folder for Inkay\n",
      "created folder for Malamar\n",
      "created folder for Binacle\n",
      "created folder for Barbaracle\n",
      "created folder for Skrelp\n",
      "created folder for Dragalge\n",
      "created folder for Clauncher\n",
      "created folder for Clawitzer\n",
      "created folder for Helioptile\n",
      "created folder for Heliolisk\n",
      "created folder for Tyrunt\n",
      "created folder for Tyrantrum\n",
      "created folder for Amaura\n",
      "created folder for Aurorus\n",
      "created folder for Sylveon\n",
      "created folder for Hawlucha\n",
      "created folder for Dedenne\n",
      "created folder for Carbink\n",
      "created folder for Goomy\n",
      "created folder for Sliggoo\n",
      "created folder for Goodra\n",
      "created folder for Klefki\n",
      "created folder for Phantump\n",
      "created folder for Trevenant\n",
      "created folder for Pumpkaboo\n",
      "created folder for Gourgeist\n",
      "created folder for Bergmite\n",
      "created folder for Avalugg\n",
      "created folder for Noibat\n",
      "created folder for Noivern\n",
      "created folder for Xerneas\n",
      "created folder for Yveltal\n",
      "created folder for Zygarde\n",
      "created folder for Diancie\n",
      "created folder for Hoopa\n",
      "created folder for Volcanion\n",
      "created folder for Rowlet\n",
      "created folder for Dartrix\n",
      "created folder for Decidueye\n",
      "created folder for Litten\n",
      "created folder for Torracat\n",
      "created folder for Incineroar\n",
      "created folder for Popplio\n",
      "created folder for Brionne\n",
      "created folder for Primarina\n",
      "created folder for Pikipek\n",
      "created folder for Trumbeak\n",
      "created folder for Toucannon\n",
      "created folder for Yungoos\n",
      "created folder for Gumshoos\n",
      "created folder for Grubbin\n",
      "created folder for Charjabug\n",
      "created folder for Vikavolt\n",
      "created folder for Crabrawler\n",
      "created folder for Crabominable\n",
      "created folder for Oricorio\n",
      "created folder for Cutiefly\n",
      "created folder for Ribombee\n",
      "created folder for Rockruff\n",
      "created folder for Lycanroc\n",
      "created folder for Wishiwashi\n",
      "created folder for Mareanie\n",
      "created folder for Toxapex\n",
      "created folder for Mudbray\n",
      "created folder for Mudsdale\n",
      "created folder for Dewpider\n",
      "created folder for Araquanid\n",
      "created folder for Fomantis\n",
      "created folder for Lurantis\n",
      "created folder for Morelull\n",
      "created folder for Shiinotic\n",
      "created folder for Salandit\n",
      "created folder for Salazzle\n",
      "created folder for Stufful\n",
      "created folder for Bewear\n",
      "created folder for Bounsweet\n",
      "created folder for Steenee\n",
      "created folder for Tsareena\n",
      "created folder for Comfey\n",
      "created folder for Oranguru\n",
      "created folder for Passimian\n",
      "created folder for Wimpod\n",
      "created folder for Golisopod\n",
      "created folder for Sandygast\n",
      "created folder for Palossand\n",
      "created folder for Pyukumuku\n",
      "created folder for Type: Null\n",
      "created folder for Silvally\n",
      "created folder for Minior\n",
      "created folder for Komala\n",
      "created folder for Turtonator\n",
      "created folder for Togedemaru\n",
      "created folder for Mimikyu\n",
      "created folder for Bruxish\n",
      "created folder for Drampa\n",
      "created folder for Dhelmise\n",
      "created folder for Jangmo-o\n",
      "created folder for Hakamo-o\n",
      "created folder for Kommo-o\n",
      "created folder for Tapu Koko\n",
      "created folder for Tapu Lele\n",
      "created folder for Tapu Bulu\n",
      "created folder for Tapu Fini\n",
      "created folder for Cosmog\n",
      "created folder for Cosmoem\n",
      "created folder for Solgaleo\n",
      "created folder for Lunala\n",
      "created folder for Nihilego\n",
      "created folder for Buzzwole\n",
      "created folder for Pheromosa\n",
      "created folder for Xurkitree\n",
      "created folder for Celesteela\n",
      "created folder for Kartana\n",
      "created folder for Guzzlord\n",
      "created folder for Necrozma\n",
      "created folder for Magearna\n",
      "created folder for Marshadow\n",
      "created folder for Poipole\n",
      "created folder for Naganadel\n",
      "created folder for Stakataka\n",
      "created folder for Blacephalon\n",
      "created folder for Zeraora\n",
      "created folder for Meltan\n",
      "created folder for Melmetal\n",
      "created folder for Grookey\n",
      "created folder for Thwackey\n",
      "created folder for Rillaboom\n",
      "created folder for Scorbunny\n",
      "created folder for Raboot\n",
      "created folder for Cinderace\n",
      "created folder for Sobble\n",
      "created folder for Drizzile\n",
      "created folder for Inteleon\n",
      "created folder for Skwovet\n",
      "created folder for Greedent\n",
      "created folder for Rookidee\n",
      "created folder for Corvisquire\n",
      "created folder for Corviknight\n",
      "created folder for Blipbug\n",
      "created folder for Dottler\n",
      "created folder for Orbeetle\n",
      "created folder for Nickit\n",
      "created folder for Thievul\n",
      "created folder for Gossifleur\n",
      "created folder for Eldegoss\n",
      "created folder for Wooloo\n",
      "created folder for Dubwool\n",
      "created folder for Chewtle\n",
      "created folder for Drednaw\n",
      "created folder for Yamper\n",
      "created folder for Boltund\n",
      "created folder for Rolycoly\n",
      "created folder for Carkol\n",
      "created folder for Coalossal\n",
      "created folder for Applin\n",
      "created folder for Flapple\n",
      "created folder for Appletun\n",
      "created folder for Silicobra\n",
      "created folder for Sandaconda\n",
      "created folder for Cramorant\n",
      "created folder for Arrokuda\n",
      "created folder for Barraskewda\n",
      "created folder for Toxel\n",
      "created folder for Toxtricity\n",
      "created folder for Sizzlipede\n",
      "created folder for Centiskorch\n",
      "created folder for Clobbopus\n",
      "created folder for Grapploct\n",
      "created folder for Sinistea\n",
      "created folder for Polteageist\n",
      "created folder for Hatenna\n",
      "created folder for Hattrem\n",
      "created folder for Hatterene\n",
      "created folder for Impidimp\n",
      "created folder for Morgrem\n",
      "created folder for Grimmsnarl\n",
      "created folder for Obstagoon\n",
      "created folder for Perrserker\n",
      "created folder for Cursola\n",
      "created folder for Sirfetch’d\n",
      "created folder for Mr. Rime\n",
      "created folder for Runerigus\n",
      "created folder for Milcery\n",
      "created folder for Alcremie\n",
      "created folder for Falinks\n",
      "created folder for Pincurchin\n",
      "created folder for Snom\n",
      "created folder for Frosmoth\n",
      "created folder for Stonjourner\n",
      "created folder for Eiscue\n",
      "created folder for Indeedee\n",
      "created folder for Morpeko\n",
      "created folder for Cufant\n",
      "created folder for Copperajah\n",
      "created folder for Dracozolt\n",
      "created folder for Arctozolt\n",
      "created folder for Dracovish\n",
      "created folder for Arctovish\n",
      "created folder for Duraludon\n",
      "created folder for Dreepy\n",
      "created folder for Drakloak\n",
      "created folder for Dragapult\n",
      "created folder for Zacian\n",
      "created folder for Zamazenta\n",
      "created folder for Eternatus\n",
      "created folder for Kubfu\n",
      "created folder for Urshifu\n",
      "created folder for Zarude\n",
      "created folder for Regieleki\n",
      "created folder for Regidrago\n",
      "created folder for Glastrier\n",
      "created folder for Spectrier\n",
      "created folder for Calyrex\n",
      "created folder for Wyrdeer\n",
      "created folder for Kleavor\n",
      "created folder for Ursaluna\n",
      "created folder for Basculegion\n",
      "created folder for Sneasler\n",
      "created folder for Overqwil\n",
      "created folder for Enamorus\n",
      "created folder for Sprigatito\n",
      "created folder for Floragato\n",
      "created folder for Meowscarada\n",
      "created folder for Fuecoco\n",
      "created folder for Crocalor\n",
      "created folder for Skeledirge\n",
      "created folder for Quaxly\n",
      "created folder for Quaxwell\n",
      "created folder for Quaquaval\n",
      "created folder for Lechonk\n",
      "created folder for Oinkologne\n",
      "created folder for Tarountula\n",
      "created folder for Spidops\n",
      "created folder for Nymble\n",
      "created folder for Lokix\n",
      "created folder for Pawmi\n",
      "created folder for Pawmo\n",
      "created folder for Pawmot\n",
      "created folder for Tandemaus\n",
      "created folder for Maushold\n",
      "created folder for Fidough\n",
      "created folder for Dachsbun\n",
      "created folder for Smoliv\n",
      "created folder for Dolliv\n",
      "created folder for Arboliva\n",
      "created folder for Squawkabilly\n",
      "created folder for Nacli\n",
      "created folder for Naclstack\n",
      "created folder for Garganacl\n",
      "created folder for Charcadet\n",
      "created folder for Armarouge\n",
      "created folder for Ceruledge\n",
      "created folder for Tadbulb\n",
      "created folder for Bellibolt\n",
      "created folder for Wattrel\n",
      "created folder for Kilowattrel\n",
      "created folder for Maschiff\n",
      "created folder for Mabosstiff\n",
      "created folder for Shroodle\n",
      "created folder for Grafaiai\n",
      "created folder for Bramblin\n",
      "created folder for Brambleghast\n",
      "created folder for Toedscool\n",
      "created folder for Toedscruel\n",
      "created folder for Klawf\n",
      "created folder for Capsakid\n",
      "created folder for Scovillain\n",
      "created folder for Rellor\n",
      "created folder for Rabsca\n",
      "created folder for Flittle\n",
      "created folder for Espathra\n",
      "created folder for Tinkatink\n",
      "created folder for Tinkatuff\n",
      "created folder for Tinkaton\n",
      "created folder for Wiglett\n",
      "created folder for Wugtrio\n",
      "created folder for Bombirdier\n",
      "created folder for Finizen\n",
      "created folder for Palafin\n",
      "created folder for Varoom\n",
      "created folder for Revavroom\n",
      "created folder for Cyclizar\n",
      "created folder for Orthworm\n",
      "created folder for Glimmet\n",
      "created folder for Glimmora\n",
      "created folder for Greavard\n",
      "created folder for Houndstone\n",
      "created folder for Flamigo\n",
      "created folder for Cetoddle\n",
      "created folder for Cetitan\n",
      "created folder for Veluza\n",
      "created folder for Dondozo\n",
      "created folder for Tatsugiri\n",
      "created folder for Annihilape\n",
      "created folder for Clodsire\n",
      "created folder for Farigiraf\n",
      "created folder for Dudunsparce\n",
      "created folder for Kingambit\n",
      "created folder for Great Tusk\n",
      "created folder for Scream Tail\n",
      "created folder for Brute Bonnet\n",
      "created folder for Flutter Mane\n",
      "created folder for Slither Wing\n",
      "created folder for Sandy Shocks\n",
      "created folder for Iron Treads\n",
      "created folder for Iron Bundle\n",
      "created folder for Iron Hands\n",
      "created folder for Iron Jugulis\n",
      "created folder for Iron Moth\n",
      "created folder for Iron Thorns\n",
      "created folder for Frigibax\n",
      "created folder for Arctibax\n",
      "created folder for Baxcalibur\n",
      "created folder for Gimmighoul\n",
      "created folder for Gholdengo\n",
      "created folder for Wo-Chien\n",
      "created folder for Chien-Pao\n",
      "created folder for Ting-Lu\n",
      "created folder for Chi-Yu\n",
      "created folder for Roaring Moon\n",
      "created folder for Iron Valiant\n",
      "created folder for Koraidon\n",
      "created folder for Miraidon\n"
     ]
    }
   ],
   "source": [
    "for species in df[\"species\"]:\n",
    "    path = os.path.join(cwd, folder, species)\n",
    "    if os.path.exists(path):\n",
    "        continue\n",
    "    os.makedirs(path)\n",
    "    print(f\"created folder for {species}\")"
   ]
  },
  {
   "cell_type": "markdown",
   "id": "097f02df-f99c-4505-b02f-1bc0d637e22a",
   "metadata": {},
   "source": [
    "# query data from Smogon:"
   ]
  },
  {
   "cell_type": "code",
   "execution_count": 8,
   "id": "2328fdbe-a924-4efe-8e32-245af86e5c90",
   "metadata": {},
   "outputs": [],
   "source": [
    "ROOT_URL = \"https://www.smogon.com/dex/media/sprites\"\n",
    "\n",
    "gen_file_format_dict = {\n",
    "    \"rb\": \"png\",\n",
    "    \"c\": \"gif\",\n",
    "    \"rs\": \"png\",\n",
    "    \"dp\": \"png\",\n",
    "    \"bw\": \"gif\",\n",
    "    \"xy\": \"gif\"\n",
    "}\n",
    "\n",
    "def read_and_write_file(uri:str, path:str) -> None:\n",
    "\n",
    "    response = requests.get(uri)\n",
    "    if response.status_code != 200:\n",
    "        print(f\"did not find {uri}: {response.reason}\")\n",
    "        return None\n",
    "        \n",
    "    with open(path, 'wb') as f:\n",
    "        f.write(response.content)"
   ]
  },
  {
   "cell_type": "code",
   "execution_count": 9,
   "id": "000d4474-c65a-4e6a-8c35-8308e93cf51c",
   "metadata": {},
   "outputs": [
    {
     "name": "stderr",
     "output_type": "stream",
     "text": [
      "  0%|                                                                                        | 0/1300 [00:00<?, ?it/s]"
     ]
    },
    {
     "name": "stdout",
     "output_type": "stream",
     "text": [
      "bulbasaur Bulbasaur\r"
     ]
    },
    {
     "name": "stderr",
     "output_type": "stream",
     "text": [
      "  0%|                                                                              | 1/1300 [00:03<1:23:47,  3.87s/it]"
     ]
    },
    {
     "name": "stdout",
     "output_type": "stream",
     "text": [
      "ivysaur Ivysaur\r"
     ]
    },
    {
     "name": "stderr",
     "output_type": "stream",
     "text": [
      "  0%|                                                                              | 2/1300 [00:08<1:27:31,  4.05s/it]"
     ]
    },
    {
     "name": "stdout",
     "output_type": "stream",
     "text": [
      "venusaur Venusaur\r"
     ]
    },
    {
     "name": "stderr",
     "output_type": "stream",
     "text": [
      "  0%|▏                                                                             | 3/1300 [00:12<1:30:53,  4.20s/it]"
     ]
    },
    {
     "name": "stdout",
     "output_type": "stream",
     "text": [
      "did not find https://www.smogon.com/dex/media/sprites/rb/venusaur-mega.png: Not Found\n",
      "did not find https://www.smogon.com/dex/media/sprites/c/venusaur-mega.gif: Not Found\n",
      "did not find https://www.smogon.com/dex/media/sprites/rs/venusaur-mega.png: Not Found\n",
      "did not find https://www.smogon.com/dex/media/sprites/dp/venusaur-mega.png: Not Found\n",
      "did not find https://www.smogon.com/dex/media/sprites/bw/venusaur-mega.gif: Not Found\n"
     ]
    },
    {
     "name": "stderr",
     "output_type": "stream",
     "text": [
      "  0%|▏                                                                             | 4/1300 [00:16<1:30:04,  4.17s/it]"
     ]
    },
    {
     "name": "stdout",
     "output_type": "stream",
     "text": [
      "did not find https://www.smogon.com/dex/media/sprites/rb/venusaur-gmax.png: Not Found\n",
      "did not find https://www.smogon.com/dex/media/sprites/c/venusaur-gmax.gif: Not Found\n",
      "did not find https://www.smogon.com/dex/media/sprites/rs/venusaur-gmax.png: Not Found\n",
      "did not find https://www.smogon.com/dex/media/sprites/dp/venusaur-gmax.png: Not Found\n",
      "did not find https://www.smogon.com/dex/media/sprites/bw/venusaur-gmax.gif: Not Found\n"
     ]
    },
    {
     "name": "stderr",
     "output_type": "stream",
     "text": [
      "  0%|▎                                                                             | 5/1300 [00:20<1:26:02,  3.99s/it]"
     ]
    },
    {
     "name": "stdout",
     "output_type": "stream",
     "text": [
      "did not find https://www.smogon.com/dex/media/sprites/xy/venusaur-gmax.gif: Not Found\n",
      "charmander Charmander\r"
     ]
    },
    {
     "name": "stderr",
     "output_type": "stream",
     "text": [
      "  0%|▎                                                                             | 6/1300 [00:24<1:25:49,  3.98s/it]"
     ]
    },
    {
     "name": "stdout",
     "output_type": "stream",
     "text": [
      "charmeleon Charmeleon\r"
     ]
    },
    {
     "name": "stderr",
     "output_type": "stream",
     "text": [
      "  1%|▍                                                                             | 7/1300 [00:28<1:25:52,  3.98s/it]"
     ]
    },
    {
     "name": "stdout",
     "output_type": "stream",
     "text": [
      "charizard Charizard\r"
     ]
    },
    {
     "name": "stderr",
     "output_type": "stream",
     "text": [
      "  1%|▍                                                                             | 8/1300 [00:32<1:26:52,  4.03s/it]"
     ]
    },
    {
     "name": "stdout",
     "output_type": "stream",
     "text": [
      "did not find https://www.smogon.com/dex/media/sprites/rb/charizard-mega-x.png: Not Found\n",
      "did not find https://www.smogon.com/dex/media/sprites/c/charizard-mega-x.gif: Not Found\n",
      "did not find https://www.smogon.com/dex/media/sprites/rs/charizard-mega-x.png: Not Found\n",
      "did not find https://www.smogon.com/dex/media/sprites/dp/charizard-mega-x.png: Not Found\n",
      "did not find https://www.smogon.com/dex/media/sprites/bw/charizard-mega-x.gif: Not Found\n"
     ]
    },
    {
     "name": "stderr",
     "output_type": "stream",
     "text": [
      "  1%|▌                                                                             | 9/1300 [00:36<1:26:01,  4.00s/it]"
     ]
    },
    {
     "name": "stdout",
     "output_type": "stream",
     "text": [
      "did not find https://www.smogon.com/dex/media/sprites/rb/charizard-mega-y.png: Not Found\n",
      "did not find https://www.smogon.com/dex/media/sprites/c/charizard-mega-y.gif: Not Found\n",
      "did not find https://www.smogon.com/dex/media/sprites/rs/charizard-mega-y.png: Not Found\n",
      "did not find https://www.smogon.com/dex/media/sprites/dp/charizard-mega-y.png: Not Found\n",
      "did not find https://www.smogon.com/dex/media/sprites/bw/charizard-mega-y.gif: Not Found\n"
     ]
    },
    {
     "name": "stderr",
     "output_type": "stream",
     "text": [
      "  1%|▌                                                                            | 10/1300 [00:40<1:25:58,  4.00s/it]"
     ]
    },
    {
     "name": "stdout",
     "output_type": "stream",
     "text": [
      "did not find https://www.smogon.com/dex/media/sprites/rb/charizard-gmax.png: Not Found\n",
      "did not find https://www.smogon.com/dex/media/sprites/c/charizard-gmax.gif: Not Found\n",
      "did not find https://www.smogon.com/dex/media/sprites/rs/charizard-gmax.png: Not Found\n",
      "did not find https://www.smogon.com/dex/media/sprites/dp/charizard-gmax.png: Not Found\n",
      "did not find https://www.smogon.com/dex/media/sprites/bw/charizard-gmax.gif: Not Found\n"
     ]
    },
    {
     "name": "stderr",
     "output_type": "stream",
     "text": [
      "  1%|▋                                                                            | 11/1300 [00:44<1:27:29,  4.07s/it]"
     ]
    },
    {
     "name": "stdout",
     "output_type": "stream",
     "text": [
      "squirtle Squirtle\r"
     ]
    },
    {
     "name": "stderr",
     "output_type": "stream",
     "text": [
      "  1%|▋                                                                            | 12/1300 [00:48<1:25:55,  4.00s/it]"
     ]
    },
    {
     "name": "stdout",
     "output_type": "stream",
     "text": [
      "wartortle Wartortle\r"
     ]
    },
    {
     "name": "stderr",
     "output_type": "stream",
     "text": [
      "  1%|▊                                                                            | 13/1300 [00:52<1:25:33,  3.99s/it]"
     ]
    },
    {
     "name": "stdout",
     "output_type": "stream",
     "text": [
      "blastoise Blastoise\r"
     ]
    },
    {
     "name": "stderr",
     "output_type": "stream",
     "text": [
      "  1%|▊                                                                            | 14/1300 [00:56<1:27:17,  4.07s/it]"
     ]
    },
    {
     "name": "stdout",
     "output_type": "stream",
     "text": [
      "did not find https://www.smogon.com/dex/media/sprites/rb/blastoise-mega.png: Not Found\n",
      "did not find https://www.smogon.com/dex/media/sprites/c/blastoise-mega.gif: Not Found\n",
      "did not find https://www.smogon.com/dex/media/sprites/rs/blastoise-mega.png: Not Found\n",
      "did not find https://www.smogon.com/dex/media/sprites/dp/blastoise-mega.png: Not Found\n",
      "did not find https://www.smogon.com/dex/media/sprites/bw/blastoise-mega.gif: Not Found\n"
     ]
    },
    {
     "name": "stderr",
     "output_type": "stream",
     "text": [
      "  1%|▉                                                                            | 15/1300 [01:00<1:26:32,  4.04s/it]"
     ]
    },
    {
     "name": "stdout",
     "output_type": "stream",
     "text": [
      "did not find https://www.smogon.com/dex/media/sprites/rb/blastoise-gmax.png: Not Found\n",
      "did not find https://www.smogon.com/dex/media/sprites/c/blastoise-gmax.gif: Not Found\n",
      "did not find https://www.smogon.com/dex/media/sprites/rs/blastoise-gmax.png: Not Found\n",
      "did not find https://www.smogon.com/dex/media/sprites/dp/blastoise-gmax.png: Not Found\n",
      "did not find https://www.smogon.com/dex/media/sprites/bw/blastoise-gmax.gif: Not Found\n"
     ]
    },
    {
     "name": "stderr",
     "output_type": "stream",
     "text": [
      "  1%|▉                                                                            | 16/1300 [01:04<1:24:05,  3.93s/it]"
     ]
    },
    {
     "name": "stdout",
     "output_type": "stream",
     "text": [
      "did not find https://www.smogon.com/dex/media/sprites/xy/blastoise-gmax.gif: Not Found\n",
      "caterpie Caterpie\r"
     ]
    },
    {
     "name": "stderr",
     "output_type": "stream",
     "text": [
      "  1%|█                                                                            | 17/1300 [01:08<1:24:00,  3.93s/it]"
     ]
    },
    {
     "name": "stdout",
     "output_type": "stream",
     "text": [
      "metapod Metapod\r"
     ]
    },
    {
     "name": "stderr",
     "output_type": "stream",
     "text": [
      "  1%|█                                                                            | 18/1300 [01:12<1:23:56,  3.93s/it]"
     ]
    },
    {
     "name": "stdout",
     "output_type": "stream",
     "text": [
      "butterfree Butterfree\r"
     ]
    },
    {
     "name": "stderr",
     "output_type": "stream",
     "text": [
      "  1%|█▏                                                                           | 19/1300 [01:16<1:24:51,  3.97s/it]"
     ]
    },
    {
     "name": "stdout",
     "output_type": "stream",
     "text": [
      "did not find https://www.smogon.com/dex/media/sprites/rb/butterfree-gmax.png: Not Found\n",
      "did not find https://www.smogon.com/dex/media/sprites/c/butterfree-gmax.gif: Not Found\n",
      "did not find https://www.smogon.com/dex/media/sprites/rs/butterfree-gmax.png: Not Found\n",
      "did not find https://www.smogon.com/dex/media/sprites/dp/butterfree-gmax.png: Not Found\n",
      "did not find https://www.smogon.com/dex/media/sprites/bw/butterfree-gmax.gif: Not Found\n"
     ]
    },
    {
     "name": "stderr",
     "output_type": "stream",
     "text": [
      "  2%|█▏                                                                           | 20/1300 [01:20<1:25:37,  4.01s/it]"
     ]
    },
    {
     "name": "stdout",
     "output_type": "stream",
     "text": [
      "weedle Weedle\r"
     ]
    },
    {
     "name": "stderr",
     "output_type": "stream",
     "text": [
      "  2%|█▏                                                                           | 21/1300 [01:24<1:25:10,  4.00s/it]"
     ]
    },
    {
     "name": "stdout",
     "output_type": "stream",
     "text": [
      "kakuna Kakuna\r"
     ]
    },
    {
     "name": "stderr",
     "output_type": "stream",
     "text": [
      "  2%|█▎                                                                           | 22/1300 [01:28<1:24:50,  3.98s/it]"
     ]
    },
    {
     "name": "stdout",
     "output_type": "stream",
     "text": [
      "beedrill Beedrill\r"
     ]
    },
    {
     "name": "stderr",
     "output_type": "stream",
     "text": [
      "  2%|█▎                                                                           | 23/1300 [01:32<1:26:30,  4.06s/it]"
     ]
    },
    {
     "name": "stdout",
     "output_type": "stream",
     "text": [
      "did not find https://www.smogon.com/dex/media/sprites/rb/beedrill-mega.png: Not Found\n",
      "did not find https://www.smogon.com/dex/media/sprites/c/beedrill-mega.gif: Not Found\n",
      "did not find https://www.smogon.com/dex/media/sprites/rs/beedrill-mega.png: Not Found\n",
      "did not find https://www.smogon.com/dex/media/sprites/dp/beedrill-mega.png: Not Found\n",
      "did not find https://www.smogon.com/dex/media/sprites/bw/beedrill-mega.gif: Not Found\n"
     ]
    },
    {
     "name": "stderr",
     "output_type": "stream",
     "text": [
      "  2%|█▍                                                                           | 24/1300 [01:36<1:24:56,  3.99s/it]"
     ]
    },
    {
     "name": "stdout",
     "output_type": "stream",
     "text": [
      "pidgey Pidgey\r"
     ]
    },
    {
     "name": "stderr",
     "output_type": "stream",
     "text": [
      "  2%|█▍                                                                           | 25/1300 [01:39<1:23:26,  3.93s/it]"
     ]
    },
    {
     "name": "stdout",
     "output_type": "stream",
     "text": [
      "pidgeotto Pidgeotto\r"
     ]
    },
    {
     "name": "stderr",
     "output_type": "stream",
     "text": [
      "  2%|█▌                                                                           | 26/1300 [01:43<1:23:26,  3.93s/it]"
     ]
    },
    {
     "name": "stdout",
     "output_type": "stream",
     "text": [
      "pidgeot Pidgeot\r"
     ]
    },
    {
     "name": "stderr",
     "output_type": "stream",
     "text": [
      "  2%|█▌                                                                           | 27/1300 [01:47<1:23:52,  3.95s/it]"
     ]
    },
    {
     "name": "stdout",
     "output_type": "stream",
     "text": [
      "did not find https://www.smogon.com/dex/media/sprites/rb/pidgeot-mega.png: Not Found\n",
      "did not find https://www.smogon.com/dex/media/sprites/c/pidgeot-mega.gif: Not Found\n",
      "did not find https://www.smogon.com/dex/media/sprites/rs/pidgeot-mega.png: Not Found\n",
      "did not find https://www.smogon.com/dex/media/sprites/dp/pidgeot-mega.png: Not Found\n",
      "did not find https://www.smogon.com/dex/media/sprites/bw/pidgeot-mega.gif: Not Found\n"
     ]
    },
    {
     "name": "stderr",
     "output_type": "stream",
     "text": [
      "  2%|█▋                                                                           | 28/1300 [01:51<1:23:49,  3.95s/it]"
     ]
    },
    {
     "name": "stdout",
     "output_type": "stream",
     "text": [
      "rattata Rattata\r"
     ]
    },
    {
     "name": "stderr",
     "output_type": "stream",
     "text": [
      "  2%|█▋                                                                           | 29/1300 [01:55<1:23:52,  3.96s/it]"
     ]
    },
    {
     "name": "stdout",
     "output_type": "stream",
     "text": [
      "did not find https://www.smogon.com/dex/media/sprites/rb/rattata-alola.png: Not Found\n",
      "did not find https://www.smogon.com/dex/media/sprites/c/rattata-alola.gif: Not Found\n",
      "did not find https://www.smogon.com/dex/media/sprites/rs/rattata-alola.png: Not Found\n",
      "did not find https://www.smogon.com/dex/media/sprites/dp/rattata-alola.png: Not Found\n",
      "did not find https://www.smogon.com/dex/media/sprites/bw/rattata-alola.gif: Not Found\n"
     ]
    },
    {
     "name": "stderr",
     "output_type": "stream",
     "text": [
      "  2%|█▊                                                                           | 30/1300 [01:59<1:22:48,  3.91s/it]"
     ]
    },
    {
     "name": "stdout",
     "output_type": "stream",
     "text": [
      "raticate Raticate\r"
     ]
    },
    {
     "name": "stderr",
     "output_type": "stream",
     "text": [
      "  2%|█▊                                                                           | 31/1300 [02:03<1:24:59,  4.02s/it]"
     ]
    },
    {
     "name": "stdout",
     "output_type": "stream",
     "text": [
      "did not find https://www.smogon.com/dex/media/sprites/rb/raticate-alola.png: Not Found\n",
      "did not find https://www.smogon.com/dex/media/sprites/c/raticate-alola.gif: Not Found\n",
      "did not find https://www.smogon.com/dex/media/sprites/rs/raticate-alola.png: Not Found\n",
      "did not find https://www.smogon.com/dex/media/sprites/dp/raticate-alola.png: Not Found\n",
      "did not find https://www.smogon.com/dex/media/sprites/bw/raticate-alola.gif: Not Found\n"
     ]
    },
    {
     "name": "stderr",
     "output_type": "stream",
     "text": [
      "  2%|█▉                                                                           | 32/1300 [02:07<1:23:47,  3.96s/it]"
     ]
    },
    {
     "name": "stdout",
     "output_type": "stream",
     "text": [
      "did not find https://www.smogon.com/dex/media/sprites/rb/raticate-alola-totem.png: Not Found\n",
      "did not find https://www.smogon.com/dex/media/sprites/c/raticate-alola-totem.gif: Not Found\n",
      "did not find https://www.smogon.com/dex/media/sprites/rs/raticate-alola-totem.png: Not Found\n",
      "did not find https://www.smogon.com/dex/media/sprites/dp/raticate-alola-totem.png: Not Found\n",
      "did not find https://www.smogon.com/dex/media/sprites/bw/raticate-alola-totem.gif: Not Found\n"
     ]
    },
    {
     "name": "stderr",
     "output_type": "stream",
     "text": [
      "  3%|█▉                                                                           | 33/1300 [02:11<1:24:18,  3.99s/it]"
     ]
    },
    {
     "name": "stdout",
     "output_type": "stream",
     "text": [
      "spearow Spearow\r"
     ]
    },
    {
     "name": "stderr",
     "output_type": "stream",
     "text": [
      "  3%|██                                                                           | 34/1300 [02:15<1:22:43,  3.92s/it]"
     ]
    },
    {
     "name": "stdout",
     "output_type": "stream",
     "text": [
      "fearow Fearow\r"
     ]
    },
    {
     "name": "stderr",
     "output_type": "stream",
     "text": [
      "  3%|██                                                                           | 35/1300 [02:19<1:23:46,  3.97s/it]"
     ]
    },
    {
     "name": "stdout",
     "output_type": "stream",
     "text": [
      "ekans Ekans\r"
     ]
    },
    {
     "name": "stderr",
     "output_type": "stream",
     "text": [
      "  3%|██▏                                                                          | 36/1300 [02:23<1:22:59,  3.94s/it]"
     ]
    },
    {
     "name": "stdout",
     "output_type": "stream",
     "text": [
      "arbok Arbok\r"
     ]
    },
    {
     "name": "stderr",
     "output_type": "stream",
     "text": [
      "  3%|██▏                                                                          | 37/1300 [02:27<1:24:23,  4.01s/it]"
     ]
    },
    {
     "name": "stdout",
     "output_type": "stream",
     "text": [
      "pikachu Pikachu\r"
     ]
    },
    {
     "name": "stderr",
     "output_type": "stream",
     "text": [
      "  3%|██▎                                                                          | 38/1300 [02:31<1:24:07,  4.00s/it]"
     ]
    },
    {
     "name": "stdout",
     "output_type": "stream",
     "text": [
      "did not find https://www.smogon.com/dex/media/sprites/rb/pikachu-cosplay.png: Not Found\n",
      "did not find https://www.smogon.com/dex/media/sprites/c/pikachu-cosplay.gif: Not Found\n",
      "did not find https://www.smogon.com/dex/media/sprites/rs/pikachu-cosplay.png: Not Found\n",
      "did not find https://www.smogon.com/dex/media/sprites/dp/pikachu-cosplay.png: Not Found\n",
      "did not find https://www.smogon.com/dex/media/sprites/bw/pikachu-cosplay.gif: Not Found\n"
     ]
    },
    {
     "name": "stderr",
     "output_type": "stream",
     "text": [
      "  3%|██▎                                                                          | 39/1300 [02:35<1:23:25,  3.97s/it]"
     ]
    },
    {
     "name": "stdout",
     "output_type": "stream",
     "text": [
      "did not find https://www.smogon.com/dex/media/sprites/rb/pikachu-rock-star.png: Not Found\n",
      "did not find https://www.smogon.com/dex/media/sprites/c/pikachu-rock-star.gif: Not Found\n",
      "did not find https://www.smogon.com/dex/media/sprites/rs/pikachu-rock-star.png: Not Found\n",
      "did not find https://www.smogon.com/dex/media/sprites/dp/pikachu-rock-star.png: Not Found\n",
      "did not find https://www.smogon.com/dex/media/sprites/bw/pikachu-rock-star.gif: Not Found\n"
     ]
    },
    {
     "name": "stderr",
     "output_type": "stream",
     "text": [
      "  3%|██▎                                                                          | 40/1300 [02:39<1:22:57,  3.95s/it]"
     ]
    },
    {
     "name": "stdout",
     "output_type": "stream",
     "text": [
      "did not find https://www.smogon.com/dex/media/sprites/rb/pikachu-belle.png: Not Found\n",
      "did not find https://www.smogon.com/dex/media/sprites/c/pikachu-belle.gif: Not Found\n",
      "did not find https://www.smogon.com/dex/media/sprites/rs/pikachu-belle.png: Not Found\n",
      "did not find https://www.smogon.com/dex/media/sprites/dp/pikachu-belle.png: Not Found\n",
      "did not find https://www.smogon.com/dex/media/sprites/bw/pikachu-belle.gif: Not Found\n"
     ]
    },
    {
     "name": "stderr",
     "output_type": "stream",
     "text": [
      "  3%|██▍                                                                          | 41/1300 [02:43<1:22:35,  3.94s/it]"
     ]
    },
    {
     "name": "stdout",
     "output_type": "stream",
     "text": [
      "did not find https://www.smogon.com/dex/media/sprites/rb/pikachu-pop-star.png: Not Found\n",
      "did not find https://www.smogon.com/dex/media/sprites/c/pikachu-pop-star.gif: Not Found\n",
      "did not find https://www.smogon.com/dex/media/sprites/rs/pikachu-pop-star.png: Not Found\n",
      "did not find https://www.smogon.com/dex/media/sprites/dp/pikachu-pop-star.png: Not Found\n",
      "did not find https://www.smogon.com/dex/media/sprites/bw/pikachu-pop-star.gif: Not Found\n"
     ]
    },
    {
     "name": "stderr",
     "output_type": "stream",
     "text": [
      "  3%|██▍                                                                          | 42/1300 [02:47<1:21:40,  3.90s/it]"
     ]
    },
    {
     "name": "stdout",
     "output_type": "stream",
     "text": [
      "did not find https://www.smogon.com/dex/media/sprites/rb/pikachu-phd.png: Not Found\n",
      "did not find https://www.smogon.com/dex/media/sprites/c/pikachu-phd.gif: Not Found\n",
      "did not find https://www.smogon.com/dex/media/sprites/rs/pikachu-phd.png: Not Found\n",
      "did not find https://www.smogon.com/dex/media/sprites/dp/pikachu-phd.png: Not Found\n",
      "did not find https://www.smogon.com/dex/media/sprites/bw/pikachu-phd.gif: Not Found\n"
     ]
    },
    {
     "name": "stderr",
     "output_type": "stream",
     "text": [
      "  3%|██▌                                                                          | 43/1300 [02:51<1:21:23,  3.89s/it]"
     ]
    },
    {
     "name": "stdout",
     "output_type": "stream",
     "text": [
      "did not find https://www.smogon.com/dex/media/sprites/rb/pikachu-libre.png: Not Found\n",
      "did not find https://www.smogon.com/dex/media/sprites/c/pikachu-libre.gif: Not Found\n",
      "did not find https://www.smogon.com/dex/media/sprites/rs/pikachu-libre.png: Not Found\n",
      "did not find https://www.smogon.com/dex/media/sprites/dp/pikachu-libre.png: Not Found\n",
      "did not find https://www.smogon.com/dex/media/sprites/bw/pikachu-libre.gif: Not Found\n"
     ]
    },
    {
     "name": "stderr",
     "output_type": "stream",
     "text": [
      "  3%|██▌                                                                          | 44/1300 [02:54<1:20:55,  3.87s/it]"
     ]
    },
    {
     "name": "stdout",
     "output_type": "stream",
     "text": [
      "did not find https://www.smogon.com/dex/media/sprites/rb/pikachu-original.png: Not Found\n",
      "did not find https://www.smogon.com/dex/media/sprites/c/pikachu-original.gif: Not Found\n",
      "did not find https://www.smogon.com/dex/media/sprites/rs/pikachu-original.png: Not Found\n",
      "did not find https://www.smogon.com/dex/media/sprites/dp/pikachu-original.png: Not Found\n",
      "did not find https://www.smogon.com/dex/media/sprites/bw/pikachu-original.gif: Not Found\n"
     ]
    },
    {
     "name": "stderr",
     "output_type": "stream",
     "text": [
      "  3%|██▋                                                                          | 45/1300 [02:58<1:20:05,  3.83s/it]"
     ]
    },
    {
     "name": "stdout",
     "output_type": "stream",
     "text": [
      "did not find https://www.smogon.com/dex/media/sprites/rb/pikachu-hoenn.png: Not Found\n",
      "did not find https://www.smogon.com/dex/media/sprites/c/pikachu-hoenn.gif: Not Found\n",
      "did not find https://www.smogon.com/dex/media/sprites/rs/pikachu-hoenn.png: Not Found\n",
      "did not find https://www.smogon.com/dex/media/sprites/dp/pikachu-hoenn.png: Not Found\n",
      "did not find https://www.smogon.com/dex/media/sprites/bw/pikachu-hoenn.gif: Not Found\n"
     ]
    },
    {
     "name": "stderr",
     "output_type": "stream",
     "text": [
      "  4%|██▋                                                                          | 46/1300 [03:02<1:19:23,  3.80s/it]"
     ]
    },
    {
     "name": "stdout",
     "output_type": "stream",
     "text": [
      "did not find https://www.smogon.com/dex/media/sprites/rb/pikachu-sinnoh.png: Not Found\n",
      "did not find https://www.smogon.com/dex/media/sprites/c/pikachu-sinnoh.gif: Not Found\n",
      "did not find https://www.smogon.com/dex/media/sprites/rs/pikachu-sinnoh.png: Not Found\n",
      "did not find https://www.smogon.com/dex/media/sprites/dp/pikachu-sinnoh.png: Not Found\n",
      "did not find https://www.smogon.com/dex/media/sprites/bw/pikachu-sinnoh.gif: Not Found\n"
     ]
    },
    {
     "name": "stderr",
     "output_type": "stream",
     "text": [
      "  4%|██▊                                                                          | 47/1300 [03:06<1:19:03,  3.79s/it]"
     ]
    },
    {
     "name": "stdout",
     "output_type": "stream",
     "text": [
      "did not find https://www.smogon.com/dex/media/sprites/rb/pikachu-unova.png: Not Found\n",
      "did not find https://www.smogon.com/dex/media/sprites/c/pikachu-unova.gif: Not Found\n",
      "did not find https://www.smogon.com/dex/media/sprites/rs/pikachu-unova.png: Not Found\n",
      "did not find https://www.smogon.com/dex/media/sprites/dp/pikachu-unova.png: Not Found\n",
      "did not find https://www.smogon.com/dex/media/sprites/bw/pikachu-unova.gif: Not Found\n"
     ]
    },
    {
     "name": "stderr",
     "output_type": "stream",
     "text": [
      "  4%|██▊                                                                          | 48/1300 [03:09<1:18:52,  3.78s/it]"
     ]
    },
    {
     "name": "stdout",
     "output_type": "stream",
     "text": [
      "did not find https://www.smogon.com/dex/media/sprites/rb/pikachu-kalos.png: Not Found\n",
      "did not find https://www.smogon.com/dex/media/sprites/c/pikachu-kalos.gif: Not Found\n",
      "did not find https://www.smogon.com/dex/media/sprites/rs/pikachu-kalos.png: Not Found\n",
      "did not find https://www.smogon.com/dex/media/sprites/dp/pikachu-kalos.png: Not Found\n",
      "did not find https://www.smogon.com/dex/media/sprites/bw/pikachu-kalos.gif: Not Found\n"
     ]
    },
    {
     "name": "stderr",
     "output_type": "stream",
     "text": [
      "  4%|██▉                                                                          | 49/1300 [03:13<1:19:01,  3.79s/it]"
     ]
    },
    {
     "name": "stdout",
     "output_type": "stream",
     "text": [
      "did not find https://www.smogon.com/dex/media/sprites/rb/pikachu-alola.png: Not Found\n",
      "did not find https://www.smogon.com/dex/media/sprites/c/pikachu-alola.gif: Not Found\n",
      "did not find https://www.smogon.com/dex/media/sprites/rs/pikachu-alola.png: Not Found\n",
      "did not find https://www.smogon.com/dex/media/sprites/dp/pikachu-alola.png: Not Found\n",
      "did not find https://www.smogon.com/dex/media/sprites/bw/pikachu-alola.gif: Not Found\n"
     ]
    },
    {
     "name": "stderr",
     "output_type": "stream",
     "text": [
      "  4%|██▉                                                                          | 50/1300 [03:17<1:18:52,  3.79s/it]"
     ]
    },
    {
     "name": "stdout",
     "output_type": "stream",
     "text": [
      "did not find https://www.smogon.com/dex/media/sprites/rb/pikachu-partner.png: Not Found\n",
      "did not find https://www.smogon.com/dex/media/sprites/c/pikachu-partner.gif: Not Found\n",
      "did not find https://www.smogon.com/dex/media/sprites/rs/pikachu-partner.png: Not Found\n",
      "did not find https://www.smogon.com/dex/media/sprites/dp/pikachu-partner.png: Not Found\n",
      "did not find https://www.smogon.com/dex/media/sprites/bw/pikachu-partner.gif: Not Found\n"
     ]
    },
    {
     "name": "stderr",
     "output_type": "stream",
     "text": [
      "  4%|███                                                                          | 51/1300 [03:21<1:19:57,  3.84s/it]"
     ]
    },
    {
     "name": "stdout",
     "output_type": "stream",
     "text": [
      "did not find https://www.smogon.com/dex/media/sprites/rb/pikachu-starter.png: Not Found\n",
      "did not find https://www.smogon.com/dex/media/sprites/c/pikachu-starter.gif: Not Found\n",
      "did not find https://www.smogon.com/dex/media/sprites/rs/pikachu-starter.png: Not Found\n",
      "did not find https://www.smogon.com/dex/media/sprites/dp/pikachu-starter.png: Not Found\n",
      "did not find https://www.smogon.com/dex/media/sprites/bw/pikachu-starter.gif: Not Found\n"
     ]
    },
    {
     "name": "stderr",
     "output_type": "stream",
     "text": [
      "  4%|███                                                                          | 52/1300 [03:25<1:20:01,  3.85s/it]"
     ]
    },
    {
     "name": "stdout",
     "output_type": "stream",
     "text": [
      "did not find https://www.smogon.com/dex/media/sprites/rb/pikachu-gmax.png: Not Found\n",
      "did not find https://www.smogon.com/dex/media/sprites/c/pikachu-gmax.gif: Not Found\n",
      "did not find https://www.smogon.com/dex/media/sprites/rs/pikachu-gmax.png: Not Found\n",
      "did not find https://www.smogon.com/dex/media/sprites/dp/pikachu-gmax.png: Not Found\n",
      "did not find https://www.smogon.com/dex/media/sprites/bw/pikachu-gmax.gif: Not Found\n"
     ]
    },
    {
     "name": "stderr",
     "output_type": "stream",
     "text": [
      "  4%|███▏                                                                         | 53/1300 [03:29<1:21:40,  3.93s/it]"
     ]
    },
    {
     "name": "stdout",
     "output_type": "stream",
     "text": [
      "did not find https://www.smogon.com/dex/media/sprites/rb/pikachu-world.png: Not Found\n",
      "did not find https://www.smogon.com/dex/media/sprites/c/pikachu-world.gif: Not Found\n",
      "did not find https://www.smogon.com/dex/media/sprites/rs/pikachu-world.png: Not Found\n",
      "did not find https://www.smogon.com/dex/media/sprites/dp/pikachu-world.png: Not Found\n",
      "did not find https://www.smogon.com/dex/media/sprites/bw/pikachu-world.gif: Not Found\n"
     ]
    },
    {
     "name": "stderr",
     "output_type": "stream",
     "text": [
      "  4%|███▏                                                                         | 54/1300 [03:33<1:19:52,  3.85s/it]"
     ]
    },
    {
     "name": "stdout",
     "output_type": "stream",
     "text": [
      "did not find https://www.smogon.com/dex/media/sprites/xy/pikachu-world.gif: Not Found\n",
      "raichu Raichu\r"
     ]
    },
    {
     "name": "stderr",
     "output_type": "stream",
     "text": [
      "  4%|███▎                                                                         | 55/1300 [03:37<1:20:40,  3.89s/it]"
     ]
    },
    {
     "name": "stdout",
     "output_type": "stream",
     "text": [
      "did not find https://www.smogon.com/dex/media/sprites/rb/raichu-alola.png: Not Found\n",
      "did not find https://www.smogon.com/dex/media/sprites/c/raichu-alola.gif: Not Found\n",
      "did not find https://www.smogon.com/dex/media/sprites/rs/raichu-alola.png: Not Found\n",
      "did not find https://www.smogon.com/dex/media/sprites/dp/raichu-alola.png: Not Found\n",
      "did not find https://www.smogon.com/dex/media/sprites/bw/raichu-alola.gif: Not Found\n"
     ]
    },
    {
     "name": "stderr",
     "output_type": "stream",
     "text": [
      "  4%|███▎                                                                         | 56/1300 [03:40<1:20:34,  3.89s/it]"
     ]
    },
    {
     "name": "stdout",
     "output_type": "stream",
     "text": [
      "sandshrew Sandshrew\r"
     ]
    },
    {
     "name": "stderr",
     "output_type": "stream",
     "text": [
      "  4%|███▍                                                                         | 57/1300 [03:44<1:20:42,  3.90s/it]"
     ]
    },
    {
     "name": "stdout",
     "output_type": "stream",
     "text": [
      "did not find https://www.smogon.com/dex/media/sprites/rb/sandshrew-alola.png: Not Found\n",
      "did not find https://www.smogon.com/dex/media/sprites/c/sandshrew-alola.gif: Not Found\n",
      "did not find https://www.smogon.com/dex/media/sprites/rs/sandshrew-alola.png: Not Found\n",
      "did not find https://www.smogon.com/dex/media/sprites/dp/sandshrew-alola.png: Not Found\n",
      "did not find https://www.smogon.com/dex/media/sprites/bw/sandshrew-alola.gif: Not Found\n"
     ]
    },
    {
     "name": "stderr",
     "output_type": "stream",
     "text": [
      "  4%|███▍                                                                         | 58/1300 [03:48<1:19:44,  3.85s/it]"
     ]
    },
    {
     "name": "stdout",
     "output_type": "stream",
     "text": [
      "sandslash Sandslash\r"
     ]
    },
    {
     "name": "stderr",
     "output_type": "stream",
     "text": [
      "  5%|███▍                                                                         | 59/1300 [03:52<1:20:09,  3.88s/it]"
     ]
    },
    {
     "name": "stdout",
     "output_type": "stream",
     "text": [
      "did not find https://www.smogon.com/dex/media/sprites/rb/sandslash-alola.png: Not Found\n",
      "did not find https://www.smogon.com/dex/media/sprites/c/sandslash-alola.gif: Not Found\n",
      "did not find https://www.smogon.com/dex/media/sprites/rs/sandslash-alola.png: Not Found\n",
      "did not find https://www.smogon.com/dex/media/sprites/dp/sandslash-alola.png: Not Found\n",
      "did not find https://www.smogon.com/dex/media/sprites/bw/sandslash-alola.gif: Not Found\n"
     ]
    },
    {
     "name": "stderr",
     "output_type": "stream",
     "text": [
      "  5%|███▌                                                                         | 60/1300 [03:56<1:19:03,  3.83s/it]"
     ]
    },
    {
     "name": "stdout",
     "output_type": "stream",
     "text": [
      "nidoranf Nidoran-F\r"
     ]
    },
    {
     "name": "stderr",
     "output_type": "stream",
     "text": [
      "  5%|███▌                                                                         | 61/1300 [04:00<1:18:59,  3.83s/it]"
     ]
    },
    {
     "name": "stdout",
     "output_type": "stream",
     "text": [
      "nidorina Nidorina\r"
     ]
    },
    {
     "name": "stderr",
     "output_type": "stream",
     "text": [
      "  5%|███▋                                                                         | 62/1300 [04:03<1:18:48,  3.82s/it]"
     ]
    },
    {
     "name": "stdout",
     "output_type": "stream",
     "text": [
      "nidoqueen Nidoqueen\r"
     ]
    },
    {
     "name": "stderr",
     "output_type": "stream",
     "text": [
      "  5%|███▋                                                                         | 63/1300 [04:07<1:20:21,  3.90s/it]"
     ]
    },
    {
     "name": "stdout",
     "output_type": "stream",
     "text": [
      "nidoranm Nidoran-M\r"
     ]
    },
    {
     "name": "stderr",
     "output_type": "stream",
     "text": [
      "  5%|███▊                                                                         | 64/1300 [04:11<1:20:30,  3.91s/it]"
     ]
    },
    {
     "name": "stdout",
     "output_type": "stream",
     "text": [
      "nidorino Nidorino\r"
     ]
    },
    {
     "name": "stderr",
     "output_type": "stream",
     "text": [
      "  5%|███▊                                                                         | 65/1300 [04:15<1:20:51,  3.93s/it]"
     ]
    },
    {
     "name": "stdout",
     "output_type": "stream",
     "text": [
      "nidoking Nidoking\r"
     ]
    },
    {
     "name": "stderr",
     "output_type": "stream",
     "text": [
      "  5%|███▉                                                                         | 66/1300 [04:20<1:22:22,  4.00s/it]"
     ]
    },
    {
     "name": "stdout",
     "output_type": "stream",
     "text": [
      "clefairy Clefairy\r"
     ]
    },
    {
     "name": "stderr",
     "output_type": "stream",
     "text": [
      "  5%|███▉                                                                         | 67/1300 [04:23<1:21:27,  3.96s/it]"
     ]
    },
    {
     "name": "stdout",
     "output_type": "stream",
     "text": [
      "clefable Clefable\r"
     ]
    },
    {
     "name": "stderr",
     "output_type": "stream",
     "text": [
      "  5%|████                                                                         | 68/1300 [04:27<1:20:39,  3.93s/it]"
     ]
    },
    {
     "name": "stdout",
     "output_type": "stream",
     "text": [
      "vulpix Vulpix\r"
     ]
    },
    {
     "name": "stderr",
     "output_type": "stream",
     "text": [
      "  5%|████                                                                         | 69/1300 [04:31<1:20:45,  3.94s/it]"
     ]
    },
    {
     "name": "stdout",
     "output_type": "stream",
     "text": [
      "did not find https://www.smogon.com/dex/media/sprites/rb/vulpix-alola.png: Not Found\n",
      "did not find https://www.smogon.com/dex/media/sprites/c/vulpix-alola.gif: Not Found\n",
      "did not find https://www.smogon.com/dex/media/sprites/rs/vulpix-alola.png: Not Found\n",
      "did not find https://www.smogon.com/dex/media/sprites/dp/vulpix-alola.png: Not Found\n",
      "did not find https://www.smogon.com/dex/media/sprites/bw/vulpix-alola.gif: Not Found\n"
     ]
    },
    {
     "name": "stderr",
     "output_type": "stream",
     "text": [
      "  5%|████▏                                                                        | 70/1300 [04:35<1:19:30,  3.88s/it]"
     ]
    },
    {
     "name": "stdout",
     "output_type": "stream",
     "text": [
      "ninetales Ninetales\r"
     ]
    },
    {
     "name": "stderr",
     "output_type": "stream",
     "text": [
      "  5%|████▏                                                                        | 71/1300 [04:39<1:20:26,  3.93s/it]"
     ]
    },
    {
     "name": "stdout",
     "output_type": "stream",
     "text": [
      "did not find https://www.smogon.com/dex/media/sprites/rb/ninetales-alola.png: Not Found\n",
      "did not find https://www.smogon.com/dex/media/sprites/c/ninetales-alola.gif: Not Found\n",
      "did not find https://www.smogon.com/dex/media/sprites/rs/ninetales-alola.png: Not Found\n",
      "did not find https://www.smogon.com/dex/media/sprites/dp/ninetales-alola.png: Not Found\n",
      "did not find https://www.smogon.com/dex/media/sprites/bw/ninetales-alola.gif: Not Found\n"
     ]
    },
    {
     "name": "stderr",
     "output_type": "stream",
     "text": [
      "  6%|████▎                                                                        | 72/1300 [04:43<1:19:37,  3.89s/it]"
     ]
    },
    {
     "name": "stdout",
     "output_type": "stream",
     "text": [
      "jigglypuff Jigglypuff\r"
     ]
    },
    {
     "name": "stderr",
     "output_type": "stream",
     "text": [
      "  6%|████▎                                                                        | 73/1300 [04:47<1:18:49,  3.85s/it]"
     ]
    },
    {
     "name": "stdout",
     "output_type": "stream",
     "text": [
      "wigglytuff Wigglytuff\r"
     ]
    },
    {
     "name": "stderr",
     "output_type": "stream",
     "text": [
      "  6%|████▍                                                                        | 74/1300 [04:51<1:19:39,  3.90s/it]"
     ]
    },
    {
     "name": "stdout",
     "output_type": "stream",
     "text": [
      "zubat Zubat\r"
     ]
    },
    {
     "name": "stderr",
     "output_type": "stream",
     "text": [
      "  6%|████▍                                                                        | 75/1300 [04:54<1:19:34,  3.90s/it]"
     ]
    },
    {
     "name": "stdout",
     "output_type": "stream",
     "text": [
      "golbat Golbat\r"
     ]
    },
    {
     "name": "stderr",
     "output_type": "stream",
     "text": [
      "  6%|████▌                                                                        | 76/1300 [04:58<1:19:40,  3.91s/it]"
     ]
    },
    {
     "name": "stdout",
     "output_type": "stream",
     "text": [
      "oddish Oddish\r"
     ]
    },
    {
     "name": "stderr",
     "output_type": "stream",
     "text": [
      "  6%|████▌                                                                        | 77/1300 [05:02<1:19:39,  3.91s/it]"
     ]
    },
    {
     "name": "stdout",
     "output_type": "stream",
     "text": [
      "gloom Gloom\r"
     ]
    },
    {
     "name": "stderr",
     "output_type": "stream",
     "text": [
      "  6%|████▌                                                                        | 78/1300 [05:06<1:19:18,  3.89s/it]"
     ]
    },
    {
     "name": "stdout",
     "output_type": "stream",
     "text": [
      "vileplume Vileplume\r"
     ]
    },
    {
     "name": "stderr",
     "output_type": "stream",
     "text": [
      "  6%|████▋                                                                        | 79/1300 [05:10<1:19:04,  3.89s/it]"
     ]
    },
    {
     "name": "stdout",
     "output_type": "stream",
     "text": [
      "paras Paras\r"
     ]
    },
    {
     "name": "stderr",
     "output_type": "stream",
     "text": [
      "  6%|████▋                                                                        | 80/1300 [05:14<1:18:47,  3.88s/it]"
     ]
    },
    {
     "name": "stdout",
     "output_type": "stream",
     "text": [
      "parasect Parasect\r"
     ]
    },
    {
     "name": "stderr",
     "output_type": "stream",
     "text": [
      "  6%|████▊                                                                        | 81/1300 [05:18<1:19:56,  3.94s/it]"
     ]
    },
    {
     "name": "stdout",
     "output_type": "stream",
     "text": [
      "venonat Venonat\r"
     ]
    },
    {
     "name": "stderr",
     "output_type": "stream",
     "text": [
      "  6%|████▊                                                                        | 82/1300 [05:22<1:19:23,  3.91s/it]"
     ]
    },
    {
     "name": "stdout",
     "output_type": "stream",
     "text": [
      "venomoth Venomoth\r"
     ]
    },
    {
     "name": "stderr",
     "output_type": "stream",
     "text": [
      "  6%|████▉                                                                        | 83/1300 [05:26<1:19:31,  3.92s/it]"
     ]
    },
    {
     "name": "stdout",
     "output_type": "stream",
     "text": [
      "diglett Diglett\r"
     ]
    },
    {
     "name": "stderr",
     "output_type": "stream",
     "text": [
      "  6%|████▉                                                                        | 84/1300 [05:29<1:18:10,  3.86s/it]"
     ]
    },
    {
     "name": "stdout",
     "output_type": "stream",
     "text": [
      "did not find https://www.smogon.com/dex/media/sprites/rb/diglett-alola.png: Not Found\n",
      "did not find https://www.smogon.com/dex/media/sprites/c/diglett-alola.gif: Not Found\n",
      "did not find https://www.smogon.com/dex/media/sprites/rs/diglett-alola.png: Not Found\n",
      "did not find https://www.smogon.com/dex/media/sprites/dp/diglett-alola.png: Not Found\n",
      "did not find https://www.smogon.com/dex/media/sprites/bw/diglett-alola.gif: Not Found\n"
     ]
    },
    {
     "name": "stderr",
     "output_type": "stream",
     "text": [
      "  7%|█████                                                                        | 85/1300 [05:33<1:17:47,  3.84s/it]"
     ]
    },
    {
     "name": "stdout",
     "output_type": "stream",
     "text": [
      "dugtrio Dugtrio\r"
     ]
    },
    {
     "name": "stderr",
     "output_type": "stream",
     "text": [
      "  7%|█████                                                                        | 86/1300 [05:37<1:19:00,  3.91s/it]"
     ]
    },
    {
     "name": "stdout",
     "output_type": "stream",
     "text": [
      "did not find https://www.smogon.com/dex/media/sprites/rb/dugtrio-alola.png: Not Found\n",
      "did not find https://www.smogon.com/dex/media/sprites/c/dugtrio-alola.gif: Not Found\n",
      "did not find https://www.smogon.com/dex/media/sprites/rs/dugtrio-alola.png: Not Found\n",
      "did not find https://www.smogon.com/dex/media/sprites/dp/dugtrio-alola.png: Not Found\n",
      "did not find https://www.smogon.com/dex/media/sprites/bw/dugtrio-alola.gif: Not Found\n"
     ]
    },
    {
     "name": "stderr",
     "output_type": "stream",
     "text": [
      "  7%|█████▏                                                                       | 87/1300 [05:41<1:18:34,  3.89s/it]"
     ]
    },
    {
     "name": "stdout",
     "output_type": "stream",
     "text": [
      "meowth Meowth\r"
     ]
    },
    {
     "name": "stderr",
     "output_type": "stream",
     "text": [
      "  7%|█████▏                                                                       | 88/1300 [05:45<1:18:35,  3.89s/it]"
     ]
    },
    {
     "name": "stdout",
     "output_type": "stream",
     "text": [
      "did not find https://www.smogon.com/dex/media/sprites/rb/meowth-alola.png: Not Found\n",
      "did not find https://www.smogon.com/dex/media/sprites/c/meowth-alola.gif: Not Found\n",
      "did not find https://www.smogon.com/dex/media/sprites/rs/meowth-alola.png: Not Found\n",
      "did not find https://www.smogon.com/dex/media/sprites/dp/meowth-alola.png: Not Found\n",
      "did not find https://www.smogon.com/dex/media/sprites/bw/meowth-alola.gif: Not Found\n"
     ]
    },
    {
     "name": "stderr",
     "output_type": "stream",
     "text": [
      "  7%|█████▎                                                                       | 89/1300 [05:49<1:18:16,  3.88s/it]"
     ]
    },
    {
     "name": "stdout",
     "output_type": "stream",
     "text": [
      "did not find https://www.smogon.com/dex/media/sprites/rb/meowth-galar.png: Not Found\n",
      "did not find https://www.smogon.com/dex/media/sprites/c/meowth-galar.gif: Not Found\n",
      "did not find https://www.smogon.com/dex/media/sprites/rs/meowth-galar.png: Not Found\n",
      "did not find https://www.smogon.com/dex/media/sprites/dp/meowth-galar.png: Not Found\n",
      "did not find https://www.smogon.com/dex/media/sprites/bw/meowth-galar.gif: Not Found\n"
     ]
    },
    {
     "name": "stderr",
     "output_type": "stream",
     "text": [
      "  7%|█████▎                                                                       | 90/1300 [05:53<1:18:27,  3.89s/it]"
     ]
    },
    {
     "name": "stdout",
     "output_type": "stream",
     "text": [
      "did not find https://www.smogon.com/dex/media/sprites/rb/meowth-gmax.png: Not Found\n",
      "did not find https://www.smogon.com/dex/media/sprites/c/meowth-gmax.gif: Not Found\n",
      "did not find https://www.smogon.com/dex/media/sprites/rs/meowth-gmax.png: Not Found\n",
      "did not find https://www.smogon.com/dex/media/sprites/dp/meowth-gmax.png: Not Found\n",
      "did not find https://www.smogon.com/dex/media/sprites/bw/meowth-gmax.gif: Not Found\n"
     ]
    },
    {
     "name": "stderr",
     "output_type": "stream",
     "text": [
      "  7%|█████▍                                                                       | 91/1300 [05:57<1:19:48,  3.96s/it]"
     ]
    },
    {
     "name": "stdout",
     "output_type": "stream",
     "text": [
      "persian Persian\r"
     ]
    },
    {
     "name": "stderr",
     "output_type": "stream",
     "text": [
      "  7%|█████▍                                                                       | 92/1300 [06:01<1:20:27,  4.00s/it]"
     ]
    },
    {
     "name": "stdout",
     "output_type": "stream",
     "text": [
      "did not find https://www.smogon.com/dex/media/sprites/rb/persian-alola.png: Not Found\n",
      "did not find https://www.smogon.com/dex/media/sprites/c/persian-alola.gif: Not Found\n",
      "did not find https://www.smogon.com/dex/media/sprites/rs/persian-alola.png: Not Found\n",
      "did not find https://www.smogon.com/dex/media/sprites/dp/persian-alola.png: Not Found\n",
      "did not find https://www.smogon.com/dex/media/sprites/bw/persian-alola.gif: Not Found\n"
     ]
    },
    {
     "name": "stderr",
     "output_type": "stream",
     "text": [
      "  7%|█████▌                                                                       | 93/1300 [06:05<1:19:36,  3.96s/it]"
     ]
    },
    {
     "name": "stdout",
     "output_type": "stream",
     "text": [
      "psyduck Psyduck\r"
     ]
    },
    {
     "name": "stderr",
     "output_type": "stream",
     "text": [
      "  7%|█████▌                                                                       | 94/1300 [06:09<1:18:43,  3.92s/it]"
     ]
    },
    {
     "name": "stdout",
     "output_type": "stream",
     "text": [
      "golduck Golduck\r"
     ]
    },
    {
     "name": "stderr",
     "output_type": "stream",
     "text": [
      "  7%|█████▋                                                                       | 95/1300 [06:13<1:19:29,  3.96s/it]"
     ]
    },
    {
     "name": "stdout",
     "output_type": "stream",
     "text": [
      "mankey Mankey\r"
     ]
    },
    {
     "name": "stderr",
     "output_type": "stream",
     "text": [
      "  7%|█████▋                                                                       | 96/1300 [06:17<1:20:01,  3.99s/it]"
     ]
    },
    {
     "name": "stdout",
     "output_type": "stream",
     "text": [
      "primeape Primeape\r"
     ]
    },
    {
     "name": "stderr",
     "output_type": "stream",
     "text": [
      "  7%|█████▋                                                                       | 97/1300 [06:21<1:19:43,  3.98s/it]"
     ]
    },
    {
     "name": "stdout",
     "output_type": "stream",
     "text": [
      "growlithe Growlithe\r"
     ]
    },
    {
     "name": "stderr",
     "output_type": "stream",
     "text": [
      "  8%|█████▊                                                                       | 98/1300 [06:25<1:19:02,  3.95s/it]"
     ]
    },
    {
     "name": "stdout",
     "output_type": "stream",
     "text": [
      "did not find https://www.smogon.com/dex/media/sprites/rb/growlithe-hisui.png: Not Found\n",
      "did not find https://www.smogon.com/dex/media/sprites/c/growlithe-hisui.gif: Not Found\n",
      "did not find https://www.smogon.com/dex/media/sprites/rs/growlithe-hisui.png: Not Found\n",
      "did not find https://www.smogon.com/dex/media/sprites/dp/growlithe-hisui.png: Not Found\n",
      "did not find https://www.smogon.com/dex/media/sprites/bw/growlithe-hisui.gif: Not Found\n"
     ]
    },
    {
     "name": "stderr",
     "output_type": "stream",
     "text": [
      "  8%|█████▊                                                                       | 99/1300 [06:28<1:17:11,  3.86s/it]"
     ]
    },
    {
     "name": "stdout",
     "output_type": "stream",
     "text": [
      "arcanine Arcanine\r"
     ]
    },
    {
     "name": "stderr",
     "output_type": "stream",
     "text": [
      "  8%|█████▊                                                                      | 100/1300 [06:32<1:18:09,  3.91s/it]"
     ]
    },
    {
     "name": "stdout",
     "output_type": "stream",
     "text": [
      "did not find https://www.smogon.com/dex/media/sprites/rb/arcanine-hisui.png: Not Found\n",
      "did not find https://www.smogon.com/dex/media/sprites/c/arcanine-hisui.gif: Not Found\n",
      "did not find https://www.smogon.com/dex/media/sprites/rs/arcanine-hisui.png: Not Found\n",
      "did not find https://www.smogon.com/dex/media/sprites/dp/arcanine-hisui.png: Not Found\n",
      "did not find https://www.smogon.com/dex/media/sprites/bw/arcanine-hisui.gif: Not Found\n"
     ]
    },
    {
     "name": "stderr",
     "output_type": "stream",
     "text": [
      "  8%|█████▉                                                                      | 101/1300 [06:36<1:16:38,  3.84s/it]"
     ]
    },
    {
     "name": "stdout",
     "output_type": "stream",
     "text": [
      "poliwag Poliwag\r"
     ]
    },
    {
     "name": "stderr",
     "output_type": "stream",
     "text": [
      "  8%|█████▉                                                                      | 102/1300 [06:40<1:17:20,  3.87s/it]"
     ]
    },
    {
     "name": "stdout",
     "output_type": "stream",
     "text": [
      "poliwhirl Poliwhirl\r"
     ]
    },
    {
     "name": "stderr",
     "output_type": "stream",
     "text": [
      "  8%|██████                                                                      | 103/1300 [06:44<1:18:47,  3.95s/it]"
     ]
    },
    {
     "name": "stdout",
     "output_type": "stream",
     "text": [
      "poliwrath Poliwrath\r"
     ]
    },
    {
     "name": "stderr",
     "output_type": "stream",
     "text": [
      "  8%|██████                                                                      | 104/1300 [06:48<1:19:24,  3.98s/it]"
     ]
    },
    {
     "name": "stdout",
     "output_type": "stream",
     "text": [
      "abra Abra\r"
     ]
    },
    {
     "name": "stderr",
     "output_type": "stream",
     "text": [
      "  8%|██████▏                                                                     | 105/1300 [06:52<1:19:43,  4.00s/it]"
     ]
    },
    {
     "name": "stdout",
     "output_type": "stream",
     "text": [
      "kadabra Kadabra\r"
     ]
    },
    {
     "name": "stderr",
     "output_type": "stream",
     "text": [
      "  8%|██████▏                                                                     | 106/1300 [06:56<1:19:57,  4.02s/it]"
     ]
    },
    {
     "name": "stdout",
     "output_type": "stream",
     "text": [
      "alakazam Alakazam\r"
     ]
    },
    {
     "name": "stderr",
     "output_type": "stream",
     "text": [
      "  8%|██████▎                                                                     | 107/1300 [07:00<1:21:12,  4.08s/it]"
     ]
    },
    {
     "name": "stdout",
     "output_type": "stream",
     "text": [
      "did not find https://www.smogon.com/dex/media/sprites/rb/alakazam-mega.png: Not Found\n",
      "did not find https://www.smogon.com/dex/media/sprites/c/alakazam-mega.gif: Not Found\n",
      "did not find https://www.smogon.com/dex/media/sprites/rs/alakazam-mega.png: Not Found\n",
      "did not find https://www.smogon.com/dex/media/sprites/dp/alakazam-mega.png: Not Found\n",
      "did not find https://www.smogon.com/dex/media/sprites/bw/alakazam-mega.gif: Not Found\n"
     ]
    },
    {
     "name": "stderr",
     "output_type": "stream",
     "text": [
      "  8%|██████▎                                                                     | 108/1300 [07:04<1:20:25,  4.05s/it]"
     ]
    },
    {
     "name": "stdout",
     "output_type": "stream",
     "text": [
      "machop Machop\r"
     ]
    },
    {
     "name": "stderr",
     "output_type": "stream",
     "text": [
      "  8%|██████▎                                                                     | 109/1300 [07:08<1:19:37,  4.01s/it]"
     ]
    },
    {
     "name": "stdout",
     "output_type": "stream",
     "text": [
      "machoke Machoke\r"
     ]
    },
    {
     "name": "stderr",
     "output_type": "stream",
     "text": [
      "  8%|██████▍                                                                     | 110/1300 [07:12<1:19:10,  3.99s/it]"
     ]
    },
    {
     "name": "stdout",
     "output_type": "stream",
     "text": [
      "machamp Machamp\r"
     ]
    },
    {
     "name": "stderr",
     "output_type": "stream",
     "text": [
      "  9%|██████▍                                                                     | 111/1300 [07:17<1:20:39,  4.07s/it]"
     ]
    },
    {
     "name": "stdout",
     "output_type": "stream",
     "text": [
      "did not find https://www.smogon.com/dex/media/sprites/rb/machamp-gmax.png: Not Found\n",
      "did not find https://www.smogon.com/dex/media/sprites/c/machamp-gmax.gif: Not Found\n",
      "did not find https://www.smogon.com/dex/media/sprites/rs/machamp-gmax.png: Not Found\n",
      "did not find https://www.smogon.com/dex/media/sprites/dp/machamp-gmax.png: Not Found\n",
      "did not find https://www.smogon.com/dex/media/sprites/bw/machamp-gmax.gif: Not Found\n"
     ]
    },
    {
     "name": "stderr",
     "output_type": "stream",
     "text": [
      "  9%|██████▌                                                                     | 112/1300 [07:21<1:20:55,  4.09s/it]"
     ]
    },
    {
     "name": "stdout",
     "output_type": "stream",
     "text": [
      "bellsprout Bellsprout\r"
     ]
    },
    {
     "name": "stderr",
     "output_type": "stream",
     "text": [
      "  9%|██████▌                                                                     | 113/1300 [07:25<1:19:23,  4.01s/it]"
     ]
    },
    {
     "name": "stdout",
     "output_type": "stream",
     "text": [
      "weepinbell Weepinbell\r"
     ]
    },
    {
     "name": "stderr",
     "output_type": "stream",
     "text": [
      "  9%|██████▋                                                                     | 114/1300 [07:28<1:18:55,  3.99s/it]"
     ]
    },
    {
     "name": "stdout",
     "output_type": "stream",
     "text": [
      "victreebel Victreebel\r"
     ]
    },
    {
     "name": "stderr",
     "output_type": "stream",
     "text": [
      "  9%|██████▋                                                                     | 115/1300 [07:33<1:19:06,  4.01s/it]"
     ]
    },
    {
     "name": "stdout",
     "output_type": "stream",
     "text": [
      "tentacool Tentacool\r"
     ]
    },
    {
     "name": "stderr",
     "output_type": "stream",
     "text": [
      "  9%|██████▊                                                                     | 116/1300 [07:36<1:18:05,  3.96s/it]"
     ]
    },
    {
     "name": "stdout",
     "output_type": "stream",
     "text": [
      "tentacruel Tentacruel\r"
     ]
    },
    {
     "name": "stderr",
     "output_type": "stream",
     "text": [
      "  9%|██████▊                                                                     | 117/1300 [07:41<1:19:06,  4.01s/it]"
     ]
    },
    {
     "name": "stdout",
     "output_type": "stream",
     "text": [
      "geodude Geodude\r"
     ]
    },
    {
     "name": "stderr",
     "output_type": "stream",
     "text": [
      "  9%|██████▉                                                                     | 118/1300 [07:44<1:18:37,  3.99s/it]"
     ]
    },
    {
     "name": "stdout",
     "output_type": "stream",
     "text": [
      "did not find https://www.smogon.com/dex/media/sprites/rb/geodude-alola.png: Not Found\n",
      "did not find https://www.smogon.com/dex/media/sprites/c/geodude-alola.gif: Not Found\n",
      "did not find https://www.smogon.com/dex/media/sprites/rs/geodude-alola.png: Not Found\n",
      "did not find https://www.smogon.com/dex/media/sprites/dp/geodude-alola.png: Not Found\n",
      "did not find https://www.smogon.com/dex/media/sprites/bw/geodude-alola.gif: Not Found\n"
     ]
    },
    {
     "name": "stderr",
     "output_type": "stream",
     "text": [
      "  9%|██████▉                                                                     | 119/1300 [07:48<1:17:31,  3.94s/it]"
     ]
    },
    {
     "name": "stdout",
     "output_type": "stream",
     "text": [
      "graveler Graveler\r"
     ]
    },
    {
     "name": "stderr",
     "output_type": "stream",
     "text": [
      "  9%|███████                                                                     | 120/1300 [07:52<1:17:07,  3.92s/it]"
     ]
    },
    {
     "name": "stdout",
     "output_type": "stream",
     "text": [
      "did not find https://www.smogon.com/dex/media/sprites/rb/graveler-alola.png: Not Found\n",
      "did not find https://www.smogon.com/dex/media/sprites/c/graveler-alola.gif: Not Found\n",
      "did not find https://www.smogon.com/dex/media/sprites/rs/graveler-alola.png: Not Found\n",
      "did not find https://www.smogon.com/dex/media/sprites/dp/graveler-alola.png: Not Found\n",
      "did not find https://www.smogon.com/dex/media/sprites/bw/graveler-alola.gif: Not Found\n"
     ]
    },
    {
     "name": "stderr",
     "output_type": "stream",
     "text": [
      "  9%|███████                                                                     | 121/1300 [07:56<1:16:37,  3.90s/it]"
     ]
    },
    {
     "name": "stdout",
     "output_type": "stream",
     "text": [
      "golem Golem\r"
     ]
    },
    {
     "name": "stderr",
     "output_type": "stream",
     "text": [
      "  9%|███████▏                                                                    | 122/1300 [08:00<1:18:27,  4.00s/it]"
     ]
    },
    {
     "name": "stdout",
     "output_type": "stream",
     "text": [
      "did not find https://www.smogon.com/dex/media/sprites/rb/golem-alola.png: Not Found\n",
      "did not find https://www.smogon.com/dex/media/sprites/c/golem-alola.gif: Not Found\n",
      "did not find https://www.smogon.com/dex/media/sprites/rs/golem-alola.png: Not Found\n",
      "did not find https://www.smogon.com/dex/media/sprites/dp/golem-alola.png: Not Found\n",
      "did not find https://www.smogon.com/dex/media/sprites/bw/golem-alola.gif: Not Found\n"
     ]
    },
    {
     "name": "stderr",
     "output_type": "stream",
     "text": [
      "  9%|███████▏                                                                    | 123/1300 [08:04<1:18:47,  4.02s/it]"
     ]
    },
    {
     "name": "stdout",
     "output_type": "stream",
     "text": [
      "ponyta Ponyta\r"
     ]
    },
    {
     "name": "stderr",
     "output_type": "stream",
     "text": [
      " 10%|███████▏                                                                    | 124/1300 [08:09<1:20:13,  4.09s/it]"
     ]
    },
    {
     "name": "stdout",
     "output_type": "stream",
     "text": [
      "did not find https://www.smogon.com/dex/media/sprites/rb/ponyta-galar.png: Not Found\n",
      "did not find https://www.smogon.com/dex/media/sprites/c/ponyta-galar.gif: Not Found\n",
      "did not find https://www.smogon.com/dex/media/sprites/rs/ponyta-galar.png: Not Found\n",
      "did not find https://www.smogon.com/dex/media/sprites/dp/ponyta-galar.png: Not Found\n",
      "did not find https://www.smogon.com/dex/media/sprites/bw/ponyta-galar.gif: Not Found\n"
     ]
    },
    {
     "name": "stderr",
     "output_type": "stream",
     "text": [
      " 10%|███████▎                                                                    | 125/1300 [08:12<1:18:44,  4.02s/it]"
     ]
    },
    {
     "name": "stdout",
     "output_type": "stream",
     "text": [
      "rapidash Rapidash\r"
     ]
    },
    {
     "name": "stderr",
     "output_type": "stream",
     "text": [
      " 10%|███████▎                                                                    | 126/1300 [08:17<1:19:44,  4.08s/it]"
     ]
    },
    {
     "name": "stdout",
     "output_type": "stream",
     "text": [
      "did not find https://www.smogon.com/dex/media/sprites/rb/rapidash-galar.png: Not Found\n",
      "did not find https://www.smogon.com/dex/media/sprites/c/rapidash-galar.gif: Not Found\n",
      "did not find https://www.smogon.com/dex/media/sprites/rs/rapidash-galar.png: Not Found\n",
      "did not find https://www.smogon.com/dex/media/sprites/dp/rapidash-galar.png: Not Found\n",
      "did not find https://www.smogon.com/dex/media/sprites/bw/rapidash-galar.gif: Not Found\n"
     ]
    },
    {
     "name": "stderr",
     "output_type": "stream",
     "text": [
      " 10%|███████▍                                                                    | 127/1300 [08:21<1:19:54,  4.09s/it]"
     ]
    },
    {
     "name": "stdout",
     "output_type": "stream",
     "text": [
      "slowpoke Slowpoke\r"
     ]
    },
    {
     "name": "stderr",
     "output_type": "stream",
     "text": [
      " 10%|███████▍                                                                    | 128/1300 [08:25<1:18:07,  4.00s/it]"
     ]
    },
    {
     "name": "stdout",
     "output_type": "stream",
     "text": [
      "did not find https://www.smogon.com/dex/media/sprites/rb/slowpoke-galar.png: Not Found\n",
      "did not find https://www.smogon.com/dex/media/sprites/c/slowpoke-galar.gif: Not Found\n",
      "did not find https://www.smogon.com/dex/media/sprites/rs/slowpoke-galar.png: Not Found\n",
      "did not find https://www.smogon.com/dex/media/sprites/dp/slowpoke-galar.png: Not Found\n",
      "did not find https://www.smogon.com/dex/media/sprites/bw/slowpoke-galar.gif: Not Found\n"
     ]
    },
    {
     "name": "stderr",
     "output_type": "stream",
     "text": [
      " 10%|███████▌                                                                    | 129/1300 [08:29<1:19:59,  4.10s/it]"
     ]
    },
    {
     "name": "stdout",
     "output_type": "stream",
     "text": [
      "slowbro Slowbro\r"
     ]
    },
    {
     "name": "stderr",
     "output_type": "stream",
     "text": [
      " 10%|███████▌                                                                    | 130/1300 [08:33<1:19:38,  4.08s/it]"
     ]
    },
    {
     "name": "stdout",
     "output_type": "stream",
     "text": [
      "did not find https://www.smogon.com/dex/media/sprites/rb/slowbro-mega.png: Not Found\n",
      "did not find https://www.smogon.com/dex/media/sprites/c/slowbro-mega.gif: Not Found\n",
      "did not find https://www.smogon.com/dex/media/sprites/rs/slowbro-mega.png: Not Found\n",
      "did not find https://www.smogon.com/dex/media/sprites/dp/slowbro-mega.png: Not Found\n",
      "did not find https://www.smogon.com/dex/media/sprites/bw/slowbro-mega.gif: Not Found\n"
     ]
    },
    {
     "name": "stderr",
     "output_type": "stream",
     "text": [
      " 10%|███████▋                                                                    | 131/1300 [08:37<1:18:53,  4.05s/it]"
     ]
    },
    {
     "name": "stdout",
     "output_type": "stream",
     "text": [
      "did not find https://www.smogon.com/dex/media/sprites/rb/slowbro-galar.png: Not Found\n",
      "did not find https://www.smogon.com/dex/media/sprites/c/slowbro-galar.gif: Not Found\n",
      "did not find https://www.smogon.com/dex/media/sprites/rs/slowbro-galar.png: Not Found\n",
      "did not find https://www.smogon.com/dex/media/sprites/dp/slowbro-galar.png: Not Found\n",
      "did not find https://www.smogon.com/dex/media/sprites/bw/slowbro-galar.gif: Not Found\n"
     ]
    },
    {
     "name": "stderr",
     "output_type": "stream",
     "text": [
      " 10%|███████▋                                                                    | 132/1300 [08:41<1:18:47,  4.05s/it]"
     ]
    },
    {
     "name": "stdout",
     "output_type": "stream",
     "text": [
      "magnemite Magnemite\r"
     ]
    },
    {
     "name": "stderr",
     "output_type": "stream",
     "text": [
      " 10%|███████▊                                                                    | 133/1300 [08:45<1:16:52,  3.95s/it]"
     ]
    },
    {
     "name": "stdout",
     "output_type": "stream",
     "text": [
      "magneton Magneton\r"
     ]
    },
    {
     "name": "stderr",
     "output_type": "stream",
     "text": [
      " 10%|███████▊                                                                    | 134/1300 [08:49<1:17:37,  3.99s/it]"
     ]
    },
    {
     "name": "stdout",
     "output_type": "stream",
     "text": [
      "did not find https://www.smogon.com/dex/media/sprites/rb/farfetch’d.png: Not Found\n",
      "did not find https://www.smogon.com/dex/media/sprites/c/farfetch’d.gif: Not Found\n",
      "did not find https://www.smogon.com/dex/media/sprites/rs/farfetch’d.png: Not Found\n",
      "did not find https://www.smogon.com/dex/media/sprites/dp/farfetch’d.png: Not Found\n",
      "did not find https://www.smogon.com/dex/media/sprites/bw/farfetch’d.gif: Not Found\n"
     ]
    },
    {
     "name": "stderr",
     "output_type": "stream",
     "text": [
      " 10%|███████▉                                                                    | 135/1300 [08:52<1:15:12,  3.87s/it]"
     ]
    },
    {
     "name": "stdout",
     "output_type": "stream",
     "text": [
      "did not find https://www.smogon.com/dex/media/sprites/xy/farfetch’d.gif: Not Found\n",
      "did not find https://www.smogon.com/dex/media/sprites/rb/farfetch’d-galar.png: Not Found\n",
      "did not find https://www.smogon.com/dex/media/sprites/c/farfetch’d-galar.gif: Not Found\n",
      "did not find https://www.smogon.com/dex/media/sprites/rs/farfetch’d-galar.png: Not Found\n",
      "did not find https://www.smogon.com/dex/media/sprites/dp/farfetch’d-galar.png: Not Found\n",
      "did not find https://www.smogon.com/dex/media/sprites/bw/farfetch’d-galar.gif: Not Found\n"
     ]
    },
    {
     "name": "stderr",
     "output_type": "stream",
     "text": [
      " 10%|███████▉                                                                    | 136/1300 [08:56<1:15:12,  3.88s/it]"
     ]
    },
    {
     "name": "stdout",
     "output_type": "stream",
     "text": [
      "did not find https://www.smogon.com/dex/media/sprites/xy/farfetch’d-galar.gif: Not Found\n",
      "doduo Doduo\r"
     ]
    },
    {
     "name": "stderr",
     "output_type": "stream",
     "text": [
      " 11%|████████                                                                    | 137/1300 [09:00<1:15:45,  3.91s/it]"
     ]
    },
    {
     "name": "stdout",
     "output_type": "stream",
     "text": [
      "dodrio Dodrio\r"
     ]
    },
    {
     "name": "stderr",
     "output_type": "stream",
     "text": [
      " 11%|████████                                                                    | 138/1300 [09:04<1:17:31,  4.00s/it]"
     ]
    },
    {
     "name": "stdout",
     "output_type": "stream",
     "text": [
      "seel Seel\r"
     ]
    },
    {
     "name": "stderr",
     "output_type": "stream",
     "text": [
      " 11%|████████▏                                                                   | 139/1300 [09:08<1:15:26,  3.90s/it]"
     ]
    },
    {
     "name": "stdout",
     "output_type": "stream",
     "text": [
      "dewgong Dewgong\r"
     ]
    },
    {
     "name": "stderr",
     "output_type": "stream",
     "text": [
      " 11%|████████▏                                                                   | 140/1300 [09:12<1:15:58,  3.93s/it]"
     ]
    },
    {
     "name": "stdout",
     "output_type": "stream",
     "text": [
      "grimer Grimer\r"
     ]
    },
    {
     "name": "stderr",
     "output_type": "stream",
     "text": [
      " 11%|████████▏                                                                   | 141/1300 [09:16<1:16:36,  3.97s/it]"
     ]
    },
    {
     "name": "stdout",
     "output_type": "stream",
     "text": [
      "did not find https://www.smogon.com/dex/media/sprites/rb/grimer-alola.png: Not Found\n",
      "did not find https://www.smogon.com/dex/media/sprites/c/grimer-alola.gif: Not Found\n",
      "did not find https://www.smogon.com/dex/media/sprites/rs/grimer-alola.png: Not Found\n",
      "did not find https://www.smogon.com/dex/media/sprites/dp/grimer-alola.png: Not Found\n",
      "did not find https://www.smogon.com/dex/media/sprites/bw/grimer-alola.gif: Not Found\n"
     ]
    },
    {
     "name": "stderr",
     "output_type": "stream",
     "text": [
      " 11%|████████▎                                                                   | 142/1300 [09:20<1:15:43,  3.92s/it]"
     ]
    },
    {
     "name": "stdout",
     "output_type": "stream",
     "text": [
      "muk  Muk\r"
     ]
    },
    {
     "name": "stderr",
     "output_type": "stream",
     "text": [
      " 11%|████████▎                                                                   | 143/1300 [09:24<1:17:51,  4.04s/it]"
     ]
    },
    {
     "name": "stdout",
     "output_type": "stream",
     "text": [
      "did not find https://www.smogon.com/dex/media/sprites/rb/muk-alola.png: Not Found\n",
      "did not find https://www.smogon.com/dex/media/sprites/c/muk-alola.gif: Not Found\n",
      "did not find https://www.smogon.com/dex/media/sprites/rs/muk-alola.png: Not Found\n",
      "did not find https://www.smogon.com/dex/media/sprites/dp/muk-alola.png: Not Found\n",
      "did not find https://www.smogon.com/dex/media/sprites/bw/muk-alola.gif: Not Found\n"
     ]
    },
    {
     "name": "stderr",
     "output_type": "stream",
     "text": [
      " 11%|████████▍                                                                   | 144/1300 [09:28<1:17:08,  4.00s/it]"
     ]
    },
    {
     "name": "stdout",
     "output_type": "stream",
     "text": [
      "shellder Shellder\r"
     ]
    },
    {
     "name": "stderr",
     "output_type": "stream",
     "text": [
      " 11%|████████▍                                                                   | 145/1300 [09:32<1:16:53,  3.99s/it]"
     ]
    },
    {
     "name": "stdout",
     "output_type": "stream",
     "text": [
      "cloyster Cloyster\r"
     ]
    },
    {
     "name": "stderr",
     "output_type": "stream",
     "text": [
      " 11%|████████▌                                                                   | 146/1300 [09:36<1:17:35,  4.03s/it]"
     ]
    },
    {
     "name": "stdout",
     "output_type": "stream",
     "text": [
      "gastly Gastly\r"
     ]
    },
    {
     "name": "stderr",
     "output_type": "stream",
     "text": [
      " 11%|████████▌                                                                   | 147/1300 [09:40<1:17:25,  4.03s/it]"
     ]
    },
    {
     "name": "stdout",
     "output_type": "stream",
     "text": [
      "haunter Haunter\r"
     ]
    },
    {
     "name": "stderr",
     "output_type": "stream",
     "text": [
      " 11%|████████▋                                                                   | 148/1300 [09:44<1:16:05,  3.96s/it]"
     ]
    },
    {
     "name": "stdout",
     "output_type": "stream",
     "text": [
      "gengar Gengar\r"
     ]
    },
    {
     "name": "stderr",
     "output_type": "stream",
     "text": [
      " 11%|████████▋                                                                   | 149/1300 [09:48<1:16:24,  3.98s/it]"
     ]
    },
    {
     "name": "stdout",
     "output_type": "stream",
     "text": [
      "did not find https://www.smogon.com/dex/media/sprites/rb/gengar-mega.png: Not Found\n",
      "did not find https://www.smogon.com/dex/media/sprites/c/gengar-mega.gif: Not Found\n",
      "did not find https://www.smogon.com/dex/media/sprites/rs/gengar-mega.png: Not Found\n",
      "did not find https://www.smogon.com/dex/media/sprites/dp/gengar-mega.png: Not Found\n",
      "did not find https://www.smogon.com/dex/media/sprites/bw/gengar-mega.gif: Not Found\n"
     ]
    },
    {
     "name": "stderr",
     "output_type": "stream",
     "text": [
      " 12%|████████▊                                                                   | 150/1300 [09:52<1:16:44,  4.00s/it]"
     ]
    },
    {
     "name": "stdout",
     "output_type": "stream",
     "text": [
      "did not find https://www.smogon.com/dex/media/sprites/rb/gengar-gmax.png: Not Found\n",
      "did not find https://www.smogon.com/dex/media/sprites/c/gengar-gmax.gif: Not Found\n",
      "did not find https://www.smogon.com/dex/media/sprites/rs/gengar-gmax.png: Not Found\n",
      "did not find https://www.smogon.com/dex/media/sprites/dp/gengar-gmax.png: Not Found\n",
      "did not find https://www.smogon.com/dex/media/sprites/bw/gengar-gmax.gif: Not Found\n"
     ]
    },
    {
     "name": "stderr",
     "output_type": "stream",
     "text": [
      " 12%|████████▊                                                                   | 151/1300 [09:56<1:16:38,  4.00s/it]"
     ]
    },
    {
     "name": "stdout",
     "output_type": "stream",
     "text": [
      "onix Onix\r"
     ]
    },
    {
     "name": "stderr",
     "output_type": "stream",
     "text": [
      " 12%|████████▉                                                                   | 152/1300 [10:00<1:16:29,  4.00s/it]"
     ]
    },
    {
     "name": "stdout",
     "output_type": "stream",
     "text": [
      "drowzee Drowzee\r"
     ]
    },
    {
     "name": "stderr",
     "output_type": "stream",
     "text": [
      " 12%|████████▉                                                                   | 153/1300 [10:04<1:16:30,  4.00s/it]"
     ]
    },
    {
     "name": "stdout",
     "output_type": "stream",
     "text": [
      "hypno Hypno\r"
     ]
    },
    {
     "name": "stderr",
     "output_type": "stream",
     "text": [
      " 12%|█████████                                                                   | 154/1300 [10:08<1:16:55,  4.03s/it]"
     ]
    },
    {
     "name": "stdout",
     "output_type": "stream",
     "text": [
      "krabby Krabby\r"
     ]
    },
    {
     "name": "stderr",
     "output_type": "stream",
     "text": [
      " 12%|█████████                                                                   | 155/1300 [10:12<1:15:44,  3.97s/it]"
     ]
    },
    {
     "name": "stdout",
     "output_type": "stream",
     "text": [
      "kingler Kingler\r"
     ]
    },
    {
     "name": "stderr",
     "output_type": "stream",
     "text": [
      " 12%|█████████                                                                   | 156/1300 [10:16<1:16:38,  4.02s/it]"
     ]
    },
    {
     "name": "stdout",
     "output_type": "stream",
     "text": [
      "did not find https://www.smogon.com/dex/media/sprites/rb/kingler-gmax.png: Not Found\n",
      "did not find https://www.smogon.com/dex/media/sprites/c/kingler-gmax.gif: Not Found\n",
      "did not find https://www.smogon.com/dex/media/sprites/rs/kingler-gmax.png: Not Found\n",
      "did not find https://www.smogon.com/dex/media/sprites/dp/kingler-gmax.png: Not Found\n",
      "did not find https://www.smogon.com/dex/media/sprites/bw/kingler-gmax.gif: Not Found\n"
     ]
    },
    {
     "name": "stderr",
     "output_type": "stream",
     "text": [
      " 12%|█████████▏                                                                  | 157/1300 [10:20<1:17:16,  4.06s/it]"
     ]
    },
    {
     "name": "stdout",
     "output_type": "stream",
     "text": [
      "voltorb Voltorb\r"
     ]
    },
    {
     "name": "stderr",
     "output_type": "stream",
     "text": [
      " 12%|█████████▏                                                                  | 158/1300 [10:24<1:15:25,  3.96s/it]"
     ]
    },
    {
     "name": "stdout",
     "output_type": "stream",
     "text": [
      "did not find https://www.smogon.com/dex/media/sprites/rb/voltorb-hisui.png: Not Found\n",
      "did not find https://www.smogon.com/dex/media/sprites/c/voltorb-hisui.gif: Not Found\n",
      "did not find https://www.smogon.com/dex/media/sprites/rs/voltorb-hisui.png: Not Found\n",
      "did not find https://www.smogon.com/dex/media/sprites/dp/voltorb-hisui.png: Not Found\n",
      "did not find https://www.smogon.com/dex/media/sprites/bw/voltorb-hisui.gif: Not Found\n"
     ]
    },
    {
     "name": "stderr",
     "output_type": "stream",
     "text": [
      " 12%|█████████▎                                                                  | 159/1300 [10:28<1:13:26,  3.86s/it]"
     ]
    },
    {
     "name": "stdout",
     "output_type": "stream",
     "text": [
      "electrode Electrode\r"
     ]
    },
    {
     "name": "stderr",
     "output_type": "stream",
     "text": [
      " 12%|█████████▎                                                                  | 160/1300 [10:32<1:13:51,  3.89s/it]"
     ]
    },
    {
     "name": "stdout",
     "output_type": "stream",
     "text": [
      "did not find https://www.smogon.com/dex/media/sprites/rb/electrode-hisui.png: Not Found\n",
      "did not find https://www.smogon.com/dex/media/sprites/c/electrode-hisui.gif: Not Found\n",
      "did not find https://www.smogon.com/dex/media/sprites/rs/electrode-hisui.png: Not Found\n",
      "did not find https://www.smogon.com/dex/media/sprites/dp/electrode-hisui.png: Not Found\n",
      "did not find https://www.smogon.com/dex/media/sprites/bw/electrode-hisui.gif: Not Found\n"
     ]
    },
    {
     "name": "stderr",
     "output_type": "stream",
     "text": [
      " 12%|█████████▍                                                                  | 161/1300 [10:35<1:12:19,  3.81s/it]"
     ]
    },
    {
     "name": "stdout",
     "output_type": "stream",
     "text": [
      "exeggcute Exeggcute\r"
     ]
    },
    {
     "name": "stderr",
     "output_type": "stream",
     "text": [
      " 12%|█████████▍                                                                  | 162/1300 [10:39<1:13:02,  3.85s/it]"
     ]
    },
    {
     "name": "stdout",
     "output_type": "stream",
     "text": [
      "exeggutor Exeggutor\r"
     ]
    },
    {
     "name": "stderr",
     "output_type": "stream",
     "text": [
      " 13%|█████████▌                                                                  | 163/1300 [10:43<1:14:02,  3.91s/it]"
     ]
    },
    {
     "name": "stdout",
     "output_type": "stream",
     "text": [
      "did not find https://www.smogon.com/dex/media/sprites/rb/exeggutor-alola.png: Not Found\n",
      "did not find https://www.smogon.com/dex/media/sprites/c/exeggutor-alola.gif: Not Found\n",
      "did not find https://www.smogon.com/dex/media/sprites/rs/exeggutor-alola.png: Not Found\n",
      "did not find https://www.smogon.com/dex/media/sprites/dp/exeggutor-alola.png: Not Found\n",
      "did not find https://www.smogon.com/dex/media/sprites/bw/exeggutor-alola.gif: Not Found\n"
     ]
    },
    {
     "name": "stderr",
     "output_type": "stream",
     "text": [
      " 13%|█████████▌                                                                  | 164/1300 [10:47<1:13:26,  3.88s/it]"
     ]
    },
    {
     "name": "stdout",
     "output_type": "stream",
     "text": [
      "cubone Cubone\r"
     ]
    },
    {
     "name": "stderr",
     "output_type": "stream",
     "text": [
      " 13%|█████████▋                                                                  | 165/1300 [10:51<1:13:43,  3.90s/it]"
     ]
    },
    {
     "name": "stdout",
     "output_type": "stream",
     "text": [
      "marowak Marowak\r"
     ]
    },
    {
     "name": "stderr",
     "output_type": "stream",
     "text": [
      " 13%|█████████▋                                                                  | 166/1300 [10:55<1:13:35,  3.89s/it]"
     ]
    },
    {
     "name": "stdout",
     "output_type": "stream",
     "text": [
      "did not find https://www.smogon.com/dex/media/sprites/rb/marowak-alola.png: Not Found\n",
      "did not find https://www.smogon.com/dex/media/sprites/c/marowak-alola.gif: Not Found\n",
      "did not find https://www.smogon.com/dex/media/sprites/rs/marowak-alola.png: Not Found\n",
      "did not find https://www.smogon.com/dex/media/sprites/dp/marowak-alola.png: Not Found\n",
      "did not find https://www.smogon.com/dex/media/sprites/bw/marowak-alola.gif: Not Found\n"
     ]
    },
    {
     "name": "stderr",
     "output_type": "stream",
     "text": [
      " 13%|█████████▊                                                                  | 167/1300 [10:59<1:13:00,  3.87s/it]"
     ]
    },
    {
     "name": "stdout",
     "output_type": "stream",
     "text": [
      "did not find https://www.smogon.com/dex/media/sprites/rb/marowak-alola-totem.png: Not Found\n",
      "did not find https://www.smogon.com/dex/media/sprites/c/marowak-alola-totem.gif: Not Found\n",
      "did not find https://www.smogon.com/dex/media/sprites/rs/marowak-alola-totem.png: Not Found\n",
      "did not find https://www.smogon.com/dex/media/sprites/dp/marowak-alola-totem.png: Not Found\n",
      "did not find https://www.smogon.com/dex/media/sprites/bw/marowak-alola-totem.gif: Not Found\n"
     ]
    },
    {
     "name": "stderr",
     "output_type": "stream",
     "text": [
      " 13%|█████████▊                                                                  | 168/1300 [11:03<1:12:48,  3.86s/it]"
     ]
    },
    {
     "name": "stdout",
     "output_type": "stream",
     "text": [
      "hitmonlee Hitmonlee\r"
     ]
    },
    {
     "name": "stderr",
     "output_type": "stream",
     "text": [
      " 13%|█████████▉                                                                  | 169/1300 [11:06<1:12:30,  3.85s/it]"
     ]
    },
    {
     "name": "stdout",
     "output_type": "stream",
     "text": [
      "hitmonchan Hitmonchan\r"
     ]
    },
    {
     "name": "stderr",
     "output_type": "stream",
     "text": [
      " 13%|█████████▉                                                                  | 170/1300 [11:10<1:12:06,  3.83s/it]"
     ]
    },
    {
     "name": "stdout",
     "output_type": "stream",
     "text": [
      "lickitung Lickitung\r"
     ]
    },
    {
     "name": "stderr",
     "output_type": "stream",
     "text": [
      " 13%|█████████▉                                                                  | 171/1300 [11:14<1:12:04,  3.83s/it]"
     ]
    },
    {
     "name": "stdout",
     "output_type": "stream",
     "text": [
      "koffing Koffing\r"
     ]
    },
    {
     "name": "stderr",
     "output_type": "stream",
     "text": [
      " 13%|██████████                                                                  | 172/1300 [11:18<1:11:51,  3.82s/it]"
     ]
    },
    {
     "name": "stdout",
     "output_type": "stream",
     "text": [
      "weezing Weezing\r"
     ]
    },
    {
     "name": "stderr",
     "output_type": "stream",
     "text": [
      " 13%|██████████                                                                  | 173/1300 [11:22<1:13:50,  3.93s/it]"
     ]
    },
    {
     "name": "stdout",
     "output_type": "stream",
     "text": [
      "did not find https://www.smogon.com/dex/media/sprites/rb/weezing-galar.png: Not Found\n",
      "did not find https://www.smogon.com/dex/media/sprites/c/weezing-galar.gif: Not Found\n",
      "did not find https://www.smogon.com/dex/media/sprites/rs/weezing-galar.png: Not Found\n",
      "did not find https://www.smogon.com/dex/media/sprites/dp/weezing-galar.png: Not Found\n",
      "did not find https://www.smogon.com/dex/media/sprites/bw/weezing-galar.gif: Not Found\n"
     ]
    },
    {
     "name": "stderr",
     "output_type": "stream",
     "text": [
      " 13%|██████████▏                                                                 | 174/1300 [11:26<1:14:59,  4.00s/it]"
     ]
    },
    {
     "name": "stdout",
     "output_type": "stream",
     "text": [
      "rhyhorn Rhyhorn\r"
     ]
    },
    {
     "name": "stderr",
     "output_type": "stream",
     "text": [
      " 13%|██████████▏                                                                 | 175/1300 [11:30<1:15:32,  4.03s/it]"
     ]
    },
    {
     "name": "stdout",
     "output_type": "stream",
     "text": [
      "rhydon Rhydon\r"
     ]
    },
    {
     "name": "stderr",
     "output_type": "stream",
     "text": [
      " 14%|██████████▎                                                                 | 176/1300 [11:35<1:16:36,  4.09s/it]"
     ]
    },
    {
     "name": "stdout",
     "output_type": "stream",
     "text": [
      "chansey Chansey\r"
     ]
    },
    {
     "name": "stderr",
     "output_type": "stream",
     "text": [
      " 14%|██████████▎                                                                 | 177/1300 [11:38<1:15:58,  4.06s/it]"
     ]
    },
    {
     "name": "stdout",
     "output_type": "stream",
     "text": [
      "tangela Tangela\r"
     ]
    },
    {
     "name": "stderr",
     "output_type": "stream",
     "text": [
      " 14%|██████████▍                                                                 | 178/1300 [11:43<1:15:42,  4.05s/it]"
     ]
    },
    {
     "name": "stdout",
     "output_type": "stream",
     "text": [
      "kangaskhan Kangaskhan\r"
     ]
    },
    {
     "name": "stderr",
     "output_type": "stream",
     "text": [
      " 14%|██████████▍                                                                 | 179/1300 [11:47<1:16:14,  4.08s/it]"
     ]
    },
    {
     "name": "stdout",
     "output_type": "stream",
     "text": [
      "did not find https://www.smogon.com/dex/media/sprites/rb/kangaskhan-mega.png: Not Found\n",
      "did not find https://www.smogon.com/dex/media/sprites/c/kangaskhan-mega.gif: Not Found\n",
      "did not find https://www.smogon.com/dex/media/sprites/rs/kangaskhan-mega.png: Not Found\n",
      "did not find https://www.smogon.com/dex/media/sprites/dp/kangaskhan-mega.png: Not Found\n",
      "did not find https://www.smogon.com/dex/media/sprites/bw/kangaskhan-mega.gif: Not Found\n"
     ]
    },
    {
     "name": "stderr",
     "output_type": "stream",
     "text": [
      " 14%|██████████▌                                                                 | 180/1300 [11:51<1:15:58,  4.07s/it]"
     ]
    },
    {
     "name": "stdout",
     "output_type": "stream",
     "text": [
      "horsea Horsea\r"
     ]
    },
    {
     "name": "stderr",
     "output_type": "stream",
     "text": [
      " 14%|██████████▌                                                                 | 181/1300 [11:54<1:13:58,  3.97s/it]"
     ]
    },
    {
     "name": "stdout",
     "output_type": "stream",
     "text": [
      "seadra Seadra\r"
     ]
    },
    {
     "name": "stderr",
     "output_type": "stream",
     "text": [
      " 14%|██████████▋                                                                 | 182/1300 [11:58<1:13:56,  3.97s/it]"
     ]
    },
    {
     "name": "stdout",
     "output_type": "stream",
     "text": [
      "goldeen Goldeen\r"
     ]
    },
    {
     "name": "stderr",
     "output_type": "stream",
     "text": [
      " 14%|██████████▋                                                                 | 183/1300 [12:02<1:14:01,  3.98s/it]"
     ]
    },
    {
     "name": "stdout",
     "output_type": "stream",
     "text": [
      "seaking Seaking\r"
     ]
    },
    {
     "name": "stderr",
     "output_type": "stream",
     "text": [
      " 14%|██████████▊                                                                 | 184/1300 [12:06<1:14:13,  3.99s/it]"
     ]
    },
    {
     "name": "stdout",
     "output_type": "stream",
     "text": [
      "staryu Staryu\r"
     ]
    },
    {
     "name": "stderr",
     "output_type": "stream",
     "text": [
      " 14%|██████████▊                                                                 | 185/1300 [12:10<1:13:35,  3.96s/it]"
     ]
    },
    {
     "name": "stdout",
     "output_type": "stream",
     "text": [
      "starmie Starmie\r"
     ]
    },
    {
     "name": "stderr",
     "output_type": "stream",
     "text": [
      " 14%|██████████▊                                                                 | 186/1300 [12:14<1:14:07,  3.99s/it]"
     ]
    },
    {
     "name": "stdout",
     "output_type": "stream",
     "text": [
      "did not find https://www.smogon.com/dex/media/sprites/rb/mr.-mime.png: Not Found\n",
      "did not find https://www.smogon.com/dex/media/sprites/c/mr.-mime.gif: Not Found\n",
      "did not find https://www.smogon.com/dex/media/sprites/rs/mr.-mime.png: Not Found\n",
      "did not find https://www.smogon.com/dex/media/sprites/dp/mr.-mime.png: Not Found\n",
      "did not find https://www.smogon.com/dex/media/sprites/bw/mr.-mime.gif: Not Found\n"
     ]
    },
    {
     "name": "stderr",
     "output_type": "stream",
     "text": [
      " 14%|██████████▉                                                                 | 187/1300 [12:18<1:12:34,  3.91s/it]"
     ]
    },
    {
     "name": "stdout",
     "output_type": "stream",
     "text": [
      "did not find https://www.smogon.com/dex/media/sprites/xy/mr.-mime.gif: Not Found\n",
      "did not find https://www.smogon.com/dex/media/sprites/rb/mr.-mime-galar.png: Not Found\n",
      "did not find https://www.smogon.com/dex/media/sprites/c/mr.-mime-galar.gif: Not Found\n",
      "did not find https://www.smogon.com/dex/media/sprites/rs/mr.-mime-galar.png: Not Found\n",
      "did not find https://www.smogon.com/dex/media/sprites/dp/mr.-mime-galar.png: Not Found\n",
      "did not find https://www.smogon.com/dex/media/sprites/bw/mr.-mime-galar.gif: Not Found\n"
     ]
    },
    {
     "name": "stderr",
     "output_type": "stream",
     "text": [
      " 14%|██████████▉                                                                 | 188/1300 [12:22<1:10:35,  3.81s/it]"
     ]
    },
    {
     "name": "stdout",
     "output_type": "stream",
     "text": [
      "did not find https://www.smogon.com/dex/media/sprites/xy/mr.-mime-galar.gif: Not Found\n",
      "scyther Scyther\r"
     ]
    },
    {
     "name": "stderr",
     "output_type": "stream",
     "text": [
      " 15%|███████████                                                                 | 189/1300 [12:26<1:13:06,  3.95s/it]"
     ]
    },
    {
     "name": "stdout",
     "output_type": "stream",
     "text": [
      "jynx Jynx\r"
     ]
    },
    {
     "name": "stderr",
     "output_type": "stream",
     "text": [
      " 15%|███████████                                                                 | 190/1300 [12:30<1:13:50,  3.99s/it]"
     ]
    },
    {
     "name": "stdout",
     "output_type": "stream",
     "text": [
      "electabuzz Electabuzz\r"
     ]
    },
    {
     "name": "stderr",
     "output_type": "stream",
     "text": [
      " 15%|███████████▏                                                                | 191/1300 [12:34<1:13:38,  3.98s/it]"
     ]
    },
    {
     "name": "stdout",
     "output_type": "stream",
     "text": [
      "magmar Magmar\r"
     ]
    },
    {
     "name": "stderr",
     "output_type": "stream",
     "text": [
      " 15%|███████████▏                                                                | 192/1300 [12:38<1:13:49,  4.00s/it]"
     ]
    },
    {
     "name": "stdout",
     "output_type": "stream",
     "text": [
      "pinsir Pinsir\r"
     ]
    },
    {
     "name": "stderr",
     "output_type": "stream",
     "text": [
      " 15%|███████████▎                                                                | 193/1300 [12:42<1:14:15,  4.02s/it]"
     ]
    },
    {
     "name": "stdout",
     "output_type": "stream",
     "text": [
      "did not find https://www.smogon.com/dex/media/sprites/rb/pinsir-mega.png: Not Found\n",
      "did not find https://www.smogon.com/dex/media/sprites/c/pinsir-mega.gif: Not Found\n",
      "did not find https://www.smogon.com/dex/media/sprites/rs/pinsir-mega.png: Not Found\n",
      "did not find https://www.smogon.com/dex/media/sprites/dp/pinsir-mega.png: Not Found\n",
      "did not find https://www.smogon.com/dex/media/sprites/bw/pinsir-mega.gif: Not Found\n"
     ]
    },
    {
     "name": "stderr",
     "output_type": "stream",
     "text": [
      " 15%|███████████▎                                                                | 194/1300 [12:46<1:14:00,  4.02s/it]"
     ]
    },
    {
     "name": "stdout",
     "output_type": "stream",
     "text": [
      "tauros Tauros\r"
     ]
    },
    {
     "name": "stderr",
     "output_type": "stream",
     "text": [
      " 15%|███████████▍                                                                | 195/1300 [12:50<1:14:35,  4.05s/it]"
     ]
    },
    {
     "name": "stdout",
     "output_type": "stream",
     "text": [
      "did not find https://www.smogon.com/dex/media/sprites/rb/tauros-paldea-combat.png: Not Found\n",
      "did not find https://www.smogon.com/dex/media/sprites/c/tauros-paldea-combat.gif: Not Found\n",
      "did not find https://www.smogon.com/dex/media/sprites/rs/tauros-paldea-combat.png: Not Found\n",
      "did not find https://www.smogon.com/dex/media/sprites/dp/tauros-paldea-combat.png: Not Found\n",
      "did not find https://www.smogon.com/dex/media/sprites/bw/tauros-paldea-combat.gif: Not Found\n"
     ]
    },
    {
     "name": "stderr",
     "output_type": "stream",
     "text": [
      " 15%|███████████▍                                                                | 196/1300 [12:54<1:12:19,  3.93s/it]"
     ]
    },
    {
     "name": "stdout",
     "output_type": "stream",
     "text": [
      "did not find https://www.smogon.com/dex/media/sprites/rb/tauros-paldea-blaze.png: Not Found\n",
      "did not find https://www.smogon.com/dex/media/sprites/c/tauros-paldea-blaze.gif: Not Found\n",
      "did not find https://www.smogon.com/dex/media/sprites/rs/tauros-paldea-blaze.png: Not Found\n",
      "did not find https://www.smogon.com/dex/media/sprites/dp/tauros-paldea-blaze.png: Not Found\n",
      "did not find https://www.smogon.com/dex/media/sprites/bw/tauros-paldea-blaze.gif: Not Found\n"
     ]
    },
    {
     "name": "stderr",
     "output_type": "stream",
     "text": [
      " 15%|███████████▌                                                                | 197/1300 [12:58<1:10:33,  3.84s/it]"
     ]
    },
    {
     "name": "stdout",
     "output_type": "stream",
     "text": [
      "did not find https://www.smogon.com/dex/media/sprites/rb/tauros-paldea-aqua.png: Not Found\n",
      "did not find https://www.smogon.com/dex/media/sprites/c/tauros-paldea-aqua.gif: Not Found\n",
      "did not find https://www.smogon.com/dex/media/sprites/rs/tauros-paldea-aqua.png: Not Found\n",
      "did not find https://www.smogon.com/dex/media/sprites/dp/tauros-paldea-aqua.png: Not Found\n",
      "did not find https://www.smogon.com/dex/media/sprites/bw/tauros-paldea-aqua.gif: Not Found\n"
     ]
    },
    {
     "name": "stderr",
     "output_type": "stream",
     "text": [
      " 15%|███████████▌                                                                | 198/1300 [13:01<1:09:27,  3.78s/it]"
     ]
    },
    {
     "name": "stdout",
     "output_type": "stream",
     "text": [
      "magikarp Magikarp\r"
     ]
    },
    {
     "name": "stderr",
     "output_type": "stream",
     "text": [
      " 15%|███████████▋                                                                | 199/1300 [13:05<1:09:56,  3.81s/it]"
     ]
    },
    {
     "name": "stdout",
     "output_type": "stream",
     "text": [
      "gyarados Gyarados\r"
     ]
    },
    {
     "name": "stderr",
     "output_type": "stream",
     "text": [
      " 15%|███████████▋                                                                | 200/1300 [13:09<1:12:18,  3.94s/it]"
     ]
    },
    {
     "name": "stdout",
     "output_type": "stream",
     "text": [
      "did not find https://www.smogon.com/dex/media/sprites/rb/gyarados-mega.png: Not Found\n",
      "did not find https://www.smogon.com/dex/media/sprites/c/gyarados-mega.gif: Not Found\n",
      "did not find https://www.smogon.com/dex/media/sprites/rs/gyarados-mega.png: Not Found\n",
      "did not find https://www.smogon.com/dex/media/sprites/dp/gyarados-mega.png: Not Found\n",
      "did not find https://www.smogon.com/dex/media/sprites/bw/gyarados-mega.gif: Not Found\n"
     ]
    },
    {
     "name": "stderr",
     "output_type": "stream",
     "text": [
      " 15%|███████████▊                                                                | 201/1300 [13:13<1:12:13,  3.94s/it]"
     ]
    },
    {
     "name": "stdout",
     "output_type": "stream",
     "text": [
      "lapras Lapras\r"
     ]
    },
    {
     "name": "stderr",
     "output_type": "stream",
     "text": [
      " 16%|███████████▊                                                                | 202/1300 [13:17<1:12:01,  3.94s/it]"
     ]
    },
    {
     "name": "stdout",
     "output_type": "stream",
     "text": [
      "did not find https://www.smogon.com/dex/media/sprites/rb/lapras-gmax.png: Not Found\n",
      "did not find https://www.smogon.com/dex/media/sprites/c/lapras-gmax.gif: Not Found\n",
      "did not find https://www.smogon.com/dex/media/sprites/rs/lapras-gmax.png: Not Found\n",
      "did not find https://www.smogon.com/dex/media/sprites/dp/lapras-gmax.png: Not Found\n",
      "did not find https://www.smogon.com/dex/media/sprites/bw/lapras-gmax.gif: Not Found\n"
     ]
    },
    {
     "name": "stderr",
     "output_type": "stream",
     "text": [
      " 16%|███████████▊                                                                | 203/1300 [13:21<1:12:16,  3.95s/it]"
     ]
    },
    {
     "name": "stdout",
     "output_type": "stream",
     "text": [
      "ditto Ditto\r"
     ]
    },
    {
     "name": "stderr",
     "output_type": "stream",
     "text": [
      " 16%|███████████▉                                                                | 204/1300 [13:25<1:09:56,  3.83s/it]"
     ]
    },
    {
     "name": "stdout",
     "output_type": "stream",
     "text": [
      "eevee Eevee\r"
     ]
    },
    {
     "name": "stderr",
     "output_type": "stream",
     "text": [
      " 16%|███████████▉                                                                | 205/1300 [13:28<1:09:09,  3.79s/it]"
     ]
    },
    {
     "name": "stdout",
     "output_type": "stream",
     "text": [
      "did not find https://www.smogon.com/dex/media/sprites/rb/eevee-starter.png: Not Found\n",
      "did not find https://www.smogon.com/dex/media/sprites/c/eevee-starter.gif: Not Found\n",
      "did not find https://www.smogon.com/dex/media/sprites/rs/eevee-starter.png: Not Found\n",
      "did not find https://www.smogon.com/dex/media/sprites/dp/eevee-starter.png: Not Found\n",
      "did not find https://www.smogon.com/dex/media/sprites/bw/eevee-starter.gif: Not Found\n"
     ]
    },
    {
     "name": "stderr",
     "output_type": "stream",
     "text": [
      " 16%|████████████                                                                | 206/1300 [13:32<1:07:56,  3.73s/it]"
     ]
    },
    {
     "name": "stdout",
     "output_type": "stream",
     "text": [
      "did not find https://www.smogon.com/dex/media/sprites/rb/eevee-gmax.png: Not Found\n",
      "did not find https://www.smogon.com/dex/media/sprites/c/eevee-gmax.gif: Not Found\n",
      "did not find https://www.smogon.com/dex/media/sprites/rs/eevee-gmax.png: Not Found\n",
      "did not find https://www.smogon.com/dex/media/sprites/dp/eevee-gmax.png: Not Found\n",
      "did not find https://www.smogon.com/dex/media/sprites/bw/eevee-gmax.gif: Not Found\n"
     ]
    },
    {
     "name": "stderr",
     "output_type": "stream",
     "text": [
      " 16%|████████████                                                                | 207/1300 [13:36<1:09:07,  3.79s/it]"
     ]
    },
    {
     "name": "stdout",
     "output_type": "stream",
     "text": [
      "vaporeon Vaporeon\r"
     ]
    },
    {
     "name": "stderr",
     "output_type": "stream",
     "text": [
      " 16%|████████████▏                                                               | 208/1300 [13:40<1:08:58,  3.79s/it]"
     ]
    },
    {
     "name": "stdout",
     "output_type": "stream",
     "text": [
      "jolteon Jolteon\r"
     ]
    },
    {
     "name": "stderr",
     "output_type": "stream",
     "text": [
      " 16%|████████████▏                                                               | 209/1300 [13:43<1:08:19,  3.76s/it]"
     ]
    },
    {
     "name": "stdout",
     "output_type": "stream",
     "text": [
      "flareon Flareon\r"
     ]
    },
    {
     "name": "stderr",
     "output_type": "stream",
     "text": [
      " 16%|████████████▎                                                               | 210/1300 [13:47<1:07:43,  3.73s/it]"
     ]
    },
    {
     "name": "stdout",
     "output_type": "stream",
     "text": [
      "porygon Porygon\r"
     ]
    },
    {
     "name": "stderr",
     "output_type": "stream",
     "text": [
      " 16%|████████████▎                                                               | 211/1300 [13:51<1:07:11,  3.70s/it]"
     ]
    },
    {
     "name": "stdout",
     "output_type": "stream",
     "text": [
      "omanyte Omanyte\r"
     ]
    },
    {
     "name": "stderr",
     "output_type": "stream",
     "text": [
      " 16%|████████████▍                                                               | 212/1300 [13:55<1:07:46,  3.74s/it]"
     ]
    },
    {
     "name": "stdout",
     "output_type": "stream",
     "text": [
      "omastar Omastar\r"
     ]
    },
    {
     "name": "stderr",
     "output_type": "stream",
     "text": [
      " 16%|████████████▍                                                               | 213/1300 [13:59<1:10:31,  3.89s/it]"
     ]
    },
    {
     "name": "stdout",
     "output_type": "stream",
     "text": [
      "kabuto Kabuto\r"
     ]
    },
    {
     "name": "stderr",
     "output_type": "stream",
     "text": [
      " 16%|████████████▌                                                               | 214/1300 [14:03<1:10:19,  3.89s/it]"
     ]
    },
    {
     "name": "stdout",
     "output_type": "stream",
     "text": [
      "kabutops Kabutops\r"
     ]
    },
    {
     "name": "stderr",
     "output_type": "stream",
     "text": [
      " 17%|████████████▌                                                               | 215/1300 [14:06<1:10:02,  3.87s/it]"
     ]
    },
    {
     "name": "stdout",
     "output_type": "stream",
     "text": [
      "aerodactyl Aerodactyl\r"
     ]
    },
    {
     "name": "stderr",
     "output_type": "stream",
     "text": [
      " 17%|████████████▋                                                               | 216/1300 [14:10<1:09:53,  3.87s/it]"
     ]
    },
    {
     "name": "stdout",
     "output_type": "stream",
     "text": [
      "did not find https://www.smogon.com/dex/media/sprites/rb/aerodactyl-mega.png: Not Found\n",
      "did not find https://www.smogon.com/dex/media/sprites/c/aerodactyl-mega.gif: Not Found\n",
      "did not find https://www.smogon.com/dex/media/sprites/rs/aerodactyl-mega.png: Not Found\n",
      "did not find https://www.smogon.com/dex/media/sprites/dp/aerodactyl-mega.png: Not Found\n",
      "did not find https://www.smogon.com/dex/media/sprites/bw/aerodactyl-mega.gif: Not Found\n"
     ]
    },
    {
     "name": "stderr",
     "output_type": "stream",
     "text": [
      " 17%|████████████▋                                                               | 217/1300 [14:14<1:10:09,  3.89s/it]"
     ]
    },
    {
     "name": "stdout",
     "output_type": "stream",
     "text": [
      "snorlax Snorlax\r"
     ]
    },
    {
     "name": "stderr",
     "output_type": "stream",
     "text": [
      " 17%|████████████▋                                                               | 218/1300 [14:19<1:12:20,  4.01s/it]"
     ]
    },
    {
     "name": "stdout",
     "output_type": "stream",
     "text": [
      "did not find https://www.smogon.com/dex/media/sprites/rb/snorlax-gmax.png: Not Found\n",
      "did not find https://www.smogon.com/dex/media/sprites/c/snorlax-gmax.gif: Not Found\n",
      "did not find https://www.smogon.com/dex/media/sprites/rs/snorlax-gmax.png: Not Found\n",
      "did not find https://www.smogon.com/dex/media/sprites/dp/snorlax-gmax.png: Not Found\n",
      "did not find https://www.smogon.com/dex/media/sprites/bw/snorlax-gmax.gif: Not Found\n"
     ]
    },
    {
     "name": "stderr",
     "output_type": "stream",
     "text": [
      " 17%|████████████▊                                                               | 219/1300 [14:23<1:13:16,  4.07s/it]"
     ]
    },
    {
     "name": "stdout",
     "output_type": "stream",
     "text": [
      "articuno Articuno\r"
     ]
    },
    {
     "name": "stderr",
     "output_type": "stream",
     "text": [
      " 17%|████████████▊                                                               | 220/1300 [14:27<1:13:18,  4.07s/it]"
     ]
    },
    {
     "name": "stdout",
     "output_type": "stream",
     "text": [
      "did not find https://www.smogon.com/dex/media/sprites/rb/articuno-galar.png: Not Found\n",
      "did not find https://www.smogon.com/dex/media/sprites/c/articuno-galar.gif: Not Found\n",
      "did not find https://www.smogon.com/dex/media/sprites/rs/articuno-galar.png: Not Found\n",
      "did not find https://www.smogon.com/dex/media/sprites/dp/articuno-galar.png: Not Found\n",
      "did not find https://www.smogon.com/dex/media/sprites/bw/articuno-galar.gif: Not Found\n"
     ]
    },
    {
     "name": "stderr",
     "output_type": "stream",
     "text": [
      " 17%|████████████▉                                                               | 221/1300 [14:31<1:12:52,  4.05s/it]"
     ]
    },
    {
     "name": "stdout",
     "output_type": "stream",
     "text": [
      "zapdos Zapdos\r"
     ]
    },
    {
     "name": "stderr",
     "output_type": "stream",
     "text": [
      " 17%|████████████▉                                                               | 222/1300 [14:35<1:11:30,  3.98s/it]"
     ]
    },
    {
     "name": "stdout",
     "output_type": "stream",
     "text": [
      "did not find https://www.smogon.com/dex/media/sprites/rb/zapdos-galar.png: Not Found\n",
      "did not find https://www.smogon.com/dex/media/sprites/c/zapdos-galar.gif: Not Found\n",
      "did not find https://www.smogon.com/dex/media/sprites/rs/zapdos-galar.png: Not Found\n",
      "did not find https://www.smogon.com/dex/media/sprites/dp/zapdos-galar.png: Not Found\n",
      "did not find https://www.smogon.com/dex/media/sprites/bw/zapdos-galar.gif: Not Found\n"
     ]
    },
    {
     "name": "stderr",
     "output_type": "stream",
     "text": [
      " 17%|█████████████                                                               | 223/1300 [14:38<1:10:20,  3.92s/it]"
     ]
    },
    {
     "name": "stdout",
     "output_type": "stream",
     "text": [
      "moltres Moltres\r"
     ]
    },
    {
     "name": "stderr",
     "output_type": "stream",
     "text": [
      " 17%|█████████████                                                               | 224/1300 [14:42<1:10:12,  3.91s/it]"
     ]
    },
    {
     "name": "stdout",
     "output_type": "stream",
     "text": [
      "did not find https://www.smogon.com/dex/media/sprites/rb/moltres-galar.png: Not Found\n",
      "did not find https://www.smogon.com/dex/media/sprites/c/moltres-galar.gif: Not Found\n",
      "did not find https://www.smogon.com/dex/media/sprites/rs/moltres-galar.png: Not Found\n",
      "did not find https://www.smogon.com/dex/media/sprites/dp/moltres-galar.png: Not Found\n",
      "did not find https://www.smogon.com/dex/media/sprites/bw/moltres-galar.gif: Not Found\n"
     ]
    },
    {
     "name": "stderr",
     "output_type": "stream",
     "text": [
      " 17%|█████████████▏                                                              | 225/1300 [14:46<1:10:05,  3.91s/it]"
     ]
    },
    {
     "name": "stdout",
     "output_type": "stream",
     "text": [
      "dratini Dratini\r"
     ]
    },
    {
     "name": "stderr",
     "output_type": "stream",
     "text": [
      " 17%|█████████████▏                                                              | 226/1300 [14:50<1:07:54,  3.79s/it]"
     ]
    },
    {
     "name": "stdout",
     "output_type": "stream",
     "text": [
      "dragonair Dragonair\r"
     ]
    },
    {
     "name": "stderr",
     "output_type": "stream",
     "text": [
      " 17%|█████████████▎                                                              | 227/1300 [14:54<1:08:32,  3.83s/it]"
     ]
    },
    {
     "name": "stdout",
     "output_type": "stream",
     "text": [
      "dragonite Dragonite\r"
     ]
    },
    {
     "name": "stderr",
     "output_type": "stream",
     "text": [
      " 18%|█████████████▎                                                              | 228/1300 [14:58<1:09:35,  3.89s/it]"
     ]
    },
    {
     "name": "stdout",
     "output_type": "stream",
     "text": [
      "mewtwo Mewtwo\r"
     ]
    },
    {
     "name": "stderr",
     "output_type": "stream",
     "text": [
      " 18%|█████████████▍                                                              | 229/1300 [15:02<1:10:46,  3.97s/it]"
     ]
    },
    {
     "name": "stdout",
     "output_type": "stream",
     "text": [
      "did not find https://www.smogon.com/dex/media/sprites/rb/mewtwo-mega-x.png: Not Found\n",
      "did not find https://www.smogon.com/dex/media/sprites/c/mewtwo-mega-x.gif: Not Found\n",
      "did not find https://www.smogon.com/dex/media/sprites/rs/mewtwo-mega-x.png: Not Found\n",
      "did not find https://www.smogon.com/dex/media/sprites/dp/mewtwo-mega-x.png: Not Found\n",
      "did not find https://www.smogon.com/dex/media/sprites/bw/mewtwo-mega-x.gif: Not Found\n"
     ]
    },
    {
     "name": "stderr",
     "output_type": "stream",
     "text": [
      " 18%|█████████████▍                                                              | 230/1300 [15:06<1:09:15,  3.88s/it]"
     ]
    },
    {
     "name": "stdout",
     "output_type": "stream",
     "text": [
      "did not find https://www.smogon.com/dex/media/sprites/rb/mewtwo-mega-y.png: Not Found\n",
      "did not find https://www.smogon.com/dex/media/sprites/c/mewtwo-mega-y.gif: Not Found\n",
      "did not find https://www.smogon.com/dex/media/sprites/rs/mewtwo-mega-y.png: Not Found\n",
      "did not find https://www.smogon.com/dex/media/sprites/dp/mewtwo-mega-y.png: Not Found\n",
      "did not find https://www.smogon.com/dex/media/sprites/bw/mewtwo-mega-y.gif: Not Found\n"
     ]
    },
    {
     "name": "stderr",
     "output_type": "stream",
     "text": [
      " 18%|█████████████▌                                                              | 231/1300 [15:09<1:08:08,  3.82s/it]"
     ]
    },
    {
     "name": "stdout",
     "output_type": "stream",
     "text": [
      "mew  Mew\r"
     ]
    },
    {
     "name": "stderr",
     "output_type": "stream",
     "text": [
      " 18%|█████████████▌                                                              | 232/1300 [15:13<1:08:23,  3.84s/it]"
     ]
    },
    {
     "name": "stdout",
     "output_type": "stream",
     "text": [
      "did not find https://www.smogon.com/dex/media/sprites/rb/chikorita.png: Not Found\n"
     ]
    },
    {
     "name": "stderr",
     "output_type": "stream",
     "text": [
      " 18%|█████████████▌                                                              | 233/1300 [15:17<1:07:44,  3.81s/it]"
     ]
    },
    {
     "name": "stdout",
     "output_type": "stream",
     "text": [
      "did not find https://www.smogon.com/dex/media/sprites/rb/bayleef.png: Not Found\n"
     ]
    },
    {
     "name": "stderr",
     "output_type": "stream",
     "text": [
      " 18%|█████████████▋                                                              | 234/1300 [15:21<1:08:27,  3.85s/it]"
     ]
    },
    {
     "name": "stdout",
     "output_type": "stream",
     "text": [
      "did not find https://www.smogon.com/dex/media/sprites/rb/meganium.png: Not Found\n"
     ]
    },
    {
     "name": "stderr",
     "output_type": "stream",
     "text": [
      " 18%|█████████████▋                                                              | 235/1300 [15:25<1:09:44,  3.93s/it]"
     ]
    },
    {
     "name": "stdout",
     "output_type": "stream",
     "text": [
      "did not find https://www.smogon.com/dex/media/sprites/rb/cyndaquil.png: Not Found\n"
     ]
    },
    {
     "name": "stderr",
     "output_type": "stream",
     "text": [
      " 18%|█████████████▊                                                              | 236/1300 [15:29<1:09:26,  3.92s/it]"
     ]
    },
    {
     "name": "stdout",
     "output_type": "stream",
     "text": [
      "did not find https://www.smogon.com/dex/media/sprites/rb/quilava.png: Not Found\n"
     ]
    },
    {
     "name": "stderr",
     "output_type": "stream",
     "text": [
      " 18%|█████████████▊                                                              | 237/1300 [15:33<1:08:51,  3.89s/it]"
     ]
    },
    {
     "name": "stdout",
     "output_type": "stream",
     "text": [
      "did not find https://www.smogon.com/dex/media/sprites/rb/typhlosion.png: Not Found\n"
     ]
    },
    {
     "name": "stderr",
     "output_type": "stream",
     "text": [
      " 18%|█████████████▉                                                              | 238/1300 [15:37<1:10:38,  3.99s/it]"
     ]
    },
    {
     "name": "stdout",
     "output_type": "stream",
     "text": [
      "did not find https://www.smogon.com/dex/media/sprites/rb/typhlosion-hisui.png: Not Found\n",
      "did not find https://www.smogon.com/dex/media/sprites/c/typhlosion-hisui.gif: Not Found\n",
      "did not find https://www.smogon.com/dex/media/sprites/rs/typhlosion-hisui.png: Not Found\n",
      "did not find https://www.smogon.com/dex/media/sprites/dp/typhlosion-hisui.png: Not Found\n",
      "did not find https://www.smogon.com/dex/media/sprites/bw/typhlosion-hisui.gif: Not Found\n"
     ]
    },
    {
     "name": "stderr",
     "output_type": "stream",
     "text": [
      " 18%|█████████████▉                                                              | 239/1300 [15:41<1:08:53,  3.90s/it]"
     ]
    },
    {
     "name": "stdout",
     "output_type": "stream",
     "text": [
      "did not find https://www.smogon.com/dex/media/sprites/rb/totodile.png: Not Found\n"
     ]
    },
    {
     "name": "stderr",
     "output_type": "stream",
     "text": [
      " 18%|██████████████                                                              | 240/1300 [15:44<1:08:38,  3.89s/it]"
     ]
    },
    {
     "name": "stdout",
     "output_type": "stream",
     "text": [
      "did not find https://www.smogon.com/dex/media/sprites/rb/croconaw.png: Not Found\n"
     ]
    },
    {
     "name": "stderr",
     "output_type": "stream",
     "text": [
      " 19%|██████████████                                                              | 241/1300 [15:48<1:09:32,  3.94s/it]"
     ]
    },
    {
     "name": "stdout",
     "output_type": "stream",
     "text": [
      "did not find https://www.smogon.com/dex/media/sprites/rb/feraligatr.png: Not Found\n"
     ]
    },
    {
     "name": "stderr",
     "output_type": "stream",
     "text": [
      " 19%|██████████████▏                                                             | 242/1300 [15:53<1:11:31,  4.06s/it]"
     ]
    },
    {
     "name": "stdout",
     "output_type": "stream",
     "text": [
      "did not find https://www.smogon.com/dex/media/sprites/rb/sentret.png: Not Found\n"
     ]
    },
    {
     "name": "stderr",
     "output_type": "stream",
     "text": [
      " 19%|██████████████▏                                                             | 243/1300 [15:57<1:10:29,  4.00s/it]"
     ]
    },
    {
     "name": "stdout",
     "output_type": "stream",
     "text": [
      "did not find https://www.smogon.com/dex/media/sprites/rb/furret.png: Not Found\n"
     ]
    },
    {
     "name": "stderr",
     "output_type": "stream",
     "text": [
      " 19%|██████████████▎                                                             | 244/1300 [16:01<1:10:09,  3.99s/it]"
     ]
    },
    {
     "name": "stdout",
     "output_type": "stream",
     "text": [
      "did not find https://www.smogon.com/dex/media/sprites/rb/hoothoot.png: Not Found\n"
     ]
    },
    {
     "name": "stderr",
     "output_type": "stream",
     "text": [
      " 19%|██████████████▎                                                             | 245/1300 [16:04<1:09:06,  3.93s/it]"
     ]
    },
    {
     "name": "stdout",
     "output_type": "stream",
     "text": [
      "did not find https://www.smogon.com/dex/media/sprites/rb/noctowl.png: Not Found\n"
     ]
    },
    {
     "name": "stderr",
     "output_type": "stream",
     "text": [
      " 19%|██████████████▍                                                             | 246/1300 [16:08<1:08:53,  3.92s/it]"
     ]
    },
    {
     "name": "stdout",
     "output_type": "stream",
     "text": [
      "did not find https://www.smogon.com/dex/media/sprites/rb/ledyba.png: Not Found\n"
     ]
    },
    {
     "name": "stderr",
     "output_type": "stream",
     "text": [
      " 19%|██████████████▍                                                             | 247/1300 [16:12<1:08:35,  3.91s/it]"
     ]
    },
    {
     "name": "stdout",
     "output_type": "stream",
     "text": [
      "did not find https://www.smogon.com/dex/media/sprites/rb/ledian.png: Not Found\n"
     ]
    },
    {
     "name": "stderr",
     "output_type": "stream",
     "text": [
      " 19%|██████████████▍                                                             | 248/1300 [16:16<1:08:13,  3.89s/it]"
     ]
    },
    {
     "name": "stdout",
     "output_type": "stream",
     "text": [
      "did not find https://www.smogon.com/dex/media/sprites/rb/spinarak.png: Not Found\n"
     ]
    },
    {
     "name": "stderr",
     "output_type": "stream",
     "text": [
      " 19%|██████████████▌                                                             | 249/1300 [16:20<1:06:25,  3.79s/it]"
     ]
    },
    {
     "name": "stdout",
     "output_type": "stream",
     "text": [
      "did not find https://www.smogon.com/dex/media/sprites/rb/ariados.png: Not Found\n"
     ]
    },
    {
     "name": "stderr",
     "output_type": "stream",
     "text": [
      " 19%|██████████████▌                                                             | 250/1300 [16:23<1:06:33,  3.80s/it]"
     ]
    },
    {
     "name": "stdout",
     "output_type": "stream",
     "text": [
      "did not find https://www.smogon.com/dex/media/sprites/rb/crobat.png: Not Found\n"
     ]
    },
    {
     "name": "stderr",
     "output_type": "stream",
     "text": [
      " 19%|██████████████▋                                                             | 251/1300 [16:27<1:06:18,  3.79s/it]"
     ]
    },
    {
     "name": "stdout",
     "output_type": "stream",
     "text": [
      "did not find https://www.smogon.com/dex/media/sprites/rb/chinchou.png: Not Found\n"
     ]
    },
    {
     "name": "stderr",
     "output_type": "stream",
     "text": [
      " 19%|██████████████▋                                                             | 252/1300 [16:31<1:06:49,  3.83s/it]"
     ]
    },
    {
     "name": "stdout",
     "output_type": "stream",
     "text": [
      "did not find https://www.smogon.com/dex/media/sprites/rb/lanturn.png: Not Found\n"
     ]
    },
    {
     "name": "stderr",
     "output_type": "stream",
     "text": [
      " 19%|██████████████▊                                                             | 253/1300 [16:35<1:08:36,  3.93s/it]"
     ]
    },
    {
     "name": "stdout",
     "output_type": "stream",
     "text": [
      "did not find https://www.smogon.com/dex/media/sprites/rb/pichu.png: Not Found\n"
     ]
    },
    {
     "name": "stderr",
     "output_type": "stream",
     "text": [
      " 20%|██████████████▊                                                             | 254/1300 [16:39<1:07:51,  3.89s/it]"
     ]
    },
    {
     "name": "stdout",
     "output_type": "stream",
     "text": [
      "did not find https://www.smogon.com/dex/media/sprites/rb/pichu-spiky-eared.png: Not Found\n",
      "did not find https://www.smogon.com/dex/media/sprites/c/pichu-spiky-eared.gif: Not Found\n",
      "did not find https://www.smogon.com/dex/media/sprites/rs/pichu-spiky-eared.png: Not Found\n",
      "did not find https://www.smogon.com/dex/media/sprites/dp/pichu-spiky-eared.png: Not Found\n",
      "did not find https://www.smogon.com/dex/media/sprites/bw/pichu-spiky-eared.gif: Not Found\n"
     ]
    },
    {
     "name": "stderr",
     "output_type": "stream",
     "text": [
      " 20%|██████████████▉                                                             | 255/1300 [16:43<1:06:37,  3.83s/it]"
     ]
    },
    {
     "name": "stdout",
     "output_type": "stream",
     "text": [
      "did not find https://www.smogon.com/dex/media/sprites/xy/pichu-spiky-eared.gif: Not Found\n",
      "did not find https://www.smogon.com/dex/media/sprites/rb/cleffa.png: Not Found\n"
     ]
    },
    {
     "name": "stderr",
     "output_type": "stream",
     "text": [
      " 20%|██████████████▉                                                             | 256/1300 [16:46<1:05:19,  3.75s/it]"
     ]
    },
    {
     "name": "stdout",
     "output_type": "stream",
     "text": [
      "did not find https://www.smogon.com/dex/media/sprites/rb/igglybuff.png: Not Found\n"
     ]
    },
    {
     "name": "stderr",
     "output_type": "stream",
     "text": [
      " 20%|███████████████                                                             | 257/1300 [16:50<1:05:35,  3.77s/it]"
     ]
    },
    {
     "name": "stdout",
     "output_type": "stream",
     "text": [
      "did not find https://www.smogon.com/dex/media/sprites/rb/togepi.png: Not Found\n"
     ]
    },
    {
     "name": "stderr",
     "output_type": "stream",
     "text": [
      " 20%|███████████████                                                             | 258/1300 [16:54<1:05:58,  3.80s/it]"
     ]
    },
    {
     "name": "stdout",
     "output_type": "stream",
     "text": [
      "did not find https://www.smogon.com/dex/media/sprites/rb/togetic.png: Not Found\n"
     ]
    },
    {
     "name": "stderr",
     "output_type": "stream",
     "text": [
      " 20%|███████████████▏                                                            | 259/1300 [16:58<1:06:11,  3.82s/it]"
     ]
    },
    {
     "name": "stdout",
     "output_type": "stream",
     "text": [
      "did not find https://www.smogon.com/dex/media/sprites/rb/natu.png: Not Found\n"
     ]
    },
    {
     "name": "stderr",
     "output_type": "stream",
     "text": [
      " 20%|███████████████▏                                                            | 260/1300 [17:02<1:06:07,  3.82s/it]"
     ]
    },
    {
     "name": "stdout",
     "output_type": "stream",
     "text": [
      "did not find https://www.smogon.com/dex/media/sprites/rb/xatu.png: Not Found\n"
     ]
    },
    {
     "name": "stderr",
     "output_type": "stream",
     "text": [
      " 20%|███████████████▎                                                            | 261/1300 [17:06<1:06:16,  3.83s/it]"
     ]
    },
    {
     "name": "stdout",
     "output_type": "stream",
     "text": [
      "did not find https://www.smogon.com/dex/media/sprites/rb/mareep.png: Not Found\n"
     ]
    },
    {
     "name": "stderr",
     "output_type": "stream",
     "text": [
      " 20%|███████████████▎                                                            | 262/1300 [17:09<1:06:29,  3.84s/it]"
     ]
    },
    {
     "name": "stdout",
     "output_type": "stream",
     "text": [
      "did not find https://www.smogon.com/dex/media/sprites/rb/flaaffy.png: Not Found\n"
     ]
    },
    {
     "name": "stderr",
     "output_type": "stream",
     "text": [
      " 20%|███████████████▍                                                            | 263/1300 [17:13<1:06:53,  3.87s/it]"
     ]
    },
    {
     "name": "stdout",
     "output_type": "stream",
     "text": [
      "did not find https://www.smogon.com/dex/media/sprites/rb/ampharos.png: Not Found\n"
     ]
    },
    {
     "name": "stderr",
     "output_type": "stream",
     "text": [
      " 20%|███████████████▍                                                            | 264/1300 [17:17<1:07:33,  3.91s/it]"
     ]
    },
    {
     "name": "stdout",
     "output_type": "stream",
     "text": [
      "did not find https://www.smogon.com/dex/media/sprites/rb/ampharos-mega.png: Not Found\n",
      "did not find https://www.smogon.com/dex/media/sprites/c/ampharos-mega.gif: Not Found\n",
      "did not find https://www.smogon.com/dex/media/sprites/rs/ampharos-mega.png: Not Found\n",
      "did not find https://www.smogon.com/dex/media/sprites/dp/ampharos-mega.png: Not Found\n",
      "did not find https://www.smogon.com/dex/media/sprites/bw/ampharos-mega.gif: Not Found\n"
     ]
    },
    {
     "name": "stderr",
     "output_type": "stream",
     "text": [
      " 20%|███████████████▍                                                            | 265/1300 [17:21<1:07:02,  3.89s/it]"
     ]
    },
    {
     "name": "stdout",
     "output_type": "stream",
     "text": [
      "did not find https://www.smogon.com/dex/media/sprites/rb/bellossom.png: Not Found\n"
     ]
    },
    {
     "name": "stderr",
     "output_type": "stream",
     "text": [
      " 20%|███████████████▌                                                            | 266/1300 [17:25<1:06:32,  3.86s/it]"
     ]
    },
    {
     "name": "stdout",
     "output_type": "stream",
     "text": [
      "did not find https://www.smogon.com/dex/media/sprites/rb/marill.png: Not Found\n"
     ]
    },
    {
     "name": "stderr",
     "output_type": "stream",
     "text": [
      " 21%|███████████████▌                                                            | 267/1300 [17:29<1:06:35,  3.87s/it]"
     ]
    },
    {
     "name": "stdout",
     "output_type": "stream",
     "text": [
      "did not find https://www.smogon.com/dex/media/sprites/rb/azumarill.png: Not Found\n"
     ]
    },
    {
     "name": "stderr",
     "output_type": "stream",
     "text": [
      " 21%|███████████████▋                                                            | 268/1300 [17:33<1:06:52,  3.89s/it]"
     ]
    },
    {
     "name": "stdout",
     "output_type": "stream",
     "text": [
      "did not find https://www.smogon.com/dex/media/sprites/rb/sudowoodo.png: Not Found\n"
     ]
    },
    {
     "name": "stderr",
     "output_type": "stream",
     "text": [
      " 21%|███████████████▋                                                            | 269/1300 [17:37<1:06:29,  3.87s/it]"
     ]
    },
    {
     "name": "stdout",
     "output_type": "stream",
     "text": [
      "did not find https://www.smogon.com/dex/media/sprites/rb/politoed.png: Not Found\n"
     ]
    },
    {
     "name": "stderr",
     "output_type": "stream",
     "text": [
      " 21%|███████████████▊                                                            | 270/1300 [17:41<1:07:09,  3.91s/it]"
     ]
    },
    {
     "name": "stdout",
     "output_type": "stream",
     "text": [
      "did not find https://www.smogon.com/dex/media/sprites/rb/hoppip.png: Not Found\n"
     ]
    },
    {
     "name": "stderr",
     "output_type": "stream",
     "text": [
      " 21%|███████████████▊                                                            | 271/1300 [17:45<1:06:47,  3.89s/it]"
     ]
    },
    {
     "name": "stdout",
     "output_type": "stream",
     "text": [
      "did not find https://www.smogon.com/dex/media/sprites/rb/skiploom.png: Not Found\n"
     ]
    },
    {
     "name": "stderr",
     "output_type": "stream",
     "text": [
      " 21%|███████████████▉                                                            | 272/1300 [17:48<1:06:33,  3.89s/it]"
     ]
    },
    {
     "name": "stdout",
     "output_type": "stream",
     "text": [
      "did not find https://www.smogon.com/dex/media/sprites/rb/jumpluff.png: Not Found\n"
     ]
    },
    {
     "name": "stderr",
     "output_type": "stream",
     "text": [
      " 21%|███████████████▉                                                            | 273/1300 [17:52<1:06:44,  3.90s/it]"
     ]
    },
    {
     "name": "stdout",
     "output_type": "stream",
     "text": [
      "did not find https://www.smogon.com/dex/media/sprites/rb/aipom.png: Not Found\n"
     ]
    },
    {
     "name": "stderr",
     "output_type": "stream",
     "text": [
      " 21%|████████████████                                                            | 274/1300 [17:56<1:05:38,  3.84s/it]"
     ]
    },
    {
     "name": "stdout",
     "output_type": "stream",
     "text": [
      "did not find https://www.smogon.com/dex/media/sprites/rb/sunkern.png: Not Found\n"
     ]
    },
    {
     "name": "stderr",
     "output_type": "stream",
     "text": [
      " 21%|████████████████                                                            | 275/1300 [18:00<1:05:07,  3.81s/it]"
     ]
    },
    {
     "name": "stdout",
     "output_type": "stream",
     "text": [
      "did not find https://www.smogon.com/dex/media/sprites/rb/sunflora.png: Not Found\n"
     ]
    },
    {
     "name": "stderr",
     "output_type": "stream",
     "text": [
      " 21%|████████████████▏                                                           | 276/1300 [18:04<1:05:10,  3.82s/it]"
     ]
    },
    {
     "name": "stdout",
     "output_type": "stream",
     "text": [
      "did not find https://www.smogon.com/dex/media/sprites/rb/yanma.png: Not Found\n"
     ]
    },
    {
     "name": "stderr",
     "output_type": "stream",
     "text": [
      " 21%|████████████████▏                                                           | 277/1300 [18:07<1:05:13,  3.83s/it]"
     ]
    },
    {
     "name": "stdout",
     "output_type": "stream",
     "text": [
      "did not find https://www.smogon.com/dex/media/sprites/rb/wooper.png: Not Found\n"
     ]
    },
    {
     "name": "stderr",
     "output_type": "stream",
     "text": [
      " 21%|████████████████▎                                                           | 278/1300 [18:11<1:05:27,  3.84s/it]"
     ]
    },
    {
     "name": "stdout",
     "output_type": "stream",
     "text": [
      "did not find https://www.smogon.com/dex/media/sprites/rb/wooper-paldea.png: Not Found\n",
      "did not find https://www.smogon.com/dex/media/sprites/c/wooper-paldea.gif: Not Found\n",
      "did not find https://www.smogon.com/dex/media/sprites/rs/wooper-paldea.png: Not Found\n",
      "did not find https://www.smogon.com/dex/media/sprites/dp/wooper-paldea.png: Not Found\n",
      "did not find https://www.smogon.com/dex/media/sprites/bw/wooper-paldea.gif: Not Found\n"
     ]
    },
    {
     "name": "stderr",
     "output_type": "stream",
     "text": [
      " 21%|████████████████▎                                                           | 279/1300 [18:15<1:03:42,  3.74s/it]"
     ]
    },
    {
     "name": "stdout",
     "output_type": "stream",
     "text": [
      "did not find https://www.smogon.com/dex/media/sprites/rb/quagsire.png: Not Found\n"
     ]
    },
    {
     "name": "stderr",
     "output_type": "stream",
     "text": [
      " 22%|████████████████▎                                                           | 280/1300 [18:19<1:04:33,  3.80s/it]"
     ]
    },
    {
     "name": "stdout",
     "output_type": "stream",
     "text": [
      "did not find https://www.smogon.com/dex/media/sprites/rb/espeon.png: Not Found\n"
     ]
    },
    {
     "name": "stderr",
     "output_type": "stream",
     "text": [
      " 22%|████████████████▍                                                           | 281/1300 [18:23<1:05:11,  3.84s/it]"
     ]
    },
    {
     "name": "stdout",
     "output_type": "stream",
     "text": [
      "did not find https://www.smogon.com/dex/media/sprites/rb/umbreon.png: Not Found\n"
     ]
    },
    {
     "name": "stderr",
     "output_type": "stream",
     "text": [
      " 22%|████████████████▍                                                           | 282/1300 [18:26<1:04:46,  3.82s/it]"
     ]
    },
    {
     "name": "stdout",
     "output_type": "stream",
     "text": [
      "did not find https://www.smogon.com/dex/media/sprites/rb/murkrow.png: Not Found\n"
     ]
    },
    {
     "name": "stderr",
     "output_type": "stream",
     "text": [
      " 22%|████████████████▌                                                           | 283/1300 [18:30<1:03:53,  3.77s/it]"
     ]
    },
    {
     "name": "stdout",
     "output_type": "stream",
     "text": [
      "did not find https://www.smogon.com/dex/media/sprites/rb/slowking.png: Not Found\n"
     ]
    },
    {
     "name": "stderr",
     "output_type": "stream",
     "text": [
      " 22%|████████████████▌                                                           | 284/1300 [18:34<1:04:27,  3.81s/it]"
     ]
    },
    {
     "name": "stdout",
     "output_type": "stream",
     "text": [
      "did not find https://www.smogon.com/dex/media/sprites/rb/slowking-galar.png: Not Found\n",
      "did not find https://www.smogon.com/dex/media/sprites/c/slowking-galar.gif: Not Found\n",
      "did not find https://www.smogon.com/dex/media/sprites/rs/slowking-galar.png: Not Found\n",
      "did not find https://www.smogon.com/dex/media/sprites/dp/slowking-galar.png: Not Found\n",
      "did not find https://www.smogon.com/dex/media/sprites/bw/slowking-galar.gif: Not Found\n"
     ]
    },
    {
     "name": "stderr",
     "output_type": "stream",
     "text": [
      " 22%|████████████████▋                                                           | 285/1300 [18:38<1:05:21,  3.86s/it]"
     ]
    },
    {
     "name": "stdout",
     "output_type": "stream",
     "text": [
      "did not find https://www.smogon.com/dex/media/sprites/rb/misdreavus.png: Not Found\n"
     ]
    },
    {
     "name": "stderr",
     "output_type": "stream",
     "text": [
      " 22%|████████████████▋                                                           | 286/1300 [18:42<1:05:01,  3.85s/it]"
     ]
    },
    {
     "name": "stdout",
     "output_type": "stream",
     "text": [
      "did not find https://www.smogon.com/dex/media/sprites/rb/unown.png: Not Found\n"
     ]
    },
    {
     "name": "stderr",
     "output_type": "stream",
     "text": [
      " 22%|████████████████▊                                                           | 287/1300 [18:46<1:04:18,  3.81s/it]"
     ]
    },
    {
     "name": "stdout",
     "output_type": "stream",
     "text": [
      "did not find https://www.smogon.com/dex/media/sprites/rb/wobbuffet.png: Not Found\n"
     ]
    },
    {
     "name": "stderr",
     "output_type": "stream",
     "text": [
      " 22%|████████████████▊                                                           | 288/1300 [18:49<1:04:54,  3.85s/it]"
     ]
    },
    {
     "name": "stdout",
     "output_type": "stream",
     "text": [
      "did not find https://www.smogon.com/dex/media/sprites/rb/girafarig.png: Not Found\n"
     ]
    },
    {
     "name": "stderr",
     "output_type": "stream",
     "text": [
      " 22%|████████████████▉                                                           | 289/1300 [18:54<1:06:44,  3.96s/it]"
     ]
    },
    {
     "name": "stdout",
     "output_type": "stream",
     "text": [
      "did not find https://www.smogon.com/dex/media/sprites/rb/pineco.png: Not Found\n"
     ]
    },
    {
     "name": "stderr",
     "output_type": "stream",
     "text": [
      " 22%|████████████████▉                                                           | 290/1300 [18:58<1:06:29,  3.95s/it]"
     ]
    },
    {
     "name": "stdout",
     "output_type": "stream",
     "text": [
      "did not find https://www.smogon.com/dex/media/sprites/rb/forretress.png: Not Found\n"
     ]
    },
    {
     "name": "stderr",
     "output_type": "stream",
     "text": [
      " 22%|█████████████████                                                           | 291/1300 [19:02<1:06:30,  3.95s/it]"
     ]
    },
    {
     "name": "stdout",
     "output_type": "stream",
     "text": [
      "did not find https://www.smogon.com/dex/media/sprites/rb/dunsparce.png: Not Found\n"
     ]
    },
    {
     "name": "stderr",
     "output_type": "stream",
     "text": [
      " 22%|█████████████████                                                           | 292/1300 [19:05<1:06:07,  3.94s/it]"
     ]
    },
    {
     "name": "stdout",
     "output_type": "stream",
     "text": [
      "did not find https://www.smogon.com/dex/media/sprites/rb/gligar.png: Not Found\n"
     ]
    },
    {
     "name": "stderr",
     "output_type": "stream",
     "text": [
      " 23%|█████████████████▏                                                          | 293/1300 [19:09<1:05:47,  3.92s/it]"
     ]
    },
    {
     "name": "stdout",
     "output_type": "stream",
     "text": [
      "did not find https://www.smogon.com/dex/media/sprites/rb/steelix.png: Not Found\n"
     ]
    },
    {
     "name": "stderr",
     "output_type": "stream",
     "text": [
      " 23%|█████████████████▏                                                          | 294/1300 [19:14<1:06:50,  3.99s/it]"
     ]
    },
    {
     "name": "stdout",
     "output_type": "stream",
     "text": [
      "did not find https://www.smogon.com/dex/media/sprites/rb/steelix-mega.png: Not Found\n",
      "did not find https://www.smogon.com/dex/media/sprites/c/steelix-mega.gif: Not Found\n",
      "did not find https://www.smogon.com/dex/media/sprites/rs/steelix-mega.png: Not Found\n",
      "did not find https://www.smogon.com/dex/media/sprites/dp/steelix-mega.png: Not Found\n",
      "did not find https://www.smogon.com/dex/media/sprites/bw/steelix-mega.gif: Not Found\n"
     ]
    },
    {
     "name": "stderr",
     "output_type": "stream",
     "text": [
      " 23%|█████████████████▏                                                          | 295/1300 [19:17<1:06:31,  3.97s/it]"
     ]
    },
    {
     "name": "stdout",
     "output_type": "stream",
     "text": [
      "did not find https://www.smogon.com/dex/media/sprites/rb/snubbull.png: Not Found\n"
     ]
    },
    {
     "name": "stderr",
     "output_type": "stream",
     "text": [
      " 23%|█████████████████▎                                                          | 296/1300 [19:21<1:05:56,  3.94s/it]"
     ]
    },
    {
     "name": "stdout",
     "output_type": "stream",
     "text": [
      "did not find https://www.smogon.com/dex/media/sprites/rb/granbull.png: Not Found\n"
     ]
    },
    {
     "name": "stderr",
     "output_type": "stream",
     "text": [
      " 23%|█████████████████▎                                                          | 297/1300 [19:25<1:06:08,  3.96s/it]"
     ]
    },
    {
     "name": "stdout",
     "output_type": "stream",
     "text": [
      "did not find https://www.smogon.com/dex/media/sprites/rb/qwilfish.png: Not Found\n"
     ]
    },
    {
     "name": "stderr",
     "output_type": "stream",
     "text": [
      " 23%|█████████████████▍                                                          | 298/1300 [19:29<1:06:29,  3.98s/it]"
     ]
    },
    {
     "name": "stdout",
     "output_type": "stream",
     "text": [
      "did not find https://www.smogon.com/dex/media/sprites/rb/qwilfish-hisui.png: Not Found\n",
      "did not find https://www.smogon.com/dex/media/sprites/c/qwilfish-hisui.gif: Not Found\n",
      "did not find https://www.smogon.com/dex/media/sprites/rs/qwilfish-hisui.png: Not Found\n",
      "did not find https://www.smogon.com/dex/media/sprites/dp/qwilfish-hisui.png: Not Found\n",
      "did not find https://www.smogon.com/dex/media/sprites/bw/qwilfish-hisui.gif: Not Found\n"
     ]
    },
    {
     "name": "stderr",
     "output_type": "stream",
     "text": [
      " 23%|█████████████████▍                                                          | 299/1300 [19:33<1:04:19,  3.86s/it]"
     ]
    },
    {
     "name": "stdout",
     "output_type": "stream",
     "text": [
      "did not find https://www.smogon.com/dex/media/sprites/rb/scizor.png: Not Found\n"
     ]
    },
    {
     "name": "stderr",
     "output_type": "stream",
     "text": [
      " 23%|█████████████████▌                                                          | 300/1300 [19:37<1:05:22,  3.92s/it]"
     ]
    },
    {
     "name": "stdout",
     "output_type": "stream",
     "text": [
      "did not find https://www.smogon.com/dex/media/sprites/rb/scizor-mega.png: Not Found\n",
      "did not find https://www.smogon.com/dex/media/sprites/c/scizor-mega.gif: Not Found\n",
      "did not find https://www.smogon.com/dex/media/sprites/rs/scizor-mega.png: Not Found\n",
      "did not find https://www.smogon.com/dex/media/sprites/dp/scizor-mega.png: Not Found\n",
      "did not find https://www.smogon.com/dex/media/sprites/bw/scizor-mega.gif: Not Found\n"
     ]
    },
    {
     "name": "stderr",
     "output_type": "stream",
     "text": [
      " 23%|█████████████████▌                                                          | 301/1300 [19:41<1:04:28,  3.87s/it]"
     ]
    },
    {
     "name": "stdout",
     "output_type": "stream",
     "text": [
      "did not find https://www.smogon.com/dex/media/sprites/rb/shuckle.png: Not Found\n"
     ]
    },
    {
     "name": "stderr",
     "output_type": "stream",
     "text": [
      " 23%|█████████████████▋                                                          | 302/1300 [19:45<1:05:02,  3.91s/it]"
     ]
    },
    {
     "name": "stdout",
     "output_type": "stream",
     "text": [
      "did not find https://www.smogon.com/dex/media/sprites/rb/heracross.png: Not Found\n"
     ]
    },
    {
     "name": "stderr",
     "output_type": "stream",
     "text": [
      " 23%|█████████████████▋                                                          | 303/1300 [19:49<1:05:36,  3.95s/it]"
     ]
    },
    {
     "name": "stdout",
     "output_type": "stream",
     "text": [
      "did not find https://www.smogon.com/dex/media/sprites/rb/heracross-mega.png: Not Found\n",
      "did not find https://www.smogon.com/dex/media/sprites/c/heracross-mega.gif: Not Found\n",
      "did not find https://www.smogon.com/dex/media/sprites/rs/heracross-mega.png: Not Found\n",
      "did not find https://www.smogon.com/dex/media/sprites/dp/heracross-mega.png: Not Found\n",
      "did not find https://www.smogon.com/dex/media/sprites/bw/heracross-mega.gif: Not Found\n"
     ]
    },
    {
     "name": "stderr",
     "output_type": "stream",
     "text": [
      " 23%|█████████████████▊                                                          | 304/1300 [19:53<1:06:10,  3.99s/it]"
     ]
    },
    {
     "name": "stdout",
     "output_type": "stream",
     "text": [
      "did not find https://www.smogon.com/dex/media/sprites/rb/sneasel.png: Not Found\n"
     ]
    },
    {
     "name": "stderr",
     "output_type": "stream",
     "text": [
      " 23%|█████████████████▊                                                          | 305/1300 [19:57<1:05:27,  3.95s/it]"
     ]
    },
    {
     "name": "stdout",
     "output_type": "stream",
     "text": [
      "did not find https://www.smogon.com/dex/media/sprites/rb/sneasel-hisui.png: Not Found\n",
      "did not find https://www.smogon.com/dex/media/sprites/c/sneasel-hisui.gif: Not Found\n",
      "did not find https://www.smogon.com/dex/media/sprites/rs/sneasel-hisui.png: Not Found\n",
      "did not find https://www.smogon.com/dex/media/sprites/dp/sneasel-hisui.png: Not Found\n",
      "did not find https://www.smogon.com/dex/media/sprites/bw/sneasel-hisui.gif: Not Found\n"
     ]
    },
    {
     "name": "stderr",
     "output_type": "stream",
     "text": [
      " 24%|█████████████████▉                                                          | 306/1300 [20:00<1:03:49,  3.85s/it]"
     ]
    },
    {
     "name": "stdout",
     "output_type": "stream",
     "text": [
      "did not find https://www.smogon.com/dex/media/sprites/rb/teddiursa.png: Not Found\n"
     ]
    },
    {
     "name": "stderr",
     "output_type": "stream",
     "text": [
      " 24%|█████████████████▉                                                          | 307/1300 [20:04<1:03:06,  3.81s/it]"
     ]
    },
    {
     "name": "stdout",
     "output_type": "stream",
     "text": [
      "did not find https://www.smogon.com/dex/media/sprites/rb/ursaring.png: Not Found\n"
     ]
    },
    {
     "name": "stderr",
     "output_type": "stream",
     "text": [
      " 24%|██████████████████                                                          | 308/1300 [20:08<1:05:07,  3.94s/it]"
     ]
    },
    {
     "name": "stdout",
     "output_type": "stream",
     "text": [
      "did not find https://www.smogon.com/dex/media/sprites/rb/slugma.png: Not Found\n"
     ]
    },
    {
     "name": "stderr",
     "output_type": "stream",
     "text": [
      " 24%|██████████████████                                                          | 309/1300 [20:12<1:04:35,  3.91s/it]"
     ]
    },
    {
     "name": "stdout",
     "output_type": "stream",
     "text": [
      "did not find https://www.smogon.com/dex/media/sprites/rb/magcargo.png: Not Found\n"
     ]
    },
    {
     "name": "stderr",
     "output_type": "stream",
     "text": [
      " 24%|██████████████████                                                          | 310/1300 [20:16<1:05:15,  3.96s/it]"
     ]
    },
    {
     "name": "stdout",
     "output_type": "stream",
     "text": [
      "did not find https://www.smogon.com/dex/media/sprites/rb/swinub.png: Not Found\n"
     ]
    },
    {
     "name": "stderr",
     "output_type": "stream",
     "text": [
      " 24%|██████████████████▏                                                         | 311/1300 [20:20<1:04:25,  3.91s/it]"
     ]
    },
    {
     "name": "stdout",
     "output_type": "stream",
     "text": [
      "did not find https://www.smogon.com/dex/media/sprites/rb/piloswine.png: Not Found\n"
     ]
    },
    {
     "name": "stderr",
     "output_type": "stream",
     "text": [
      " 24%|██████████████████▏                                                         | 312/1300 [20:24<1:04:35,  3.92s/it]"
     ]
    },
    {
     "name": "stdout",
     "output_type": "stream",
     "text": [
      "did not find https://www.smogon.com/dex/media/sprites/rb/corsola.png: Not Found\n"
     ]
    },
    {
     "name": "stderr",
     "output_type": "stream",
     "text": [
      " 24%|██████████████████▎                                                         | 313/1300 [20:28<1:04:35,  3.93s/it]"
     ]
    },
    {
     "name": "stdout",
     "output_type": "stream",
     "text": [
      "did not find https://www.smogon.com/dex/media/sprites/rb/corsola-galar.png: Not Found\n",
      "did not find https://www.smogon.com/dex/media/sprites/c/corsola-galar.gif: Not Found\n",
      "did not find https://www.smogon.com/dex/media/sprites/rs/corsola-galar.png: Not Found\n",
      "did not find https://www.smogon.com/dex/media/sprites/dp/corsola-galar.png: Not Found\n",
      "did not find https://www.smogon.com/dex/media/sprites/bw/corsola-galar.gif: Not Found\n"
     ]
    },
    {
     "name": "stderr",
     "output_type": "stream",
     "text": [
      " 24%|██████████████████▎                                                         | 314/1300 [20:32<1:03:47,  3.88s/it]"
     ]
    },
    {
     "name": "stdout",
     "output_type": "stream",
     "text": [
      "did not find https://www.smogon.com/dex/media/sprites/rb/remoraid.png: Not Found\n"
     ]
    },
    {
     "name": "stderr",
     "output_type": "stream",
     "text": [
      " 24%|██████████████████▍                                                         | 315/1300 [20:36<1:03:35,  3.87s/it]"
     ]
    },
    {
     "name": "stdout",
     "output_type": "stream",
     "text": [
      "did not find https://www.smogon.com/dex/media/sprites/rb/octillery.png: Not Found\n"
     ]
    },
    {
     "name": "stderr",
     "output_type": "stream",
     "text": [
      " 24%|██████████████████▍                                                         | 316/1300 [20:39<1:03:41,  3.88s/it]"
     ]
    },
    {
     "name": "stdout",
     "output_type": "stream",
     "text": [
      "did not find https://www.smogon.com/dex/media/sprites/rb/delibird.png: Not Found\n"
     ]
    },
    {
     "name": "stderr",
     "output_type": "stream",
     "text": [
      " 24%|██████████████████▌                                                         | 317/1300 [20:43<1:03:17,  3.86s/it]"
     ]
    },
    {
     "name": "stdout",
     "output_type": "stream",
     "text": [
      "did not find https://www.smogon.com/dex/media/sprites/rb/mantine.png: Not Found\n"
     ]
    },
    {
     "name": "stderr",
     "output_type": "stream",
     "text": [
      " 24%|██████████████████▌                                                         | 318/1300 [20:47<1:04:45,  3.96s/it]"
     ]
    },
    {
     "name": "stdout",
     "output_type": "stream",
     "text": [
      "did not find https://www.smogon.com/dex/media/sprites/rb/skarmory.png: Not Found\n"
     ]
    },
    {
     "name": "stderr",
     "output_type": "stream",
     "text": [
      " 25%|██████████████████▋                                                         | 319/1300 [20:52<1:05:28,  4.01s/it]"
     ]
    },
    {
     "name": "stdout",
     "output_type": "stream",
     "text": [
      "did not find https://www.smogon.com/dex/media/sprites/rb/houndour.png: Not Found\n"
     ]
    },
    {
     "name": "stderr",
     "output_type": "stream",
     "text": [
      " 25%|██████████████████▋                                                         | 320/1300 [20:55<1:04:51,  3.97s/it]"
     ]
    },
    {
     "name": "stdout",
     "output_type": "stream",
     "text": [
      "did not find https://www.smogon.com/dex/media/sprites/rb/houndoom.png: Not Found\n"
     ]
    },
    {
     "name": "stderr",
     "output_type": "stream",
     "text": [
      " 25%|██████████████████▊                                                         | 321/1300 [21:00<1:05:40,  4.02s/it]"
     ]
    },
    {
     "name": "stdout",
     "output_type": "stream",
     "text": [
      "did not find https://www.smogon.com/dex/media/sprites/rb/houndoom-mega.png: Not Found\n",
      "did not find https://www.smogon.com/dex/media/sprites/c/houndoom-mega.gif: Not Found\n",
      "did not find https://www.smogon.com/dex/media/sprites/rs/houndoom-mega.png: Not Found\n",
      "did not find https://www.smogon.com/dex/media/sprites/dp/houndoom-mega.png: Not Found\n",
      "did not find https://www.smogon.com/dex/media/sprites/bw/houndoom-mega.gif: Not Found\n"
     ]
    },
    {
     "name": "stderr",
     "output_type": "stream",
     "text": [
      " 25%|██████████████████▊                                                         | 322/1300 [21:03<1:05:04,  3.99s/it]"
     ]
    },
    {
     "name": "stdout",
     "output_type": "stream",
     "text": [
      "did not find https://www.smogon.com/dex/media/sprites/rb/kingdra.png: Not Found\n"
     ]
    },
    {
     "name": "stderr",
     "output_type": "stream",
     "text": [
      " 25%|██████████████████▉                                                         | 323/1300 [21:08<1:05:17,  4.01s/it]"
     ]
    },
    {
     "name": "stdout",
     "output_type": "stream",
     "text": [
      "did not find https://www.smogon.com/dex/media/sprites/rb/phanpy.png: Not Found\n"
     ]
    },
    {
     "name": "stderr",
     "output_type": "stream",
     "text": [
      " 25%|██████████████████▉                                                         | 324/1300 [21:11<1:04:32,  3.97s/it]"
     ]
    },
    {
     "name": "stdout",
     "output_type": "stream",
     "text": [
      "did not find https://www.smogon.com/dex/media/sprites/rb/donphan.png: Not Found\n"
     ]
    },
    {
     "name": "stderr",
     "output_type": "stream",
     "text": [
      " 25%|███████████████████                                                         | 325/1300 [21:16<1:05:30,  4.03s/it]"
     ]
    },
    {
     "name": "stdout",
     "output_type": "stream",
     "text": [
      "did not find https://www.smogon.com/dex/media/sprites/rb/porygon2.png: Not Found\n"
     ]
    },
    {
     "name": "stderr",
     "output_type": "stream",
     "text": [
      " 25%|███████████████████                                                         | 326/1300 [21:20<1:05:09,  4.01s/it]"
     ]
    },
    {
     "name": "stdout",
     "output_type": "stream",
     "text": [
      "did not find https://www.smogon.com/dex/media/sprites/rb/stantler.png: Not Found\n"
     ]
    },
    {
     "name": "stderr",
     "output_type": "stream",
     "text": [
      " 25%|███████████████████                                                         | 327/1300 [21:23<1:04:34,  3.98s/it]"
     ]
    },
    {
     "name": "stdout",
     "output_type": "stream",
     "text": [
      "did not find https://www.smogon.com/dex/media/sprites/rb/smeargle.png: Not Found\n"
     ]
    },
    {
     "name": "stderr",
     "output_type": "stream",
     "text": [
      " 25%|███████████████████▏                                                        | 328/1300 [21:27<1:04:39,  3.99s/it]"
     ]
    },
    {
     "name": "stdout",
     "output_type": "stream",
     "text": [
      "did not find https://www.smogon.com/dex/media/sprites/rb/tyrogue.png: Not Found\n"
     ]
    },
    {
     "name": "stderr",
     "output_type": "stream",
     "text": [
      " 25%|███████████████████▏                                                        | 329/1300 [21:31<1:04:03,  3.96s/it]"
     ]
    },
    {
     "name": "stdout",
     "output_type": "stream",
     "text": [
      "did not find https://www.smogon.com/dex/media/sprites/rb/hitmontop.png: Not Found\n"
     ]
    },
    {
     "name": "stderr",
     "output_type": "stream",
     "text": [
      " 25%|███████████████████▎                                                        | 330/1300 [21:35<1:04:37,  4.00s/it]"
     ]
    },
    {
     "name": "stdout",
     "output_type": "stream",
     "text": [
      "did not find https://www.smogon.com/dex/media/sprites/rb/smoochum.png: Not Found\n"
     ]
    },
    {
     "name": "stderr",
     "output_type": "stream",
     "text": [
      " 25%|███████████████████▎                                                        | 331/1300 [21:39<1:04:11,  3.97s/it]"
     ]
    },
    {
     "name": "stdout",
     "output_type": "stream",
     "text": [
      "did not find https://www.smogon.com/dex/media/sprites/rb/elekid.png: Not Found\n"
     ]
    },
    {
     "name": "stderr",
     "output_type": "stream",
     "text": [
      " 26%|███████████████████▍                                                        | 332/1300 [21:43<1:03:49,  3.96s/it]"
     ]
    },
    {
     "name": "stdout",
     "output_type": "stream",
     "text": [
      "did not find https://www.smogon.com/dex/media/sprites/rb/magby.png: Not Found\n"
     ]
    },
    {
     "name": "stderr",
     "output_type": "stream",
     "text": [
      " 26%|███████████████████▍                                                        | 333/1300 [21:47<1:02:31,  3.88s/it]"
     ]
    },
    {
     "name": "stdout",
     "output_type": "stream",
     "text": [
      "did not find https://www.smogon.com/dex/media/sprites/rb/miltank.png: Not Found\n"
     ]
    },
    {
     "name": "stderr",
     "output_type": "stream",
     "text": [
      " 26%|███████████████████▌                                                        | 334/1300 [21:51<1:02:47,  3.90s/it]"
     ]
    },
    {
     "name": "stdout",
     "output_type": "stream",
     "text": [
      "did not find https://www.smogon.com/dex/media/sprites/rb/blissey.png: Not Found\n"
     ]
    },
    {
     "name": "stderr",
     "output_type": "stream",
     "text": [
      " 26%|███████████████████▌                                                        | 335/1300 [21:55<1:02:45,  3.90s/it]"
     ]
    },
    {
     "name": "stdout",
     "output_type": "stream",
     "text": [
      "did not find https://www.smogon.com/dex/media/sprites/rb/raikou.png: Not Found\n"
     ]
    },
    {
     "name": "stderr",
     "output_type": "stream",
     "text": [
      " 26%|███████████████████▋                                                        | 336/1300 [21:59<1:03:10,  3.93s/it]"
     ]
    },
    {
     "name": "stdout",
     "output_type": "stream",
     "text": [
      "did not find https://www.smogon.com/dex/media/sprites/rb/entei.png: Not Found\n"
     ]
    },
    {
     "name": "stderr",
     "output_type": "stream",
     "text": [
      " 26%|███████████████████▋                                                        | 337/1300 [22:03<1:04:21,  4.01s/it]"
     ]
    },
    {
     "name": "stdout",
     "output_type": "stream",
     "text": [
      "did not find https://www.smogon.com/dex/media/sprites/rb/suicune.png: Not Found\n"
     ]
    },
    {
     "name": "stderr",
     "output_type": "stream",
     "text": [
      " 26%|███████████████████▊                                                        | 338/1300 [22:07<1:06:12,  4.13s/it]"
     ]
    },
    {
     "name": "stdout",
     "output_type": "stream",
     "text": [
      "did not find https://www.smogon.com/dex/media/sprites/rb/larvitar.png: Not Found\n"
     ]
    },
    {
     "name": "stderr",
     "output_type": "stream",
     "text": [
      " 26%|███████████████████▊                                                        | 339/1300 [22:11<1:05:02,  4.06s/it]"
     ]
    },
    {
     "name": "stdout",
     "output_type": "stream",
     "text": [
      "did not find https://www.smogon.com/dex/media/sprites/rb/pupitar.png: Not Found\n"
     ]
    },
    {
     "name": "stderr",
     "output_type": "stream",
     "text": [
      " 26%|███████████████████▉                                                        | 340/1300 [22:15<1:04:02,  4.00s/it]"
     ]
    },
    {
     "name": "stdout",
     "output_type": "stream",
     "text": [
      "did not find https://www.smogon.com/dex/media/sprites/rb/tyranitar.png: Not Found\n"
     ]
    },
    {
     "name": "stderr",
     "output_type": "stream",
     "text": [
      " 26%|███████████████████▉                                                        | 341/1300 [22:19<1:04:53,  4.06s/it]"
     ]
    },
    {
     "name": "stdout",
     "output_type": "stream",
     "text": [
      "did not find https://www.smogon.com/dex/media/sprites/rb/tyranitar-mega.png: Not Found\n",
      "did not find https://www.smogon.com/dex/media/sprites/c/tyranitar-mega.gif: Not Found\n",
      "did not find https://www.smogon.com/dex/media/sprites/rs/tyranitar-mega.png: Not Found\n",
      "did not find https://www.smogon.com/dex/media/sprites/dp/tyranitar-mega.png: Not Found\n",
      "did not find https://www.smogon.com/dex/media/sprites/bw/tyranitar-mega.gif: Not Found\n"
     ]
    },
    {
     "name": "stderr",
     "output_type": "stream",
     "text": [
      " 26%|███████████████████▉                                                        | 342/1300 [22:23<1:04:10,  4.02s/it]"
     ]
    },
    {
     "name": "stdout",
     "output_type": "stream",
     "text": [
      "did not find https://www.smogon.com/dex/media/sprites/rb/lugia.png: Not Found\n"
     ]
    },
    {
     "name": "stderr",
     "output_type": "stream",
     "text": [
      " 26%|████████████████████                                                        | 343/1300 [22:27<1:04:44,  4.06s/it]"
     ]
    },
    {
     "name": "stdout",
     "output_type": "stream",
     "text": [
      "did not find https://www.smogon.com/dex/media/sprites/rb/ho-oh.png: Not Found\n"
     ]
    },
    {
     "name": "stderr",
     "output_type": "stream",
     "text": [
      " 26%|████████████████████                                                        | 344/1300 [22:32<1:05:59,  4.14s/it]"
     ]
    },
    {
     "name": "stdout",
     "output_type": "stream",
     "text": [
      "did not find https://www.smogon.com/dex/media/sprites/rb/celebi.png: Not Found\n"
     ]
    },
    {
     "name": "stderr",
     "output_type": "stream",
     "text": [
      " 27%|████████████████████▏                                                       | 345/1300 [22:36<1:04:30,  4.05s/it]"
     ]
    },
    {
     "name": "stdout",
     "output_type": "stream",
     "text": [
      "did not find https://www.smogon.com/dex/media/sprites/rb/treecko.png: Not Found\n",
      "did not find https://www.smogon.com/dex/media/sprites/c/treecko.gif: Not Found\n"
     ]
    },
    {
     "name": "stderr",
     "output_type": "stream",
     "text": [
      " 27%|████████████████████▏                                                       | 346/1300 [22:40<1:03:55,  4.02s/it]"
     ]
    },
    {
     "name": "stdout",
     "output_type": "stream",
     "text": [
      "did not find https://www.smogon.com/dex/media/sprites/rb/grovyle.png: Not Found\n",
      "did not find https://www.smogon.com/dex/media/sprites/c/grovyle.gif: Not Found\n"
     ]
    },
    {
     "name": "stderr",
     "output_type": "stream",
     "text": [
      " 27%|████████████████████▎                                                       | 347/1300 [22:44<1:04:08,  4.04s/it]"
     ]
    },
    {
     "name": "stdout",
     "output_type": "stream",
     "text": [
      "did not find https://www.smogon.com/dex/media/sprites/rb/sceptile.png: Not Found\n",
      "did not find https://www.smogon.com/dex/media/sprites/c/sceptile.gif: Not Found\n"
     ]
    },
    {
     "name": "stderr",
     "output_type": "stream",
     "text": [
      " 27%|████████████████████▎                                                       | 348/1300 [22:48<1:04:36,  4.07s/it]"
     ]
    },
    {
     "name": "stdout",
     "output_type": "stream",
     "text": [
      "did not find https://www.smogon.com/dex/media/sprites/rb/sceptile-mega.png: Not Found\n",
      "did not find https://www.smogon.com/dex/media/sprites/c/sceptile-mega.gif: Not Found\n",
      "did not find https://www.smogon.com/dex/media/sprites/rs/sceptile-mega.png: Not Found\n",
      "did not find https://www.smogon.com/dex/media/sprites/dp/sceptile-mega.png: Not Found\n",
      "did not find https://www.smogon.com/dex/media/sprites/bw/sceptile-mega.gif: Not Found\n"
     ]
    },
    {
     "name": "stderr",
     "output_type": "stream",
     "text": [
      " 27%|████████████████████▍                                                       | 349/1300 [22:52<1:03:07,  3.98s/it]"
     ]
    },
    {
     "name": "stdout",
     "output_type": "stream",
     "text": [
      "did not find https://www.smogon.com/dex/media/sprites/rb/torchic.png: Not Found\n",
      "did not find https://www.smogon.com/dex/media/sprites/c/torchic.gif: Not Found\n"
     ]
    },
    {
     "name": "stderr",
     "output_type": "stream",
     "text": [
      " 27%|████████████████████▍                                                       | 350/1300 [22:55<1:02:27,  3.95s/it]"
     ]
    },
    {
     "name": "stdout",
     "output_type": "stream",
     "text": [
      "did not find https://www.smogon.com/dex/media/sprites/rb/combusken.png: Not Found\n",
      "did not find https://www.smogon.com/dex/media/sprites/c/combusken.gif: Not Found\n"
     ]
    },
    {
     "name": "stderr",
     "output_type": "stream",
     "text": [
      " 27%|████████████████████▌                                                       | 351/1300 [22:59<1:02:24,  3.95s/it]"
     ]
    },
    {
     "name": "stdout",
     "output_type": "stream",
     "text": [
      "did not find https://www.smogon.com/dex/media/sprites/rb/blaziken.png: Not Found\n",
      "did not find https://www.smogon.com/dex/media/sprites/c/blaziken.gif: Not Found\n"
     ]
    },
    {
     "name": "stderr",
     "output_type": "stream",
     "text": [
      " 27%|████████████████████▌                                                       | 352/1300 [23:03<1:02:48,  3.97s/it]"
     ]
    },
    {
     "name": "stdout",
     "output_type": "stream",
     "text": [
      "did not find https://www.smogon.com/dex/media/sprites/rb/blaziken-mega.png: Not Found\n",
      "did not find https://www.smogon.com/dex/media/sprites/c/blaziken-mega.gif: Not Found\n",
      "did not find https://www.smogon.com/dex/media/sprites/rs/blaziken-mega.png: Not Found\n",
      "did not find https://www.smogon.com/dex/media/sprites/dp/blaziken-mega.png: Not Found\n",
      "did not find https://www.smogon.com/dex/media/sprites/bw/blaziken-mega.gif: Not Found\n"
     ]
    },
    {
     "name": "stderr",
     "output_type": "stream",
     "text": [
      " 27%|████████████████████▋                                                       | 353/1300 [23:08<1:03:04,  4.00s/it]"
     ]
    },
    {
     "name": "stdout",
     "output_type": "stream",
     "text": [
      "did not find https://www.smogon.com/dex/media/sprites/rb/mudkip.png: Not Found\n",
      "did not find https://www.smogon.com/dex/media/sprites/c/mudkip.gif: Not Found\n"
     ]
    },
    {
     "name": "stderr",
     "output_type": "stream",
     "text": [
      " 27%|████████████████████▋                                                       | 354/1300 [23:11<1:02:16,  3.95s/it]"
     ]
    },
    {
     "name": "stdout",
     "output_type": "stream",
     "text": [
      "did not find https://www.smogon.com/dex/media/sprites/rb/marshtomp.png: Not Found\n",
      "did not find https://www.smogon.com/dex/media/sprites/c/marshtomp.gif: Not Found\n"
     ]
    },
    {
     "name": "stderr",
     "output_type": "stream",
     "text": [
      " 27%|████████████████████▊                                                       | 355/1300 [23:15<1:02:20,  3.96s/it]"
     ]
    },
    {
     "name": "stdout",
     "output_type": "stream",
     "text": [
      "did not find https://www.smogon.com/dex/media/sprites/rb/swampert.png: Not Found\n",
      "did not find https://www.smogon.com/dex/media/sprites/c/swampert.gif: Not Found\n"
     ]
    },
    {
     "name": "stderr",
     "output_type": "stream",
     "text": [
      " 27%|████████████████████▊                                                       | 356/1300 [23:19<1:02:46,  3.99s/it]"
     ]
    },
    {
     "name": "stdout",
     "output_type": "stream",
     "text": [
      "did not find https://www.smogon.com/dex/media/sprites/rb/swampert-mega.png: Not Found\n",
      "did not find https://www.smogon.com/dex/media/sprites/c/swampert-mega.gif: Not Found\n",
      "did not find https://www.smogon.com/dex/media/sprites/rs/swampert-mega.png: Not Found\n",
      "did not find https://www.smogon.com/dex/media/sprites/dp/swampert-mega.png: Not Found\n",
      "did not find https://www.smogon.com/dex/media/sprites/bw/swampert-mega.gif: Not Found\n"
     ]
    },
    {
     "name": "stderr",
     "output_type": "stream",
     "text": [
      " 27%|████████████████████▊                                                       | 357/1300 [23:23<1:02:16,  3.96s/it]"
     ]
    },
    {
     "name": "stdout",
     "output_type": "stream",
     "text": [
      "did not find https://www.smogon.com/dex/media/sprites/rb/poochyena.png: Not Found\n",
      "did not find https://www.smogon.com/dex/media/sprites/c/poochyena.gif: Not Found\n"
     ]
    },
    {
     "name": "stderr",
     "output_type": "stream",
     "text": [
      " 28%|████████████████████▉                                                       | 358/1300 [23:27<1:01:42,  3.93s/it]"
     ]
    },
    {
     "name": "stdout",
     "output_type": "stream",
     "text": [
      "did not find https://www.smogon.com/dex/media/sprites/rb/mightyena.png: Not Found\n",
      "did not find https://www.smogon.com/dex/media/sprites/c/mightyena.gif: Not Found\n"
     ]
    },
    {
     "name": "stderr",
     "output_type": "stream",
     "text": [
      " 28%|████████████████████▉                                                       | 359/1300 [23:31<1:01:28,  3.92s/it]"
     ]
    },
    {
     "name": "stdout",
     "output_type": "stream",
     "text": [
      "did not find https://www.smogon.com/dex/media/sprites/rb/zigzagoon.png: Not Found\n",
      "did not find https://www.smogon.com/dex/media/sprites/c/zigzagoon.gif: Not Found\n"
     ]
    },
    {
     "name": "stderr",
     "output_type": "stream",
     "text": [
      " 28%|█████████████████████                                                       | 360/1300 [23:35<1:00:56,  3.89s/it]"
     ]
    },
    {
     "name": "stdout",
     "output_type": "stream",
     "text": [
      "did not find https://www.smogon.com/dex/media/sprites/rb/zigzagoon-galar.png: Not Found\n",
      "did not find https://www.smogon.com/dex/media/sprites/c/zigzagoon-galar.gif: Not Found\n",
      "did not find https://www.smogon.com/dex/media/sprites/rs/zigzagoon-galar.png: Not Found\n",
      "did not find https://www.smogon.com/dex/media/sprites/dp/zigzagoon-galar.png: Not Found\n",
      "did not find https://www.smogon.com/dex/media/sprites/bw/zigzagoon-galar.gif: Not Found\n"
     ]
    },
    {
     "name": "stderr",
     "output_type": "stream",
     "text": [
      " 28%|█████████████████████▋                                                        | 361/1300 [23:38<59:04,  3.77s/it]"
     ]
    },
    {
     "name": "stdout",
     "output_type": "stream",
     "text": [
      "did not find https://www.smogon.com/dex/media/sprites/rb/linoone.png: Not Found\n",
      "did not find https://www.smogon.com/dex/media/sprites/c/linoone.gif: Not Found\n"
     ]
    },
    {
     "name": "stderr",
     "output_type": "stream",
     "text": [
      " 28%|█████████████████████▋                                                        | 362/1300 [23:42<59:11,  3.79s/it]"
     ]
    },
    {
     "name": "stdout",
     "output_type": "stream",
     "text": [
      "did not find https://www.smogon.com/dex/media/sprites/rb/linoone-galar.png: Not Found\n",
      "did not find https://www.smogon.com/dex/media/sprites/c/linoone-galar.gif: Not Found\n",
      "did not find https://www.smogon.com/dex/media/sprites/rs/linoone-galar.png: Not Found\n",
      "did not find https://www.smogon.com/dex/media/sprites/dp/linoone-galar.png: Not Found\n",
      "did not find https://www.smogon.com/dex/media/sprites/bw/linoone-galar.gif: Not Found\n"
     ]
    },
    {
     "name": "stderr",
     "output_type": "stream",
     "text": [
      " 28%|█████████████████████▊                                                        | 363/1300 [23:46<58:26,  3.74s/it]"
     ]
    },
    {
     "name": "stdout",
     "output_type": "stream",
     "text": [
      "did not find https://www.smogon.com/dex/media/sprites/rb/wurmple.png: Not Found\n",
      "did not find https://www.smogon.com/dex/media/sprites/c/wurmple.gif: Not Found\n"
     ]
    },
    {
     "name": "stderr",
     "output_type": "stream",
     "text": [
      " 28%|█████████████████████▊                                                        | 364/1300 [23:49<57:50,  3.71s/it]"
     ]
    },
    {
     "name": "stdout",
     "output_type": "stream",
     "text": [
      "did not find https://www.smogon.com/dex/media/sprites/rb/silcoon.png: Not Found\n",
      "did not find https://www.smogon.com/dex/media/sprites/c/silcoon.gif: Not Found\n"
     ]
    },
    {
     "name": "stderr",
     "output_type": "stream",
     "text": [
      " 28%|█████████████████████▉                                                        | 365/1300 [23:53<57:38,  3.70s/it]"
     ]
    },
    {
     "name": "stdout",
     "output_type": "stream",
     "text": [
      "did not find https://www.smogon.com/dex/media/sprites/rb/beautifly.png: Not Found\n",
      "did not find https://www.smogon.com/dex/media/sprites/c/beautifly.gif: Not Found\n"
     ]
    },
    {
     "name": "stderr",
     "output_type": "stream",
     "text": [
      " 28%|█████████████████████▉                                                        | 366/1300 [23:57<58:55,  3.78s/it]"
     ]
    },
    {
     "name": "stdout",
     "output_type": "stream",
     "text": [
      "did not find https://www.smogon.com/dex/media/sprites/rb/cascoon.png: Not Found\n",
      "did not find https://www.smogon.com/dex/media/sprites/c/cascoon.gif: Not Found\n"
     ]
    },
    {
     "name": "stderr",
     "output_type": "stream",
     "text": [
      " 28%|██████████████████████                                                        | 367/1300 [24:01<58:05,  3.74s/it]"
     ]
    },
    {
     "name": "stdout",
     "output_type": "stream",
     "text": [
      "did not find https://www.smogon.com/dex/media/sprites/rb/dustox.png: Not Found\n",
      "did not find https://www.smogon.com/dex/media/sprites/c/dustox.gif: Not Found\n"
     ]
    },
    {
     "name": "stderr",
     "output_type": "stream",
     "text": [
      " 28%|██████████████████████                                                        | 368/1300 [24:05<58:19,  3.75s/it]"
     ]
    },
    {
     "name": "stdout",
     "output_type": "stream",
     "text": [
      "did not find https://www.smogon.com/dex/media/sprites/rb/lotad.png: Not Found\n",
      "did not find https://www.smogon.com/dex/media/sprites/c/lotad.gif: Not Found\n"
     ]
    },
    {
     "name": "stderr",
     "output_type": "stream",
     "text": [
      " 28%|██████████████████████▏                                                       | 369/1300 [24:08<57:31,  3.71s/it]"
     ]
    },
    {
     "name": "stdout",
     "output_type": "stream",
     "text": [
      "did not find https://www.smogon.com/dex/media/sprites/rb/lombre.png: Not Found\n",
      "did not find https://www.smogon.com/dex/media/sprites/c/lombre.gif: Not Found\n"
     ]
    },
    {
     "name": "stderr",
     "output_type": "stream",
     "text": [
      " 28%|██████████████████████▏                                                       | 370/1300 [24:12<58:43,  3.79s/it]"
     ]
    },
    {
     "name": "stdout",
     "output_type": "stream",
     "text": [
      "did not find https://www.smogon.com/dex/media/sprites/rb/ludicolo.png: Not Found\n",
      "did not find https://www.smogon.com/dex/media/sprites/c/ludicolo.gif: Not Found\n"
     ]
    },
    {
     "name": "stderr",
     "output_type": "stream",
     "text": [
      " 29%|█████████████████████▋                                                      | 371/1300 [24:16<1:00:01,  3.88s/it]"
     ]
    },
    {
     "name": "stdout",
     "output_type": "stream",
     "text": [
      "did not find https://www.smogon.com/dex/media/sprites/rb/seedot.png: Not Found\n",
      "did not find https://www.smogon.com/dex/media/sprites/c/seedot.gif: Not Found\n"
     ]
    },
    {
     "name": "stderr",
     "output_type": "stream",
     "text": [
      " 29%|█████████████████████▋                                                      | 372/1300 [24:20<1:01:01,  3.95s/it]"
     ]
    },
    {
     "name": "stdout",
     "output_type": "stream",
     "text": [
      "did not find https://www.smogon.com/dex/media/sprites/rb/nuzleaf.png: Not Found\n",
      "did not find https://www.smogon.com/dex/media/sprites/c/nuzleaf.gif: Not Found\n"
     ]
    },
    {
     "name": "stderr",
     "output_type": "stream",
     "text": [
      " 29%|█████████████████████▊                                                      | 373/1300 [24:24<1:00:33,  3.92s/it]"
     ]
    },
    {
     "name": "stdout",
     "output_type": "stream",
     "text": [
      "did not find https://www.smogon.com/dex/media/sprites/rb/shiftry.png: Not Found\n",
      "did not find https://www.smogon.com/dex/media/sprites/c/shiftry.gif: Not Found\n"
     ]
    },
    {
     "name": "stderr",
     "output_type": "stream",
     "text": [
      " 29%|█████████████████████▊                                                      | 374/1300 [24:28<1:01:37,  3.99s/it]"
     ]
    },
    {
     "name": "stdout",
     "output_type": "stream",
     "text": [
      "did not find https://www.smogon.com/dex/media/sprites/rb/taillow.png: Not Found\n",
      "did not find https://www.smogon.com/dex/media/sprites/c/taillow.gif: Not Found\n"
     ]
    },
    {
     "name": "stderr",
     "output_type": "stream",
     "text": [
      " 29%|█████████████████████▉                                                      | 375/1300 [24:32<1:00:36,  3.93s/it]"
     ]
    },
    {
     "name": "stdout",
     "output_type": "stream",
     "text": [
      "did not find https://www.smogon.com/dex/media/sprites/rb/swellow.png: Not Found\n",
      "did not find https://www.smogon.com/dex/media/sprites/c/swellow.gif: Not Found\n"
     ]
    },
    {
     "name": "stderr",
     "output_type": "stream",
     "text": [
      " 29%|█████████████████████▉                                                      | 376/1300 [24:36<1:00:14,  3.91s/it]"
     ]
    },
    {
     "name": "stdout",
     "output_type": "stream",
     "text": [
      "did not find https://www.smogon.com/dex/media/sprites/rb/wingull.png: Not Found\n",
      "did not find https://www.smogon.com/dex/media/sprites/c/wingull.gif: Not Found\n"
     ]
    },
    {
     "name": "stderr",
     "output_type": "stream",
     "text": [
      " 29%|██████████████████████                                                      | 377/1300 [24:40<1:00:14,  3.92s/it]"
     ]
    },
    {
     "name": "stdout",
     "output_type": "stream",
     "text": [
      "did not find https://www.smogon.com/dex/media/sprites/rb/pelipper.png: Not Found\n",
      "did not find https://www.smogon.com/dex/media/sprites/c/pelipper.gif: Not Found\n"
     ]
    },
    {
     "name": "stderr",
     "output_type": "stream",
     "text": [
      " 29%|██████████████████████                                                      | 378/1300 [24:44<1:00:43,  3.95s/it]"
     ]
    },
    {
     "name": "stdout",
     "output_type": "stream",
     "text": [
      "did not find https://www.smogon.com/dex/media/sprites/rb/ralts.png: Not Found\n",
      "did not find https://www.smogon.com/dex/media/sprites/c/ralts.gif: Not Found\n"
     ]
    },
    {
     "name": "stderr",
     "output_type": "stream",
     "text": [
      " 29%|██████████████████████▏                                                     | 379/1300 [24:48<1:00:19,  3.93s/it]"
     ]
    },
    {
     "name": "stdout",
     "output_type": "stream",
     "text": [
      "did not find https://www.smogon.com/dex/media/sprites/rb/kirlia.png: Not Found\n",
      "did not find https://www.smogon.com/dex/media/sprites/c/kirlia.gif: Not Found\n"
     ]
    },
    {
     "name": "stderr",
     "output_type": "stream",
     "text": [
      " 29%|██████████████████████▏                                                     | 380/1300 [24:52<1:00:01,  3.91s/it]"
     ]
    },
    {
     "name": "stdout",
     "output_type": "stream",
     "text": [
      "did not find https://www.smogon.com/dex/media/sprites/rb/gardevoir.png: Not Found\n",
      "did not find https://www.smogon.com/dex/media/sprites/c/gardevoir.gif: Not Found\n"
     ]
    },
    {
     "name": "stderr",
     "output_type": "stream",
     "text": [
      " 29%|██████████████████████▎                                                     | 381/1300 [24:56<1:01:21,  4.01s/it]"
     ]
    },
    {
     "name": "stdout",
     "output_type": "stream",
     "text": [
      "did not find https://www.smogon.com/dex/media/sprites/rb/gardevoir-mega.png: Not Found\n",
      "did not find https://www.smogon.com/dex/media/sprites/c/gardevoir-mega.gif: Not Found\n",
      "did not find https://www.smogon.com/dex/media/sprites/rs/gardevoir-mega.png: Not Found\n",
      "did not find https://www.smogon.com/dex/media/sprites/dp/gardevoir-mega.png: Not Found\n",
      "did not find https://www.smogon.com/dex/media/sprites/bw/gardevoir-mega.gif: Not Found\n"
     ]
    },
    {
     "name": "stderr",
     "output_type": "stream",
     "text": [
      " 29%|██████████████████████▎                                                     | 382/1300 [25:00<1:00:35,  3.96s/it]"
     ]
    },
    {
     "name": "stdout",
     "output_type": "stream",
     "text": [
      "did not find https://www.smogon.com/dex/media/sprites/rb/surskit.png: Not Found\n",
      "did not find https://www.smogon.com/dex/media/sprites/c/surskit.gif: Not Found\n"
     ]
    },
    {
     "name": "stderr",
     "output_type": "stream",
     "text": [
      " 29%|██████████████████████▍                                                     | 383/1300 [25:04<1:00:17,  3.95s/it]"
     ]
    },
    {
     "name": "stdout",
     "output_type": "stream",
     "text": [
      "did not find https://www.smogon.com/dex/media/sprites/rb/masquerain.png: Not Found\n",
      "did not find https://www.smogon.com/dex/media/sprites/c/masquerain.gif: Not Found\n"
     ]
    },
    {
     "name": "stderr",
     "output_type": "stream",
     "text": [
      " 30%|██████████████████████▍                                                     | 384/1300 [25:08<1:01:17,  4.02s/it]"
     ]
    },
    {
     "name": "stdout",
     "output_type": "stream",
     "text": [
      "did not find https://www.smogon.com/dex/media/sprites/rb/shroomish.png: Not Found\n",
      "did not find https://www.smogon.com/dex/media/sprites/c/shroomish.gif: Not Found\n"
     ]
    },
    {
     "name": "stderr",
     "output_type": "stream",
     "text": [
      " 30%|██████████████████████▌                                                     | 385/1300 [25:12<1:00:06,  3.94s/it]"
     ]
    },
    {
     "name": "stdout",
     "output_type": "stream",
     "text": [
      "did not find https://www.smogon.com/dex/media/sprites/rb/breloom.png: Not Found\n",
      "did not find https://www.smogon.com/dex/media/sprites/c/breloom.gif: Not Found\n"
     ]
    },
    {
     "name": "stderr",
     "output_type": "stream",
     "text": [
      " 30%|███████████████████████▏                                                      | 386/1300 [25:16<59:56,  3.93s/it]"
     ]
    },
    {
     "name": "stdout",
     "output_type": "stream",
     "text": [
      "did not find https://www.smogon.com/dex/media/sprites/rb/slakoth.png: Not Found\n",
      "did not find https://www.smogon.com/dex/media/sprites/c/slakoth.gif: Not Found\n"
     ]
    },
    {
     "name": "stderr",
     "output_type": "stream",
     "text": [
      " 30%|███████████████████████▏                                                      | 387/1300 [25:19<59:12,  3.89s/it]"
     ]
    },
    {
     "name": "stdout",
     "output_type": "stream",
     "text": [
      "did not find https://www.smogon.com/dex/media/sprites/rb/vigoroth.png: Not Found\n",
      "did not find https://www.smogon.com/dex/media/sprites/c/vigoroth.gif: Not Found\n"
     ]
    },
    {
     "name": "stderr",
     "output_type": "stream",
     "text": [
      " 30%|███████████████████████▎                                                      | 388/1300 [25:23<59:45,  3.93s/it]"
     ]
    },
    {
     "name": "stdout",
     "output_type": "stream",
     "text": [
      "did not find https://www.smogon.com/dex/media/sprites/rb/slaking.png: Not Found\n",
      "did not find https://www.smogon.com/dex/media/sprites/c/slaking.gif: Not Found\n"
     ]
    },
    {
     "name": "stderr",
     "output_type": "stream",
     "text": [
      " 30%|██████████████████████▋                                                     | 389/1300 [25:28<1:00:44,  4.00s/it]"
     ]
    },
    {
     "name": "stdout",
     "output_type": "stream",
     "text": [
      "did not find https://www.smogon.com/dex/media/sprites/rb/nincada.png: Not Found\n",
      "did not find https://www.smogon.com/dex/media/sprites/c/nincada.gif: Not Found\n"
     ]
    },
    {
     "name": "stderr",
     "output_type": "stream",
     "text": [
      " 30%|██████████████████████▊                                                     | 390/1300 [25:31<1:00:28,  3.99s/it]"
     ]
    },
    {
     "name": "stdout",
     "output_type": "stream",
     "text": [
      "did not find https://www.smogon.com/dex/media/sprites/rb/ninjask.png: Not Found\n",
      "did not find https://www.smogon.com/dex/media/sprites/c/ninjask.gif: Not Found\n"
     ]
    },
    {
     "name": "stderr",
     "output_type": "stream",
     "text": [
      " 30%|███████████████████████▍                                                      | 391/1300 [25:35<59:44,  3.94s/it]"
     ]
    },
    {
     "name": "stdout",
     "output_type": "stream",
     "text": [
      "did not find https://www.smogon.com/dex/media/sprites/rb/shedinja.png: Not Found\n",
      "did not find https://www.smogon.com/dex/media/sprites/c/shedinja.gif: Not Found\n"
     ]
    },
    {
     "name": "stderr",
     "output_type": "stream",
     "text": [
      " 30%|███████████████████████▌                                                      | 392/1300 [25:39<59:09,  3.91s/it]"
     ]
    },
    {
     "name": "stdout",
     "output_type": "stream",
     "text": [
      "did not find https://www.smogon.com/dex/media/sprites/rb/whismur.png: Not Found\n",
      "did not find https://www.smogon.com/dex/media/sprites/c/whismur.gif: Not Found\n"
     ]
    },
    {
     "name": "stderr",
     "output_type": "stream",
     "text": [
      " 30%|███████████████████████▌                                                      | 393/1300 [25:43<58:38,  3.88s/it]"
     ]
    },
    {
     "name": "stdout",
     "output_type": "stream",
     "text": [
      "did not find https://www.smogon.com/dex/media/sprites/rb/loudred.png: Not Found\n",
      "did not find https://www.smogon.com/dex/media/sprites/c/loudred.gif: Not Found\n"
     ]
    },
    {
     "name": "stderr",
     "output_type": "stream",
     "text": [
      " 30%|███████████████████████▋                                                      | 394/1300 [25:47<59:44,  3.96s/it]"
     ]
    },
    {
     "name": "stdout",
     "output_type": "stream",
     "text": [
      "did not find https://www.smogon.com/dex/media/sprites/rb/exploud.png: Not Found\n",
      "did not find https://www.smogon.com/dex/media/sprites/c/exploud.gif: Not Found\n"
     ]
    },
    {
     "name": "stderr",
     "output_type": "stream",
     "text": [
      " 30%|███████████████████████                                                     | 395/1300 [25:51<1:00:37,  4.02s/it]"
     ]
    },
    {
     "name": "stdout",
     "output_type": "stream",
     "text": [
      "did not find https://www.smogon.com/dex/media/sprites/rb/makuhita.png: Not Found\n",
      "did not find https://www.smogon.com/dex/media/sprites/c/makuhita.gif: Not Found\n"
     ]
    },
    {
     "name": "stderr",
     "output_type": "stream",
     "text": [
      " 30%|███████████████████████▊                                                      | 396/1300 [25:55<59:37,  3.96s/it]"
     ]
    },
    {
     "name": "stdout",
     "output_type": "stream",
     "text": [
      "did not find https://www.smogon.com/dex/media/sprites/rb/hariyama.png: Not Found\n",
      "did not find https://www.smogon.com/dex/media/sprites/c/hariyama.gif: Not Found\n"
     ]
    },
    {
     "name": "stderr",
     "output_type": "stream",
     "text": [
      " 31%|███████████████████████▏                                                    | 397/1300 [25:59<1:00:37,  4.03s/it]"
     ]
    },
    {
     "name": "stdout",
     "output_type": "stream",
     "text": [
      "did not find https://www.smogon.com/dex/media/sprites/rb/azurill.png: Not Found\n",
      "did not find https://www.smogon.com/dex/media/sprites/c/azurill.gif: Not Found\n"
     ]
    },
    {
     "name": "stderr",
     "output_type": "stream",
     "text": [
      " 31%|███████████████████████▉                                                      | 398/1300 [26:03<59:23,  3.95s/it]"
     ]
    },
    {
     "name": "stdout",
     "output_type": "stream",
     "text": [
      "did not find https://www.smogon.com/dex/media/sprites/rb/nosepass.png: Not Found\n",
      "did not find https://www.smogon.com/dex/media/sprites/c/nosepass.gif: Not Found\n"
     ]
    },
    {
     "name": "stderr",
     "output_type": "stream",
     "text": [
      " 31%|███████████████████████▉                                                      | 399/1300 [26:07<58:23,  3.89s/it]"
     ]
    },
    {
     "name": "stdout",
     "output_type": "stream",
     "text": [
      "did not find https://www.smogon.com/dex/media/sprites/rb/skitty.png: Not Found\n",
      "did not find https://www.smogon.com/dex/media/sprites/c/skitty.gif: Not Found\n"
     ]
    },
    {
     "name": "stderr",
     "output_type": "stream",
     "text": [
      " 31%|████████████████████████                                                      | 400/1300 [26:11<58:27,  3.90s/it]"
     ]
    },
    {
     "name": "stdout",
     "output_type": "stream",
     "text": [
      "did not find https://www.smogon.com/dex/media/sprites/rb/delcatty.png: Not Found\n",
      "did not find https://www.smogon.com/dex/media/sprites/c/delcatty.gif: Not Found\n"
     ]
    },
    {
     "name": "stderr",
     "output_type": "stream",
     "text": [
      " 31%|████████████████████████                                                      | 401/1300 [26:15<59:17,  3.96s/it]"
     ]
    },
    {
     "name": "stdout",
     "output_type": "stream",
     "text": [
      "did not find https://www.smogon.com/dex/media/sprites/rb/sableye.png: Not Found\n",
      "did not find https://www.smogon.com/dex/media/sprites/c/sableye.gif: Not Found\n"
     ]
    },
    {
     "name": "stderr",
     "output_type": "stream",
     "text": [
      " 31%|████████████████████████                                                      | 402/1300 [26:19<58:59,  3.94s/it]"
     ]
    },
    {
     "name": "stdout",
     "output_type": "stream",
     "text": [
      "did not find https://www.smogon.com/dex/media/sprites/rb/sableye-mega.png: Not Found\n",
      "did not find https://www.smogon.com/dex/media/sprites/c/sableye-mega.gif: Not Found\n",
      "did not find https://www.smogon.com/dex/media/sprites/rs/sableye-mega.png: Not Found\n",
      "did not find https://www.smogon.com/dex/media/sprites/dp/sableye-mega.png: Not Found\n",
      "did not find https://www.smogon.com/dex/media/sprites/bw/sableye-mega.gif: Not Found\n"
     ]
    },
    {
     "name": "stderr",
     "output_type": "stream",
     "text": [
      " 31%|████████████████████████▏                                                     | 403/1300 [26:23<58:29,  3.91s/it]"
     ]
    },
    {
     "name": "stdout",
     "output_type": "stream",
     "text": [
      "did not find https://www.smogon.com/dex/media/sprites/rb/mawile.png: Not Found\n",
      "did not find https://www.smogon.com/dex/media/sprites/c/mawile.gif: Not Found\n"
     ]
    },
    {
     "name": "stderr",
     "output_type": "stream",
     "text": [
      " 31%|████████████████████████▏                                                     | 404/1300 [26:26<58:29,  3.92s/it]"
     ]
    },
    {
     "name": "stdout",
     "output_type": "stream",
     "text": [
      "did not find https://www.smogon.com/dex/media/sprites/rb/mawile-mega.png: Not Found\n",
      "did not find https://www.smogon.com/dex/media/sprites/c/mawile-mega.gif: Not Found\n",
      "did not find https://www.smogon.com/dex/media/sprites/rs/mawile-mega.png: Not Found\n",
      "did not find https://www.smogon.com/dex/media/sprites/dp/mawile-mega.png: Not Found\n",
      "did not find https://www.smogon.com/dex/media/sprites/bw/mawile-mega.gif: Not Found\n"
     ]
    },
    {
     "name": "stderr",
     "output_type": "stream",
     "text": [
      " 31%|████████████████████████▎                                                     | 405/1300 [26:30<58:31,  3.92s/it]"
     ]
    },
    {
     "name": "stdout",
     "output_type": "stream",
     "text": [
      "did not find https://www.smogon.com/dex/media/sprites/rb/aron.png: Not Found\n",
      "did not find https://www.smogon.com/dex/media/sprites/c/aron.gif: Not Found\n"
     ]
    },
    {
     "name": "stderr",
     "output_type": "stream",
     "text": [
      " 31%|████████████████████████▎                                                     | 406/1300 [26:34<57:41,  3.87s/it]"
     ]
    },
    {
     "name": "stdout",
     "output_type": "stream",
     "text": [
      "did not find https://www.smogon.com/dex/media/sprites/rb/lairon.png: Not Found\n",
      "did not find https://www.smogon.com/dex/media/sprites/c/lairon.gif: Not Found\n"
     ]
    },
    {
     "name": "stderr",
     "output_type": "stream",
     "text": [
      " 31%|████████████████████████▍                                                     | 407/1300 [26:38<58:37,  3.94s/it]"
     ]
    },
    {
     "name": "stdout",
     "output_type": "stream",
     "text": [
      "did not find https://www.smogon.com/dex/media/sprites/rb/aggron.png: Not Found\n",
      "did not find https://www.smogon.com/dex/media/sprites/c/aggron.gif: Not Found\n"
     ]
    },
    {
     "name": "stderr",
     "output_type": "stream",
     "text": [
      " 31%|████████████████████████▍                                                     | 408/1300 [26:42<58:35,  3.94s/it]"
     ]
    },
    {
     "name": "stdout",
     "output_type": "stream",
     "text": [
      "did not find https://www.smogon.com/dex/media/sprites/rb/aggron-mega.png: Not Found\n",
      "did not find https://www.smogon.com/dex/media/sprites/c/aggron-mega.gif: Not Found\n",
      "did not find https://www.smogon.com/dex/media/sprites/rs/aggron-mega.png: Not Found\n",
      "did not find https://www.smogon.com/dex/media/sprites/dp/aggron-mega.png: Not Found\n",
      "did not find https://www.smogon.com/dex/media/sprites/bw/aggron-mega.gif: Not Found\n"
     ]
    },
    {
     "name": "stderr",
     "output_type": "stream",
     "text": [
      " 31%|████████████████████████▌                                                     | 409/1300 [26:46<58:45,  3.96s/it]"
     ]
    },
    {
     "name": "stdout",
     "output_type": "stream",
     "text": [
      "did not find https://www.smogon.com/dex/media/sprites/rb/meditite.png: Not Found\n",
      "did not find https://www.smogon.com/dex/media/sprites/c/meditite.gif: Not Found\n"
     ]
    },
    {
     "name": "stderr",
     "output_type": "stream",
     "text": [
      " 32%|████████████████████████▌                                                     | 410/1300 [26:50<58:29,  3.94s/it]"
     ]
    },
    {
     "name": "stdout",
     "output_type": "stream",
     "text": [
      "did not find https://www.smogon.com/dex/media/sprites/rb/medicham.png: Not Found\n",
      "did not find https://www.smogon.com/dex/media/sprites/c/medicham.gif: Not Found\n"
     ]
    },
    {
     "name": "stderr",
     "output_type": "stream",
     "text": [
      " 32%|████████████████████████▋                                                     | 411/1300 [26:54<57:52,  3.91s/it]"
     ]
    },
    {
     "name": "stdout",
     "output_type": "stream",
     "text": [
      "did not find https://www.smogon.com/dex/media/sprites/rb/medicham-mega.png: Not Found\n",
      "did not find https://www.smogon.com/dex/media/sprites/c/medicham-mega.gif: Not Found\n",
      "did not find https://www.smogon.com/dex/media/sprites/rs/medicham-mega.png: Not Found\n",
      "did not find https://www.smogon.com/dex/media/sprites/dp/medicham-mega.png: Not Found\n",
      "did not find https://www.smogon.com/dex/media/sprites/bw/medicham-mega.gif: Not Found\n"
     ]
    },
    {
     "name": "stderr",
     "output_type": "stream",
     "text": [
      " 32%|████████████████████████▋                                                     | 412/1300 [26:58<57:20,  3.87s/it]"
     ]
    },
    {
     "name": "stdout",
     "output_type": "stream",
     "text": [
      "did not find https://www.smogon.com/dex/media/sprites/rb/electrike.png: Not Found\n",
      "did not find https://www.smogon.com/dex/media/sprites/c/electrike.gif: Not Found\n"
     ]
    },
    {
     "name": "stderr",
     "output_type": "stream",
     "text": [
      " 32%|████████████████████████▊                                                     | 413/1300 [27:02<57:16,  3.87s/it]"
     ]
    },
    {
     "name": "stdout",
     "output_type": "stream",
     "text": [
      "did not find https://www.smogon.com/dex/media/sprites/rb/manectric.png: Not Found\n",
      "did not find https://www.smogon.com/dex/media/sprites/c/manectric.gif: Not Found\n"
     ]
    },
    {
     "name": "stderr",
     "output_type": "stream",
     "text": [
      " 32%|████████████████████████▊                                                     | 414/1300 [27:06<58:04,  3.93s/it]"
     ]
    },
    {
     "name": "stdout",
     "output_type": "stream",
     "text": [
      "did not find https://www.smogon.com/dex/media/sprites/rb/manectric-mega.png: Not Found\n",
      "did not find https://www.smogon.com/dex/media/sprites/c/manectric-mega.gif: Not Found\n",
      "did not find https://www.smogon.com/dex/media/sprites/rs/manectric-mega.png: Not Found\n",
      "did not find https://www.smogon.com/dex/media/sprites/dp/manectric-mega.png: Not Found\n",
      "did not find https://www.smogon.com/dex/media/sprites/bw/manectric-mega.gif: Not Found\n"
     ]
    },
    {
     "name": "stderr",
     "output_type": "stream",
     "text": [
      " 32%|████████████████████████▉                                                     | 415/1300 [27:10<58:08,  3.94s/it]"
     ]
    },
    {
     "name": "stdout",
     "output_type": "stream",
     "text": [
      "did not find https://www.smogon.com/dex/media/sprites/rb/plusle.png: Not Found\n",
      "did not find https://www.smogon.com/dex/media/sprites/c/plusle.gif: Not Found\n"
     ]
    },
    {
     "name": "stderr",
     "output_type": "stream",
     "text": [
      " 32%|████████████████████████▉                                                     | 416/1300 [27:14<58:53,  4.00s/it]"
     ]
    },
    {
     "name": "stdout",
     "output_type": "stream",
     "text": [
      "did not find https://www.smogon.com/dex/media/sprites/rb/minun.png: Not Found\n",
      "did not find https://www.smogon.com/dex/media/sprites/c/minun.gif: Not Found\n"
     ]
    },
    {
     "name": "stderr",
     "output_type": "stream",
     "text": [
      " 32%|█████████████████████████                                                     | 417/1300 [27:18<58:06,  3.95s/it]"
     ]
    },
    {
     "name": "stdout",
     "output_type": "stream",
     "text": [
      "did not find https://www.smogon.com/dex/media/sprites/rb/volbeat.png: Not Found\n",
      "did not find https://www.smogon.com/dex/media/sprites/c/volbeat.gif: Not Found\n"
     ]
    },
    {
     "name": "stderr",
     "output_type": "stream",
     "text": [
      " 32%|█████████████████████████                                                     | 418/1300 [27:21<57:34,  3.92s/it]"
     ]
    },
    {
     "name": "stdout",
     "output_type": "stream",
     "text": [
      "did not find https://www.smogon.com/dex/media/sprites/rb/illumise.png: Not Found\n",
      "did not find https://www.smogon.com/dex/media/sprites/c/illumise.gif: Not Found\n"
     ]
    },
    {
     "name": "stderr",
     "output_type": "stream",
     "text": [
      " 32%|█████████████████████████▏                                                    | 419/1300 [27:25<57:27,  3.91s/it]"
     ]
    },
    {
     "name": "stdout",
     "output_type": "stream",
     "text": [
      "did not find https://www.smogon.com/dex/media/sprites/rb/roselia.png: Not Found\n",
      "did not find https://www.smogon.com/dex/media/sprites/c/roselia.gif: Not Found\n"
     ]
    },
    {
     "name": "stderr",
     "output_type": "stream",
     "text": [
      " 32%|█████████████████████████▏                                                    | 420/1300 [27:29<57:22,  3.91s/it]"
     ]
    },
    {
     "name": "stdout",
     "output_type": "stream",
     "text": [
      "did not find https://www.smogon.com/dex/media/sprites/rb/gulpin.png: Not Found\n",
      "did not find https://www.smogon.com/dex/media/sprites/c/gulpin.gif: Not Found\n"
     ]
    },
    {
     "name": "stderr",
     "output_type": "stream",
     "text": [
      " 32%|█████████████████████████▎                                                    | 421/1300 [27:33<57:23,  3.92s/it]"
     ]
    },
    {
     "name": "stdout",
     "output_type": "stream",
     "text": [
      "did not find https://www.smogon.com/dex/media/sprites/rb/swalot.png: Not Found\n",
      "did not find https://www.smogon.com/dex/media/sprites/c/swalot.gif: Not Found\n"
     ]
    },
    {
     "name": "stderr",
     "output_type": "stream",
     "text": [
      " 32%|█████████████████████████▎                                                    | 422/1300 [27:37<58:04,  3.97s/it]"
     ]
    },
    {
     "name": "stdout",
     "output_type": "stream",
     "text": [
      "did not find https://www.smogon.com/dex/media/sprites/rb/carvanha.png: Not Found\n",
      "did not find https://www.smogon.com/dex/media/sprites/c/carvanha.gif: Not Found\n"
     ]
    },
    {
     "name": "stderr",
     "output_type": "stream",
     "text": [
      " 33%|█████████████████████████▍                                                    | 423/1300 [27:41<58:08,  3.98s/it]"
     ]
    },
    {
     "name": "stdout",
     "output_type": "stream",
     "text": [
      "did not find https://www.smogon.com/dex/media/sprites/rb/sharpedo.png: Not Found\n",
      "did not find https://www.smogon.com/dex/media/sprites/c/sharpedo.gif: Not Found\n"
     ]
    },
    {
     "name": "stderr",
     "output_type": "stream",
     "text": [
      " 33%|█████████████████████████▍                                                    | 424/1300 [27:45<59:02,  4.04s/it]"
     ]
    },
    {
     "name": "stdout",
     "output_type": "stream",
     "text": [
      "did not find https://www.smogon.com/dex/media/sprites/rb/sharpedo-mega.png: Not Found\n",
      "did not find https://www.smogon.com/dex/media/sprites/c/sharpedo-mega.gif: Not Found\n",
      "did not find https://www.smogon.com/dex/media/sprites/rs/sharpedo-mega.png: Not Found\n",
      "did not find https://www.smogon.com/dex/media/sprites/dp/sharpedo-mega.png: Not Found\n",
      "did not find https://www.smogon.com/dex/media/sprites/bw/sharpedo-mega.gif: Not Found\n"
     ]
    },
    {
     "name": "stderr",
     "output_type": "stream",
     "text": [
      " 33%|█████████████████████████▌                                                    | 425/1300 [27:49<58:02,  3.98s/it]"
     ]
    },
    {
     "name": "stdout",
     "output_type": "stream",
     "text": [
      "did not find https://www.smogon.com/dex/media/sprites/rb/wailmer.png: Not Found\n",
      "did not find https://www.smogon.com/dex/media/sprites/c/wailmer.gif: Not Found\n"
     ]
    },
    {
     "name": "stderr",
     "output_type": "stream",
     "text": [
      " 33%|█████████████████████████▌                                                    | 426/1300 [27:53<58:02,  3.98s/it]"
     ]
    },
    {
     "name": "stdout",
     "output_type": "stream",
     "text": [
      "did not find https://www.smogon.com/dex/media/sprites/rb/wailord.png: Not Found\n",
      "did not find https://www.smogon.com/dex/media/sprites/c/wailord.gif: Not Found\n"
     ]
    },
    {
     "name": "stderr",
     "output_type": "stream",
     "text": [
      " 33%|█████████████████████████▌                                                    | 427/1300 [27:58<59:08,  4.06s/it]"
     ]
    },
    {
     "name": "stdout",
     "output_type": "stream",
     "text": [
      "did not find https://www.smogon.com/dex/media/sprites/rb/numel.png: Not Found\n",
      "did not find https://www.smogon.com/dex/media/sprites/c/numel.gif: Not Found\n"
     ]
    },
    {
     "name": "stderr",
     "output_type": "stream",
     "text": [
      " 33%|█████████████████████████▋                                                    | 428/1300 [28:01<58:09,  4.00s/it]"
     ]
    },
    {
     "name": "stdout",
     "output_type": "stream",
     "text": [
      "did not find https://www.smogon.com/dex/media/sprites/rb/camerupt.png: Not Found\n",
      "did not find https://www.smogon.com/dex/media/sprites/c/camerupt.gif: Not Found\n"
     ]
    },
    {
     "name": "stderr",
     "output_type": "stream",
     "text": [
      " 33%|█████████████████████████▋                                                    | 429/1300 [28:05<58:24,  4.02s/it]"
     ]
    },
    {
     "name": "stdout",
     "output_type": "stream",
     "text": [
      "did not find https://www.smogon.com/dex/media/sprites/rb/camerupt-mega.png: Not Found\n",
      "did not find https://www.smogon.com/dex/media/sprites/c/camerupt-mega.gif: Not Found\n",
      "did not find https://www.smogon.com/dex/media/sprites/rs/camerupt-mega.png: Not Found\n",
      "did not find https://www.smogon.com/dex/media/sprites/dp/camerupt-mega.png: Not Found\n",
      "did not find https://www.smogon.com/dex/media/sprites/bw/camerupt-mega.gif: Not Found\n"
     ]
    },
    {
     "name": "stderr",
     "output_type": "stream",
     "text": [
      " 33%|█████████████████████████▊                                                    | 430/1300 [28:09<58:15,  4.02s/it]"
     ]
    },
    {
     "name": "stdout",
     "output_type": "stream",
     "text": [
      "did not find https://www.smogon.com/dex/media/sprites/rb/torkoal.png: Not Found\n",
      "did not find https://www.smogon.com/dex/media/sprites/c/torkoal.gif: Not Found\n"
     ]
    },
    {
     "name": "stderr",
     "output_type": "stream",
     "text": [
      " 33%|█████████████████████████▊                                                    | 431/1300 [28:14<59:25,  4.10s/it]"
     ]
    },
    {
     "name": "stdout",
     "output_type": "stream",
     "text": [
      "did not find https://www.smogon.com/dex/media/sprites/rb/spoink.png: Not Found\n",
      "did not find https://www.smogon.com/dex/media/sprites/c/spoink.gif: Not Found\n"
     ]
    },
    {
     "name": "stderr",
     "output_type": "stream",
     "text": [
      " 33%|█████████████████████████▉                                                    | 432/1300 [28:18<57:47,  4.00s/it]"
     ]
    },
    {
     "name": "stdout",
     "output_type": "stream",
     "text": [
      "did not find https://www.smogon.com/dex/media/sprites/rb/grumpig.png: Not Found\n",
      "did not find https://www.smogon.com/dex/media/sprites/c/grumpig.gif: Not Found\n"
     ]
    },
    {
     "name": "stderr",
     "output_type": "stream",
     "text": [
      " 33%|█████████████████████████▉                                                    | 433/1300 [28:21<57:08,  3.95s/it]"
     ]
    },
    {
     "name": "stdout",
     "output_type": "stream",
     "text": [
      "did not find https://www.smogon.com/dex/media/sprites/rb/spinda.png: Not Found\n",
      "did not find https://www.smogon.com/dex/media/sprites/c/spinda.gif: Not Found\n"
     ]
    },
    {
     "name": "stderr",
     "output_type": "stream",
     "text": [
      " 33%|██████████████████████████                                                    | 434/1300 [28:25<57:28,  3.98s/it]"
     ]
    },
    {
     "name": "stdout",
     "output_type": "stream",
     "text": [
      "did not find https://www.smogon.com/dex/media/sprites/rb/trapinch.png: Not Found\n",
      "did not find https://www.smogon.com/dex/media/sprites/c/trapinch.gif: Not Found\n"
     ]
    },
    {
     "name": "stderr",
     "output_type": "stream",
     "text": [
      " 33%|██████████████████████████                                                    | 435/1300 [28:29<56:37,  3.93s/it]"
     ]
    },
    {
     "name": "stdout",
     "output_type": "stream",
     "text": [
      "did not find https://www.smogon.com/dex/media/sprites/rb/vibrava.png: Not Found\n",
      "did not find https://www.smogon.com/dex/media/sprites/c/vibrava.gif: Not Found\n"
     ]
    },
    {
     "name": "stderr",
     "output_type": "stream",
     "text": [
      " 34%|██████████████████████████▏                                                   | 436/1300 [28:33<56:46,  3.94s/it]"
     ]
    },
    {
     "name": "stdout",
     "output_type": "stream",
     "text": [
      "did not find https://www.smogon.com/dex/media/sprites/rb/flygon.png: Not Found\n",
      "did not find https://www.smogon.com/dex/media/sprites/c/flygon.gif: Not Found\n"
     ]
    },
    {
     "name": "stderr",
     "output_type": "stream",
     "text": [
      " 34%|██████████████████████████▏                                                   | 437/1300 [28:37<57:43,  4.01s/it]"
     ]
    },
    {
     "name": "stdout",
     "output_type": "stream",
     "text": [
      "did not find https://www.smogon.com/dex/media/sprites/rb/cacnea.png: Not Found\n",
      "did not find https://www.smogon.com/dex/media/sprites/c/cacnea.gif: Not Found\n"
     ]
    },
    {
     "name": "stderr",
     "output_type": "stream",
     "text": [
      " 34%|██████████████████████████▎                                                   | 438/1300 [28:41<57:08,  3.98s/it]"
     ]
    },
    {
     "name": "stdout",
     "output_type": "stream",
     "text": [
      "did not find https://www.smogon.com/dex/media/sprites/rb/cacturne.png: Not Found\n",
      "did not find https://www.smogon.com/dex/media/sprites/c/cacturne.gif: Not Found\n"
     ]
    },
    {
     "name": "stderr",
     "output_type": "stream",
     "text": [
      " 34%|██████████████████████████▎                                                   | 439/1300 [28:45<57:57,  4.04s/it]"
     ]
    },
    {
     "name": "stdout",
     "output_type": "stream",
     "text": [
      "did not find https://www.smogon.com/dex/media/sprites/rb/swablu.png: Not Found\n",
      "did not find https://www.smogon.com/dex/media/sprites/c/swablu.gif: Not Found\n"
     ]
    },
    {
     "name": "stderr",
     "output_type": "stream",
     "text": [
      " 34%|██████████████████████████▍                                                   | 440/1300 [28:49<57:31,  4.01s/it]"
     ]
    },
    {
     "name": "stdout",
     "output_type": "stream",
     "text": [
      "did not find https://www.smogon.com/dex/media/sprites/rb/altaria.png: Not Found\n",
      "did not find https://www.smogon.com/dex/media/sprites/c/altaria.gif: Not Found\n"
     ]
    },
    {
     "name": "stderr",
     "output_type": "stream",
     "text": [
      " 34%|██████████████████████████▍                                                   | 441/1300 [28:54<57:55,  4.05s/it]"
     ]
    },
    {
     "name": "stdout",
     "output_type": "stream",
     "text": [
      "did not find https://www.smogon.com/dex/media/sprites/rb/altaria-mega.png: Not Found\n",
      "did not find https://www.smogon.com/dex/media/sprites/c/altaria-mega.gif: Not Found\n",
      "did not find https://www.smogon.com/dex/media/sprites/rs/altaria-mega.png: Not Found\n",
      "did not find https://www.smogon.com/dex/media/sprites/dp/altaria-mega.png: Not Found\n",
      "did not find https://www.smogon.com/dex/media/sprites/bw/altaria-mega.gif: Not Found\n"
     ]
    },
    {
     "name": "stderr",
     "output_type": "stream",
     "text": [
      " 34%|██████████████████████████▌                                                   | 442/1300 [28:58<58:11,  4.07s/it]"
     ]
    },
    {
     "name": "stdout",
     "output_type": "stream",
     "text": [
      "did not find https://www.smogon.com/dex/media/sprites/rb/zangoose.png: Not Found\n",
      "did not find https://www.smogon.com/dex/media/sprites/c/zangoose.gif: Not Found\n"
     ]
    },
    {
     "name": "stderr",
     "output_type": "stream",
     "text": [
      " 34%|██████████████████████████▌                                                   | 443/1300 [29:02<57:47,  4.05s/it]"
     ]
    },
    {
     "name": "stdout",
     "output_type": "stream",
     "text": [
      "did not find https://www.smogon.com/dex/media/sprites/rb/seviper.png: Not Found\n",
      "did not find https://www.smogon.com/dex/media/sprites/c/seviper.gif: Not Found\n"
     ]
    },
    {
     "name": "stderr",
     "output_type": "stream",
     "text": [
      " 34%|██████████████████████████▋                                                   | 444/1300 [29:06<58:16,  4.08s/it]"
     ]
    },
    {
     "name": "stdout",
     "output_type": "stream",
     "text": [
      "did not find https://www.smogon.com/dex/media/sprites/rb/lunatone.png: Not Found\n",
      "did not find https://www.smogon.com/dex/media/sprites/c/lunatone.gif: Not Found\n"
     ]
    },
    {
     "name": "stderr",
     "output_type": "stream",
     "text": [
      " 34%|██████████████████████████▋                                                   | 445/1300 [29:10<58:32,  4.11s/it]"
     ]
    },
    {
     "name": "stdout",
     "output_type": "stream",
     "text": [
      "did not find https://www.smogon.com/dex/media/sprites/rb/solrock.png: Not Found\n",
      "did not find https://www.smogon.com/dex/media/sprites/c/solrock.gif: Not Found\n"
     ]
    },
    {
     "name": "stderr",
     "output_type": "stream",
     "text": [
      " 34%|██████████████████████████▊                                                   | 446/1300 [29:14<58:40,  4.12s/it]"
     ]
    },
    {
     "name": "stdout",
     "output_type": "stream",
     "text": [
      "did not find https://www.smogon.com/dex/media/sprites/rb/barboach.png: Not Found\n",
      "did not find https://www.smogon.com/dex/media/sprites/c/barboach.gif: Not Found\n"
     ]
    },
    {
     "name": "stderr",
     "output_type": "stream",
     "text": [
      " 34%|██████████████████████████▊                                                   | 447/1300 [29:18<57:35,  4.05s/it]"
     ]
    },
    {
     "name": "stdout",
     "output_type": "stream",
     "text": [
      "did not find https://www.smogon.com/dex/media/sprites/rb/whiscash.png: Not Found\n",
      "did not find https://www.smogon.com/dex/media/sprites/c/whiscash.gif: Not Found\n"
     ]
    },
    {
     "name": "stderr",
     "output_type": "stream",
     "text": [
      " 34%|██████████████████████████▉                                                   | 448/1300 [29:22<57:41,  4.06s/it]"
     ]
    },
    {
     "name": "stdout",
     "output_type": "stream",
     "text": [
      "did not find https://www.smogon.com/dex/media/sprites/rb/corphish.png: Not Found\n",
      "did not find https://www.smogon.com/dex/media/sprites/c/corphish.gif: Not Found\n"
     ]
    },
    {
     "name": "stderr",
     "output_type": "stream",
     "text": [
      " 35%|██████████████████████████▉                                                   | 449/1300 [29:26<57:06,  4.03s/it]"
     ]
    },
    {
     "name": "stdout",
     "output_type": "stream",
     "text": [
      "did not find https://www.smogon.com/dex/media/sprites/rb/crawdaunt.png: Not Found\n",
      "did not find https://www.smogon.com/dex/media/sprites/c/crawdaunt.gif: Not Found\n"
     ]
    },
    {
     "name": "stderr",
     "output_type": "stream",
     "text": [
      " 35%|███████████████████████████                                                   | 450/1300 [29:30<57:27,  4.06s/it]"
     ]
    },
    {
     "name": "stdout",
     "output_type": "stream",
     "text": [
      "did not find https://www.smogon.com/dex/media/sprites/rb/baltoy.png: Not Found\n",
      "did not find https://www.smogon.com/dex/media/sprites/c/baltoy.gif: Not Found\n"
     ]
    },
    {
     "name": "stderr",
     "output_type": "stream",
     "text": [
      " 35%|███████████████████████████                                                   | 451/1300 [29:34<56:32,  4.00s/it]"
     ]
    },
    {
     "name": "stdout",
     "output_type": "stream",
     "text": [
      "did not find https://www.smogon.com/dex/media/sprites/rb/claydol.png: Not Found\n",
      "did not find https://www.smogon.com/dex/media/sprites/c/claydol.gif: Not Found\n"
     ]
    },
    {
     "name": "stderr",
     "output_type": "stream",
     "text": [
      " 35%|███████████████████████████                                                   | 452/1300 [29:38<57:03,  4.04s/it]"
     ]
    },
    {
     "name": "stdout",
     "output_type": "stream",
     "text": [
      "did not find https://www.smogon.com/dex/media/sprites/rb/lileep.png: Not Found\n",
      "did not find https://www.smogon.com/dex/media/sprites/c/lileep.gif: Not Found\n"
     ]
    },
    {
     "name": "stderr",
     "output_type": "stream",
     "text": [
      " 35%|███████████████████████████▏                                                  | 453/1300 [29:42<57:01,  4.04s/it]"
     ]
    },
    {
     "name": "stdout",
     "output_type": "stream",
     "text": [
      "did not find https://www.smogon.com/dex/media/sprites/rb/cradily.png: Not Found\n",
      "did not find https://www.smogon.com/dex/media/sprites/c/cradily.gif: Not Found\n"
     ]
    },
    {
     "name": "stderr",
     "output_type": "stream",
     "text": [
      " 35%|███████████████████████████▏                                                  | 454/1300 [29:46<57:14,  4.06s/it]"
     ]
    },
    {
     "name": "stdout",
     "output_type": "stream",
     "text": [
      "did not find https://www.smogon.com/dex/media/sprites/rb/anorith.png: Not Found\n",
      "did not find https://www.smogon.com/dex/media/sprites/c/anorith.gif: Not Found\n"
     ]
    },
    {
     "name": "stderr",
     "output_type": "stream",
     "text": [
      " 35%|███████████████████████████▎                                                  | 455/1300 [29:50<56:49,  4.03s/it]"
     ]
    },
    {
     "name": "stdout",
     "output_type": "stream",
     "text": [
      "did not find https://www.smogon.com/dex/media/sprites/rb/armaldo.png: Not Found\n",
      "did not find https://www.smogon.com/dex/media/sprites/c/armaldo.gif: Not Found\n"
     ]
    },
    {
     "name": "stderr",
     "output_type": "stream",
     "text": [
      " 35%|███████████████████████████▎                                                  | 456/1300 [29:54<57:12,  4.07s/it]"
     ]
    },
    {
     "name": "stdout",
     "output_type": "stream",
     "text": [
      "did not find https://www.smogon.com/dex/media/sprites/rb/feebas.png: Not Found\n",
      "did not find https://www.smogon.com/dex/media/sprites/c/feebas.gif: Not Found\n"
     ]
    },
    {
     "name": "stderr",
     "output_type": "stream",
     "text": [
      " 35%|███████████████████████████▍                                                  | 457/1300 [29:58<56:14,  4.00s/it]"
     ]
    },
    {
     "name": "stdout",
     "output_type": "stream",
     "text": [
      "did not find https://www.smogon.com/dex/media/sprites/rb/milotic.png: Not Found\n",
      "did not find https://www.smogon.com/dex/media/sprites/c/milotic.gif: Not Found\n"
     ]
    },
    {
     "name": "stderr",
     "output_type": "stream",
     "text": [
      " 35%|███████████████████████████▍                                                  | 458/1300 [30:03<57:07,  4.07s/it]"
     ]
    },
    {
     "name": "stdout",
     "output_type": "stream",
     "text": [
      "did not find https://www.smogon.com/dex/media/sprites/rb/castform.png: Not Found\n",
      "did not find https://www.smogon.com/dex/media/sprites/c/castform.gif: Not Found\n"
     ]
    },
    {
     "name": "stderr",
     "output_type": "stream",
     "text": [
      " 35%|███████████████████████████▌                                                  | 459/1300 [30:06<55:30,  3.96s/it]"
     ]
    },
    {
     "name": "stdout",
     "output_type": "stream",
     "text": [
      "did not find https://www.smogon.com/dex/media/sprites/rb/castform-sunny.png: Not Found\n",
      "did not find https://www.smogon.com/dex/media/sprites/c/castform-sunny.gif: Not Found\n",
      "did not find https://www.smogon.com/dex/media/sprites/rs/castform-sunny.png: Not Found\n",
      "did not find https://www.smogon.com/dex/media/sprites/dp/castform-sunny.png: Not Found\n"
     ]
    },
    {
     "name": "stderr",
     "output_type": "stream",
     "text": [
      " 35%|███████████████████████████▌                                                  | 460/1300 [30:10<55:48,  3.99s/it]"
     ]
    },
    {
     "name": "stdout",
     "output_type": "stream",
     "text": [
      "did not find https://www.smogon.com/dex/media/sprites/rb/castform-rainy.png: Not Found\n",
      "did not find https://www.smogon.com/dex/media/sprites/c/castform-rainy.gif: Not Found\n",
      "did not find https://www.smogon.com/dex/media/sprites/rs/castform-rainy.png: Not Found\n",
      "did not find https://www.smogon.com/dex/media/sprites/dp/castform-rainy.png: Not Found\n"
     ]
    },
    {
     "name": "stderr",
     "output_type": "stream",
     "text": [
      " 35%|███████████████████████████▋                                                  | 461/1300 [30:14<54:52,  3.92s/it]"
     ]
    },
    {
     "name": "stdout",
     "output_type": "stream",
     "text": [
      "did not find https://www.smogon.com/dex/media/sprites/rb/castform-snowy.png: Not Found\n",
      "did not find https://www.smogon.com/dex/media/sprites/c/castform-snowy.gif: Not Found\n",
      "did not find https://www.smogon.com/dex/media/sprites/rs/castform-snowy.png: Not Found\n",
      "did not find https://www.smogon.com/dex/media/sprites/dp/castform-snowy.png: Not Found\n"
     ]
    },
    {
     "name": "stderr",
     "output_type": "stream",
     "text": [
      " 36%|███████████████████████████▋                                                  | 462/1300 [30:18<54:39,  3.91s/it]"
     ]
    },
    {
     "name": "stdout",
     "output_type": "stream",
     "text": [
      "did not find https://www.smogon.com/dex/media/sprites/rb/kecleon.png: Not Found\n",
      "did not find https://www.smogon.com/dex/media/sprites/c/kecleon.gif: Not Found\n"
     ]
    },
    {
     "name": "stderr",
     "output_type": "stream",
     "text": [
      " 36%|███████████████████████████▊                                                  | 463/1300 [30:22<55:03,  3.95s/it]"
     ]
    },
    {
     "name": "stdout",
     "output_type": "stream",
     "text": [
      "did not find https://www.smogon.com/dex/media/sprites/rb/shuppet.png: Not Found\n",
      "did not find https://www.smogon.com/dex/media/sprites/c/shuppet.gif: Not Found\n"
     ]
    },
    {
     "name": "stderr",
     "output_type": "stream",
     "text": [
      " 36%|███████████████████████████▊                                                  | 464/1300 [30:26<54:17,  3.90s/it]"
     ]
    },
    {
     "name": "stdout",
     "output_type": "stream",
     "text": [
      "did not find https://www.smogon.com/dex/media/sprites/rb/banette.png: Not Found\n",
      "did not find https://www.smogon.com/dex/media/sprites/c/banette.gif: Not Found\n"
     ]
    },
    {
     "name": "stderr",
     "output_type": "stream",
     "text": [
      " 36%|███████████████████████████▉                                                  | 465/1300 [30:30<54:27,  3.91s/it]"
     ]
    },
    {
     "name": "stdout",
     "output_type": "stream",
     "text": [
      "did not find https://www.smogon.com/dex/media/sprites/rb/banette-mega.png: Not Found\n",
      "did not find https://www.smogon.com/dex/media/sprites/c/banette-mega.gif: Not Found\n",
      "did not find https://www.smogon.com/dex/media/sprites/rs/banette-mega.png: Not Found\n",
      "did not find https://www.smogon.com/dex/media/sprites/dp/banette-mega.png: Not Found\n",
      "did not find https://www.smogon.com/dex/media/sprites/bw/banette-mega.gif: Not Found\n"
     ]
    },
    {
     "name": "stderr",
     "output_type": "stream",
     "text": [
      " 36%|███████████████████████████▉                                                  | 466/1300 [30:34<54:40,  3.93s/it]"
     ]
    },
    {
     "name": "stdout",
     "output_type": "stream",
     "text": [
      "did not find https://www.smogon.com/dex/media/sprites/rb/duskull.png: Not Found\n",
      "did not find https://www.smogon.com/dex/media/sprites/c/duskull.gif: Not Found\n"
     ]
    },
    {
     "name": "stderr",
     "output_type": "stream",
     "text": [
      " 36%|████████████████████████████                                                  | 467/1300 [30:38<54:26,  3.92s/it]"
     ]
    },
    {
     "name": "stdout",
     "output_type": "stream",
     "text": [
      "did not find https://www.smogon.com/dex/media/sprites/rb/dusclops.png: Not Found\n",
      "did not find https://www.smogon.com/dex/media/sprites/c/dusclops.gif: Not Found\n"
     ]
    },
    {
     "name": "stderr",
     "output_type": "stream",
     "text": [
      " 36%|████████████████████████████                                                  | 468/1300 [30:42<55:07,  3.97s/it]"
     ]
    },
    {
     "name": "stdout",
     "output_type": "stream",
     "text": [
      "did not find https://www.smogon.com/dex/media/sprites/rb/tropius.png: Not Found\n",
      "did not find https://www.smogon.com/dex/media/sprites/c/tropius.gif: Not Found\n"
     ]
    },
    {
     "name": "stderr",
     "output_type": "stream",
     "text": [
      " 36%|████████████████████████████▏                                                 | 469/1300 [30:46<56:32,  4.08s/it]"
     ]
    },
    {
     "name": "stdout",
     "output_type": "stream",
     "text": [
      "did not find https://www.smogon.com/dex/media/sprites/rb/chimecho.png: Not Found\n",
      "did not find https://www.smogon.com/dex/media/sprites/c/chimecho.gif: Not Found\n"
     ]
    },
    {
     "name": "stderr",
     "output_type": "stream",
     "text": [
      " 36%|████████████████████████████▏                                                 | 470/1300 [30:50<56:03,  4.05s/it]"
     ]
    },
    {
     "name": "stdout",
     "output_type": "stream",
     "text": [
      "did not find https://www.smogon.com/dex/media/sprites/rb/absol.png: Not Found\n",
      "did not find https://www.smogon.com/dex/media/sprites/c/absol.gif: Not Found\n"
     ]
    },
    {
     "name": "stderr",
     "output_type": "stream",
     "text": [
      " 36%|████████████████████████████▎                                                 | 471/1300 [30:54<56:10,  4.07s/it]"
     ]
    },
    {
     "name": "stdout",
     "output_type": "stream",
     "text": [
      "did not find https://www.smogon.com/dex/media/sprites/rb/absol-mega.png: Not Found\n",
      "did not find https://www.smogon.com/dex/media/sprites/c/absol-mega.gif: Not Found\n",
      "did not find https://www.smogon.com/dex/media/sprites/rs/absol-mega.png: Not Found\n",
      "did not find https://www.smogon.com/dex/media/sprites/dp/absol-mega.png: Not Found\n",
      "did not find https://www.smogon.com/dex/media/sprites/bw/absol-mega.gif: Not Found\n"
     ]
    },
    {
     "name": "stderr",
     "output_type": "stream",
     "text": [
      " 36%|████████████████████████████▎                                                 | 472/1300 [30:58<55:27,  4.02s/it]"
     ]
    },
    {
     "name": "stdout",
     "output_type": "stream",
     "text": [
      "did not find https://www.smogon.com/dex/media/sprites/rb/wynaut.png: Not Found\n",
      "did not find https://www.smogon.com/dex/media/sprites/c/wynaut.gif: Not Found\n"
     ]
    },
    {
     "name": "stderr",
     "output_type": "stream",
     "text": [
      " 36%|████████████████████████████▍                                                 | 473/1300 [31:02<54:48,  3.98s/it]"
     ]
    },
    {
     "name": "stdout",
     "output_type": "stream",
     "text": [
      "did not find https://www.smogon.com/dex/media/sprites/rb/snorunt.png: Not Found\n",
      "did not find https://www.smogon.com/dex/media/sprites/c/snorunt.gif: Not Found\n"
     ]
    },
    {
     "name": "stderr",
     "output_type": "stream",
     "text": [
      " 36%|████████████████████████████▍                                                 | 474/1300 [31:06<53:55,  3.92s/it]"
     ]
    },
    {
     "name": "stdout",
     "output_type": "stream",
     "text": [
      "did not find https://www.smogon.com/dex/media/sprites/rb/glalie.png: Not Found\n",
      "did not find https://www.smogon.com/dex/media/sprites/c/glalie.gif: Not Found\n"
     ]
    },
    {
     "name": "stderr",
     "output_type": "stream",
     "text": [
      " 37%|████████████████████████████▌                                                 | 475/1300 [31:10<54:46,  3.98s/it]"
     ]
    },
    {
     "name": "stdout",
     "output_type": "stream",
     "text": [
      "did not find https://www.smogon.com/dex/media/sprites/rb/glalie-mega.png: Not Found\n",
      "did not find https://www.smogon.com/dex/media/sprites/c/glalie-mega.gif: Not Found\n",
      "did not find https://www.smogon.com/dex/media/sprites/rs/glalie-mega.png: Not Found\n",
      "did not find https://www.smogon.com/dex/media/sprites/dp/glalie-mega.png: Not Found\n",
      "did not find https://www.smogon.com/dex/media/sprites/bw/glalie-mega.gif: Not Found\n"
     ]
    },
    {
     "name": "stderr",
     "output_type": "stream",
     "text": [
      " 37%|████████████████████████████▌                                                 | 476/1300 [31:14<54:56,  4.00s/it]"
     ]
    },
    {
     "name": "stdout",
     "output_type": "stream",
     "text": [
      "did not find https://www.smogon.com/dex/media/sprites/rb/spheal.png: Not Found\n",
      "did not find https://www.smogon.com/dex/media/sprites/c/spheal.gif: Not Found\n"
     ]
    },
    {
     "name": "stderr",
     "output_type": "stream",
     "text": [
      " 37%|████████████████████████████▌                                                 | 477/1300 [31:18<54:35,  3.98s/it]"
     ]
    },
    {
     "name": "stdout",
     "output_type": "stream",
     "text": [
      "did not find https://www.smogon.com/dex/media/sprites/rb/sealeo.png: Not Found\n",
      "did not find https://www.smogon.com/dex/media/sprites/c/sealeo.gif: Not Found\n"
     ]
    },
    {
     "name": "stderr",
     "output_type": "stream",
     "text": [
      " 37%|████████████████████████████▋                                                 | 478/1300 [31:22<54:11,  3.96s/it]"
     ]
    },
    {
     "name": "stdout",
     "output_type": "stream",
     "text": [
      "did not find https://www.smogon.com/dex/media/sprites/rb/walrein.png: Not Found\n",
      "did not find https://www.smogon.com/dex/media/sprites/c/walrein.gif: Not Found\n"
     ]
    },
    {
     "name": "stderr",
     "output_type": "stream",
     "text": [
      " 37%|████████████████████████████▋                                                 | 479/1300 [31:26<55:05,  4.03s/it]"
     ]
    },
    {
     "name": "stdout",
     "output_type": "stream",
     "text": [
      "did not find https://www.smogon.com/dex/media/sprites/rb/clamperl.png: Not Found\n",
      "did not find https://www.smogon.com/dex/media/sprites/c/clamperl.gif: Not Found\n"
     ]
    },
    {
     "name": "stderr",
     "output_type": "stream",
     "text": [
      " 37%|████████████████████████████▊                                                 | 480/1300 [31:30<54:37,  4.00s/it]"
     ]
    },
    {
     "name": "stdout",
     "output_type": "stream",
     "text": [
      "did not find https://www.smogon.com/dex/media/sprites/rb/huntail.png: Not Found\n",
      "did not find https://www.smogon.com/dex/media/sprites/c/huntail.gif: Not Found\n"
     ]
    },
    {
     "name": "stderr",
     "output_type": "stream",
     "text": [
      " 37%|████████████████████████████▊                                                 | 481/1300 [31:34<55:17,  4.05s/it]"
     ]
    },
    {
     "name": "stdout",
     "output_type": "stream",
     "text": [
      "did not find https://www.smogon.com/dex/media/sprites/rb/gorebyss.png: Not Found\n",
      "did not find https://www.smogon.com/dex/media/sprites/c/gorebyss.gif: Not Found\n"
     ]
    },
    {
     "name": "stderr",
     "output_type": "stream",
     "text": [
      " 37%|████████████████████████████▉                                                 | 482/1300 [31:38<55:04,  4.04s/it]"
     ]
    },
    {
     "name": "stdout",
     "output_type": "stream",
     "text": [
      "did not find https://www.smogon.com/dex/media/sprites/rb/relicanth.png: Not Found\n",
      "did not find https://www.smogon.com/dex/media/sprites/c/relicanth.gif: Not Found\n"
     ]
    },
    {
     "name": "stderr",
     "output_type": "stream",
     "text": [
      " 37%|████████████████████████████▉                                                 | 483/1300 [31:42<55:09,  4.05s/it]"
     ]
    },
    {
     "name": "stdout",
     "output_type": "stream",
     "text": [
      "did not find https://www.smogon.com/dex/media/sprites/rb/luvdisc.png: Not Found\n",
      "did not find https://www.smogon.com/dex/media/sprites/c/luvdisc.gif: Not Found\n"
     ]
    },
    {
     "name": "stderr",
     "output_type": "stream",
     "text": [
      " 37%|█████████████████████████████                                                 | 484/1300 [31:47<57:07,  4.20s/it]"
     ]
    },
    {
     "name": "stdout",
     "output_type": "stream",
     "text": [
      "did not find https://www.smogon.com/dex/media/sprites/rb/bagon.png: Not Found\n",
      "did not find https://www.smogon.com/dex/media/sprites/c/bagon.gif: Not Found\n"
     ]
    },
    {
     "name": "stderr",
     "output_type": "stream",
     "text": [
      " 37%|█████████████████████████████                                                 | 485/1300 [31:50<55:43,  4.10s/it]"
     ]
    },
    {
     "name": "stdout",
     "output_type": "stream",
     "text": [
      "did not find https://www.smogon.com/dex/media/sprites/rb/shelgon.png: Not Found\n",
      "did not find https://www.smogon.com/dex/media/sprites/c/shelgon.gif: Not Found\n"
     ]
    },
    {
     "name": "stderr",
     "output_type": "stream",
     "text": [
      " 37%|█████████████████████████████▏                                                | 486/1300 [31:54<55:18,  4.08s/it]"
     ]
    },
    {
     "name": "stdout",
     "output_type": "stream",
     "text": [
      "did not find https://www.smogon.com/dex/media/sprites/rb/salamence.png: Not Found\n",
      "did not find https://www.smogon.com/dex/media/sprites/c/salamence.gif: Not Found\n"
     ]
    },
    {
     "name": "stderr",
     "output_type": "stream",
     "text": [
      " 37%|█████████████████████████████▏                                                | 487/1300 [31:59<55:59,  4.13s/it]"
     ]
    },
    {
     "name": "stdout",
     "output_type": "stream",
     "text": [
      "did not find https://www.smogon.com/dex/media/sprites/rb/salamence-mega.png: Not Found\n",
      "did not find https://www.smogon.com/dex/media/sprites/c/salamence-mega.gif: Not Found\n",
      "did not find https://www.smogon.com/dex/media/sprites/rs/salamence-mega.png: Not Found\n",
      "did not find https://www.smogon.com/dex/media/sprites/dp/salamence-mega.png: Not Found\n",
      "did not find https://www.smogon.com/dex/media/sprites/bw/salamence-mega.gif: Not Found\n"
     ]
    },
    {
     "name": "stderr",
     "output_type": "stream",
     "text": [
      " 38%|█████████████████████████████▎                                                | 488/1300 [32:03<54:27,  4.02s/it]"
     ]
    },
    {
     "name": "stdout",
     "output_type": "stream",
     "text": [
      "did not find https://www.smogon.com/dex/media/sprites/rb/beldum.png: Not Found\n",
      "did not find https://www.smogon.com/dex/media/sprites/c/beldum.gif: Not Found\n"
     ]
    },
    {
     "name": "stderr",
     "output_type": "stream",
     "text": [
      " 38%|█████████████████████████████▎                                                | 489/1300 [32:06<53:41,  3.97s/it]"
     ]
    },
    {
     "name": "stdout",
     "output_type": "stream",
     "text": [
      "did not find https://www.smogon.com/dex/media/sprites/rb/metang.png: Not Found\n",
      "did not find https://www.smogon.com/dex/media/sprites/c/metang.gif: Not Found\n"
     ]
    },
    {
     "name": "stderr",
     "output_type": "stream",
     "text": [
      " 38%|█████████████████████████████▍                                                | 490/1300 [32:10<54:09,  4.01s/it]"
     ]
    },
    {
     "name": "stdout",
     "output_type": "stream",
     "text": [
      "did not find https://www.smogon.com/dex/media/sprites/rb/metagross.png: Not Found\n",
      "did not find https://www.smogon.com/dex/media/sprites/c/metagross.gif: Not Found\n"
     ]
    },
    {
     "name": "stderr",
     "output_type": "stream",
     "text": [
      " 38%|█████████████████████████████▍                                                | 491/1300 [32:15<55:05,  4.09s/it]"
     ]
    },
    {
     "name": "stdout",
     "output_type": "stream",
     "text": [
      "did not find https://www.smogon.com/dex/media/sprites/rb/metagross-mega.png: Not Found\n",
      "did not find https://www.smogon.com/dex/media/sprites/c/metagross-mega.gif: Not Found\n",
      "did not find https://www.smogon.com/dex/media/sprites/rs/metagross-mega.png: Not Found\n",
      "did not find https://www.smogon.com/dex/media/sprites/dp/metagross-mega.png: Not Found\n",
      "did not find https://www.smogon.com/dex/media/sprites/bw/metagross-mega.gif: Not Found\n"
     ]
    },
    {
     "name": "stderr",
     "output_type": "stream",
     "text": [
      " 38%|█████████████████████████████▌                                                | 492/1300 [32:19<54:44,  4.06s/it]"
     ]
    },
    {
     "name": "stdout",
     "output_type": "stream",
     "text": [
      "did not find https://www.smogon.com/dex/media/sprites/rb/regirock.png: Not Found\n",
      "did not find https://www.smogon.com/dex/media/sprites/c/regirock.gif: Not Found\n"
     ]
    },
    {
     "name": "stderr",
     "output_type": "stream",
     "text": [
      " 38%|█████████████████████████████▌                                                | 493/1300 [32:23<54:55,  4.08s/it]"
     ]
    },
    {
     "name": "stdout",
     "output_type": "stream",
     "text": [
      "did not find https://www.smogon.com/dex/media/sprites/rb/regice.png: Not Found\n",
      "did not find https://www.smogon.com/dex/media/sprites/c/regice.gif: Not Found\n"
     ]
    },
    {
     "name": "stderr",
     "output_type": "stream",
     "text": [
      " 38%|█████████████████████████████▋                                                | 494/1300 [32:27<54:57,  4.09s/it]"
     ]
    },
    {
     "name": "stdout",
     "output_type": "stream",
     "text": [
      "did not find https://www.smogon.com/dex/media/sprites/rb/registeel.png: Not Found\n",
      "did not find https://www.smogon.com/dex/media/sprites/c/registeel.gif: Not Found\n"
     ]
    },
    {
     "name": "stderr",
     "output_type": "stream",
     "text": [
      " 38%|█████████████████████████████▋                                                | 495/1300 [32:31<55:27,  4.13s/it]"
     ]
    },
    {
     "name": "stdout",
     "output_type": "stream",
     "text": [
      "did not find https://www.smogon.com/dex/media/sprites/rb/latias.png: Not Found\n",
      "did not find https://www.smogon.com/dex/media/sprites/c/latias.gif: Not Found\n"
     ]
    },
    {
     "name": "stderr",
     "output_type": "stream",
     "text": [
      " 38%|█████████████████████████████▊                                                | 496/1300 [32:35<55:02,  4.11s/it]"
     ]
    },
    {
     "name": "stdout",
     "output_type": "stream",
     "text": [
      "did not find https://www.smogon.com/dex/media/sprites/rb/latias-mega.png: Not Found\n",
      "did not find https://www.smogon.com/dex/media/sprites/c/latias-mega.gif: Not Found\n",
      "did not find https://www.smogon.com/dex/media/sprites/rs/latias-mega.png: Not Found\n",
      "did not find https://www.smogon.com/dex/media/sprites/dp/latias-mega.png: Not Found\n",
      "did not find https://www.smogon.com/dex/media/sprites/bw/latias-mega.gif: Not Found\n"
     ]
    },
    {
     "name": "stderr",
     "output_type": "stream",
     "text": [
      " 38%|█████████████████████████████▊                                                | 497/1300 [32:39<54:00,  4.04s/it]"
     ]
    },
    {
     "name": "stdout",
     "output_type": "stream",
     "text": [
      "did not find https://www.smogon.com/dex/media/sprites/rb/latios.png: Not Found\n",
      "did not find https://www.smogon.com/dex/media/sprites/c/latios.gif: Not Found\n"
     ]
    },
    {
     "name": "stderr",
     "output_type": "stream",
     "text": [
      " 38%|█████████████████████████████▉                                                | 498/1300 [32:43<54:05,  4.05s/it]"
     ]
    },
    {
     "name": "stdout",
     "output_type": "stream",
     "text": [
      "did not find https://www.smogon.com/dex/media/sprites/rb/latios-mega.png: Not Found\n",
      "did not find https://www.smogon.com/dex/media/sprites/c/latios-mega.gif: Not Found\n",
      "did not find https://www.smogon.com/dex/media/sprites/rs/latios-mega.png: Not Found\n",
      "did not find https://www.smogon.com/dex/media/sprites/dp/latios-mega.png: Not Found\n",
      "did not find https://www.smogon.com/dex/media/sprites/bw/latios-mega.gif: Not Found\n"
     ]
    },
    {
     "name": "stderr",
     "output_type": "stream",
     "text": [
      " 38%|█████████████████████████████▉                                                | 499/1300 [32:47<53:06,  3.98s/it]"
     ]
    },
    {
     "name": "stdout",
     "output_type": "stream",
     "text": [
      "did not find https://www.smogon.com/dex/media/sprites/rb/kyogre.png: Not Found\n",
      "did not find https://www.smogon.com/dex/media/sprites/c/kyogre.gif: Not Found\n"
     ]
    },
    {
     "name": "stderr",
     "output_type": "stream",
     "text": [
      " 38%|██████████████████████████████                                                | 500/1300 [32:51<53:36,  4.02s/it]"
     ]
    },
    {
     "name": "stdout",
     "output_type": "stream",
     "text": [
      "did not find https://www.smogon.com/dex/media/sprites/rb/kyogre-primal.png: Not Found\n",
      "did not find https://www.smogon.com/dex/media/sprites/c/kyogre-primal.gif: Not Found\n",
      "did not find https://www.smogon.com/dex/media/sprites/rs/kyogre-primal.png: Not Found\n",
      "did not find https://www.smogon.com/dex/media/sprites/dp/kyogre-primal.png: Not Found\n",
      "did not find https://www.smogon.com/dex/media/sprites/bw/kyogre-primal.gif: Not Found\n"
     ]
    },
    {
     "name": "stderr",
     "output_type": "stream",
     "text": [
      " 39%|██████████████████████████████                                                | 501/1300 [32:55<52:07,  3.91s/it]"
     ]
    },
    {
     "name": "stdout",
     "output_type": "stream",
     "text": [
      "did not find https://www.smogon.com/dex/media/sprites/rb/groudon.png: Not Found\n",
      "did not find https://www.smogon.com/dex/media/sprites/c/groudon.gif: Not Found\n"
     ]
    },
    {
     "name": "stderr",
     "output_type": "stream",
     "text": [
      " 39%|██████████████████████████████                                                | 502/1300 [32:59<52:22,  3.94s/it]"
     ]
    },
    {
     "name": "stdout",
     "output_type": "stream",
     "text": [
      "did not find https://www.smogon.com/dex/media/sprites/rb/groudon-primal.png: Not Found\n",
      "did not find https://www.smogon.com/dex/media/sprites/c/groudon-primal.gif: Not Found\n",
      "did not find https://www.smogon.com/dex/media/sprites/rs/groudon-primal.png: Not Found\n",
      "did not find https://www.smogon.com/dex/media/sprites/dp/groudon-primal.png: Not Found\n",
      "did not find https://www.smogon.com/dex/media/sprites/bw/groudon-primal.gif: Not Found\n"
     ]
    },
    {
     "name": "stderr",
     "output_type": "stream",
     "text": [
      " 39%|██████████████████████████████▏                                               | 503/1300 [33:03<51:40,  3.89s/it]"
     ]
    },
    {
     "name": "stdout",
     "output_type": "stream",
     "text": [
      "did not find https://www.smogon.com/dex/media/sprites/rb/rayquaza.png: Not Found\n",
      "did not find https://www.smogon.com/dex/media/sprites/c/rayquaza.gif: Not Found\n"
     ]
    },
    {
     "name": "stderr",
     "output_type": "stream",
     "text": [
      " 39%|██████████████████████████████▏                                               | 504/1300 [33:07<52:06,  3.93s/it]"
     ]
    },
    {
     "name": "stdout",
     "output_type": "stream",
     "text": [
      "did not find https://www.smogon.com/dex/media/sprites/rb/rayquaza-mega.png: Not Found\n",
      "did not find https://www.smogon.com/dex/media/sprites/c/rayquaza-mega.gif: Not Found\n",
      "did not find https://www.smogon.com/dex/media/sprites/rs/rayquaza-mega.png: Not Found\n",
      "did not find https://www.smogon.com/dex/media/sprites/dp/rayquaza-mega.png: Not Found\n",
      "did not find https://www.smogon.com/dex/media/sprites/bw/rayquaza-mega.gif: Not Found\n"
     ]
    },
    {
     "name": "stderr",
     "output_type": "stream",
     "text": [
      " 39%|██████████████████████████████▎                                               | 505/1300 [33:10<51:31,  3.89s/it]"
     ]
    },
    {
     "name": "stdout",
     "output_type": "stream",
     "text": [
      "did not find https://www.smogon.com/dex/media/sprites/rb/jirachi.png: Not Found\n",
      "did not find https://www.smogon.com/dex/media/sprites/c/jirachi.gif: Not Found\n"
     ]
    },
    {
     "name": "stderr",
     "output_type": "stream",
     "text": [
      " 39%|██████████████████████████████▎                                               | 506/1300 [33:14<51:29,  3.89s/it]"
     ]
    },
    {
     "name": "stdout",
     "output_type": "stream",
     "text": [
      "did not find https://www.smogon.com/dex/media/sprites/rb/deoxys.png: Not Found\n",
      "did not find https://www.smogon.com/dex/media/sprites/c/deoxys.gif: Not Found\n"
     ]
    },
    {
     "name": "stderr",
     "output_type": "stream",
     "text": [
      " 39%|██████████████████████████████▍                                               | 507/1300 [33:18<51:50,  3.92s/it]"
     ]
    },
    {
     "name": "stdout",
     "output_type": "stream",
     "text": [
      "did not find https://www.smogon.com/dex/media/sprites/rb/deoxys-attack.png: Not Found\n",
      "did not find https://www.smogon.com/dex/media/sprites/c/deoxys-attack.gif: Not Found\n"
     ]
    },
    {
     "name": "stderr",
     "output_type": "stream",
     "text": [
      " 39%|██████████████████████████████▍                                               | 508/1300 [33:22<52:09,  3.95s/it]"
     ]
    },
    {
     "name": "stdout",
     "output_type": "stream",
     "text": [
      "did not find https://www.smogon.com/dex/media/sprites/rb/deoxys-defense.png: Not Found\n",
      "did not find https://www.smogon.com/dex/media/sprites/c/deoxys-defense.gif: Not Found\n"
     ]
    },
    {
     "name": "stderr",
     "output_type": "stream",
     "text": [
      " 39%|██████████████████████████████▌                                               | 509/1300 [33:26<51:48,  3.93s/it]"
     ]
    },
    {
     "name": "stdout",
     "output_type": "stream",
     "text": [
      "did not find https://www.smogon.com/dex/media/sprites/rb/deoxys-speed.png: Not Found\n",
      "did not find https://www.smogon.com/dex/media/sprites/c/deoxys-speed.gif: Not Found\n"
     ]
    },
    {
     "name": "stderr",
     "output_type": "stream",
     "text": [
      " 39%|██████████████████████████████▌                                               | 510/1300 [33:30<51:36,  3.92s/it]"
     ]
    },
    {
     "name": "stdout",
     "output_type": "stream",
     "text": [
      "did not find https://www.smogon.com/dex/media/sprites/rb/turtwig.png: Not Found\n",
      "did not find https://www.smogon.com/dex/media/sprites/c/turtwig.gif: Not Found\n",
      "did not find https://www.smogon.com/dex/media/sprites/rs/turtwig.png: Not Found\n"
     ]
    },
    {
     "name": "stderr",
     "output_type": "stream",
     "text": [
      " 39%|██████████████████████████████▋                                               | 511/1300 [33:34<50:02,  3.81s/it]"
     ]
    },
    {
     "name": "stdout",
     "output_type": "stream",
     "text": [
      "did not find https://www.smogon.com/dex/media/sprites/rb/grotle.png: Not Found\n",
      "did not find https://www.smogon.com/dex/media/sprites/c/grotle.gif: Not Found\n",
      "did not find https://www.smogon.com/dex/media/sprites/rs/grotle.png: Not Found\n"
     ]
    },
    {
     "name": "stderr",
     "output_type": "stream",
     "text": [
      " 39%|██████████████████████████████▋                                               | 512/1300 [33:38<50:39,  3.86s/it]"
     ]
    },
    {
     "name": "stdout",
     "output_type": "stream",
     "text": [
      "did not find https://www.smogon.com/dex/media/sprites/rb/torterra.png: Not Found\n",
      "did not find https://www.smogon.com/dex/media/sprites/c/torterra.gif: Not Found\n",
      "did not find https://www.smogon.com/dex/media/sprites/rs/torterra.png: Not Found\n"
     ]
    },
    {
     "name": "stderr",
     "output_type": "stream",
     "text": [
      " 39%|██████████████████████████████▊                                               | 513/1300 [33:42<51:10,  3.90s/it]"
     ]
    },
    {
     "name": "stdout",
     "output_type": "stream",
     "text": [
      "did not find https://www.smogon.com/dex/media/sprites/rb/chimchar.png: Not Found\n",
      "did not find https://www.smogon.com/dex/media/sprites/c/chimchar.gif: Not Found\n",
      "did not find https://www.smogon.com/dex/media/sprites/rs/chimchar.png: Not Found\n"
     ]
    },
    {
     "name": "stderr",
     "output_type": "stream",
     "text": [
      " 40%|██████████████████████████████▊                                               | 514/1300 [33:45<50:56,  3.89s/it]"
     ]
    },
    {
     "name": "stdout",
     "output_type": "stream",
     "text": [
      "did not find https://www.smogon.com/dex/media/sprites/rb/monferno.png: Not Found\n",
      "did not find https://www.smogon.com/dex/media/sprites/c/monferno.gif: Not Found\n",
      "did not find https://www.smogon.com/dex/media/sprites/rs/monferno.png: Not Found\n"
     ]
    },
    {
     "name": "stderr",
     "output_type": "stream",
     "text": [
      " 40%|██████████████████████████████▉                                               | 515/1300 [33:49<50:52,  3.89s/it]"
     ]
    },
    {
     "name": "stdout",
     "output_type": "stream",
     "text": [
      "did not find https://www.smogon.com/dex/media/sprites/rb/infernape.png: Not Found\n",
      "did not find https://www.smogon.com/dex/media/sprites/c/infernape.gif: Not Found\n",
      "did not find https://www.smogon.com/dex/media/sprites/rs/infernape.png: Not Found\n"
     ]
    },
    {
     "name": "stderr",
     "output_type": "stream",
     "text": [
      " 40%|██████████████████████████████▉                                               | 516/1300 [33:54<51:54,  3.97s/it]"
     ]
    },
    {
     "name": "stdout",
     "output_type": "stream",
     "text": [
      "did not find https://www.smogon.com/dex/media/sprites/rb/piplup.png: Not Found\n",
      "did not find https://www.smogon.com/dex/media/sprites/c/piplup.gif: Not Found\n",
      "did not find https://www.smogon.com/dex/media/sprites/rs/piplup.png: Not Found\n"
     ]
    },
    {
     "name": "stderr",
     "output_type": "stream",
     "text": [
      " 40%|███████████████████████████████                                               | 517/1300 [33:58<51:53,  3.98s/it]"
     ]
    },
    {
     "name": "stdout",
     "output_type": "stream",
     "text": [
      "did not find https://www.smogon.com/dex/media/sprites/rb/prinplup.png: Not Found\n",
      "did not find https://www.smogon.com/dex/media/sprites/c/prinplup.gif: Not Found\n",
      "did not find https://www.smogon.com/dex/media/sprites/rs/prinplup.png: Not Found\n"
     ]
    },
    {
     "name": "stderr",
     "output_type": "stream",
     "text": [
      " 40%|███████████████████████████████                                               | 518/1300 [34:01<51:22,  3.94s/it]"
     ]
    },
    {
     "name": "stdout",
     "output_type": "stream",
     "text": [
      "did not find https://www.smogon.com/dex/media/sprites/rb/empoleon.png: Not Found\n",
      "did not find https://www.smogon.com/dex/media/sprites/c/empoleon.gif: Not Found\n",
      "did not find https://www.smogon.com/dex/media/sprites/rs/empoleon.png: Not Found\n"
     ]
    },
    {
     "name": "stderr",
     "output_type": "stream",
     "text": [
      " 40%|███████████████████████████████▏                                              | 519/1300 [34:05<51:27,  3.95s/it]"
     ]
    },
    {
     "name": "stdout",
     "output_type": "stream",
     "text": [
      "did not find https://www.smogon.com/dex/media/sprites/rb/starly.png: Not Found\n",
      "did not find https://www.smogon.com/dex/media/sprites/c/starly.gif: Not Found\n",
      "did not find https://www.smogon.com/dex/media/sprites/rs/starly.png: Not Found\n"
     ]
    },
    {
     "name": "stderr",
     "output_type": "stream",
     "text": [
      " 40%|███████████████████████████████▏                                              | 520/1300 [34:09<49:57,  3.84s/it]"
     ]
    },
    {
     "name": "stdout",
     "output_type": "stream",
     "text": [
      "did not find https://www.smogon.com/dex/media/sprites/rb/staravia.png: Not Found\n",
      "did not find https://www.smogon.com/dex/media/sprites/c/staravia.gif: Not Found\n",
      "did not find https://www.smogon.com/dex/media/sprites/rs/staravia.png: Not Found\n"
     ]
    },
    {
     "name": "stderr",
     "output_type": "stream",
     "text": [
      " 40%|███████████████████████████████▎                                              | 521/1300 [34:13<49:08,  3.78s/it]"
     ]
    },
    {
     "name": "stdout",
     "output_type": "stream",
     "text": [
      "did not find https://www.smogon.com/dex/media/sprites/rb/staraptor.png: Not Found\n",
      "did not find https://www.smogon.com/dex/media/sprites/c/staraptor.gif: Not Found\n",
      "did not find https://www.smogon.com/dex/media/sprites/rs/staraptor.png: Not Found\n"
     ]
    },
    {
     "name": "stderr",
     "output_type": "stream",
     "text": [
      " 40%|███████████████████████████████▎                                              | 522/1300 [34:16<49:10,  3.79s/it]"
     ]
    },
    {
     "name": "stdout",
     "output_type": "stream",
     "text": [
      "did not find https://www.smogon.com/dex/media/sprites/rb/bidoof.png: Not Found\n",
      "did not find https://www.smogon.com/dex/media/sprites/c/bidoof.gif: Not Found\n",
      "did not find https://www.smogon.com/dex/media/sprites/rs/bidoof.png: Not Found\n"
     ]
    },
    {
     "name": "stderr",
     "output_type": "stream",
     "text": [
      " 40%|███████████████████████████████▍                                              | 523/1300 [34:20<48:35,  3.75s/it]"
     ]
    },
    {
     "name": "stdout",
     "output_type": "stream",
     "text": [
      "did not find https://www.smogon.com/dex/media/sprites/rb/bibarel.png: Not Found\n",
      "did not find https://www.smogon.com/dex/media/sprites/c/bibarel.gif: Not Found\n",
      "did not find https://www.smogon.com/dex/media/sprites/rs/bibarel.png: Not Found\n"
     ]
    },
    {
     "name": "stderr",
     "output_type": "stream",
     "text": [
      " 40%|███████████████████████████████▍                                              | 524/1300 [34:24<48:40,  3.76s/it]"
     ]
    },
    {
     "name": "stdout",
     "output_type": "stream",
     "text": [
      "did not find https://www.smogon.com/dex/media/sprites/rb/kricketot.png: Not Found\n",
      "did not find https://www.smogon.com/dex/media/sprites/c/kricketot.gif: Not Found\n",
      "did not find https://www.smogon.com/dex/media/sprites/rs/kricketot.png: Not Found\n"
     ]
    },
    {
     "name": "stderr",
     "output_type": "stream",
     "text": [
      " 40%|███████████████████████████████▌                                              | 525/1300 [34:28<48:17,  3.74s/it]"
     ]
    },
    {
     "name": "stdout",
     "output_type": "stream",
     "text": [
      "did not find https://www.smogon.com/dex/media/sprites/rb/kricketune.png: Not Found\n",
      "did not find https://www.smogon.com/dex/media/sprites/c/kricketune.gif: Not Found\n",
      "did not find https://www.smogon.com/dex/media/sprites/rs/kricketune.png: Not Found\n"
     ]
    },
    {
     "name": "stderr",
     "output_type": "stream",
     "text": [
      " 40%|███████████████████████████████▌                                              | 526/1300 [34:31<48:28,  3.76s/it]"
     ]
    },
    {
     "name": "stdout",
     "output_type": "stream",
     "text": [
      "did not find https://www.smogon.com/dex/media/sprites/rb/shinx.png: Not Found\n",
      "did not find https://www.smogon.com/dex/media/sprites/c/shinx.gif: Not Found\n",
      "did not find https://www.smogon.com/dex/media/sprites/rs/shinx.png: Not Found\n"
     ]
    },
    {
     "name": "stderr",
     "output_type": "stream",
     "text": [
      " 41%|███████████████████████████████▌                                              | 527/1300 [34:35<48:00,  3.73s/it]"
     ]
    },
    {
     "name": "stdout",
     "output_type": "stream",
     "text": [
      "did not find https://www.smogon.com/dex/media/sprites/rb/luxio.png: Not Found\n",
      "did not find https://www.smogon.com/dex/media/sprites/c/luxio.gif: Not Found\n",
      "did not find https://www.smogon.com/dex/media/sprites/rs/luxio.png: Not Found\n"
     ]
    },
    {
     "name": "stderr",
     "output_type": "stream",
     "text": [
      " 41%|███████████████████████████████▋                                              | 528/1300 [34:39<48:32,  3.77s/it]"
     ]
    },
    {
     "name": "stdout",
     "output_type": "stream",
     "text": [
      "did not find https://www.smogon.com/dex/media/sprites/rb/luxray.png: Not Found\n",
      "did not find https://www.smogon.com/dex/media/sprites/c/luxray.gif: Not Found\n",
      "did not find https://www.smogon.com/dex/media/sprites/rs/luxray.png: Not Found\n"
     ]
    },
    {
     "name": "stderr",
     "output_type": "stream",
     "text": [
      " 41%|███████████████████████████████▋                                              | 529/1300 [34:43<49:19,  3.84s/it]"
     ]
    },
    {
     "name": "stdout",
     "output_type": "stream",
     "text": [
      "did not find https://www.smogon.com/dex/media/sprites/rb/budew.png: Not Found\n",
      "did not find https://www.smogon.com/dex/media/sprites/c/budew.gif: Not Found\n",
      "did not find https://www.smogon.com/dex/media/sprites/rs/budew.png: Not Found\n"
     ]
    },
    {
     "name": "stderr",
     "output_type": "stream",
     "text": [
      " 41%|███████████████████████████████▊                                              | 530/1300 [34:47<48:35,  3.79s/it]"
     ]
    },
    {
     "name": "stdout",
     "output_type": "stream",
     "text": [
      "did not find https://www.smogon.com/dex/media/sprites/rb/roserade.png: Not Found\n",
      "did not find https://www.smogon.com/dex/media/sprites/c/roserade.gif: Not Found\n",
      "did not find https://www.smogon.com/dex/media/sprites/rs/roserade.png: Not Found\n"
     ]
    },
    {
     "name": "stderr",
     "output_type": "stream",
     "text": [
      " 41%|███████████████████████████████▊                                              | 531/1300 [34:50<48:46,  3.81s/it]"
     ]
    },
    {
     "name": "stdout",
     "output_type": "stream",
     "text": [
      "did not find https://www.smogon.com/dex/media/sprites/rb/cranidos.png: Not Found\n",
      "did not find https://www.smogon.com/dex/media/sprites/c/cranidos.gif: Not Found\n",
      "did not find https://www.smogon.com/dex/media/sprites/rs/cranidos.png: Not Found\n"
     ]
    },
    {
     "name": "stderr",
     "output_type": "stream",
     "text": [
      " 41%|███████████████████████████████▉                                              | 532/1300 [34:54<48:17,  3.77s/it]"
     ]
    },
    {
     "name": "stdout",
     "output_type": "stream",
     "text": [
      "did not find https://www.smogon.com/dex/media/sprites/rb/rampardos.png: Not Found\n",
      "did not find https://www.smogon.com/dex/media/sprites/c/rampardos.gif: Not Found\n",
      "did not find https://www.smogon.com/dex/media/sprites/rs/rampardos.png: Not Found\n"
     ]
    },
    {
     "name": "stderr",
     "output_type": "stream",
     "text": [
      " 41%|███████████████████████████████▉                                              | 533/1300 [34:58<48:42,  3.81s/it]"
     ]
    },
    {
     "name": "stdout",
     "output_type": "stream",
     "text": [
      "did not find https://www.smogon.com/dex/media/sprites/rb/shieldon.png: Not Found\n",
      "did not find https://www.smogon.com/dex/media/sprites/c/shieldon.gif: Not Found\n",
      "did not find https://www.smogon.com/dex/media/sprites/rs/shieldon.png: Not Found\n"
     ]
    },
    {
     "name": "stderr",
     "output_type": "stream",
     "text": [
      " 41%|████████████████████████████████                                              | 534/1300 [35:02<48:36,  3.81s/it]"
     ]
    },
    {
     "name": "stdout",
     "output_type": "stream",
     "text": [
      "did not find https://www.smogon.com/dex/media/sprites/rb/bastiodon.png: Not Found\n",
      "did not find https://www.smogon.com/dex/media/sprites/c/bastiodon.gif: Not Found\n",
      "did not find https://www.smogon.com/dex/media/sprites/rs/bastiodon.png: Not Found\n"
     ]
    },
    {
     "name": "stderr",
     "output_type": "stream",
     "text": [
      " 41%|████████████████████████████████                                              | 535/1300 [35:06<49:48,  3.91s/it]"
     ]
    },
    {
     "name": "stdout",
     "output_type": "stream",
     "text": [
      "did not find https://www.smogon.com/dex/media/sprites/rb/burmy.png: Not Found\n",
      "did not find https://www.smogon.com/dex/media/sprites/c/burmy.gif: Not Found\n",
      "did not find https://www.smogon.com/dex/media/sprites/rs/burmy.png: Not Found\n"
     ]
    },
    {
     "name": "stderr",
     "output_type": "stream",
     "text": [
      " 41%|████████████████████████████████▏                                             | 536/1300 [35:10<49:38,  3.90s/it]"
     ]
    },
    {
     "name": "stdout",
     "output_type": "stream",
     "text": [
      "did not find https://www.smogon.com/dex/media/sprites/rb/wormadam.png: Not Found\n",
      "did not find https://www.smogon.com/dex/media/sprites/c/wormadam.gif: Not Found\n",
      "did not find https://www.smogon.com/dex/media/sprites/rs/wormadam.png: Not Found\n"
     ]
    },
    {
     "name": "stderr",
     "output_type": "stream",
     "text": [
      " 41%|████████████████████████████████▏                                             | 537/1300 [35:14<50:13,  3.95s/it]"
     ]
    },
    {
     "name": "stdout",
     "output_type": "stream",
     "text": [
      "did not find https://www.smogon.com/dex/media/sprites/rb/wormadam-sandy.png: Not Found\n",
      "did not find https://www.smogon.com/dex/media/sprites/c/wormadam-sandy.gif: Not Found\n",
      "did not find https://www.smogon.com/dex/media/sprites/rs/wormadam-sandy.png: Not Found\n"
     ]
    },
    {
     "name": "stderr",
     "output_type": "stream",
     "text": [
      " 41%|████████████████████████████████▎                                             | 538/1300 [35:18<50:52,  4.01s/it]"
     ]
    },
    {
     "name": "stdout",
     "output_type": "stream",
     "text": [
      "did not find https://www.smogon.com/dex/media/sprites/rb/wormadam-trash.png: Not Found\n",
      "did not find https://www.smogon.com/dex/media/sprites/c/wormadam-trash.gif: Not Found\n",
      "did not find https://www.smogon.com/dex/media/sprites/rs/wormadam-trash.png: Not Found\n"
     ]
    },
    {
     "name": "stderr",
     "output_type": "stream",
     "text": [
      " 41%|████████████████████████████████▎                                             | 539/1300 [35:22<51:06,  4.03s/it]"
     ]
    },
    {
     "name": "stdout",
     "output_type": "stream",
     "text": [
      "did not find https://www.smogon.com/dex/media/sprites/rb/mothim.png: Not Found\n",
      "did not find https://www.smogon.com/dex/media/sprites/c/mothim.gif: Not Found\n",
      "did not find https://www.smogon.com/dex/media/sprites/rs/mothim.png: Not Found\n"
     ]
    },
    {
     "name": "stderr",
     "output_type": "stream",
     "text": [
      " 42%|████████████████████████████████▍                                             | 540/1300 [35:26<50:25,  3.98s/it]"
     ]
    },
    {
     "name": "stdout",
     "output_type": "stream",
     "text": [
      "did not find https://www.smogon.com/dex/media/sprites/rb/combee.png: Not Found\n",
      "did not find https://www.smogon.com/dex/media/sprites/c/combee.gif: Not Found\n",
      "did not find https://www.smogon.com/dex/media/sprites/rs/combee.png: Not Found\n"
     ]
    },
    {
     "name": "stderr",
     "output_type": "stream",
     "text": [
      " 42%|████████████████████████████████▍                                             | 541/1300 [35:30<49:23,  3.90s/it]"
     ]
    },
    {
     "name": "stdout",
     "output_type": "stream",
     "text": [
      "did not find https://www.smogon.com/dex/media/sprites/rb/vespiquen.png: Not Found\n",
      "did not find https://www.smogon.com/dex/media/sprites/c/vespiquen.gif: Not Found\n",
      "did not find https://www.smogon.com/dex/media/sprites/rs/vespiquen.png: Not Found\n"
     ]
    },
    {
     "name": "stderr",
     "output_type": "stream",
     "text": [
      " 42%|████████████████████████████████▌                                             | 542/1300 [35:34<50:17,  3.98s/it]"
     ]
    },
    {
     "name": "stdout",
     "output_type": "stream",
     "text": [
      "did not find https://www.smogon.com/dex/media/sprites/rb/pachirisu.png: Not Found\n",
      "did not find https://www.smogon.com/dex/media/sprites/c/pachirisu.gif: Not Found\n",
      "did not find https://www.smogon.com/dex/media/sprites/rs/pachirisu.png: Not Found\n"
     ]
    },
    {
     "name": "stderr",
     "output_type": "stream",
     "text": [
      " 42%|████████████████████████████████▌                                             | 543/1300 [35:38<49:48,  3.95s/it]"
     ]
    },
    {
     "name": "stdout",
     "output_type": "stream",
     "text": [
      "did not find https://www.smogon.com/dex/media/sprites/rb/buizel.png: Not Found\n",
      "did not find https://www.smogon.com/dex/media/sprites/c/buizel.gif: Not Found\n",
      "did not find https://www.smogon.com/dex/media/sprites/rs/buizel.png: Not Found\n"
     ]
    },
    {
     "name": "stderr",
     "output_type": "stream",
     "text": [
      " 42%|████████████████████████████████▋                                             | 544/1300 [35:42<49:16,  3.91s/it]"
     ]
    },
    {
     "name": "stdout",
     "output_type": "stream",
     "text": [
      "did not find https://www.smogon.com/dex/media/sprites/rb/floatzel.png: Not Found\n",
      "did not find https://www.smogon.com/dex/media/sprites/c/floatzel.gif: Not Found\n",
      "did not find https://www.smogon.com/dex/media/sprites/rs/floatzel.png: Not Found\n"
     ]
    },
    {
     "name": "stderr",
     "output_type": "stream",
     "text": [
      " 42%|████████████████████████████████▋                                             | 545/1300 [35:46<49:54,  3.97s/it]"
     ]
    },
    {
     "name": "stdout",
     "output_type": "stream",
     "text": [
      "did not find https://www.smogon.com/dex/media/sprites/rb/cherubi.png: Not Found\n",
      "did not find https://www.smogon.com/dex/media/sprites/c/cherubi.gif: Not Found\n",
      "did not find https://www.smogon.com/dex/media/sprites/rs/cherubi.png: Not Found\n"
     ]
    },
    {
     "name": "stderr",
     "output_type": "stream",
     "text": [
      " 42%|████████████████████████████████▊                                             | 546/1300 [35:49<49:27,  3.94s/it]"
     ]
    },
    {
     "name": "stdout",
     "output_type": "stream",
     "text": [
      "did not find https://www.smogon.com/dex/media/sprites/rb/cherrim.png: Not Found\n",
      "did not find https://www.smogon.com/dex/media/sprites/c/cherrim.gif: Not Found\n",
      "did not find https://www.smogon.com/dex/media/sprites/rs/cherrim.png: Not Found\n"
     ]
    },
    {
     "name": "stderr",
     "output_type": "stream",
     "text": [
      " 42%|████████████████████████████████▊                                             | 547/1300 [35:53<49:41,  3.96s/it]"
     ]
    },
    {
     "name": "stdout",
     "output_type": "stream",
     "text": [
      "did not find https://www.smogon.com/dex/media/sprites/rb/cherrim-sunshine.png: Not Found\n",
      "did not find https://www.smogon.com/dex/media/sprites/c/cherrim-sunshine.gif: Not Found\n",
      "did not find https://www.smogon.com/dex/media/sprites/rs/cherrim-sunshine.png: Not Found\n",
      "did not find https://www.smogon.com/dex/media/sprites/dp/cherrim-sunshine.png: Not Found\n"
     ]
    },
    {
     "name": "stderr",
     "output_type": "stream",
     "text": [
      " 42%|████████████████████████████████▉                                             | 548/1300 [35:57<49:03,  3.91s/it]"
     ]
    },
    {
     "name": "stdout",
     "output_type": "stream",
     "text": [
      "did not find https://www.smogon.com/dex/media/sprites/rb/shellos.png: Not Found\n",
      "did not find https://www.smogon.com/dex/media/sprites/c/shellos.gif: Not Found\n",
      "did not find https://www.smogon.com/dex/media/sprites/rs/shellos.png: Not Found\n"
     ]
    },
    {
     "name": "stderr",
     "output_type": "stream",
     "text": [
      " 42%|████████████████████████████████▉                                             | 549/1300 [36:01<48:36,  3.88s/it]"
     ]
    },
    {
     "name": "stdout",
     "output_type": "stream",
     "text": [
      "did not find https://www.smogon.com/dex/media/sprites/rb/gastrodon.png: Not Found\n",
      "did not find https://www.smogon.com/dex/media/sprites/c/gastrodon.gif: Not Found\n",
      "did not find https://www.smogon.com/dex/media/sprites/rs/gastrodon.png: Not Found\n"
     ]
    },
    {
     "name": "stderr",
     "output_type": "stream",
     "text": [
      " 42%|█████████████████████████████████                                             | 550/1300 [36:05<48:56,  3.92s/it]"
     ]
    },
    {
     "name": "stdout",
     "output_type": "stream",
     "text": [
      "did not find https://www.smogon.com/dex/media/sprites/rb/ambipom.png: Not Found\n",
      "did not find https://www.smogon.com/dex/media/sprites/c/ambipom.gif: Not Found\n",
      "did not find https://www.smogon.com/dex/media/sprites/rs/ambipom.png: Not Found\n"
     ]
    },
    {
     "name": "stderr",
     "output_type": "stream",
     "text": [
      " 42%|█████████████████████████████████                                             | 551/1300 [36:09<49:48,  3.99s/it]"
     ]
    },
    {
     "name": "stdout",
     "output_type": "stream",
     "text": [
      "did not find https://www.smogon.com/dex/media/sprites/rb/drifloon.png: Not Found\n",
      "did not find https://www.smogon.com/dex/media/sprites/c/drifloon.gif: Not Found\n",
      "did not find https://www.smogon.com/dex/media/sprites/rs/drifloon.png: Not Found\n"
     ]
    },
    {
     "name": "stderr",
     "output_type": "stream",
     "text": [
      " 42%|█████████████████████████████████                                             | 552/1300 [36:13<48:54,  3.92s/it]"
     ]
    },
    {
     "name": "stdout",
     "output_type": "stream",
     "text": [
      "did not find https://www.smogon.com/dex/media/sprites/rb/drifblim.png: Not Found\n",
      "did not find https://www.smogon.com/dex/media/sprites/c/drifblim.gif: Not Found\n",
      "did not find https://www.smogon.com/dex/media/sprites/rs/drifblim.png: Not Found\n"
     ]
    },
    {
     "name": "stderr",
     "output_type": "stream",
     "text": [
      " 43%|█████████████████████████████████▏                                            | 553/1300 [36:17<49:09,  3.95s/it]"
     ]
    },
    {
     "name": "stdout",
     "output_type": "stream",
     "text": [
      "did not find https://www.smogon.com/dex/media/sprites/rb/buneary.png: Not Found\n",
      "did not find https://www.smogon.com/dex/media/sprites/c/buneary.gif: Not Found\n",
      "did not find https://www.smogon.com/dex/media/sprites/rs/buneary.png: Not Found\n"
     ]
    },
    {
     "name": "stderr",
     "output_type": "stream",
     "text": [
      " 43%|█████████████████████████████████▏                                            | 554/1300 [36:21<49:04,  3.95s/it]"
     ]
    },
    {
     "name": "stdout",
     "output_type": "stream",
     "text": [
      "did not find https://www.smogon.com/dex/media/sprites/rb/lopunny.png: Not Found\n",
      "did not find https://www.smogon.com/dex/media/sprites/c/lopunny.gif: Not Found\n",
      "did not find https://www.smogon.com/dex/media/sprites/rs/lopunny.png: Not Found\n"
     ]
    },
    {
     "name": "stderr",
     "output_type": "stream",
     "text": [
      " 43%|█████████████████████████████████▎                                            | 555/1300 [36:25<49:06,  3.96s/it]"
     ]
    },
    {
     "name": "stdout",
     "output_type": "stream",
     "text": [
      "did not find https://www.smogon.com/dex/media/sprites/rb/lopunny-mega.png: Not Found\n",
      "did not find https://www.smogon.com/dex/media/sprites/c/lopunny-mega.gif: Not Found\n",
      "did not find https://www.smogon.com/dex/media/sprites/rs/lopunny-mega.png: Not Found\n",
      "did not find https://www.smogon.com/dex/media/sprites/dp/lopunny-mega.png: Not Found\n",
      "did not find https://www.smogon.com/dex/media/sprites/bw/lopunny-mega.gif: Not Found\n"
     ]
    },
    {
     "name": "stderr",
     "output_type": "stream",
     "text": [
      " 43%|█████████████████████████████████▎                                            | 556/1300 [36:29<48:20,  3.90s/it]"
     ]
    },
    {
     "name": "stdout",
     "output_type": "stream",
     "text": [
      "did not find https://www.smogon.com/dex/media/sprites/rb/mismagius.png: Not Found\n",
      "did not find https://www.smogon.com/dex/media/sprites/c/mismagius.gif: Not Found\n",
      "did not find https://www.smogon.com/dex/media/sprites/rs/mismagius.png: Not Found\n"
     ]
    },
    {
     "name": "stderr",
     "output_type": "stream",
     "text": [
      " 43%|█████████████████████████████████▍                                            | 557/1300 [36:33<48:05,  3.88s/it]"
     ]
    },
    {
     "name": "stdout",
     "output_type": "stream",
     "text": [
      "did not find https://www.smogon.com/dex/media/sprites/rb/honchkrow.png: Not Found\n",
      "did not find https://www.smogon.com/dex/media/sprites/c/honchkrow.gif: Not Found\n",
      "did not find https://www.smogon.com/dex/media/sprites/rs/honchkrow.png: Not Found\n"
     ]
    },
    {
     "name": "stderr",
     "output_type": "stream",
     "text": [
      " 43%|█████████████████████████████████▍                                            | 558/1300 [36:37<48:18,  3.91s/it]"
     ]
    },
    {
     "name": "stdout",
     "output_type": "stream",
     "text": [
      "did not find https://www.smogon.com/dex/media/sprites/rb/glameow.png: Not Found\n",
      "did not find https://www.smogon.com/dex/media/sprites/c/glameow.gif: Not Found\n",
      "did not find https://www.smogon.com/dex/media/sprites/rs/glameow.png: Not Found\n"
     ]
    },
    {
     "name": "stderr",
     "output_type": "stream",
     "text": [
      " 43%|█████████████████████████████████▌                                            | 559/1300 [36:41<48:50,  3.95s/it]"
     ]
    },
    {
     "name": "stdout",
     "output_type": "stream",
     "text": [
      "did not find https://www.smogon.com/dex/media/sprites/rb/purugly.png: Not Found\n",
      "did not find https://www.smogon.com/dex/media/sprites/c/purugly.gif: Not Found\n",
      "did not find https://www.smogon.com/dex/media/sprites/rs/purugly.png: Not Found\n"
     ]
    },
    {
     "name": "stderr",
     "output_type": "stream",
     "text": [
      " 43%|█████████████████████████████████▌                                            | 560/1300 [36:45<49:43,  4.03s/it]"
     ]
    },
    {
     "name": "stdout",
     "output_type": "stream",
     "text": [
      "did not find https://www.smogon.com/dex/media/sprites/rb/chingling.png: Not Found\n",
      "did not find https://www.smogon.com/dex/media/sprites/c/chingling.gif: Not Found\n",
      "did not find https://www.smogon.com/dex/media/sprites/rs/chingling.png: Not Found\n"
     ]
    },
    {
     "name": "stderr",
     "output_type": "stream",
     "text": [
      " 43%|█████████████████████████████████▋                                            | 561/1300 [36:49<48:53,  3.97s/it]"
     ]
    },
    {
     "name": "stdout",
     "output_type": "stream",
     "text": [
      "did not find https://www.smogon.com/dex/media/sprites/rb/stunky.png: Not Found\n",
      "did not find https://www.smogon.com/dex/media/sprites/c/stunky.gif: Not Found\n",
      "did not find https://www.smogon.com/dex/media/sprites/rs/stunky.png: Not Found\n"
     ]
    },
    {
     "name": "stderr",
     "output_type": "stream",
     "text": [
      " 43%|█████████████████████████████████▋                                            | 562/1300 [36:53<48:25,  3.94s/it]"
     ]
    },
    {
     "name": "stdout",
     "output_type": "stream",
     "text": [
      "did not find https://www.smogon.com/dex/media/sprites/rb/skuntank.png: Not Found\n",
      "did not find https://www.smogon.com/dex/media/sprites/c/skuntank.gif: Not Found\n",
      "did not find https://www.smogon.com/dex/media/sprites/rs/skuntank.png: Not Found\n"
     ]
    },
    {
     "name": "stderr",
     "output_type": "stream",
     "text": [
      " 43%|█████████████████████████████████▊                                            | 563/1300 [36:56<48:28,  3.95s/it]"
     ]
    },
    {
     "name": "stdout",
     "output_type": "stream",
     "text": [
      "did not find https://www.smogon.com/dex/media/sprites/rb/bronzor.png: Not Found\n",
      "did not find https://www.smogon.com/dex/media/sprites/c/bronzor.gif: Not Found\n",
      "did not find https://www.smogon.com/dex/media/sprites/rs/bronzor.png: Not Found\n"
     ]
    },
    {
     "name": "stderr",
     "output_type": "stream",
     "text": [
      " 43%|█████████████████████████████████▊                                            | 564/1300 [37:00<48:15,  3.93s/it]"
     ]
    },
    {
     "name": "stdout",
     "output_type": "stream",
     "text": [
      "did not find https://www.smogon.com/dex/media/sprites/rb/bronzong.png: Not Found\n",
      "did not find https://www.smogon.com/dex/media/sprites/c/bronzong.gif: Not Found\n",
      "did not find https://www.smogon.com/dex/media/sprites/rs/bronzong.png: Not Found\n"
     ]
    },
    {
     "name": "stderr",
     "output_type": "stream",
     "text": [
      " 43%|█████████████████████████████████▉                                            | 565/1300 [37:05<49:10,  4.01s/it]"
     ]
    },
    {
     "name": "stdout",
     "output_type": "stream",
     "text": [
      "did not find https://www.smogon.com/dex/media/sprites/rb/bonsly.png: Not Found\n",
      "did not find https://www.smogon.com/dex/media/sprites/c/bonsly.gif: Not Found\n",
      "did not find https://www.smogon.com/dex/media/sprites/rs/bonsly.png: Not Found\n"
     ]
    },
    {
     "name": "stderr",
     "output_type": "stream",
     "text": [
      " 44%|█████████████████████████████████▉                                            | 566/1300 [37:08<48:30,  3.97s/it]"
     ]
    },
    {
     "name": "stdout",
     "output_type": "stream",
     "text": [
      "did not find https://www.smogon.com/dex/media/sprites/rb/mime-jr..png: Not Found\n",
      "did not find https://www.smogon.com/dex/media/sprites/c/mime-jr..gif: Not Found\n",
      "did not find https://www.smogon.com/dex/media/sprites/rs/mime-jr..png: Not Found\n",
      "did not find https://www.smogon.com/dex/media/sprites/dp/mime-jr..png: Not Found\n",
      "did not find https://www.smogon.com/dex/media/sprites/bw/mime-jr..gif: Not Found\n"
     ]
    },
    {
     "name": "stderr",
     "output_type": "stream",
     "text": [
      " 44%|██████████████████████████████████                                            | 567/1300 [37:12<46:59,  3.85s/it]"
     ]
    },
    {
     "name": "stdout",
     "output_type": "stream",
     "text": [
      "did not find https://www.smogon.com/dex/media/sprites/xy/mime-jr..gif: Not Found\n",
      "did not find https://www.smogon.com/dex/media/sprites/rb/happiny.png: Not Found\n",
      "did not find https://www.smogon.com/dex/media/sprites/c/happiny.gif: Not Found\n",
      "did not find https://www.smogon.com/dex/media/sprites/rs/happiny.png: Not Found\n"
     ]
    },
    {
     "name": "stderr",
     "output_type": "stream",
     "text": [
      " 44%|██████████████████████████████████                                            | 568/1300 [37:16<46:11,  3.79s/it]"
     ]
    },
    {
     "name": "stdout",
     "output_type": "stream",
     "text": [
      "did not find https://www.smogon.com/dex/media/sprites/rb/chatot.png: Not Found\n",
      "did not find https://www.smogon.com/dex/media/sprites/c/chatot.gif: Not Found\n",
      "did not find https://www.smogon.com/dex/media/sprites/rs/chatot.png: Not Found\n"
     ]
    },
    {
     "name": "stderr",
     "output_type": "stream",
     "text": [
      " 44%|██████████████████████████████████▏                                           | 569/1300 [37:19<46:11,  3.79s/it]"
     ]
    },
    {
     "name": "stdout",
     "output_type": "stream",
     "text": [
      "did not find https://www.smogon.com/dex/media/sprites/rb/spiritomb.png: Not Found\n",
      "did not find https://www.smogon.com/dex/media/sprites/c/spiritomb.gif: Not Found\n",
      "did not find https://www.smogon.com/dex/media/sprites/rs/spiritomb.png: Not Found\n"
     ]
    },
    {
     "name": "stderr",
     "output_type": "stream",
     "text": [
      " 44%|██████████████████████████████████▏                                           | 570/1300 [37:24<47:51,  3.93s/it]"
     ]
    },
    {
     "name": "stdout",
     "output_type": "stream",
     "text": [
      "did not find https://www.smogon.com/dex/media/sprites/rb/gible.png: Not Found\n",
      "did not find https://www.smogon.com/dex/media/sprites/c/gible.gif: Not Found\n",
      "did not find https://www.smogon.com/dex/media/sprites/rs/gible.png: Not Found\n"
     ]
    },
    {
     "name": "stderr",
     "output_type": "stream",
     "text": [
      " 44%|██████████████████████████████████▎                                           | 571/1300 [37:28<47:40,  3.92s/it]"
     ]
    },
    {
     "name": "stdout",
     "output_type": "stream",
     "text": [
      "did not find https://www.smogon.com/dex/media/sprites/rb/gabite.png: Not Found\n",
      "did not find https://www.smogon.com/dex/media/sprites/c/gabite.gif: Not Found\n",
      "did not find https://www.smogon.com/dex/media/sprites/rs/gabite.png: Not Found\n"
     ]
    },
    {
     "name": "stderr",
     "output_type": "stream",
     "text": [
      " 44%|██████████████████████████████████▎                                           | 572/1300 [37:32<47:32,  3.92s/it]"
     ]
    },
    {
     "name": "stdout",
     "output_type": "stream",
     "text": [
      "did not find https://www.smogon.com/dex/media/sprites/rb/garchomp.png: Not Found\n",
      "did not find https://www.smogon.com/dex/media/sprites/c/garchomp.gif: Not Found\n",
      "did not find https://www.smogon.com/dex/media/sprites/rs/garchomp.png: Not Found\n"
     ]
    },
    {
     "name": "stderr",
     "output_type": "stream",
     "text": [
      " 44%|██████████████████████████████████▍                                           | 573/1300 [37:36<48:12,  3.98s/it]"
     ]
    },
    {
     "name": "stdout",
     "output_type": "stream",
     "text": [
      "did not find https://www.smogon.com/dex/media/sprites/rb/garchomp-mega.png: Not Found\n",
      "did not find https://www.smogon.com/dex/media/sprites/c/garchomp-mega.gif: Not Found\n",
      "did not find https://www.smogon.com/dex/media/sprites/rs/garchomp-mega.png: Not Found\n",
      "did not find https://www.smogon.com/dex/media/sprites/dp/garchomp-mega.png: Not Found\n",
      "did not find https://www.smogon.com/dex/media/sprites/bw/garchomp-mega.gif: Not Found\n"
     ]
    },
    {
     "name": "stderr",
     "output_type": "stream",
     "text": [
      " 44%|██████████████████████████████████▍                                           | 574/1300 [37:39<47:41,  3.94s/it]"
     ]
    },
    {
     "name": "stdout",
     "output_type": "stream",
     "text": [
      "did not find https://www.smogon.com/dex/media/sprites/rb/munchlax.png: Not Found\n",
      "did not find https://www.smogon.com/dex/media/sprites/c/munchlax.gif: Not Found\n",
      "did not find https://www.smogon.com/dex/media/sprites/rs/munchlax.png: Not Found\n"
     ]
    },
    {
     "name": "stderr",
     "output_type": "stream",
     "text": [
      " 44%|██████████████████████████████████▌                                           | 575/1300 [37:43<46:56,  3.88s/it]"
     ]
    },
    {
     "name": "stdout",
     "output_type": "stream",
     "text": [
      "did not find https://www.smogon.com/dex/media/sprites/rb/riolu.png: Not Found\n",
      "did not find https://www.smogon.com/dex/media/sprites/c/riolu.gif: Not Found\n",
      "did not find https://www.smogon.com/dex/media/sprites/rs/riolu.png: Not Found\n"
     ]
    },
    {
     "name": "stderr",
     "output_type": "stream",
     "text": [
      " 44%|██████████████████████████████████▌                                           | 576/1300 [37:47<46:21,  3.84s/it]"
     ]
    },
    {
     "name": "stdout",
     "output_type": "stream",
     "text": [
      "did not find https://www.smogon.com/dex/media/sprites/rb/lucario.png: Not Found\n",
      "did not find https://www.smogon.com/dex/media/sprites/c/lucario.gif: Not Found\n",
      "did not find https://www.smogon.com/dex/media/sprites/rs/lucario.png: Not Found\n"
     ]
    },
    {
     "name": "stderr",
     "output_type": "stream",
     "text": [
      " 44%|██████████████████████████████████▌                                           | 577/1300 [37:51<46:49,  3.89s/it]"
     ]
    },
    {
     "name": "stdout",
     "output_type": "stream",
     "text": [
      "did not find https://www.smogon.com/dex/media/sprites/rb/lucario-mega.png: Not Found\n",
      "did not find https://www.smogon.com/dex/media/sprites/c/lucario-mega.gif: Not Found\n",
      "did not find https://www.smogon.com/dex/media/sprites/rs/lucario-mega.png: Not Found\n",
      "did not find https://www.smogon.com/dex/media/sprites/dp/lucario-mega.png: Not Found\n",
      "did not find https://www.smogon.com/dex/media/sprites/bw/lucario-mega.gif: Not Found\n"
     ]
    },
    {
     "name": "stderr",
     "output_type": "stream",
     "text": [
      " 44%|██████████████████████████████████▋                                           | 578/1300 [37:55<46:42,  3.88s/it]"
     ]
    },
    {
     "name": "stdout",
     "output_type": "stream",
     "text": [
      "did not find https://www.smogon.com/dex/media/sprites/rb/hippopotas.png: Not Found\n",
      "did not find https://www.smogon.com/dex/media/sprites/c/hippopotas.gif: Not Found\n",
      "did not find https://www.smogon.com/dex/media/sprites/rs/hippopotas.png: Not Found\n"
     ]
    },
    {
     "name": "stderr",
     "output_type": "stream",
     "text": [
      " 45%|██████████████████████████████████▋                                           | 579/1300 [37:59<47:18,  3.94s/it]"
     ]
    },
    {
     "name": "stdout",
     "output_type": "stream",
     "text": [
      "did not find https://www.smogon.com/dex/media/sprites/rb/hippowdon.png: Not Found\n",
      "did not find https://www.smogon.com/dex/media/sprites/c/hippowdon.gif: Not Found\n",
      "did not find https://www.smogon.com/dex/media/sprites/rs/hippowdon.png: Not Found\n"
     ]
    },
    {
     "name": "stderr",
     "output_type": "stream",
     "text": [
      " 45%|██████████████████████████████████▊                                           | 580/1300 [38:03<47:49,  3.99s/it]"
     ]
    },
    {
     "name": "stdout",
     "output_type": "stream",
     "text": [
      "did not find https://www.smogon.com/dex/media/sprites/rb/skorupi.png: Not Found\n",
      "did not find https://www.smogon.com/dex/media/sprites/c/skorupi.gif: Not Found\n",
      "did not find https://www.smogon.com/dex/media/sprites/rs/skorupi.png: Not Found\n"
     ]
    },
    {
     "name": "stderr",
     "output_type": "stream",
     "text": [
      " 45%|██████████████████████████████████▊                                           | 581/1300 [38:07<47:45,  3.99s/it]"
     ]
    },
    {
     "name": "stdout",
     "output_type": "stream",
     "text": [
      "did not find https://www.smogon.com/dex/media/sprites/rb/drapion.png: Not Found\n",
      "did not find https://www.smogon.com/dex/media/sprites/c/drapion.gif: Not Found\n",
      "did not find https://www.smogon.com/dex/media/sprites/rs/drapion.png: Not Found\n"
     ]
    },
    {
     "name": "stderr",
     "output_type": "stream",
     "text": [
      " 45%|██████████████████████████████████▉                                           | 582/1300 [38:11<49:01,  4.10s/it]"
     ]
    },
    {
     "name": "stdout",
     "output_type": "stream",
     "text": [
      "did not find https://www.smogon.com/dex/media/sprites/rb/croagunk.png: Not Found\n",
      "did not find https://www.smogon.com/dex/media/sprites/c/croagunk.gif: Not Found\n",
      "did not find https://www.smogon.com/dex/media/sprites/rs/croagunk.png: Not Found\n"
     ]
    },
    {
     "name": "stderr",
     "output_type": "stream",
     "text": [
      " 45%|██████████████████████████████████▉                                           | 583/1300 [38:15<47:54,  4.01s/it]"
     ]
    },
    {
     "name": "stdout",
     "output_type": "stream",
     "text": [
      "did not find https://www.smogon.com/dex/media/sprites/rb/toxicroak.png: Not Found\n",
      "did not find https://www.smogon.com/dex/media/sprites/c/toxicroak.gif: Not Found\n",
      "did not find https://www.smogon.com/dex/media/sprites/rs/toxicroak.png: Not Found\n"
     ]
    },
    {
     "name": "stderr",
     "output_type": "stream",
     "text": [
      " 45%|███████████████████████████████████                                           | 584/1300 [38:19<47:36,  3.99s/it]"
     ]
    },
    {
     "name": "stdout",
     "output_type": "stream",
     "text": [
      "did not find https://www.smogon.com/dex/media/sprites/rb/carnivine.png: Not Found\n",
      "did not find https://www.smogon.com/dex/media/sprites/c/carnivine.gif: Not Found\n",
      "did not find https://www.smogon.com/dex/media/sprites/rs/carnivine.png: Not Found\n"
     ]
    },
    {
     "name": "stderr",
     "output_type": "stream",
     "text": [
      " 45%|███████████████████████████████████                                           | 585/1300 [38:23<47:40,  4.00s/it]"
     ]
    },
    {
     "name": "stdout",
     "output_type": "stream",
     "text": [
      "did not find https://www.smogon.com/dex/media/sprites/rb/finneon.png: Not Found\n",
      "did not find https://www.smogon.com/dex/media/sprites/c/finneon.gif: Not Found\n",
      "did not find https://www.smogon.com/dex/media/sprites/rs/finneon.png: Not Found\n"
     ]
    },
    {
     "name": "stderr",
     "output_type": "stream",
     "text": [
      " 45%|███████████████████████████████████▏                                          | 586/1300 [38:27<47:20,  3.98s/it]"
     ]
    },
    {
     "name": "stdout",
     "output_type": "stream",
     "text": [
      "did not find https://www.smogon.com/dex/media/sprites/rb/lumineon.png: Not Found\n",
      "did not find https://www.smogon.com/dex/media/sprites/c/lumineon.gif: Not Found\n",
      "did not find https://www.smogon.com/dex/media/sprites/rs/lumineon.png: Not Found\n"
     ]
    },
    {
     "name": "stderr",
     "output_type": "stream",
     "text": [
      " 45%|███████████████████████████████████▏                                          | 587/1300 [38:31<47:27,  3.99s/it]"
     ]
    },
    {
     "name": "stdout",
     "output_type": "stream",
     "text": [
      "did not find https://www.smogon.com/dex/media/sprites/rb/mantyke.png: Not Found\n",
      "did not find https://www.smogon.com/dex/media/sprites/c/mantyke.gif: Not Found\n",
      "did not find https://www.smogon.com/dex/media/sprites/rs/mantyke.png: Not Found\n"
     ]
    },
    {
     "name": "stderr",
     "output_type": "stream",
     "text": [
      " 45%|███████████████████████████████████▎                                          | 588/1300 [38:35<47:09,  3.97s/it]"
     ]
    },
    {
     "name": "stdout",
     "output_type": "stream",
     "text": [
      "did not find https://www.smogon.com/dex/media/sprites/rb/snover.png: Not Found\n",
      "did not find https://www.smogon.com/dex/media/sprites/c/snover.gif: Not Found\n",
      "did not find https://www.smogon.com/dex/media/sprites/rs/snover.png: Not Found\n"
     ]
    },
    {
     "name": "stderr",
     "output_type": "stream",
     "text": [
      " 45%|███████████████████████████████████▎                                          | 589/1300 [38:39<47:09,  3.98s/it]"
     ]
    },
    {
     "name": "stdout",
     "output_type": "stream",
     "text": [
      "did not find https://www.smogon.com/dex/media/sprites/rb/abomasnow.png: Not Found\n",
      "did not find https://www.smogon.com/dex/media/sprites/c/abomasnow.gif: Not Found\n",
      "did not find https://www.smogon.com/dex/media/sprites/rs/abomasnow.png: Not Found\n"
     ]
    },
    {
     "name": "stderr",
     "output_type": "stream",
     "text": [
      " 45%|███████████████████████████████████▍                                          | 590/1300 [38:43<47:43,  4.03s/it]"
     ]
    },
    {
     "name": "stdout",
     "output_type": "stream",
     "text": [
      "did not find https://www.smogon.com/dex/media/sprites/rb/abomasnow-mega.png: Not Found\n",
      "did not find https://www.smogon.com/dex/media/sprites/c/abomasnow-mega.gif: Not Found\n",
      "did not find https://www.smogon.com/dex/media/sprites/rs/abomasnow-mega.png: Not Found\n",
      "did not find https://www.smogon.com/dex/media/sprites/dp/abomasnow-mega.png: Not Found\n",
      "did not find https://www.smogon.com/dex/media/sprites/bw/abomasnow-mega.gif: Not Found\n"
     ]
    },
    {
     "name": "stderr",
     "output_type": "stream",
     "text": [
      " 45%|███████████████████████████████████▍                                          | 591/1300 [38:47<47:08,  3.99s/it]"
     ]
    },
    {
     "name": "stdout",
     "output_type": "stream",
     "text": [
      "did not find https://www.smogon.com/dex/media/sprites/rb/weavile.png: Not Found\n",
      "did not find https://www.smogon.com/dex/media/sprites/c/weavile.gif: Not Found\n",
      "did not find https://www.smogon.com/dex/media/sprites/rs/weavile.png: Not Found\n"
     ]
    },
    {
     "name": "stderr",
     "output_type": "stream",
     "text": [
      " 46%|███████████████████████████████████▌                                          | 592/1300 [38:51<46:43,  3.96s/it]"
     ]
    },
    {
     "name": "stdout",
     "output_type": "stream",
     "text": [
      "did not find https://www.smogon.com/dex/media/sprites/rb/magnezone.png: Not Found\n",
      "did not find https://www.smogon.com/dex/media/sprites/c/magnezone.gif: Not Found\n",
      "did not find https://www.smogon.com/dex/media/sprites/rs/magnezone.png: Not Found\n"
     ]
    },
    {
     "name": "stderr",
     "output_type": "stream",
     "text": [
      " 46%|███████████████████████████████████▌                                          | 593/1300 [38:55<46:41,  3.96s/it]"
     ]
    },
    {
     "name": "stdout",
     "output_type": "stream",
     "text": [
      "did not find https://www.smogon.com/dex/media/sprites/rb/lickilicky.png: Not Found\n",
      "did not find https://www.smogon.com/dex/media/sprites/c/lickilicky.gif: Not Found\n",
      "did not find https://www.smogon.com/dex/media/sprites/rs/lickilicky.png: Not Found\n"
     ]
    },
    {
     "name": "stderr",
     "output_type": "stream",
     "text": [
      " 46%|███████████████████████████████████▋                                          | 594/1300 [38:59<46:50,  3.98s/it]"
     ]
    },
    {
     "name": "stdout",
     "output_type": "stream",
     "text": [
      "did not find https://www.smogon.com/dex/media/sprites/rb/rhyperior.png: Not Found\n",
      "did not find https://www.smogon.com/dex/media/sprites/c/rhyperior.gif: Not Found\n",
      "did not find https://www.smogon.com/dex/media/sprites/rs/rhyperior.png: Not Found\n"
     ]
    },
    {
     "name": "stderr",
     "output_type": "stream",
     "text": [
      " 46%|███████████████████████████████████▋                                          | 595/1300 [39:03<47:46,  4.07s/it]"
     ]
    },
    {
     "name": "stdout",
     "output_type": "stream",
     "text": [
      "did not find https://www.smogon.com/dex/media/sprites/rb/tangrowth.png: Not Found\n",
      "did not find https://www.smogon.com/dex/media/sprites/c/tangrowth.gif: Not Found\n",
      "did not find https://www.smogon.com/dex/media/sprites/rs/tangrowth.png: Not Found\n"
     ]
    },
    {
     "name": "stderr",
     "output_type": "stream",
     "text": [
      " 46%|███████████████████████████████████▊                                          | 596/1300 [39:08<48:55,  4.17s/it]"
     ]
    },
    {
     "name": "stdout",
     "output_type": "stream",
     "text": [
      "did not find https://www.smogon.com/dex/media/sprites/rb/electivire.png: Not Found\n",
      "did not find https://www.smogon.com/dex/media/sprites/c/electivire.gif: Not Found\n",
      "did not find https://www.smogon.com/dex/media/sprites/rs/electivire.png: Not Found\n"
     ]
    },
    {
     "name": "stderr",
     "output_type": "stream",
     "text": [
      " 46%|███████████████████████████████████▊                                          | 597/1300 [39:12<49:06,  4.19s/it]"
     ]
    },
    {
     "name": "stdout",
     "output_type": "stream",
     "text": [
      "did not find https://www.smogon.com/dex/media/sprites/rb/magmortar.png: Not Found\n",
      "did not find https://www.smogon.com/dex/media/sprites/c/magmortar.gif: Not Found\n",
      "did not find https://www.smogon.com/dex/media/sprites/rs/magmortar.png: Not Found\n"
     ]
    },
    {
     "name": "stderr",
     "output_type": "stream",
     "text": [
      " 46%|███████████████████████████████████▉                                          | 598/1300 [39:16<49:31,  4.23s/it]"
     ]
    },
    {
     "name": "stdout",
     "output_type": "stream",
     "text": [
      "did not find https://www.smogon.com/dex/media/sprites/rb/togekiss.png: Not Found\n",
      "did not find https://www.smogon.com/dex/media/sprites/c/togekiss.gif: Not Found\n",
      "did not find https://www.smogon.com/dex/media/sprites/rs/togekiss.png: Not Found\n"
     ]
    },
    {
     "name": "stderr",
     "output_type": "stream",
     "text": [
      " 46%|███████████████████████████████████▉                                          | 599/1300 [39:20<48:18,  4.13s/it]"
     ]
    },
    {
     "name": "stdout",
     "output_type": "stream",
     "text": [
      "did not find https://www.smogon.com/dex/media/sprites/rb/yanmega.png: Not Found\n",
      "did not find https://www.smogon.com/dex/media/sprites/c/yanmega.gif: Not Found\n",
      "did not find https://www.smogon.com/dex/media/sprites/rs/yanmega.png: Not Found\n"
     ]
    },
    {
     "name": "stderr",
     "output_type": "stream",
     "text": [
      " 46%|████████████████████████████████████                                          | 600/1300 [39:24<48:10,  4.13s/it]"
     ]
    },
    {
     "name": "stdout",
     "output_type": "stream",
     "text": [
      "did not find https://www.smogon.com/dex/media/sprites/rb/leafeon.png: Not Found\n",
      "did not find https://www.smogon.com/dex/media/sprites/c/leafeon.gif: Not Found\n",
      "did not find https://www.smogon.com/dex/media/sprites/rs/leafeon.png: Not Found\n"
     ]
    },
    {
     "name": "stderr",
     "output_type": "stream",
     "text": [
      " 46%|████████████████████████████████████                                          | 601/1300 [39:28<48:01,  4.12s/it]"
     ]
    },
    {
     "name": "stdout",
     "output_type": "stream",
     "text": [
      "did not find https://www.smogon.com/dex/media/sprites/rb/glaceon.png: Not Found\n",
      "did not find https://www.smogon.com/dex/media/sprites/c/glaceon.gif: Not Found\n",
      "did not find https://www.smogon.com/dex/media/sprites/rs/glaceon.png: Not Found\n"
     ]
    },
    {
     "name": "stderr",
     "output_type": "stream",
     "text": [
      " 46%|████████████████████████████████████                                          | 602/1300 [39:32<47:34,  4.09s/it]"
     ]
    },
    {
     "name": "stdout",
     "output_type": "stream",
     "text": [
      "did not find https://www.smogon.com/dex/media/sprites/rb/gliscor.png: Not Found\n",
      "did not find https://www.smogon.com/dex/media/sprites/c/gliscor.gif: Not Found\n",
      "did not find https://www.smogon.com/dex/media/sprites/rs/gliscor.png: Not Found\n"
     ]
    },
    {
     "name": "stderr",
     "output_type": "stream",
     "text": [
      " 46%|████████████████████████████████████▏                                         | 603/1300 [39:36<47:29,  4.09s/it]"
     ]
    },
    {
     "name": "stdout",
     "output_type": "stream",
     "text": [
      "did not find https://www.smogon.com/dex/media/sprites/rb/mamoswine.png: Not Found\n",
      "did not find https://www.smogon.com/dex/media/sprites/c/mamoswine.gif: Not Found\n",
      "did not find https://www.smogon.com/dex/media/sprites/rs/mamoswine.png: Not Found\n"
     ]
    },
    {
     "name": "stderr",
     "output_type": "stream",
     "text": [
      " 46%|████████████████████████████████████▏                                         | 604/1300 [39:41<47:55,  4.13s/it]"
     ]
    },
    {
     "name": "stdout",
     "output_type": "stream",
     "text": [
      "did not find https://www.smogon.com/dex/media/sprites/rb/porygon-z.png: Not Found\n",
      "did not find https://www.smogon.com/dex/media/sprites/c/porygon-z.gif: Not Found\n",
      "did not find https://www.smogon.com/dex/media/sprites/rs/porygon-z.png: Not Found\n"
     ]
    },
    {
     "name": "stderr",
     "output_type": "stream",
     "text": [
      " 47%|████████████████████████████████████▎                                         | 605/1300 [39:45<47:15,  4.08s/it]"
     ]
    },
    {
     "name": "stdout",
     "output_type": "stream",
     "text": [
      "did not find https://www.smogon.com/dex/media/sprites/rb/gallade.png: Not Found\n",
      "did not find https://www.smogon.com/dex/media/sprites/c/gallade.gif: Not Found\n",
      "did not find https://www.smogon.com/dex/media/sprites/rs/gallade.png: Not Found\n"
     ]
    },
    {
     "name": "stderr",
     "output_type": "stream",
     "text": [
      " 47%|████████████████████████████████████▎                                         | 606/1300 [39:49<46:45,  4.04s/it]"
     ]
    },
    {
     "name": "stdout",
     "output_type": "stream",
     "text": [
      "did not find https://www.smogon.com/dex/media/sprites/rb/gallade-mega.png: Not Found\n",
      "did not find https://www.smogon.com/dex/media/sprites/c/gallade-mega.gif: Not Found\n",
      "did not find https://www.smogon.com/dex/media/sprites/rs/gallade-mega.png: Not Found\n",
      "did not find https://www.smogon.com/dex/media/sprites/dp/gallade-mega.png: Not Found\n",
      "did not find https://www.smogon.com/dex/media/sprites/bw/gallade-mega.gif: Not Found\n"
     ]
    },
    {
     "name": "stderr",
     "output_type": "stream",
     "text": [
      " 47%|████████████████████████████████████▍                                         | 607/1300 [39:52<45:39,  3.95s/it]"
     ]
    },
    {
     "name": "stdout",
     "output_type": "stream",
     "text": [
      "did not find https://www.smogon.com/dex/media/sprites/rb/probopass.png: Not Found\n",
      "did not find https://www.smogon.com/dex/media/sprites/c/probopass.gif: Not Found\n",
      "did not find https://www.smogon.com/dex/media/sprites/rs/probopass.png: Not Found\n"
     ]
    },
    {
     "name": "stderr",
     "output_type": "stream",
     "text": [
      " 47%|████████████████████████████████████▍                                         | 608/1300 [39:56<46:19,  4.02s/it]"
     ]
    },
    {
     "name": "stdout",
     "output_type": "stream",
     "text": [
      "did not find https://www.smogon.com/dex/media/sprites/rb/dusknoir.png: Not Found\n",
      "did not find https://www.smogon.com/dex/media/sprites/c/dusknoir.gif: Not Found\n",
      "did not find https://www.smogon.com/dex/media/sprites/rs/dusknoir.png: Not Found\n"
     ]
    },
    {
     "name": "stderr",
     "output_type": "stream",
     "text": [
      " 47%|████████████████████████████████████▌                                         | 609/1300 [40:01<46:58,  4.08s/it]"
     ]
    },
    {
     "name": "stdout",
     "output_type": "stream",
     "text": [
      "did not find https://www.smogon.com/dex/media/sprites/rb/froslass.png: Not Found\n",
      "did not find https://www.smogon.com/dex/media/sprites/c/froslass.gif: Not Found\n",
      "did not find https://www.smogon.com/dex/media/sprites/rs/froslass.png: Not Found\n"
     ]
    },
    {
     "name": "stderr",
     "output_type": "stream",
     "text": [
      " 47%|████████████████████████████████████▌                                         | 610/1300 [40:05<46:14,  4.02s/it]"
     ]
    },
    {
     "name": "stdout",
     "output_type": "stream",
     "text": [
      "did not find https://www.smogon.com/dex/media/sprites/rb/rotom.png: Not Found\n",
      "did not find https://www.smogon.com/dex/media/sprites/c/rotom.gif: Not Found\n",
      "did not find https://www.smogon.com/dex/media/sprites/rs/rotom.png: Not Found\n"
     ]
    },
    {
     "name": "stderr",
     "output_type": "stream",
     "text": [
      " 47%|████████████████████████████████████▋                                         | 611/1300 [40:09<46:02,  4.01s/it]"
     ]
    },
    {
     "name": "stdout",
     "output_type": "stream",
     "text": [
      "did not find https://www.smogon.com/dex/media/sprites/rb/rotom-heat.png: Not Found\n",
      "did not find https://www.smogon.com/dex/media/sprites/c/rotom-heat.gif: Not Found\n",
      "did not find https://www.smogon.com/dex/media/sprites/rs/rotom-heat.png: Not Found\n"
     ]
    },
    {
     "name": "stderr",
     "output_type": "stream",
     "text": [
      " 47%|████████████████████████████████████▋                                         | 612/1300 [40:13<46:39,  4.07s/it]"
     ]
    },
    {
     "name": "stdout",
     "output_type": "stream",
     "text": [
      "did not find https://www.smogon.com/dex/media/sprites/rb/rotom-wash.png: Not Found\n",
      "did not find https://www.smogon.com/dex/media/sprites/c/rotom-wash.gif: Not Found\n",
      "did not find https://www.smogon.com/dex/media/sprites/rs/rotom-wash.png: Not Found\n"
     ]
    },
    {
     "name": "stderr",
     "output_type": "stream",
     "text": [
      " 47%|████████████████████████████████████▊                                         | 613/1300 [40:17<47:17,  4.13s/it]"
     ]
    },
    {
     "name": "stdout",
     "output_type": "stream",
     "text": [
      "did not find https://www.smogon.com/dex/media/sprites/rb/rotom-frost.png: Not Found\n",
      "did not find https://www.smogon.com/dex/media/sprites/c/rotom-frost.gif: Not Found\n",
      "did not find https://www.smogon.com/dex/media/sprites/rs/rotom-frost.png: Not Found\n"
     ]
    },
    {
     "name": "stderr",
     "output_type": "stream",
     "text": [
      " 47%|████████████████████████████████████▊                                         | 614/1300 [40:21<47:42,  4.17s/it]"
     ]
    },
    {
     "name": "stdout",
     "output_type": "stream",
     "text": [
      "did not find https://www.smogon.com/dex/media/sprites/rb/rotom-fan.png: Not Found\n",
      "did not find https://www.smogon.com/dex/media/sprites/c/rotom-fan.gif: Not Found\n",
      "did not find https://www.smogon.com/dex/media/sprites/rs/rotom-fan.png: Not Found\n"
     ]
    },
    {
     "name": "stderr",
     "output_type": "stream",
     "text": [
      " 47%|████████████████████████████████████▉                                         | 615/1300 [40:26<47:42,  4.18s/it]"
     ]
    },
    {
     "name": "stdout",
     "output_type": "stream",
     "text": [
      "did not find https://www.smogon.com/dex/media/sprites/rb/rotom-mow.png: Not Found\n",
      "did not find https://www.smogon.com/dex/media/sprites/c/rotom-mow.gif: Not Found\n",
      "did not find https://www.smogon.com/dex/media/sprites/rs/rotom-mow.png: Not Found\n"
     ]
    },
    {
     "name": "stderr",
     "output_type": "stream",
     "text": [
      " 47%|████████████████████████████████████▉                                         | 616/1300 [40:30<47:02,  4.13s/it]"
     ]
    },
    {
     "name": "stdout",
     "output_type": "stream",
     "text": [
      "did not find https://www.smogon.com/dex/media/sprites/rb/uxie.png: Not Found\n",
      "did not find https://www.smogon.com/dex/media/sprites/c/uxie.gif: Not Found\n",
      "did not find https://www.smogon.com/dex/media/sprites/rs/uxie.png: Not Found\n"
     ]
    },
    {
     "name": "stderr",
     "output_type": "stream",
     "text": [
      " 47%|█████████████████████████████████████                                         | 617/1300 [40:34<47:12,  4.15s/it]"
     ]
    },
    {
     "name": "stdout",
     "output_type": "stream",
     "text": [
      "did not find https://www.smogon.com/dex/media/sprites/rb/mesprit.png: Not Found\n",
      "did not find https://www.smogon.com/dex/media/sprites/c/mesprit.gif: Not Found\n",
      "did not find https://www.smogon.com/dex/media/sprites/rs/mesprit.png: Not Found\n"
     ]
    },
    {
     "name": "stderr",
     "output_type": "stream",
     "text": [
      " 48%|█████████████████████████████████████                                         | 618/1300 [40:38<46:48,  4.12s/it]"
     ]
    },
    {
     "name": "stdout",
     "output_type": "stream",
     "text": [
      "did not find https://www.smogon.com/dex/media/sprites/rb/azelf.png: Not Found\n",
      "did not find https://www.smogon.com/dex/media/sprites/c/azelf.gif: Not Found\n",
      "did not find https://www.smogon.com/dex/media/sprites/rs/azelf.png: Not Found\n"
     ]
    },
    {
     "name": "stderr",
     "output_type": "stream",
     "text": [
      " 48%|█████████████████████████████████████▏                                        | 619/1300 [40:42<46:47,  4.12s/it]"
     ]
    },
    {
     "name": "stdout",
     "output_type": "stream",
     "text": [
      "did not find https://www.smogon.com/dex/media/sprites/rb/dialga.png: Not Found\n",
      "did not find https://www.smogon.com/dex/media/sprites/c/dialga.gif: Not Found\n",
      "did not find https://www.smogon.com/dex/media/sprites/rs/dialga.png: Not Found\n"
     ]
    },
    {
     "name": "stderr",
     "output_type": "stream",
     "text": [
      " 48%|█████████████████████████████████████▏                                        | 620/1300 [40:46<47:31,  4.19s/it]"
     ]
    },
    {
     "name": "stdout",
     "output_type": "stream",
     "text": [
      "did not find https://www.smogon.com/dex/media/sprites/rb/dialga-origin.png: Not Found\n",
      "did not find https://www.smogon.com/dex/media/sprites/c/dialga-origin.gif: Not Found\n",
      "did not find https://www.smogon.com/dex/media/sprites/rs/dialga-origin.png: Not Found\n",
      "did not find https://www.smogon.com/dex/media/sprites/dp/dialga-origin.png: Not Found\n",
      "did not find https://www.smogon.com/dex/media/sprites/bw/dialga-origin.gif: Not Found\n"
     ]
    },
    {
     "name": "stderr",
     "output_type": "stream",
     "text": [
      " 48%|█████████████████████████████████████▎                                        | 621/1300 [40:50<45:23,  4.01s/it]"
     ]
    },
    {
     "name": "stdout",
     "output_type": "stream",
     "text": [
      "did not find https://www.smogon.com/dex/media/sprites/rb/palkia.png: Not Found\n",
      "did not find https://www.smogon.com/dex/media/sprites/c/palkia.gif: Not Found\n",
      "did not find https://www.smogon.com/dex/media/sprites/rs/palkia.png: Not Found\n"
     ]
    },
    {
     "name": "stderr",
     "output_type": "stream",
     "text": [
      " 48%|█████████████████████████████████████▎                                        | 622/1300 [40:54<45:41,  4.04s/it]"
     ]
    },
    {
     "name": "stdout",
     "output_type": "stream",
     "text": [
      "did not find https://www.smogon.com/dex/media/sprites/rb/palkia-origin.png: Not Found\n",
      "did not find https://www.smogon.com/dex/media/sprites/c/palkia-origin.gif: Not Found\n",
      "did not find https://www.smogon.com/dex/media/sprites/rs/palkia-origin.png: Not Found\n",
      "did not find https://www.smogon.com/dex/media/sprites/dp/palkia-origin.png: Not Found\n",
      "did not find https://www.smogon.com/dex/media/sprites/bw/palkia-origin.gif: Not Found\n"
     ]
    },
    {
     "name": "stderr",
     "output_type": "stream",
     "text": [
      " 48%|█████████████████████████████████████▍                                        | 623/1300 [40:58<44:06,  3.91s/it]"
     ]
    },
    {
     "name": "stdout",
     "output_type": "stream",
     "text": [
      "did not find https://www.smogon.com/dex/media/sprites/rb/heatran.png: Not Found\n",
      "did not find https://www.smogon.com/dex/media/sprites/c/heatran.gif: Not Found\n",
      "did not find https://www.smogon.com/dex/media/sprites/rs/heatran.png: Not Found\n"
     ]
    },
    {
     "name": "stderr",
     "output_type": "stream",
     "text": [
      " 48%|█████████████████████████████████████▍                                        | 624/1300 [41:02<45:13,  4.01s/it]"
     ]
    },
    {
     "name": "stdout",
     "output_type": "stream",
     "text": [
      "did not find https://www.smogon.com/dex/media/sprites/rb/regigigas.png: Not Found\n",
      "did not find https://www.smogon.com/dex/media/sprites/c/regigigas.gif: Not Found\n",
      "did not find https://www.smogon.com/dex/media/sprites/rs/regigigas.png: Not Found\n"
     ]
    },
    {
     "name": "stderr",
     "output_type": "stream",
     "text": [
      " 48%|█████████████████████████████████████▌                                        | 625/1300 [41:06<46:23,  4.12s/it]"
     ]
    },
    {
     "name": "stdout",
     "output_type": "stream",
     "text": [
      "did not find https://www.smogon.com/dex/media/sprites/rb/giratina.png: Not Found\n",
      "did not find https://www.smogon.com/dex/media/sprites/c/giratina.gif: Not Found\n",
      "did not find https://www.smogon.com/dex/media/sprites/rs/giratina.png: Not Found\n"
     ]
    },
    {
     "name": "stderr",
     "output_type": "stream",
     "text": [
      " 48%|█████████████████████████████████████▌                                        | 626/1300 [41:11<47:00,  4.18s/it]"
     ]
    },
    {
     "name": "stdout",
     "output_type": "stream",
     "text": [
      "did not find https://www.smogon.com/dex/media/sprites/rb/giratina-origin.png: Not Found\n",
      "did not find https://www.smogon.com/dex/media/sprites/c/giratina-origin.gif: Not Found\n",
      "did not find https://www.smogon.com/dex/media/sprites/rs/giratina-origin.png: Not Found\n"
     ]
    },
    {
     "name": "stderr",
     "output_type": "stream",
     "text": [
      " 48%|█████████████████████████████████████▌                                        | 627/1300 [41:15<46:34,  4.15s/it]"
     ]
    },
    {
     "name": "stdout",
     "output_type": "stream",
     "text": [
      "did not find https://www.smogon.com/dex/media/sprites/rb/cresselia.png: Not Found\n",
      "did not find https://www.smogon.com/dex/media/sprites/c/cresselia.gif: Not Found\n",
      "did not find https://www.smogon.com/dex/media/sprites/rs/cresselia.png: Not Found\n"
     ]
    },
    {
     "name": "stderr",
     "output_type": "stream",
     "text": [
      " 48%|█████████████████████████████████████▋                                        | 628/1300 [41:19<46:36,  4.16s/it]"
     ]
    },
    {
     "name": "stdout",
     "output_type": "stream",
     "text": [
      "did not find https://www.smogon.com/dex/media/sprites/rb/phione.png: Not Found\n",
      "did not find https://www.smogon.com/dex/media/sprites/c/phione.gif: Not Found\n",
      "did not find https://www.smogon.com/dex/media/sprites/rs/phione.png: Not Found\n"
     ]
    },
    {
     "name": "stderr",
     "output_type": "stream",
     "text": [
      " 48%|█████████████████████████████████████▋                                        | 629/1300 [41:23<45:47,  4.10s/it]"
     ]
    },
    {
     "name": "stdout",
     "output_type": "stream",
     "text": [
      "did not find https://www.smogon.com/dex/media/sprites/rb/manaphy.png: Not Found\n",
      "did not find https://www.smogon.com/dex/media/sprites/c/manaphy.gif: Not Found\n",
      "did not find https://www.smogon.com/dex/media/sprites/rs/manaphy.png: Not Found\n"
     ]
    },
    {
     "name": "stderr",
     "output_type": "stream",
     "text": [
      " 48%|█████████████████████████████████████▊                                        | 630/1300 [41:27<45:06,  4.04s/it]"
     ]
    },
    {
     "name": "stdout",
     "output_type": "stream",
     "text": [
      "did not find https://www.smogon.com/dex/media/sprites/rb/darkrai.png: Not Found\n",
      "did not find https://www.smogon.com/dex/media/sprites/c/darkrai.gif: Not Found\n",
      "did not find https://www.smogon.com/dex/media/sprites/rs/darkrai.png: Not Found\n"
     ]
    },
    {
     "name": "stderr",
     "output_type": "stream",
     "text": [
      " 49%|█████████████████████████████████████▊                                        | 631/1300 [41:31<45:12,  4.05s/it]"
     ]
    },
    {
     "name": "stdout",
     "output_type": "stream",
     "text": [
      "did not find https://www.smogon.com/dex/media/sprites/rb/shaymin.png: Not Found\n",
      "did not find https://www.smogon.com/dex/media/sprites/c/shaymin.gif: Not Found\n",
      "did not find https://www.smogon.com/dex/media/sprites/rs/shaymin.png: Not Found\n"
     ]
    },
    {
     "name": "stderr",
     "output_type": "stream",
     "text": [
      " 49%|█████████████████████████████████████▉                                        | 632/1300 [41:35<44:24,  3.99s/it]"
     ]
    },
    {
     "name": "stdout",
     "output_type": "stream",
     "text": [
      "did not find https://www.smogon.com/dex/media/sprites/rb/shaymin-sky.png: Not Found\n",
      "did not find https://www.smogon.com/dex/media/sprites/c/shaymin-sky.gif: Not Found\n",
      "did not find https://www.smogon.com/dex/media/sprites/rs/shaymin-sky.png: Not Found\n",
      "did not find https://www.smogon.com/dex/media/sprites/dp/shaymin-sky.png: Not Found\n"
     ]
    },
    {
     "name": "stderr",
     "output_type": "stream",
     "text": [
      " 49%|█████████████████████████████████████▉                                        | 633/1300 [41:39<44:45,  4.03s/it]"
     ]
    },
    {
     "name": "stdout",
     "output_type": "stream",
     "text": [
      "did not find https://www.smogon.com/dex/media/sprites/rb/arceus.png: Not Found\n",
      "did not find https://www.smogon.com/dex/media/sprites/c/arceus.gif: Not Found\n",
      "did not find https://www.smogon.com/dex/media/sprites/rs/arceus.png: Not Found\n"
     ]
    },
    {
     "name": "stderr",
     "output_type": "stream",
     "text": [
      " 49%|██████████████████████████████████████                                        | 634/1300 [41:43<45:25,  4.09s/it]"
     ]
    },
    {
     "name": "stdout",
     "output_type": "stream",
     "text": [
      "did not find https://www.smogon.com/dex/media/sprites/rb/arceus-bug.png: Not Found\n",
      "did not find https://www.smogon.com/dex/media/sprites/c/arceus-bug.gif: Not Found\n",
      "did not find https://www.smogon.com/dex/media/sprites/rs/arceus-bug.png: Not Found\n"
     ]
    },
    {
     "name": "stderr",
     "output_type": "stream",
     "text": [
      " 49%|██████████████████████████████████████                                        | 635/1300 [41:47<45:20,  4.09s/it]"
     ]
    },
    {
     "name": "stdout",
     "output_type": "stream",
     "text": [
      "did not find https://www.smogon.com/dex/media/sprites/rb/arceus-dark.png: Not Found\n",
      "did not find https://www.smogon.com/dex/media/sprites/c/arceus-dark.gif: Not Found\n",
      "did not find https://www.smogon.com/dex/media/sprites/rs/arceus-dark.png: Not Found\n"
     ]
    },
    {
     "name": "stderr",
     "output_type": "stream",
     "text": [
      " 49%|██████████████████████████████████████▏                                       | 636/1300 [41:51<45:43,  4.13s/it]"
     ]
    },
    {
     "name": "stdout",
     "output_type": "stream",
     "text": [
      "did not find https://www.smogon.com/dex/media/sprites/rb/arceus-dragon.png: Not Found\n",
      "did not find https://www.smogon.com/dex/media/sprites/c/arceus-dragon.gif: Not Found\n",
      "did not find https://www.smogon.com/dex/media/sprites/rs/arceus-dragon.png: Not Found\n"
     ]
    },
    {
     "name": "stderr",
     "output_type": "stream",
     "text": [
      " 49%|██████████████████████████████████████▏                                       | 637/1300 [41:55<45:52,  4.15s/it]"
     ]
    },
    {
     "name": "stdout",
     "output_type": "stream",
     "text": [
      "did not find https://www.smogon.com/dex/media/sprites/rb/arceus-electric.png: Not Found\n",
      "did not find https://www.smogon.com/dex/media/sprites/c/arceus-electric.gif: Not Found\n",
      "did not find https://www.smogon.com/dex/media/sprites/rs/arceus-electric.png: Not Found\n"
     ]
    },
    {
     "name": "stderr",
     "output_type": "stream",
     "text": [
      " 49%|██████████████████████████████████████▎                                       | 638/1300 [42:00<45:55,  4.16s/it]"
     ]
    },
    {
     "name": "stdout",
     "output_type": "stream",
     "text": [
      "did not find https://www.smogon.com/dex/media/sprites/rb/arceus-fairy.png: Not Found\n",
      "did not find https://www.smogon.com/dex/media/sprites/c/arceus-fairy.gif: Not Found\n",
      "did not find https://www.smogon.com/dex/media/sprites/rs/arceus-fairy.png: Not Found\n",
      "did not find https://www.smogon.com/dex/media/sprites/dp/arceus-fairy.png: Not Found\n",
      "did not find https://www.smogon.com/dex/media/sprites/bw/arceus-fairy.gif: Not Found\n"
     ]
    },
    {
     "name": "stderr",
     "output_type": "stream",
     "text": [
      " 49%|██████████████████████████████████████▎                                       | 639/1300 [42:04<45:24,  4.12s/it]"
     ]
    },
    {
     "name": "stdout",
     "output_type": "stream",
     "text": [
      "did not find https://www.smogon.com/dex/media/sprites/rb/arceus-fighting.png: Not Found\n",
      "did not find https://www.smogon.com/dex/media/sprites/c/arceus-fighting.gif: Not Found\n",
      "did not find https://www.smogon.com/dex/media/sprites/rs/arceus-fighting.png: Not Found\n"
     ]
    },
    {
     "name": "stderr",
     "output_type": "stream",
     "text": [
      " 49%|██████████████████████████████████████▍                                       | 640/1300 [42:08<45:22,  4.12s/it]"
     ]
    },
    {
     "name": "stdout",
     "output_type": "stream",
     "text": [
      "did not find https://www.smogon.com/dex/media/sprites/rb/arceus-fire.png: Not Found\n",
      "did not find https://www.smogon.com/dex/media/sprites/c/arceus-fire.gif: Not Found\n",
      "did not find https://www.smogon.com/dex/media/sprites/rs/arceus-fire.png: Not Found\n"
     ]
    },
    {
     "name": "stderr",
     "output_type": "stream",
     "text": [
      " 49%|██████████████████████████████████████▍                                       | 641/1300 [42:12<45:27,  4.14s/it]"
     ]
    },
    {
     "name": "stdout",
     "output_type": "stream",
     "text": [
      "did not find https://www.smogon.com/dex/media/sprites/rb/arceus-flying.png: Not Found\n",
      "did not find https://www.smogon.com/dex/media/sprites/c/arceus-flying.gif: Not Found\n",
      "did not find https://www.smogon.com/dex/media/sprites/rs/arceus-flying.png: Not Found\n"
     ]
    },
    {
     "name": "stderr",
     "output_type": "stream",
     "text": [
      " 49%|██████████████████████████████████████▌                                       | 642/1300 [42:16<45:23,  4.14s/it]"
     ]
    },
    {
     "name": "stdout",
     "output_type": "stream",
     "text": [
      "did not find https://www.smogon.com/dex/media/sprites/rb/arceus-ghost.png: Not Found\n",
      "did not find https://www.smogon.com/dex/media/sprites/c/arceus-ghost.gif: Not Found\n",
      "did not find https://www.smogon.com/dex/media/sprites/rs/arceus-ghost.png: Not Found\n"
     ]
    },
    {
     "name": "stderr",
     "output_type": "stream",
     "text": [
      " 49%|██████████████████████████████████████▌                                       | 643/1300 [42:20<45:41,  4.17s/it]"
     ]
    },
    {
     "name": "stdout",
     "output_type": "stream",
     "text": [
      "did not find https://www.smogon.com/dex/media/sprites/rb/arceus-grass.png: Not Found\n",
      "did not find https://www.smogon.com/dex/media/sprites/c/arceus-grass.gif: Not Found\n",
      "did not find https://www.smogon.com/dex/media/sprites/rs/arceus-grass.png: Not Found\n"
     ]
    },
    {
     "name": "stderr",
     "output_type": "stream",
     "text": [
      " 50%|██████████████████████████████████████▋                                       | 644/1300 [42:25<45:49,  4.19s/it]"
     ]
    },
    {
     "name": "stdout",
     "output_type": "stream",
     "text": [
      "did not find https://www.smogon.com/dex/media/sprites/rb/arceus-ground.png: Not Found\n",
      "did not find https://www.smogon.com/dex/media/sprites/c/arceus-ground.gif: Not Found\n",
      "did not find https://www.smogon.com/dex/media/sprites/rs/arceus-ground.png: Not Found\n"
     ]
    },
    {
     "name": "stderr",
     "output_type": "stream",
     "text": [
      " 50%|██████████████████████████████████████▋                                       | 645/1300 [42:29<46:04,  4.22s/it]"
     ]
    },
    {
     "name": "stdout",
     "output_type": "stream",
     "text": [
      "did not find https://www.smogon.com/dex/media/sprites/rb/arceus-ice.png: Not Found\n",
      "did not find https://www.smogon.com/dex/media/sprites/c/arceus-ice.gif: Not Found\n",
      "did not find https://www.smogon.com/dex/media/sprites/rs/arceus-ice.png: Not Found\n"
     ]
    },
    {
     "name": "stderr",
     "output_type": "stream",
     "text": [
      " 50%|██████████████████████████████████████▊                                       | 646/1300 [42:33<45:51,  4.21s/it]"
     ]
    },
    {
     "name": "stdout",
     "output_type": "stream",
     "text": [
      "did not find https://www.smogon.com/dex/media/sprites/rb/arceus-poison.png: Not Found\n",
      "did not find https://www.smogon.com/dex/media/sprites/c/arceus-poison.gif: Not Found\n",
      "did not find https://www.smogon.com/dex/media/sprites/rs/arceus-poison.png: Not Found\n"
     ]
    },
    {
     "name": "stderr",
     "output_type": "stream",
     "text": [
      " 50%|██████████████████████████████████████▊                                       | 647/1300 [42:37<45:54,  4.22s/it]"
     ]
    },
    {
     "name": "stdout",
     "output_type": "stream",
     "text": [
      "did not find https://www.smogon.com/dex/media/sprites/rb/arceus-psychic.png: Not Found\n",
      "did not find https://www.smogon.com/dex/media/sprites/c/arceus-psychic.gif: Not Found\n",
      "did not find https://www.smogon.com/dex/media/sprites/rs/arceus-psychic.png: Not Found\n"
     ]
    },
    {
     "name": "stderr",
     "output_type": "stream",
     "text": [
      " 50%|██████████████████████████████████████▉                                       | 648/1300 [42:41<45:30,  4.19s/it]"
     ]
    },
    {
     "name": "stdout",
     "output_type": "stream",
     "text": [
      "did not find https://www.smogon.com/dex/media/sprites/rb/arceus-rock.png: Not Found\n",
      "did not find https://www.smogon.com/dex/media/sprites/c/arceus-rock.gif: Not Found\n",
      "did not find https://www.smogon.com/dex/media/sprites/rs/arceus-rock.png: Not Found\n"
     ]
    },
    {
     "name": "stderr",
     "output_type": "stream",
     "text": [
      " 50%|██████████████████████████████████████▉                                       | 649/1300 [42:46<45:22,  4.18s/it]"
     ]
    },
    {
     "name": "stdout",
     "output_type": "stream",
     "text": [
      "did not find https://www.smogon.com/dex/media/sprites/rb/arceus-steel.png: Not Found\n",
      "did not find https://www.smogon.com/dex/media/sprites/c/arceus-steel.gif: Not Found\n",
      "did not find https://www.smogon.com/dex/media/sprites/rs/arceus-steel.png: Not Found\n"
     ]
    },
    {
     "name": "stderr",
     "output_type": "stream",
     "text": [
      " 50%|███████████████████████████████████████                                       | 650/1300 [42:50<45:26,  4.19s/it]"
     ]
    },
    {
     "name": "stdout",
     "output_type": "stream",
     "text": [
      "did not find https://www.smogon.com/dex/media/sprites/rb/arceus-water.png: Not Found\n",
      "did not find https://www.smogon.com/dex/media/sprites/c/arceus-water.gif: Not Found\n",
      "did not find https://www.smogon.com/dex/media/sprites/rs/arceus-water.png: Not Found\n"
     ]
    },
    {
     "name": "stderr",
     "output_type": "stream",
     "text": [
      " 50%|███████████████████████████████████████                                       | 651/1300 [42:54<45:31,  4.21s/it]"
     ]
    },
    {
     "name": "stdout",
     "output_type": "stream",
     "text": [
      "did not find https://www.smogon.com/dex/media/sprites/rb/victini.png: Not Found\n",
      "did not find https://www.smogon.com/dex/media/sprites/c/victini.gif: Not Found\n",
      "did not find https://www.smogon.com/dex/media/sprites/rs/victini.png: Not Found\n",
      "did not find https://www.smogon.com/dex/media/sprites/dp/victini.png: Not Found\n"
     ]
    },
    {
     "name": "stderr",
     "output_type": "stream",
     "text": [
      " 50%|███████████████████████████████████████                                       | 652/1300 [42:58<44:00,  4.07s/it]"
     ]
    },
    {
     "name": "stdout",
     "output_type": "stream",
     "text": [
      "did not find https://www.smogon.com/dex/media/sprites/rb/snivy.png: Not Found\n",
      "did not find https://www.smogon.com/dex/media/sprites/c/snivy.gif: Not Found\n",
      "did not find https://www.smogon.com/dex/media/sprites/rs/snivy.png: Not Found\n",
      "did not find https://www.smogon.com/dex/media/sprites/dp/snivy.png: Not Found\n"
     ]
    },
    {
     "name": "stderr",
     "output_type": "stream",
     "text": [
      " 50%|███████████████████████████████████████▏                                      | 653/1300 [43:02<43:18,  4.02s/it]"
     ]
    },
    {
     "name": "stdout",
     "output_type": "stream",
     "text": [
      "did not find https://www.smogon.com/dex/media/sprites/rb/servine.png: Not Found\n",
      "did not find https://www.smogon.com/dex/media/sprites/c/servine.gif: Not Found\n",
      "did not find https://www.smogon.com/dex/media/sprites/rs/servine.png: Not Found\n",
      "did not find https://www.smogon.com/dex/media/sprites/dp/servine.png: Not Found\n"
     ]
    },
    {
     "name": "stderr",
     "output_type": "stream",
     "text": [
      " 50%|███████████████████████████████████████▏                                      | 654/1300 [43:06<43:02,  4.00s/it]"
     ]
    },
    {
     "name": "stdout",
     "output_type": "stream",
     "text": [
      "did not find https://www.smogon.com/dex/media/sprites/rb/serperior.png: Not Found\n",
      "did not find https://www.smogon.com/dex/media/sprites/c/serperior.gif: Not Found\n",
      "did not find https://www.smogon.com/dex/media/sprites/rs/serperior.png: Not Found\n",
      "did not find https://www.smogon.com/dex/media/sprites/dp/serperior.png: Not Found\n"
     ]
    },
    {
     "name": "stderr",
     "output_type": "stream",
     "text": [
      " 50%|███████████████████████████████████████▎                                      | 655/1300 [43:10<43:42,  4.07s/it]"
     ]
    },
    {
     "name": "stdout",
     "output_type": "stream",
     "text": [
      "did not find https://www.smogon.com/dex/media/sprites/rb/tepig.png: Not Found\n",
      "did not find https://www.smogon.com/dex/media/sprites/c/tepig.gif: Not Found\n",
      "did not find https://www.smogon.com/dex/media/sprites/rs/tepig.png: Not Found\n",
      "did not find https://www.smogon.com/dex/media/sprites/dp/tepig.png: Not Found\n"
     ]
    },
    {
     "name": "stderr",
     "output_type": "stream",
     "text": [
      " 50%|███████████████████████████████████████▎                                      | 656/1300 [43:14<42:58,  4.00s/it]"
     ]
    },
    {
     "name": "stdout",
     "output_type": "stream",
     "text": [
      "did not find https://www.smogon.com/dex/media/sprites/rb/pignite.png: Not Found\n",
      "did not find https://www.smogon.com/dex/media/sprites/c/pignite.gif: Not Found\n",
      "did not find https://www.smogon.com/dex/media/sprites/rs/pignite.png: Not Found\n",
      "did not find https://www.smogon.com/dex/media/sprites/dp/pignite.png: Not Found\n"
     ]
    },
    {
     "name": "stderr",
     "output_type": "stream",
     "text": [
      " 51%|███████████████████████████████████████▍                                      | 657/1300 [43:18<43:23,  4.05s/it]"
     ]
    },
    {
     "name": "stdout",
     "output_type": "stream",
     "text": [
      "did not find https://www.smogon.com/dex/media/sprites/rb/emboar.png: Not Found\n",
      "did not find https://www.smogon.com/dex/media/sprites/c/emboar.gif: Not Found\n",
      "did not find https://www.smogon.com/dex/media/sprites/rs/emboar.png: Not Found\n",
      "did not find https://www.smogon.com/dex/media/sprites/dp/emboar.png: Not Found\n"
     ]
    },
    {
     "name": "stderr",
     "output_type": "stream",
     "text": [
      " 51%|███████████████████████████████████████▍                                      | 658/1300 [43:22<44:07,  4.12s/it]"
     ]
    },
    {
     "name": "stdout",
     "output_type": "stream",
     "text": [
      "did not find https://www.smogon.com/dex/media/sprites/rb/oshawott.png: Not Found\n",
      "did not find https://www.smogon.com/dex/media/sprites/c/oshawott.gif: Not Found\n",
      "did not find https://www.smogon.com/dex/media/sprites/rs/oshawott.png: Not Found\n",
      "did not find https://www.smogon.com/dex/media/sprites/dp/oshawott.png: Not Found\n"
     ]
    },
    {
     "name": "stderr",
     "output_type": "stream",
     "text": [
      " 51%|███████████████████████████████████████▌                                      | 659/1300 [43:26<43:00,  4.03s/it]"
     ]
    },
    {
     "name": "stdout",
     "output_type": "stream",
     "text": [
      "did not find https://www.smogon.com/dex/media/sprites/rb/dewott.png: Not Found\n",
      "did not find https://www.smogon.com/dex/media/sprites/c/dewott.gif: Not Found\n",
      "did not find https://www.smogon.com/dex/media/sprites/rs/dewott.png: Not Found\n",
      "did not find https://www.smogon.com/dex/media/sprites/dp/dewott.png: Not Found\n"
     ]
    },
    {
     "name": "stderr",
     "output_type": "stream",
     "text": [
      " 51%|███████████████████████████████████████▌                                      | 660/1300 [43:30<42:22,  3.97s/it]"
     ]
    },
    {
     "name": "stdout",
     "output_type": "stream",
     "text": [
      "did not find https://www.smogon.com/dex/media/sprites/rb/samurott.png: Not Found\n",
      "did not find https://www.smogon.com/dex/media/sprites/c/samurott.gif: Not Found\n",
      "did not find https://www.smogon.com/dex/media/sprites/rs/samurott.png: Not Found\n",
      "did not find https://www.smogon.com/dex/media/sprites/dp/samurott.png: Not Found\n"
     ]
    },
    {
     "name": "stderr",
     "output_type": "stream",
     "text": [
      " 51%|███████████████████████████████████████▋                                      | 661/1300 [43:34<42:49,  4.02s/it]"
     ]
    },
    {
     "name": "stdout",
     "output_type": "stream",
     "text": [
      "did not find https://www.smogon.com/dex/media/sprites/rb/samurott-hisui.png: Not Found\n",
      "did not find https://www.smogon.com/dex/media/sprites/c/samurott-hisui.gif: Not Found\n",
      "did not find https://www.smogon.com/dex/media/sprites/rs/samurott-hisui.png: Not Found\n",
      "did not find https://www.smogon.com/dex/media/sprites/dp/samurott-hisui.png: Not Found\n",
      "did not find https://www.smogon.com/dex/media/sprites/bw/samurott-hisui.gif: Not Found\n"
     ]
    },
    {
     "name": "stderr",
     "output_type": "stream",
     "text": [
      " 51%|███████████████████████████████████████▋                                      | 662/1300 [43:38<41:32,  3.91s/it]"
     ]
    },
    {
     "name": "stdout",
     "output_type": "stream",
     "text": [
      "did not find https://www.smogon.com/dex/media/sprites/rb/patrat.png: Not Found\n",
      "did not find https://www.smogon.com/dex/media/sprites/c/patrat.gif: Not Found\n",
      "did not find https://www.smogon.com/dex/media/sprites/rs/patrat.png: Not Found\n",
      "did not find https://www.smogon.com/dex/media/sprites/dp/patrat.png: Not Found\n"
     ]
    },
    {
     "name": "stderr",
     "output_type": "stream",
     "text": [
      " 51%|███████████████████████████████████████▊                                      | 663/1300 [43:41<41:23,  3.90s/it]"
     ]
    },
    {
     "name": "stdout",
     "output_type": "stream",
     "text": [
      "did not find https://www.smogon.com/dex/media/sprites/rb/watchog.png: Not Found\n",
      "did not find https://www.smogon.com/dex/media/sprites/c/watchog.gif: Not Found\n",
      "did not find https://www.smogon.com/dex/media/sprites/rs/watchog.png: Not Found\n",
      "did not find https://www.smogon.com/dex/media/sprites/dp/watchog.png: Not Found\n"
     ]
    },
    {
     "name": "stderr",
     "output_type": "stream",
     "text": [
      " 51%|███████████████████████████████████████▊                                      | 664/1300 [43:45<41:43,  3.94s/it]"
     ]
    },
    {
     "name": "stdout",
     "output_type": "stream",
     "text": [
      "did not find https://www.smogon.com/dex/media/sprites/rb/lillipup.png: Not Found\n",
      "did not find https://www.smogon.com/dex/media/sprites/c/lillipup.gif: Not Found\n",
      "did not find https://www.smogon.com/dex/media/sprites/rs/lillipup.png: Not Found\n",
      "did not find https://www.smogon.com/dex/media/sprites/dp/lillipup.png: Not Found\n"
     ]
    },
    {
     "name": "stderr",
     "output_type": "stream",
     "text": [
      " 51%|███████████████████████████████████████▉                                      | 665/1300 [43:49<41:09,  3.89s/it]"
     ]
    },
    {
     "name": "stdout",
     "output_type": "stream",
     "text": [
      "did not find https://www.smogon.com/dex/media/sprites/rb/herdier.png: Not Found\n",
      "did not find https://www.smogon.com/dex/media/sprites/c/herdier.gif: Not Found\n",
      "did not find https://www.smogon.com/dex/media/sprites/rs/herdier.png: Not Found\n",
      "did not find https://www.smogon.com/dex/media/sprites/dp/herdier.png: Not Found\n"
     ]
    },
    {
     "name": "stderr",
     "output_type": "stream",
     "text": [
      " 51%|███████████████████████████████████████▉                                      | 666/1300 [43:53<41:09,  3.89s/it]"
     ]
    },
    {
     "name": "stdout",
     "output_type": "stream",
     "text": [
      "did not find https://www.smogon.com/dex/media/sprites/rb/stoutland.png: Not Found\n",
      "did not find https://www.smogon.com/dex/media/sprites/c/stoutland.gif: Not Found\n",
      "did not find https://www.smogon.com/dex/media/sprites/rs/stoutland.png: Not Found\n",
      "did not find https://www.smogon.com/dex/media/sprites/dp/stoutland.png: Not Found\n"
     ]
    },
    {
     "name": "stderr",
     "output_type": "stream",
     "text": [
      " 51%|████████████████████████████████████████                                      | 667/1300 [43:57<41:48,  3.96s/it]"
     ]
    },
    {
     "name": "stdout",
     "output_type": "stream",
     "text": [
      "did not find https://www.smogon.com/dex/media/sprites/rb/purrloin.png: Not Found\n",
      "did not find https://www.smogon.com/dex/media/sprites/c/purrloin.gif: Not Found\n",
      "did not find https://www.smogon.com/dex/media/sprites/rs/purrloin.png: Not Found\n",
      "did not find https://www.smogon.com/dex/media/sprites/dp/purrloin.png: Not Found\n"
     ]
    },
    {
     "name": "stderr",
     "output_type": "stream",
     "text": [
      " 51%|████████████████████████████████████████                                      | 668/1300 [44:01<41:28,  3.94s/it]"
     ]
    },
    {
     "name": "stdout",
     "output_type": "stream",
     "text": [
      "did not find https://www.smogon.com/dex/media/sprites/rb/liepard.png: Not Found\n",
      "did not find https://www.smogon.com/dex/media/sprites/c/liepard.gif: Not Found\n",
      "did not find https://www.smogon.com/dex/media/sprites/rs/liepard.png: Not Found\n",
      "did not find https://www.smogon.com/dex/media/sprites/dp/liepard.png: Not Found\n"
     ]
    },
    {
     "name": "stderr",
     "output_type": "stream",
     "text": [
      " 51%|████████████████████████████████████████▏                                     | 669/1300 [44:05<41:29,  3.95s/it]"
     ]
    },
    {
     "name": "stdout",
     "output_type": "stream",
     "text": [
      "did not find https://www.smogon.com/dex/media/sprites/rb/pansage.png: Not Found\n",
      "did not find https://www.smogon.com/dex/media/sprites/c/pansage.gif: Not Found\n",
      "did not find https://www.smogon.com/dex/media/sprites/rs/pansage.png: Not Found\n",
      "did not find https://www.smogon.com/dex/media/sprites/dp/pansage.png: Not Found\n"
     ]
    },
    {
     "name": "stderr",
     "output_type": "stream",
     "text": [
      " 52%|████████████████████████████████████████▏                                     | 670/1300 [44:09<41:28,  3.95s/it]"
     ]
    },
    {
     "name": "stdout",
     "output_type": "stream",
     "text": [
      "did not find https://www.smogon.com/dex/media/sprites/rb/simisage.png: Not Found\n",
      "did not find https://www.smogon.com/dex/media/sprites/c/simisage.gif: Not Found\n",
      "did not find https://www.smogon.com/dex/media/sprites/rs/simisage.png: Not Found\n",
      "did not find https://www.smogon.com/dex/media/sprites/dp/simisage.png: Not Found\n"
     ]
    },
    {
     "name": "stderr",
     "output_type": "stream",
     "text": [
      " 52%|████████████████████████████████████████▎                                     | 671/1300 [44:13<41:31,  3.96s/it]"
     ]
    },
    {
     "name": "stdout",
     "output_type": "stream",
     "text": [
      "did not find https://www.smogon.com/dex/media/sprites/rb/pansear.png: Not Found\n",
      "did not find https://www.smogon.com/dex/media/sprites/c/pansear.gif: Not Found\n",
      "did not find https://www.smogon.com/dex/media/sprites/rs/pansear.png: Not Found\n",
      "did not find https://www.smogon.com/dex/media/sprites/dp/pansear.png: Not Found\n"
     ]
    },
    {
     "name": "stderr",
     "output_type": "stream",
     "text": [
      " 52%|████████████████████████████████████████▎                                     | 672/1300 [44:17<41:08,  3.93s/it]"
     ]
    },
    {
     "name": "stdout",
     "output_type": "stream",
     "text": [
      "did not find https://www.smogon.com/dex/media/sprites/rb/simisear.png: Not Found\n",
      "did not find https://www.smogon.com/dex/media/sprites/c/simisear.gif: Not Found\n",
      "did not find https://www.smogon.com/dex/media/sprites/rs/simisear.png: Not Found\n",
      "did not find https://www.smogon.com/dex/media/sprites/dp/simisear.png: Not Found\n"
     ]
    },
    {
     "name": "stderr",
     "output_type": "stream",
     "text": [
      " 52%|████████████████████████████████████████▍                                     | 673/1300 [44:21<41:33,  3.98s/it]"
     ]
    },
    {
     "name": "stdout",
     "output_type": "stream",
     "text": [
      "did not find https://www.smogon.com/dex/media/sprites/rb/panpour.png: Not Found\n",
      "did not find https://www.smogon.com/dex/media/sprites/c/panpour.gif: Not Found\n",
      "did not find https://www.smogon.com/dex/media/sprites/rs/panpour.png: Not Found\n",
      "did not find https://www.smogon.com/dex/media/sprites/dp/panpour.png: Not Found\n"
     ]
    },
    {
     "name": "stderr",
     "output_type": "stream",
     "text": [
      " 52%|████████████████████████████████████████▍                                     | 674/1300 [44:25<41:12,  3.95s/it]"
     ]
    },
    {
     "name": "stdout",
     "output_type": "stream",
     "text": [
      "did not find https://www.smogon.com/dex/media/sprites/rb/simipour.png: Not Found\n",
      "did not find https://www.smogon.com/dex/media/sprites/c/simipour.gif: Not Found\n",
      "did not find https://www.smogon.com/dex/media/sprites/rs/simipour.png: Not Found\n",
      "did not find https://www.smogon.com/dex/media/sprites/dp/simipour.png: Not Found\n"
     ]
    },
    {
     "name": "stderr",
     "output_type": "stream",
     "text": [
      " 52%|████████████████████████████████████████▌                                     | 675/1300 [44:29<40:57,  3.93s/it]"
     ]
    },
    {
     "name": "stdout",
     "output_type": "stream",
     "text": [
      "did not find https://www.smogon.com/dex/media/sprites/rb/munna.png: Not Found\n",
      "did not find https://www.smogon.com/dex/media/sprites/c/munna.gif: Not Found\n",
      "did not find https://www.smogon.com/dex/media/sprites/rs/munna.png: Not Found\n",
      "did not find https://www.smogon.com/dex/media/sprites/dp/munna.png: Not Found\n"
     ]
    },
    {
     "name": "stderr",
     "output_type": "stream",
     "text": [
      " 52%|████████████████████████████████████████▌                                     | 676/1300 [44:33<40:33,  3.90s/it]"
     ]
    },
    {
     "name": "stdout",
     "output_type": "stream",
     "text": [
      "did not find https://www.smogon.com/dex/media/sprites/rb/musharna.png: Not Found\n",
      "did not find https://www.smogon.com/dex/media/sprites/c/musharna.gif: Not Found\n",
      "did not find https://www.smogon.com/dex/media/sprites/rs/musharna.png: Not Found\n",
      "did not find https://www.smogon.com/dex/media/sprites/dp/musharna.png: Not Found\n"
     ]
    },
    {
     "name": "stderr",
     "output_type": "stream",
     "text": [
      " 52%|████████████████████████████████████████▌                                     | 677/1300 [44:37<40:51,  3.93s/it]"
     ]
    },
    {
     "name": "stdout",
     "output_type": "stream",
     "text": [
      "did not find https://www.smogon.com/dex/media/sprites/rb/pidove.png: Not Found\n",
      "did not find https://www.smogon.com/dex/media/sprites/c/pidove.gif: Not Found\n",
      "did not find https://www.smogon.com/dex/media/sprites/rs/pidove.png: Not Found\n",
      "did not find https://www.smogon.com/dex/media/sprites/dp/pidove.png: Not Found\n"
     ]
    },
    {
     "name": "stderr",
     "output_type": "stream",
     "text": [
      " 52%|████████████████████████████████████████▋                                     | 678/1300 [44:41<40:57,  3.95s/it]"
     ]
    },
    {
     "name": "stdout",
     "output_type": "stream",
     "text": [
      "did not find https://www.smogon.com/dex/media/sprites/rb/tranquill.png: Not Found\n",
      "did not find https://www.smogon.com/dex/media/sprites/c/tranquill.gif: Not Found\n",
      "did not find https://www.smogon.com/dex/media/sprites/rs/tranquill.png: Not Found\n",
      "did not find https://www.smogon.com/dex/media/sprites/dp/tranquill.png: Not Found\n"
     ]
    },
    {
     "name": "stderr",
     "output_type": "stream",
     "text": [
      " 52%|████████████████████████████████████████▋                                     | 679/1300 [44:45<41:13,  3.98s/it]"
     ]
    },
    {
     "name": "stdout",
     "output_type": "stream",
     "text": [
      "did not find https://www.smogon.com/dex/media/sprites/rb/unfezant.png: Not Found\n",
      "did not find https://www.smogon.com/dex/media/sprites/c/unfezant.gif: Not Found\n",
      "did not find https://www.smogon.com/dex/media/sprites/rs/unfezant.png: Not Found\n",
      "did not find https://www.smogon.com/dex/media/sprites/dp/unfezant.png: Not Found\n"
     ]
    },
    {
     "name": "stderr",
     "output_type": "stream",
     "text": [
      " 52%|████████████████████████████████████████▊                                     | 680/1300 [44:49<41:27,  4.01s/it]"
     ]
    },
    {
     "name": "stdout",
     "output_type": "stream",
     "text": [
      "did not find https://www.smogon.com/dex/media/sprites/rb/blitzle.png: Not Found\n",
      "did not find https://www.smogon.com/dex/media/sprites/c/blitzle.gif: Not Found\n",
      "did not find https://www.smogon.com/dex/media/sprites/rs/blitzle.png: Not Found\n",
      "did not find https://www.smogon.com/dex/media/sprites/dp/blitzle.png: Not Found\n"
     ]
    },
    {
     "name": "stderr",
     "output_type": "stream",
     "text": [
      " 52%|████████████████████████████████████████▊                                     | 681/1300 [44:53<41:30,  4.02s/it]"
     ]
    },
    {
     "name": "stdout",
     "output_type": "stream",
     "text": [
      "did not find https://www.smogon.com/dex/media/sprites/rb/zebstrika.png: Not Found\n",
      "did not find https://www.smogon.com/dex/media/sprites/c/zebstrika.gif: Not Found\n",
      "did not find https://www.smogon.com/dex/media/sprites/rs/zebstrika.png: Not Found\n",
      "did not find https://www.smogon.com/dex/media/sprites/dp/zebstrika.png: Not Found\n"
     ]
    },
    {
     "name": "stderr",
     "output_type": "stream",
     "text": [
      " 52%|████████████████████████████████████████▉                                     | 682/1300 [44:57<41:34,  4.04s/it]"
     ]
    },
    {
     "name": "stdout",
     "output_type": "stream",
     "text": [
      "did not find https://www.smogon.com/dex/media/sprites/rb/roggenrola.png: Not Found\n",
      "did not find https://www.smogon.com/dex/media/sprites/c/roggenrola.gif: Not Found\n",
      "did not find https://www.smogon.com/dex/media/sprites/rs/roggenrola.png: Not Found\n",
      "did not find https://www.smogon.com/dex/media/sprites/dp/roggenrola.png: Not Found\n"
     ]
    },
    {
     "name": "stderr",
     "output_type": "stream",
     "text": [
      " 53%|████████████████████████████████████████▉                                     | 683/1300 [45:01<41:03,  3.99s/it]"
     ]
    },
    {
     "name": "stdout",
     "output_type": "stream",
     "text": [
      "did not find https://www.smogon.com/dex/media/sprites/rb/boldore.png: Not Found\n",
      "did not find https://www.smogon.com/dex/media/sprites/c/boldore.gif: Not Found\n",
      "did not find https://www.smogon.com/dex/media/sprites/rs/boldore.png: Not Found\n",
      "did not find https://www.smogon.com/dex/media/sprites/dp/boldore.png: Not Found\n"
     ]
    },
    {
     "name": "stderr",
     "output_type": "stream",
     "text": [
      " 53%|█████████████████████████████████████████                                     | 684/1300 [45:05<41:36,  4.05s/it]"
     ]
    },
    {
     "name": "stdout",
     "output_type": "stream",
     "text": [
      "did not find https://www.smogon.com/dex/media/sprites/rb/gigalith.png: Not Found\n",
      "did not find https://www.smogon.com/dex/media/sprites/c/gigalith.gif: Not Found\n",
      "did not find https://www.smogon.com/dex/media/sprites/rs/gigalith.png: Not Found\n",
      "did not find https://www.smogon.com/dex/media/sprites/dp/gigalith.png: Not Found\n"
     ]
    },
    {
     "name": "stderr",
     "output_type": "stream",
     "text": [
      " 53%|█████████████████████████████████████████                                     | 685/1300 [45:09<42:13,  4.12s/it]"
     ]
    },
    {
     "name": "stdout",
     "output_type": "stream",
     "text": [
      "did not find https://www.smogon.com/dex/media/sprites/rb/woobat.png: Not Found\n",
      "did not find https://www.smogon.com/dex/media/sprites/c/woobat.gif: Not Found\n",
      "did not find https://www.smogon.com/dex/media/sprites/rs/woobat.png: Not Found\n",
      "did not find https://www.smogon.com/dex/media/sprites/dp/woobat.png: Not Found\n"
     ]
    },
    {
     "name": "stderr",
     "output_type": "stream",
     "text": [
      " 53%|█████████████████████████████████████████▏                                    | 686/1300 [45:13<41:32,  4.06s/it]"
     ]
    },
    {
     "name": "stdout",
     "output_type": "stream",
     "text": [
      "did not find https://www.smogon.com/dex/media/sprites/rb/swoobat.png: Not Found\n",
      "did not find https://www.smogon.com/dex/media/sprites/c/swoobat.gif: Not Found\n",
      "did not find https://www.smogon.com/dex/media/sprites/rs/swoobat.png: Not Found\n",
      "did not find https://www.smogon.com/dex/media/sprites/dp/swoobat.png: Not Found\n"
     ]
    },
    {
     "name": "stderr",
     "output_type": "stream",
     "text": [
      " 53%|█████████████████████████████████████████▏                                    | 687/1300 [45:17<41:27,  4.06s/it]"
     ]
    },
    {
     "name": "stdout",
     "output_type": "stream",
     "text": [
      "did not find https://www.smogon.com/dex/media/sprites/rb/drilbur.png: Not Found\n",
      "did not find https://www.smogon.com/dex/media/sprites/c/drilbur.gif: Not Found\n",
      "did not find https://www.smogon.com/dex/media/sprites/rs/drilbur.png: Not Found\n",
      "did not find https://www.smogon.com/dex/media/sprites/dp/drilbur.png: Not Found\n"
     ]
    },
    {
     "name": "stderr",
     "output_type": "stream",
     "text": [
      " 53%|█████████████████████████████████████████▎                                    | 688/1300 [45:21<41:05,  4.03s/it]"
     ]
    },
    {
     "name": "stdout",
     "output_type": "stream",
     "text": [
      "did not find https://www.smogon.com/dex/media/sprites/rb/excadrill.png: Not Found\n",
      "did not find https://www.smogon.com/dex/media/sprites/c/excadrill.gif: Not Found\n",
      "did not find https://www.smogon.com/dex/media/sprites/rs/excadrill.png: Not Found\n",
      "did not find https://www.smogon.com/dex/media/sprites/dp/excadrill.png: Not Found\n"
     ]
    },
    {
     "name": "stderr",
     "output_type": "stream",
     "text": [
      " 53%|█████████████████████████████████████████▎                                    | 689/1300 [45:25<41:10,  4.04s/it]"
     ]
    },
    {
     "name": "stdout",
     "output_type": "stream",
     "text": [
      "did not find https://www.smogon.com/dex/media/sprites/rb/audino.png: Not Found\n",
      "did not find https://www.smogon.com/dex/media/sprites/c/audino.gif: Not Found\n",
      "did not find https://www.smogon.com/dex/media/sprites/rs/audino.png: Not Found\n",
      "did not find https://www.smogon.com/dex/media/sprites/dp/audino.png: Not Found\n"
     ]
    },
    {
     "name": "stderr",
     "output_type": "stream",
     "text": [
      " 53%|█████████████████████████████████████████▍                                    | 690/1300 [45:29<40:56,  4.03s/it]"
     ]
    },
    {
     "name": "stdout",
     "output_type": "stream",
     "text": [
      "did not find https://www.smogon.com/dex/media/sprites/rb/audino-mega.png: Not Found\n",
      "did not find https://www.smogon.com/dex/media/sprites/c/audino-mega.gif: Not Found\n",
      "did not find https://www.smogon.com/dex/media/sprites/rs/audino-mega.png: Not Found\n",
      "did not find https://www.smogon.com/dex/media/sprites/dp/audino-mega.png: Not Found\n",
      "did not find https://www.smogon.com/dex/media/sprites/bw/audino-mega.gif: Not Found\n"
     ]
    },
    {
     "name": "stderr",
     "output_type": "stream",
     "text": [
      " 53%|█████████████████████████████████████████▍                                    | 691/1300 [45:33<40:32,  3.99s/it]"
     ]
    },
    {
     "name": "stdout",
     "output_type": "stream",
     "text": [
      "did not find https://www.smogon.com/dex/media/sprites/rb/timburr.png: Not Found\n",
      "did not find https://www.smogon.com/dex/media/sprites/c/timburr.gif: Not Found\n",
      "did not find https://www.smogon.com/dex/media/sprites/rs/timburr.png: Not Found\n",
      "did not find https://www.smogon.com/dex/media/sprites/dp/timburr.png: Not Found\n"
     ]
    },
    {
     "name": "stderr",
     "output_type": "stream",
     "text": [
      " 53%|█████████████████████████████████████████▌                                    | 692/1300 [45:37<40:17,  3.98s/it]"
     ]
    },
    {
     "name": "stdout",
     "output_type": "stream",
     "text": [
      "did not find https://www.smogon.com/dex/media/sprites/rb/gurdurr.png: Not Found\n",
      "did not find https://www.smogon.com/dex/media/sprites/c/gurdurr.gif: Not Found\n",
      "did not find https://www.smogon.com/dex/media/sprites/rs/gurdurr.png: Not Found\n",
      "did not find https://www.smogon.com/dex/media/sprites/dp/gurdurr.png: Not Found\n"
     ]
    },
    {
     "name": "stderr",
     "output_type": "stream",
     "text": [
      " 53%|█████████████████████████████████████████▌                                    | 693/1300 [45:41<41:04,  4.06s/it]"
     ]
    },
    {
     "name": "stdout",
     "output_type": "stream",
     "text": [
      "did not find https://www.smogon.com/dex/media/sprites/rb/conkeldurr.png: Not Found\n",
      "did not find https://www.smogon.com/dex/media/sprites/c/conkeldurr.gif: Not Found\n",
      "did not find https://www.smogon.com/dex/media/sprites/rs/conkeldurr.png: Not Found\n",
      "did not find https://www.smogon.com/dex/media/sprites/dp/conkeldurr.png: Not Found\n"
     ]
    },
    {
     "name": "stderr",
     "output_type": "stream",
     "text": [
      " 53%|█████████████████████████████████████████▋                                    | 694/1300 [45:46<41:27,  4.10s/it]"
     ]
    },
    {
     "name": "stdout",
     "output_type": "stream",
     "text": [
      "did not find https://www.smogon.com/dex/media/sprites/rb/tympole.png: Not Found\n",
      "did not find https://www.smogon.com/dex/media/sprites/c/tympole.gif: Not Found\n",
      "did not find https://www.smogon.com/dex/media/sprites/rs/tympole.png: Not Found\n",
      "did not find https://www.smogon.com/dex/media/sprites/dp/tympole.png: Not Found\n"
     ]
    },
    {
     "name": "stderr",
     "output_type": "stream",
     "text": [
      " 53%|█████████████████████████████████████████▋                                    | 695/1300 [45:49<40:24,  4.01s/it]"
     ]
    },
    {
     "name": "stdout",
     "output_type": "stream",
     "text": [
      "did not find https://www.smogon.com/dex/media/sprites/rb/palpitoad.png: Not Found\n",
      "did not find https://www.smogon.com/dex/media/sprites/c/palpitoad.gif: Not Found\n",
      "did not find https://www.smogon.com/dex/media/sprites/rs/palpitoad.png: Not Found\n",
      "did not find https://www.smogon.com/dex/media/sprites/dp/palpitoad.png: Not Found\n"
     ]
    },
    {
     "name": "stderr",
     "output_type": "stream",
     "text": [
      " 54%|█████████████████████████████████████████▊                                    | 696/1300 [45:53<40:25,  4.02s/it]"
     ]
    },
    {
     "name": "stdout",
     "output_type": "stream",
     "text": [
      "did not find https://www.smogon.com/dex/media/sprites/rb/seismitoad.png: Not Found\n",
      "did not find https://www.smogon.com/dex/media/sprites/c/seismitoad.gif: Not Found\n",
      "did not find https://www.smogon.com/dex/media/sprites/rs/seismitoad.png: Not Found\n",
      "did not find https://www.smogon.com/dex/media/sprites/dp/seismitoad.png: Not Found\n"
     ]
    },
    {
     "name": "stderr",
     "output_type": "stream",
     "text": [
      " 54%|█████████████████████████████████████████▊                                    | 697/1300 [45:58<40:50,  4.06s/it]"
     ]
    },
    {
     "name": "stdout",
     "output_type": "stream",
     "text": [
      "did not find https://www.smogon.com/dex/media/sprites/rb/throh.png: Not Found\n",
      "did not find https://www.smogon.com/dex/media/sprites/c/throh.gif: Not Found\n",
      "did not find https://www.smogon.com/dex/media/sprites/rs/throh.png: Not Found\n",
      "did not find https://www.smogon.com/dex/media/sprites/dp/throh.png: Not Found\n"
     ]
    },
    {
     "name": "stderr",
     "output_type": "stream",
     "text": [
      " 54%|█████████████████████████████████████████▉                                    | 698/1300 [46:02<43:23,  4.33s/it]"
     ]
    },
    {
     "name": "stdout",
     "output_type": "stream",
     "text": [
      "did not find https://www.smogon.com/dex/media/sprites/rb/sawk.png: Not Found\n",
      "did not find https://www.smogon.com/dex/media/sprites/c/sawk.gif: Not Found\n",
      "did not find https://www.smogon.com/dex/media/sprites/rs/sawk.png: Not Found\n",
      "did not find https://www.smogon.com/dex/media/sprites/dp/sawk.png: Not Found\n"
     ]
    },
    {
     "name": "stderr",
     "output_type": "stream",
     "text": [
      " 54%|█████████████████████████████████████████▉                                    | 699/1300 [46:07<42:31,  4.24s/it]"
     ]
    },
    {
     "name": "stdout",
     "output_type": "stream",
     "text": [
      "did not find https://www.smogon.com/dex/media/sprites/rb/sewaddle.png: Not Found\n",
      "did not find https://www.smogon.com/dex/media/sprites/c/sewaddle.gif: Not Found\n",
      "did not find https://www.smogon.com/dex/media/sprites/rs/sewaddle.png: Not Found\n",
      "did not find https://www.smogon.com/dex/media/sprites/dp/sewaddle.png: Not Found\n"
     ]
    },
    {
     "name": "stderr",
     "output_type": "stream",
     "text": [
      " 54%|██████████████████████████████████████████                                    | 700/1300 [46:10<41:29,  4.15s/it]"
     ]
    },
    {
     "name": "stdout",
     "output_type": "stream",
     "text": [
      "did not find https://www.smogon.com/dex/media/sprites/rb/swadloon.png: Not Found\n",
      "did not find https://www.smogon.com/dex/media/sprites/c/swadloon.gif: Not Found\n",
      "did not find https://www.smogon.com/dex/media/sprites/rs/swadloon.png: Not Found\n",
      "did not find https://www.smogon.com/dex/media/sprites/dp/swadloon.png: Not Found\n"
     ]
    },
    {
     "name": "stderr",
     "output_type": "stream",
     "text": [
      " 54%|██████████████████████████████████████████                                    | 701/1300 [46:14<40:48,  4.09s/it]"
     ]
    },
    {
     "name": "stdout",
     "output_type": "stream",
     "text": [
      "did not find https://www.smogon.com/dex/media/sprites/rb/leavanny.png: Not Found\n",
      "did not find https://www.smogon.com/dex/media/sprites/c/leavanny.gif: Not Found\n",
      "did not find https://www.smogon.com/dex/media/sprites/rs/leavanny.png: Not Found\n",
      "did not find https://www.smogon.com/dex/media/sprites/dp/leavanny.png: Not Found\n"
     ]
    },
    {
     "name": "stderr",
     "output_type": "stream",
     "text": [
      " 54%|██████████████████████████████████████████                                    | 702/1300 [46:18<40:13,  4.04s/it]"
     ]
    },
    {
     "name": "stdout",
     "output_type": "stream",
     "text": [
      "did not find https://www.smogon.com/dex/media/sprites/rb/venipede.png: Not Found\n",
      "did not find https://www.smogon.com/dex/media/sprites/c/venipede.gif: Not Found\n",
      "did not find https://www.smogon.com/dex/media/sprites/rs/venipede.png: Not Found\n",
      "did not find https://www.smogon.com/dex/media/sprites/dp/venipede.png: Not Found\n"
     ]
    },
    {
     "name": "stderr",
     "output_type": "stream",
     "text": [
      " 54%|██████████████████████████████████████████▏                                   | 703/1300 [46:22<39:39,  3.99s/it]"
     ]
    },
    {
     "name": "stdout",
     "output_type": "stream",
     "text": [
      "did not find https://www.smogon.com/dex/media/sprites/rb/whirlipede.png: Not Found\n",
      "did not find https://www.smogon.com/dex/media/sprites/c/whirlipede.gif: Not Found\n",
      "did not find https://www.smogon.com/dex/media/sprites/rs/whirlipede.png: Not Found\n",
      "did not find https://www.smogon.com/dex/media/sprites/dp/whirlipede.png: Not Found\n"
     ]
    },
    {
     "name": "stderr",
     "output_type": "stream",
     "text": [
      " 54%|██████████████████████████████████████████▏                                   | 704/1300 [46:26<40:26,  4.07s/it]"
     ]
    },
    {
     "name": "stdout",
     "output_type": "stream",
     "text": [
      "did not find https://www.smogon.com/dex/media/sprites/rb/scolipede.png: Not Found\n",
      "did not find https://www.smogon.com/dex/media/sprites/c/scolipede.gif: Not Found\n",
      "did not find https://www.smogon.com/dex/media/sprites/rs/scolipede.png: Not Found\n",
      "did not find https://www.smogon.com/dex/media/sprites/dp/scolipede.png: Not Found\n"
     ]
    },
    {
     "name": "stderr",
     "output_type": "stream",
     "text": [
      " 54%|██████████████████████████████████████████▎                                   | 705/1300 [46:31<41:10,  4.15s/it]"
     ]
    },
    {
     "name": "stdout",
     "output_type": "stream",
     "text": [
      "did not find https://www.smogon.com/dex/media/sprites/rb/cottonee.png: Not Found\n",
      "did not find https://www.smogon.com/dex/media/sprites/c/cottonee.gif: Not Found\n",
      "did not find https://www.smogon.com/dex/media/sprites/rs/cottonee.png: Not Found\n",
      "did not find https://www.smogon.com/dex/media/sprites/dp/cottonee.png: Not Found\n"
     ]
    },
    {
     "name": "stderr",
     "output_type": "stream",
     "text": [
      " 54%|██████████████████████████████████████████▎                                   | 706/1300 [46:35<41:02,  4.15s/it]"
     ]
    },
    {
     "name": "stdout",
     "output_type": "stream",
     "text": [
      "did not find https://www.smogon.com/dex/media/sprites/rb/whimsicott.png: Not Found\n",
      "did not find https://www.smogon.com/dex/media/sprites/c/whimsicott.gif: Not Found\n",
      "did not find https://www.smogon.com/dex/media/sprites/rs/whimsicott.png: Not Found\n",
      "did not find https://www.smogon.com/dex/media/sprites/dp/whimsicott.png: Not Found\n"
     ]
    },
    {
     "name": "stderr",
     "output_type": "stream",
     "text": [
      " 54%|██████████████████████████████████████████▍                                   | 707/1300 [46:39<41:07,  4.16s/it]"
     ]
    },
    {
     "name": "stdout",
     "output_type": "stream",
     "text": [
      "did not find https://www.smogon.com/dex/media/sprites/rb/petilil.png: Not Found\n",
      "did not find https://www.smogon.com/dex/media/sprites/c/petilil.gif: Not Found\n",
      "did not find https://www.smogon.com/dex/media/sprites/rs/petilil.png: Not Found\n",
      "did not find https://www.smogon.com/dex/media/sprites/dp/petilil.png: Not Found\n"
     ]
    },
    {
     "name": "stderr",
     "output_type": "stream",
     "text": [
      " 54%|██████████████████████████████████████████▍                                   | 708/1300 [46:43<40:19,  4.09s/it]"
     ]
    },
    {
     "name": "stdout",
     "output_type": "stream",
     "text": [
      "did not find https://www.smogon.com/dex/media/sprites/rb/lilligant.png: Not Found\n",
      "did not find https://www.smogon.com/dex/media/sprites/c/lilligant.gif: Not Found\n",
      "did not find https://www.smogon.com/dex/media/sprites/rs/lilligant.png: Not Found\n",
      "did not find https://www.smogon.com/dex/media/sprites/dp/lilligant.png: Not Found\n"
     ]
    },
    {
     "name": "stderr",
     "output_type": "stream",
     "text": [
      " 55%|██████████████████████████████████████████▌                                   | 709/1300 [46:47<40:00,  4.06s/it]"
     ]
    },
    {
     "name": "stdout",
     "output_type": "stream",
     "text": [
      "did not find https://www.smogon.com/dex/media/sprites/rb/lilligant-hisui.png: Not Found\n",
      "did not find https://www.smogon.com/dex/media/sprites/c/lilligant-hisui.gif: Not Found\n",
      "did not find https://www.smogon.com/dex/media/sprites/rs/lilligant-hisui.png: Not Found\n",
      "did not find https://www.smogon.com/dex/media/sprites/dp/lilligant-hisui.png: Not Found\n",
      "did not find https://www.smogon.com/dex/media/sprites/bw/lilligant-hisui.gif: Not Found\n"
     ]
    },
    {
     "name": "stderr",
     "output_type": "stream",
     "text": [
      " 55%|██████████████████████████████████████████▌                                   | 710/1300 [46:51<38:25,  3.91s/it]"
     ]
    },
    {
     "name": "stdout",
     "output_type": "stream",
     "text": [
      "did not find https://www.smogon.com/dex/media/sprites/rb/basculin.png: Not Found\n",
      "did not find https://www.smogon.com/dex/media/sprites/c/basculin.gif: Not Found\n",
      "did not find https://www.smogon.com/dex/media/sprites/rs/basculin.png: Not Found\n",
      "did not find https://www.smogon.com/dex/media/sprites/dp/basculin.png: Not Found\n"
     ]
    },
    {
     "name": "stderr",
     "output_type": "stream",
     "text": [
      " 55%|██████████████████████████████████████████▋                                   | 711/1300 [46:54<38:11,  3.89s/it]"
     ]
    },
    {
     "name": "stdout",
     "output_type": "stream",
     "text": [
      "did not find https://www.smogon.com/dex/media/sprites/rb/basculin-blue-striped.png: Not Found\n",
      "did not find https://www.smogon.com/dex/media/sprites/c/basculin-blue-striped.gif: Not Found\n",
      "did not find https://www.smogon.com/dex/media/sprites/rs/basculin-blue-striped.png: Not Found\n",
      "did not find https://www.smogon.com/dex/media/sprites/dp/basculin-blue-striped.png: Not Found\n",
      "did not find https://www.smogon.com/dex/media/sprites/bw/basculin-blue-striped.gif: Not Found\n"
     ]
    },
    {
     "name": "stderr",
     "output_type": "stream",
     "text": [
      " 55%|██████████████████████████████████████████▋                                   | 712/1300 [46:58<37:49,  3.86s/it]"
     ]
    },
    {
     "name": "stdout",
     "output_type": "stream",
     "text": [
      "did not find https://www.smogon.com/dex/media/sprites/rb/basculin-white-striped.png: Not Found\n",
      "did not find https://www.smogon.com/dex/media/sprites/c/basculin-white-striped.gif: Not Found\n",
      "did not find https://www.smogon.com/dex/media/sprites/rs/basculin-white-striped.png: Not Found\n",
      "did not find https://www.smogon.com/dex/media/sprites/dp/basculin-white-striped.png: Not Found\n",
      "did not find https://www.smogon.com/dex/media/sprites/bw/basculin-white-striped.gif: Not Found\n"
     ]
    },
    {
     "name": "stderr",
     "output_type": "stream",
     "text": [
      " 55%|██████████████████████████████████████████▊                                   | 713/1300 [47:02<37:10,  3.80s/it]"
     ]
    },
    {
     "name": "stdout",
     "output_type": "stream",
     "text": [
      "did not find https://www.smogon.com/dex/media/sprites/rb/sandile.png: Not Found\n",
      "did not find https://www.smogon.com/dex/media/sprites/c/sandile.gif: Not Found\n",
      "did not find https://www.smogon.com/dex/media/sprites/rs/sandile.png: Not Found\n",
      "did not find https://www.smogon.com/dex/media/sprites/dp/sandile.png: Not Found\n"
     ]
    },
    {
     "name": "stderr",
     "output_type": "stream",
     "text": [
      " 55%|██████████████████████████████████████████▊                                   | 714/1300 [47:06<37:37,  3.85s/it]"
     ]
    },
    {
     "name": "stdout",
     "output_type": "stream",
     "text": [
      "did not find https://www.smogon.com/dex/media/sprites/rb/krokorok.png: Not Found\n",
      "did not find https://www.smogon.com/dex/media/sprites/c/krokorok.gif: Not Found\n",
      "did not find https://www.smogon.com/dex/media/sprites/rs/krokorok.png: Not Found\n",
      "did not find https://www.smogon.com/dex/media/sprites/dp/krokorok.png: Not Found\n"
     ]
    },
    {
     "name": "stderr",
     "output_type": "stream",
     "text": [
      " 55%|██████████████████████████████████████████▉                                   | 715/1300 [47:10<38:00,  3.90s/it]"
     ]
    },
    {
     "name": "stdout",
     "output_type": "stream",
     "text": [
      "did not find https://www.smogon.com/dex/media/sprites/rb/krookodile.png: Not Found\n",
      "did not find https://www.smogon.com/dex/media/sprites/c/krookodile.gif: Not Found\n",
      "did not find https://www.smogon.com/dex/media/sprites/rs/krookodile.png: Not Found\n",
      "did not find https://www.smogon.com/dex/media/sprites/dp/krookodile.png: Not Found\n"
     ]
    },
    {
     "name": "stderr",
     "output_type": "stream",
     "text": [
      " 55%|██████████████████████████████████████████▉                                   | 716/1300 [47:14<38:30,  3.96s/it]"
     ]
    },
    {
     "name": "stdout",
     "output_type": "stream",
     "text": [
      "did not find https://www.smogon.com/dex/media/sprites/rb/darumaka.png: Not Found\n",
      "did not find https://www.smogon.com/dex/media/sprites/c/darumaka.gif: Not Found\n",
      "did not find https://www.smogon.com/dex/media/sprites/rs/darumaka.png: Not Found\n",
      "did not find https://www.smogon.com/dex/media/sprites/dp/darumaka.png: Not Found\n"
     ]
    },
    {
     "name": "stderr",
     "output_type": "stream",
     "text": [
      " 55%|███████████████████████████████████████████                                   | 717/1300 [47:18<38:18,  3.94s/it]"
     ]
    },
    {
     "name": "stdout",
     "output_type": "stream",
     "text": [
      "did not find https://www.smogon.com/dex/media/sprites/rb/darumaka-galar.png: Not Found\n",
      "did not find https://www.smogon.com/dex/media/sprites/c/darumaka-galar.gif: Not Found\n",
      "did not find https://www.smogon.com/dex/media/sprites/rs/darumaka-galar.png: Not Found\n",
      "did not find https://www.smogon.com/dex/media/sprites/dp/darumaka-galar.png: Not Found\n",
      "did not find https://www.smogon.com/dex/media/sprites/bw/darumaka-galar.gif: Not Found\n"
     ]
    },
    {
     "name": "stderr",
     "output_type": "stream",
     "text": [
      " 55%|███████████████████████████████████████████                                   | 718/1300 [47:22<38:04,  3.93s/it]"
     ]
    },
    {
     "name": "stdout",
     "output_type": "stream",
     "text": [
      "did not find https://www.smogon.com/dex/media/sprites/rb/darmanitan.png: Not Found\n",
      "did not find https://www.smogon.com/dex/media/sprites/c/darmanitan.gif: Not Found\n",
      "did not find https://www.smogon.com/dex/media/sprites/rs/darmanitan.png: Not Found\n",
      "did not find https://www.smogon.com/dex/media/sprites/dp/darmanitan.png: Not Found\n"
     ]
    },
    {
     "name": "stderr",
     "output_type": "stream",
     "text": [
      " 55%|███████████████████████████████████████████▏                                  | 719/1300 [47:26<38:56,  4.02s/it]"
     ]
    },
    {
     "name": "stdout",
     "output_type": "stream",
     "text": [
      "did not find https://www.smogon.com/dex/media/sprites/rb/darmanitan-zen.png: Not Found\n",
      "did not find https://www.smogon.com/dex/media/sprites/c/darmanitan-zen.gif: Not Found\n",
      "did not find https://www.smogon.com/dex/media/sprites/rs/darmanitan-zen.png: Not Found\n",
      "did not find https://www.smogon.com/dex/media/sprites/dp/darmanitan-zen.png: Not Found\n"
     ]
    },
    {
     "name": "stderr",
     "output_type": "stream",
     "text": [
      " 55%|███████████████████████████████████████████▏                                  | 720/1300 [47:30<38:04,  3.94s/it]"
     ]
    },
    {
     "name": "stdout",
     "output_type": "stream",
     "text": [
      "did not find https://www.smogon.com/dex/media/sprites/rb/darmanitan-galar.png: Not Found\n",
      "did not find https://www.smogon.com/dex/media/sprites/c/darmanitan-galar.gif: Not Found\n",
      "did not find https://www.smogon.com/dex/media/sprites/rs/darmanitan-galar.png: Not Found\n",
      "did not find https://www.smogon.com/dex/media/sprites/dp/darmanitan-galar.png: Not Found\n",
      "did not find https://www.smogon.com/dex/media/sprites/bw/darmanitan-galar.gif: Not Found\n"
     ]
    },
    {
     "name": "stderr",
     "output_type": "stream",
     "text": [
      " 55%|███████████████████████████████████████████▎                                  | 721/1300 [47:34<38:10,  3.96s/it]"
     ]
    },
    {
     "name": "stdout",
     "output_type": "stream",
     "text": [
      "did not find https://www.smogon.com/dex/media/sprites/rb/darmanitan-galar-zen.png: Not Found\n",
      "did not find https://www.smogon.com/dex/media/sprites/c/darmanitan-galar-zen.gif: Not Found\n",
      "did not find https://www.smogon.com/dex/media/sprites/rs/darmanitan-galar-zen.png: Not Found\n",
      "did not find https://www.smogon.com/dex/media/sprites/dp/darmanitan-galar-zen.png: Not Found\n",
      "did not find https://www.smogon.com/dex/media/sprites/bw/darmanitan-galar-zen.gif: Not Found\n"
     ]
    },
    {
     "name": "stderr",
     "output_type": "stream",
     "text": [
      " 56%|███████████████████████████████████████████▎                                  | 722/1300 [47:38<37:43,  3.92s/it]"
     ]
    },
    {
     "name": "stdout",
     "output_type": "stream",
     "text": [
      "did not find https://www.smogon.com/dex/media/sprites/rb/maractus.png: Not Found\n",
      "did not find https://www.smogon.com/dex/media/sprites/c/maractus.gif: Not Found\n",
      "did not find https://www.smogon.com/dex/media/sprites/rs/maractus.png: Not Found\n",
      "did not find https://www.smogon.com/dex/media/sprites/dp/maractus.png: Not Found\n"
     ]
    },
    {
     "name": "stderr",
     "output_type": "stream",
     "text": [
      " 56%|███████████████████████████████████████████▍                                  | 723/1300 [47:42<38:10,  3.97s/it]"
     ]
    },
    {
     "name": "stdout",
     "output_type": "stream",
     "text": [
      "did not find https://www.smogon.com/dex/media/sprites/rb/dwebble.png: Not Found\n",
      "did not find https://www.smogon.com/dex/media/sprites/c/dwebble.gif: Not Found\n",
      "did not find https://www.smogon.com/dex/media/sprites/rs/dwebble.png: Not Found\n",
      "did not find https://www.smogon.com/dex/media/sprites/dp/dwebble.png: Not Found\n"
     ]
    },
    {
     "name": "stderr",
     "output_type": "stream",
     "text": [
      " 56%|███████████████████████████████████████████▍                                  | 724/1300 [47:46<37:52,  3.95s/it]"
     ]
    },
    {
     "name": "stdout",
     "output_type": "stream",
     "text": [
      "did not find https://www.smogon.com/dex/media/sprites/rb/crustle.png: Not Found\n",
      "did not find https://www.smogon.com/dex/media/sprites/c/crustle.gif: Not Found\n",
      "did not find https://www.smogon.com/dex/media/sprites/rs/crustle.png: Not Found\n",
      "did not find https://www.smogon.com/dex/media/sprites/dp/crustle.png: Not Found\n"
     ]
    },
    {
     "name": "stderr",
     "output_type": "stream",
     "text": [
      " 56%|███████████████████████████████████████████▌                                  | 725/1300 [47:50<38:40,  4.04s/it]"
     ]
    },
    {
     "name": "stdout",
     "output_type": "stream",
     "text": [
      "did not find https://www.smogon.com/dex/media/sprites/rb/scraggy.png: Not Found\n",
      "did not find https://www.smogon.com/dex/media/sprites/c/scraggy.gif: Not Found\n",
      "did not find https://www.smogon.com/dex/media/sprites/rs/scraggy.png: Not Found\n",
      "did not find https://www.smogon.com/dex/media/sprites/dp/scraggy.png: Not Found\n"
     ]
    },
    {
     "name": "stderr",
     "output_type": "stream",
     "text": [
      " 56%|███████████████████████████████████████████▌                                  | 726/1300 [47:54<38:04,  3.98s/it]"
     ]
    },
    {
     "name": "stdout",
     "output_type": "stream",
     "text": [
      "did not find https://www.smogon.com/dex/media/sprites/rb/scrafty.png: Not Found\n",
      "did not find https://www.smogon.com/dex/media/sprites/c/scrafty.gif: Not Found\n",
      "did not find https://www.smogon.com/dex/media/sprites/rs/scrafty.png: Not Found\n",
      "did not find https://www.smogon.com/dex/media/sprites/dp/scrafty.png: Not Found\n"
     ]
    },
    {
     "name": "stderr",
     "output_type": "stream",
     "text": [
      " 56%|███████████████████████████████████████████▌                                  | 727/1300 [47:58<38:10,  4.00s/it]"
     ]
    },
    {
     "name": "stdout",
     "output_type": "stream",
     "text": [
      "did not find https://www.smogon.com/dex/media/sprites/rb/sigilyph.png: Not Found\n",
      "did not find https://www.smogon.com/dex/media/sprites/c/sigilyph.gif: Not Found\n",
      "did not find https://www.smogon.com/dex/media/sprites/rs/sigilyph.png: Not Found\n",
      "did not find https://www.smogon.com/dex/media/sprites/dp/sigilyph.png: Not Found\n"
     ]
    },
    {
     "name": "stderr",
     "output_type": "stream",
     "text": [
      " 56%|███████████████████████████████████████████▋                                  | 728/1300 [48:02<39:11,  4.11s/it]"
     ]
    },
    {
     "name": "stdout",
     "output_type": "stream",
     "text": [
      "did not find https://www.smogon.com/dex/media/sprites/rb/yamask.png: Not Found\n",
      "did not find https://www.smogon.com/dex/media/sprites/c/yamask.gif: Not Found\n",
      "did not find https://www.smogon.com/dex/media/sprites/rs/yamask.png: Not Found\n",
      "did not find https://www.smogon.com/dex/media/sprites/dp/yamask.png: Not Found\n"
     ]
    },
    {
     "name": "stderr",
     "output_type": "stream",
     "text": [
      " 56%|███████████████████████████████████████████▋                                  | 729/1300 [48:06<38:59,  4.10s/it]"
     ]
    },
    {
     "name": "stdout",
     "output_type": "stream",
     "text": [
      "did not find https://www.smogon.com/dex/media/sprites/rb/yamask-galar.png: Not Found\n",
      "did not find https://www.smogon.com/dex/media/sprites/c/yamask-galar.gif: Not Found\n",
      "did not find https://www.smogon.com/dex/media/sprites/rs/yamask-galar.png: Not Found\n",
      "did not find https://www.smogon.com/dex/media/sprites/dp/yamask-galar.png: Not Found\n",
      "did not find https://www.smogon.com/dex/media/sprites/bw/yamask-galar.gif: Not Found\n"
     ]
    },
    {
     "name": "stderr",
     "output_type": "stream",
     "text": [
      " 56%|███████████████████████████████████████████▊                                  | 730/1300 [48:10<38:41,  4.07s/it]"
     ]
    },
    {
     "name": "stdout",
     "output_type": "stream",
     "text": [
      "did not find https://www.smogon.com/dex/media/sprites/rb/cofagrigus.png: Not Found\n",
      "did not find https://www.smogon.com/dex/media/sprites/c/cofagrigus.gif: Not Found\n",
      "did not find https://www.smogon.com/dex/media/sprites/rs/cofagrigus.png: Not Found\n",
      "did not find https://www.smogon.com/dex/media/sprites/dp/cofagrigus.png: Not Found\n"
     ]
    },
    {
     "name": "stderr",
     "output_type": "stream",
     "text": [
      " 56%|███████████████████████████████████████████▊                                  | 731/1300 [48:14<38:34,  4.07s/it]"
     ]
    },
    {
     "name": "stdout",
     "output_type": "stream",
     "text": [
      "did not find https://www.smogon.com/dex/media/sprites/rb/tirtouga.png: Not Found\n",
      "did not find https://www.smogon.com/dex/media/sprites/c/tirtouga.gif: Not Found\n",
      "did not find https://www.smogon.com/dex/media/sprites/rs/tirtouga.png: Not Found\n",
      "did not find https://www.smogon.com/dex/media/sprites/dp/tirtouga.png: Not Found\n"
     ]
    },
    {
     "name": "stderr",
     "output_type": "stream",
     "text": [
      " 56%|███████████████████████████████████████████▉                                  | 732/1300 [48:18<38:44,  4.09s/it]"
     ]
    },
    {
     "name": "stdout",
     "output_type": "stream",
     "text": [
      "did not find https://www.smogon.com/dex/media/sprites/rb/carracosta.png: Not Found\n",
      "did not find https://www.smogon.com/dex/media/sprites/c/carracosta.gif: Not Found\n",
      "did not find https://www.smogon.com/dex/media/sprites/rs/carracosta.png: Not Found\n",
      "did not find https://www.smogon.com/dex/media/sprites/dp/carracosta.png: Not Found\n"
     ]
    },
    {
     "name": "stderr",
     "output_type": "stream",
     "text": [
      " 56%|███████████████████████████████████████████▉                                  | 733/1300 [48:23<38:56,  4.12s/it]"
     ]
    },
    {
     "name": "stdout",
     "output_type": "stream",
     "text": [
      "did not find https://www.smogon.com/dex/media/sprites/rb/archen.png: Not Found\n",
      "did not find https://www.smogon.com/dex/media/sprites/c/archen.gif: Not Found\n",
      "did not find https://www.smogon.com/dex/media/sprites/rs/archen.png: Not Found\n",
      "did not find https://www.smogon.com/dex/media/sprites/dp/archen.png: Not Found\n"
     ]
    },
    {
     "name": "stderr",
     "output_type": "stream",
     "text": [
      " 56%|████████████████████████████████████████████                                  | 734/1300 [48:27<38:30,  4.08s/it]"
     ]
    },
    {
     "name": "stdout",
     "output_type": "stream",
     "text": [
      "did not find https://www.smogon.com/dex/media/sprites/rb/archeops.png: Not Found\n",
      "did not find https://www.smogon.com/dex/media/sprites/c/archeops.gif: Not Found\n",
      "did not find https://www.smogon.com/dex/media/sprites/rs/archeops.png: Not Found\n",
      "did not find https://www.smogon.com/dex/media/sprites/dp/archeops.png: Not Found\n"
     ]
    },
    {
     "name": "stderr",
     "output_type": "stream",
     "text": [
      " 57%|████████████████████████████████████████████                                  | 735/1300 [48:31<38:18,  4.07s/it]"
     ]
    },
    {
     "name": "stdout",
     "output_type": "stream",
     "text": [
      "did not find https://www.smogon.com/dex/media/sprites/rb/trubbish.png: Not Found\n",
      "did not find https://www.smogon.com/dex/media/sprites/c/trubbish.gif: Not Found\n",
      "did not find https://www.smogon.com/dex/media/sprites/rs/trubbish.png: Not Found\n",
      "did not find https://www.smogon.com/dex/media/sprites/dp/trubbish.png: Not Found\n"
     ]
    },
    {
     "name": "stderr",
     "output_type": "stream",
     "text": [
      " 57%|████████████████████████████████████████████▏                                 | 736/1300 [48:35<38:03,  4.05s/it]"
     ]
    },
    {
     "name": "stdout",
     "output_type": "stream",
     "text": [
      "did not find https://www.smogon.com/dex/media/sprites/rb/garbodor.png: Not Found\n",
      "did not find https://www.smogon.com/dex/media/sprites/c/garbodor.gif: Not Found\n",
      "did not find https://www.smogon.com/dex/media/sprites/rs/garbodor.png: Not Found\n",
      "did not find https://www.smogon.com/dex/media/sprites/dp/garbodor.png: Not Found\n"
     ]
    },
    {
     "name": "stderr",
     "output_type": "stream",
     "text": [
      " 57%|████████████████████████████████████████████▏                                 | 737/1300 [48:39<38:16,  4.08s/it]"
     ]
    },
    {
     "name": "stdout",
     "output_type": "stream",
     "text": [
      "did not find https://www.smogon.com/dex/media/sprites/rb/garbodor-gmax.png: Not Found\n",
      "did not find https://www.smogon.com/dex/media/sprites/c/garbodor-gmax.gif: Not Found\n",
      "did not find https://www.smogon.com/dex/media/sprites/rs/garbodor-gmax.png: Not Found\n",
      "did not find https://www.smogon.com/dex/media/sprites/dp/garbodor-gmax.png: Not Found\n",
      "did not find https://www.smogon.com/dex/media/sprites/bw/garbodor-gmax.gif: Not Found\n"
     ]
    },
    {
     "name": "stderr",
     "output_type": "stream",
     "text": [
      " 57%|████████████████████████████████████████████▎                                 | 738/1300 [48:43<39:15,  4.19s/it]"
     ]
    },
    {
     "name": "stdout",
     "output_type": "stream",
     "text": [
      "did not find https://www.smogon.com/dex/media/sprites/rb/zorua.png: Not Found\n",
      "did not find https://www.smogon.com/dex/media/sprites/c/zorua.gif: Not Found\n",
      "did not find https://www.smogon.com/dex/media/sprites/rs/zorua.png: Not Found\n",
      "did not find https://www.smogon.com/dex/media/sprites/dp/zorua.png: Not Found\n"
     ]
    },
    {
     "name": "stderr",
     "output_type": "stream",
     "text": [
      " 57%|████████████████████████████████████████████▎                                 | 739/1300 [48:47<38:08,  4.08s/it]"
     ]
    },
    {
     "name": "stdout",
     "output_type": "stream",
     "text": [
      "did not find https://www.smogon.com/dex/media/sprites/rb/zorua-hisui.png: Not Found\n",
      "did not find https://www.smogon.com/dex/media/sprites/c/zorua-hisui.gif: Not Found\n",
      "did not find https://www.smogon.com/dex/media/sprites/rs/zorua-hisui.png: Not Found\n",
      "did not find https://www.smogon.com/dex/media/sprites/dp/zorua-hisui.png: Not Found\n",
      "did not find https://www.smogon.com/dex/media/sprites/bw/zorua-hisui.gif: Not Found\n"
     ]
    },
    {
     "name": "stderr",
     "output_type": "stream",
     "text": [
      " 57%|████████████████████████████████████████████▍                                 | 740/1300 [48:51<36:37,  3.92s/it]"
     ]
    },
    {
     "name": "stdout",
     "output_type": "stream",
     "text": [
      "did not find https://www.smogon.com/dex/media/sprites/rb/zoroark.png: Not Found\n",
      "did not find https://www.smogon.com/dex/media/sprites/c/zoroark.gif: Not Found\n",
      "did not find https://www.smogon.com/dex/media/sprites/rs/zoroark.png: Not Found\n",
      "did not find https://www.smogon.com/dex/media/sprites/dp/zoroark.png: Not Found\n"
     ]
    },
    {
     "name": "stderr",
     "output_type": "stream",
     "text": [
      " 57%|████████████████████████████████████████████▍                                 | 741/1300 [48:55<36:54,  3.96s/it]"
     ]
    },
    {
     "name": "stdout",
     "output_type": "stream",
     "text": [
      "did not find https://www.smogon.com/dex/media/sprites/rb/zoroark-hisui.png: Not Found\n",
      "did not find https://www.smogon.com/dex/media/sprites/c/zoroark-hisui.gif: Not Found\n",
      "did not find https://www.smogon.com/dex/media/sprites/rs/zoroark-hisui.png: Not Found\n",
      "did not find https://www.smogon.com/dex/media/sprites/dp/zoroark-hisui.png: Not Found\n",
      "did not find https://www.smogon.com/dex/media/sprites/bw/zoroark-hisui.gif: Not Found\n"
     ]
    },
    {
     "name": "stderr",
     "output_type": "stream",
     "text": [
      " 57%|████████████████████████████████████████████▌                                 | 742/1300 [48:58<35:54,  3.86s/it]"
     ]
    },
    {
     "name": "stdout",
     "output_type": "stream",
     "text": [
      "did not find https://www.smogon.com/dex/media/sprites/rb/minccino.png: Not Found\n",
      "did not find https://www.smogon.com/dex/media/sprites/c/minccino.gif: Not Found\n",
      "did not find https://www.smogon.com/dex/media/sprites/rs/minccino.png: Not Found\n",
      "did not find https://www.smogon.com/dex/media/sprites/dp/minccino.png: Not Found\n"
     ]
    },
    {
     "name": "stderr",
     "output_type": "stream",
     "text": [
      " 57%|████████████████████████████████████████████▌                                 | 743/1300 [49:02<36:20,  3.91s/it]"
     ]
    },
    {
     "name": "stdout",
     "output_type": "stream",
     "text": [
      "did not find https://www.smogon.com/dex/media/sprites/rb/cinccino.png: Not Found\n",
      "did not find https://www.smogon.com/dex/media/sprites/c/cinccino.gif: Not Found\n",
      "did not find https://www.smogon.com/dex/media/sprites/rs/cinccino.png: Not Found\n",
      "did not find https://www.smogon.com/dex/media/sprites/dp/cinccino.png: Not Found\n"
     ]
    },
    {
     "name": "stderr",
     "output_type": "stream",
     "text": [
      " 57%|████████████████████████████████████████████▋                                 | 744/1300 [49:06<36:13,  3.91s/it]"
     ]
    },
    {
     "name": "stdout",
     "output_type": "stream",
     "text": [
      "did not find https://www.smogon.com/dex/media/sprites/rb/gothita.png: Not Found\n",
      "did not find https://www.smogon.com/dex/media/sprites/c/gothita.gif: Not Found\n",
      "did not find https://www.smogon.com/dex/media/sprites/rs/gothita.png: Not Found\n",
      "did not find https://www.smogon.com/dex/media/sprites/dp/gothita.png: Not Found\n"
     ]
    },
    {
     "name": "stderr",
     "output_type": "stream",
     "text": [
      " 57%|████████████████████████████████████████████▋                                 | 745/1300 [49:10<35:59,  3.89s/it]"
     ]
    },
    {
     "name": "stdout",
     "output_type": "stream",
     "text": [
      "did not find https://www.smogon.com/dex/media/sprites/rb/gothorita.png: Not Found\n",
      "did not find https://www.smogon.com/dex/media/sprites/c/gothorita.gif: Not Found\n",
      "did not find https://www.smogon.com/dex/media/sprites/rs/gothorita.png: Not Found\n",
      "did not find https://www.smogon.com/dex/media/sprites/dp/gothorita.png: Not Found\n"
     ]
    },
    {
     "name": "stderr",
     "output_type": "stream",
     "text": [
      " 57%|████████████████████████████████████████████▊                                 | 746/1300 [49:14<36:08,  3.91s/it]"
     ]
    },
    {
     "name": "stdout",
     "output_type": "stream",
     "text": [
      "did not find https://www.smogon.com/dex/media/sprites/rb/gothitelle.png: Not Found\n",
      "did not find https://www.smogon.com/dex/media/sprites/c/gothitelle.gif: Not Found\n",
      "did not find https://www.smogon.com/dex/media/sprites/rs/gothitelle.png: Not Found\n",
      "did not find https://www.smogon.com/dex/media/sprites/dp/gothitelle.png: Not Found\n"
     ]
    },
    {
     "name": "stderr",
     "output_type": "stream",
     "text": [
      " 57%|████████████████████████████████████████████▊                                 | 747/1300 [49:18<36:29,  3.96s/it]"
     ]
    },
    {
     "name": "stdout",
     "output_type": "stream",
     "text": [
      "did not find https://www.smogon.com/dex/media/sprites/rb/solosis.png: Not Found\n",
      "did not find https://www.smogon.com/dex/media/sprites/c/solosis.gif: Not Found\n",
      "did not find https://www.smogon.com/dex/media/sprites/rs/solosis.png: Not Found\n",
      "did not find https://www.smogon.com/dex/media/sprites/dp/solosis.png: Not Found\n"
     ]
    },
    {
     "name": "stderr",
     "output_type": "stream",
     "text": [
      " 58%|████████████████████████████████████████████▉                                 | 748/1300 [49:22<36:10,  3.93s/it]"
     ]
    },
    {
     "name": "stdout",
     "output_type": "stream",
     "text": [
      "did not find https://www.smogon.com/dex/media/sprites/rb/duosion.png: Not Found\n",
      "did not find https://www.smogon.com/dex/media/sprites/c/duosion.gif: Not Found\n",
      "did not find https://www.smogon.com/dex/media/sprites/rs/duosion.png: Not Found\n",
      "did not find https://www.smogon.com/dex/media/sprites/dp/duosion.png: Not Found\n"
     ]
    },
    {
     "name": "stderr",
     "output_type": "stream",
     "text": [
      " 58%|████████████████████████████████████████████▉                                 | 749/1300 [49:26<36:12,  3.94s/it]"
     ]
    },
    {
     "name": "stdout",
     "output_type": "stream",
     "text": [
      "did not find https://www.smogon.com/dex/media/sprites/rb/reuniclus.png: Not Found\n",
      "did not find https://www.smogon.com/dex/media/sprites/c/reuniclus.gif: Not Found\n",
      "did not find https://www.smogon.com/dex/media/sprites/rs/reuniclus.png: Not Found\n",
      "did not find https://www.smogon.com/dex/media/sprites/dp/reuniclus.png: Not Found\n"
     ]
    },
    {
     "name": "stderr",
     "output_type": "stream",
     "text": [
      " 58%|████████████████████████████████████████████▉                                 | 750/1300 [49:30<36:48,  4.02s/it]"
     ]
    },
    {
     "name": "stdout",
     "output_type": "stream",
     "text": [
      "did not find https://www.smogon.com/dex/media/sprites/rb/ducklett.png: Not Found\n",
      "did not find https://www.smogon.com/dex/media/sprites/c/ducklett.gif: Not Found\n",
      "did not find https://www.smogon.com/dex/media/sprites/rs/ducklett.png: Not Found\n",
      "did not find https://www.smogon.com/dex/media/sprites/dp/ducklett.png: Not Found\n"
     ]
    },
    {
     "name": "stderr",
     "output_type": "stream",
     "text": [
      " 58%|█████████████████████████████████████████████                                 | 751/1300 [49:34<36:09,  3.95s/it]"
     ]
    },
    {
     "name": "stdout",
     "output_type": "stream",
     "text": [
      "did not find https://www.smogon.com/dex/media/sprites/rb/swanna.png: Not Found\n",
      "did not find https://www.smogon.com/dex/media/sprites/c/swanna.gif: Not Found\n",
      "did not find https://www.smogon.com/dex/media/sprites/rs/swanna.png: Not Found\n",
      "did not find https://www.smogon.com/dex/media/sprites/dp/swanna.png: Not Found\n"
     ]
    },
    {
     "name": "stderr",
     "output_type": "stream",
     "text": [
      " 58%|█████████████████████████████████████████████                                 | 752/1300 [49:38<36:12,  3.96s/it]"
     ]
    },
    {
     "name": "stdout",
     "output_type": "stream",
     "text": [
      "did not find https://www.smogon.com/dex/media/sprites/rb/vanillite.png: Not Found\n",
      "did not find https://www.smogon.com/dex/media/sprites/c/vanillite.gif: Not Found\n",
      "did not find https://www.smogon.com/dex/media/sprites/rs/vanillite.png: Not Found\n",
      "did not find https://www.smogon.com/dex/media/sprites/dp/vanillite.png: Not Found\n"
     ]
    },
    {
     "name": "stderr",
     "output_type": "stream",
     "text": [
      " 58%|█████████████████████████████████████████████▏                                | 753/1300 [49:42<35:54,  3.94s/it]"
     ]
    },
    {
     "name": "stdout",
     "output_type": "stream",
     "text": [
      "did not find https://www.smogon.com/dex/media/sprites/rb/vanillish.png: Not Found\n",
      "did not find https://www.smogon.com/dex/media/sprites/c/vanillish.gif: Not Found\n",
      "did not find https://www.smogon.com/dex/media/sprites/rs/vanillish.png: Not Found\n",
      "did not find https://www.smogon.com/dex/media/sprites/dp/vanillish.png: Not Found\n"
     ]
    },
    {
     "name": "stderr",
     "output_type": "stream",
     "text": [
      " 58%|█████████████████████████████████████████████▏                                | 754/1300 [49:46<36:10,  3.97s/it]"
     ]
    },
    {
     "name": "stdout",
     "output_type": "stream",
     "text": [
      "did not find https://www.smogon.com/dex/media/sprites/rb/vanilluxe.png: Not Found\n",
      "did not find https://www.smogon.com/dex/media/sprites/c/vanilluxe.gif: Not Found\n",
      "did not find https://www.smogon.com/dex/media/sprites/rs/vanilluxe.png: Not Found\n",
      "did not find https://www.smogon.com/dex/media/sprites/dp/vanilluxe.png: Not Found\n"
     ]
    },
    {
     "name": "stderr",
     "output_type": "stream",
     "text": [
      " 58%|█████████████████████████████████████████████▎                                | 755/1300 [49:50<36:46,  4.05s/it]"
     ]
    },
    {
     "name": "stdout",
     "output_type": "stream",
     "text": [
      "did not find https://www.smogon.com/dex/media/sprites/rb/deerling.png: Not Found\n",
      "did not find https://www.smogon.com/dex/media/sprites/c/deerling.gif: Not Found\n",
      "did not find https://www.smogon.com/dex/media/sprites/rs/deerling.png: Not Found\n",
      "did not find https://www.smogon.com/dex/media/sprites/dp/deerling.png: Not Found\n"
     ]
    },
    {
     "name": "stderr",
     "output_type": "stream",
     "text": [
      " 58%|█████████████████████████████████████████████▎                                | 756/1300 [49:54<36:38,  4.04s/it]"
     ]
    },
    {
     "name": "stdout",
     "output_type": "stream",
     "text": [
      "did not find https://www.smogon.com/dex/media/sprites/rb/sawsbuck.png: Not Found\n",
      "did not find https://www.smogon.com/dex/media/sprites/c/sawsbuck.gif: Not Found\n",
      "did not find https://www.smogon.com/dex/media/sprites/rs/sawsbuck.png: Not Found\n",
      "did not find https://www.smogon.com/dex/media/sprites/dp/sawsbuck.png: Not Found\n"
     ]
    },
    {
     "name": "stderr",
     "output_type": "stream",
     "text": [
      " 58%|█████████████████████████████████████████████▍                                | 757/1300 [49:58<36:40,  4.05s/it]"
     ]
    },
    {
     "name": "stdout",
     "output_type": "stream",
     "text": [
      "did not find https://www.smogon.com/dex/media/sprites/rb/emolga.png: Not Found\n",
      "did not find https://www.smogon.com/dex/media/sprites/c/emolga.gif: Not Found\n",
      "did not find https://www.smogon.com/dex/media/sprites/rs/emolga.png: Not Found\n",
      "did not find https://www.smogon.com/dex/media/sprites/dp/emolga.png: Not Found\n"
     ]
    },
    {
     "name": "stderr",
     "output_type": "stream",
     "text": [
      " 58%|█████████████████████████████████████████████▍                                | 758/1300 [50:02<36:35,  4.05s/it]"
     ]
    },
    {
     "name": "stdout",
     "output_type": "stream",
     "text": [
      "did not find https://www.smogon.com/dex/media/sprites/rb/karrablast.png: Not Found\n",
      "did not find https://www.smogon.com/dex/media/sprites/c/karrablast.gif: Not Found\n",
      "did not find https://www.smogon.com/dex/media/sprites/rs/karrablast.png: Not Found\n",
      "did not find https://www.smogon.com/dex/media/sprites/dp/karrablast.png: Not Found\n"
     ]
    },
    {
     "name": "stderr",
     "output_type": "stream",
     "text": [
      " 58%|█████████████████████████████████████████████▌                                | 759/1300 [50:06<35:51,  3.98s/it]"
     ]
    },
    {
     "name": "stdout",
     "output_type": "stream",
     "text": [
      "did not find https://www.smogon.com/dex/media/sprites/rb/escavalier.png: Not Found\n",
      "did not find https://www.smogon.com/dex/media/sprites/c/escavalier.gif: Not Found\n",
      "did not find https://www.smogon.com/dex/media/sprites/rs/escavalier.png: Not Found\n",
      "did not find https://www.smogon.com/dex/media/sprites/dp/escavalier.png: Not Found\n"
     ]
    },
    {
     "name": "stderr",
     "output_type": "stream",
     "text": [
      " 58%|█████████████████████████████████████████████▌                                | 760/1300 [50:10<36:26,  4.05s/it]"
     ]
    },
    {
     "name": "stdout",
     "output_type": "stream",
     "text": [
      "did not find https://www.smogon.com/dex/media/sprites/rb/foongus.png: Not Found\n",
      "did not find https://www.smogon.com/dex/media/sprites/c/foongus.gif: Not Found\n",
      "did not find https://www.smogon.com/dex/media/sprites/rs/foongus.png: Not Found\n",
      "did not find https://www.smogon.com/dex/media/sprites/dp/foongus.png: Not Found\n"
     ]
    },
    {
     "name": "stderr",
     "output_type": "stream",
     "text": [
      " 59%|█████████████████████████████████████████████▋                                | 761/1300 [50:14<35:46,  3.98s/it]"
     ]
    },
    {
     "name": "stdout",
     "output_type": "stream",
     "text": [
      "did not find https://www.smogon.com/dex/media/sprites/rb/amoonguss.png: Not Found\n",
      "did not find https://www.smogon.com/dex/media/sprites/c/amoonguss.gif: Not Found\n",
      "did not find https://www.smogon.com/dex/media/sprites/rs/amoonguss.png: Not Found\n",
      "did not find https://www.smogon.com/dex/media/sprites/dp/amoonguss.png: Not Found\n"
     ]
    },
    {
     "name": "stderr",
     "output_type": "stream",
     "text": [
      " 59%|█████████████████████████████████████████████▋                                | 762/1300 [50:18<35:48,  3.99s/it]"
     ]
    },
    {
     "name": "stdout",
     "output_type": "stream",
     "text": [
      "did not find https://www.smogon.com/dex/media/sprites/rb/frillish.png: Not Found\n",
      "did not find https://www.smogon.com/dex/media/sprites/c/frillish.gif: Not Found\n",
      "did not find https://www.smogon.com/dex/media/sprites/rs/frillish.png: Not Found\n",
      "did not find https://www.smogon.com/dex/media/sprites/dp/frillish.png: Not Found\n"
     ]
    },
    {
     "name": "stderr",
     "output_type": "stream",
     "text": [
      " 59%|█████████████████████████████████████████████▊                                | 763/1300 [50:22<36:15,  4.05s/it]"
     ]
    },
    {
     "name": "stdout",
     "output_type": "stream",
     "text": [
      "did not find https://www.smogon.com/dex/media/sprites/rb/jellicent.png: Not Found\n",
      "did not find https://www.smogon.com/dex/media/sprites/c/jellicent.gif: Not Found\n",
      "did not find https://www.smogon.com/dex/media/sprites/rs/jellicent.png: Not Found\n",
      "did not find https://www.smogon.com/dex/media/sprites/dp/jellicent.png: Not Found\n"
     ]
    },
    {
     "name": "stderr",
     "output_type": "stream",
     "text": [
      " 59%|█████████████████████████████████████████████▊                                | 764/1300 [50:26<36:35,  4.10s/it]"
     ]
    },
    {
     "name": "stdout",
     "output_type": "stream",
     "text": [
      "did not find https://www.smogon.com/dex/media/sprites/rb/alomomola.png: Not Found\n",
      "did not find https://www.smogon.com/dex/media/sprites/c/alomomola.gif: Not Found\n",
      "did not find https://www.smogon.com/dex/media/sprites/rs/alomomola.png: Not Found\n",
      "did not find https://www.smogon.com/dex/media/sprites/dp/alomomola.png: Not Found\n"
     ]
    },
    {
     "name": "stderr",
     "output_type": "stream",
     "text": [
      " 59%|█████████████████████████████████████████████▉                                | 765/1300 [50:30<35:59,  4.04s/it]"
     ]
    },
    {
     "name": "stdout",
     "output_type": "stream",
     "text": [
      "did not find https://www.smogon.com/dex/media/sprites/rb/joltik.png: Not Found\n",
      "did not find https://www.smogon.com/dex/media/sprites/c/joltik.gif: Not Found\n",
      "did not find https://www.smogon.com/dex/media/sprites/rs/joltik.png: Not Found\n",
      "did not find https://www.smogon.com/dex/media/sprites/dp/joltik.png: Not Found\n"
     ]
    },
    {
     "name": "stderr",
     "output_type": "stream",
     "text": [
      " 59%|█████████████████████████████████████████████▉                                | 766/1300 [50:34<34:53,  3.92s/it]"
     ]
    },
    {
     "name": "stdout",
     "output_type": "stream",
     "text": [
      "did not find https://www.smogon.com/dex/media/sprites/rb/galvantula.png: Not Found\n",
      "did not find https://www.smogon.com/dex/media/sprites/c/galvantula.gif: Not Found\n",
      "did not find https://www.smogon.com/dex/media/sprites/rs/galvantula.png: Not Found\n",
      "did not find https://www.smogon.com/dex/media/sprites/dp/galvantula.png: Not Found\n"
     ]
    },
    {
     "name": "stderr",
     "output_type": "stream",
     "text": [
      " 59%|██████████████████████████████████████████████                                | 767/1300 [50:38<35:28,  3.99s/it]"
     ]
    },
    {
     "name": "stdout",
     "output_type": "stream",
     "text": [
      "did not find https://www.smogon.com/dex/media/sprites/rb/ferroseed.png: Not Found\n",
      "did not find https://www.smogon.com/dex/media/sprites/c/ferroseed.gif: Not Found\n",
      "did not find https://www.smogon.com/dex/media/sprites/rs/ferroseed.png: Not Found\n",
      "did not find https://www.smogon.com/dex/media/sprites/dp/ferroseed.png: Not Found\n"
     ]
    },
    {
     "name": "stderr",
     "output_type": "stream",
     "text": [
      " 59%|██████████████████████████████████████████████                                | 768/1300 [50:42<35:21,  3.99s/it]"
     ]
    },
    {
     "name": "stdout",
     "output_type": "stream",
     "text": [
      "did not find https://www.smogon.com/dex/media/sprites/rb/ferrothorn.png: Not Found\n",
      "did not find https://www.smogon.com/dex/media/sprites/c/ferrothorn.gif: Not Found\n",
      "did not find https://www.smogon.com/dex/media/sprites/rs/ferrothorn.png: Not Found\n",
      "did not find https://www.smogon.com/dex/media/sprites/dp/ferrothorn.png: Not Found\n"
     ]
    },
    {
     "name": "stderr",
     "output_type": "stream",
     "text": [
      " 59%|██████████████████████████████████████████████▏                               | 769/1300 [50:46<35:33,  4.02s/it]"
     ]
    },
    {
     "name": "stdout",
     "output_type": "stream",
     "text": [
      "did not find https://www.smogon.com/dex/media/sprites/rb/klink.png: Not Found\n",
      "did not find https://www.smogon.com/dex/media/sprites/c/klink.gif: Not Found\n",
      "did not find https://www.smogon.com/dex/media/sprites/rs/klink.png: Not Found\n",
      "did not find https://www.smogon.com/dex/media/sprites/dp/klink.png: Not Found\n"
     ]
    },
    {
     "name": "stderr",
     "output_type": "stream",
     "text": [
      " 59%|██████████████████████████████████████████████▏                               | 770/1300 [50:50<34:59,  3.96s/it]"
     ]
    },
    {
     "name": "stdout",
     "output_type": "stream",
     "text": [
      "did not find https://www.smogon.com/dex/media/sprites/rb/klang.png: Not Found\n",
      "did not find https://www.smogon.com/dex/media/sprites/c/klang.gif: Not Found\n",
      "did not find https://www.smogon.com/dex/media/sprites/rs/klang.png: Not Found\n",
      "did not find https://www.smogon.com/dex/media/sprites/dp/klang.png: Not Found\n"
     ]
    },
    {
     "name": "stderr",
     "output_type": "stream",
     "text": [
      " 59%|██████████████████████████████████████████████▎                               | 771/1300 [50:54<35:09,  3.99s/it]"
     ]
    },
    {
     "name": "stdout",
     "output_type": "stream",
     "text": [
      "did not find https://www.smogon.com/dex/media/sprites/rb/klinklang.png: Not Found\n",
      "did not find https://www.smogon.com/dex/media/sprites/c/klinklang.gif: Not Found\n",
      "did not find https://www.smogon.com/dex/media/sprites/rs/klinklang.png: Not Found\n",
      "did not find https://www.smogon.com/dex/media/sprites/dp/klinklang.png: Not Found\n"
     ]
    },
    {
     "name": "stderr",
     "output_type": "stream",
     "text": [
      " 59%|██████████████████████████████████████████████▎                               | 772/1300 [50:58<34:57,  3.97s/it]"
     ]
    },
    {
     "name": "stdout",
     "output_type": "stream",
     "text": [
      "did not find https://www.smogon.com/dex/media/sprites/rb/tynamo.png: Not Found\n",
      "did not find https://www.smogon.com/dex/media/sprites/c/tynamo.gif: Not Found\n",
      "did not find https://www.smogon.com/dex/media/sprites/rs/tynamo.png: Not Found\n",
      "did not find https://www.smogon.com/dex/media/sprites/dp/tynamo.png: Not Found\n"
     ]
    },
    {
     "name": "stderr",
     "output_type": "stream",
     "text": [
      " 59%|██████████████████████████████████████████████▍                               | 773/1300 [51:02<35:09,  4.00s/it]"
     ]
    },
    {
     "name": "stdout",
     "output_type": "stream",
     "text": [
      "did not find https://www.smogon.com/dex/media/sprites/rb/eelektrik.png: Not Found\n",
      "did not find https://www.smogon.com/dex/media/sprites/c/eelektrik.gif: Not Found\n",
      "did not find https://www.smogon.com/dex/media/sprites/rs/eelektrik.png: Not Found\n",
      "did not find https://www.smogon.com/dex/media/sprites/dp/eelektrik.png: Not Found\n"
     ]
    },
    {
     "name": "stderr",
     "output_type": "stream",
     "text": [
      " 60%|██████████████████████████████████████████████▍                               | 774/1300 [51:06<35:11,  4.01s/it]"
     ]
    },
    {
     "name": "stdout",
     "output_type": "stream",
     "text": [
      "did not find https://www.smogon.com/dex/media/sprites/rb/eelektross.png: Not Found\n",
      "did not find https://www.smogon.com/dex/media/sprites/c/eelektross.gif: Not Found\n",
      "did not find https://www.smogon.com/dex/media/sprites/rs/eelektross.png: Not Found\n",
      "did not find https://www.smogon.com/dex/media/sprites/dp/eelektross.png: Not Found\n"
     ]
    },
    {
     "name": "stderr",
     "output_type": "stream",
     "text": [
      " 60%|██████████████████████████████████████████████▌                               | 775/1300 [51:10<35:34,  4.07s/it]"
     ]
    },
    {
     "name": "stdout",
     "output_type": "stream",
     "text": [
      "did not find https://www.smogon.com/dex/media/sprites/rb/elgyem.png: Not Found\n",
      "did not find https://www.smogon.com/dex/media/sprites/c/elgyem.gif: Not Found\n",
      "did not find https://www.smogon.com/dex/media/sprites/rs/elgyem.png: Not Found\n",
      "did not find https://www.smogon.com/dex/media/sprites/dp/elgyem.png: Not Found\n"
     ]
    },
    {
     "name": "stderr",
     "output_type": "stream",
     "text": [
      " 60%|██████████████████████████████████████████████▌                               | 776/1300 [51:14<35:16,  4.04s/it]"
     ]
    },
    {
     "name": "stdout",
     "output_type": "stream",
     "text": [
      "did not find https://www.smogon.com/dex/media/sprites/rb/beheeyem.png: Not Found\n",
      "did not find https://www.smogon.com/dex/media/sprites/c/beheeyem.gif: Not Found\n",
      "did not find https://www.smogon.com/dex/media/sprites/rs/beheeyem.png: Not Found\n",
      "did not find https://www.smogon.com/dex/media/sprites/dp/beheeyem.png: Not Found\n"
     ]
    },
    {
     "name": "stderr",
     "output_type": "stream",
     "text": [
      " 60%|██████████████████████████████████████████████▌                               | 777/1300 [51:18<34:57,  4.01s/it]"
     ]
    },
    {
     "name": "stdout",
     "output_type": "stream",
     "text": [
      "did not find https://www.smogon.com/dex/media/sprites/rb/litwick.png: Not Found\n",
      "did not find https://www.smogon.com/dex/media/sprites/c/litwick.gif: Not Found\n",
      "did not find https://www.smogon.com/dex/media/sprites/rs/litwick.png: Not Found\n",
      "did not find https://www.smogon.com/dex/media/sprites/dp/litwick.png: Not Found\n"
     ]
    },
    {
     "name": "stderr",
     "output_type": "stream",
     "text": [
      " 60%|██████████████████████████████████████████████▋                               | 778/1300 [51:22<34:36,  3.98s/it]"
     ]
    },
    {
     "name": "stdout",
     "output_type": "stream",
     "text": [
      "did not find https://www.smogon.com/dex/media/sprites/rb/lampent.png: Not Found\n",
      "did not find https://www.smogon.com/dex/media/sprites/c/lampent.gif: Not Found\n",
      "did not find https://www.smogon.com/dex/media/sprites/rs/lampent.png: Not Found\n",
      "did not find https://www.smogon.com/dex/media/sprites/dp/lampent.png: Not Found\n"
     ]
    },
    {
     "name": "stderr",
     "output_type": "stream",
     "text": [
      " 60%|██████████████████████████████████████████████▋                               | 779/1300 [51:26<34:33,  3.98s/it]"
     ]
    },
    {
     "name": "stdout",
     "output_type": "stream",
     "text": [
      "did not find https://www.smogon.com/dex/media/sprites/rb/chandelure.png: Not Found\n",
      "did not find https://www.smogon.com/dex/media/sprites/c/chandelure.gif: Not Found\n",
      "did not find https://www.smogon.com/dex/media/sprites/rs/chandelure.png: Not Found\n",
      "did not find https://www.smogon.com/dex/media/sprites/dp/chandelure.png: Not Found\n"
     ]
    },
    {
     "name": "stderr",
     "output_type": "stream",
     "text": [
      " 60%|██████████████████████████████████████████████▊                               | 780/1300 [51:30<34:53,  4.03s/it]"
     ]
    },
    {
     "name": "stdout",
     "output_type": "stream",
     "text": [
      "did not find https://www.smogon.com/dex/media/sprites/rb/axew.png: Not Found\n",
      "did not find https://www.smogon.com/dex/media/sprites/c/axew.gif: Not Found\n",
      "did not find https://www.smogon.com/dex/media/sprites/rs/axew.png: Not Found\n",
      "did not find https://www.smogon.com/dex/media/sprites/dp/axew.png: Not Found\n"
     ]
    },
    {
     "name": "stderr",
     "output_type": "stream",
     "text": [
      " 60%|██████████████████████████████████████████████▊                               | 781/1300 [51:34<34:31,  3.99s/it]"
     ]
    },
    {
     "name": "stdout",
     "output_type": "stream",
     "text": [
      "did not find https://www.smogon.com/dex/media/sprites/rb/fraxure.png: Not Found\n",
      "did not find https://www.smogon.com/dex/media/sprites/c/fraxure.gif: Not Found\n",
      "did not find https://www.smogon.com/dex/media/sprites/rs/fraxure.png: Not Found\n",
      "did not find https://www.smogon.com/dex/media/sprites/dp/fraxure.png: Not Found\n"
     ]
    },
    {
     "name": "stderr",
     "output_type": "stream",
     "text": [
      " 60%|██████████████████████████████████████████████▉                               | 782/1300 [51:38<34:20,  3.98s/it]"
     ]
    },
    {
     "name": "stdout",
     "output_type": "stream",
     "text": [
      "did not find https://www.smogon.com/dex/media/sprites/rb/haxorus.png: Not Found\n",
      "did not find https://www.smogon.com/dex/media/sprites/c/haxorus.gif: Not Found\n",
      "did not find https://www.smogon.com/dex/media/sprites/rs/haxorus.png: Not Found\n",
      "did not find https://www.smogon.com/dex/media/sprites/dp/haxorus.png: Not Found\n"
     ]
    },
    {
     "name": "stderr",
     "output_type": "stream",
     "text": [
      " 60%|██████████████████████████████████████████████▉                               | 783/1300 [51:42<35:12,  4.09s/it]"
     ]
    },
    {
     "name": "stdout",
     "output_type": "stream",
     "text": [
      "did not find https://www.smogon.com/dex/media/sprites/rb/cubchoo.png: Not Found\n",
      "did not find https://www.smogon.com/dex/media/sprites/c/cubchoo.gif: Not Found\n",
      "did not find https://www.smogon.com/dex/media/sprites/rs/cubchoo.png: Not Found\n",
      "did not find https://www.smogon.com/dex/media/sprites/dp/cubchoo.png: Not Found\n"
     ]
    },
    {
     "name": "stderr",
     "output_type": "stream",
     "text": [
      " 60%|███████████████████████████████████████████████                               | 784/1300 [51:46<34:29,  4.01s/it]"
     ]
    },
    {
     "name": "stdout",
     "output_type": "stream",
     "text": [
      "did not find https://www.smogon.com/dex/media/sprites/rb/beartic.png: Not Found\n",
      "did not find https://www.smogon.com/dex/media/sprites/c/beartic.gif: Not Found\n",
      "did not find https://www.smogon.com/dex/media/sprites/rs/beartic.png: Not Found\n",
      "did not find https://www.smogon.com/dex/media/sprites/dp/beartic.png: Not Found\n"
     ]
    },
    {
     "name": "stderr",
     "output_type": "stream",
     "text": [
      " 60%|███████████████████████████████████████████████                               | 785/1300 [51:51<35:00,  4.08s/it]"
     ]
    },
    {
     "name": "stdout",
     "output_type": "stream",
     "text": [
      "did not find https://www.smogon.com/dex/media/sprites/rb/cryogonal.png: Not Found\n",
      "did not find https://www.smogon.com/dex/media/sprites/c/cryogonal.gif: Not Found\n",
      "did not find https://www.smogon.com/dex/media/sprites/rs/cryogonal.png: Not Found\n",
      "did not find https://www.smogon.com/dex/media/sprites/dp/cryogonal.png: Not Found\n"
     ]
    },
    {
     "name": "stderr",
     "output_type": "stream",
     "text": [
      " 60%|███████████████████████████████████████████████▏                              | 786/1300 [51:55<35:27,  4.14s/it]"
     ]
    },
    {
     "name": "stdout",
     "output_type": "stream",
     "text": [
      "did not find https://www.smogon.com/dex/media/sprites/rb/shelmet.png: Not Found\n",
      "did not find https://www.smogon.com/dex/media/sprites/c/shelmet.gif: Not Found\n",
      "did not find https://www.smogon.com/dex/media/sprites/rs/shelmet.png: Not Found\n",
      "did not find https://www.smogon.com/dex/media/sprites/dp/shelmet.png: Not Found\n"
     ]
    },
    {
     "name": "stderr",
     "output_type": "stream",
     "text": [
      " 61%|███████████████████████████████████████████████▏                              | 787/1300 [51:59<34:45,  4.07s/it]"
     ]
    },
    {
     "name": "stdout",
     "output_type": "stream",
     "text": [
      "did not find https://www.smogon.com/dex/media/sprites/rb/accelgor.png: Not Found\n",
      "did not find https://www.smogon.com/dex/media/sprites/c/accelgor.gif: Not Found\n",
      "did not find https://www.smogon.com/dex/media/sprites/rs/accelgor.png: Not Found\n",
      "did not find https://www.smogon.com/dex/media/sprites/dp/accelgor.png: Not Found\n"
     ]
    },
    {
     "name": "stderr",
     "output_type": "stream",
     "text": [
      " 61%|███████████████████████████████████████████████▎                              | 788/1300 [52:03<34:27,  4.04s/it]"
     ]
    },
    {
     "name": "stdout",
     "output_type": "stream",
     "text": [
      "did not find https://www.smogon.com/dex/media/sprites/rb/stunfisk.png: Not Found\n",
      "did not find https://www.smogon.com/dex/media/sprites/c/stunfisk.gif: Not Found\n",
      "did not find https://www.smogon.com/dex/media/sprites/rs/stunfisk.png: Not Found\n",
      "did not find https://www.smogon.com/dex/media/sprites/dp/stunfisk.png: Not Found\n"
     ]
    },
    {
     "name": "stderr",
     "output_type": "stream",
     "text": [
      " 61%|███████████████████████████████████████████████▎                              | 789/1300 [52:07<33:57,  3.99s/it]"
     ]
    },
    {
     "name": "stdout",
     "output_type": "stream",
     "text": [
      "did not find https://www.smogon.com/dex/media/sprites/rb/stunfisk-galar.png: Not Found\n",
      "did not find https://www.smogon.com/dex/media/sprites/c/stunfisk-galar.gif: Not Found\n",
      "did not find https://www.smogon.com/dex/media/sprites/rs/stunfisk-galar.png: Not Found\n",
      "did not find https://www.smogon.com/dex/media/sprites/dp/stunfisk-galar.png: Not Found\n",
      "did not find https://www.smogon.com/dex/media/sprites/bw/stunfisk-galar.gif: Not Found\n"
     ]
    },
    {
     "name": "stderr",
     "output_type": "stream",
     "text": [
      " 61%|███████████████████████████████████████████████▍                              | 790/1300 [52:10<33:36,  3.95s/it]"
     ]
    },
    {
     "name": "stdout",
     "output_type": "stream",
     "text": [
      "did not find https://www.smogon.com/dex/media/sprites/rb/mienfoo.png: Not Found\n",
      "did not find https://www.smogon.com/dex/media/sprites/c/mienfoo.gif: Not Found\n",
      "did not find https://www.smogon.com/dex/media/sprites/rs/mienfoo.png: Not Found\n",
      "did not find https://www.smogon.com/dex/media/sprites/dp/mienfoo.png: Not Found\n"
     ]
    },
    {
     "name": "stderr",
     "output_type": "stream",
     "text": [
      " 61%|███████████████████████████████████████████████▍                              | 791/1300 [52:14<33:21,  3.93s/it]"
     ]
    },
    {
     "name": "stdout",
     "output_type": "stream",
     "text": [
      "did not find https://www.smogon.com/dex/media/sprites/rb/mienshao.png: Not Found\n",
      "did not find https://www.smogon.com/dex/media/sprites/c/mienshao.gif: Not Found\n",
      "did not find https://www.smogon.com/dex/media/sprites/rs/mienshao.png: Not Found\n",
      "did not find https://www.smogon.com/dex/media/sprites/dp/mienshao.png: Not Found\n"
     ]
    },
    {
     "name": "stderr",
     "output_type": "stream",
     "text": [
      " 61%|███████████████████████████████████████████████▌                              | 792/1300 [52:18<33:33,  3.96s/it]"
     ]
    },
    {
     "name": "stdout",
     "output_type": "stream",
     "text": [
      "did not find https://www.smogon.com/dex/media/sprites/rb/druddigon.png: Not Found\n",
      "did not find https://www.smogon.com/dex/media/sprites/c/druddigon.gif: Not Found\n",
      "did not find https://www.smogon.com/dex/media/sprites/rs/druddigon.png: Not Found\n",
      "did not find https://www.smogon.com/dex/media/sprites/dp/druddigon.png: Not Found\n"
     ]
    },
    {
     "name": "stderr",
     "output_type": "stream",
     "text": [
      " 61%|███████████████████████████████████████████████▌                              | 793/1300 [52:23<34:13,  4.05s/it]"
     ]
    },
    {
     "name": "stdout",
     "output_type": "stream",
     "text": [
      "did not find https://www.smogon.com/dex/media/sprites/rb/golett.png: Not Found\n",
      "did not find https://www.smogon.com/dex/media/sprites/c/golett.gif: Not Found\n",
      "did not find https://www.smogon.com/dex/media/sprites/rs/golett.png: Not Found\n",
      "did not find https://www.smogon.com/dex/media/sprites/dp/golett.png: Not Found\n"
     ]
    },
    {
     "name": "stderr",
     "output_type": "stream",
     "text": [
      " 61%|███████████████████████████████████████████████▋                              | 794/1300 [52:27<34:12,  4.06s/it]"
     ]
    },
    {
     "name": "stdout",
     "output_type": "stream",
     "text": [
      "did not find https://www.smogon.com/dex/media/sprites/rb/golurk.png: Not Found\n",
      "did not find https://www.smogon.com/dex/media/sprites/c/golurk.gif: Not Found\n",
      "did not find https://www.smogon.com/dex/media/sprites/rs/golurk.png: Not Found\n",
      "did not find https://www.smogon.com/dex/media/sprites/dp/golurk.png: Not Found\n"
     ]
    },
    {
     "name": "stderr",
     "output_type": "stream",
     "text": [
      " 61%|███████████████████████████████████████████████▋                              | 795/1300 [52:31<34:28,  4.10s/it]"
     ]
    },
    {
     "name": "stdout",
     "output_type": "stream",
     "text": [
      "did not find https://www.smogon.com/dex/media/sprites/rb/pawniard.png: Not Found\n",
      "did not find https://www.smogon.com/dex/media/sprites/c/pawniard.gif: Not Found\n",
      "did not find https://www.smogon.com/dex/media/sprites/rs/pawniard.png: Not Found\n",
      "did not find https://www.smogon.com/dex/media/sprites/dp/pawniard.png: Not Found\n"
     ]
    },
    {
     "name": "stderr",
     "output_type": "stream",
     "text": [
      " 61%|███████████████████████████████████████████████▊                              | 796/1300 [52:35<33:41,  4.01s/it]"
     ]
    },
    {
     "name": "stdout",
     "output_type": "stream",
     "text": [
      "did not find https://www.smogon.com/dex/media/sprites/rb/bisharp.png: Not Found\n",
      "did not find https://www.smogon.com/dex/media/sprites/c/bisharp.gif: Not Found\n",
      "did not find https://www.smogon.com/dex/media/sprites/rs/bisharp.png: Not Found\n",
      "did not find https://www.smogon.com/dex/media/sprites/dp/bisharp.png: Not Found\n"
     ]
    },
    {
     "name": "stderr",
     "output_type": "stream",
     "text": [
      " 61%|███████████████████████████████████████████████▊                              | 797/1300 [52:39<33:26,  3.99s/it]"
     ]
    },
    {
     "name": "stdout",
     "output_type": "stream",
     "text": [
      "did not find https://www.smogon.com/dex/media/sprites/rb/bouffalant.png: Not Found\n",
      "did not find https://www.smogon.com/dex/media/sprites/c/bouffalant.gif: Not Found\n",
      "did not find https://www.smogon.com/dex/media/sprites/rs/bouffalant.png: Not Found\n",
      "did not find https://www.smogon.com/dex/media/sprites/dp/bouffalant.png: Not Found\n"
     ]
    },
    {
     "name": "stderr",
     "output_type": "stream",
     "text": [
      " 61%|███████████████████████████████████████████████▉                              | 798/1300 [52:43<33:22,  3.99s/it]"
     ]
    },
    {
     "name": "stdout",
     "output_type": "stream",
     "text": [
      "did not find https://www.smogon.com/dex/media/sprites/rb/rufflet.png: Not Found\n",
      "did not find https://www.smogon.com/dex/media/sprites/c/rufflet.gif: Not Found\n",
      "did not find https://www.smogon.com/dex/media/sprites/rs/rufflet.png: Not Found\n",
      "did not find https://www.smogon.com/dex/media/sprites/dp/rufflet.png: Not Found\n"
     ]
    },
    {
     "name": "stderr",
     "output_type": "stream",
     "text": [
      " 61%|███████████████████████████████████████████████▉                              | 799/1300 [52:47<33:06,  3.97s/it]"
     ]
    },
    {
     "name": "stdout",
     "output_type": "stream",
     "text": [
      "did not find https://www.smogon.com/dex/media/sprites/rb/braviary.png: Not Found\n",
      "did not find https://www.smogon.com/dex/media/sprites/c/braviary.gif: Not Found\n",
      "did not find https://www.smogon.com/dex/media/sprites/rs/braviary.png: Not Found\n",
      "did not find https://www.smogon.com/dex/media/sprites/dp/braviary.png: Not Found\n"
     ]
    },
    {
     "name": "stderr",
     "output_type": "stream",
     "text": [
      " 62%|████████████████████████████████████████████████                              | 800/1300 [52:50<32:45,  3.93s/it]"
     ]
    },
    {
     "name": "stdout",
     "output_type": "stream",
     "text": [
      "did not find https://www.smogon.com/dex/media/sprites/rb/braviary-hisui.png: Not Found\n",
      "did not find https://www.smogon.com/dex/media/sprites/c/braviary-hisui.gif: Not Found\n",
      "did not find https://www.smogon.com/dex/media/sprites/rs/braviary-hisui.png: Not Found\n",
      "did not find https://www.smogon.com/dex/media/sprites/dp/braviary-hisui.png: Not Found\n",
      "did not find https://www.smogon.com/dex/media/sprites/bw/braviary-hisui.gif: Not Found\n"
     ]
    },
    {
     "name": "stderr",
     "output_type": "stream",
     "text": [
      " 62%|████████████████████████████████████████████████                              | 801/1300 [52:54<31:44,  3.82s/it]"
     ]
    },
    {
     "name": "stdout",
     "output_type": "stream",
     "text": [
      "did not find https://www.smogon.com/dex/media/sprites/rb/vullaby.png: Not Found\n",
      "did not find https://www.smogon.com/dex/media/sprites/c/vullaby.gif: Not Found\n",
      "did not find https://www.smogon.com/dex/media/sprites/rs/vullaby.png: Not Found\n",
      "did not find https://www.smogon.com/dex/media/sprites/dp/vullaby.png: Not Found\n"
     ]
    },
    {
     "name": "stderr",
     "output_type": "stream",
     "text": [
      " 62%|████████████████████████████████████████████████                              | 802/1300 [52:58<31:52,  3.84s/it]"
     ]
    },
    {
     "name": "stdout",
     "output_type": "stream",
     "text": [
      "did not find https://www.smogon.com/dex/media/sprites/rb/mandibuzz.png: Not Found\n",
      "did not find https://www.smogon.com/dex/media/sprites/c/mandibuzz.gif: Not Found\n",
      "did not find https://www.smogon.com/dex/media/sprites/rs/mandibuzz.png: Not Found\n",
      "did not find https://www.smogon.com/dex/media/sprites/dp/mandibuzz.png: Not Found\n"
     ]
    },
    {
     "name": "stderr",
     "output_type": "stream",
     "text": [
      " 62%|████████████████████████████████████████████████▏                             | 803/1300 [53:02<32:17,  3.90s/it]"
     ]
    },
    {
     "name": "stdout",
     "output_type": "stream",
     "text": [
      "did not find https://www.smogon.com/dex/media/sprites/rb/heatmor.png: Not Found\n",
      "did not find https://www.smogon.com/dex/media/sprites/c/heatmor.gif: Not Found\n",
      "did not find https://www.smogon.com/dex/media/sprites/rs/heatmor.png: Not Found\n",
      "did not find https://www.smogon.com/dex/media/sprites/dp/heatmor.png: Not Found\n"
     ]
    },
    {
     "name": "stderr",
     "output_type": "stream",
     "text": [
      " 62%|████████████████████████████████████████████████▏                             | 804/1300 [53:06<32:32,  3.94s/it]"
     ]
    },
    {
     "name": "stdout",
     "output_type": "stream",
     "text": [
      "did not find https://www.smogon.com/dex/media/sprites/rb/durant.png: Not Found\n",
      "did not find https://www.smogon.com/dex/media/sprites/c/durant.gif: Not Found\n",
      "did not find https://www.smogon.com/dex/media/sprites/rs/durant.png: Not Found\n",
      "did not find https://www.smogon.com/dex/media/sprites/dp/durant.png: Not Found\n"
     ]
    },
    {
     "name": "stderr",
     "output_type": "stream",
     "text": [
      " 62%|████████████████████████████████████████████████▎                             | 805/1300 [53:10<32:17,  3.91s/it]"
     ]
    },
    {
     "name": "stdout",
     "output_type": "stream",
     "text": [
      "did not find https://www.smogon.com/dex/media/sprites/rb/deino.png: Not Found\n",
      "did not find https://www.smogon.com/dex/media/sprites/c/deino.gif: Not Found\n",
      "did not find https://www.smogon.com/dex/media/sprites/rs/deino.png: Not Found\n",
      "did not find https://www.smogon.com/dex/media/sprites/dp/deino.png: Not Found\n"
     ]
    },
    {
     "name": "stderr",
     "output_type": "stream",
     "text": [
      " 62%|████████████████████████████████████████████████▎                             | 806/1300 [53:13<31:48,  3.86s/it]"
     ]
    },
    {
     "name": "stdout",
     "output_type": "stream",
     "text": [
      "did not find https://www.smogon.com/dex/media/sprites/rb/zweilous.png: Not Found\n",
      "did not find https://www.smogon.com/dex/media/sprites/c/zweilous.gif: Not Found\n",
      "did not find https://www.smogon.com/dex/media/sprites/rs/zweilous.png: Not Found\n",
      "did not find https://www.smogon.com/dex/media/sprites/dp/zweilous.png: Not Found\n"
     ]
    },
    {
     "name": "stderr",
     "output_type": "stream",
     "text": [
      " 62%|████████████████████████████████████████████████▍                             | 807/1300 [53:17<31:48,  3.87s/it]"
     ]
    },
    {
     "name": "stdout",
     "output_type": "stream",
     "text": [
      "did not find https://www.smogon.com/dex/media/sprites/rb/hydreigon.png: Not Found\n",
      "did not find https://www.smogon.com/dex/media/sprites/c/hydreigon.gif: Not Found\n",
      "did not find https://www.smogon.com/dex/media/sprites/rs/hydreigon.png: Not Found\n",
      "did not find https://www.smogon.com/dex/media/sprites/dp/hydreigon.png: Not Found\n"
     ]
    },
    {
     "name": "stderr",
     "output_type": "stream",
     "text": [
      " 62%|████████████████████████████████████████████████▍                             | 808/1300 [53:21<31:56,  3.89s/it]"
     ]
    },
    {
     "name": "stdout",
     "output_type": "stream",
     "text": [
      "did not find https://www.smogon.com/dex/media/sprites/rb/larvesta.png: Not Found\n",
      "did not find https://www.smogon.com/dex/media/sprites/c/larvesta.gif: Not Found\n",
      "did not find https://www.smogon.com/dex/media/sprites/rs/larvesta.png: Not Found\n",
      "did not find https://www.smogon.com/dex/media/sprites/dp/larvesta.png: Not Found\n"
     ]
    },
    {
     "name": "stderr",
     "output_type": "stream",
     "text": [
      " 62%|████████████████████████████████████████████████▌                             | 809/1300 [53:25<31:50,  3.89s/it]"
     ]
    },
    {
     "name": "stdout",
     "output_type": "stream",
     "text": [
      "did not find https://www.smogon.com/dex/media/sprites/rb/volcarona.png: Not Found\n",
      "did not find https://www.smogon.com/dex/media/sprites/c/volcarona.gif: Not Found\n",
      "did not find https://www.smogon.com/dex/media/sprites/rs/volcarona.png: Not Found\n",
      "did not find https://www.smogon.com/dex/media/sprites/dp/volcarona.png: Not Found\n"
     ]
    },
    {
     "name": "stderr",
     "output_type": "stream",
     "text": [
      " 62%|████████████████████████████████████████████████▌                             | 810/1300 [53:29<32:14,  3.95s/it]"
     ]
    },
    {
     "name": "stdout",
     "output_type": "stream",
     "text": [
      "did not find https://www.smogon.com/dex/media/sprites/rb/cobalion.png: Not Found\n",
      "did not find https://www.smogon.com/dex/media/sprites/c/cobalion.gif: Not Found\n",
      "did not find https://www.smogon.com/dex/media/sprites/rs/cobalion.png: Not Found\n",
      "did not find https://www.smogon.com/dex/media/sprites/dp/cobalion.png: Not Found\n"
     ]
    },
    {
     "name": "stderr",
     "output_type": "stream",
     "text": [
      " 62%|████████████████████████████████████████████████▋                             | 811/1300 [53:33<31:56,  3.92s/it]"
     ]
    },
    {
     "name": "stdout",
     "output_type": "stream",
     "text": [
      "did not find https://www.smogon.com/dex/media/sprites/rb/terrakion.png: Not Found\n",
      "did not find https://www.smogon.com/dex/media/sprites/c/terrakion.gif: Not Found\n",
      "did not find https://www.smogon.com/dex/media/sprites/rs/terrakion.png: Not Found\n",
      "did not find https://www.smogon.com/dex/media/sprites/dp/terrakion.png: Not Found\n"
     ]
    },
    {
     "name": "stderr",
     "output_type": "stream",
     "text": [
      " 62%|████████████████████████████████████████████████▋                             | 812/1300 [53:37<32:12,  3.96s/it]"
     ]
    },
    {
     "name": "stdout",
     "output_type": "stream",
     "text": [
      "did not find https://www.smogon.com/dex/media/sprites/rb/virizion.png: Not Found\n",
      "did not find https://www.smogon.com/dex/media/sprites/c/virizion.gif: Not Found\n",
      "did not find https://www.smogon.com/dex/media/sprites/rs/virizion.png: Not Found\n",
      "did not find https://www.smogon.com/dex/media/sprites/dp/virizion.png: Not Found\n"
     ]
    },
    {
     "name": "stderr",
     "output_type": "stream",
     "text": [
      " 63%|████████████████████████████████████████████████▊                             | 813/1300 [53:41<32:09,  3.96s/it]"
     ]
    },
    {
     "name": "stdout",
     "output_type": "stream",
     "text": [
      "did not find https://www.smogon.com/dex/media/sprites/rb/tornadus.png: Not Found\n",
      "did not find https://www.smogon.com/dex/media/sprites/c/tornadus.gif: Not Found\n",
      "did not find https://www.smogon.com/dex/media/sprites/rs/tornadus.png: Not Found\n",
      "did not find https://www.smogon.com/dex/media/sprites/dp/tornadus.png: Not Found\n"
     ]
    },
    {
     "name": "stderr",
     "output_type": "stream",
     "text": [
      " 63%|████████████████████████████████████████████████▊                             | 814/1300 [53:45<32:32,  4.02s/it]"
     ]
    },
    {
     "name": "stdout",
     "output_type": "stream",
     "text": [
      "did not find https://www.smogon.com/dex/media/sprites/rb/tornadus-therian.png: Not Found\n",
      "did not find https://www.smogon.com/dex/media/sprites/c/tornadus-therian.gif: Not Found\n",
      "did not find https://www.smogon.com/dex/media/sprites/rs/tornadus-therian.png: Not Found\n",
      "did not find https://www.smogon.com/dex/media/sprites/dp/tornadus-therian.png: Not Found\n"
     ]
    },
    {
     "name": "stderr",
     "output_type": "stream",
     "text": [
      " 63%|████████████████████████████████████████████████▉                             | 815/1300 [53:49<32:26,  4.01s/it]"
     ]
    },
    {
     "name": "stdout",
     "output_type": "stream",
     "text": [
      "did not find https://www.smogon.com/dex/media/sprites/rb/thundurus.png: Not Found\n",
      "did not find https://www.smogon.com/dex/media/sprites/c/thundurus.gif: Not Found\n",
      "did not find https://www.smogon.com/dex/media/sprites/rs/thundurus.png: Not Found\n",
      "did not find https://www.smogon.com/dex/media/sprites/dp/thundurus.png: Not Found\n"
     ]
    },
    {
     "name": "stderr",
     "output_type": "stream",
     "text": [
      " 63%|████████████████████████████████████████████████▉                             | 816/1300 [53:54<33:07,  4.11s/it]"
     ]
    },
    {
     "name": "stdout",
     "output_type": "stream",
     "text": [
      "did not find https://www.smogon.com/dex/media/sprites/rb/thundurus-therian.png: Not Found\n",
      "did not find https://www.smogon.com/dex/media/sprites/c/thundurus-therian.gif: Not Found\n",
      "did not find https://www.smogon.com/dex/media/sprites/rs/thundurus-therian.png: Not Found\n",
      "did not find https://www.smogon.com/dex/media/sprites/dp/thundurus-therian.png: Not Found\n"
     ]
    },
    {
     "name": "stderr",
     "output_type": "stream",
     "text": [
      " 63%|█████████████████████████████████████████████████                             | 817/1300 [53:58<33:11,  4.12s/it]"
     ]
    },
    {
     "name": "stdout",
     "output_type": "stream",
     "text": [
      "did not find https://www.smogon.com/dex/media/sprites/rb/reshiram.png: Not Found\n",
      "did not find https://www.smogon.com/dex/media/sprites/c/reshiram.gif: Not Found\n",
      "did not find https://www.smogon.com/dex/media/sprites/rs/reshiram.png: Not Found\n",
      "did not find https://www.smogon.com/dex/media/sprites/dp/reshiram.png: Not Found\n"
     ]
    },
    {
     "name": "stderr",
     "output_type": "stream",
     "text": [
      " 63%|█████████████████████████████████████████████████                             | 818/1300 [54:02<32:57,  4.10s/it]"
     ]
    },
    {
     "name": "stdout",
     "output_type": "stream",
     "text": [
      "did not find https://www.smogon.com/dex/media/sprites/rb/zekrom.png: Not Found\n",
      "did not find https://www.smogon.com/dex/media/sprites/c/zekrom.gif: Not Found\n",
      "did not find https://www.smogon.com/dex/media/sprites/rs/zekrom.png: Not Found\n",
      "did not find https://www.smogon.com/dex/media/sprites/dp/zekrom.png: Not Found\n"
     ]
    },
    {
     "name": "stderr",
     "output_type": "stream",
     "text": [
      " 63%|█████████████████████████████████████████████████▏                            | 819/1300 [54:06<32:54,  4.10s/it]"
     ]
    },
    {
     "name": "stdout",
     "output_type": "stream",
     "text": [
      "did not find https://www.smogon.com/dex/media/sprites/rb/landorus.png: Not Found\n",
      "did not find https://www.smogon.com/dex/media/sprites/c/landorus.gif: Not Found\n",
      "did not find https://www.smogon.com/dex/media/sprites/rs/landorus.png: Not Found\n",
      "did not find https://www.smogon.com/dex/media/sprites/dp/landorus.png: Not Found\n"
     ]
    },
    {
     "name": "stderr",
     "output_type": "stream",
     "text": [
      " 63%|█████████████████████████████████████████████████▏                            | 820/1300 [54:10<32:44,  4.09s/it]"
     ]
    },
    {
     "name": "stdout",
     "output_type": "stream",
     "text": [
      "did not find https://www.smogon.com/dex/media/sprites/rb/landorus-therian.png: Not Found\n",
      "did not find https://www.smogon.com/dex/media/sprites/c/landorus-therian.gif: Not Found\n",
      "did not find https://www.smogon.com/dex/media/sprites/rs/landorus-therian.png: Not Found\n",
      "did not find https://www.smogon.com/dex/media/sprites/dp/landorus-therian.png: Not Found\n"
     ]
    },
    {
     "name": "stderr",
     "output_type": "stream",
     "text": [
      " 63%|█████████████████████████████████████████████████▎                            | 821/1300 [54:14<32:34,  4.08s/it]"
     ]
    },
    {
     "name": "stdout",
     "output_type": "stream",
     "text": [
      "did not find https://www.smogon.com/dex/media/sprites/rb/kyurem.png: Not Found\n",
      "did not find https://www.smogon.com/dex/media/sprites/c/kyurem.gif: Not Found\n",
      "did not find https://www.smogon.com/dex/media/sprites/rs/kyurem.png: Not Found\n",
      "did not find https://www.smogon.com/dex/media/sprites/dp/kyurem.png: Not Found\n"
     ]
    },
    {
     "name": "stderr",
     "output_type": "stream",
     "text": [
      " 63%|█████████████████████████████████████████████████▎                            | 822/1300 [54:18<32:15,  4.05s/it]"
     ]
    },
    {
     "name": "stdout",
     "output_type": "stream",
     "text": [
      "did not find https://www.smogon.com/dex/media/sprites/rb/kyurem-black.png: Not Found\n",
      "did not find https://www.smogon.com/dex/media/sprites/c/kyurem-black.gif: Not Found\n",
      "did not find https://www.smogon.com/dex/media/sprites/rs/kyurem-black.png: Not Found\n",
      "did not find https://www.smogon.com/dex/media/sprites/dp/kyurem-black.png: Not Found\n"
     ]
    },
    {
     "name": "stderr",
     "output_type": "stream",
     "text": [
      " 63%|█████████████████████████████████████████████████▍                            | 823/1300 [54:23<33:11,  4.18s/it]"
     ]
    },
    {
     "name": "stdout",
     "output_type": "stream",
     "text": [
      "did not find https://www.smogon.com/dex/media/sprites/rb/kyurem-white.png: Not Found\n",
      "did not find https://www.smogon.com/dex/media/sprites/c/kyurem-white.gif: Not Found\n",
      "did not find https://www.smogon.com/dex/media/sprites/rs/kyurem-white.png: Not Found\n",
      "did not find https://www.smogon.com/dex/media/sprites/dp/kyurem-white.png: Not Found\n"
     ]
    },
    {
     "name": "stderr",
     "output_type": "stream",
     "text": [
      " 63%|█████████████████████████████████████████████████▍                            | 824/1300 [54:27<34:24,  4.34s/it]"
     ]
    },
    {
     "name": "stdout",
     "output_type": "stream",
     "text": [
      "did not find https://www.smogon.com/dex/media/sprites/rb/keldeo.png: Not Found\n",
      "did not find https://www.smogon.com/dex/media/sprites/c/keldeo.gif: Not Found\n",
      "did not find https://www.smogon.com/dex/media/sprites/rs/keldeo.png: Not Found\n",
      "did not find https://www.smogon.com/dex/media/sprites/dp/keldeo.png: Not Found\n"
     ]
    },
    {
     "name": "stderr",
     "output_type": "stream",
     "text": [
      " 63%|█████████████████████████████████████████████████▌                            | 825/1300 [54:31<33:23,  4.22s/it]"
     ]
    },
    {
     "name": "stdout",
     "output_type": "stream",
     "text": [
      "did not find https://www.smogon.com/dex/media/sprites/rb/keldeo-resolute.png: Not Found\n",
      "did not find https://www.smogon.com/dex/media/sprites/c/keldeo-resolute.gif: Not Found\n",
      "did not find https://www.smogon.com/dex/media/sprites/rs/keldeo-resolute.png: Not Found\n",
      "did not find https://www.smogon.com/dex/media/sprites/dp/keldeo-resolute.png: Not Found\n"
     ]
    },
    {
     "name": "stderr",
     "output_type": "stream",
     "text": [
      " 64%|█████████████████████████████████████████████████▌                            | 826/1300 [54:35<32:24,  4.10s/it]"
     ]
    },
    {
     "name": "stdout",
     "output_type": "stream",
     "text": [
      "did not find https://www.smogon.com/dex/media/sprites/rb/meloetta.png: Not Found\n",
      "did not find https://www.smogon.com/dex/media/sprites/c/meloetta.gif: Not Found\n",
      "did not find https://www.smogon.com/dex/media/sprites/rs/meloetta.png: Not Found\n",
      "did not find https://www.smogon.com/dex/media/sprites/dp/meloetta.png: Not Found\n"
     ]
    },
    {
     "name": "stderr",
     "output_type": "stream",
     "text": [
      " 64%|█████████████████████████████████████████████████▌                            | 827/1300 [54:39<31:39,  4.01s/it]"
     ]
    },
    {
     "name": "stdout",
     "output_type": "stream",
     "text": [
      "did not find https://www.smogon.com/dex/media/sprites/rb/meloetta-pirouette.png: Not Found\n",
      "did not find https://www.smogon.com/dex/media/sprites/c/meloetta-pirouette.gif: Not Found\n",
      "did not find https://www.smogon.com/dex/media/sprites/rs/meloetta-pirouette.png: Not Found\n",
      "did not find https://www.smogon.com/dex/media/sprites/dp/meloetta-pirouette.png: Not Found\n"
     ]
    },
    {
     "name": "stderr",
     "output_type": "stream",
     "text": [
      " 64%|█████████████████████████████████████████████████▋                            | 828/1300 [54:43<30:56,  3.93s/it]"
     ]
    },
    {
     "name": "stdout",
     "output_type": "stream",
     "text": [
      "did not find https://www.smogon.com/dex/media/sprites/rb/genesect.png: Not Found\n",
      "did not find https://www.smogon.com/dex/media/sprites/c/genesect.gif: Not Found\n",
      "did not find https://www.smogon.com/dex/media/sprites/rs/genesect.png: Not Found\n",
      "did not find https://www.smogon.com/dex/media/sprites/dp/genesect.png: Not Found\n"
     ]
    },
    {
     "name": "stderr",
     "output_type": "stream",
     "text": [
      " 64%|█████████████████████████████████████████████████▋                            | 829/1300 [54:47<30:55,  3.94s/it]"
     ]
    },
    {
     "name": "stdout",
     "output_type": "stream",
     "text": [
      "did not find https://www.smogon.com/dex/media/sprites/rb/genesect-douse.png: Not Found\n",
      "did not find https://www.smogon.com/dex/media/sprites/c/genesect-douse.gif: Not Found\n",
      "did not find https://www.smogon.com/dex/media/sprites/rs/genesect-douse.png: Not Found\n",
      "did not find https://www.smogon.com/dex/media/sprites/dp/genesect-douse.png: Not Found\n",
      "did not find https://www.smogon.com/dex/media/sprites/bw/genesect-douse.gif: Not Found\n"
     ]
    },
    {
     "name": "stderr",
     "output_type": "stream",
     "text": [
      " 64%|█████████████████████████████████████████████████▊                            | 830/1300 [54:50<30:24,  3.88s/it]"
     ]
    },
    {
     "name": "stdout",
     "output_type": "stream",
     "text": [
      "did not find https://www.smogon.com/dex/media/sprites/rb/genesect-shock.png: Not Found\n",
      "did not find https://www.smogon.com/dex/media/sprites/c/genesect-shock.gif: Not Found\n",
      "did not find https://www.smogon.com/dex/media/sprites/rs/genesect-shock.png: Not Found\n",
      "did not find https://www.smogon.com/dex/media/sprites/dp/genesect-shock.png: Not Found\n",
      "did not find https://www.smogon.com/dex/media/sprites/bw/genesect-shock.gif: Not Found\n"
     ]
    },
    {
     "name": "stderr",
     "output_type": "stream",
     "text": [
      " 64%|█████████████████████████████████████████████████▊                            | 831/1300 [54:54<30:11,  3.86s/it]"
     ]
    },
    {
     "name": "stdout",
     "output_type": "stream",
     "text": [
      "did not find https://www.smogon.com/dex/media/sprites/rb/genesect-burn.png: Not Found\n",
      "did not find https://www.smogon.com/dex/media/sprites/c/genesect-burn.gif: Not Found\n",
      "did not find https://www.smogon.com/dex/media/sprites/rs/genesect-burn.png: Not Found\n",
      "did not find https://www.smogon.com/dex/media/sprites/dp/genesect-burn.png: Not Found\n",
      "did not find https://www.smogon.com/dex/media/sprites/bw/genesect-burn.gif: Not Found\n"
     ]
    },
    {
     "name": "stderr",
     "output_type": "stream",
     "text": [
      " 64%|█████████████████████████████████████████████████▉                            | 832/1300 [54:58<30:02,  3.85s/it]"
     ]
    },
    {
     "name": "stdout",
     "output_type": "stream",
     "text": [
      "did not find https://www.smogon.com/dex/media/sprites/rb/genesect-chill.png: Not Found\n",
      "did not find https://www.smogon.com/dex/media/sprites/c/genesect-chill.gif: Not Found\n",
      "did not find https://www.smogon.com/dex/media/sprites/rs/genesect-chill.png: Not Found\n",
      "did not find https://www.smogon.com/dex/media/sprites/dp/genesect-chill.png: Not Found\n",
      "did not find https://www.smogon.com/dex/media/sprites/bw/genesect-chill.gif: Not Found\n"
     ]
    },
    {
     "name": "stderr",
     "output_type": "stream",
     "text": [
      " 64%|█████████████████████████████████████████████████▉                            | 833/1300 [55:02<29:55,  3.84s/it]"
     ]
    },
    {
     "name": "stdout",
     "output_type": "stream",
     "text": [
      "did not find https://www.smogon.com/dex/media/sprites/rb/chespin.png: Not Found\n",
      "did not find https://www.smogon.com/dex/media/sprites/c/chespin.gif: Not Found\n",
      "did not find https://www.smogon.com/dex/media/sprites/rs/chespin.png: Not Found\n",
      "did not find https://www.smogon.com/dex/media/sprites/dp/chespin.png: Not Found\n",
      "did not find https://www.smogon.com/dex/media/sprites/bw/chespin.gif: Not Found\n"
     ]
    },
    {
     "name": "stderr",
     "output_type": "stream",
     "text": [
      " 64%|██████████████████████████████████████████████████                            | 834/1300 [55:05<29:17,  3.77s/it]"
     ]
    },
    {
     "name": "stdout",
     "output_type": "stream",
     "text": [
      "did not find https://www.smogon.com/dex/media/sprites/rb/quilladin.png: Not Found\n",
      "did not find https://www.smogon.com/dex/media/sprites/c/quilladin.gif: Not Found\n",
      "did not find https://www.smogon.com/dex/media/sprites/rs/quilladin.png: Not Found\n",
      "did not find https://www.smogon.com/dex/media/sprites/dp/quilladin.png: Not Found\n",
      "did not find https://www.smogon.com/dex/media/sprites/bw/quilladin.gif: Not Found\n"
     ]
    },
    {
     "name": "stderr",
     "output_type": "stream",
     "text": [
      " 64%|██████████████████████████████████████████████████                            | 835/1300 [55:09<29:14,  3.77s/it]"
     ]
    },
    {
     "name": "stdout",
     "output_type": "stream",
     "text": [
      "did not find https://www.smogon.com/dex/media/sprites/rb/chesnaught.png: Not Found\n",
      "did not find https://www.smogon.com/dex/media/sprites/c/chesnaught.gif: Not Found\n",
      "did not find https://www.smogon.com/dex/media/sprites/rs/chesnaught.png: Not Found\n",
      "did not find https://www.smogon.com/dex/media/sprites/dp/chesnaught.png: Not Found\n",
      "did not find https://www.smogon.com/dex/media/sprites/bw/chesnaught.gif: Not Found\n"
     ]
    },
    {
     "name": "stderr",
     "output_type": "stream",
     "text": [
      " 64%|██████████████████████████████████████████████████▏                           | 836/1300 [55:13<29:29,  3.81s/it]"
     ]
    },
    {
     "name": "stdout",
     "output_type": "stream",
     "text": [
      "did not find https://www.smogon.com/dex/media/sprites/rb/fennekin.png: Not Found\n",
      "did not find https://www.smogon.com/dex/media/sprites/c/fennekin.gif: Not Found\n",
      "did not find https://www.smogon.com/dex/media/sprites/rs/fennekin.png: Not Found\n",
      "did not find https://www.smogon.com/dex/media/sprites/dp/fennekin.png: Not Found\n",
      "did not find https://www.smogon.com/dex/media/sprites/bw/fennekin.gif: Not Found\n"
     ]
    },
    {
     "name": "stderr",
     "output_type": "stream",
     "text": [
      " 64%|██████████████████████████████████████████████████▏                           | 837/1300 [55:17<29:08,  3.78s/it]"
     ]
    },
    {
     "name": "stdout",
     "output_type": "stream",
     "text": [
      "did not find https://www.smogon.com/dex/media/sprites/rb/braixen.png: Not Found\n",
      "did not find https://www.smogon.com/dex/media/sprites/c/braixen.gif: Not Found\n",
      "did not find https://www.smogon.com/dex/media/sprites/rs/braixen.png: Not Found\n",
      "did not find https://www.smogon.com/dex/media/sprites/dp/braixen.png: Not Found\n",
      "did not find https://www.smogon.com/dex/media/sprites/bw/braixen.gif: Not Found\n"
     ]
    },
    {
     "name": "stderr",
     "output_type": "stream",
     "text": [
      " 64%|██████████████████████████████████████████████████▎                           | 838/1300 [55:21<29:11,  3.79s/it]"
     ]
    },
    {
     "name": "stdout",
     "output_type": "stream",
     "text": [
      "did not find https://www.smogon.com/dex/media/sprites/rb/delphox.png: Not Found\n",
      "did not find https://www.smogon.com/dex/media/sprites/c/delphox.gif: Not Found\n",
      "did not find https://www.smogon.com/dex/media/sprites/rs/delphox.png: Not Found\n",
      "did not find https://www.smogon.com/dex/media/sprites/dp/delphox.png: Not Found\n",
      "did not find https://www.smogon.com/dex/media/sprites/bw/delphox.gif: Not Found\n"
     ]
    },
    {
     "name": "stderr",
     "output_type": "stream",
     "text": [
      " 65%|██████████████████████████████████████████████████▎                           | 839/1300 [55:24<29:12,  3.80s/it]"
     ]
    },
    {
     "name": "stdout",
     "output_type": "stream",
     "text": [
      "did not find https://www.smogon.com/dex/media/sprites/rb/froakie.png: Not Found\n",
      "did not find https://www.smogon.com/dex/media/sprites/c/froakie.gif: Not Found\n",
      "did not find https://www.smogon.com/dex/media/sprites/rs/froakie.png: Not Found\n",
      "did not find https://www.smogon.com/dex/media/sprites/dp/froakie.png: Not Found\n",
      "did not find https://www.smogon.com/dex/media/sprites/bw/froakie.gif: Not Found\n"
     ]
    },
    {
     "name": "stderr",
     "output_type": "stream",
     "text": [
      " 65%|██████████████████████████████████████████████████▍                           | 840/1300 [55:28<28:54,  3.77s/it]"
     ]
    },
    {
     "name": "stdout",
     "output_type": "stream",
     "text": [
      "did not find https://www.smogon.com/dex/media/sprites/rb/frogadier.png: Not Found\n",
      "did not find https://www.smogon.com/dex/media/sprites/c/frogadier.gif: Not Found\n",
      "did not find https://www.smogon.com/dex/media/sprites/rs/frogadier.png: Not Found\n",
      "did not find https://www.smogon.com/dex/media/sprites/dp/frogadier.png: Not Found\n",
      "did not find https://www.smogon.com/dex/media/sprites/bw/frogadier.gif: Not Found\n"
     ]
    },
    {
     "name": "stderr",
     "output_type": "stream",
     "text": [
      " 65%|██████████████████████████████████████████████████▍                           | 841/1300 [55:32<28:28,  3.72s/it]"
     ]
    },
    {
     "name": "stdout",
     "output_type": "stream",
     "text": [
      "did not find https://www.smogon.com/dex/media/sprites/rb/greninja.png: Not Found\n",
      "did not find https://www.smogon.com/dex/media/sprites/c/greninja.gif: Not Found\n",
      "did not find https://www.smogon.com/dex/media/sprites/rs/greninja.png: Not Found\n",
      "did not find https://www.smogon.com/dex/media/sprites/dp/greninja.png: Not Found\n",
      "did not find https://www.smogon.com/dex/media/sprites/bw/greninja.gif: Not Found\n"
     ]
    },
    {
     "name": "stderr",
     "output_type": "stream",
     "text": [
      " 65%|██████████████████████████████████████████████████▌                           | 842/1300 [55:35<28:38,  3.75s/it]"
     ]
    },
    {
     "name": "stdout",
     "output_type": "stream",
     "text": [
      "did not find https://www.smogon.com/dex/media/sprites/rb/greninja-bond.png: Not Found\n",
      "did not find https://www.smogon.com/dex/media/sprites/c/greninja-bond.gif: Not Found\n",
      "did not find https://www.smogon.com/dex/media/sprites/rs/greninja-bond.png: Not Found\n",
      "did not find https://www.smogon.com/dex/media/sprites/dp/greninja-bond.png: Not Found\n",
      "did not find https://www.smogon.com/dex/media/sprites/bw/greninja-bond.gif: Not Found\n"
     ]
    },
    {
     "name": "stderr",
     "output_type": "stream",
     "text": [
      " 65%|██████████████████████████████████████████████████▌                           | 843/1300 [55:39<28:04,  3.69s/it]"
     ]
    },
    {
     "name": "stdout",
     "output_type": "stream",
     "text": [
      "did not find https://www.smogon.com/dex/media/sprites/xy/greninja-bond.gif: Not Found\n",
      "did not find https://www.smogon.com/dex/media/sprites/rb/greninja-ash.png: Not Found\n",
      "did not find https://www.smogon.com/dex/media/sprites/c/greninja-ash.gif: Not Found\n",
      "did not find https://www.smogon.com/dex/media/sprites/rs/greninja-ash.png: Not Found\n",
      "did not find https://www.smogon.com/dex/media/sprites/dp/greninja-ash.png: Not Found\n",
      "did not find https://www.smogon.com/dex/media/sprites/bw/greninja-ash.gif: Not Found\n"
     ]
    },
    {
     "name": "stderr",
     "output_type": "stream",
     "text": [
      " 65%|██████████████████████████████████████████████████▋                           | 844/1300 [55:43<28:29,  3.75s/it]"
     ]
    },
    {
     "name": "stdout",
     "output_type": "stream",
     "text": [
      "did not find https://www.smogon.com/dex/media/sprites/rb/bunnelby.png: Not Found\n",
      "did not find https://www.smogon.com/dex/media/sprites/c/bunnelby.gif: Not Found\n",
      "did not find https://www.smogon.com/dex/media/sprites/rs/bunnelby.png: Not Found\n",
      "did not find https://www.smogon.com/dex/media/sprites/dp/bunnelby.png: Not Found\n",
      "did not find https://www.smogon.com/dex/media/sprites/bw/bunnelby.gif: Not Found\n"
     ]
    },
    {
     "name": "stderr",
     "output_type": "stream",
     "text": [
      " 65%|██████████████████████████████████████████████████▋                           | 845/1300 [55:47<28:26,  3.75s/it]"
     ]
    },
    {
     "name": "stdout",
     "output_type": "stream",
     "text": [
      "did not find https://www.smogon.com/dex/media/sprites/rb/diggersby.png: Not Found\n",
      "did not find https://www.smogon.com/dex/media/sprites/c/diggersby.gif: Not Found\n",
      "did not find https://www.smogon.com/dex/media/sprites/rs/diggersby.png: Not Found\n",
      "did not find https://www.smogon.com/dex/media/sprites/dp/diggersby.png: Not Found\n",
      "did not find https://www.smogon.com/dex/media/sprites/bw/diggersby.gif: Not Found\n"
     ]
    },
    {
     "name": "stderr",
     "output_type": "stream",
     "text": [
      " 65%|██████████████████████████████████████████████████▊                           | 846/1300 [55:51<28:34,  3.78s/it]"
     ]
    },
    {
     "name": "stdout",
     "output_type": "stream",
     "text": [
      "did not find https://www.smogon.com/dex/media/sprites/rb/fletchling.png: Not Found\n",
      "did not find https://www.smogon.com/dex/media/sprites/c/fletchling.gif: Not Found\n",
      "did not find https://www.smogon.com/dex/media/sprites/rs/fletchling.png: Not Found\n",
      "did not find https://www.smogon.com/dex/media/sprites/dp/fletchling.png: Not Found\n",
      "did not find https://www.smogon.com/dex/media/sprites/bw/fletchling.gif: Not Found\n"
     ]
    },
    {
     "name": "stderr",
     "output_type": "stream",
     "text": [
      " 65%|██████████████████████████████████████████████████▊                           | 847/1300 [55:54<28:18,  3.75s/it]"
     ]
    },
    {
     "name": "stdout",
     "output_type": "stream",
     "text": [
      "did not find https://www.smogon.com/dex/media/sprites/rb/fletchinder.png: Not Found\n",
      "did not find https://www.smogon.com/dex/media/sprites/c/fletchinder.gif: Not Found\n",
      "did not find https://www.smogon.com/dex/media/sprites/rs/fletchinder.png: Not Found\n",
      "did not find https://www.smogon.com/dex/media/sprites/dp/fletchinder.png: Not Found\n",
      "did not find https://www.smogon.com/dex/media/sprites/bw/fletchinder.gif: Not Found\n"
     ]
    },
    {
     "name": "stderr",
     "output_type": "stream",
     "text": [
      " 65%|██████████████████████████████████████████████████▉                           | 848/1300 [55:58<28:04,  3.73s/it]"
     ]
    },
    {
     "name": "stdout",
     "output_type": "stream",
     "text": [
      "did not find https://www.smogon.com/dex/media/sprites/rb/talonflame.png: Not Found\n",
      "did not find https://www.smogon.com/dex/media/sprites/c/talonflame.gif: Not Found\n",
      "did not find https://www.smogon.com/dex/media/sprites/rs/talonflame.png: Not Found\n",
      "did not find https://www.smogon.com/dex/media/sprites/dp/talonflame.png: Not Found\n",
      "did not find https://www.smogon.com/dex/media/sprites/bw/talonflame.gif: Not Found\n"
     ]
    },
    {
     "name": "stderr",
     "output_type": "stream",
     "text": [
      " 65%|██████████████████████████████████████████████████▉                           | 849/1300 [56:02<28:10,  3.75s/it]"
     ]
    },
    {
     "name": "stdout",
     "output_type": "stream",
     "text": [
      "did not find https://www.smogon.com/dex/media/sprites/rb/scatterbug.png: Not Found\n",
      "did not find https://www.smogon.com/dex/media/sprites/c/scatterbug.gif: Not Found\n",
      "did not find https://www.smogon.com/dex/media/sprites/rs/scatterbug.png: Not Found\n",
      "did not find https://www.smogon.com/dex/media/sprites/dp/scatterbug.png: Not Found\n",
      "did not find https://www.smogon.com/dex/media/sprites/bw/scatterbug.gif: Not Found\n"
     ]
    },
    {
     "name": "stderr",
     "output_type": "stream",
     "text": [
      " 65%|███████████████████████████████████████████████████                           | 850/1300 [56:05<28:01,  3.74s/it]"
     ]
    },
    {
     "name": "stdout",
     "output_type": "stream",
     "text": [
      "did not find https://www.smogon.com/dex/media/sprites/rb/spewpa.png: Not Found\n",
      "did not find https://www.smogon.com/dex/media/sprites/c/spewpa.gif: Not Found\n",
      "did not find https://www.smogon.com/dex/media/sprites/rs/spewpa.png: Not Found\n",
      "did not find https://www.smogon.com/dex/media/sprites/dp/spewpa.png: Not Found\n",
      "did not find https://www.smogon.com/dex/media/sprites/bw/spewpa.gif: Not Found\n"
     ]
    },
    {
     "name": "stderr",
     "output_type": "stream",
     "text": [
      " 65%|███████████████████████████████████████████████████                           | 851/1300 [56:09<27:46,  3.71s/it]"
     ]
    },
    {
     "name": "stdout",
     "output_type": "stream",
     "text": [
      "did not find https://www.smogon.com/dex/media/sprites/rb/vivillon.png: Not Found\n",
      "did not find https://www.smogon.com/dex/media/sprites/c/vivillon.gif: Not Found\n",
      "did not find https://www.smogon.com/dex/media/sprites/rs/vivillon.png: Not Found\n",
      "did not find https://www.smogon.com/dex/media/sprites/dp/vivillon.png: Not Found\n",
      "did not find https://www.smogon.com/dex/media/sprites/bw/vivillon.gif: Not Found\n"
     ]
    },
    {
     "name": "stderr",
     "output_type": "stream",
     "text": [
      " 66%|███████████████████████████████████████████████████                           | 852/1300 [56:13<28:15,  3.79s/it]"
     ]
    },
    {
     "name": "stdout",
     "output_type": "stream",
     "text": [
      "did not find https://www.smogon.com/dex/media/sprites/rb/vivillon-fancy.png: Not Found\n",
      "did not find https://www.smogon.com/dex/media/sprites/c/vivillon-fancy.gif: Not Found\n",
      "did not find https://www.smogon.com/dex/media/sprites/rs/vivillon-fancy.png: Not Found\n",
      "did not find https://www.smogon.com/dex/media/sprites/dp/vivillon-fancy.png: Not Found\n",
      "did not find https://www.smogon.com/dex/media/sprites/bw/vivillon-fancy.gif: Not Found\n"
     ]
    },
    {
     "name": "stderr",
     "output_type": "stream",
     "text": [
      " 66%|███████████████████████████████████████████████████▏                          | 853/1300 [56:17<28:24,  3.81s/it]"
     ]
    },
    {
     "name": "stdout",
     "output_type": "stream",
     "text": [
      "did not find https://www.smogon.com/dex/media/sprites/rb/vivillon-pokeball.png: Not Found\n",
      "did not find https://www.smogon.com/dex/media/sprites/c/vivillon-pokeball.gif: Not Found\n",
      "did not find https://www.smogon.com/dex/media/sprites/rs/vivillon-pokeball.png: Not Found\n",
      "did not find https://www.smogon.com/dex/media/sprites/dp/vivillon-pokeball.png: Not Found\n",
      "did not find https://www.smogon.com/dex/media/sprites/bw/vivillon-pokeball.gif: Not Found\n"
     ]
    },
    {
     "name": "stderr",
     "output_type": "stream",
     "text": [
      " 66%|███████████████████████████████████████████████████▏                          | 854/1300 [56:21<28:32,  3.84s/it]"
     ]
    },
    {
     "name": "stdout",
     "output_type": "stream",
     "text": [
      "did not find https://www.smogon.com/dex/media/sprites/rb/litleo.png: Not Found\n",
      "did not find https://www.smogon.com/dex/media/sprites/c/litleo.gif: Not Found\n",
      "did not find https://www.smogon.com/dex/media/sprites/rs/litleo.png: Not Found\n",
      "did not find https://www.smogon.com/dex/media/sprites/dp/litleo.png: Not Found\n",
      "did not find https://www.smogon.com/dex/media/sprites/bw/litleo.gif: Not Found\n"
     ]
    },
    {
     "name": "stderr",
     "output_type": "stream",
     "text": [
      " 66%|███████████████████████████████████████████████████▎                          | 855/1300 [56:24<28:14,  3.81s/it]"
     ]
    },
    {
     "name": "stdout",
     "output_type": "stream",
     "text": [
      "did not find https://www.smogon.com/dex/media/sprites/rb/pyroar.png: Not Found\n",
      "did not find https://www.smogon.com/dex/media/sprites/c/pyroar.gif: Not Found\n",
      "did not find https://www.smogon.com/dex/media/sprites/rs/pyroar.png: Not Found\n",
      "did not find https://www.smogon.com/dex/media/sprites/dp/pyroar.png: Not Found\n",
      "did not find https://www.smogon.com/dex/media/sprites/bw/pyroar.gif: Not Found\n"
     ]
    },
    {
     "name": "stderr",
     "output_type": "stream",
     "text": [
      " 66%|███████████████████████████████████████████████████▎                          | 856/1300 [56:28<28:00,  3.78s/it]"
     ]
    },
    {
     "name": "stdout",
     "output_type": "stream",
     "text": [
      "did not find https://www.smogon.com/dex/media/sprites/rb/flabébé.png: Not Found\n",
      "did not find https://www.smogon.com/dex/media/sprites/c/flabébé.gif: Not Found\n",
      "did not find https://www.smogon.com/dex/media/sprites/rs/flabébé.png: Not Found\n",
      "did not find https://www.smogon.com/dex/media/sprites/dp/flabébé.png: Not Found\n",
      "did not find https://www.smogon.com/dex/media/sprites/bw/flabébé.gif: Not Found\n"
     ]
    },
    {
     "name": "stderr",
     "output_type": "stream",
     "text": [
      " 66%|███████████████████████████████████████████████████▍                          | 857/1300 [56:32<27:36,  3.74s/it]"
     ]
    },
    {
     "name": "stdout",
     "output_type": "stream",
     "text": [
      "did not find https://www.smogon.com/dex/media/sprites/xy/flabébé.gif: Not Found\n",
      "did not find https://www.smogon.com/dex/media/sprites/rb/floette.png: Not Found\n",
      "did not find https://www.smogon.com/dex/media/sprites/c/floette.gif: Not Found\n",
      "did not find https://www.smogon.com/dex/media/sprites/rs/floette.png: Not Found\n",
      "did not find https://www.smogon.com/dex/media/sprites/dp/floette.png: Not Found\n",
      "did not find https://www.smogon.com/dex/media/sprites/bw/floette.gif: Not Found\n"
     ]
    },
    {
     "name": "stderr",
     "output_type": "stream",
     "text": [
      " 66%|███████████████████████████████████████████████████▍                          | 858/1300 [56:36<27:41,  3.76s/it]"
     ]
    },
    {
     "name": "stdout",
     "output_type": "stream",
     "text": [
      "did not find https://www.smogon.com/dex/media/sprites/rb/floette-eternal.png: Not Found\n",
      "did not find https://www.smogon.com/dex/media/sprites/c/floette-eternal.gif: Not Found\n",
      "did not find https://www.smogon.com/dex/media/sprites/rs/floette-eternal.png: Not Found\n",
      "did not find https://www.smogon.com/dex/media/sprites/dp/floette-eternal.png: Not Found\n",
      "did not find https://www.smogon.com/dex/media/sprites/bw/floette-eternal.gif: Not Found\n"
     ]
    },
    {
     "name": "stderr",
     "output_type": "stream",
     "text": [
      " 66%|███████████████████████████████████████████████████▌                          | 859/1300 [56:40<27:53,  3.80s/it]"
     ]
    },
    {
     "name": "stdout",
     "output_type": "stream",
     "text": [
      "did not find https://www.smogon.com/dex/media/sprites/rb/florges.png: Not Found\n",
      "did not find https://www.smogon.com/dex/media/sprites/c/florges.gif: Not Found\n",
      "did not find https://www.smogon.com/dex/media/sprites/rs/florges.png: Not Found\n",
      "did not find https://www.smogon.com/dex/media/sprites/dp/florges.png: Not Found\n",
      "did not find https://www.smogon.com/dex/media/sprites/bw/florges.gif: Not Found\n"
     ]
    },
    {
     "name": "stderr",
     "output_type": "stream",
     "text": [
      " 66%|███████████████████████████████████████████████████▌                          | 860/1300 [56:44<28:12,  3.85s/it]"
     ]
    },
    {
     "name": "stdout",
     "output_type": "stream",
     "text": [
      "did not find https://www.smogon.com/dex/media/sprites/rb/skiddo.png: Not Found\n",
      "did not find https://www.smogon.com/dex/media/sprites/c/skiddo.gif: Not Found\n",
      "did not find https://www.smogon.com/dex/media/sprites/rs/skiddo.png: Not Found\n",
      "did not find https://www.smogon.com/dex/media/sprites/dp/skiddo.png: Not Found\n",
      "did not find https://www.smogon.com/dex/media/sprites/bw/skiddo.gif: Not Found\n"
     ]
    },
    {
     "name": "stderr",
     "output_type": "stream",
     "text": [
      " 66%|███████████████████████████████████████████████████▋                          | 861/1300 [56:47<28:09,  3.85s/it]"
     ]
    },
    {
     "name": "stdout",
     "output_type": "stream",
     "text": [
      "did not find https://www.smogon.com/dex/media/sprites/rb/gogoat.png: Not Found\n",
      "did not find https://www.smogon.com/dex/media/sprites/c/gogoat.gif: Not Found\n",
      "did not find https://www.smogon.com/dex/media/sprites/rs/gogoat.png: Not Found\n",
      "did not find https://www.smogon.com/dex/media/sprites/dp/gogoat.png: Not Found\n",
      "did not find https://www.smogon.com/dex/media/sprites/bw/gogoat.gif: Not Found\n"
     ]
    },
    {
     "name": "stderr",
     "output_type": "stream",
     "text": [
      " 66%|███████████████████████████████████████████████████▋                          | 862/1300 [56:51<27:58,  3.83s/it]"
     ]
    },
    {
     "name": "stdout",
     "output_type": "stream",
     "text": [
      "did not find https://www.smogon.com/dex/media/sprites/rb/pancham.png: Not Found\n",
      "did not find https://www.smogon.com/dex/media/sprites/c/pancham.gif: Not Found\n",
      "did not find https://www.smogon.com/dex/media/sprites/rs/pancham.png: Not Found\n",
      "did not find https://www.smogon.com/dex/media/sprites/dp/pancham.png: Not Found\n",
      "did not find https://www.smogon.com/dex/media/sprites/bw/pancham.gif: Not Found\n"
     ]
    },
    {
     "name": "stderr",
     "output_type": "stream",
     "text": [
      " 66%|███████████████████████████████████████████████████▊                          | 863/1300 [56:55<27:41,  3.80s/it]"
     ]
    },
    {
     "name": "stdout",
     "output_type": "stream",
     "text": [
      "did not find https://www.smogon.com/dex/media/sprites/rb/pangoro.png: Not Found\n",
      "did not find https://www.smogon.com/dex/media/sprites/c/pangoro.gif: Not Found\n",
      "did not find https://www.smogon.com/dex/media/sprites/rs/pangoro.png: Not Found\n",
      "did not find https://www.smogon.com/dex/media/sprites/dp/pangoro.png: Not Found\n",
      "did not find https://www.smogon.com/dex/media/sprites/bw/pangoro.gif: Not Found\n"
     ]
    },
    {
     "name": "stderr",
     "output_type": "stream",
     "text": [
      " 66%|███████████████████████████████████████████████████▊                          | 864/1300 [56:59<27:46,  3.82s/it]"
     ]
    },
    {
     "name": "stdout",
     "output_type": "stream",
     "text": [
      "did not find https://www.smogon.com/dex/media/sprites/rb/furfrou.png: Not Found\n",
      "did not find https://www.smogon.com/dex/media/sprites/c/furfrou.gif: Not Found\n",
      "did not find https://www.smogon.com/dex/media/sprites/rs/furfrou.png: Not Found\n",
      "did not find https://www.smogon.com/dex/media/sprites/dp/furfrou.png: Not Found\n",
      "did not find https://www.smogon.com/dex/media/sprites/bw/furfrou.gif: Not Found\n"
     ]
    },
    {
     "name": "stderr",
     "output_type": "stream",
     "text": [
      " 67%|███████████████████████████████████████████████████▉                          | 865/1300 [57:03<27:49,  3.84s/it]"
     ]
    },
    {
     "name": "stdout",
     "output_type": "stream",
     "text": [
      "did not find https://www.smogon.com/dex/media/sprites/rb/espurr.png: Not Found\n",
      "did not find https://www.smogon.com/dex/media/sprites/c/espurr.gif: Not Found\n",
      "did not find https://www.smogon.com/dex/media/sprites/rs/espurr.png: Not Found\n",
      "did not find https://www.smogon.com/dex/media/sprites/dp/espurr.png: Not Found\n",
      "did not find https://www.smogon.com/dex/media/sprites/bw/espurr.gif: Not Found\n"
     ]
    },
    {
     "name": "stderr",
     "output_type": "stream",
     "text": [
      " 67%|███████████████████████████████████████████████████▉                          | 866/1300 [57:06<27:31,  3.81s/it]"
     ]
    },
    {
     "name": "stdout",
     "output_type": "stream",
     "text": [
      "did not find https://www.smogon.com/dex/media/sprites/rb/meowstic.png: Not Found\n",
      "did not find https://www.smogon.com/dex/media/sprites/c/meowstic.gif: Not Found\n",
      "did not find https://www.smogon.com/dex/media/sprites/rs/meowstic.png: Not Found\n",
      "did not find https://www.smogon.com/dex/media/sprites/dp/meowstic.png: Not Found\n",
      "did not find https://www.smogon.com/dex/media/sprites/bw/meowstic.gif: Not Found\n"
     ]
    },
    {
     "name": "stderr",
     "output_type": "stream",
     "text": [
      " 67%|████████████████████████████████████████████████████                          | 867/1300 [57:10<27:41,  3.84s/it]"
     ]
    },
    {
     "name": "stdout",
     "output_type": "stream",
     "text": [
      "did not find https://www.smogon.com/dex/media/sprites/rb/meowstic-f.png: Not Found\n",
      "did not find https://www.smogon.com/dex/media/sprites/c/meowstic-f.gif: Not Found\n",
      "did not find https://www.smogon.com/dex/media/sprites/rs/meowstic-f.png: Not Found\n",
      "did not find https://www.smogon.com/dex/media/sprites/dp/meowstic-f.png: Not Found\n",
      "did not find https://www.smogon.com/dex/media/sprites/bw/meowstic-f.gif: Not Found\n"
     ]
    },
    {
     "name": "stderr",
     "output_type": "stream",
     "text": [
      " 67%|████████████████████████████████████████████████████                          | 868/1300 [57:14<27:45,  3.85s/it]"
     ]
    },
    {
     "name": "stdout",
     "output_type": "stream",
     "text": [
      "did not find https://www.smogon.com/dex/media/sprites/rb/honedge.png: Not Found\n",
      "did not find https://www.smogon.com/dex/media/sprites/c/honedge.gif: Not Found\n",
      "did not find https://www.smogon.com/dex/media/sprites/rs/honedge.png: Not Found\n",
      "did not find https://www.smogon.com/dex/media/sprites/dp/honedge.png: Not Found\n",
      "did not find https://www.smogon.com/dex/media/sprites/bw/honedge.gif: Not Found\n"
     ]
    },
    {
     "name": "stderr",
     "output_type": "stream",
     "text": [
      " 67%|████████████████████████████████████████████████████▏                         | 869/1300 [57:18<27:27,  3.82s/it]"
     ]
    },
    {
     "name": "stdout",
     "output_type": "stream",
     "text": [
      "did not find https://www.smogon.com/dex/media/sprites/rb/doublade.png: Not Found\n",
      "did not find https://www.smogon.com/dex/media/sprites/c/doublade.gif: Not Found\n",
      "did not find https://www.smogon.com/dex/media/sprites/rs/doublade.png: Not Found\n",
      "did not find https://www.smogon.com/dex/media/sprites/dp/doublade.png: Not Found\n",
      "did not find https://www.smogon.com/dex/media/sprites/bw/doublade.gif: Not Found\n"
     ]
    },
    {
     "name": "stderr",
     "output_type": "stream",
     "text": [
      " 67%|████████████████████████████████████████████████████▏                         | 870/1300 [57:22<27:16,  3.81s/it]"
     ]
    },
    {
     "name": "stdout",
     "output_type": "stream",
     "text": [
      "did not find https://www.smogon.com/dex/media/sprites/rb/aegislash.png: Not Found\n",
      "did not find https://www.smogon.com/dex/media/sprites/c/aegislash.gif: Not Found\n",
      "did not find https://www.smogon.com/dex/media/sprites/rs/aegislash.png: Not Found\n",
      "did not find https://www.smogon.com/dex/media/sprites/dp/aegislash.png: Not Found\n",
      "did not find https://www.smogon.com/dex/media/sprites/bw/aegislash.gif: Not Found\n"
     ]
    },
    {
     "name": "stderr",
     "output_type": "stream",
     "text": [
      " 67%|████████████████████████████████████████████████████▎                         | 871/1300 [57:26<27:29,  3.84s/it]"
     ]
    },
    {
     "name": "stdout",
     "output_type": "stream",
     "text": [
      "did not find https://www.smogon.com/dex/media/sprites/rb/aegislash-blade.png: Not Found\n",
      "did not find https://www.smogon.com/dex/media/sprites/c/aegislash-blade.gif: Not Found\n",
      "did not find https://www.smogon.com/dex/media/sprites/rs/aegislash-blade.png: Not Found\n",
      "did not find https://www.smogon.com/dex/media/sprites/dp/aegislash-blade.png: Not Found\n",
      "did not find https://www.smogon.com/dex/media/sprites/bw/aegislash-blade.gif: Not Found\n"
     ]
    },
    {
     "name": "stderr",
     "output_type": "stream",
     "text": [
      " 67%|████████████████████████████████████████████████████▎                         | 872/1300 [57:30<27:30,  3.86s/it]"
     ]
    },
    {
     "name": "stdout",
     "output_type": "stream",
     "text": [
      "did not find https://www.smogon.com/dex/media/sprites/rb/spritzee.png: Not Found\n",
      "did not find https://www.smogon.com/dex/media/sprites/c/spritzee.gif: Not Found\n",
      "did not find https://www.smogon.com/dex/media/sprites/rs/spritzee.png: Not Found\n",
      "did not find https://www.smogon.com/dex/media/sprites/dp/spritzee.png: Not Found\n",
      "did not find https://www.smogon.com/dex/media/sprites/bw/spritzee.gif: Not Found\n"
     ]
    },
    {
     "name": "stderr",
     "output_type": "stream",
     "text": [
      " 67%|████████████████████████████████████████████████████▍                         | 873/1300 [57:33<27:25,  3.85s/it]"
     ]
    },
    {
     "name": "stdout",
     "output_type": "stream",
     "text": [
      "did not find https://www.smogon.com/dex/media/sprites/rb/aromatisse.png: Not Found\n",
      "did not find https://www.smogon.com/dex/media/sprites/c/aromatisse.gif: Not Found\n",
      "did not find https://www.smogon.com/dex/media/sprites/rs/aromatisse.png: Not Found\n",
      "did not find https://www.smogon.com/dex/media/sprites/dp/aromatisse.png: Not Found\n",
      "did not find https://www.smogon.com/dex/media/sprites/bw/aromatisse.gif: Not Found\n"
     ]
    },
    {
     "name": "stderr",
     "output_type": "stream",
     "text": [
      " 67%|████████████████████████████████████████████████████▍                         | 874/1300 [57:37<27:32,  3.88s/it]"
     ]
    },
    {
     "name": "stdout",
     "output_type": "stream",
     "text": [
      "did not find https://www.smogon.com/dex/media/sprites/rb/swirlix.png: Not Found\n",
      "did not find https://www.smogon.com/dex/media/sprites/c/swirlix.gif: Not Found\n",
      "did not find https://www.smogon.com/dex/media/sprites/rs/swirlix.png: Not Found\n",
      "did not find https://www.smogon.com/dex/media/sprites/dp/swirlix.png: Not Found\n",
      "did not find https://www.smogon.com/dex/media/sprites/bw/swirlix.gif: Not Found\n"
     ]
    },
    {
     "name": "stderr",
     "output_type": "stream",
     "text": [
      " 67%|████████████████████████████████████████████████████▌                         | 875/1300 [57:41<27:13,  3.84s/it]"
     ]
    },
    {
     "name": "stdout",
     "output_type": "stream",
     "text": [
      "did not find https://www.smogon.com/dex/media/sprites/rb/slurpuff.png: Not Found\n",
      "did not find https://www.smogon.com/dex/media/sprites/c/slurpuff.gif: Not Found\n",
      "did not find https://www.smogon.com/dex/media/sprites/rs/slurpuff.png: Not Found\n",
      "did not find https://www.smogon.com/dex/media/sprites/dp/slurpuff.png: Not Found\n",
      "did not find https://www.smogon.com/dex/media/sprites/bw/slurpuff.gif: Not Found\n"
     ]
    },
    {
     "name": "stderr",
     "output_type": "stream",
     "text": [
      " 67%|████████████████████████████████████████████████████▌                         | 876/1300 [57:45<27:10,  3.85s/it]"
     ]
    },
    {
     "name": "stdout",
     "output_type": "stream",
     "text": [
      "did not find https://www.smogon.com/dex/media/sprites/rb/inkay.png: Not Found\n",
      "did not find https://www.smogon.com/dex/media/sprites/c/inkay.gif: Not Found\n",
      "did not find https://www.smogon.com/dex/media/sprites/rs/inkay.png: Not Found\n",
      "did not find https://www.smogon.com/dex/media/sprites/dp/inkay.png: Not Found\n",
      "did not find https://www.smogon.com/dex/media/sprites/bw/inkay.gif: Not Found\n"
     ]
    },
    {
     "name": "stderr",
     "output_type": "stream",
     "text": [
      " 67%|████████████████████████████████████████████████████▌                         | 877/1300 [57:49<26:42,  3.79s/it]"
     ]
    },
    {
     "name": "stdout",
     "output_type": "stream",
     "text": [
      "did not find https://www.smogon.com/dex/media/sprites/rb/malamar.png: Not Found\n",
      "did not find https://www.smogon.com/dex/media/sprites/c/malamar.gif: Not Found\n",
      "did not find https://www.smogon.com/dex/media/sprites/rs/malamar.png: Not Found\n",
      "did not find https://www.smogon.com/dex/media/sprites/dp/malamar.png: Not Found\n",
      "did not find https://www.smogon.com/dex/media/sprites/bw/malamar.gif: Not Found\n"
     ]
    },
    {
     "name": "stderr",
     "output_type": "stream",
     "text": [
      " 68%|████████████████████████████████████████████████████▋                         | 878/1300 [57:53<27:10,  3.86s/it]"
     ]
    },
    {
     "name": "stdout",
     "output_type": "stream",
     "text": [
      "did not find https://www.smogon.com/dex/media/sprites/rb/binacle.png: Not Found\n",
      "did not find https://www.smogon.com/dex/media/sprites/c/binacle.gif: Not Found\n",
      "did not find https://www.smogon.com/dex/media/sprites/rs/binacle.png: Not Found\n",
      "did not find https://www.smogon.com/dex/media/sprites/dp/binacle.png: Not Found\n",
      "did not find https://www.smogon.com/dex/media/sprites/bw/binacle.gif: Not Found\n"
     ]
    },
    {
     "name": "stderr",
     "output_type": "stream",
     "text": [
      " 68%|████████████████████████████████████████████████████▋                         | 879/1300 [57:56<26:58,  3.85s/it]"
     ]
    },
    {
     "name": "stdout",
     "output_type": "stream",
     "text": [
      "did not find https://www.smogon.com/dex/media/sprites/rb/barbaracle.png: Not Found\n",
      "did not find https://www.smogon.com/dex/media/sprites/c/barbaracle.gif: Not Found\n",
      "did not find https://www.smogon.com/dex/media/sprites/rs/barbaracle.png: Not Found\n",
      "did not find https://www.smogon.com/dex/media/sprites/dp/barbaracle.png: Not Found\n",
      "did not find https://www.smogon.com/dex/media/sprites/bw/barbaracle.gif: Not Found\n"
     ]
    },
    {
     "name": "stderr",
     "output_type": "stream",
     "text": [
      " 68%|████████████████████████████████████████████████████▊                         | 880/1300 [58:00<27:00,  3.86s/it]"
     ]
    },
    {
     "name": "stdout",
     "output_type": "stream",
     "text": [
      "did not find https://www.smogon.com/dex/media/sprites/rb/skrelp.png: Not Found\n",
      "did not find https://www.smogon.com/dex/media/sprites/c/skrelp.gif: Not Found\n",
      "did not find https://www.smogon.com/dex/media/sprites/rs/skrelp.png: Not Found\n",
      "did not find https://www.smogon.com/dex/media/sprites/dp/skrelp.png: Not Found\n",
      "did not find https://www.smogon.com/dex/media/sprites/bw/skrelp.gif: Not Found\n"
     ]
    },
    {
     "name": "stderr",
     "output_type": "stream",
     "text": [
      " 68%|████████████████████████████████████████████████████▊                         | 881/1300 [58:04<26:51,  3.85s/it]"
     ]
    },
    {
     "name": "stdout",
     "output_type": "stream",
     "text": [
      "did not find https://www.smogon.com/dex/media/sprites/rb/dragalge.png: Not Found\n",
      "did not find https://www.smogon.com/dex/media/sprites/c/dragalge.gif: Not Found\n",
      "did not find https://www.smogon.com/dex/media/sprites/rs/dragalge.png: Not Found\n",
      "did not find https://www.smogon.com/dex/media/sprites/dp/dragalge.png: Not Found\n",
      "did not find https://www.smogon.com/dex/media/sprites/bw/dragalge.gif: Not Found\n"
     ]
    },
    {
     "name": "stderr",
     "output_type": "stream",
     "text": [
      " 68%|████████████████████████████████████████████████████▉                         | 882/1300 [58:08<27:07,  3.89s/it]"
     ]
    },
    {
     "name": "stdout",
     "output_type": "stream",
     "text": [
      "did not find https://www.smogon.com/dex/media/sprites/rb/clauncher.png: Not Found\n",
      "did not find https://www.smogon.com/dex/media/sprites/c/clauncher.gif: Not Found\n",
      "did not find https://www.smogon.com/dex/media/sprites/rs/clauncher.png: Not Found\n",
      "did not find https://www.smogon.com/dex/media/sprites/dp/clauncher.png: Not Found\n",
      "did not find https://www.smogon.com/dex/media/sprites/bw/clauncher.gif: Not Found\n"
     ]
    },
    {
     "name": "stderr",
     "output_type": "stream",
     "text": [
      " 68%|████████████████████████████████████████████████████▉                         | 883/1300 [58:12<26:37,  3.83s/it]"
     ]
    },
    {
     "name": "stdout",
     "output_type": "stream",
     "text": [
      "did not find https://www.smogon.com/dex/media/sprites/rb/clawitzer.png: Not Found\n",
      "did not find https://www.smogon.com/dex/media/sprites/c/clawitzer.gif: Not Found\n",
      "did not find https://www.smogon.com/dex/media/sprites/rs/clawitzer.png: Not Found\n",
      "did not find https://www.smogon.com/dex/media/sprites/dp/clawitzer.png: Not Found\n",
      "did not find https://www.smogon.com/dex/media/sprites/bw/clawitzer.gif: Not Found\n"
     ]
    },
    {
     "name": "stderr",
     "output_type": "stream",
     "text": [
      " 68%|█████████████████████████████████████████████████████                         | 884/1300 [58:16<26:28,  3.82s/it]"
     ]
    },
    {
     "name": "stdout",
     "output_type": "stream",
     "text": [
      "did not find https://www.smogon.com/dex/media/sprites/rb/helioptile.png: Not Found\n",
      "did not find https://www.smogon.com/dex/media/sprites/c/helioptile.gif: Not Found\n",
      "did not find https://www.smogon.com/dex/media/sprites/rs/helioptile.png: Not Found\n",
      "did not find https://www.smogon.com/dex/media/sprites/dp/helioptile.png: Not Found\n",
      "did not find https://www.smogon.com/dex/media/sprites/bw/helioptile.gif: Not Found\n"
     ]
    },
    {
     "name": "stderr",
     "output_type": "stream",
     "text": [
      " 68%|█████████████████████████████████████████████████████                         | 885/1300 [58:19<26:14,  3.79s/it]"
     ]
    },
    {
     "name": "stdout",
     "output_type": "stream",
     "text": [
      "did not find https://www.smogon.com/dex/media/sprites/rb/heliolisk.png: Not Found\n",
      "did not find https://www.smogon.com/dex/media/sprites/c/heliolisk.gif: Not Found\n",
      "did not find https://www.smogon.com/dex/media/sprites/rs/heliolisk.png: Not Found\n",
      "did not find https://www.smogon.com/dex/media/sprites/dp/heliolisk.png: Not Found\n",
      "did not find https://www.smogon.com/dex/media/sprites/bw/heliolisk.gif: Not Found\n"
     ]
    },
    {
     "name": "stderr",
     "output_type": "stream",
     "text": [
      " 68%|█████████████████████████████████████████████████████▏                        | 886/1300 [58:23<26:24,  3.83s/it]"
     ]
    },
    {
     "name": "stdout",
     "output_type": "stream",
     "text": [
      "did not find https://www.smogon.com/dex/media/sprites/rb/tyrunt.png: Not Found\n",
      "did not find https://www.smogon.com/dex/media/sprites/c/tyrunt.gif: Not Found\n",
      "did not find https://www.smogon.com/dex/media/sprites/rs/tyrunt.png: Not Found\n",
      "did not find https://www.smogon.com/dex/media/sprites/dp/tyrunt.png: Not Found\n",
      "did not find https://www.smogon.com/dex/media/sprites/bw/tyrunt.gif: Not Found\n"
     ]
    },
    {
     "name": "stderr",
     "output_type": "stream",
     "text": [
      " 68%|█████████████████████████████████████████████████████▏                        | 887/1300 [58:27<26:23,  3.84s/it]"
     ]
    },
    {
     "name": "stdout",
     "output_type": "stream",
     "text": [
      "did not find https://www.smogon.com/dex/media/sprites/rb/tyrantrum.png: Not Found\n",
      "did not find https://www.smogon.com/dex/media/sprites/c/tyrantrum.gif: Not Found\n",
      "did not find https://www.smogon.com/dex/media/sprites/rs/tyrantrum.png: Not Found\n",
      "did not find https://www.smogon.com/dex/media/sprites/dp/tyrantrum.png: Not Found\n",
      "did not find https://www.smogon.com/dex/media/sprites/bw/tyrantrum.gif: Not Found\n"
     ]
    },
    {
     "name": "stderr",
     "output_type": "stream",
     "text": [
      " 68%|█████████████████████████████████████████████████████▎                        | 888/1300 [58:31<26:38,  3.88s/it]"
     ]
    },
    {
     "name": "stdout",
     "output_type": "stream",
     "text": [
      "did not find https://www.smogon.com/dex/media/sprites/rb/amaura.png: Not Found\n",
      "did not find https://www.smogon.com/dex/media/sprites/c/amaura.gif: Not Found\n",
      "did not find https://www.smogon.com/dex/media/sprites/rs/amaura.png: Not Found\n",
      "did not find https://www.smogon.com/dex/media/sprites/dp/amaura.png: Not Found\n",
      "did not find https://www.smogon.com/dex/media/sprites/bw/amaura.gif: Not Found\n"
     ]
    },
    {
     "name": "stderr",
     "output_type": "stream",
     "text": [
      " 68%|█████████████████████████████████████████████████████▎                        | 889/1300 [58:35<26:35,  3.88s/it]"
     ]
    },
    {
     "name": "stdout",
     "output_type": "stream",
     "text": [
      "did not find https://www.smogon.com/dex/media/sprites/rb/aurorus.png: Not Found\n",
      "did not find https://www.smogon.com/dex/media/sprites/c/aurorus.gif: Not Found\n",
      "did not find https://www.smogon.com/dex/media/sprites/rs/aurorus.png: Not Found\n",
      "did not find https://www.smogon.com/dex/media/sprites/dp/aurorus.png: Not Found\n",
      "did not find https://www.smogon.com/dex/media/sprites/bw/aurorus.gif: Not Found\n"
     ]
    },
    {
     "name": "stderr",
     "output_type": "stream",
     "text": [
      " 68%|█████████████████████████████████████████████████████▍                        | 890/1300 [58:39<26:45,  3.92s/it]"
     ]
    },
    {
     "name": "stdout",
     "output_type": "stream",
     "text": [
      "did not find https://www.smogon.com/dex/media/sprites/rb/sylveon.png: Not Found\n",
      "did not find https://www.smogon.com/dex/media/sprites/c/sylveon.gif: Not Found\n",
      "did not find https://www.smogon.com/dex/media/sprites/rs/sylveon.png: Not Found\n",
      "did not find https://www.smogon.com/dex/media/sprites/dp/sylveon.png: Not Found\n",
      "did not find https://www.smogon.com/dex/media/sprites/bw/sylveon.gif: Not Found\n"
     ]
    },
    {
     "name": "stderr",
     "output_type": "stream",
     "text": [
      " 69%|█████████████████████████████████████████████████████▍                        | 891/1300 [58:43<26:28,  3.88s/it]"
     ]
    },
    {
     "name": "stdout",
     "output_type": "stream",
     "text": [
      "did not find https://www.smogon.com/dex/media/sprites/rb/hawlucha.png: Not Found\n",
      "did not find https://www.smogon.com/dex/media/sprites/c/hawlucha.gif: Not Found\n",
      "did not find https://www.smogon.com/dex/media/sprites/rs/hawlucha.png: Not Found\n",
      "did not find https://www.smogon.com/dex/media/sprites/dp/hawlucha.png: Not Found\n",
      "did not find https://www.smogon.com/dex/media/sprites/bw/hawlucha.gif: Not Found\n"
     ]
    },
    {
     "name": "stderr",
     "output_type": "stream",
     "text": [
      " 69%|█████████████████████████████████████████████████████▌                        | 892/1300 [58:47<26:16,  3.86s/it]"
     ]
    },
    {
     "name": "stdout",
     "output_type": "stream",
     "text": [
      "did not find https://www.smogon.com/dex/media/sprites/rb/dedenne.png: Not Found\n",
      "did not find https://www.smogon.com/dex/media/sprites/c/dedenne.gif: Not Found\n",
      "did not find https://www.smogon.com/dex/media/sprites/rs/dedenne.png: Not Found\n",
      "did not find https://www.smogon.com/dex/media/sprites/dp/dedenne.png: Not Found\n",
      "did not find https://www.smogon.com/dex/media/sprites/bw/dedenne.gif: Not Found\n"
     ]
    },
    {
     "name": "stderr",
     "output_type": "stream",
     "text": [
      " 69%|█████████████████████████████████████████████████████▌                        | 893/1300 [58:50<25:50,  3.81s/it]"
     ]
    },
    {
     "name": "stdout",
     "output_type": "stream",
     "text": [
      "did not find https://www.smogon.com/dex/media/sprites/rb/carbink.png: Not Found\n",
      "did not find https://www.smogon.com/dex/media/sprites/c/carbink.gif: Not Found\n",
      "did not find https://www.smogon.com/dex/media/sprites/rs/carbink.png: Not Found\n",
      "did not find https://www.smogon.com/dex/media/sprites/dp/carbink.png: Not Found\n",
      "did not find https://www.smogon.com/dex/media/sprites/bw/carbink.gif: Not Found\n"
     ]
    },
    {
     "name": "stderr",
     "output_type": "stream",
     "text": [
      " 69%|█████████████████████████████████████████████████████▋                        | 894/1300 [58:54<26:02,  3.85s/it]"
     ]
    },
    {
     "name": "stdout",
     "output_type": "stream",
     "text": [
      "did not find https://www.smogon.com/dex/media/sprites/rb/goomy.png: Not Found\n",
      "did not find https://www.smogon.com/dex/media/sprites/c/goomy.gif: Not Found\n",
      "did not find https://www.smogon.com/dex/media/sprites/rs/goomy.png: Not Found\n",
      "did not find https://www.smogon.com/dex/media/sprites/dp/goomy.png: Not Found\n",
      "did not find https://www.smogon.com/dex/media/sprites/bw/goomy.gif: Not Found\n"
     ]
    },
    {
     "name": "stderr",
     "output_type": "stream",
     "text": [
      " 69%|█████████████████████████████████████████████████████▋                        | 895/1300 [58:58<25:46,  3.82s/it]"
     ]
    },
    {
     "name": "stdout",
     "output_type": "stream",
     "text": [
      "did not find https://www.smogon.com/dex/media/sprites/rb/sliggoo.png: Not Found\n",
      "did not find https://www.smogon.com/dex/media/sprites/c/sliggoo.gif: Not Found\n",
      "did not find https://www.smogon.com/dex/media/sprites/rs/sliggoo.png: Not Found\n",
      "did not find https://www.smogon.com/dex/media/sprites/dp/sliggoo.png: Not Found\n",
      "did not find https://www.smogon.com/dex/media/sprites/bw/sliggoo.gif: Not Found\n"
     ]
    },
    {
     "name": "stderr",
     "output_type": "stream",
     "text": [
      " 69%|█████████████████████████████████████████████████████▊                        | 896/1300 [59:02<25:39,  3.81s/it]"
     ]
    },
    {
     "name": "stdout",
     "output_type": "stream",
     "text": [
      "did not find https://www.smogon.com/dex/media/sprites/rb/sliggoo-hisui.png: Not Found\n",
      "did not find https://www.smogon.com/dex/media/sprites/c/sliggoo-hisui.gif: Not Found\n",
      "did not find https://www.smogon.com/dex/media/sprites/rs/sliggoo-hisui.png: Not Found\n",
      "did not find https://www.smogon.com/dex/media/sprites/dp/sliggoo-hisui.png: Not Found\n",
      "did not find https://www.smogon.com/dex/media/sprites/bw/sliggoo-hisui.gif: Not Found\n"
     ]
    },
    {
     "name": "stderr",
     "output_type": "stream",
     "text": [
      " 69%|█████████████████████████████████████████████████████▊                        | 897/1300 [59:05<25:06,  3.74s/it]"
     ]
    },
    {
     "name": "stdout",
     "output_type": "stream",
     "text": [
      "did not find https://www.smogon.com/dex/media/sprites/rb/goodra.png: Not Found\n",
      "did not find https://www.smogon.com/dex/media/sprites/c/goodra.gif: Not Found\n",
      "did not find https://www.smogon.com/dex/media/sprites/rs/goodra.png: Not Found\n",
      "did not find https://www.smogon.com/dex/media/sprites/dp/goodra.png: Not Found\n",
      "did not find https://www.smogon.com/dex/media/sprites/bw/goodra.gif: Not Found\n"
     ]
    },
    {
     "name": "stderr",
     "output_type": "stream",
     "text": [
      " 69%|█████████████████████████████████████████████████████▉                        | 898/1300 [59:09<25:09,  3.75s/it]"
     ]
    },
    {
     "name": "stdout",
     "output_type": "stream",
     "text": [
      "did not find https://www.smogon.com/dex/media/sprites/rb/goodra-hisui.png: Not Found\n",
      "did not find https://www.smogon.com/dex/media/sprites/c/goodra-hisui.gif: Not Found\n",
      "did not find https://www.smogon.com/dex/media/sprites/rs/goodra-hisui.png: Not Found\n",
      "did not find https://www.smogon.com/dex/media/sprites/dp/goodra-hisui.png: Not Found\n",
      "did not find https://www.smogon.com/dex/media/sprites/bw/goodra-hisui.gif: Not Found\n"
     ]
    },
    {
     "name": "stderr",
     "output_type": "stream",
     "text": [
      " 69%|█████████████████████████████████████████████████████▉                        | 899/1300 [59:13<24:35,  3.68s/it]"
     ]
    },
    {
     "name": "stdout",
     "output_type": "stream",
     "text": [
      "did not find https://www.smogon.com/dex/media/sprites/rb/klefki.png: Not Found\n",
      "did not find https://www.smogon.com/dex/media/sprites/c/klefki.gif: Not Found\n",
      "did not find https://www.smogon.com/dex/media/sprites/rs/klefki.png: Not Found\n",
      "did not find https://www.smogon.com/dex/media/sprites/dp/klefki.png: Not Found\n",
      "did not find https://www.smogon.com/dex/media/sprites/bw/klefki.gif: Not Found\n"
     ]
    },
    {
     "name": "stderr",
     "output_type": "stream",
     "text": [
      " 69%|██████████████████████████████████████████████████████                        | 900/1300 [59:16<24:47,  3.72s/it]"
     ]
    },
    {
     "name": "stdout",
     "output_type": "stream",
     "text": [
      "did not find https://www.smogon.com/dex/media/sprites/rb/phantump.png: Not Found\n",
      "did not find https://www.smogon.com/dex/media/sprites/c/phantump.gif: Not Found\n",
      "did not find https://www.smogon.com/dex/media/sprites/rs/phantump.png: Not Found\n",
      "did not find https://www.smogon.com/dex/media/sprites/dp/phantump.png: Not Found\n",
      "did not find https://www.smogon.com/dex/media/sprites/bw/phantump.gif: Not Found\n"
     ]
    },
    {
     "name": "stderr",
     "output_type": "stream",
     "text": [
      " 69%|██████████████████████████████████████████████████████                        | 901/1300 [59:20<24:58,  3.75s/it]"
     ]
    },
    {
     "name": "stdout",
     "output_type": "stream",
     "text": [
      "did not find https://www.smogon.com/dex/media/sprites/rb/trevenant.png: Not Found\n",
      "did not find https://www.smogon.com/dex/media/sprites/c/trevenant.gif: Not Found\n",
      "did not find https://www.smogon.com/dex/media/sprites/rs/trevenant.png: Not Found\n",
      "did not find https://www.smogon.com/dex/media/sprites/dp/trevenant.png: Not Found\n",
      "did not find https://www.smogon.com/dex/media/sprites/bw/trevenant.gif: Not Found\n"
     ]
    },
    {
     "name": "stderr",
     "output_type": "stream",
     "text": [
      " 69%|██████████████████████████████████████████████████████                        | 902/1300 [59:24<25:24,  3.83s/it]"
     ]
    },
    {
     "name": "stdout",
     "output_type": "stream",
     "text": [
      "did not find https://www.smogon.com/dex/media/sprites/rb/pumpkaboo.png: Not Found\n",
      "did not find https://www.smogon.com/dex/media/sprites/c/pumpkaboo.gif: Not Found\n",
      "did not find https://www.smogon.com/dex/media/sprites/rs/pumpkaboo.png: Not Found\n",
      "did not find https://www.smogon.com/dex/media/sprites/dp/pumpkaboo.png: Not Found\n",
      "did not find https://www.smogon.com/dex/media/sprites/bw/pumpkaboo.gif: Not Found\n"
     ]
    },
    {
     "name": "stderr",
     "output_type": "stream",
     "text": [
      " 69%|██████████████████████████████████████████████████████▏                       | 903/1300 [59:28<25:25,  3.84s/it]"
     ]
    },
    {
     "name": "stdout",
     "output_type": "stream",
     "text": [
      "did not find https://www.smogon.com/dex/media/sprites/rb/pumpkaboo-small.png: Not Found\n",
      "did not find https://www.smogon.com/dex/media/sprites/c/pumpkaboo-small.gif: Not Found\n",
      "did not find https://www.smogon.com/dex/media/sprites/rs/pumpkaboo-small.png: Not Found\n",
      "did not find https://www.smogon.com/dex/media/sprites/dp/pumpkaboo-small.png: Not Found\n",
      "did not find https://www.smogon.com/dex/media/sprites/bw/pumpkaboo-small.gif: Not Found\n"
     ]
    },
    {
     "name": "stderr",
     "output_type": "stream",
     "text": [
      " 70%|██████████████████████████████████████████████████████▏                       | 904/1300 [59:32<25:25,  3.85s/it]"
     ]
    },
    {
     "name": "stdout",
     "output_type": "stream",
     "text": [
      "did not find https://www.smogon.com/dex/media/sprites/rb/pumpkaboo-large.png: Not Found\n",
      "did not find https://www.smogon.com/dex/media/sprites/c/pumpkaboo-large.gif: Not Found\n",
      "did not find https://www.smogon.com/dex/media/sprites/rs/pumpkaboo-large.png: Not Found\n",
      "did not find https://www.smogon.com/dex/media/sprites/dp/pumpkaboo-large.png: Not Found\n",
      "did not find https://www.smogon.com/dex/media/sprites/bw/pumpkaboo-large.gif: Not Found\n"
     ]
    },
    {
     "name": "stderr",
     "output_type": "stream",
     "text": [
      " 70%|██████████████████████████████████████████████████████▎                       | 905/1300 [59:36<25:15,  3.84s/it]"
     ]
    },
    {
     "name": "stdout",
     "output_type": "stream",
     "text": [
      "did not find https://www.smogon.com/dex/media/sprites/rb/pumpkaboo-super.png: Not Found\n",
      "did not find https://www.smogon.com/dex/media/sprites/c/pumpkaboo-super.gif: Not Found\n",
      "did not find https://www.smogon.com/dex/media/sprites/rs/pumpkaboo-super.png: Not Found\n",
      "did not find https://www.smogon.com/dex/media/sprites/dp/pumpkaboo-super.png: Not Found\n",
      "did not find https://www.smogon.com/dex/media/sprites/bw/pumpkaboo-super.gif: Not Found\n"
     ]
    },
    {
     "name": "stderr",
     "output_type": "stream",
     "text": [
      " 70%|██████████████████████████████████████████████████████▎                       | 906/1300 [59:40<25:07,  3.83s/it]"
     ]
    },
    {
     "name": "stdout",
     "output_type": "stream",
     "text": [
      "did not find https://www.smogon.com/dex/media/sprites/rb/gourgeist.png: Not Found\n",
      "did not find https://www.smogon.com/dex/media/sprites/c/gourgeist.gif: Not Found\n",
      "did not find https://www.smogon.com/dex/media/sprites/rs/gourgeist.png: Not Found\n",
      "did not find https://www.smogon.com/dex/media/sprites/dp/gourgeist.png: Not Found\n",
      "did not find https://www.smogon.com/dex/media/sprites/bw/gourgeist.gif: Not Found\n"
     ]
    },
    {
     "name": "stderr",
     "output_type": "stream",
     "text": [
      " 70%|██████████████████████████████████████████████████████▍                       | 907/1300 [59:43<24:47,  3.78s/it]"
     ]
    },
    {
     "name": "stdout",
     "output_type": "stream",
     "text": [
      "did not find https://www.smogon.com/dex/media/sprites/rb/gourgeist-small.png: Not Found\n",
      "did not find https://www.smogon.com/dex/media/sprites/c/gourgeist-small.gif: Not Found\n",
      "did not find https://www.smogon.com/dex/media/sprites/rs/gourgeist-small.png: Not Found\n",
      "did not find https://www.smogon.com/dex/media/sprites/dp/gourgeist-small.png: Not Found\n",
      "did not find https://www.smogon.com/dex/media/sprites/bw/gourgeist-small.gif: Not Found\n"
     ]
    },
    {
     "name": "stderr",
     "output_type": "stream",
     "text": [
      " 70%|██████████████████████████████████████████████████████▍                       | 908/1300 [59:47<24:28,  3.75s/it]"
     ]
    },
    {
     "name": "stdout",
     "output_type": "stream",
     "text": [
      "did not find https://www.smogon.com/dex/media/sprites/rb/gourgeist-large.png: Not Found\n",
      "did not find https://www.smogon.com/dex/media/sprites/c/gourgeist-large.gif: Not Found\n",
      "did not find https://www.smogon.com/dex/media/sprites/rs/gourgeist-large.png: Not Found\n",
      "did not find https://www.smogon.com/dex/media/sprites/dp/gourgeist-large.png: Not Found\n",
      "did not find https://www.smogon.com/dex/media/sprites/bw/gourgeist-large.gif: Not Found\n"
     ]
    },
    {
     "name": "stderr",
     "output_type": "stream",
     "text": [
      " 70%|██████████████████████████████████████████████████████▌                       | 909/1300 [59:51<24:13,  3.72s/it]"
     ]
    },
    {
     "name": "stdout",
     "output_type": "stream",
     "text": [
      "did not find https://www.smogon.com/dex/media/sprites/rb/gourgeist-super.png: Not Found\n",
      "did not find https://www.smogon.com/dex/media/sprites/c/gourgeist-super.gif: Not Found\n",
      "did not find https://www.smogon.com/dex/media/sprites/rs/gourgeist-super.png: Not Found\n",
      "did not find https://www.smogon.com/dex/media/sprites/dp/gourgeist-super.png: Not Found\n",
      "did not find https://www.smogon.com/dex/media/sprites/bw/gourgeist-super.gif: Not Found\n"
     ]
    },
    {
     "name": "stderr",
     "output_type": "stream",
     "text": [
      " 70%|██████████████████████████████████████████████████████▌                       | 910/1300 [59:54<24:04,  3.71s/it]"
     ]
    },
    {
     "name": "stdout",
     "output_type": "stream",
     "text": [
      "did not find https://www.smogon.com/dex/media/sprites/rb/bergmite.png: Not Found\n",
      "did not find https://www.smogon.com/dex/media/sprites/c/bergmite.gif: Not Found\n",
      "did not find https://www.smogon.com/dex/media/sprites/rs/bergmite.png: Not Found\n",
      "did not find https://www.smogon.com/dex/media/sprites/dp/bergmite.png: Not Found\n",
      "did not find https://www.smogon.com/dex/media/sprites/bw/bergmite.gif: Not Found\n"
     ]
    },
    {
     "name": "stderr",
     "output_type": "stream",
     "text": [
      " 70%|██████████████████████████████████████████████████████▋                       | 911/1300 [59:58<23:46,  3.67s/it]"
     ]
    },
    {
     "name": "stdout",
     "output_type": "stream",
     "text": [
      "did not find https://www.smogon.com/dex/media/sprites/rb/avalugg.png: Not Found\n",
      "did not find https://www.smogon.com/dex/media/sprites/c/avalugg.gif: Not Found\n",
      "did not find https://www.smogon.com/dex/media/sprites/rs/avalugg.png: Not Found\n",
      "did not find https://www.smogon.com/dex/media/sprites/dp/avalugg.png: Not Found\n",
      "did not find https://www.smogon.com/dex/media/sprites/bw/avalugg.gif: Not Found\n"
     ]
    },
    {
     "name": "stderr",
     "output_type": "stream",
     "text": [
      " 70%|█████████████████████████████████████████████████████▎                      | 912/1300 [1:00:02<23:55,  3.70s/it]"
     ]
    },
    {
     "name": "stdout",
     "output_type": "stream",
     "text": [
      "did not find https://www.smogon.com/dex/media/sprites/rb/avalugg-hisui.png: Not Found\n",
      "did not find https://www.smogon.com/dex/media/sprites/c/avalugg-hisui.gif: Not Found\n",
      "did not find https://www.smogon.com/dex/media/sprites/rs/avalugg-hisui.png: Not Found\n",
      "did not find https://www.smogon.com/dex/media/sprites/dp/avalugg-hisui.png: Not Found\n",
      "did not find https://www.smogon.com/dex/media/sprites/bw/avalugg-hisui.gif: Not Found\n"
     ]
    },
    {
     "name": "stderr",
     "output_type": "stream",
     "text": [
      " 70%|█████████████████████████████████████████████████████▍                      | 913/1300 [1:00:05<23:38,  3.67s/it]"
     ]
    },
    {
     "name": "stdout",
     "output_type": "stream",
     "text": [
      "did not find https://www.smogon.com/dex/media/sprites/rb/noibat.png: Not Found\n",
      "did not find https://www.smogon.com/dex/media/sprites/c/noibat.gif: Not Found\n",
      "did not find https://www.smogon.com/dex/media/sprites/rs/noibat.png: Not Found\n",
      "did not find https://www.smogon.com/dex/media/sprites/dp/noibat.png: Not Found\n",
      "did not find https://www.smogon.com/dex/media/sprites/bw/noibat.gif: Not Found\n"
     ]
    },
    {
     "name": "stderr",
     "output_type": "stream",
     "text": [
      " 70%|█████████████████████████████████████████████████████▍                      | 914/1300 [1:00:09<23:32,  3.66s/it]"
     ]
    },
    {
     "name": "stdout",
     "output_type": "stream",
     "text": [
      "did not find https://www.smogon.com/dex/media/sprites/rb/noivern.png: Not Found\n",
      "did not find https://www.smogon.com/dex/media/sprites/c/noivern.gif: Not Found\n",
      "did not find https://www.smogon.com/dex/media/sprites/rs/noivern.png: Not Found\n",
      "did not find https://www.smogon.com/dex/media/sprites/dp/noivern.png: Not Found\n",
      "did not find https://www.smogon.com/dex/media/sprites/bw/noivern.gif: Not Found\n"
     ]
    },
    {
     "name": "stderr",
     "output_type": "stream",
     "text": [
      " 70%|█████████████████████████████████████████████████████▍                      | 915/1300 [1:00:12<23:21,  3.64s/it]"
     ]
    },
    {
     "name": "stdout",
     "output_type": "stream",
     "text": [
      "did not find https://www.smogon.com/dex/media/sprites/rb/xerneas.png: Not Found\n",
      "did not find https://www.smogon.com/dex/media/sprites/c/xerneas.gif: Not Found\n",
      "did not find https://www.smogon.com/dex/media/sprites/rs/xerneas.png: Not Found\n",
      "did not find https://www.smogon.com/dex/media/sprites/dp/xerneas.png: Not Found\n",
      "did not find https://www.smogon.com/dex/media/sprites/bw/xerneas.gif: Not Found\n"
     ]
    },
    {
     "name": "stderr",
     "output_type": "stream",
     "text": [
      " 70%|█████████████████████████████████████████████████████▌                      | 916/1300 [1:00:16<23:29,  3.67s/it]"
     ]
    },
    {
     "name": "stdout",
     "output_type": "stream",
     "text": [
      "did not find https://www.smogon.com/dex/media/sprites/rb/xerneas-neutral.png: Not Found\n",
      "did not find https://www.smogon.com/dex/media/sprites/c/xerneas-neutral.gif: Not Found\n",
      "did not find https://www.smogon.com/dex/media/sprites/rs/xerneas-neutral.png: Not Found\n",
      "did not find https://www.smogon.com/dex/media/sprites/dp/xerneas-neutral.png: Not Found\n",
      "did not find https://www.smogon.com/dex/media/sprites/bw/xerneas-neutral.gif: Not Found\n"
     ]
    },
    {
     "name": "stderr",
     "output_type": "stream",
     "text": [
      " 71%|█████████████████████████████████████████████████████▌                      | 917/1300 [1:00:20<22:54,  3.59s/it]"
     ]
    },
    {
     "name": "stdout",
     "output_type": "stream",
     "text": [
      "did not find https://www.smogon.com/dex/media/sprites/xy/xerneas-neutral.gif: Not Found\n",
      "did not find https://www.smogon.com/dex/media/sprites/rb/yveltal.png: Not Found\n",
      "did not find https://www.smogon.com/dex/media/sprites/c/yveltal.gif: Not Found\n",
      "did not find https://www.smogon.com/dex/media/sprites/rs/yveltal.png: Not Found\n",
      "did not find https://www.smogon.com/dex/media/sprites/dp/yveltal.png: Not Found\n",
      "did not find https://www.smogon.com/dex/media/sprites/bw/yveltal.gif: Not Found\n"
     ]
    },
    {
     "name": "stderr",
     "output_type": "stream",
     "text": [
      " 71%|█████████████████████████████████████████████████████▋                      | 918/1300 [1:00:23<23:09,  3.64s/it]"
     ]
    },
    {
     "name": "stdout",
     "output_type": "stream",
     "text": [
      "did not find https://www.smogon.com/dex/media/sprites/rb/zygarde.png: Not Found\n",
      "did not find https://www.smogon.com/dex/media/sprites/c/zygarde.gif: Not Found\n",
      "did not find https://www.smogon.com/dex/media/sprites/rs/zygarde.png: Not Found\n",
      "did not find https://www.smogon.com/dex/media/sprites/dp/zygarde.png: Not Found\n",
      "did not find https://www.smogon.com/dex/media/sprites/bw/zygarde.gif: Not Found\n"
     ]
    },
    {
     "name": "stderr",
     "output_type": "stream",
     "text": [
      " 71%|█████████████████████████████████████████████████████▋                      | 919/1300 [1:00:27<23:36,  3.72s/it]"
     ]
    },
    {
     "name": "stdout",
     "output_type": "stream",
     "text": [
      "did not find https://www.smogon.com/dex/media/sprites/rb/zygarde-10%.png: Not Found\n",
      "did not find https://www.smogon.com/dex/media/sprites/c/zygarde-10%.gif: Not Found\n",
      "did not find https://www.smogon.com/dex/media/sprites/rs/zygarde-10%.png: Not Found\n",
      "did not find https://www.smogon.com/dex/media/sprites/dp/zygarde-10%.png: Not Found\n",
      "did not find https://www.smogon.com/dex/media/sprites/bw/zygarde-10%.gif: Not Found\n"
     ]
    },
    {
     "name": "stderr",
     "output_type": "stream",
     "text": [
      " 71%|█████████████████████████████████████████████████████▊                      | 920/1300 [1:00:31<22:57,  3.62s/it]"
     ]
    },
    {
     "name": "stdout",
     "output_type": "stream",
     "text": [
      "did not find https://www.smogon.com/dex/media/sprites/xy/zygarde-10%.gif: Not Found\n",
      "did not find https://www.smogon.com/dex/media/sprites/rb/zygarde-complete.png: Not Found\n",
      "did not find https://www.smogon.com/dex/media/sprites/c/zygarde-complete.gif: Not Found\n",
      "did not find https://www.smogon.com/dex/media/sprites/rs/zygarde-complete.png: Not Found\n",
      "did not find https://www.smogon.com/dex/media/sprites/dp/zygarde-complete.png: Not Found\n",
      "did not find https://www.smogon.com/dex/media/sprites/bw/zygarde-complete.gif: Not Found\n"
     ]
    },
    {
     "name": "stderr",
     "output_type": "stream",
     "text": [
      " 71%|█████████████████████████████████████████████████████▊                      | 921/1300 [1:00:35<23:30,  3.72s/it]"
     ]
    },
    {
     "name": "stdout",
     "output_type": "stream",
     "text": [
      "did not find https://www.smogon.com/dex/media/sprites/rb/diancie.png: Not Found\n",
      "did not find https://www.smogon.com/dex/media/sprites/c/diancie.gif: Not Found\n",
      "did not find https://www.smogon.com/dex/media/sprites/rs/diancie.png: Not Found\n",
      "did not find https://www.smogon.com/dex/media/sprites/dp/diancie.png: Not Found\n",
      "did not find https://www.smogon.com/dex/media/sprites/bw/diancie.gif: Not Found\n"
     ]
    },
    {
     "name": "stderr",
     "output_type": "stream",
     "text": [
      " 71%|█████████████████████████████████████████████████████▉                      | 922/1300 [1:00:38<23:39,  3.76s/it]"
     ]
    },
    {
     "name": "stdout",
     "output_type": "stream",
     "text": [
      "did not find https://www.smogon.com/dex/media/sprites/rb/diancie-mega.png: Not Found\n",
      "did not find https://www.smogon.com/dex/media/sprites/c/diancie-mega.gif: Not Found\n",
      "did not find https://www.smogon.com/dex/media/sprites/rs/diancie-mega.png: Not Found\n",
      "did not find https://www.smogon.com/dex/media/sprites/dp/diancie-mega.png: Not Found\n",
      "did not find https://www.smogon.com/dex/media/sprites/bw/diancie-mega.gif: Not Found\n"
     ]
    },
    {
     "name": "stderr",
     "output_type": "stream",
     "text": [
      " 71%|█████████████████████████████████████████████████████▉                      | 923/1300 [1:00:42<23:46,  3.78s/it]"
     ]
    },
    {
     "name": "stdout",
     "output_type": "stream",
     "text": [
      "did not find https://www.smogon.com/dex/media/sprites/rb/hoopa.png: Not Found\n",
      "did not find https://www.smogon.com/dex/media/sprites/c/hoopa.gif: Not Found\n",
      "did not find https://www.smogon.com/dex/media/sprites/rs/hoopa.png: Not Found\n",
      "did not find https://www.smogon.com/dex/media/sprites/dp/hoopa.png: Not Found\n",
      "did not find https://www.smogon.com/dex/media/sprites/bw/hoopa.gif: Not Found\n"
     ]
    },
    {
     "name": "stderr",
     "output_type": "stream",
     "text": [
      " 71%|██████████████████████████████████████████████████████                      | 924/1300 [1:00:46<23:33,  3.76s/it]"
     ]
    },
    {
     "name": "stdout",
     "output_type": "stream",
     "text": [
      "did not find https://www.smogon.com/dex/media/sprites/rb/hoopa-unbound.png: Not Found\n",
      "did not find https://www.smogon.com/dex/media/sprites/c/hoopa-unbound.gif: Not Found\n",
      "did not find https://www.smogon.com/dex/media/sprites/rs/hoopa-unbound.png: Not Found\n",
      "did not find https://www.smogon.com/dex/media/sprites/dp/hoopa-unbound.png: Not Found\n",
      "did not find https://www.smogon.com/dex/media/sprites/bw/hoopa-unbound.gif: Not Found\n"
     ]
    },
    {
     "name": "stderr",
     "output_type": "stream",
     "text": [
      " 71%|██████████████████████████████████████████████████████                      | 925/1300 [1:00:50<23:28,  3.76s/it]"
     ]
    },
    {
     "name": "stdout",
     "output_type": "stream",
     "text": [
      "did not find https://www.smogon.com/dex/media/sprites/rb/volcanion.png: Not Found\n",
      "did not find https://www.smogon.com/dex/media/sprites/c/volcanion.gif: Not Found\n",
      "did not find https://www.smogon.com/dex/media/sprites/rs/volcanion.png: Not Found\n",
      "did not find https://www.smogon.com/dex/media/sprites/dp/volcanion.png: Not Found\n",
      "did not find https://www.smogon.com/dex/media/sprites/bw/volcanion.gif: Not Found\n"
     ]
    },
    {
     "name": "stderr",
     "output_type": "stream",
     "text": [
      " 71%|██████████████████████████████████████████████████████▏                     | 926/1300 [1:00:54<23:31,  3.77s/it]"
     ]
    },
    {
     "name": "stdout",
     "output_type": "stream",
     "text": [
      "did not find https://www.smogon.com/dex/media/sprites/rb/rowlet.png: Not Found\n",
      "did not find https://www.smogon.com/dex/media/sprites/c/rowlet.gif: Not Found\n",
      "did not find https://www.smogon.com/dex/media/sprites/rs/rowlet.png: Not Found\n",
      "did not find https://www.smogon.com/dex/media/sprites/dp/rowlet.png: Not Found\n",
      "did not find https://www.smogon.com/dex/media/sprites/bw/rowlet.gif: Not Found\n"
     ]
    },
    {
     "name": "stderr",
     "output_type": "stream",
     "text": [
      " 71%|██████████████████████████████████████████████████████▏                     | 927/1300 [1:00:57<23:05,  3.72s/it]"
     ]
    },
    {
     "name": "stdout",
     "output_type": "stream",
     "text": [
      "did not find https://www.smogon.com/dex/media/sprites/rb/dartrix.png: Not Found\n",
      "did not find https://www.smogon.com/dex/media/sprites/c/dartrix.gif: Not Found\n",
      "did not find https://www.smogon.com/dex/media/sprites/rs/dartrix.png: Not Found\n",
      "did not find https://www.smogon.com/dex/media/sprites/dp/dartrix.png: Not Found\n",
      "did not find https://www.smogon.com/dex/media/sprites/bw/dartrix.gif: Not Found\n"
     ]
    },
    {
     "name": "stderr",
     "output_type": "stream",
     "text": [
      " 71%|██████████████████████████████████████████████████████▎                     | 928/1300 [1:01:01<22:44,  3.67s/it]"
     ]
    },
    {
     "name": "stdout",
     "output_type": "stream",
     "text": [
      "did not find https://www.smogon.com/dex/media/sprites/rb/decidueye.png: Not Found\n",
      "did not find https://www.smogon.com/dex/media/sprites/c/decidueye.gif: Not Found\n",
      "did not find https://www.smogon.com/dex/media/sprites/rs/decidueye.png: Not Found\n",
      "did not find https://www.smogon.com/dex/media/sprites/dp/decidueye.png: Not Found\n",
      "did not find https://www.smogon.com/dex/media/sprites/bw/decidueye.gif: Not Found\n"
     ]
    },
    {
     "name": "stderr",
     "output_type": "stream",
     "text": [
      " 71%|██████████████████████████████████████████████████████▎                     | 929/1300 [1:01:04<22:39,  3.66s/it]"
     ]
    },
    {
     "name": "stdout",
     "output_type": "stream",
     "text": [
      "did not find https://www.smogon.com/dex/media/sprites/rb/decidueye-hisui.png: Not Found\n",
      "did not find https://www.smogon.com/dex/media/sprites/c/decidueye-hisui.gif: Not Found\n",
      "did not find https://www.smogon.com/dex/media/sprites/rs/decidueye-hisui.png: Not Found\n",
      "did not find https://www.smogon.com/dex/media/sprites/dp/decidueye-hisui.png: Not Found\n",
      "did not find https://www.smogon.com/dex/media/sprites/bw/decidueye-hisui.gif: Not Found\n"
     ]
    },
    {
     "name": "stderr",
     "output_type": "stream",
     "text": [
      " 72%|██████████████████████████████████████████████████████▎                     | 930/1300 [1:01:08<22:01,  3.57s/it]"
     ]
    },
    {
     "name": "stdout",
     "output_type": "stream",
     "text": [
      "did not find https://www.smogon.com/dex/media/sprites/rb/litten.png: Not Found\n",
      "did not find https://www.smogon.com/dex/media/sprites/c/litten.gif: Not Found\n",
      "did not find https://www.smogon.com/dex/media/sprites/rs/litten.png: Not Found\n",
      "did not find https://www.smogon.com/dex/media/sprites/dp/litten.png: Not Found\n",
      "did not find https://www.smogon.com/dex/media/sprites/bw/litten.gif: Not Found\n"
     ]
    },
    {
     "name": "stderr",
     "output_type": "stream",
     "text": [
      " 72%|██████████████████████████████████████████████████████▍                     | 931/1300 [1:01:11<21:51,  3.56s/it]"
     ]
    },
    {
     "name": "stdout",
     "output_type": "stream",
     "text": [
      "did not find https://www.smogon.com/dex/media/sprites/rb/torracat.png: Not Found\n",
      "did not find https://www.smogon.com/dex/media/sprites/c/torracat.gif: Not Found\n",
      "did not find https://www.smogon.com/dex/media/sprites/rs/torracat.png: Not Found\n",
      "did not find https://www.smogon.com/dex/media/sprites/dp/torracat.png: Not Found\n",
      "did not find https://www.smogon.com/dex/media/sprites/bw/torracat.gif: Not Found\n"
     ]
    },
    {
     "name": "stderr",
     "output_type": "stream",
     "text": [
      " 72%|██████████████████████████████████████████████████████▍                     | 932/1300 [1:01:15<21:55,  3.58s/it]"
     ]
    },
    {
     "name": "stdout",
     "output_type": "stream",
     "text": [
      "did not find https://www.smogon.com/dex/media/sprites/rb/incineroar.png: Not Found\n",
      "did not find https://www.smogon.com/dex/media/sprites/c/incineroar.gif: Not Found\n",
      "did not find https://www.smogon.com/dex/media/sprites/rs/incineroar.png: Not Found\n",
      "did not find https://www.smogon.com/dex/media/sprites/dp/incineroar.png: Not Found\n",
      "did not find https://www.smogon.com/dex/media/sprites/bw/incineroar.gif: Not Found\n"
     ]
    },
    {
     "name": "stderr",
     "output_type": "stream",
     "text": [
      " 72%|██████████████████████████████████████████████████████▌                     | 933/1300 [1:01:19<22:05,  3.61s/it]"
     ]
    },
    {
     "name": "stdout",
     "output_type": "stream",
     "text": [
      "did not find https://www.smogon.com/dex/media/sprites/rb/popplio.png: Not Found\n",
      "did not find https://www.smogon.com/dex/media/sprites/c/popplio.gif: Not Found\n",
      "did not find https://www.smogon.com/dex/media/sprites/rs/popplio.png: Not Found\n",
      "did not find https://www.smogon.com/dex/media/sprites/dp/popplio.png: Not Found\n",
      "did not find https://www.smogon.com/dex/media/sprites/bw/popplio.gif: Not Found\n"
     ]
    },
    {
     "name": "stderr",
     "output_type": "stream",
     "text": [
      " 72%|██████████████████████████████████████████████████████▌                     | 934/1300 [1:01:22<21:56,  3.60s/it]"
     ]
    },
    {
     "name": "stdout",
     "output_type": "stream",
     "text": [
      "did not find https://www.smogon.com/dex/media/sprites/rb/brionne.png: Not Found\n",
      "did not find https://www.smogon.com/dex/media/sprites/c/brionne.gif: Not Found\n",
      "did not find https://www.smogon.com/dex/media/sprites/rs/brionne.png: Not Found\n",
      "did not find https://www.smogon.com/dex/media/sprites/dp/brionne.png: Not Found\n",
      "did not find https://www.smogon.com/dex/media/sprites/bw/brionne.gif: Not Found\n"
     ]
    },
    {
     "name": "stderr",
     "output_type": "stream",
     "text": [
      " 72%|██████████████████████████████████████████████████████▋                     | 935/1300 [1:01:26<21:55,  3.60s/it]"
     ]
    },
    {
     "name": "stdout",
     "output_type": "stream",
     "text": [
      "did not find https://www.smogon.com/dex/media/sprites/rb/primarina.png: Not Found\n",
      "did not find https://www.smogon.com/dex/media/sprites/c/primarina.gif: Not Found\n",
      "did not find https://www.smogon.com/dex/media/sprites/rs/primarina.png: Not Found\n",
      "did not find https://www.smogon.com/dex/media/sprites/dp/primarina.png: Not Found\n",
      "did not find https://www.smogon.com/dex/media/sprites/bw/primarina.gif: Not Found\n"
     ]
    },
    {
     "name": "stderr",
     "output_type": "stream",
     "text": [
      " 72%|██████████████████████████████████████████████████████▋                     | 936/1300 [1:01:30<22:16,  3.67s/it]"
     ]
    },
    {
     "name": "stdout",
     "output_type": "stream",
     "text": [
      "did not find https://www.smogon.com/dex/media/sprites/rb/pikipek.png: Not Found\n",
      "did not find https://www.smogon.com/dex/media/sprites/c/pikipek.gif: Not Found\n",
      "did not find https://www.smogon.com/dex/media/sprites/rs/pikipek.png: Not Found\n",
      "did not find https://www.smogon.com/dex/media/sprites/dp/pikipek.png: Not Found\n",
      "did not find https://www.smogon.com/dex/media/sprites/bw/pikipek.gif: Not Found\n"
     ]
    },
    {
     "name": "stderr",
     "output_type": "stream",
     "text": [
      " 72%|██████████████████████████████████████████████████████▊                     | 937/1300 [1:01:33<21:49,  3.61s/it]"
     ]
    },
    {
     "name": "stdout",
     "output_type": "stream",
     "text": [
      "did not find https://www.smogon.com/dex/media/sprites/rb/trumbeak.png: Not Found\n",
      "did not find https://www.smogon.com/dex/media/sprites/c/trumbeak.gif: Not Found\n",
      "did not find https://www.smogon.com/dex/media/sprites/rs/trumbeak.png: Not Found\n",
      "did not find https://www.smogon.com/dex/media/sprites/dp/trumbeak.png: Not Found\n",
      "did not find https://www.smogon.com/dex/media/sprites/bw/trumbeak.gif: Not Found\n"
     ]
    },
    {
     "name": "stderr",
     "output_type": "stream",
     "text": [
      " 72%|██████████████████████████████████████████████████████▊                     | 938/1300 [1:01:37<21:43,  3.60s/it]"
     ]
    },
    {
     "name": "stdout",
     "output_type": "stream",
     "text": [
      "did not find https://www.smogon.com/dex/media/sprites/rb/toucannon.png: Not Found\n",
      "did not find https://www.smogon.com/dex/media/sprites/c/toucannon.gif: Not Found\n",
      "did not find https://www.smogon.com/dex/media/sprites/rs/toucannon.png: Not Found\n",
      "did not find https://www.smogon.com/dex/media/sprites/dp/toucannon.png: Not Found\n",
      "did not find https://www.smogon.com/dex/media/sprites/bw/toucannon.gif: Not Found\n"
     ]
    },
    {
     "name": "stderr",
     "output_type": "stream",
     "text": [
      " 72%|██████████████████████████████████████████████████████▉                     | 939/1300 [1:01:40<21:52,  3.63s/it]"
     ]
    },
    {
     "name": "stdout",
     "output_type": "stream",
     "text": [
      "did not find https://www.smogon.com/dex/media/sprites/rb/yungoos.png: Not Found\n",
      "did not find https://www.smogon.com/dex/media/sprites/c/yungoos.gif: Not Found\n",
      "did not find https://www.smogon.com/dex/media/sprites/rs/yungoos.png: Not Found\n",
      "did not find https://www.smogon.com/dex/media/sprites/dp/yungoos.png: Not Found\n",
      "did not find https://www.smogon.com/dex/media/sprites/bw/yungoos.gif: Not Found\n"
     ]
    },
    {
     "name": "stderr",
     "output_type": "stream",
     "text": [
      " 72%|██████████████████████████████████████████████████████▉                     | 940/1300 [1:01:44<21:38,  3.61s/it]"
     ]
    },
    {
     "name": "stdout",
     "output_type": "stream",
     "text": [
      "did not find https://www.smogon.com/dex/media/sprites/rb/gumshoos.png: Not Found\n",
      "did not find https://www.smogon.com/dex/media/sprites/c/gumshoos.gif: Not Found\n",
      "did not find https://www.smogon.com/dex/media/sprites/rs/gumshoos.png: Not Found\n",
      "did not find https://www.smogon.com/dex/media/sprites/dp/gumshoos.png: Not Found\n",
      "did not find https://www.smogon.com/dex/media/sprites/bw/gumshoos.gif: Not Found\n"
     ]
    },
    {
     "name": "stderr",
     "output_type": "stream",
     "text": [
      " 72%|███████████████████████████████████████████████████████                     | 941/1300 [1:01:48<21:47,  3.64s/it]"
     ]
    },
    {
     "name": "stdout",
     "output_type": "stream",
     "text": [
      "did not find https://www.smogon.com/dex/media/sprites/rb/gumshoos-totem.png: Not Found\n",
      "did not find https://www.smogon.com/dex/media/sprites/c/gumshoos-totem.gif: Not Found\n",
      "did not find https://www.smogon.com/dex/media/sprites/rs/gumshoos-totem.png: Not Found\n",
      "did not find https://www.smogon.com/dex/media/sprites/dp/gumshoos-totem.png: Not Found\n",
      "did not find https://www.smogon.com/dex/media/sprites/bw/gumshoos-totem.gif: Not Found\n"
     ]
    },
    {
     "name": "stderr",
     "output_type": "stream",
     "text": [
      " 72%|███████████████████████████████████████████████████████                     | 942/1300 [1:01:51<22:12,  3.72s/it]"
     ]
    },
    {
     "name": "stdout",
     "output_type": "stream",
     "text": [
      "did not find https://www.smogon.com/dex/media/sprites/rb/grubbin.png: Not Found\n",
      "did not find https://www.smogon.com/dex/media/sprites/c/grubbin.gif: Not Found\n",
      "did not find https://www.smogon.com/dex/media/sprites/rs/grubbin.png: Not Found\n",
      "did not find https://www.smogon.com/dex/media/sprites/dp/grubbin.png: Not Found\n",
      "did not find https://www.smogon.com/dex/media/sprites/bw/grubbin.gif: Not Found\n"
     ]
    },
    {
     "name": "stderr",
     "output_type": "stream",
     "text": [
      " 73%|███████████████████████████████████████████████████████▏                    | 943/1300 [1:01:55<21:48,  3.67s/it]"
     ]
    },
    {
     "name": "stdout",
     "output_type": "stream",
     "text": [
      "did not find https://www.smogon.com/dex/media/sprites/rb/charjabug.png: Not Found\n",
      "did not find https://www.smogon.com/dex/media/sprites/c/charjabug.gif: Not Found\n",
      "did not find https://www.smogon.com/dex/media/sprites/rs/charjabug.png: Not Found\n",
      "did not find https://www.smogon.com/dex/media/sprites/dp/charjabug.png: Not Found\n",
      "did not find https://www.smogon.com/dex/media/sprites/bw/charjabug.gif: Not Found\n"
     ]
    },
    {
     "name": "stderr",
     "output_type": "stream",
     "text": [
      " 73%|███████████████████████████████████████████████████████▏                    | 944/1300 [1:01:59<21:40,  3.65s/it]"
     ]
    },
    {
     "name": "stdout",
     "output_type": "stream",
     "text": [
      "did not find https://www.smogon.com/dex/media/sprites/rb/vikavolt.png: Not Found\n",
      "did not find https://www.smogon.com/dex/media/sprites/c/vikavolt.gif: Not Found\n",
      "did not find https://www.smogon.com/dex/media/sprites/rs/vikavolt.png: Not Found\n",
      "did not find https://www.smogon.com/dex/media/sprites/dp/vikavolt.png: Not Found\n",
      "did not find https://www.smogon.com/dex/media/sprites/bw/vikavolt.gif: Not Found\n"
     ]
    },
    {
     "name": "stderr",
     "output_type": "stream",
     "text": [
      " 73%|███████████████████████████████████████████████████████▏                    | 945/1300 [1:02:02<21:53,  3.70s/it]"
     ]
    },
    {
     "name": "stdout",
     "output_type": "stream",
     "text": [
      "did not find https://www.smogon.com/dex/media/sprites/rb/vikavolt-totem.png: Not Found\n",
      "did not find https://www.smogon.com/dex/media/sprites/c/vikavolt-totem.gif: Not Found\n",
      "did not find https://www.smogon.com/dex/media/sprites/rs/vikavolt-totem.png: Not Found\n",
      "did not find https://www.smogon.com/dex/media/sprites/dp/vikavolt-totem.png: Not Found\n",
      "did not find https://www.smogon.com/dex/media/sprites/bw/vikavolt-totem.gif: Not Found\n"
     ]
    },
    {
     "name": "stderr",
     "output_type": "stream",
     "text": [
      " 73%|███████████████████████████████████████████████████████▎                    | 946/1300 [1:02:06<22:13,  3.77s/it]"
     ]
    },
    {
     "name": "stdout",
     "output_type": "stream",
     "text": [
      "did not find https://www.smogon.com/dex/media/sprites/rb/crabrawler.png: Not Found\n",
      "did not find https://www.smogon.com/dex/media/sprites/c/crabrawler.gif: Not Found\n",
      "did not find https://www.smogon.com/dex/media/sprites/rs/crabrawler.png: Not Found\n",
      "did not find https://www.smogon.com/dex/media/sprites/dp/crabrawler.png: Not Found\n",
      "did not find https://www.smogon.com/dex/media/sprites/bw/crabrawler.gif: Not Found\n"
     ]
    },
    {
     "name": "stderr",
     "output_type": "stream",
     "text": [
      " 73%|███████████████████████████████████████████████████████▎                    | 947/1300 [1:02:10<21:56,  3.73s/it]"
     ]
    },
    {
     "name": "stdout",
     "output_type": "stream",
     "text": [
      "did not find https://www.smogon.com/dex/media/sprites/rb/crabominable.png: Not Found\n",
      "did not find https://www.smogon.com/dex/media/sprites/c/crabominable.gif: Not Found\n",
      "did not find https://www.smogon.com/dex/media/sprites/rs/crabominable.png: Not Found\n",
      "did not find https://www.smogon.com/dex/media/sprites/dp/crabominable.png: Not Found\n",
      "did not find https://www.smogon.com/dex/media/sprites/bw/crabominable.gif: Not Found\n"
     ]
    },
    {
     "name": "stderr",
     "output_type": "stream",
     "text": [
      " 73%|███████████████████████████████████████████████████████▍                    | 948/1300 [1:02:14<22:04,  3.76s/it]"
     ]
    },
    {
     "name": "stdout",
     "output_type": "stream",
     "text": [
      "did not find https://www.smogon.com/dex/media/sprites/rb/oricorio.png: Not Found\n",
      "did not find https://www.smogon.com/dex/media/sprites/c/oricorio.gif: Not Found\n",
      "did not find https://www.smogon.com/dex/media/sprites/rs/oricorio.png: Not Found\n",
      "did not find https://www.smogon.com/dex/media/sprites/dp/oricorio.png: Not Found\n",
      "did not find https://www.smogon.com/dex/media/sprites/bw/oricorio.gif: Not Found\n"
     ]
    },
    {
     "name": "stderr",
     "output_type": "stream",
     "text": [
      " 73%|███████████████████████████████████████████████████████▍                    | 949/1300 [1:02:18<21:59,  3.76s/it]"
     ]
    },
    {
     "name": "stdout",
     "output_type": "stream",
     "text": [
      "did not find https://www.smogon.com/dex/media/sprites/rb/oricorio-pom-pom.png: Not Found\n",
      "did not find https://www.smogon.com/dex/media/sprites/c/oricorio-pom-pom.gif: Not Found\n",
      "did not find https://www.smogon.com/dex/media/sprites/rs/oricorio-pom-pom.png: Not Found\n",
      "did not find https://www.smogon.com/dex/media/sprites/dp/oricorio-pom-pom.png: Not Found\n",
      "did not find https://www.smogon.com/dex/media/sprites/bw/oricorio-pom-pom.gif: Not Found\n"
     ]
    },
    {
     "name": "stderr",
     "output_type": "stream",
     "text": [
      " 73%|███████████████████████████████████████████████████████▌                    | 950/1300 [1:02:21<21:51,  3.75s/it]"
     ]
    },
    {
     "name": "stdout",
     "output_type": "stream",
     "text": [
      "did not find https://www.smogon.com/dex/media/sprites/rb/oricorio-pa'u.png: Not Found\n",
      "did not find https://www.smogon.com/dex/media/sprites/c/oricorio-pa'u.gif: Not Found\n",
      "did not find https://www.smogon.com/dex/media/sprites/rs/oricorio-pa'u.png: Not Found\n",
      "did not find https://www.smogon.com/dex/media/sprites/dp/oricorio-pa'u.png: Not Found\n",
      "did not find https://www.smogon.com/dex/media/sprites/bw/oricorio-pa'u.gif: Not Found\n"
     ]
    },
    {
     "name": "stderr",
     "output_type": "stream",
     "text": [
      " 73%|███████████████████████████████████████████████████████▌                    | 951/1300 [1:02:25<21:27,  3.69s/it]"
     ]
    },
    {
     "name": "stdout",
     "output_type": "stream",
     "text": [
      "did not find https://www.smogon.com/dex/media/sprites/xy/oricorio-pa'u.gif: Not Found\n",
      "did not find https://www.smogon.com/dex/media/sprites/rb/oricorio-sensu.png: Not Found\n",
      "did not find https://www.smogon.com/dex/media/sprites/c/oricorio-sensu.gif: Not Found\n",
      "did not find https://www.smogon.com/dex/media/sprites/rs/oricorio-sensu.png: Not Found\n",
      "did not find https://www.smogon.com/dex/media/sprites/dp/oricorio-sensu.png: Not Found\n",
      "did not find https://www.smogon.com/dex/media/sprites/bw/oricorio-sensu.gif: Not Found\n"
     ]
    },
    {
     "name": "stderr",
     "output_type": "stream",
     "text": [
      " 73%|███████████████████████████████████████████████████████▋                    | 952/1300 [1:02:29<21:45,  3.75s/it]"
     ]
    },
    {
     "name": "stdout",
     "output_type": "stream",
     "text": [
      "did not find https://www.smogon.com/dex/media/sprites/rb/cutiefly.png: Not Found\n",
      "did not find https://www.smogon.com/dex/media/sprites/c/cutiefly.gif: Not Found\n",
      "did not find https://www.smogon.com/dex/media/sprites/rs/cutiefly.png: Not Found\n",
      "did not find https://www.smogon.com/dex/media/sprites/dp/cutiefly.png: Not Found\n",
      "did not find https://www.smogon.com/dex/media/sprites/bw/cutiefly.gif: Not Found\n"
     ]
    },
    {
     "name": "stderr",
     "output_type": "stream",
     "text": [
      " 73%|███████████████████████████████████████████████████████▋                    | 953/1300 [1:02:33<21:44,  3.76s/it]"
     ]
    },
    {
     "name": "stdout",
     "output_type": "stream",
     "text": [
      "did not find https://www.smogon.com/dex/media/sprites/rb/ribombee.png: Not Found\n",
      "did not find https://www.smogon.com/dex/media/sprites/c/ribombee.gif: Not Found\n",
      "did not find https://www.smogon.com/dex/media/sprites/rs/ribombee.png: Not Found\n",
      "did not find https://www.smogon.com/dex/media/sprites/dp/ribombee.png: Not Found\n",
      "did not find https://www.smogon.com/dex/media/sprites/bw/ribombee.gif: Not Found\n"
     ]
    },
    {
     "name": "stderr",
     "output_type": "stream",
     "text": [
      " 73%|███████████████████████████████████████████████████████▊                    | 954/1300 [1:02:36<21:58,  3.81s/it]"
     ]
    },
    {
     "name": "stdout",
     "output_type": "stream",
     "text": [
      "did not find https://www.smogon.com/dex/media/sprites/rb/ribombee-totem.png: Not Found\n",
      "did not find https://www.smogon.com/dex/media/sprites/c/ribombee-totem.gif: Not Found\n",
      "did not find https://www.smogon.com/dex/media/sprites/rs/ribombee-totem.png: Not Found\n",
      "did not find https://www.smogon.com/dex/media/sprites/dp/ribombee-totem.png: Not Found\n",
      "did not find https://www.smogon.com/dex/media/sprites/bw/ribombee-totem.gif: Not Found\n"
     ]
    },
    {
     "name": "stderr",
     "output_type": "stream",
     "text": [
      " 73%|███████████████████████████████████████████████████████▊                    | 955/1300 [1:02:40<21:36,  3.76s/it]"
     ]
    },
    {
     "name": "stdout",
     "output_type": "stream",
     "text": [
      "did not find https://www.smogon.com/dex/media/sprites/xy/ribombee-totem.gif: Not Found\n",
      "did not find https://www.smogon.com/dex/media/sprites/rb/rockruff.png: Not Found\n",
      "did not find https://www.smogon.com/dex/media/sprites/c/rockruff.gif: Not Found\n",
      "did not find https://www.smogon.com/dex/media/sprites/rs/rockruff.png: Not Found\n",
      "did not find https://www.smogon.com/dex/media/sprites/dp/rockruff.png: Not Found\n",
      "did not find https://www.smogon.com/dex/media/sprites/bw/rockruff.gif: Not Found\n"
     ]
    },
    {
     "name": "stderr",
     "output_type": "stream",
     "text": [
      " 74%|███████████████████████████████████████████████████████▉                    | 956/1300 [1:02:44<21:37,  3.77s/it]"
     ]
    },
    {
     "name": "stdout",
     "output_type": "stream",
     "text": [
      "did not find https://www.smogon.com/dex/media/sprites/rb/lycanroc.png: Not Found\n",
      "did not find https://www.smogon.com/dex/media/sprites/c/lycanroc.gif: Not Found\n",
      "did not find https://www.smogon.com/dex/media/sprites/rs/lycanroc.png: Not Found\n",
      "did not find https://www.smogon.com/dex/media/sprites/dp/lycanroc.png: Not Found\n",
      "did not find https://www.smogon.com/dex/media/sprites/bw/lycanroc.gif: Not Found\n"
     ]
    },
    {
     "name": "stderr",
     "output_type": "stream",
     "text": [
      " 74%|███████████████████████████████████████████████████████▉                    | 957/1300 [1:02:48<21:35,  3.78s/it]"
     ]
    },
    {
     "name": "stdout",
     "output_type": "stream",
     "text": [
      "did not find https://www.smogon.com/dex/media/sprites/rb/lycanroc-midnight.png: Not Found\n",
      "did not find https://www.smogon.com/dex/media/sprites/c/lycanroc-midnight.gif: Not Found\n",
      "did not find https://www.smogon.com/dex/media/sprites/rs/lycanroc-midnight.png: Not Found\n",
      "did not find https://www.smogon.com/dex/media/sprites/dp/lycanroc-midnight.png: Not Found\n",
      "did not find https://www.smogon.com/dex/media/sprites/bw/lycanroc-midnight.gif: Not Found\n"
     ]
    },
    {
     "name": "stderr",
     "output_type": "stream",
     "text": [
      " 74%|████████████████████████████████████████████████████████                    | 958/1300 [1:02:52<21:37,  3.79s/it]"
     ]
    },
    {
     "name": "stdout",
     "output_type": "stream",
     "text": [
      "did not find https://www.smogon.com/dex/media/sprites/rb/lycanroc-dusk.png: Not Found\n",
      "did not find https://www.smogon.com/dex/media/sprites/c/lycanroc-dusk.gif: Not Found\n",
      "did not find https://www.smogon.com/dex/media/sprites/rs/lycanroc-dusk.png: Not Found\n",
      "did not find https://www.smogon.com/dex/media/sprites/dp/lycanroc-dusk.png: Not Found\n",
      "did not find https://www.smogon.com/dex/media/sprites/bw/lycanroc-dusk.gif: Not Found\n"
     ]
    },
    {
     "name": "stderr",
     "output_type": "stream",
     "text": [
      " 74%|████████████████████████████████████████████████████████                    | 959/1300 [1:02:56<21:57,  3.86s/it]"
     ]
    },
    {
     "name": "stdout",
     "output_type": "stream",
     "text": [
      "did not find https://www.smogon.com/dex/media/sprites/rb/wishiwashi.png: Not Found\n",
      "did not find https://www.smogon.com/dex/media/sprites/c/wishiwashi.gif: Not Found\n",
      "did not find https://www.smogon.com/dex/media/sprites/rs/wishiwashi.png: Not Found\n",
      "did not find https://www.smogon.com/dex/media/sprites/dp/wishiwashi.png: Not Found\n",
      "did not find https://www.smogon.com/dex/media/sprites/bw/wishiwashi.gif: Not Found\n"
     ]
    },
    {
     "name": "stderr",
     "output_type": "stream",
     "text": [
      " 74%|████████████████████████████████████████████████████████                    | 960/1300 [1:02:59<21:43,  3.83s/it]"
     ]
    },
    {
     "name": "stdout",
     "output_type": "stream",
     "text": [
      "did not find https://www.smogon.com/dex/media/sprites/rb/wishiwashi-school.png: Not Found\n",
      "did not find https://www.smogon.com/dex/media/sprites/c/wishiwashi-school.gif: Not Found\n",
      "did not find https://www.smogon.com/dex/media/sprites/rs/wishiwashi-school.png: Not Found\n",
      "did not find https://www.smogon.com/dex/media/sprites/dp/wishiwashi-school.png: Not Found\n",
      "did not find https://www.smogon.com/dex/media/sprites/bw/wishiwashi-school.gif: Not Found\n"
     ]
    },
    {
     "name": "stderr",
     "output_type": "stream",
     "text": [
      " 74%|████████████████████████████████████████████████████████▏                   | 961/1300 [1:03:03<22:05,  3.91s/it]"
     ]
    },
    {
     "name": "stdout",
     "output_type": "stream",
     "text": [
      "did not find https://www.smogon.com/dex/media/sprites/rb/mareanie.png: Not Found\n",
      "did not find https://www.smogon.com/dex/media/sprites/c/mareanie.gif: Not Found\n",
      "did not find https://www.smogon.com/dex/media/sprites/rs/mareanie.png: Not Found\n",
      "did not find https://www.smogon.com/dex/media/sprites/dp/mareanie.png: Not Found\n",
      "did not find https://www.smogon.com/dex/media/sprites/bw/mareanie.gif: Not Found\n"
     ]
    },
    {
     "name": "stderr",
     "output_type": "stream",
     "text": [
      " 74%|████████████████████████████████████████████████████████▏                   | 962/1300 [1:03:07<21:39,  3.84s/it]"
     ]
    },
    {
     "name": "stdout",
     "output_type": "stream",
     "text": [
      "did not find https://www.smogon.com/dex/media/sprites/rb/toxapex.png: Not Found\n",
      "did not find https://www.smogon.com/dex/media/sprites/c/toxapex.gif: Not Found\n",
      "did not find https://www.smogon.com/dex/media/sprites/rs/toxapex.png: Not Found\n",
      "did not find https://www.smogon.com/dex/media/sprites/dp/toxapex.png: Not Found\n",
      "did not find https://www.smogon.com/dex/media/sprites/bw/toxapex.gif: Not Found\n"
     ]
    },
    {
     "name": "stderr",
     "output_type": "stream",
     "text": [
      " 74%|████████████████████████████████████████████████████████▎                   | 963/1300 [1:03:11<21:30,  3.83s/it]"
     ]
    },
    {
     "name": "stdout",
     "output_type": "stream",
     "text": [
      "did not find https://www.smogon.com/dex/media/sprites/rb/mudbray.png: Not Found\n",
      "did not find https://www.smogon.com/dex/media/sprites/c/mudbray.gif: Not Found\n",
      "did not find https://www.smogon.com/dex/media/sprites/rs/mudbray.png: Not Found\n",
      "did not find https://www.smogon.com/dex/media/sprites/dp/mudbray.png: Not Found\n",
      "did not find https://www.smogon.com/dex/media/sprites/bw/mudbray.gif: Not Found\n"
     ]
    },
    {
     "name": "stderr",
     "output_type": "stream",
     "text": [
      " 74%|████████████████████████████████████████████████████████▎                   | 964/1300 [1:03:14<20:55,  3.74s/it]"
     ]
    },
    {
     "name": "stdout",
     "output_type": "stream",
     "text": [
      "did not find https://www.smogon.com/dex/media/sprites/rb/mudsdale.png: Not Found\n",
      "did not find https://www.smogon.com/dex/media/sprites/c/mudsdale.gif: Not Found\n",
      "did not find https://www.smogon.com/dex/media/sprites/rs/mudsdale.png: Not Found\n",
      "did not find https://www.smogon.com/dex/media/sprites/dp/mudsdale.png: Not Found\n",
      "did not find https://www.smogon.com/dex/media/sprites/bw/mudsdale.gif: Not Found\n"
     ]
    },
    {
     "name": "stderr",
     "output_type": "stream",
     "text": [
      " 74%|████████████████████████████████████████████████████████▍                   | 965/1300 [1:03:18<20:52,  3.74s/it]"
     ]
    },
    {
     "name": "stdout",
     "output_type": "stream",
     "text": [
      "did not find https://www.smogon.com/dex/media/sprites/rb/dewpider.png: Not Found\n",
      "did not find https://www.smogon.com/dex/media/sprites/c/dewpider.gif: Not Found\n",
      "did not find https://www.smogon.com/dex/media/sprites/rs/dewpider.png: Not Found\n",
      "did not find https://www.smogon.com/dex/media/sprites/dp/dewpider.png: Not Found\n",
      "did not find https://www.smogon.com/dex/media/sprites/bw/dewpider.gif: Not Found\n"
     ]
    },
    {
     "name": "stderr",
     "output_type": "stream",
     "text": [
      " 74%|████████████████████████████████████████████████████████▍                   | 966/1300 [1:03:22<20:32,  3.69s/it]"
     ]
    },
    {
     "name": "stdout",
     "output_type": "stream",
     "text": [
      "did not find https://www.smogon.com/dex/media/sprites/rb/araquanid.png: Not Found\n",
      "did not find https://www.smogon.com/dex/media/sprites/c/araquanid.gif: Not Found\n",
      "did not find https://www.smogon.com/dex/media/sprites/rs/araquanid.png: Not Found\n",
      "did not find https://www.smogon.com/dex/media/sprites/dp/araquanid.png: Not Found\n",
      "did not find https://www.smogon.com/dex/media/sprites/bw/araquanid.gif: Not Found\n"
     ]
    },
    {
     "name": "stderr",
     "output_type": "stream",
     "text": [
      " 74%|████████████████████████████████████████████████████████▌                   | 967/1300 [1:03:26<20:41,  3.73s/it]"
     ]
    },
    {
     "name": "stdout",
     "output_type": "stream",
     "text": [
      "did not find https://www.smogon.com/dex/media/sprites/rb/araquanid-totem.png: Not Found\n",
      "did not find https://www.smogon.com/dex/media/sprites/c/araquanid-totem.gif: Not Found\n",
      "did not find https://www.smogon.com/dex/media/sprites/rs/araquanid-totem.png: Not Found\n",
      "did not find https://www.smogon.com/dex/media/sprites/dp/araquanid-totem.png: Not Found\n",
      "did not find https://www.smogon.com/dex/media/sprites/bw/araquanid-totem.gif: Not Found\n"
     ]
    },
    {
     "name": "stderr",
     "output_type": "stream",
     "text": [
      " 74%|████████████████████████████████████████████████████████▌                   | 968/1300 [1:03:29<20:49,  3.76s/it]"
     ]
    },
    {
     "name": "stdout",
     "output_type": "stream",
     "text": [
      "did not find https://www.smogon.com/dex/media/sprites/rb/fomantis.png: Not Found\n",
      "did not find https://www.smogon.com/dex/media/sprites/c/fomantis.gif: Not Found\n",
      "did not find https://www.smogon.com/dex/media/sprites/rs/fomantis.png: Not Found\n",
      "did not find https://www.smogon.com/dex/media/sprites/dp/fomantis.png: Not Found\n",
      "did not find https://www.smogon.com/dex/media/sprites/bw/fomantis.gif: Not Found\n"
     ]
    },
    {
     "name": "stderr",
     "output_type": "stream",
     "text": [
      " 75%|████████████████████████████████████████████████████████▋                   | 969/1300 [1:03:33<20:26,  3.71s/it]"
     ]
    },
    {
     "name": "stdout",
     "output_type": "stream",
     "text": [
      "did not find https://www.smogon.com/dex/media/sprites/rb/lurantis.png: Not Found\n",
      "did not find https://www.smogon.com/dex/media/sprites/c/lurantis.gif: Not Found\n",
      "did not find https://www.smogon.com/dex/media/sprites/rs/lurantis.png: Not Found\n",
      "did not find https://www.smogon.com/dex/media/sprites/dp/lurantis.png: Not Found\n",
      "did not find https://www.smogon.com/dex/media/sprites/bw/lurantis.gif: Not Found\n"
     ]
    },
    {
     "name": "stderr",
     "output_type": "stream",
     "text": [
      " 75%|████████████████████████████████████████████████████████▋                   | 970/1300 [1:03:37<20:17,  3.69s/it]"
     ]
    },
    {
     "name": "stdout",
     "output_type": "stream",
     "text": [
      "did not find https://www.smogon.com/dex/media/sprites/rb/lurantis-totem.png: Not Found\n",
      "did not find https://www.smogon.com/dex/media/sprites/c/lurantis-totem.gif: Not Found\n",
      "did not find https://www.smogon.com/dex/media/sprites/rs/lurantis-totem.png: Not Found\n",
      "did not find https://www.smogon.com/dex/media/sprites/dp/lurantis-totem.png: Not Found\n",
      "did not find https://www.smogon.com/dex/media/sprites/bw/lurantis-totem.gif: Not Found\n"
     ]
    },
    {
     "name": "stderr",
     "output_type": "stream",
     "text": [
      " 75%|████████████████████████████████████████████████████████▊                   | 971/1300 [1:03:40<20:22,  3.71s/it]"
     ]
    },
    {
     "name": "stdout",
     "output_type": "stream",
     "text": [
      "did not find https://www.smogon.com/dex/media/sprites/rb/morelull.png: Not Found\n",
      "did not find https://www.smogon.com/dex/media/sprites/c/morelull.gif: Not Found\n",
      "did not find https://www.smogon.com/dex/media/sprites/rs/morelull.png: Not Found\n",
      "did not find https://www.smogon.com/dex/media/sprites/dp/morelull.png: Not Found\n",
      "did not find https://www.smogon.com/dex/media/sprites/bw/morelull.gif: Not Found\n"
     ]
    },
    {
     "name": "stderr",
     "output_type": "stream",
     "text": [
      " 75%|████████████████████████████████████████████████████████▊                   | 972/1300 [1:03:44<20:13,  3.70s/it]"
     ]
    },
    {
     "name": "stdout",
     "output_type": "stream",
     "text": [
      "did not find https://www.smogon.com/dex/media/sprites/rb/shiinotic.png: Not Found\n",
      "did not find https://www.smogon.com/dex/media/sprites/c/shiinotic.gif: Not Found\n",
      "did not find https://www.smogon.com/dex/media/sprites/rs/shiinotic.png: Not Found\n",
      "did not find https://www.smogon.com/dex/media/sprites/dp/shiinotic.png: Not Found\n",
      "did not find https://www.smogon.com/dex/media/sprites/bw/shiinotic.gif: Not Found\n"
     ]
    },
    {
     "name": "stderr",
     "output_type": "stream",
     "text": [
      " 75%|████████████████████████████████████████████████████████▉                   | 973/1300 [1:03:48<20:03,  3.68s/it]"
     ]
    },
    {
     "name": "stdout",
     "output_type": "stream",
     "text": [
      "did not find https://www.smogon.com/dex/media/sprites/rb/salandit.png: Not Found\n",
      "did not find https://www.smogon.com/dex/media/sprites/c/salandit.gif: Not Found\n",
      "did not find https://www.smogon.com/dex/media/sprites/rs/salandit.png: Not Found\n",
      "did not find https://www.smogon.com/dex/media/sprites/dp/salandit.png: Not Found\n",
      "did not find https://www.smogon.com/dex/media/sprites/bw/salandit.gif: Not Found\n"
     ]
    },
    {
     "name": "stderr",
     "output_type": "stream",
     "text": [
      " 75%|████████████████████████████████████████████████████████▉                   | 974/1300 [1:03:51<19:46,  3.64s/it]"
     ]
    },
    {
     "name": "stdout",
     "output_type": "stream",
     "text": [
      "did not find https://www.smogon.com/dex/media/sprites/rb/salazzle.png: Not Found\n",
      "did not find https://www.smogon.com/dex/media/sprites/c/salazzle.gif: Not Found\n",
      "did not find https://www.smogon.com/dex/media/sprites/rs/salazzle.png: Not Found\n",
      "did not find https://www.smogon.com/dex/media/sprites/dp/salazzle.png: Not Found\n",
      "did not find https://www.smogon.com/dex/media/sprites/bw/salazzle.gif: Not Found\n"
     ]
    },
    {
     "name": "stderr",
     "output_type": "stream",
     "text": [
      " 75%|█████████████████████████████████████████████████████████                   | 975/1300 [1:03:55<19:41,  3.63s/it]"
     ]
    },
    {
     "name": "stdout",
     "output_type": "stream",
     "text": [
      "did not find https://www.smogon.com/dex/media/sprites/rb/salazzle-totem.png: Not Found\n",
      "did not find https://www.smogon.com/dex/media/sprites/c/salazzle-totem.gif: Not Found\n",
      "did not find https://www.smogon.com/dex/media/sprites/rs/salazzle-totem.png: Not Found\n",
      "did not find https://www.smogon.com/dex/media/sprites/dp/salazzle-totem.png: Not Found\n",
      "did not find https://www.smogon.com/dex/media/sprites/bw/salazzle-totem.gif: Not Found\n"
     ]
    },
    {
     "name": "stderr",
     "output_type": "stream",
     "text": [
      " 75%|█████████████████████████████████████████████████████████                   | 976/1300 [1:03:59<19:44,  3.66s/it]"
     ]
    },
    {
     "name": "stdout",
     "output_type": "stream",
     "text": [
      "did not find https://www.smogon.com/dex/media/sprites/rb/stufful.png: Not Found\n",
      "did not find https://www.smogon.com/dex/media/sprites/c/stufful.gif: Not Found\n",
      "did not find https://www.smogon.com/dex/media/sprites/rs/stufful.png: Not Found\n",
      "did not find https://www.smogon.com/dex/media/sprites/dp/stufful.png: Not Found\n",
      "did not find https://www.smogon.com/dex/media/sprites/bw/stufful.gif: Not Found\n"
     ]
    },
    {
     "name": "stderr",
     "output_type": "stream",
     "text": [
      " 75%|█████████████████████████████████████████████████████████                   | 977/1300 [1:04:02<19:36,  3.64s/it]"
     ]
    },
    {
     "name": "stdout",
     "output_type": "stream",
     "text": [
      "did not find https://www.smogon.com/dex/media/sprites/rb/bewear.png: Not Found\n",
      "did not find https://www.smogon.com/dex/media/sprites/c/bewear.gif: Not Found\n",
      "did not find https://www.smogon.com/dex/media/sprites/rs/bewear.png: Not Found\n",
      "did not find https://www.smogon.com/dex/media/sprites/dp/bewear.png: Not Found\n",
      "did not find https://www.smogon.com/dex/media/sprites/bw/bewear.gif: Not Found\n"
     ]
    },
    {
     "name": "stderr",
     "output_type": "stream",
     "text": [
      " 75%|█████████████████████████████████████████████████████████▏                  | 978/1300 [1:04:06<19:36,  3.65s/it]"
     ]
    },
    {
     "name": "stdout",
     "output_type": "stream",
     "text": [
      "did not find https://www.smogon.com/dex/media/sprites/rb/bounsweet.png: Not Found\n",
      "did not find https://www.smogon.com/dex/media/sprites/c/bounsweet.gif: Not Found\n",
      "did not find https://www.smogon.com/dex/media/sprites/rs/bounsweet.png: Not Found\n",
      "did not find https://www.smogon.com/dex/media/sprites/dp/bounsweet.png: Not Found\n",
      "did not find https://www.smogon.com/dex/media/sprites/bw/bounsweet.gif: Not Found\n"
     ]
    },
    {
     "name": "stderr",
     "output_type": "stream",
     "text": [
      " 75%|█████████████████████████████████████████████████████████▏                  | 979/1300 [1:04:09<19:25,  3.63s/it]"
     ]
    },
    {
     "name": "stdout",
     "output_type": "stream",
     "text": [
      "did not find https://www.smogon.com/dex/media/sprites/rb/steenee.png: Not Found\n",
      "did not find https://www.smogon.com/dex/media/sprites/c/steenee.gif: Not Found\n",
      "did not find https://www.smogon.com/dex/media/sprites/rs/steenee.png: Not Found\n",
      "did not find https://www.smogon.com/dex/media/sprites/dp/steenee.png: Not Found\n",
      "did not find https://www.smogon.com/dex/media/sprites/bw/steenee.gif: Not Found\n"
     ]
    },
    {
     "name": "stderr",
     "output_type": "stream",
     "text": [
      " 75%|█████████████████████████████████████████████████████████▎                  | 980/1300 [1:04:13<19:19,  3.62s/it]"
     ]
    },
    {
     "name": "stdout",
     "output_type": "stream",
     "text": [
      "did not find https://www.smogon.com/dex/media/sprites/rb/tsareena.png: Not Found\n",
      "did not find https://www.smogon.com/dex/media/sprites/c/tsareena.gif: Not Found\n",
      "did not find https://www.smogon.com/dex/media/sprites/rs/tsareena.png: Not Found\n",
      "did not find https://www.smogon.com/dex/media/sprites/dp/tsareena.png: Not Found\n",
      "did not find https://www.smogon.com/dex/media/sprites/bw/tsareena.gif: Not Found\n"
     ]
    },
    {
     "name": "stderr",
     "output_type": "stream",
     "text": [
      " 75%|█████████████████████████████████████████████████████████▎                  | 981/1300 [1:04:17<19:15,  3.62s/it]"
     ]
    },
    {
     "name": "stdout",
     "output_type": "stream",
     "text": [
      "did not find https://www.smogon.com/dex/media/sprites/rb/comfey.png: Not Found\n",
      "did not find https://www.smogon.com/dex/media/sprites/c/comfey.gif: Not Found\n",
      "did not find https://www.smogon.com/dex/media/sprites/rs/comfey.png: Not Found\n",
      "did not find https://www.smogon.com/dex/media/sprites/dp/comfey.png: Not Found\n",
      "did not find https://www.smogon.com/dex/media/sprites/bw/comfey.gif: Not Found\n"
     ]
    },
    {
     "name": "stderr",
     "output_type": "stream",
     "text": [
      " 76%|█████████████████████████████████████████████████████████▍                  | 982/1300 [1:04:20<19:10,  3.62s/it]"
     ]
    },
    {
     "name": "stdout",
     "output_type": "stream",
     "text": [
      "did not find https://www.smogon.com/dex/media/sprites/rb/oranguru.png: Not Found\n",
      "did not find https://www.smogon.com/dex/media/sprites/c/oranguru.gif: Not Found\n",
      "did not find https://www.smogon.com/dex/media/sprites/rs/oranguru.png: Not Found\n",
      "did not find https://www.smogon.com/dex/media/sprites/dp/oranguru.png: Not Found\n",
      "did not find https://www.smogon.com/dex/media/sprites/bw/oranguru.gif: Not Found\n"
     ]
    },
    {
     "name": "stderr",
     "output_type": "stream",
     "text": [
      " 76%|█████████████████████████████████████████████████████████▍                  | 983/1300 [1:04:24<19:16,  3.65s/it]"
     ]
    },
    {
     "name": "stdout",
     "output_type": "stream",
     "text": [
      "did not find https://www.smogon.com/dex/media/sprites/rb/passimian.png: Not Found\n",
      "did not find https://www.smogon.com/dex/media/sprites/c/passimian.gif: Not Found\n",
      "did not find https://www.smogon.com/dex/media/sprites/rs/passimian.png: Not Found\n",
      "did not find https://www.smogon.com/dex/media/sprites/dp/passimian.png: Not Found\n",
      "did not find https://www.smogon.com/dex/media/sprites/bw/passimian.gif: Not Found\n"
     ]
    },
    {
     "name": "stderr",
     "output_type": "stream",
     "text": [
      " 76%|█████████████████████████████████████████████████████████▌                  | 984/1300 [1:04:28<19:03,  3.62s/it]"
     ]
    },
    {
     "name": "stdout",
     "output_type": "stream",
     "text": [
      "did not find https://www.smogon.com/dex/media/sprites/rb/wimpod.png: Not Found\n",
      "did not find https://www.smogon.com/dex/media/sprites/c/wimpod.gif: Not Found\n",
      "did not find https://www.smogon.com/dex/media/sprites/rs/wimpod.png: Not Found\n",
      "did not find https://www.smogon.com/dex/media/sprites/dp/wimpod.png: Not Found\n",
      "did not find https://www.smogon.com/dex/media/sprites/bw/wimpod.gif: Not Found\n"
     ]
    },
    {
     "name": "stderr",
     "output_type": "stream",
     "text": [
      " 76%|█████████████████████████████████████████████████████████▌                  | 985/1300 [1:04:31<18:44,  3.57s/it]"
     ]
    },
    {
     "name": "stdout",
     "output_type": "stream",
     "text": [
      "did not find https://www.smogon.com/dex/media/sprites/rb/golisopod.png: Not Found\n",
      "did not find https://www.smogon.com/dex/media/sprites/c/golisopod.gif: Not Found\n",
      "did not find https://www.smogon.com/dex/media/sprites/rs/golisopod.png: Not Found\n",
      "did not find https://www.smogon.com/dex/media/sprites/dp/golisopod.png: Not Found\n",
      "did not find https://www.smogon.com/dex/media/sprites/bw/golisopod.gif: Not Found\n"
     ]
    },
    {
     "name": "stderr",
     "output_type": "stream",
     "text": [
      " 76%|█████████████████████████████████████████████████████████▋                  | 986/1300 [1:04:35<18:49,  3.60s/it]"
     ]
    },
    {
     "name": "stdout",
     "output_type": "stream",
     "text": [
      "did not find https://www.smogon.com/dex/media/sprites/rb/sandygast.png: Not Found\n",
      "did not find https://www.smogon.com/dex/media/sprites/c/sandygast.gif: Not Found\n",
      "did not find https://www.smogon.com/dex/media/sprites/rs/sandygast.png: Not Found\n",
      "did not find https://www.smogon.com/dex/media/sprites/dp/sandygast.png: Not Found\n",
      "did not find https://www.smogon.com/dex/media/sprites/bw/sandygast.gif: Not Found\n"
     ]
    },
    {
     "name": "stderr",
     "output_type": "stream",
     "text": [
      " 76%|█████████████████████████████████████████████████████████▋                  | 987/1300 [1:04:38<18:57,  3.63s/it]"
     ]
    },
    {
     "name": "stdout",
     "output_type": "stream",
     "text": [
      "did not find https://www.smogon.com/dex/media/sprites/rb/palossand.png: Not Found\n",
      "did not find https://www.smogon.com/dex/media/sprites/c/palossand.gif: Not Found\n",
      "did not find https://www.smogon.com/dex/media/sprites/rs/palossand.png: Not Found\n",
      "did not find https://www.smogon.com/dex/media/sprites/dp/palossand.png: Not Found\n",
      "did not find https://www.smogon.com/dex/media/sprites/bw/palossand.gif: Not Found\n"
     ]
    },
    {
     "name": "stderr",
     "output_type": "stream",
     "text": [
      " 76%|█████████████████████████████████████████████████████████▊                  | 988/1300 [1:04:42<19:12,  3.69s/it]"
     ]
    },
    {
     "name": "stdout",
     "output_type": "stream",
     "text": [
      "did not find https://www.smogon.com/dex/media/sprites/rb/pyukumuku.png: Not Found\n",
      "did not find https://www.smogon.com/dex/media/sprites/c/pyukumuku.gif: Not Found\n",
      "did not find https://www.smogon.com/dex/media/sprites/rs/pyukumuku.png: Not Found\n",
      "did not find https://www.smogon.com/dex/media/sprites/dp/pyukumuku.png: Not Found\n",
      "did not find https://www.smogon.com/dex/media/sprites/bw/pyukumuku.gif: Not Found\n"
     ]
    },
    {
     "name": "stderr",
     "output_type": "stream",
     "text": [
      " 76%|█████████████████████████████████████████████████████████▊                  | 989/1300 [1:04:46<18:56,  3.65s/it]"
     ]
    },
    {
     "name": "stdout",
     "output_type": "stream",
     "text": [
      "did not find https://www.smogon.com/dex/media/sprites/rb/type:-null.png: Not Found\n",
      "did not find https://www.smogon.com/dex/media/sprites/c/type:-null.gif: Not Found\n",
      "did not find https://www.smogon.com/dex/media/sprites/rs/type:-null.png: Not Found\n",
      "did not find https://www.smogon.com/dex/media/sprites/dp/type:-null.png: Not Found\n",
      "did not find https://www.smogon.com/dex/media/sprites/bw/type:-null.gif: Not Found\n"
     ]
    },
    {
     "name": "stderr",
     "output_type": "stream",
     "text": [
      " 76%|█████████████████████████████████████████████████████████▉                  | 990/1300 [1:04:49<18:31,  3.59s/it]"
     ]
    },
    {
     "name": "stdout",
     "output_type": "stream",
     "text": [
      "did not find https://www.smogon.com/dex/media/sprites/xy/type:-null.gif: Not Found\n",
      "did not find https://www.smogon.com/dex/media/sprites/rb/silvally.png: Not Found\n",
      "did not find https://www.smogon.com/dex/media/sprites/c/silvally.gif: Not Found\n",
      "did not find https://www.smogon.com/dex/media/sprites/rs/silvally.png: Not Found\n",
      "did not find https://www.smogon.com/dex/media/sprites/dp/silvally.png: Not Found\n",
      "did not find https://www.smogon.com/dex/media/sprites/bw/silvally.gif: Not Found\n"
     ]
    },
    {
     "name": "stderr",
     "output_type": "stream",
     "text": [
      " 76%|█████████████████████████████████████████████████████████▉                  | 991/1300 [1:04:53<18:35,  3.61s/it]"
     ]
    },
    {
     "name": "stdout",
     "output_type": "stream",
     "text": [
      "did not find https://www.smogon.com/dex/media/sprites/rb/silvally-bug.png: Not Found\n",
      "did not find https://www.smogon.com/dex/media/sprites/c/silvally-bug.gif: Not Found\n",
      "did not find https://www.smogon.com/dex/media/sprites/rs/silvally-bug.png: Not Found\n",
      "did not find https://www.smogon.com/dex/media/sprites/dp/silvally-bug.png: Not Found\n",
      "did not find https://www.smogon.com/dex/media/sprites/bw/silvally-bug.gif: Not Found\n"
     ]
    },
    {
     "name": "stderr",
     "output_type": "stream",
     "text": [
      " 76%|█████████████████████████████████████████████████████████▉                  | 992/1300 [1:04:57<18:39,  3.63s/it]"
     ]
    },
    {
     "name": "stdout",
     "output_type": "stream",
     "text": [
      "did not find https://www.smogon.com/dex/media/sprites/rb/silvally-dark.png: Not Found\n",
      "did not find https://www.smogon.com/dex/media/sprites/c/silvally-dark.gif: Not Found\n",
      "did not find https://www.smogon.com/dex/media/sprites/rs/silvally-dark.png: Not Found\n",
      "did not find https://www.smogon.com/dex/media/sprites/dp/silvally-dark.png: Not Found\n",
      "did not find https://www.smogon.com/dex/media/sprites/bw/silvally-dark.gif: Not Found\n"
     ]
    },
    {
     "name": "stderr",
     "output_type": "stream",
     "text": [
      " 76%|██████████████████████████████████████████████████████████                  | 993/1300 [1:05:00<18:41,  3.65s/it]"
     ]
    },
    {
     "name": "stdout",
     "output_type": "stream",
     "text": [
      "did not find https://www.smogon.com/dex/media/sprites/rb/silvally-dragon.png: Not Found\n",
      "did not find https://www.smogon.com/dex/media/sprites/c/silvally-dragon.gif: Not Found\n",
      "did not find https://www.smogon.com/dex/media/sprites/rs/silvally-dragon.png: Not Found\n",
      "did not find https://www.smogon.com/dex/media/sprites/dp/silvally-dragon.png: Not Found\n",
      "did not find https://www.smogon.com/dex/media/sprites/bw/silvally-dragon.gif: Not Found\n"
     ]
    },
    {
     "name": "stderr",
     "output_type": "stream",
     "text": [
      " 76%|██████████████████████████████████████████████████████████                  | 994/1300 [1:05:04<18:38,  3.65s/it]"
     ]
    },
    {
     "name": "stdout",
     "output_type": "stream",
     "text": [
      "did not find https://www.smogon.com/dex/media/sprites/rb/silvally-electric.png: Not Found\n",
      "did not find https://www.smogon.com/dex/media/sprites/c/silvally-electric.gif: Not Found\n",
      "did not find https://www.smogon.com/dex/media/sprites/rs/silvally-electric.png: Not Found\n",
      "did not find https://www.smogon.com/dex/media/sprites/dp/silvally-electric.png: Not Found\n",
      "did not find https://www.smogon.com/dex/media/sprites/bw/silvally-electric.gif: Not Found\n"
     ]
    },
    {
     "name": "stderr",
     "output_type": "stream",
     "text": [
      " 77%|██████████████████████████████████████████████████████████▏                 | 995/1300 [1:05:08<18:38,  3.67s/it]"
     ]
    },
    {
     "name": "stdout",
     "output_type": "stream",
     "text": [
      "did not find https://www.smogon.com/dex/media/sprites/rb/silvally-fairy.png: Not Found\n",
      "did not find https://www.smogon.com/dex/media/sprites/c/silvally-fairy.gif: Not Found\n",
      "did not find https://www.smogon.com/dex/media/sprites/rs/silvally-fairy.png: Not Found\n",
      "did not find https://www.smogon.com/dex/media/sprites/dp/silvally-fairy.png: Not Found\n",
      "did not find https://www.smogon.com/dex/media/sprites/bw/silvally-fairy.gif: Not Found\n"
     ]
    },
    {
     "name": "stderr",
     "output_type": "stream",
     "text": [
      " 77%|██████████████████████████████████████████████████████████▏                 | 996/1300 [1:05:11<18:35,  3.67s/it]"
     ]
    },
    {
     "name": "stdout",
     "output_type": "stream",
     "text": [
      "did not find https://www.smogon.com/dex/media/sprites/rb/silvally-fighting.png: Not Found\n",
      "did not find https://www.smogon.com/dex/media/sprites/c/silvally-fighting.gif: Not Found\n",
      "did not find https://www.smogon.com/dex/media/sprites/rs/silvally-fighting.png: Not Found\n",
      "did not find https://www.smogon.com/dex/media/sprites/dp/silvally-fighting.png: Not Found\n",
      "did not find https://www.smogon.com/dex/media/sprites/bw/silvally-fighting.gif: Not Found\n"
     ]
    },
    {
     "name": "stderr",
     "output_type": "stream",
     "text": [
      " 77%|██████████████████████████████████████████████████████████▎                 | 997/1300 [1:05:15<18:30,  3.66s/it]"
     ]
    },
    {
     "name": "stdout",
     "output_type": "stream",
     "text": [
      "did not find https://www.smogon.com/dex/media/sprites/rb/silvally-fire.png: Not Found\n",
      "did not find https://www.smogon.com/dex/media/sprites/c/silvally-fire.gif: Not Found\n",
      "did not find https://www.smogon.com/dex/media/sprites/rs/silvally-fire.png: Not Found\n",
      "did not find https://www.smogon.com/dex/media/sprites/dp/silvally-fire.png: Not Found\n",
      "did not find https://www.smogon.com/dex/media/sprites/bw/silvally-fire.gif: Not Found\n"
     ]
    },
    {
     "name": "stderr",
     "output_type": "stream",
     "text": [
      " 77%|██████████████████████████████████████████████████████████▎                 | 998/1300 [1:05:19<18:32,  3.68s/it]"
     ]
    },
    {
     "name": "stdout",
     "output_type": "stream",
     "text": [
      "did not find https://www.smogon.com/dex/media/sprites/rb/silvally-flying.png: Not Found\n",
      "did not find https://www.smogon.com/dex/media/sprites/c/silvally-flying.gif: Not Found\n",
      "did not find https://www.smogon.com/dex/media/sprites/rs/silvally-flying.png: Not Found\n",
      "did not find https://www.smogon.com/dex/media/sprites/dp/silvally-flying.png: Not Found\n",
      "did not find https://www.smogon.com/dex/media/sprites/bw/silvally-flying.gif: Not Found\n"
     ]
    },
    {
     "name": "stderr",
     "output_type": "stream",
     "text": [
      " 77%|██████████████████████████████████████████████████████████▍                 | 999/1300 [1:05:22<18:17,  3.65s/it]"
     ]
    },
    {
     "name": "stdout",
     "output_type": "stream",
     "text": [
      "did not find https://www.smogon.com/dex/media/sprites/rb/silvally-ghost.png: Not Found\n",
      "did not find https://www.smogon.com/dex/media/sprites/c/silvally-ghost.gif: Not Found\n",
      "did not find https://www.smogon.com/dex/media/sprites/rs/silvally-ghost.png: Not Found\n",
      "did not find https://www.smogon.com/dex/media/sprites/dp/silvally-ghost.png: Not Found\n",
      "did not find https://www.smogon.com/dex/media/sprites/bw/silvally-ghost.gif: Not Found\n"
     ]
    },
    {
     "name": "stderr",
     "output_type": "stream",
     "text": [
      " 77%|█████████████████████████████████████████████████████████▋                 | 1000/1300 [1:05:26<18:20,  3.67s/it]"
     ]
    },
    {
     "name": "stdout",
     "output_type": "stream",
     "text": [
      "did not find https://www.smogon.com/dex/media/sprites/rb/silvally-grass.png: Not Found\n",
      "did not find https://www.smogon.com/dex/media/sprites/c/silvally-grass.gif: Not Found\n",
      "did not find https://www.smogon.com/dex/media/sprites/rs/silvally-grass.png: Not Found\n",
      "did not find https://www.smogon.com/dex/media/sprites/dp/silvally-grass.png: Not Found\n",
      "did not find https://www.smogon.com/dex/media/sprites/bw/silvally-grass.gif: Not Found\n"
     ]
    },
    {
     "name": "stderr",
     "output_type": "stream",
     "text": [
      " 77%|█████████████████████████████████████████████████████████▊                 | 1001/1300 [1:05:30<18:14,  3.66s/it]"
     ]
    },
    {
     "name": "stdout",
     "output_type": "stream",
     "text": [
      "did not find https://www.smogon.com/dex/media/sprites/rb/silvally-ground.png: Not Found\n",
      "did not find https://www.smogon.com/dex/media/sprites/c/silvally-ground.gif: Not Found\n",
      "did not find https://www.smogon.com/dex/media/sprites/rs/silvally-ground.png: Not Found\n",
      "did not find https://www.smogon.com/dex/media/sprites/dp/silvally-ground.png: Not Found\n",
      "did not find https://www.smogon.com/dex/media/sprites/bw/silvally-ground.gif: Not Found\n"
     ]
    },
    {
     "name": "stderr",
     "output_type": "stream",
     "text": [
      " 77%|█████████████████████████████████████████████████████████▊                 | 1002/1300 [1:05:33<18:17,  3.68s/it]"
     ]
    },
    {
     "name": "stdout",
     "output_type": "stream",
     "text": [
      "did not find https://www.smogon.com/dex/media/sprites/rb/silvally-ice.png: Not Found\n",
      "did not find https://www.smogon.com/dex/media/sprites/c/silvally-ice.gif: Not Found\n",
      "did not find https://www.smogon.com/dex/media/sprites/rs/silvally-ice.png: Not Found\n",
      "did not find https://www.smogon.com/dex/media/sprites/dp/silvally-ice.png: Not Found\n",
      "did not find https://www.smogon.com/dex/media/sprites/bw/silvally-ice.gif: Not Found\n"
     ]
    },
    {
     "name": "stderr",
     "output_type": "stream",
     "text": [
      " 77%|█████████████████████████████████████████████████████████▊                 | 1003/1300 [1:05:37<18:15,  3.69s/it]"
     ]
    },
    {
     "name": "stdout",
     "output_type": "stream",
     "text": [
      "did not find https://www.smogon.com/dex/media/sprites/rb/silvally-poison.png: Not Found\n",
      "did not find https://www.smogon.com/dex/media/sprites/c/silvally-poison.gif: Not Found\n",
      "did not find https://www.smogon.com/dex/media/sprites/rs/silvally-poison.png: Not Found\n",
      "did not find https://www.smogon.com/dex/media/sprites/dp/silvally-poison.png: Not Found\n",
      "did not find https://www.smogon.com/dex/media/sprites/bw/silvally-poison.gif: Not Found\n"
     ]
    },
    {
     "name": "stderr",
     "output_type": "stream",
     "text": [
      " 77%|█████████████████████████████████████████████████████████▉                 | 1004/1300 [1:05:41<18:07,  3.67s/it]"
     ]
    },
    {
     "name": "stdout",
     "output_type": "stream",
     "text": [
      "did not find https://www.smogon.com/dex/media/sprites/rb/silvally-psychic.png: Not Found\n",
      "did not find https://www.smogon.com/dex/media/sprites/c/silvally-psychic.gif: Not Found\n",
      "did not find https://www.smogon.com/dex/media/sprites/rs/silvally-psychic.png: Not Found\n",
      "did not find https://www.smogon.com/dex/media/sprites/dp/silvally-psychic.png: Not Found\n",
      "did not find https://www.smogon.com/dex/media/sprites/bw/silvally-psychic.gif: Not Found\n"
     ]
    },
    {
     "name": "stderr",
     "output_type": "stream",
     "text": [
      " 77%|█████████████████████████████████████████████████████████▉                 | 1005/1300 [1:05:44<18:05,  3.68s/it]"
     ]
    },
    {
     "name": "stdout",
     "output_type": "stream",
     "text": [
      "did not find https://www.smogon.com/dex/media/sprites/rb/silvally-rock.png: Not Found\n",
      "did not find https://www.smogon.com/dex/media/sprites/c/silvally-rock.gif: Not Found\n",
      "did not find https://www.smogon.com/dex/media/sprites/rs/silvally-rock.png: Not Found\n",
      "did not find https://www.smogon.com/dex/media/sprites/dp/silvally-rock.png: Not Found\n",
      "did not find https://www.smogon.com/dex/media/sprites/bw/silvally-rock.gif: Not Found\n"
     ]
    },
    {
     "name": "stderr",
     "output_type": "stream",
     "text": [
      " 77%|██████████████████████████████████████████████████████████                 | 1006/1300 [1:05:48<18:01,  3.68s/it]"
     ]
    },
    {
     "name": "stdout",
     "output_type": "stream",
     "text": [
      "did not find https://www.smogon.com/dex/media/sprites/rb/silvally-steel.png: Not Found\n",
      "did not find https://www.smogon.com/dex/media/sprites/c/silvally-steel.gif: Not Found\n",
      "did not find https://www.smogon.com/dex/media/sprites/rs/silvally-steel.png: Not Found\n",
      "did not find https://www.smogon.com/dex/media/sprites/dp/silvally-steel.png: Not Found\n",
      "did not find https://www.smogon.com/dex/media/sprites/bw/silvally-steel.gif: Not Found\n"
     ]
    },
    {
     "name": "stderr",
     "output_type": "stream",
     "text": [
      " 77%|██████████████████████████████████████████████████████████                 | 1007/1300 [1:05:52<17:58,  3.68s/it]"
     ]
    },
    {
     "name": "stdout",
     "output_type": "stream",
     "text": [
      "did not find https://www.smogon.com/dex/media/sprites/rb/silvally-water.png: Not Found\n",
      "did not find https://www.smogon.com/dex/media/sprites/c/silvally-water.gif: Not Found\n",
      "did not find https://www.smogon.com/dex/media/sprites/rs/silvally-water.png: Not Found\n",
      "did not find https://www.smogon.com/dex/media/sprites/dp/silvally-water.png: Not Found\n",
      "did not find https://www.smogon.com/dex/media/sprites/bw/silvally-water.gif: Not Found\n"
     ]
    },
    {
     "name": "stderr",
     "output_type": "stream",
     "text": [
      " 78%|██████████████████████████████████████████████████████████▏                | 1008/1300 [1:05:55<17:54,  3.68s/it]"
     ]
    },
    {
     "name": "stdout",
     "output_type": "stream",
     "text": [
      "did not find https://www.smogon.com/dex/media/sprites/rb/minior.png: Not Found\n",
      "did not find https://www.smogon.com/dex/media/sprites/c/minior.gif: Not Found\n",
      "did not find https://www.smogon.com/dex/media/sprites/rs/minior.png: Not Found\n",
      "did not find https://www.smogon.com/dex/media/sprites/dp/minior.png: Not Found\n",
      "did not find https://www.smogon.com/dex/media/sprites/bw/minior.gif: Not Found\n"
     ]
    },
    {
     "name": "stderr",
     "output_type": "stream",
     "text": [
      " 78%|██████████████████████████████████████████████████████████▏                | 1009/1300 [1:05:59<17:56,  3.70s/it]"
     ]
    },
    {
     "name": "stdout",
     "output_type": "stream",
     "text": [
      "did not find https://www.smogon.com/dex/media/sprites/rb/minior-meteor.png: Not Found\n",
      "did not find https://www.smogon.com/dex/media/sprites/c/minior-meteor.gif: Not Found\n",
      "did not find https://www.smogon.com/dex/media/sprites/rs/minior-meteor.png: Not Found\n",
      "did not find https://www.smogon.com/dex/media/sprites/dp/minior-meteor.png: Not Found\n",
      "did not find https://www.smogon.com/dex/media/sprites/bw/minior-meteor.gif: Not Found\n"
     ]
    },
    {
     "name": "stderr",
     "output_type": "stream",
     "text": [
      " 78%|██████████████████████████████████████████████████████████▎                | 1010/1300 [1:06:03<17:58,  3.72s/it]"
     ]
    },
    {
     "name": "stdout",
     "output_type": "stream",
     "text": [
      "did not find https://www.smogon.com/dex/media/sprites/rb/komala.png: Not Found\n",
      "did not find https://www.smogon.com/dex/media/sprites/c/komala.gif: Not Found\n",
      "did not find https://www.smogon.com/dex/media/sprites/rs/komala.png: Not Found\n",
      "did not find https://www.smogon.com/dex/media/sprites/dp/komala.png: Not Found\n",
      "did not find https://www.smogon.com/dex/media/sprites/bw/komala.gif: Not Found\n"
     ]
    },
    {
     "name": "stderr",
     "output_type": "stream",
     "text": [
      " 78%|██████████████████████████████████████████████████████████▎                | 1011/1300 [1:06:07<17:47,  3.69s/it]"
     ]
    },
    {
     "name": "stdout",
     "output_type": "stream",
     "text": [
      "did not find https://www.smogon.com/dex/media/sprites/rb/turtonator.png: Not Found\n",
      "did not find https://www.smogon.com/dex/media/sprites/c/turtonator.gif: Not Found\n",
      "did not find https://www.smogon.com/dex/media/sprites/rs/turtonator.png: Not Found\n",
      "did not find https://www.smogon.com/dex/media/sprites/dp/turtonator.png: Not Found\n",
      "did not find https://www.smogon.com/dex/media/sprites/bw/turtonator.gif: Not Found\n"
     ]
    },
    {
     "name": "stderr",
     "output_type": "stream",
     "text": [
      " 78%|██████████████████████████████████████████████████████████▍                | 1012/1300 [1:06:10<17:52,  3.72s/it]"
     ]
    },
    {
     "name": "stdout",
     "output_type": "stream",
     "text": [
      "did not find https://www.smogon.com/dex/media/sprites/rb/togedemaru.png: Not Found\n",
      "did not find https://www.smogon.com/dex/media/sprites/c/togedemaru.gif: Not Found\n",
      "did not find https://www.smogon.com/dex/media/sprites/rs/togedemaru.png: Not Found\n",
      "did not find https://www.smogon.com/dex/media/sprites/dp/togedemaru.png: Not Found\n",
      "did not find https://www.smogon.com/dex/media/sprites/bw/togedemaru.gif: Not Found\n"
     ]
    },
    {
     "name": "stderr",
     "output_type": "stream",
     "text": [
      " 78%|██████████████████████████████████████████████████████████▍                | 1013/1300 [1:06:14<17:33,  3.67s/it]"
     ]
    },
    {
     "name": "stdout",
     "output_type": "stream",
     "text": [
      "did not find https://www.smogon.com/dex/media/sprites/rb/togedemaru-totem.png: Not Found\n",
      "did not find https://www.smogon.com/dex/media/sprites/c/togedemaru-totem.gif: Not Found\n",
      "did not find https://www.smogon.com/dex/media/sprites/rs/togedemaru-totem.png: Not Found\n",
      "did not find https://www.smogon.com/dex/media/sprites/dp/togedemaru-totem.png: Not Found\n",
      "did not find https://www.smogon.com/dex/media/sprites/bw/togedemaru-totem.gif: Not Found\n"
     ]
    },
    {
     "name": "stderr",
     "output_type": "stream",
     "text": [
      " 78%|██████████████████████████████████████████████████████████▌                | 1014/1300 [1:06:17<17:24,  3.65s/it]"
     ]
    },
    {
     "name": "stdout",
     "output_type": "stream",
     "text": [
      "did not find https://www.smogon.com/dex/media/sprites/rb/mimikyu.png: Not Found\n",
      "did not find https://www.smogon.com/dex/media/sprites/c/mimikyu.gif: Not Found\n",
      "did not find https://www.smogon.com/dex/media/sprites/rs/mimikyu.png: Not Found\n",
      "did not find https://www.smogon.com/dex/media/sprites/dp/mimikyu.png: Not Found\n",
      "did not find https://www.smogon.com/dex/media/sprites/bw/mimikyu.gif: Not Found\n"
     ]
    },
    {
     "name": "stderr",
     "output_type": "stream",
     "text": [
      " 78%|██████████████████████████████████████████████████████████▌                | 1015/1300 [1:06:21<17:12,  3.62s/it]"
     ]
    },
    {
     "name": "stdout",
     "output_type": "stream",
     "text": [
      "did not find https://www.smogon.com/dex/media/sprites/rb/mimikyu-busted.png: Not Found\n",
      "did not find https://www.smogon.com/dex/media/sprites/c/mimikyu-busted.gif: Not Found\n",
      "did not find https://www.smogon.com/dex/media/sprites/rs/mimikyu-busted.png: Not Found\n",
      "did not find https://www.smogon.com/dex/media/sprites/dp/mimikyu-busted.png: Not Found\n",
      "did not find https://www.smogon.com/dex/media/sprites/bw/mimikyu-busted.gif: Not Found\n"
     ]
    },
    {
     "name": "stderr",
     "output_type": "stream",
     "text": [
      " 78%|██████████████████████████████████████████████████████████▌                | 1016/1300 [1:06:25<17:11,  3.63s/it]"
     ]
    },
    {
     "name": "stdout",
     "output_type": "stream",
     "text": [
      "did not find https://www.smogon.com/dex/media/sprites/rb/mimikyu-totem.png: Not Found\n",
      "did not find https://www.smogon.com/dex/media/sprites/c/mimikyu-totem.gif: Not Found\n",
      "did not find https://www.smogon.com/dex/media/sprites/rs/mimikyu-totem.png: Not Found\n",
      "did not find https://www.smogon.com/dex/media/sprites/dp/mimikyu-totem.png: Not Found\n",
      "did not find https://www.smogon.com/dex/media/sprites/bw/mimikyu-totem.gif: Not Found\n"
     ]
    },
    {
     "name": "stderr",
     "output_type": "stream",
     "text": [
      " 78%|██████████████████████████████████████████████████████████▋                | 1017/1300 [1:06:28<17:08,  3.63s/it]"
     ]
    },
    {
     "name": "stdout",
     "output_type": "stream",
     "text": [
      "did not find https://www.smogon.com/dex/media/sprites/rb/mimikyu-busted-totem.png: Not Found\n",
      "did not find https://www.smogon.com/dex/media/sprites/c/mimikyu-busted-totem.gif: Not Found\n",
      "did not find https://www.smogon.com/dex/media/sprites/rs/mimikyu-busted-totem.png: Not Found\n",
      "did not find https://www.smogon.com/dex/media/sprites/dp/mimikyu-busted-totem.png: Not Found\n",
      "did not find https://www.smogon.com/dex/media/sprites/bw/mimikyu-busted-totem.gif: Not Found\n"
     ]
    },
    {
     "name": "stderr",
     "output_type": "stream",
     "text": [
      " 78%|██████████████████████████████████████████████████████████▋                | 1018/1300 [1:06:32<17:13,  3.66s/it]"
     ]
    },
    {
     "name": "stdout",
     "output_type": "stream",
     "text": [
      "did not find https://www.smogon.com/dex/media/sprites/rb/bruxish.png: Not Found\n",
      "did not find https://www.smogon.com/dex/media/sprites/c/bruxish.gif: Not Found\n",
      "did not find https://www.smogon.com/dex/media/sprites/rs/bruxish.png: Not Found\n",
      "did not find https://www.smogon.com/dex/media/sprites/dp/bruxish.png: Not Found\n",
      "did not find https://www.smogon.com/dex/media/sprites/bw/bruxish.gif: Not Found\n"
     ]
    },
    {
     "name": "stderr",
     "output_type": "stream",
     "text": [
      " 78%|██████████████████████████████████████████████████████████▊                | 1019/1300 [1:06:36<17:06,  3.65s/it]"
     ]
    },
    {
     "name": "stdout",
     "output_type": "stream",
     "text": [
      "did not find https://www.smogon.com/dex/media/sprites/rb/drampa.png: Not Found\n",
      "did not find https://www.smogon.com/dex/media/sprites/c/drampa.gif: Not Found\n",
      "did not find https://www.smogon.com/dex/media/sprites/rs/drampa.png: Not Found\n",
      "did not find https://www.smogon.com/dex/media/sprites/dp/drampa.png: Not Found\n",
      "did not find https://www.smogon.com/dex/media/sprites/bw/drampa.gif: Not Found\n"
     ]
    },
    {
     "name": "stderr",
     "output_type": "stream",
     "text": [
      " 78%|██████████████████████████████████████████████████████████▊                | 1020/1300 [1:06:39<17:13,  3.69s/it]"
     ]
    },
    {
     "name": "stdout",
     "output_type": "stream",
     "text": [
      "did not find https://www.smogon.com/dex/media/sprites/rb/dhelmise.png: Not Found\n",
      "did not find https://www.smogon.com/dex/media/sprites/c/dhelmise.gif: Not Found\n",
      "did not find https://www.smogon.com/dex/media/sprites/rs/dhelmise.png: Not Found\n",
      "did not find https://www.smogon.com/dex/media/sprites/dp/dhelmise.png: Not Found\n",
      "did not find https://www.smogon.com/dex/media/sprites/bw/dhelmise.gif: Not Found\n"
     ]
    },
    {
     "name": "stderr",
     "output_type": "stream",
     "text": [
      " 79%|██████████████████████████████████████████████████████████▉                | 1021/1300 [1:06:43<17:20,  3.73s/it]"
     ]
    },
    {
     "name": "stdout",
     "output_type": "stream",
     "text": [
      "did not find https://www.smogon.com/dex/media/sprites/rb/jangmo-o.png: Not Found\n",
      "did not find https://www.smogon.com/dex/media/sprites/c/jangmo-o.gif: Not Found\n",
      "did not find https://www.smogon.com/dex/media/sprites/rs/jangmo-o.png: Not Found\n",
      "did not find https://www.smogon.com/dex/media/sprites/dp/jangmo-o.png: Not Found\n",
      "did not find https://www.smogon.com/dex/media/sprites/bw/jangmo-o.gif: Not Found\n"
     ]
    },
    {
     "name": "stderr",
     "output_type": "stream",
     "text": [
      " 79%|██████████████████████████████████████████████████████████▉                | 1022/1300 [1:06:47<17:05,  3.69s/it]"
     ]
    },
    {
     "name": "stdout",
     "output_type": "stream",
     "text": [
      "did not find https://www.smogon.com/dex/media/sprites/rb/hakamo-o.png: Not Found\n",
      "did not find https://www.smogon.com/dex/media/sprites/c/hakamo-o.gif: Not Found\n",
      "did not find https://www.smogon.com/dex/media/sprites/rs/hakamo-o.png: Not Found\n",
      "did not find https://www.smogon.com/dex/media/sprites/dp/hakamo-o.png: Not Found\n",
      "did not find https://www.smogon.com/dex/media/sprites/bw/hakamo-o.gif: Not Found\n"
     ]
    },
    {
     "name": "stderr",
     "output_type": "stream",
     "text": [
      " 79%|███████████████████████████████████████████████████████████                | 1023/1300 [1:06:50<16:48,  3.64s/it]"
     ]
    },
    {
     "name": "stdout",
     "output_type": "stream",
     "text": [
      "did not find https://www.smogon.com/dex/media/sprites/rb/kommo-o.png: Not Found\n",
      "did not find https://www.smogon.com/dex/media/sprites/c/kommo-o.gif: Not Found\n",
      "did not find https://www.smogon.com/dex/media/sprites/rs/kommo-o.png: Not Found\n",
      "did not find https://www.smogon.com/dex/media/sprites/dp/kommo-o.png: Not Found\n",
      "did not find https://www.smogon.com/dex/media/sprites/bw/kommo-o.gif: Not Found\n"
     ]
    },
    {
     "name": "stderr",
     "output_type": "stream",
     "text": [
      " 79%|███████████████████████████████████████████████████████████                | 1024/1300 [1:06:54<17:02,  3.71s/it]"
     ]
    },
    {
     "name": "stdout",
     "output_type": "stream",
     "text": [
      "did not find https://www.smogon.com/dex/media/sprites/rb/kommo-o-totem.png: Not Found\n",
      "did not find https://www.smogon.com/dex/media/sprites/c/kommo-o-totem.gif: Not Found\n",
      "did not find https://www.smogon.com/dex/media/sprites/rs/kommo-o-totem.png: Not Found\n",
      "did not find https://www.smogon.com/dex/media/sprites/dp/kommo-o-totem.png: Not Found\n",
      "did not find https://www.smogon.com/dex/media/sprites/bw/kommo-o-totem.gif: Not Found\n"
     ]
    },
    {
     "name": "stderr",
     "output_type": "stream",
     "text": [
      " 79%|███████████████████████████████████████████████████████████▏               | 1025/1300 [1:06:58<17:17,  3.77s/it]"
     ]
    },
    {
     "name": "stdout",
     "output_type": "stream",
     "text": [
      "did not find https://www.smogon.com/dex/media/sprites/rb/tapu-koko.png: Not Found\n",
      "did not find https://www.smogon.com/dex/media/sprites/c/tapu-koko.gif: Not Found\n",
      "did not find https://www.smogon.com/dex/media/sprites/rs/tapu-koko.png: Not Found\n",
      "did not find https://www.smogon.com/dex/media/sprites/dp/tapu-koko.png: Not Found\n",
      "did not find https://www.smogon.com/dex/media/sprites/bw/tapu-koko.gif: Not Found\n"
     ]
    },
    {
     "name": "stderr",
     "output_type": "stream",
     "text": [
      " 79%|███████████████████████████████████████████████████████████▏               | 1026/1300 [1:07:02<16:58,  3.72s/it]"
     ]
    },
    {
     "name": "stdout",
     "output_type": "stream",
     "text": [
      "did not find https://www.smogon.com/dex/media/sprites/rb/tapu-lele.png: Not Found\n",
      "did not find https://www.smogon.com/dex/media/sprites/c/tapu-lele.gif: Not Found\n",
      "did not find https://www.smogon.com/dex/media/sprites/rs/tapu-lele.png: Not Found\n",
      "did not find https://www.smogon.com/dex/media/sprites/dp/tapu-lele.png: Not Found\n",
      "did not find https://www.smogon.com/dex/media/sprites/bw/tapu-lele.gif: Not Found\n"
     ]
    },
    {
     "name": "stderr",
     "output_type": "stream",
     "text": [
      " 79%|███████████████████████████████████████████████████████████▎               | 1027/1300 [1:07:05<16:46,  3.69s/it]"
     ]
    },
    {
     "name": "stdout",
     "output_type": "stream",
     "text": [
      "did not find https://www.smogon.com/dex/media/sprites/rb/tapu-bulu.png: Not Found\n",
      "did not find https://www.smogon.com/dex/media/sprites/c/tapu-bulu.gif: Not Found\n",
      "did not find https://www.smogon.com/dex/media/sprites/rs/tapu-bulu.png: Not Found\n",
      "did not find https://www.smogon.com/dex/media/sprites/dp/tapu-bulu.png: Not Found\n",
      "did not find https://www.smogon.com/dex/media/sprites/bw/tapu-bulu.gif: Not Found\n"
     ]
    },
    {
     "name": "stderr",
     "output_type": "stream",
     "text": [
      " 79%|███████████████████████████████████████████████████████████▎               | 1028/1300 [1:07:09<16:44,  3.69s/it]"
     ]
    },
    {
     "name": "stdout",
     "output_type": "stream",
     "text": [
      "did not find https://www.smogon.com/dex/media/sprites/rb/tapu-fini.png: Not Found\n",
      "did not find https://www.smogon.com/dex/media/sprites/c/tapu-fini.gif: Not Found\n",
      "did not find https://www.smogon.com/dex/media/sprites/rs/tapu-fini.png: Not Found\n",
      "did not find https://www.smogon.com/dex/media/sprites/dp/tapu-fini.png: Not Found\n",
      "did not find https://www.smogon.com/dex/media/sprites/bw/tapu-fini.gif: Not Found\n"
     ]
    },
    {
     "name": "stderr",
     "output_type": "stream",
     "text": [
      " 79%|███████████████████████████████████████████████████████████▎               | 1029/1300 [1:07:13<16:50,  3.73s/it]"
     ]
    },
    {
     "name": "stdout",
     "output_type": "stream",
     "text": [
      "did not find https://www.smogon.com/dex/media/sprites/rb/cosmog.png: Not Found\n",
      "did not find https://www.smogon.com/dex/media/sprites/c/cosmog.gif: Not Found\n",
      "did not find https://www.smogon.com/dex/media/sprites/rs/cosmog.png: Not Found\n",
      "did not find https://www.smogon.com/dex/media/sprites/dp/cosmog.png: Not Found\n",
      "did not find https://www.smogon.com/dex/media/sprites/bw/cosmog.gif: Not Found\n"
     ]
    },
    {
     "name": "stderr",
     "output_type": "stream",
     "text": [
      " 79%|███████████████████████████████████████████████████████████▍               | 1030/1300 [1:07:16<16:30,  3.67s/it]"
     ]
    },
    {
     "name": "stdout",
     "output_type": "stream",
     "text": [
      "did not find https://www.smogon.com/dex/media/sprites/rb/cosmoem.png: Not Found\n",
      "did not find https://www.smogon.com/dex/media/sprites/c/cosmoem.gif: Not Found\n",
      "did not find https://www.smogon.com/dex/media/sprites/rs/cosmoem.png: Not Found\n",
      "did not find https://www.smogon.com/dex/media/sprites/dp/cosmoem.png: Not Found\n",
      "did not find https://www.smogon.com/dex/media/sprites/bw/cosmoem.gif: Not Found\n"
     ]
    },
    {
     "name": "stderr",
     "output_type": "stream",
     "text": [
      " 79%|███████████████████████████████████████████████████████████▍               | 1031/1300 [1:07:20<16:24,  3.66s/it]"
     ]
    },
    {
     "name": "stdout",
     "output_type": "stream",
     "text": [
      "did not find https://www.smogon.com/dex/media/sprites/rb/solgaleo.png: Not Found\n",
      "did not find https://www.smogon.com/dex/media/sprites/c/solgaleo.gif: Not Found\n",
      "did not find https://www.smogon.com/dex/media/sprites/rs/solgaleo.png: Not Found\n",
      "did not find https://www.smogon.com/dex/media/sprites/dp/solgaleo.png: Not Found\n",
      "did not find https://www.smogon.com/dex/media/sprites/bw/solgaleo.gif: Not Found\n"
     ]
    },
    {
     "name": "stderr",
     "output_type": "stream",
     "text": [
      " 79%|███████████████████████████████████████████████████████████▌               | 1032/1300 [1:07:24<16:27,  3.68s/it]"
     ]
    },
    {
     "name": "stdout",
     "output_type": "stream",
     "text": [
      "did not find https://www.smogon.com/dex/media/sprites/rb/lunala.png: Not Found\n",
      "did not find https://www.smogon.com/dex/media/sprites/c/lunala.gif: Not Found\n",
      "did not find https://www.smogon.com/dex/media/sprites/rs/lunala.png: Not Found\n",
      "did not find https://www.smogon.com/dex/media/sprites/dp/lunala.png: Not Found\n",
      "did not find https://www.smogon.com/dex/media/sprites/bw/lunala.gif: Not Found\n"
     ]
    },
    {
     "name": "stderr",
     "output_type": "stream",
     "text": [
      " 79%|███████████████████████████████████████████████████████████▌               | 1033/1300 [1:07:28<16:40,  3.75s/it]"
     ]
    },
    {
     "name": "stdout",
     "output_type": "stream",
     "text": [
      "did not find https://www.smogon.com/dex/media/sprites/rb/nihilego.png: Not Found\n",
      "did not find https://www.smogon.com/dex/media/sprites/c/nihilego.gif: Not Found\n",
      "did not find https://www.smogon.com/dex/media/sprites/rs/nihilego.png: Not Found\n",
      "did not find https://www.smogon.com/dex/media/sprites/dp/nihilego.png: Not Found\n",
      "did not find https://www.smogon.com/dex/media/sprites/bw/nihilego.gif: Not Found\n"
     ]
    },
    {
     "name": "stderr",
     "output_type": "stream",
     "text": [
      " 80%|███████████████████████████████████████████████████████████▋               | 1034/1300 [1:07:32<16:40,  3.76s/it]"
     ]
    },
    {
     "name": "stdout",
     "output_type": "stream",
     "text": [
      "did not find https://www.smogon.com/dex/media/sprites/rb/buzzwole.png: Not Found\n",
      "did not find https://www.smogon.com/dex/media/sprites/c/buzzwole.gif: Not Found\n",
      "did not find https://www.smogon.com/dex/media/sprites/rs/buzzwole.png: Not Found\n",
      "did not find https://www.smogon.com/dex/media/sprites/dp/buzzwole.png: Not Found\n",
      "did not find https://www.smogon.com/dex/media/sprites/bw/buzzwole.gif: Not Found\n"
     ]
    },
    {
     "name": "stderr",
     "output_type": "stream",
     "text": [
      " 80%|███████████████████████████████████████████████████████████▋               | 1035/1300 [1:07:35<16:40,  3.78s/it]"
     ]
    },
    {
     "name": "stdout",
     "output_type": "stream",
     "text": [
      "did not find https://www.smogon.com/dex/media/sprites/rb/pheromosa.png: Not Found\n",
      "did not find https://www.smogon.com/dex/media/sprites/c/pheromosa.gif: Not Found\n",
      "did not find https://www.smogon.com/dex/media/sprites/rs/pheromosa.png: Not Found\n",
      "did not find https://www.smogon.com/dex/media/sprites/dp/pheromosa.png: Not Found\n",
      "did not find https://www.smogon.com/dex/media/sprites/bw/pheromosa.gif: Not Found\n"
     ]
    },
    {
     "name": "stderr",
     "output_type": "stream",
     "text": [
      " 80%|███████████████████████████████████████████████████████████▊               | 1036/1300 [1:07:39<16:35,  3.77s/it]"
     ]
    },
    {
     "name": "stdout",
     "output_type": "stream",
     "text": [
      "did not find https://www.smogon.com/dex/media/sprites/rb/xurkitree.png: Not Found\n",
      "did not find https://www.smogon.com/dex/media/sprites/c/xurkitree.gif: Not Found\n",
      "did not find https://www.smogon.com/dex/media/sprites/rs/xurkitree.png: Not Found\n",
      "did not find https://www.smogon.com/dex/media/sprites/dp/xurkitree.png: Not Found\n",
      "did not find https://www.smogon.com/dex/media/sprites/bw/xurkitree.gif: Not Found\n"
     ]
    },
    {
     "name": "stderr",
     "output_type": "stream",
     "text": [
      " 80%|███████████████████████████████████████████████████████████▊               | 1037/1300 [1:07:43<16:45,  3.82s/it]"
     ]
    },
    {
     "name": "stdout",
     "output_type": "stream",
     "text": [
      "did not find https://www.smogon.com/dex/media/sprites/rb/celesteela.png: Not Found\n",
      "did not find https://www.smogon.com/dex/media/sprites/c/celesteela.gif: Not Found\n",
      "did not find https://www.smogon.com/dex/media/sprites/rs/celesteela.png: Not Found\n",
      "did not find https://www.smogon.com/dex/media/sprites/dp/celesteela.png: Not Found\n",
      "did not find https://www.smogon.com/dex/media/sprites/bw/celesteela.gif: Not Found\n"
     ]
    },
    {
     "name": "stderr",
     "output_type": "stream",
     "text": [
      " 80%|███████████████████████████████████████████████████████████▉               | 1038/1300 [1:07:47<16:41,  3.82s/it]"
     ]
    },
    {
     "name": "stdout",
     "output_type": "stream",
     "text": [
      "did not find https://www.smogon.com/dex/media/sprites/rb/kartana.png: Not Found\n",
      "did not find https://www.smogon.com/dex/media/sprites/c/kartana.gif: Not Found\n",
      "did not find https://www.smogon.com/dex/media/sprites/rs/kartana.png: Not Found\n",
      "did not find https://www.smogon.com/dex/media/sprites/dp/kartana.png: Not Found\n",
      "did not find https://www.smogon.com/dex/media/sprites/bw/kartana.gif: Not Found\n"
     ]
    },
    {
     "name": "stderr",
     "output_type": "stream",
     "text": [
      " 80%|███████████████████████████████████████████████████████████▉               | 1039/1300 [1:07:51<16:25,  3.77s/it]"
     ]
    },
    {
     "name": "stdout",
     "output_type": "stream",
     "text": [
      "did not find https://www.smogon.com/dex/media/sprites/rb/guzzlord.png: Not Found\n",
      "did not find https://www.smogon.com/dex/media/sprites/c/guzzlord.gif: Not Found\n",
      "did not find https://www.smogon.com/dex/media/sprites/rs/guzzlord.png: Not Found\n",
      "did not find https://www.smogon.com/dex/media/sprites/dp/guzzlord.png: Not Found\n",
      "did not find https://www.smogon.com/dex/media/sprites/bw/guzzlord.gif: Not Found\n"
     ]
    },
    {
     "name": "stderr",
     "output_type": "stream",
     "text": [
      " 80%|████████████████████████████████████████████████████████████               | 1040/1300 [1:07:54<16:24,  3.79s/it]"
     ]
    },
    {
     "name": "stdout",
     "output_type": "stream",
     "text": [
      "did not find https://www.smogon.com/dex/media/sprites/rb/necrozma.png: Not Found\n",
      "did not find https://www.smogon.com/dex/media/sprites/c/necrozma.gif: Not Found\n",
      "did not find https://www.smogon.com/dex/media/sprites/rs/necrozma.png: Not Found\n",
      "did not find https://www.smogon.com/dex/media/sprites/dp/necrozma.png: Not Found\n",
      "did not find https://www.smogon.com/dex/media/sprites/bw/necrozma.gif: Not Found\n"
     ]
    },
    {
     "name": "stderr",
     "output_type": "stream",
     "text": [
      " 80%|████████████████████████████████████████████████████████████               | 1041/1300 [1:07:58<16:15,  3.77s/it]"
     ]
    },
    {
     "name": "stdout",
     "output_type": "stream",
     "text": [
      "did not find https://www.smogon.com/dex/media/sprites/rb/necrozma-dusk-mane.png: Not Found\n",
      "did not find https://www.smogon.com/dex/media/sprites/c/necrozma-dusk-mane.gif: Not Found\n",
      "did not find https://www.smogon.com/dex/media/sprites/rs/necrozma-dusk-mane.png: Not Found\n",
      "did not find https://www.smogon.com/dex/media/sprites/dp/necrozma-dusk-mane.png: Not Found\n",
      "did not find https://www.smogon.com/dex/media/sprites/bw/necrozma-dusk-mane.gif: Not Found\n"
     ]
    },
    {
     "name": "stderr",
     "output_type": "stream",
     "text": [
      " 80%|████████████████████████████████████████████████████████████               | 1042/1300 [1:08:02<16:15,  3.78s/it]"
     ]
    },
    {
     "name": "stdout",
     "output_type": "stream",
     "text": [
      "did not find https://www.smogon.com/dex/media/sprites/rb/necrozma-dawn-wings.png: Not Found\n",
      "did not find https://www.smogon.com/dex/media/sprites/c/necrozma-dawn-wings.gif: Not Found\n",
      "did not find https://www.smogon.com/dex/media/sprites/rs/necrozma-dawn-wings.png: Not Found\n",
      "did not find https://www.smogon.com/dex/media/sprites/dp/necrozma-dawn-wings.png: Not Found\n",
      "did not find https://www.smogon.com/dex/media/sprites/bw/necrozma-dawn-wings.gif: Not Found\n"
     ]
    },
    {
     "name": "stderr",
     "output_type": "stream",
     "text": [
      " 80%|████████████████████████████████████████████████████████████▏              | 1043/1300 [1:08:06<16:41,  3.90s/it]"
     ]
    },
    {
     "name": "stdout",
     "output_type": "stream",
     "text": [
      "did not find https://www.smogon.com/dex/media/sprites/rb/necrozma-ultra.png: Not Found\n",
      "did not find https://www.smogon.com/dex/media/sprites/c/necrozma-ultra.gif: Not Found\n",
      "did not find https://www.smogon.com/dex/media/sprites/rs/necrozma-ultra.png: Not Found\n",
      "did not find https://www.smogon.com/dex/media/sprites/dp/necrozma-ultra.png: Not Found\n",
      "did not find https://www.smogon.com/dex/media/sprites/bw/necrozma-ultra.gif: Not Found\n"
     ]
    },
    {
     "name": "stderr",
     "output_type": "stream",
     "text": [
      " 80%|████████████████████████████████████████████████████████████▏              | 1044/1300 [1:08:10<16:52,  3.96s/it]"
     ]
    },
    {
     "name": "stdout",
     "output_type": "stream",
     "text": [
      "did not find https://www.smogon.com/dex/media/sprites/rb/magearna.png: Not Found\n",
      "did not find https://www.smogon.com/dex/media/sprites/c/magearna.gif: Not Found\n",
      "did not find https://www.smogon.com/dex/media/sprites/rs/magearna.png: Not Found\n",
      "did not find https://www.smogon.com/dex/media/sprites/dp/magearna.png: Not Found\n",
      "did not find https://www.smogon.com/dex/media/sprites/bw/magearna.gif: Not Found\n"
     ]
    },
    {
     "name": "stderr",
     "output_type": "stream",
     "text": [
      " 80%|████████████████████████████████████████████████████████████▎              | 1045/1300 [1:08:14<16:18,  3.84s/it]"
     ]
    },
    {
     "name": "stdout",
     "output_type": "stream",
     "text": [
      "did not find https://www.smogon.com/dex/media/sprites/rb/magearna-original.png: Not Found\n",
      "did not find https://www.smogon.com/dex/media/sprites/c/magearna-original.gif: Not Found\n",
      "did not find https://www.smogon.com/dex/media/sprites/rs/magearna-original.png: Not Found\n",
      "did not find https://www.smogon.com/dex/media/sprites/dp/magearna-original.png: Not Found\n",
      "did not find https://www.smogon.com/dex/media/sprites/bw/magearna-original.gif: Not Found\n"
     ]
    },
    {
     "name": "stderr",
     "output_type": "stream",
     "text": [
      " 80%|████████████████████████████████████████████████████████████▎              | 1046/1300 [1:08:17<15:55,  3.76s/it]"
     ]
    },
    {
     "name": "stdout",
     "output_type": "stream",
     "text": [
      "did not find https://www.smogon.com/dex/media/sprites/rb/marshadow.png: Not Found\n",
      "did not find https://www.smogon.com/dex/media/sprites/c/marshadow.gif: Not Found\n",
      "did not find https://www.smogon.com/dex/media/sprites/rs/marshadow.png: Not Found\n",
      "did not find https://www.smogon.com/dex/media/sprites/dp/marshadow.png: Not Found\n",
      "did not find https://www.smogon.com/dex/media/sprites/bw/marshadow.gif: Not Found\n"
     ]
    },
    {
     "name": "stderr",
     "output_type": "stream",
     "text": [
      " 81%|████████████████████████████████████████████████████████████▍              | 1047/1300 [1:08:21<15:43,  3.73s/it]"
     ]
    },
    {
     "name": "stdout",
     "output_type": "stream",
     "text": [
      "did not find https://www.smogon.com/dex/media/sprites/rb/poipole.png: Not Found\n",
      "did not find https://www.smogon.com/dex/media/sprites/c/poipole.gif: Not Found\n",
      "did not find https://www.smogon.com/dex/media/sprites/rs/poipole.png: Not Found\n",
      "did not find https://www.smogon.com/dex/media/sprites/dp/poipole.png: Not Found\n",
      "did not find https://www.smogon.com/dex/media/sprites/bw/poipole.gif: Not Found\n"
     ]
    },
    {
     "name": "stderr",
     "output_type": "stream",
     "text": [
      " 81%|████████████████████████████████████████████████████████████▍              | 1048/1300 [1:08:25<15:36,  3.72s/it]"
     ]
    },
    {
     "name": "stdout",
     "output_type": "stream",
     "text": [
      "did not find https://www.smogon.com/dex/media/sprites/rb/naganadel.png: Not Found\n",
      "did not find https://www.smogon.com/dex/media/sprites/c/naganadel.gif: Not Found\n",
      "did not find https://www.smogon.com/dex/media/sprites/rs/naganadel.png: Not Found\n",
      "did not find https://www.smogon.com/dex/media/sprites/dp/naganadel.png: Not Found\n",
      "did not find https://www.smogon.com/dex/media/sprites/bw/naganadel.gif: Not Found\n"
     ]
    },
    {
     "name": "stderr",
     "output_type": "stream",
     "text": [
      " 81%|████████████████████████████████████████████████████████████▌              | 1049/1300 [1:08:28<15:41,  3.75s/it]"
     ]
    },
    {
     "name": "stdout",
     "output_type": "stream",
     "text": [
      "did not find https://www.smogon.com/dex/media/sprites/rb/stakataka.png: Not Found\n",
      "did not find https://www.smogon.com/dex/media/sprites/c/stakataka.gif: Not Found\n",
      "did not find https://www.smogon.com/dex/media/sprites/rs/stakataka.png: Not Found\n",
      "did not find https://www.smogon.com/dex/media/sprites/dp/stakataka.png: Not Found\n",
      "did not find https://www.smogon.com/dex/media/sprites/bw/stakataka.gif: Not Found\n"
     ]
    },
    {
     "name": "stderr",
     "output_type": "stream",
     "text": [
      " 81%|████████████████████████████████████████████████████████████▌              | 1050/1300 [1:08:32<15:58,  3.83s/it]"
     ]
    },
    {
     "name": "stdout",
     "output_type": "stream",
     "text": [
      "did not find https://www.smogon.com/dex/media/sprites/rb/blacephalon.png: Not Found\n",
      "did not find https://www.smogon.com/dex/media/sprites/c/blacephalon.gif: Not Found\n",
      "did not find https://www.smogon.com/dex/media/sprites/rs/blacephalon.png: Not Found\n",
      "did not find https://www.smogon.com/dex/media/sprites/dp/blacephalon.png: Not Found\n",
      "did not find https://www.smogon.com/dex/media/sprites/bw/blacephalon.gif: Not Found\n"
     ]
    },
    {
     "name": "stderr",
     "output_type": "stream",
     "text": [
      " 81%|████████████████████████████████████████████████████████████▋              | 1051/1300 [1:08:36<15:44,  3.79s/it]"
     ]
    },
    {
     "name": "stdout",
     "output_type": "stream",
     "text": [
      "did not find https://www.smogon.com/dex/media/sprites/rb/zeraora.png: Not Found\n",
      "did not find https://www.smogon.com/dex/media/sprites/c/zeraora.gif: Not Found\n",
      "did not find https://www.smogon.com/dex/media/sprites/rs/zeraora.png: Not Found\n",
      "did not find https://www.smogon.com/dex/media/sprites/dp/zeraora.png: Not Found\n",
      "did not find https://www.smogon.com/dex/media/sprites/bw/zeraora.gif: Not Found\n"
     ]
    },
    {
     "name": "stderr",
     "output_type": "stream",
     "text": [
      " 81%|████████████████████████████████████████████████████████████▋              | 1052/1300 [1:08:40<15:35,  3.77s/it]"
     ]
    },
    {
     "name": "stdout",
     "output_type": "stream",
     "text": [
      "did not find https://www.smogon.com/dex/media/sprites/rb/meltan.png: Not Found\n",
      "did not find https://www.smogon.com/dex/media/sprites/c/meltan.gif: Not Found\n",
      "did not find https://www.smogon.com/dex/media/sprites/rs/meltan.png: Not Found\n",
      "did not find https://www.smogon.com/dex/media/sprites/dp/meltan.png: Not Found\n",
      "did not find https://www.smogon.com/dex/media/sprites/bw/meltan.gif: Not Found\n"
     ]
    },
    {
     "name": "stderr",
     "output_type": "stream",
     "text": [
      " 81%|████████████████████████████████████████████████████████████▊              | 1053/1300 [1:08:43<15:14,  3.70s/it]"
     ]
    },
    {
     "name": "stdout",
     "output_type": "stream",
     "text": [
      "did not find https://www.smogon.com/dex/media/sprites/rb/melmetal.png: Not Found\n",
      "did not find https://www.smogon.com/dex/media/sprites/c/melmetal.gif: Not Found\n",
      "did not find https://www.smogon.com/dex/media/sprites/rs/melmetal.png: Not Found\n",
      "did not find https://www.smogon.com/dex/media/sprites/dp/melmetal.png: Not Found\n",
      "did not find https://www.smogon.com/dex/media/sprites/bw/melmetal.gif: Not Found\n"
     ]
    },
    {
     "name": "stderr",
     "output_type": "stream",
     "text": [
      " 81%|████████████████████████████████████████████████████████████▊              | 1054/1300 [1:08:47<15:24,  3.76s/it]"
     ]
    },
    {
     "name": "stdout",
     "output_type": "stream",
     "text": [
      "did not find https://www.smogon.com/dex/media/sprites/rb/melmetal-gmax.png: Not Found\n",
      "did not find https://www.smogon.com/dex/media/sprites/c/melmetal-gmax.gif: Not Found\n",
      "did not find https://www.smogon.com/dex/media/sprites/rs/melmetal-gmax.png: Not Found\n",
      "did not find https://www.smogon.com/dex/media/sprites/dp/melmetal-gmax.png: Not Found\n",
      "did not find https://www.smogon.com/dex/media/sprites/bw/melmetal-gmax.gif: Not Found\n"
     ]
    },
    {
     "name": "stderr",
     "output_type": "stream",
     "text": [
      " 81%|████████████████████████████████████████████████████████████▊              | 1055/1300 [1:08:52<16:05,  3.94s/it]"
     ]
    },
    {
     "name": "stdout",
     "output_type": "stream",
     "text": [
      "did not find https://www.smogon.com/dex/media/sprites/rb/grookey.png: Not Found\n",
      "did not find https://www.smogon.com/dex/media/sprites/c/grookey.gif: Not Found\n",
      "did not find https://www.smogon.com/dex/media/sprites/rs/grookey.png: Not Found\n",
      "did not find https://www.smogon.com/dex/media/sprites/dp/grookey.png: Not Found\n",
      "did not find https://www.smogon.com/dex/media/sprites/bw/grookey.gif: Not Found\n"
     ]
    },
    {
     "name": "stderr",
     "output_type": "stream",
     "text": [
      " 81%|████████████████████████████████████████████████████████████▉              | 1056/1300 [1:08:55<15:43,  3.87s/it]"
     ]
    },
    {
     "name": "stdout",
     "output_type": "stream",
     "text": [
      "did not find https://www.smogon.com/dex/media/sprites/rb/thwackey.png: Not Found\n",
      "did not find https://www.smogon.com/dex/media/sprites/c/thwackey.gif: Not Found\n",
      "did not find https://www.smogon.com/dex/media/sprites/rs/thwackey.png: Not Found\n",
      "did not find https://www.smogon.com/dex/media/sprites/dp/thwackey.png: Not Found\n",
      "did not find https://www.smogon.com/dex/media/sprites/bw/thwackey.gif: Not Found\n"
     ]
    },
    {
     "name": "stderr",
     "output_type": "stream",
     "text": [
      " 81%|████████████████████████████████████████████████████████████▉              | 1057/1300 [1:08:59<15:29,  3.82s/it]"
     ]
    },
    {
     "name": "stdout",
     "output_type": "stream",
     "text": [
      "did not find https://www.smogon.com/dex/media/sprites/rb/rillaboom.png: Not Found\n",
      "did not find https://www.smogon.com/dex/media/sprites/c/rillaboom.gif: Not Found\n",
      "did not find https://www.smogon.com/dex/media/sprites/rs/rillaboom.png: Not Found\n",
      "did not find https://www.smogon.com/dex/media/sprites/dp/rillaboom.png: Not Found\n",
      "did not find https://www.smogon.com/dex/media/sprites/bw/rillaboom.gif: Not Found\n"
     ]
    },
    {
     "name": "stderr",
     "output_type": "stream",
     "text": [
      " 81%|█████████████████████████████████████████████████████████████              | 1058/1300 [1:09:03<15:20,  3.80s/it]"
     ]
    },
    {
     "name": "stdout",
     "output_type": "stream",
     "text": [
      "did not find https://www.smogon.com/dex/media/sprites/rb/rillaboom-gmax.png: Not Found\n",
      "did not find https://www.smogon.com/dex/media/sprites/c/rillaboom-gmax.gif: Not Found\n",
      "did not find https://www.smogon.com/dex/media/sprites/rs/rillaboom-gmax.png: Not Found\n",
      "did not find https://www.smogon.com/dex/media/sprites/dp/rillaboom-gmax.png: Not Found\n",
      "did not find https://www.smogon.com/dex/media/sprites/bw/rillaboom-gmax.gif: Not Found\n"
     ]
    },
    {
     "name": "stderr",
     "output_type": "stream",
     "text": [
      " 81%|█████████████████████████████████████████████████████████████              | 1059/1300 [1:09:06<14:47,  3.68s/it]"
     ]
    },
    {
     "name": "stdout",
     "output_type": "stream",
     "text": [
      "did not find https://www.smogon.com/dex/media/sprites/xy/rillaboom-gmax.gif: Not Found\n",
      "did not find https://www.smogon.com/dex/media/sprites/rb/scorbunny.png: Not Found\n",
      "did not find https://www.smogon.com/dex/media/sprites/c/scorbunny.gif: Not Found\n",
      "did not find https://www.smogon.com/dex/media/sprites/rs/scorbunny.png: Not Found\n",
      "did not find https://www.smogon.com/dex/media/sprites/dp/scorbunny.png: Not Found\n",
      "did not find https://www.smogon.com/dex/media/sprites/bw/scorbunny.gif: Not Found\n"
     ]
    },
    {
     "name": "stderr",
     "output_type": "stream",
     "text": [
      " 82%|█████████████████████████████████████████████████████████████▏             | 1060/1300 [1:09:10<14:43,  3.68s/it]"
     ]
    },
    {
     "name": "stdout",
     "output_type": "stream",
     "text": [
      "did not find https://www.smogon.com/dex/media/sprites/rb/raboot.png: Not Found\n",
      "did not find https://www.smogon.com/dex/media/sprites/c/raboot.gif: Not Found\n",
      "did not find https://www.smogon.com/dex/media/sprites/rs/raboot.png: Not Found\n",
      "did not find https://www.smogon.com/dex/media/sprites/dp/raboot.png: Not Found\n",
      "did not find https://www.smogon.com/dex/media/sprites/bw/raboot.gif: Not Found\n"
     ]
    },
    {
     "name": "stderr",
     "output_type": "stream",
     "text": [
      " 82%|█████████████████████████████████████████████████████████████▏             | 1061/1300 [1:09:14<14:44,  3.70s/it]"
     ]
    },
    {
     "name": "stdout",
     "output_type": "stream",
     "text": [
      "did not find https://www.smogon.com/dex/media/sprites/rb/cinderace.png: Not Found\n",
      "did not find https://www.smogon.com/dex/media/sprites/c/cinderace.gif: Not Found\n",
      "did not find https://www.smogon.com/dex/media/sprites/rs/cinderace.png: Not Found\n",
      "did not find https://www.smogon.com/dex/media/sprites/dp/cinderace.png: Not Found\n",
      "did not find https://www.smogon.com/dex/media/sprites/bw/cinderace.gif: Not Found\n"
     ]
    },
    {
     "name": "stderr",
     "output_type": "stream",
     "text": [
      " 82%|█████████████████████████████████████████████████████████████▎             | 1062/1300 [1:09:17<14:38,  3.69s/it]"
     ]
    },
    {
     "name": "stdout",
     "output_type": "stream",
     "text": [
      "did not find https://www.smogon.com/dex/media/sprites/rb/cinderace-gmax.png: Not Found\n",
      "did not find https://www.smogon.com/dex/media/sprites/c/cinderace-gmax.gif: Not Found\n",
      "did not find https://www.smogon.com/dex/media/sprites/rs/cinderace-gmax.png: Not Found\n",
      "did not find https://www.smogon.com/dex/media/sprites/dp/cinderace-gmax.png: Not Found\n",
      "did not find https://www.smogon.com/dex/media/sprites/bw/cinderace-gmax.gif: Not Found\n"
     ]
    },
    {
     "name": "stderr",
     "output_type": "stream",
     "text": [
      " 82%|█████████████████████████████████████████████████████████████▎             | 1063/1300 [1:09:21<14:15,  3.61s/it]"
     ]
    },
    {
     "name": "stdout",
     "output_type": "stream",
     "text": [
      "did not find https://www.smogon.com/dex/media/sprites/xy/cinderace-gmax.gif: Not Found\n",
      "did not find https://www.smogon.com/dex/media/sprites/rb/sobble.png: Not Found\n",
      "did not find https://www.smogon.com/dex/media/sprites/c/sobble.gif: Not Found\n",
      "did not find https://www.smogon.com/dex/media/sprites/rs/sobble.png: Not Found\n",
      "did not find https://www.smogon.com/dex/media/sprites/dp/sobble.png: Not Found\n",
      "did not find https://www.smogon.com/dex/media/sprites/bw/sobble.gif: Not Found\n"
     ]
    },
    {
     "name": "stderr",
     "output_type": "stream",
     "text": [
      " 82%|█████████████████████████████████████████████████████████████▍             | 1064/1300 [1:09:24<14:12,  3.61s/it]"
     ]
    },
    {
     "name": "stdout",
     "output_type": "stream",
     "text": [
      "did not find https://www.smogon.com/dex/media/sprites/rb/drizzile.png: Not Found\n",
      "did not find https://www.smogon.com/dex/media/sprites/c/drizzile.gif: Not Found\n",
      "did not find https://www.smogon.com/dex/media/sprites/rs/drizzile.png: Not Found\n",
      "did not find https://www.smogon.com/dex/media/sprites/dp/drizzile.png: Not Found\n",
      "did not find https://www.smogon.com/dex/media/sprites/bw/drizzile.gif: Not Found\n"
     ]
    },
    {
     "name": "stderr",
     "output_type": "stream",
     "text": [
      " 82%|█████████████████████████████████████████████████████████████▍             | 1065/1300 [1:09:28<14:13,  3.63s/it]"
     ]
    },
    {
     "name": "stdout",
     "output_type": "stream",
     "text": [
      "did not find https://www.smogon.com/dex/media/sprites/rb/inteleon.png: Not Found\n",
      "did not find https://www.smogon.com/dex/media/sprites/c/inteleon.gif: Not Found\n",
      "did not find https://www.smogon.com/dex/media/sprites/rs/inteleon.png: Not Found\n",
      "did not find https://www.smogon.com/dex/media/sprites/dp/inteleon.png: Not Found\n",
      "did not find https://www.smogon.com/dex/media/sprites/bw/inteleon.gif: Not Found\n"
     ]
    },
    {
     "name": "stderr",
     "output_type": "stream",
     "text": [
      " 82%|█████████████████████████████████████████████████████████████▍             | 1066/1300 [1:09:32<14:14,  3.65s/it]"
     ]
    },
    {
     "name": "stdout",
     "output_type": "stream",
     "text": [
      "did not find https://www.smogon.com/dex/media/sprites/rb/inteleon-gmax.png: Not Found\n",
      "did not find https://www.smogon.com/dex/media/sprites/c/inteleon-gmax.gif: Not Found\n",
      "did not find https://www.smogon.com/dex/media/sprites/rs/inteleon-gmax.png: Not Found\n",
      "did not find https://www.smogon.com/dex/media/sprites/dp/inteleon-gmax.png: Not Found\n",
      "did not find https://www.smogon.com/dex/media/sprites/bw/inteleon-gmax.gif: Not Found\n"
     ]
    },
    {
     "name": "stderr",
     "output_type": "stream",
     "text": [
      " 82%|█████████████████████████████████████████████████████████████▌             | 1067/1300 [1:09:35<13:55,  3.59s/it]"
     ]
    },
    {
     "name": "stdout",
     "output_type": "stream",
     "text": [
      "did not find https://www.smogon.com/dex/media/sprites/xy/inteleon-gmax.gif: Not Found\n",
      "did not find https://www.smogon.com/dex/media/sprites/rb/skwovet.png: Not Found\n",
      "did not find https://www.smogon.com/dex/media/sprites/c/skwovet.gif: Not Found\n",
      "did not find https://www.smogon.com/dex/media/sprites/rs/skwovet.png: Not Found\n",
      "did not find https://www.smogon.com/dex/media/sprites/dp/skwovet.png: Not Found\n",
      "did not find https://www.smogon.com/dex/media/sprites/bw/skwovet.gif: Not Found\n"
     ]
    },
    {
     "name": "stderr",
     "output_type": "stream",
     "text": [
      " 82%|█████████████████████████████████████████████████████████████▌             | 1068/1300 [1:09:39<13:58,  3.61s/it]"
     ]
    },
    {
     "name": "stdout",
     "output_type": "stream",
     "text": [
      "did not find https://www.smogon.com/dex/media/sprites/rb/greedent.png: Not Found\n",
      "did not find https://www.smogon.com/dex/media/sprites/c/greedent.gif: Not Found\n",
      "did not find https://www.smogon.com/dex/media/sprites/rs/greedent.png: Not Found\n",
      "did not find https://www.smogon.com/dex/media/sprites/dp/greedent.png: Not Found\n",
      "did not find https://www.smogon.com/dex/media/sprites/bw/greedent.gif: Not Found\n"
     ]
    },
    {
     "name": "stderr",
     "output_type": "stream",
     "text": [
      " 82%|█████████████████████████████████████████████████████████████▋             | 1069/1300 [1:09:43<14:06,  3.66s/it]"
     ]
    },
    {
     "name": "stdout",
     "output_type": "stream",
     "text": [
      "did not find https://www.smogon.com/dex/media/sprites/rb/rookidee.png: Not Found\n",
      "did not find https://www.smogon.com/dex/media/sprites/c/rookidee.gif: Not Found\n",
      "did not find https://www.smogon.com/dex/media/sprites/rs/rookidee.png: Not Found\n",
      "did not find https://www.smogon.com/dex/media/sprites/dp/rookidee.png: Not Found\n",
      "did not find https://www.smogon.com/dex/media/sprites/bw/rookidee.gif: Not Found\n"
     ]
    },
    {
     "name": "stderr",
     "output_type": "stream",
     "text": [
      " 82%|█████████████████████████████████████████████████████████████▋             | 1070/1300 [1:09:46<14:01,  3.66s/it]"
     ]
    },
    {
     "name": "stdout",
     "output_type": "stream",
     "text": [
      "did not find https://www.smogon.com/dex/media/sprites/rb/corvisquire.png: Not Found\n",
      "did not find https://www.smogon.com/dex/media/sprites/c/corvisquire.gif: Not Found\n",
      "did not find https://www.smogon.com/dex/media/sprites/rs/corvisquire.png: Not Found\n",
      "did not find https://www.smogon.com/dex/media/sprites/dp/corvisquire.png: Not Found\n",
      "did not find https://www.smogon.com/dex/media/sprites/bw/corvisquire.gif: Not Found\n"
     ]
    },
    {
     "name": "stderr",
     "output_type": "stream",
     "text": [
      " 82%|█████████████████████████████████████████████████████████████▊             | 1071/1300 [1:09:50<13:55,  3.65s/it]"
     ]
    },
    {
     "name": "stdout",
     "output_type": "stream",
     "text": [
      "did not find https://www.smogon.com/dex/media/sprites/rb/corviknight.png: Not Found\n",
      "did not find https://www.smogon.com/dex/media/sprites/c/corviknight.gif: Not Found\n",
      "did not find https://www.smogon.com/dex/media/sprites/rs/corviknight.png: Not Found\n",
      "did not find https://www.smogon.com/dex/media/sprites/dp/corviknight.png: Not Found\n",
      "did not find https://www.smogon.com/dex/media/sprites/bw/corviknight.gif: Not Found\n"
     ]
    },
    {
     "name": "stderr",
     "output_type": "stream",
     "text": [
      " 82%|█████████████████████████████████████████████████████████████▊             | 1072/1300 [1:09:54<13:58,  3.68s/it]"
     ]
    },
    {
     "name": "stdout",
     "output_type": "stream",
     "text": [
      "did not find https://www.smogon.com/dex/media/sprites/rb/corviknight-gmax.png: Not Found\n",
      "did not find https://www.smogon.com/dex/media/sprites/c/corviknight-gmax.gif: Not Found\n",
      "did not find https://www.smogon.com/dex/media/sprites/rs/corviknight-gmax.png: Not Found\n",
      "did not find https://www.smogon.com/dex/media/sprites/dp/corviknight-gmax.png: Not Found\n",
      "did not find https://www.smogon.com/dex/media/sprites/bw/corviknight-gmax.gif: Not Found\n"
     ]
    },
    {
     "name": "stderr",
     "output_type": "stream",
     "text": [
      " 83%|█████████████████████████████████████████████████████████████▉             | 1073/1300 [1:09:58<14:36,  3.86s/it]"
     ]
    },
    {
     "name": "stdout",
     "output_type": "stream",
     "text": [
      "did not find https://www.smogon.com/dex/media/sprites/rb/blipbug.png: Not Found\n",
      "did not find https://www.smogon.com/dex/media/sprites/c/blipbug.gif: Not Found\n",
      "did not find https://www.smogon.com/dex/media/sprites/rs/blipbug.png: Not Found\n",
      "did not find https://www.smogon.com/dex/media/sprites/dp/blipbug.png: Not Found\n",
      "did not find https://www.smogon.com/dex/media/sprites/bw/blipbug.gif: Not Found\n"
     ]
    },
    {
     "name": "stderr",
     "output_type": "stream",
     "text": [
      " 83%|█████████████████████████████████████████████████████████████▉             | 1074/1300 [1:10:02<14:22,  3.82s/it]"
     ]
    },
    {
     "name": "stdout",
     "output_type": "stream",
     "text": [
      "did not find https://www.smogon.com/dex/media/sprites/rb/dottler.png: Not Found\n",
      "did not find https://www.smogon.com/dex/media/sprites/c/dottler.gif: Not Found\n",
      "did not find https://www.smogon.com/dex/media/sprites/rs/dottler.png: Not Found\n",
      "did not find https://www.smogon.com/dex/media/sprites/dp/dottler.png: Not Found\n",
      "did not find https://www.smogon.com/dex/media/sprites/bw/dottler.gif: Not Found\n"
     ]
    },
    {
     "name": "stderr",
     "output_type": "stream",
     "text": [
      " 83%|██████████████████████████████████████████████████████████████             | 1075/1300 [1:10:05<14:09,  3.78s/it]"
     ]
    },
    {
     "name": "stdout",
     "output_type": "stream",
     "text": [
      "did not find https://www.smogon.com/dex/media/sprites/rb/orbeetle.png: Not Found\n",
      "did not find https://www.smogon.com/dex/media/sprites/c/orbeetle.gif: Not Found\n",
      "did not find https://www.smogon.com/dex/media/sprites/rs/orbeetle.png: Not Found\n",
      "did not find https://www.smogon.com/dex/media/sprites/dp/orbeetle.png: Not Found\n",
      "did not find https://www.smogon.com/dex/media/sprites/bw/orbeetle.gif: Not Found\n"
     ]
    },
    {
     "name": "stderr",
     "output_type": "stream",
     "text": [
      " 83%|██████████████████████████████████████████████████████████████             | 1076/1300 [1:10:09<14:04,  3.77s/it]"
     ]
    },
    {
     "name": "stdout",
     "output_type": "stream",
     "text": [
      "did not find https://www.smogon.com/dex/media/sprites/rb/orbeetle-gmax.png: Not Found\n",
      "did not find https://www.smogon.com/dex/media/sprites/c/orbeetle-gmax.gif: Not Found\n",
      "did not find https://www.smogon.com/dex/media/sprites/rs/orbeetle-gmax.png: Not Found\n",
      "did not find https://www.smogon.com/dex/media/sprites/dp/orbeetle-gmax.png: Not Found\n",
      "did not find https://www.smogon.com/dex/media/sprites/bw/orbeetle-gmax.gif: Not Found\n"
     ]
    },
    {
     "name": "stderr",
     "output_type": "stream",
     "text": [
      " 83%|██████████████████████████████████████████████████████████████▏            | 1077/1300 [1:10:13<14:22,  3.87s/it]"
     ]
    },
    {
     "name": "stdout",
     "output_type": "stream",
     "text": [
      "did not find https://www.smogon.com/dex/media/sprites/rb/nickit.png: Not Found\n",
      "did not find https://www.smogon.com/dex/media/sprites/c/nickit.gif: Not Found\n",
      "did not find https://www.smogon.com/dex/media/sprites/rs/nickit.png: Not Found\n",
      "did not find https://www.smogon.com/dex/media/sprites/dp/nickit.png: Not Found\n",
      "did not find https://www.smogon.com/dex/media/sprites/bw/nickit.gif: Not Found\n"
     ]
    },
    {
     "name": "stderr",
     "output_type": "stream",
     "text": [
      " 83%|██████████████████████████████████████████████████████████████▏            | 1078/1300 [1:10:17<14:04,  3.80s/it]"
     ]
    },
    {
     "name": "stdout",
     "output_type": "stream",
     "text": [
      "did not find https://www.smogon.com/dex/media/sprites/rb/thievul.png: Not Found\n",
      "did not find https://www.smogon.com/dex/media/sprites/c/thievul.gif: Not Found\n",
      "did not find https://www.smogon.com/dex/media/sprites/rs/thievul.png: Not Found\n",
      "did not find https://www.smogon.com/dex/media/sprites/dp/thievul.png: Not Found\n",
      "did not find https://www.smogon.com/dex/media/sprites/bw/thievul.gif: Not Found\n"
     ]
    },
    {
     "name": "stderr",
     "output_type": "stream",
     "text": [
      " 83%|██████████████████████████████████████████████████████████████▎            | 1079/1300 [1:10:21<13:52,  3.76s/it]"
     ]
    },
    {
     "name": "stdout",
     "output_type": "stream",
     "text": [
      "did not find https://www.smogon.com/dex/media/sprites/rb/gossifleur.png: Not Found\n",
      "did not find https://www.smogon.com/dex/media/sprites/c/gossifleur.gif: Not Found\n",
      "did not find https://www.smogon.com/dex/media/sprites/rs/gossifleur.png: Not Found\n",
      "did not find https://www.smogon.com/dex/media/sprites/dp/gossifleur.png: Not Found\n",
      "did not find https://www.smogon.com/dex/media/sprites/bw/gossifleur.gif: Not Found\n"
     ]
    },
    {
     "name": "stderr",
     "output_type": "stream",
     "text": [
      " 83%|██████████████████████████████████████████████████████████████▎            | 1080/1300 [1:10:24<13:43,  3.74s/it]"
     ]
    },
    {
     "name": "stdout",
     "output_type": "stream",
     "text": [
      "did not find https://www.smogon.com/dex/media/sprites/rb/eldegoss.png: Not Found\n",
      "did not find https://www.smogon.com/dex/media/sprites/c/eldegoss.gif: Not Found\n",
      "did not find https://www.smogon.com/dex/media/sprites/rs/eldegoss.png: Not Found\n",
      "did not find https://www.smogon.com/dex/media/sprites/dp/eldegoss.png: Not Found\n",
      "did not find https://www.smogon.com/dex/media/sprites/bw/eldegoss.gif: Not Found\n"
     ]
    },
    {
     "name": "stderr",
     "output_type": "stream",
     "text": [
      " 83%|██████████████████████████████████████████████████████████████▎            | 1081/1300 [1:10:28<13:45,  3.77s/it]"
     ]
    },
    {
     "name": "stdout",
     "output_type": "stream",
     "text": [
      "did not find https://www.smogon.com/dex/media/sprites/rb/wooloo.png: Not Found\n",
      "did not find https://www.smogon.com/dex/media/sprites/c/wooloo.gif: Not Found\n",
      "did not find https://www.smogon.com/dex/media/sprites/rs/wooloo.png: Not Found\n",
      "did not find https://www.smogon.com/dex/media/sprites/dp/wooloo.png: Not Found\n",
      "did not find https://www.smogon.com/dex/media/sprites/bw/wooloo.gif: Not Found\n"
     ]
    },
    {
     "name": "stderr",
     "output_type": "stream",
     "text": [
      " 83%|██████████████████████████████████████████████████████████████▍            | 1082/1300 [1:10:32<13:44,  3.78s/it]"
     ]
    },
    {
     "name": "stdout",
     "output_type": "stream",
     "text": [
      "did not find https://www.smogon.com/dex/media/sprites/rb/dubwool.png: Not Found\n",
      "did not find https://www.smogon.com/dex/media/sprites/c/dubwool.gif: Not Found\n",
      "did not find https://www.smogon.com/dex/media/sprites/rs/dubwool.png: Not Found\n",
      "did not find https://www.smogon.com/dex/media/sprites/dp/dubwool.png: Not Found\n",
      "did not find https://www.smogon.com/dex/media/sprites/bw/dubwool.gif: Not Found\n"
     ]
    },
    {
     "name": "stderr",
     "output_type": "stream",
     "text": [
      " 83%|██████████████████████████████████████████████████████████████▍            | 1083/1300 [1:10:36<13:39,  3.78s/it]"
     ]
    },
    {
     "name": "stdout",
     "output_type": "stream",
     "text": [
      "did not find https://www.smogon.com/dex/media/sprites/rb/chewtle.png: Not Found\n",
      "did not find https://www.smogon.com/dex/media/sprites/c/chewtle.gif: Not Found\n",
      "did not find https://www.smogon.com/dex/media/sprites/rs/chewtle.png: Not Found\n",
      "did not find https://www.smogon.com/dex/media/sprites/dp/chewtle.png: Not Found\n",
      "did not find https://www.smogon.com/dex/media/sprites/bw/chewtle.gif: Not Found\n"
     ]
    },
    {
     "name": "stderr",
     "output_type": "stream",
     "text": [
      " 83%|██████████████████████████████████████████████████████████████▌            | 1084/1300 [1:10:39<13:31,  3.76s/it]"
     ]
    },
    {
     "name": "stdout",
     "output_type": "stream",
     "text": [
      "did not find https://www.smogon.com/dex/media/sprites/rb/drednaw.png: Not Found\n",
      "did not find https://www.smogon.com/dex/media/sprites/c/drednaw.gif: Not Found\n",
      "did not find https://www.smogon.com/dex/media/sprites/rs/drednaw.png: Not Found\n",
      "did not find https://www.smogon.com/dex/media/sprites/dp/drednaw.png: Not Found\n",
      "did not find https://www.smogon.com/dex/media/sprites/bw/drednaw.gif: Not Found\n"
     ]
    },
    {
     "name": "stderr",
     "output_type": "stream",
     "text": [
      " 83%|██████████████████████████████████████████████████████████████▌            | 1085/1300 [1:10:43<13:26,  3.75s/it]"
     ]
    },
    {
     "name": "stdout",
     "output_type": "stream",
     "text": [
      "did not find https://www.smogon.com/dex/media/sprites/rb/drednaw-gmax.png: Not Found\n",
      "did not find https://www.smogon.com/dex/media/sprites/c/drednaw-gmax.gif: Not Found\n",
      "did not find https://www.smogon.com/dex/media/sprites/rs/drednaw-gmax.png: Not Found\n",
      "did not find https://www.smogon.com/dex/media/sprites/dp/drednaw-gmax.png: Not Found\n",
      "did not find https://www.smogon.com/dex/media/sprites/bw/drednaw-gmax.gif: Not Found\n"
     ]
    },
    {
     "name": "stderr",
     "output_type": "stream",
     "text": [
      " 84%|██████████████████████████████████████████████████████████████▋            | 1086/1300 [1:10:47<14:02,  3.94s/it]"
     ]
    },
    {
     "name": "stdout",
     "output_type": "stream",
     "text": [
      "did not find https://www.smogon.com/dex/media/sprites/rb/yamper.png: Not Found\n",
      "did not find https://www.smogon.com/dex/media/sprites/c/yamper.gif: Not Found\n",
      "did not find https://www.smogon.com/dex/media/sprites/rs/yamper.png: Not Found\n",
      "did not find https://www.smogon.com/dex/media/sprites/dp/yamper.png: Not Found\n",
      "did not find https://www.smogon.com/dex/media/sprites/bw/yamper.gif: Not Found\n"
     ]
    },
    {
     "name": "stderr",
     "output_type": "stream",
     "text": [
      " 84%|██████████████████████████████████████████████████████████████▋            | 1087/1300 [1:10:51<13:40,  3.85s/it]"
     ]
    },
    {
     "name": "stdout",
     "output_type": "stream",
     "text": [
      "did not find https://www.smogon.com/dex/media/sprites/rb/boltund.png: Not Found\n",
      "did not find https://www.smogon.com/dex/media/sprites/c/boltund.gif: Not Found\n",
      "did not find https://www.smogon.com/dex/media/sprites/rs/boltund.png: Not Found\n",
      "did not find https://www.smogon.com/dex/media/sprites/dp/boltund.png: Not Found\n",
      "did not find https://www.smogon.com/dex/media/sprites/bw/boltund.gif: Not Found\n"
     ]
    },
    {
     "name": "stderr",
     "output_type": "stream",
     "text": [
      " 84%|██████████████████████████████████████████████████████████████▊            | 1088/1300 [1:10:55<13:32,  3.83s/it]"
     ]
    },
    {
     "name": "stdout",
     "output_type": "stream",
     "text": [
      "did not find https://www.smogon.com/dex/media/sprites/rb/rolycoly.png: Not Found\n",
      "did not find https://www.smogon.com/dex/media/sprites/c/rolycoly.gif: Not Found\n",
      "did not find https://www.smogon.com/dex/media/sprites/rs/rolycoly.png: Not Found\n",
      "did not find https://www.smogon.com/dex/media/sprites/dp/rolycoly.png: Not Found\n",
      "did not find https://www.smogon.com/dex/media/sprites/bw/rolycoly.gif: Not Found\n"
     ]
    },
    {
     "name": "stderr",
     "output_type": "stream",
     "text": [
      " 84%|██████████████████████████████████████████████████████████████▊            | 1089/1300 [1:10:59<13:32,  3.85s/it]"
     ]
    },
    {
     "name": "stdout",
     "output_type": "stream",
     "text": [
      "did not find https://www.smogon.com/dex/media/sprites/rb/carkol.png: Not Found\n",
      "did not find https://www.smogon.com/dex/media/sprites/c/carkol.gif: Not Found\n",
      "did not find https://www.smogon.com/dex/media/sprites/rs/carkol.png: Not Found\n",
      "did not find https://www.smogon.com/dex/media/sprites/dp/carkol.png: Not Found\n",
      "did not find https://www.smogon.com/dex/media/sprites/bw/carkol.gif: Not Found\n"
     ]
    },
    {
     "name": "stderr",
     "output_type": "stream",
     "text": [
      " 84%|██████████████████████████████████████████████████████████████▉            | 1090/1300 [1:11:03<13:36,  3.89s/it]"
     ]
    },
    {
     "name": "stdout",
     "output_type": "stream",
     "text": [
      "did not find https://www.smogon.com/dex/media/sprites/rb/coalossal.png: Not Found\n",
      "did not find https://www.smogon.com/dex/media/sprites/c/coalossal.gif: Not Found\n",
      "did not find https://www.smogon.com/dex/media/sprites/rs/coalossal.png: Not Found\n",
      "did not find https://www.smogon.com/dex/media/sprites/dp/coalossal.png: Not Found\n",
      "did not find https://www.smogon.com/dex/media/sprites/bw/coalossal.gif: Not Found\n"
     ]
    },
    {
     "name": "stderr",
     "output_type": "stream",
     "text": [
      " 84%|██████████████████████████████████████████████████████████████▉            | 1091/1300 [1:11:07<13:57,  4.01s/it]"
     ]
    },
    {
     "name": "stdout",
     "output_type": "stream",
     "text": [
      "did not find https://www.smogon.com/dex/media/sprites/rb/coalossal-gmax.png: Not Found\n",
      "did not find https://www.smogon.com/dex/media/sprites/c/coalossal-gmax.gif: Not Found\n",
      "did not find https://www.smogon.com/dex/media/sprites/rs/coalossal-gmax.png: Not Found\n",
      "did not find https://www.smogon.com/dex/media/sprites/dp/coalossal-gmax.png: Not Found\n",
      "did not find https://www.smogon.com/dex/media/sprites/bw/coalossal-gmax.gif: Not Found\n"
     ]
    },
    {
     "name": "stderr",
     "output_type": "stream",
     "text": [
      " 84%|███████████████████████████████████████████████████████████████            | 1092/1300 [1:11:12<14:25,  4.16s/it]"
     ]
    },
    {
     "name": "stdout",
     "output_type": "stream",
     "text": [
      "did not find https://www.smogon.com/dex/media/sprites/rb/applin.png: Not Found\n",
      "did not find https://www.smogon.com/dex/media/sprites/c/applin.gif: Not Found\n",
      "did not find https://www.smogon.com/dex/media/sprites/rs/applin.png: Not Found\n",
      "did not find https://www.smogon.com/dex/media/sprites/dp/applin.png: Not Found\n",
      "did not find https://www.smogon.com/dex/media/sprites/bw/applin.gif: Not Found\n"
     ]
    },
    {
     "name": "stderr",
     "output_type": "stream",
     "text": [
      " 84%|███████████████████████████████████████████████████████████████            | 1093/1300 [1:11:15<13:49,  4.01s/it]"
     ]
    },
    {
     "name": "stdout",
     "output_type": "stream",
     "text": [
      "did not find https://www.smogon.com/dex/media/sprites/rb/flapple.png: Not Found\n",
      "did not find https://www.smogon.com/dex/media/sprites/c/flapple.gif: Not Found\n",
      "did not find https://www.smogon.com/dex/media/sprites/rs/flapple.png: Not Found\n",
      "did not find https://www.smogon.com/dex/media/sprites/dp/flapple.png: Not Found\n",
      "did not find https://www.smogon.com/dex/media/sprites/bw/flapple.gif: Not Found\n"
     ]
    },
    {
     "name": "stderr",
     "output_type": "stream",
     "text": [
      " 84%|███████████████████████████████████████████████████████████████            | 1094/1300 [1:11:19<13:34,  3.95s/it]"
     ]
    },
    {
     "name": "stdout",
     "output_type": "stream",
     "text": [
      "did not find https://www.smogon.com/dex/media/sprites/rb/flapple-gmax.png: Not Found\n",
      "did not find https://www.smogon.com/dex/media/sprites/c/flapple-gmax.gif: Not Found\n",
      "did not find https://www.smogon.com/dex/media/sprites/rs/flapple-gmax.png: Not Found\n",
      "did not find https://www.smogon.com/dex/media/sprites/dp/flapple-gmax.png: Not Found\n",
      "did not find https://www.smogon.com/dex/media/sprites/bw/flapple-gmax.gif: Not Found\n"
     ]
    },
    {
     "name": "stderr",
     "output_type": "stream",
     "text": [
      " 84%|███████████████████████████████████████████████████████████████▏           | 1095/1300 [1:11:23<13:54,  4.07s/it]"
     ]
    },
    {
     "name": "stdout",
     "output_type": "stream",
     "text": [
      "did not find https://www.smogon.com/dex/media/sprites/rb/appletun.png: Not Found\n",
      "did not find https://www.smogon.com/dex/media/sprites/c/appletun.gif: Not Found\n",
      "did not find https://www.smogon.com/dex/media/sprites/rs/appletun.png: Not Found\n",
      "did not find https://www.smogon.com/dex/media/sprites/dp/appletun.png: Not Found\n",
      "did not find https://www.smogon.com/dex/media/sprites/bw/appletun.gif: Not Found\n"
     ]
    },
    {
     "name": "stderr",
     "output_type": "stream",
     "text": [
      " 84%|███████████████████████████████████████████████████████████████▏           | 1096/1300 [1:11:27<13:34,  3.99s/it]"
     ]
    },
    {
     "name": "stdout",
     "output_type": "stream",
     "text": [
      "did not find https://www.smogon.com/dex/media/sprites/rb/appletun-gmax.png: Not Found\n",
      "did not find https://www.smogon.com/dex/media/sprites/c/appletun-gmax.gif: Not Found\n",
      "did not find https://www.smogon.com/dex/media/sprites/rs/appletun-gmax.png: Not Found\n",
      "did not find https://www.smogon.com/dex/media/sprites/dp/appletun-gmax.png: Not Found\n",
      "did not find https://www.smogon.com/dex/media/sprites/bw/appletun-gmax.gif: Not Found\n"
     ]
    },
    {
     "name": "stderr",
     "output_type": "stream",
     "text": [
      " 84%|███████████████████████████████████████████████████████████████▎           | 1097/1300 [1:11:31<13:42,  4.05s/it]"
     ]
    },
    {
     "name": "stdout",
     "output_type": "stream",
     "text": [
      "did not find https://www.smogon.com/dex/media/sprites/rb/silicobra.png: Not Found\n",
      "did not find https://www.smogon.com/dex/media/sprites/c/silicobra.gif: Not Found\n",
      "did not find https://www.smogon.com/dex/media/sprites/rs/silicobra.png: Not Found\n",
      "did not find https://www.smogon.com/dex/media/sprites/dp/silicobra.png: Not Found\n",
      "did not find https://www.smogon.com/dex/media/sprites/bw/silicobra.gif: Not Found\n"
     ]
    },
    {
     "name": "stderr",
     "output_type": "stream",
     "text": [
      " 84%|███████████████████████████████████████████████████████████████▎           | 1098/1300 [1:11:35<13:16,  3.94s/it]"
     ]
    },
    {
     "name": "stdout",
     "output_type": "stream",
     "text": [
      "did not find https://www.smogon.com/dex/media/sprites/rb/sandaconda.png: Not Found\n",
      "did not find https://www.smogon.com/dex/media/sprites/c/sandaconda.gif: Not Found\n",
      "did not find https://www.smogon.com/dex/media/sprites/rs/sandaconda.png: Not Found\n",
      "did not find https://www.smogon.com/dex/media/sprites/dp/sandaconda.png: Not Found\n",
      "did not find https://www.smogon.com/dex/media/sprites/bw/sandaconda.gif: Not Found\n"
     ]
    },
    {
     "name": "stderr",
     "output_type": "stream",
     "text": [
      " 85%|███████████████████████████████████████████████████████████████▍           | 1099/1300 [1:11:39<13:01,  3.89s/it]"
     ]
    },
    {
     "name": "stdout",
     "output_type": "stream",
     "text": [
      "did not find https://www.smogon.com/dex/media/sprites/rb/sandaconda-gmax.png: Not Found\n",
      "did not find https://www.smogon.com/dex/media/sprites/c/sandaconda-gmax.gif: Not Found\n",
      "did not find https://www.smogon.com/dex/media/sprites/rs/sandaconda-gmax.png: Not Found\n",
      "did not find https://www.smogon.com/dex/media/sprites/dp/sandaconda-gmax.png: Not Found\n",
      "did not find https://www.smogon.com/dex/media/sprites/bw/sandaconda-gmax.gif: Not Found\n"
     ]
    },
    {
     "name": "stderr",
     "output_type": "stream",
     "text": [
      " 85%|███████████████████████████████████████████████████████████████▍           | 1100/1300 [1:11:43<13:32,  4.06s/it]"
     ]
    },
    {
     "name": "stdout",
     "output_type": "stream",
     "text": [
      "did not find https://www.smogon.com/dex/media/sprites/rb/cramorant.png: Not Found\n",
      "did not find https://www.smogon.com/dex/media/sprites/c/cramorant.gif: Not Found\n",
      "did not find https://www.smogon.com/dex/media/sprites/rs/cramorant.png: Not Found\n",
      "did not find https://www.smogon.com/dex/media/sprites/dp/cramorant.png: Not Found\n",
      "did not find https://www.smogon.com/dex/media/sprites/bw/cramorant.gif: Not Found\n"
     ]
    },
    {
     "name": "stderr",
     "output_type": "stream",
     "text": [
      " 85%|███████████████████████████████████████████████████████████████▌           | 1101/1300 [1:11:47<13:00,  3.92s/it]"
     ]
    },
    {
     "name": "stdout",
     "output_type": "stream",
     "text": [
      "did not find https://www.smogon.com/dex/media/sprites/rb/cramorant-gulping.png: Not Found\n",
      "did not find https://www.smogon.com/dex/media/sprites/c/cramorant-gulping.gif: Not Found\n",
      "did not find https://www.smogon.com/dex/media/sprites/rs/cramorant-gulping.png: Not Found\n",
      "did not find https://www.smogon.com/dex/media/sprites/dp/cramorant-gulping.png: Not Found\n",
      "did not find https://www.smogon.com/dex/media/sprites/bw/cramorant-gulping.gif: Not Found\n"
     ]
    },
    {
     "name": "stderr",
     "output_type": "stream",
     "text": [
      " 85%|███████████████████████████████████████████████████████████████▌           | 1102/1300 [1:11:51<12:38,  3.83s/it]"
     ]
    },
    {
     "name": "stdout",
     "output_type": "stream",
     "text": [
      "did not find https://www.smogon.com/dex/media/sprites/rb/cramorant-gorging.png: Not Found\n",
      "did not find https://www.smogon.com/dex/media/sprites/c/cramorant-gorging.gif: Not Found\n",
      "did not find https://www.smogon.com/dex/media/sprites/rs/cramorant-gorging.png: Not Found\n",
      "did not find https://www.smogon.com/dex/media/sprites/dp/cramorant-gorging.png: Not Found\n",
      "did not find https://www.smogon.com/dex/media/sprites/bw/cramorant-gorging.gif: Not Found\n"
     ]
    },
    {
     "name": "stderr",
     "output_type": "stream",
     "text": [
      " 85%|███████████████████████████████████████████████████████████████▋           | 1103/1300 [1:11:54<12:25,  3.78s/it]"
     ]
    },
    {
     "name": "stdout",
     "output_type": "stream",
     "text": [
      "did not find https://www.smogon.com/dex/media/sprites/rb/arrokuda.png: Not Found\n",
      "did not find https://www.smogon.com/dex/media/sprites/c/arrokuda.gif: Not Found\n",
      "did not find https://www.smogon.com/dex/media/sprites/rs/arrokuda.png: Not Found\n",
      "did not find https://www.smogon.com/dex/media/sprites/dp/arrokuda.png: Not Found\n",
      "did not find https://www.smogon.com/dex/media/sprites/bw/arrokuda.gif: Not Found\n"
     ]
    },
    {
     "name": "stderr",
     "output_type": "stream",
     "text": [
      " 85%|███████████████████████████████████████████████████████████████▋           | 1104/1300 [1:11:58<12:06,  3.71s/it]"
     ]
    },
    {
     "name": "stdout",
     "output_type": "stream",
     "text": [
      "did not find https://www.smogon.com/dex/media/sprites/rb/barraskewda.png: Not Found\n",
      "did not find https://www.smogon.com/dex/media/sprites/c/barraskewda.gif: Not Found\n",
      "did not find https://www.smogon.com/dex/media/sprites/rs/barraskewda.png: Not Found\n",
      "did not find https://www.smogon.com/dex/media/sprites/dp/barraskewda.png: Not Found\n",
      "did not find https://www.smogon.com/dex/media/sprites/bw/barraskewda.gif: Not Found\n"
     ]
    },
    {
     "name": "stderr",
     "output_type": "stream",
     "text": [
      " 85%|███████████████████████████████████████████████████████████████▊           | 1105/1300 [1:12:01<12:02,  3.70s/it]"
     ]
    },
    {
     "name": "stdout",
     "output_type": "stream",
     "text": [
      "did not find https://www.smogon.com/dex/media/sprites/rb/toxel.png: Not Found\n",
      "did not find https://www.smogon.com/dex/media/sprites/c/toxel.gif: Not Found\n",
      "did not find https://www.smogon.com/dex/media/sprites/rs/toxel.png: Not Found\n",
      "did not find https://www.smogon.com/dex/media/sprites/dp/toxel.png: Not Found\n",
      "did not find https://www.smogon.com/dex/media/sprites/bw/toxel.gif: Not Found\n"
     ]
    },
    {
     "name": "stderr",
     "output_type": "stream",
     "text": [
      " 85%|███████████████████████████████████████████████████████████████▊           | 1106/1300 [1:12:05<11:53,  3.68s/it]"
     ]
    },
    {
     "name": "stdout",
     "output_type": "stream",
     "text": [
      "did not find https://www.smogon.com/dex/media/sprites/rb/toxtricity.png: Not Found\n",
      "did not find https://www.smogon.com/dex/media/sprites/c/toxtricity.gif: Not Found\n",
      "did not find https://www.smogon.com/dex/media/sprites/rs/toxtricity.png: Not Found\n",
      "did not find https://www.smogon.com/dex/media/sprites/dp/toxtricity.png: Not Found\n",
      "did not find https://www.smogon.com/dex/media/sprites/bw/toxtricity.gif: Not Found\n"
     ]
    },
    {
     "name": "stderr",
     "output_type": "stream",
     "text": [
      " 85%|███████████████████████████████████████████████████████████████▊           | 1107/1300 [1:12:09<11:50,  3.68s/it]"
     ]
    },
    {
     "name": "stdout",
     "output_type": "stream",
     "text": [
      "did not find https://www.smogon.com/dex/media/sprites/rb/toxtricity-low-key.png: Not Found\n",
      "did not find https://www.smogon.com/dex/media/sprites/c/toxtricity-low-key.gif: Not Found\n",
      "did not find https://www.smogon.com/dex/media/sprites/rs/toxtricity-low-key.png: Not Found\n",
      "did not find https://www.smogon.com/dex/media/sprites/dp/toxtricity-low-key.png: Not Found\n",
      "did not find https://www.smogon.com/dex/media/sprites/bw/toxtricity-low-key.gif: Not Found\n"
     ]
    },
    {
     "name": "stderr",
     "output_type": "stream",
     "text": [
      " 85%|███████████████████████████████████████████████████████████████▉           | 1108/1300 [1:12:13<12:02,  3.76s/it]"
     ]
    },
    {
     "name": "stdout",
     "output_type": "stream",
     "text": [
      "did not find https://www.smogon.com/dex/media/sprites/rb/toxtricity-gmax.png: Not Found\n",
      "did not find https://www.smogon.com/dex/media/sprites/c/toxtricity-gmax.gif: Not Found\n",
      "did not find https://www.smogon.com/dex/media/sprites/rs/toxtricity-gmax.png: Not Found\n",
      "did not find https://www.smogon.com/dex/media/sprites/dp/toxtricity-gmax.png: Not Found\n",
      "did not find https://www.smogon.com/dex/media/sprites/bw/toxtricity-gmax.gif: Not Found\n"
     ]
    },
    {
     "name": "stderr",
     "output_type": "stream",
     "text": [
      " 85%|███████████████████████████████████████████████████████████████▉           | 1109/1300 [1:12:17<12:07,  3.81s/it]"
     ]
    },
    {
     "name": "stdout",
     "output_type": "stream",
     "text": [
      "did not find https://www.smogon.com/dex/media/sprites/rb/toxtricity-low-key-gmax.png: Not Found\n",
      "did not find https://www.smogon.com/dex/media/sprites/c/toxtricity-low-key-gmax.gif: Not Found\n",
      "did not find https://www.smogon.com/dex/media/sprites/rs/toxtricity-low-key-gmax.png: Not Found\n",
      "did not find https://www.smogon.com/dex/media/sprites/dp/toxtricity-low-key-gmax.png: Not Found\n",
      "did not find https://www.smogon.com/dex/media/sprites/bw/toxtricity-low-key-gmax.gif: Not Found\n"
     ]
    },
    {
     "name": "stderr",
     "output_type": "stream",
     "text": [
      " 85%|████████████████████████████████████████████████████████████████           | 1110/1300 [1:12:21<12:15,  3.87s/it]"
     ]
    },
    {
     "name": "stdout",
     "output_type": "stream",
     "text": [
      "did not find https://www.smogon.com/dex/media/sprites/rb/sizzlipede.png: Not Found\n",
      "did not find https://www.smogon.com/dex/media/sprites/c/sizzlipede.gif: Not Found\n",
      "did not find https://www.smogon.com/dex/media/sprites/rs/sizzlipede.png: Not Found\n",
      "did not find https://www.smogon.com/dex/media/sprites/dp/sizzlipede.png: Not Found\n",
      "did not find https://www.smogon.com/dex/media/sprites/bw/sizzlipede.gif: Not Found\n"
     ]
    },
    {
     "name": "stderr",
     "output_type": "stream",
     "text": [
      " 85%|████████████████████████████████████████████████████████████████           | 1111/1300 [1:12:24<11:54,  3.78s/it]"
     ]
    },
    {
     "name": "stdout",
     "output_type": "stream",
     "text": [
      "did not find https://www.smogon.com/dex/media/sprites/rb/centiskorch.png: Not Found\n",
      "did not find https://www.smogon.com/dex/media/sprites/c/centiskorch.gif: Not Found\n",
      "did not find https://www.smogon.com/dex/media/sprites/rs/centiskorch.png: Not Found\n",
      "did not find https://www.smogon.com/dex/media/sprites/dp/centiskorch.png: Not Found\n",
      "did not find https://www.smogon.com/dex/media/sprites/bw/centiskorch.gif: Not Found\n"
     ]
    },
    {
     "name": "stderr",
     "output_type": "stream",
     "text": [
      " 86%|████████████████████████████████████████████████████████████████▏          | 1112/1300 [1:12:28<11:50,  3.78s/it]"
     ]
    },
    {
     "name": "stdout",
     "output_type": "stream",
     "text": [
      "did not find https://www.smogon.com/dex/media/sprites/rb/centiskorch-gmax.png: Not Found\n",
      "did not find https://www.smogon.com/dex/media/sprites/c/centiskorch-gmax.gif: Not Found\n",
      "did not find https://www.smogon.com/dex/media/sprites/rs/centiskorch-gmax.png: Not Found\n",
      "did not find https://www.smogon.com/dex/media/sprites/dp/centiskorch-gmax.png: Not Found\n",
      "did not find https://www.smogon.com/dex/media/sprites/bw/centiskorch-gmax.gif: Not Found\n"
     ]
    },
    {
     "name": "stderr",
     "output_type": "stream",
     "text": [
      " 86%|████████████████████████████████████████████████████████████████▏          | 1113/1300 [1:12:32<12:07,  3.89s/it]"
     ]
    },
    {
     "name": "stdout",
     "output_type": "stream",
     "text": [
      "did not find https://www.smogon.com/dex/media/sprites/rb/clobbopus.png: Not Found\n",
      "did not find https://www.smogon.com/dex/media/sprites/c/clobbopus.gif: Not Found\n",
      "did not find https://www.smogon.com/dex/media/sprites/rs/clobbopus.png: Not Found\n",
      "did not find https://www.smogon.com/dex/media/sprites/dp/clobbopus.png: Not Found\n",
      "did not find https://www.smogon.com/dex/media/sprites/bw/clobbopus.gif: Not Found\n"
     ]
    },
    {
     "name": "stderr",
     "output_type": "stream",
     "text": [
      " 86%|████████████████████████████████████████████████████████████████▎          | 1114/1300 [1:12:36<11:49,  3.82s/it]"
     ]
    },
    {
     "name": "stdout",
     "output_type": "stream",
     "text": [
      "did not find https://www.smogon.com/dex/media/sprites/rb/grapploct.png: Not Found\n",
      "did not find https://www.smogon.com/dex/media/sprites/c/grapploct.gif: Not Found\n",
      "did not find https://www.smogon.com/dex/media/sprites/rs/grapploct.png: Not Found\n",
      "did not find https://www.smogon.com/dex/media/sprites/dp/grapploct.png: Not Found\n",
      "did not find https://www.smogon.com/dex/media/sprites/bw/grapploct.gif: Not Found\n"
     ]
    },
    {
     "name": "stderr",
     "output_type": "stream",
     "text": [
      " 86%|████████████████████████████████████████████████████████████████▎          | 1115/1300 [1:12:39<11:41,  3.79s/it]"
     ]
    },
    {
     "name": "stdout",
     "output_type": "stream",
     "text": [
      "did not find https://www.smogon.com/dex/media/sprites/rb/sinistea.png: Not Found\n",
      "did not find https://www.smogon.com/dex/media/sprites/c/sinistea.gif: Not Found\n",
      "did not find https://www.smogon.com/dex/media/sprites/rs/sinistea.png: Not Found\n",
      "did not find https://www.smogon.com/dex/media/sprites/dp/sinistea.png: Not Found\n",
      "did not find https://www.smogon.com/dex/media/sprites/bw/sinistea.gif: Not Found\n"
     ]
    },
    {
     "name": "stderr",
     "output_type": "stream",
     "text": [
      " 86%|████████████████████████████████████████████████████████████████▍          | 1116/1300 [1:12:43<11:29,  3.75s/it]"
     ]
    },
    {
     "name": "stdout",
     "output_type": "stream",
     "text": [
      "did not find https://www.smogon.com/dex/media/sprites/rb/sinistea-antique.png: Not Found\n",
      "did not find https://www.smogon.com/dex/media/sprites/c/sinistea-antique.gif: Not Found\n",
      "did not find https://www.smogon.com/dex/media/sprites/rs/sinistea-antique.png: Not Found\n",
      "did not find https://www.smogon.com/dex/media/sprites/dp/sinistea-antique.png: Not Found\n",
      "did not find https://www.smogon.com/dex/media/sprites/bw/sinistea-antique.gif: Not Found\n"
     ]
    },
    {
     "name": "stderr",
     "output_type": "stream",
     "text": [
      " 86%|████████████████████████████████████████████████████████████████▍          | 1117/1300 [1:12:47<11:22,  3.73s/it]"
     ]
    },
    {
     "name": "stdout",
     "output_type": "stream",
     "text": [
      "did not find https://www.smogon.com/dex/media/sprites/rb/polteageist.png: Not Found\n",
      "did not find https://www.smogon.com/dex/media/sprites/c/polteageist.gif: Not Found\n",
      "did not find https://www.smogon.com/dex/media/sprites/rs/polteageist.png: Not Found\n",
      "did not find https://www.smogon.com/dex/media/sprites/dp/polteageist.png: Not Found\n",
      "did not find https://www.smogon.com/dex/media/sprites/bw/polteageist.gif: Not Found\n"
     ]
    },
    {
     "name": "stderr",
     "output_type": "stream",
     "text": [
      " 86%|████████████████████████████████████████████████████████████████▌          | 1118/1300 [1:12:51<11:23,  3.75s/it]"
     ]
    },
    {
     "name": "stdout",
     "output_type": "stream",
     "text": [
      "did not find https://www.smogon.com/dex/media/sprites/rb/polteageist-antique.png: Not Found\n",
      "did not find https://www.smogon.com/dex/media/sprites/c/polteageist-antique.gif: Not Found\n",
      "did not find https://www.smogon.com/dex/media/sprites/rs/polteageist-antique.png: Not Found\n",
      "did not find https://www.smogon.com/dex/media/sprites/dp/polteageist-antique.png: Not Found\n",
      "did not find https://www.smogon.com/dex/media/sprites/bw/polteageist-antique.gif: Not Found\n"
     ]
    },
    {
     "name": "stderr",
     "output_type": "stream",
     "text": [
      " 86%|████████████████████████████████████████████████████████████████▌          | 1119/1300 [1:12:54<11:21,  3.77s/it]"
     ]
    },
    {
     "name": "stdout",
     "output_type": "stream",
     "text": [
      "did not find https://www.smogon.com/dex/media/sprites/rb/hatenna.png: Not Found\n",
      "did not find https://www.smogon.com/dex/media/sprites/c/hatenna.gif: Not Found\n",
      "did not find https://www.smogon.com/dex/media/sprites/rs/hatenna.png: Not Found\n",
      "did not find https://www.smogon.com/dex/media/sprites/dp/hatenna.png: Not Found\n",
      "did not find https://www.smogon.com/dex/media/sprites/bw/hatenna.gif: Not Found\n"
     ]
    },
    {
     "name": "stderr",
     "output_type": "stream",
     "text": [
      " 86%|████████████████████████████████████████████████████████████████▌          | 1120/1300 [1:12:58<11:12,  3.73s/it]"
     ]
    },
    {
     "name": "stdout",
     "output_type": "stream",
     "text": [
      "did not find https://www.smogon.com/dex/media/sprites/rb/hattrem.png: Not Found\n",
      "did not find https://www.smogon.com/dex/media/sprites/c/hattrem.gif: Not Found\n",
      "did not find https://www.smogon.com/dex/media/sprites/rs/hattrem.png: Not Found\n",
      "did not find https://www.smogon.com/dex/media/sprites/dp/hattrem.png: Not Found\n",
      "did not find https://www.smogon.com/dex/media/sprites/bw/hattrem.gif: Not Found\n"
     ]
    },
    {
     "name": "stderr",
     "output_type": "stream",
     "text": [
      " 86%|████████████████████████████████████████████████████████████████▋          | 1121/1300 [1:13:02<11:10,  3.75s/it]"
     ]
    },
    {
     "name": "stdout",
     "output_type": "stream",
     "text": [
      "did not find https://www.smogon.com/dex/media/sprites/rb/hatterene.png: Not Found\n",
      "did not find https://www.smogon.com/dex/media/sprites/c/hatterene.gif: Not Found\n",
      "did not find https://www.smogon.com/dex/media/sprites/rs/hatterene.png: Not Found\n",
      "did not find https://www.smogon.com/dex/media/sprites/dp/hatterene.png: Not Found\n",
      "did not find https://www.smogon.com/dex/media/sprites/bw/hatterene.gif: Not Found\n"
     ]
    },
    {
     "name": "stderr",
     "output_type": "stream",
     "text": [
      " 86%|████████████████████████████████████████████████████████████████▋          | 1122/1300 [1:13:06<11:07,  3.75s/it]"
     ]
    },
    {
     "name": "stdout",
     "output_type": "stream",
     "text": [
      "did not find https://www.smogon.com/dex/media/sprites/rb/hatterene-gmax.png: Not Found\n",
      "did not find https://www.smogon.com/dex/media/sprites/c/hatterene-gmax.gif: Not Found\n",
      "did not find https://www.smogon.com/dex/media/sprites/rs/hatterene-gmax.png: Not Found\n",
      "did not find https://www.smogon.com/dex/media/sprites/dp/hatterene-gmax.png: Not Found\n",
      "did not find https://www.smogon.com/dex/media/sprites/bw/hatterene-gmax.gif: Not Found\n"
     ]
    },
    {
     "name": "stderr",
     "output_type": "stream",
     "text": [
      " 86%|████████████████████████████████████████████████████████████████▊          | 1123/1300 [1:13:10<11:24,  3.87s/it]"
     ]
    },
    {
     "name": "stdout",
     "output_type": "stream",
     "text": [
      "did not find https://www.smogon.com/dex/media/sprites/rb/impidimp.png: Not Found\n",
      "did not find https://www.smogon.com/dex/media/sprites/c/impidimp.gif: Not Found\n",
      "did not find https://www.smogon.com/dex/media/sprites/rs/impidimp.png: Not Found\n",
      "did not find https://www.smogon.com/dex/media/sprites/dp/impidimp.png: Not Found\n",
      "did not find https://www.smogon.com/dex/media/sprites/bw/impidimp.gif: Not Found\n"
     ]
    },
    {
     "name": "stderr",
     "output_type": "stream",
     "text": [
      " 86%|████████████████████████████████████████████████████████████████▊          | 1124/1300 [1:13:13<11:03,  3.77s/it]"
     ]
    },
    {
     "name": "stdout",
     "output_type": "stream",
     "text": [
      "did not find https://www.smogon.com/dex/media/sprites/rb/morgrem.png: Not Found\n",
      "did not find https://www.smogon.com/dex/media/sprites/c/morgrem.gif: Not Found\n",
      "did not find https://www.smogon.com/dex/media/sprites/rs/morgrem.png: Not Found\n",
      "did not find https://www.smogon.com/dex/media/sprites/dp/morgrem.png: Not Found\n",
      "did not find https://www.smogon.com/dex/media/sprites/bw/morgrem.gif: Not Found\n"
     ]
    },
    {
     "name": "stderr",
     "output_type": "stream",
     "text": [
      " 87%|████████████████████████████████████████████████████████████████▉          | 1125/1300 [1:13:17<10:53,  3.73s/it]"
     ]
    },
    {
     "name": "stdout",
     "output_type": "stream",
     "text": [
      "did not find https://www.smogon.com/dex/media/sprites/rb/grimmsnarl.png: Not Found\n",
      "did not find https://www.smogon.com/dex/media/sprites/c/grimmsnarl.gif: Not Found\n",
      "did not find https://www.smogon.com/dex/media/sprites/rs/grimmsnarl.png: Not Found\n",
      "did not find https://www.smogon.com/dex/media/sprites/dp/grimmsnarl.png: Not Found\n",
      "did not find https://www.smogon.com/dex/media/sprites/bw/grimmsnarl.gif: Not Found\n"
     ]
    },
    {
     "name": "stderr",
     "output_type": "stream",
     "text": [
      " 87%|████████████████████████████████████████████████████████████████▉          | 1126/1300 [1:13:21<10:53,  3.76s/it]"
     ]
    },
    {
     "name": "stdout",
     "output_type": "stream",
     "text": [
      "did not find https://www.smogon.com/dex/media/sprites/rb/grimmsnarl-gmax.png: Not Found\n",
      "did not find https://www.smogon.com/dex/media/sprites/c/grimmsnarl-gmax.gif: Not Found\n",
      "did not find https://www.smogon.com/dex/media/sprites/rs/grimmsnarl-gmax.png: Not Found\n",
      "did not find https://www.smogon.com/dex/media/sprites/dp/grimmsnarl-gmax.png: Not Found\n",
      "did not find https://www.smogon.com/dex/media/sprites/bw/grimmsnarl-gmax.gif: Not Found\n"
     ]
    },
    {
     "name": "stderr",
     "output_type": "stream",
     "text": [
      " 87%|█████████████████████████████████████████████████████████████████          | 1127/1300 [1:13:25<11:03,  3.84s/it]"
     ]
    },
    {
     "name": "stdout",
     "output_type": "stream",
     "text": [
      "did not find https://www.smogon.com/dex/media/sprites/rb/obstagoon.png: Not Found\n",
      "did not find https://www.smogon.com/dex/media/sprites/c/obstagoon.gif: Not Found\n",
      "did not find https://www.smogon.com/dex/media/sprites/rs/obstagoon.png: Not Found\n",
      "did not find https://www.smogon.com/dex/media/sprites/dp/obstagoon.png: Not Found\n",
      "did not find https://www.smogon.com/dex/media/sprites/bw/obstagoon.gif: Not Found\n"
     ]
    },
    {
     "name": "stderr",
     "output_type": "stream",
     "text": [
      " 87%|█████████████████████████████████████████████████████████████████          | 1128/1300 [1:13:28<10:52,  3.79s/it]"
     ]
    },
    {
     "name": "stdout",
     "output_type": "stream",
     "text": [
      "did not find https://www.smogon.com/dex/media/sprites/rb/perrserker.png: Not Found\n",
      "did not find https://www.smogon.com/dex/media/sprites/c/perrserker.gif: Not Found\n",
      "did not find https://www.smogon.com/dex/media/sprites/rs/perrserker.png: Not Found\n",
      "did not find https://www.smogon.com/dex/media/sprites/dp/perrserker.png: Not Found\n",
      "did not find https://www.smogon.com/dex/media/sprites/bw/perrserker.gif: Not Found\n"
     ]
    },
    {
     "name": "stderr",
     "output_type": "stream",
     "text": [
      " 87%|█████████████████████████████████████████████████████████████████▏         | 1129/1300 [1:13:32<10:39,  3.74s/it]"
     ]
    },
    {
     "name": "stdout",
     "output_type": "stream",
     "text": [
      "did not find https://www.smogon.com/dex/media/sprites/rb/cursola.png: Not Found\n",
      "did not find https://www.smogon.com/dex/media/sprites/c/cursola.gif: Not Found\n",
      "did not find https://www.smogon.com/dex/media/sprites/rs/cursola.png: Not Found\n",
      "did not find https://www.smogon.com/dex/media/sprites/dp/cursola.png: Not Found\n",
      "did not find https://www.smogon.com/dex/media/sprites/bw/cursola.gif: Not Found\n"
     ]
    },
    {
     "name": "stderr",
     "output_type": "stream",
     "text": [
      " 87%|█████████████████████████████████████████████████████████████████▏         | 1130/1300 [1:13:36<10:41,  3.77s/it]"
     ]
    },
    {
     "name": "stdout",
     "output_type": "stream",
     "text": [
      "did not find https://www.smogon.com/dex/media/sprites/rb/sirfetch’d.png: Not Found\n",
      "did not find https://www.smogon.com/dex/media/sprites/c/sirfetch’d.gif: Not Found\n",
      "did not find https://www.smogon.com/dex/media/sprites/rs/sirfetch’d.png: Not Found\n",
      "did not find https://www.smogon.com/dex/media/sprites/dp/sirfetch’d.png: Not Found\n",
      "did not find https://www.smogon.com/dex/media/sprites/bw/sirfetch’d.gif: Not Found\n"
     ]
    },
    {
     "name": "stderr",
     "output_type": "stream",
     "text": [
      " 87%|█████████████████████████████████████████████████████████████████▎         | 1131/1300 [1:13:39<10:22,  3.68s/it]"
     ]
    },
    {
     "name": "stdout",
     "output_type": "stream",
     "text": [
      "did not find https://www.smogon.com/dex/media/sprites/xy/sirfetch’d.gif: Not Found\n",
      "did not find https://www.smogon.com/dex/media/sprites/rb/mr.-rime.png: Not Found\n",
      "did not find https://www.smogon.com/dex/media/sprites/c/mr.-rime.gif: Not Found\n",
      "did not find https://www.smogon.com/dex/media/sprites/rs/mr.-rime.png: Not Found\n",
      "did not find https://www.smogon.com/dex/media/sprites/dp/mr.-rime.png: Not Found\n",
      "did not find https://www.smogon.com/dex/media/sprites/bw/mr.-rime.gif: Not Found\n"
     ]
    },
    {
     "name": "stderr",
     "output_type": "stream",
     "text": [
      " 87%|█████████████████████████████████████████████████████████████████▎         | 1132/1300 [1:13:43<10:05,  3.61s/it]"
     ]
    },
    {
     "name": "stdout",
     "output_type": "stream",
     "text": [
      "did not find https://www.smogon.com/dex/media/sprites/xy/mr.-rime.gif: Not Found\n",
      "did not find https://www.smogon.com/dex/media/sprites/rb/runerigus.png: Not Found\n",
      "did not find https://www.smogon.com/dex/media/sprites/c/runerigus.gif: Not Found\n",
      "did not find https://www.smogon.com/dex/media/sprites/rs/runerigus.png: Not Found\n",
      "did not find https://www.smogon.com/dex/media/sprites/dp/runerigus.png: Not Found\n",
      "did not find https://www.smogon.com/dex/media/sprites/bw/runerigus.gif: Not Found\n"
     ]
    },
    {
     "name": "stderr",
     "output_type": "stream",
     "text": [
      " 87%|█████████████████████████████████████████████████████████████████▎         | 1133/1300 [1:13:47<10:21,  3.72s/it]"
     ]
    },
    {
     "name": "stdout",
     "output_type": "stream",
     "text": [
      "did not find https://www.smogon.com/dex/media/sprites/rb/milcery.png: Not Found\n",
      "did not find https://www.smogon.com/dex/media/sprites/c/milcery.gif: Not Found\n",
      "did not find https://www.smogon.com/dex/media/sprites/rs/milcery.png: Not Found\n",
      "did not find https://www.smogon.com/dex/media/sprites/dp/milcery.png: Not Found\n",
      "did not find https://www.smogon.com/dex/media/sprites/bw/milcery.gif: Not Found\n"
     ]
    },
    {
     "name": "stderr",
     "output_type": "stream",
     "text": [
      " 87%|█████████████████████████████████████████████████████████████████▍         | 1134/1300 [1:13:51<10:40,  3.86s/it]"
     ]
    },
    {
     "name": "stdout",
     "output_type": "stream",
     "text": [
      "did not find https://www.smogon.com/dex/media/sprites/rb/alcremie.png: Not Found\n",
      "did not find https://www.smogon.com/dex/media/sprites/c/alcremie.gif: Not Found\n",
      "did not find https://www.smogon.com/dex/media/sprites/rs/alcremie.png: Not Found\n",
      "did not find https://www.smogon.com/dex/media/sprites/dp/alcremie.png: Not Found\n",
      "did not find https://www.smogon.com/dex/media/sprites/bw/alcremie.gif: Not Found\n"
     ]
    },
    {
     "name": "stderr",
     "output_type": "stream",
     "text": [
      " 87%|█████████████████████████████████████████████████████████████████▍         | 1135/1300 [1:13:55<10:32,  3.83s/it]"
     ]
    },
    {
     "name": "stdout",
     "output_type": "stream",
     "text": [
      "did not find https://www.smogon.com/dex/media/sprites/rb/alcremie-gmax.png: Not Found\n",
      "did not find https://www.smogon.com/dex/media/sprites/c/alcremie-gmax.gif: Not Found\n",
      "did not find https://www.smogon.com/dex/media/sprites/rs/alcremie-gmax.png: Not Found\n",
      "did not find https://www.smogon.com/dex/media/sprites/dp/alcremie-gmax.png: Not Found\n",
      "did not find https://www.smogon.com/dex/media/sprites/bw/alcremie-gmax.gif: Not Found\n"
     ]
    },
    {
     "name": "stderr",
     "output_type": "stream",
     "text": [
      " 87%|█████████████████████████████████████████████████████████████████▌         | 1136/1300 [1:13:59<10:49,  3.96s/it]"
     ]
    },
    {
     "name": "stdout",
     "output_type": "stream",
     "text": [
      "did not find https://www.smogon.com/dex/media/sprites/rb/falinks.png: Not Found\n",
      "did not find https://www.smogon.com/dex/media/sprites/c/falinks.gif: Not Found\n",
      "did not find https://www.smogon.com/dex/media/sprites/rs/falinks.png: Not Found\n",
      "did not find https://www.smogon.com/dex/media/sprites/dp/falinks.png: Not Found\n",
      "did not find https://www.smogon.com/dex/media/sprites/bw/falinks.gif: Not Found\n"
     ]
    },
    {
     "name": "stderr",
     "output_type": "stream",
     "text": [
      " 87%|█████████████████████████████████████████████████████████████████▌         | 1137/1300 [1:14:03<10:31,  3.88s/it]"
     ]
    },
    {
     "name": "stdout",
     "output_type": "stream",
     "text": [
      "did not find https://www.smogon.com/dex/media/sprites/rb/pincurchin.png: Not Found\n",
      "did not find https://www.smogon.com/dex/media/sprites/c/pincurchin.gif: Not Found\n",
      "did not find https://www.smogon.com/dex/media/sprites/rs/pincurchin.png: Not Found\n",
      "did not find https://www.smogon.com/dex/media/sprites/dp/pincurchin.png: Not Found\n",
      "did not find https://www.smogon.com/dex/media/sprites/bw/pincurchin.gif: Not Found\n"
     ]
    },
    {
     "name": "stderr",
     "output_type": "stream",
     "text": [
      " 88%|█████████████████████████████████████████████████████████████████▋         | 1138/1300 [1:14:06<10:21,  3.83s/it]"
     ]
    },
    {
     "name": "stdout",
     "output_type": "stream",
     "text": [
      "did not find https://www.smogon.com/dex/media/sprites/rb/snom.png: Not Found\n",
      "did not find https://www.smogon.com/dex/media/sprites/c/snom.gif: Not Found\n",
      "did not find https://www.smogon.com/dex/media/sprites/rs/snom.png: Not Found\n",
      "did not find https://www.smogon.com/dex/media/sprites/dp/snom.png: Not Found\n",
      "did not find https://www.smogon.com/dex/media/sprites/bw/snom.gif: Not Found\n"
     ]
    },
    {
     "name": "stderr",
     "output_type": "stream",
     "text": [
      " 88%|█████████████████████████████████████████████████████████████████▋         | 1139/1300 [1:14:10<10:02,  3.74s/it]"
     ]
    },
    {
     "name": "stdout",
     "output_type": "stream",
     "text": [
      "did not find https://www.smogon.com/dex/media/sprites/rb/frosmoth.png: Not Found\n",
      "did not find https://www.smogon.com/dex/media/sprites/c/frosmoth.gif: Not Found\n",
      "did not find https://www.smogon.com/dex/media/sprites/rs/frosmoth.png: Not Found\n",
      "did not find https://www.smogon.com/dex/media/sprites/dp/frosmoth.png: Not Found\n",
      "did not find https://www.smogon.com/dex/media/sprites/bw/frosmoth.gif: Not Found\n"
     ]
    },
    {
     "name": "stderr",
     "output_type": "stream",
     "text": [
      " 88%|█████████████████████████████████████████████████████████████████▊         | 1140/1300 [1:14:14<09:58,  3.74s/it]"
     ]
    },
    {
     "name": "stdout",
     "output_type": "stream",
     "text": [
      "did not find https://www.smogon.com/dex/media/sprites/rb/stonjourner.png: Not Found\n",
      "did not find https://www.smogon.com/dex/media/sprites/c/stonjourner.gif: Not Found\n",
      "did not find https://www.smogon.com/dex/media/sprites/rs/stonjourner.png: Not Found\n",
      "did not find https://www.smogon.com/dex/media/sprites/dp/stonjourner.png: Not Found\n",
      "did not find https://www.smogon.com/dex/media/sprites/bw/stonjourner.gif: Not Found\n"
     ]
    },
    {
     "name": "stderr",
     "output_type": "stream",
     "text": [
      " 88%|█████████████████████████████████████████████████████████████████▊         | 1141/1300 [1:14:18<10:01,  3.79s/it]"
     ]
    },
    {
     "name": "stdout",
     "output_type": "stream",
     "text": [
      "did not find https://www.smogon.com/dex/media/sprites/rb/eiscue.png: Not Found\n",
      "did not find https://www.smogon.com/dex/media/sprites/c/eiscue.gif: Not Found\n",
      "did not find https://www.smogon.com/dex/media/sprites/rs/eiscue.png: Not Found\n",
      "did not find https://www.smogon.com/dex/media/sprites/dp/eiscue.png: Not Found\n",
      "did not find https://www.smogon.com/dex/media/sprites/bw/eiscue.gif: Not Found\n"
     ]
    },
    {
     "name": "stderr",
     "output_type": "stream",
     "text": [
      " 88%|█████████████████████████████████████████████████████████████████▉         | 1142/1300 [1:14:21<09:50,  3.74s/it]"
     ]
    },
    {
     "name": "stdout",
     "output_type": "stream",
     "text": [
      "did not find https://www.smogon.com/dex/media/sprites/rb/eiscue-noice.png: Not Found\n",
      "did not find https://www.smogon.com/dex/media/sprites/c/eiscue-noice.gif: Not Found\n",
      "did not find https://www.smogon.com/dex/media/sprites/rs/eiscue-noice.png: Not Found\n",
      "did not find https://www.smogon.com/dex/media/sprites/dp/eiscue-noice.png: Not Found\n",
      "did not find https://www.smogon.com/dex/media/sprites/bw/eiscue-noice.gif: Not Found\n"
     ]
    },
    {
     "name": "stderr",
     "output_type": "stream",
     "text": [
      " 88%|█████████████████████████████████████████████████████████████████▉         | 1143/1300 [1:14:25<09:40,  3.69s/it]"
     ]
    },
    {
     "name": "stdout",
     "output_type": "stream",
     "text": [
      "did not find https://www.smogon.com/dex/media/sprites/rb/indeedee.png: Not Found\n",
      "did not find https://www.smogon.com/dex/media/sprites/c/indeedee.gif: Not Found\n",
      "did not find https://www.smogon.com/dex/media/sprites/rs/indeedee.png: Not Found\n",
      "did not find https://www.smogon.com/dex/media/sprites/dp/indeedee.png: Not Found\n",
      "did not find https://www.smogon.com/dex/media/sprites/bw/indeedee.gif: Not Found\n"
     ]
    },
    {
     "name": "stderr",
     "output_type": "stream",
     "text": [
      " 88%|██████████████████████████████████████████████████████████████████         | 1144/1300 [1:14:29<09:36,  3.70s/it]"
     ]
    },
    {
     "name": "stdout",
     "output_type": "stream",
     "text": [
      "did not find https://www.smogon.com/dex/media/sprites/rb/indeedee-f.png: Not Found\n",
      "did not find https://www.smogon.com/dex/media/sprites/c/indeedee-f.gif: Not Found\n",
      "did not find https://www.smogon.com/dex/media/sprites/rs/indeedee-f.png: Not Found\n",
      "did not find https://www.smogon.com/dex/media/sprites/dp/indeedee-f.png: Not Found\n",
      "did not find https://www.smogon.com/dex/media/sprites/bw/indeedee-f.gif: Not Found\n"
     ]
    },
    {
     "name": "stderr",
     "output_type": "stream",
     "text": [
      " 88%|██████████████████████████████████████████████████████████████████         | 1145/1300 [1:14:32<09:31,  3.68s/it]"
     ]
    },
    {
     "name": "stdout",
     "output_type": "stream",
     "text": [
      "did not find https://www.smogon.com/dex/media/sprites/rb/morpeko.png: Not Found\n",
      "did not find https://www.smogon.com/dex/media/sprites/c/morpeko.gif: Not Found\n",
      "did not find https://www.smogon.com/dex/media/sprites/rs/morpeko.png: Not Found\n",
      "did not find https://www.smogon.com/dex/media/sprites/dp/morpeko.png: Not Found\n",
      "did not find https://www.smogon.com/dex/media/sprites/bw/morpeko.gif: Not Found\n"
     ]
    },
    {
     "name": "stderr",
     "output_type": "stream",
     "text": [
      " 88%|██████████████████████████████████████████████████████████████████         | 1146/1300 [1:14:36<09:20,  3.64s/it]"
     ]
    },
    {
     "name": "stdout",
     "output_type": "stream",
     "text": [
      "did not find https://www.smogon.com/dex/media/sprites/rb/morpeko-hangry.png: Not Found\n",
      "did not find https://www.smogon.com/dex/media/sprites/c/morpeko-hangry.gif: Not Found\n",
      "did not find https://www.smogon.com/dex/media/sprites/rs/morpeko-hangry.png: Not Found\n",
      "did not find https://www.smogon.com/dex/media/sprites/dp/morpeko-hangry.png: Not Found\n",
      "did not find https://www.smogon.com/dex/media/sprites/bw/morpeko-hangry.gif: Not Found\n"
     ]
    },
    {
     "name": "stderr",
     "output_type": "stream",
     "text": [
      " 88%|██████████████████████████████████████████████████████████████████▏        | 1147/1300 [1:14:39<09:13,  3.62s/it]"
     ]
    },
    {
     "name": "stdout",
     "output_type": "stream",
     "text": [
      "did not find https://www.smogon.com/dex/media/sprites/rb/cufant.png: Not Found\n",
      "did not find https://www.smogon.com/dex/media/sprites/c/cufant.gif: Not Found\n",
      "did not find https://www.smogon.com/dex/media/sprites/rs/cufant.png: Not Found\n",
      "did not find https://www.smogon.com/dex/media/sprites/dp/cufant.png: Not Found\n",
      "did not find https://www.smogon.com/dex/media/sprites/bw/cufant.gif: Not Found\n"
     ]
    },
    {
     "name": "stderr",
     "output_type": "stream",
     "text": [
      " 88%|██████████████████████████████████████████████████████████████████▏        | 1148/1300 [1:14:43<09:13,  3.64s/it]"
     ]
    },
    {
     "name": "stdout",
     "output_type": "stream",
     "text": [
      "did not find https://www.smogon.com/dex/media/sprites/rb/copperajah.png: Not Found\n",
      "did not find https://www.smogon.com/dex/media/sprites/c/copperajah.gif: Not Found\n",
      "did not find https://www.smogon.com/dex/media/sprites/rs/copperajah.png: Not Found\n",
      "did not find https://www.smogon.com/dex/media/sprites/dp/copperajah.png: Not Found\n",
      "did not find https://www.smogon.com/dex/media/sprites/bw/copperajah.gif: Not Found\n"
     ]
    },
    {
     "name": "stderr",
     "output_type": "stream",
     "text": [
      " 88%|██████████████████████████████████████████████████████████████████▎        | 1149/1300 [1:14:47<09:20,  3.71s/it]"
     ]
    },
    {
     "name": "stdout",
     "output_type": "stream",
     "text": [
      "did not find https://www.smogon.com/dex/media/sprites/rb/copperajah-gmax.png: Not Found\n",
      "did not find https://www.smogon.com/dex/media/sprites/c/copperajah-gmax.gif: Not Found\n",
      "did not find https://www.smogon.com/dex/media/sprites/rs/copperajah-gmax.png: Not Found\n",
      "did not find https://www.smogon.com/dex/media/sprites/dp/copperajah-gmax.png: Not Found\n",
      "did not find https://www.smogon.com/dex/media/sprites/bw/copperajah-gmax.gif: Not Found\n"
     ]
    },
    {
     "name": "stderr",
     "output_type": "stream",
     "text": [
      " 88%|██████████████████████████████████████████████████████████████████▎        | 1150/1300 [1:14:51<09:57,  3.98s/it]"
     ]
    },
    {
     "name": "stdout",
     "output_type": "stream",
     "text": [
      "did not find https://www.smogon.com/dex/media/sprites/rb/dracozolt.png: Not Found\n",
      "did not find https://www.smogon.com/dex/media/sprites/c/dracozolt.gif: Not Found\n",
      "did not find https://www.smogon.com/dex/media/sprites/rs/dracozolt.png: Not Found\n",
      "did not find https://www.smogon.com/dex/media/sprites/dp/dracozolt.png: Not Found\n",
      "did not find https://www.smogon.com/dex/media/sprites/bw/dracozolt.gif: Not Found\n"
     ]
    },
    {
     "name": "stderr",
     "output_type": "stream",
     "text": [
      " 89%|██████████████████████████████████████████████████████████████████▍        | 1151/1300 [1:14:55<09:47,  3.94s/it]"
     ]
    },
    {
     "name": "stdout",
     "output_type": "stream",
     "text": [
      "did not find https://www.smogon.com/dex/media/sprites/rb/arctozolt.png: Not Found\n",
      "did not find https://www.smogon.com/dex/media/sprites/c/arctozolt.gif: Not Found\n",
      "did not find https://www.smogon.com/dex/media/sprites/rs/arctozolt.png: Not Found\n",
      "did not find https://www.smogon.com/dex/media/sprites/dp/arctozolt.png: Not Found\n",
      "did not find https://www.smogon.com/dex/media/sprites/bw/arctozolt.gif: Not Found\n"
     ]
    },
    {
     "name": "stderr",
     "output_type": "stream",
     "text": [
      " 89%|██████████████████████████████████████████████████████████████████▍        | 1152/1300 [1:14:59<09:34,  3.89s/it]"
     ]
    },
    {
     "name": "stdout",
     "output_type": "stream",
     "text": [
      "did not find https://www.smogon.com/dex/media/sprites/rb/dracovish.png: Not Found\n",
      "did not find https://www.smogon.com/dex/media/sprites/c/dracovish.gif: Not Found\n",
      "did not find https://www.smogon.com/dex/media/sprites/rs/dracovish.png: Not Found\n",
      "did not find https://www.smogon.com/dex/media/sprites/dp/dracovish.png: Not Found\n",
      "did not find https://www.smogon.com/dex/media/sprites/bw/dracovish.gif: Not Found\n"
     ]
    },
    {
     "name": "stderr",
     "output_type": "stream",
     "text": [
      " 89%|██████████████████████████████████████████████████████████████████▌        | 1153/1300 [1:15:03<09:29,  3.87s/it]"
     ]
    },
    {
     "name": "stdout",
     "output_type": "stream",
     "text": [
      "did not find https://www.smogon.com/dex/media/sprites/rb/arctovish.png: Not Found\n",
      "did not find https://www.smogon.com/dex/media/sprites/c/arctovish.gif: Not Found\n",
      "did not find https://www.smogon.com/dex/media/sprites/rs/arctovish.png: Not Found\n",
      "did not find https://www.smogon.com/dex/media/sprites/dp/arctovish.png: Not Found\n",
      "did not find https://www.smogon.com/dex/media/sprites/bw/arctovish.gif: Not Found\n"
     ]
    },
    {
     "name": "stderr",
     "output_type": "stream",
     "text": [
      " 89%|██████████████████████████████████████████████████████████████████▌        | 1154/1300 [1:15:07<09:24,  3.86s/it]"
     ]
    },
    {
     "name": "stdout",
     "output_type": "stream",
     "text": [
      "did not find https://www.smogon.com/dex/media/sprites/rb/duraludon.png: Not Found\n",
      "did not find https://www.smogon.com/dex/media/sprites/c/duraludon.gif: Not Found\n",
      "did not find https://www.smogon.com/dex/media/sprites/rs/duraludon.png: Not Found\n",
      "did not find https://www.smogon.com/dex/media/sprites/dp/duraludon.png: Not Found\n",
      "did not find https://www.smogon.com/dex/media/sprites/bw/duraludon.gif: Not Found\n"
     ]
    },
    {
     "name": "stderr",
     "output_type": "stream",
     "text": [
      " 89%|██████████████████████████████████████████████████████████████████▋        | 1155/1300 [1:15:11<09:18,  3.85s/it]"
     ]
    },
    {
     "name": "stdout",
     "output_type": "stream",
     "text": [
      "did not find https://www.smogon.com/dex/media/sprites/rb/duraludon-gmax.png: Not Found\n",
      "did not find https://www.smogon.com/dex/media/sprites/c/duraludon-gmax.gif: Not Found\n",
      "did not find https://www.smogon.com/dex/media/sprites/rs/duraludon-gmax.png: Not Found\n",
      "did not find https://www.smogon.com/dex/media/sprites/dp/duraludon-gmax.png: Not Found\n",
      "did not find https://www.smogon.com/dex/media/sprites/bw/duraludon-gmax.gif: Not Found\n"
     ]
    },
    {
     "name": "stderr",
     "output_type": "stream",
     "text": [
      " 89%|██████████████████████████████████████████████████████████████████▋        | 1156/1300 [1:15:15<09:22,  3.91s/it]"
     ]
    },
    {
     "name": "stdout",
     "output_type": "stream",
     "text": [
      "did not find https://www.smogon.com/dex/media/sprites/rb/dreepy.png: Not Found\n",
      "did not find https://www.smogon.com/dex/media/sprites/c/dreepy.gif: Not Found\n",
      "did not find https://www.smogon.com/dex/media/sprites/rs/dreepy.png: Not Found\n",
      "did not find https://www.smogon.com/dex/media/sprites/dp/dreepy.png: Not Found\n",
      "did not find https://www.smogon.com/dex/media/sprites/bw/dreepy.gif: Not Found\n"
     ]
    },
    {
     "name": "stderr",
     "output_type": "stream",
     "text": [
      " 89%|██████████████████████████████████████████████████████████████████▊        | 1157/1300 [1:15:18<09:07,  3.83s/it]"
     ]
    },
    {
     "name": "stdout",
     "output_type": "stream",
     "text": [
      "did not find https://www.smogon.com/dex/media/sprites/rb/drakloak.png: Not Found\n",
      "did not find https://www.smogon.com/dex/media/sprites/c/drakloak.gif: Not Found\n",
      "did not find https://www.smogon.com/dex/media/sprites/rs/drakloak.png: Not Found\n",
      "did not find https://www.smogon.com/dex/media/sprites/dp/drakloak.png: Not Found\n",
      "did not find https://www.smogon.com/dex/media/sprites/bw/drakloak.gif: Not Found\n"
     ]
    },
    {
     "name": "stderr",
     "output_type": "stream",
     "text": [
      " 89%|██████████████████████████████████████████████████████████████████▊        | 1158/1300 [1:15:22<08:55,  3.77s/it]"
     ]
    },
    {
     "name": "stdout",
     "output_type": "stream",
     "text": [
      "did not find https://www.smogon.com/dex/media/sprites/rb/dragapult.png: Not Found\n",
      "did not find https://www.smogon.com/dex/media/sprites/c/dragapult.gif: Not Found\n",
      "did not find https://www.smogon.com/dex/media/sprites/rs/dragapult.png: Not Found\n",
      "did not find https://www.smogon.com/dex/media/sprites/dp/dragapult.png: Not Found\n",
      "did not find https://www.smogon.com/dex/media/sprites/bw/dragapult.gif: Not Found\n"
     ]
    },
    {
     "name": "stderr",
     "output_type": "stream",
     "text": [
      " 89%|██████████████████████████████████████████████████████████████████▊        | 1159/1300 [1:15:26<08:49,  3.75s/it]"
     ]
    },
    {
     "name": "stdout",
     "output_type": "stream",
     "text": [
      "did not find https://www.smogon.com/dex/media/sprites/rb/zacian.png: Not Found\n",
      "did not find https://www.smogon.com/dex/media/sprites/c/zacian.gif: Not Found\n",
      "did not find https://www.smogon.com/dex/media/sprites/rs/zacian.png: Not Found\n",
      "did not find https://www.smogon.com/dex/media/sprites/dp/zacian.png: Not Found\n",
      "did not find https://www.smogon.com/dex/media/sprites/bw/zacian.gif: Not Found\n"
     ]
    },
    {
     "name": "stderr",
     "output_type": "stream",
     "text": [
      " 89%|██████████████████████████████████████████████████████████████████▉        | 1160/1300 [1:15:29<08:48,  3.78s/it]"
     ]
    },
    {
     "name": "stdout",
     "output_type": "stream",
     "text": [
      "did not find https://www.smogon.com/dex/media/sprites/rb/zacian-crowned.png: Not Found\n",
      "did not find https://www.smogon.com/dex/media/sprites/c/zacian-crowned.gif: Not Found\n",
      "did not find https://www.smogon.com/dex/media/sprites/rs/zacian-crowned.png: Not Found\n",
      "did not find https://www.smogon.com/dex/media/sprites/dp/zacian-crowned.png: Not Found\n",
      "did not find https://www.smogon.com/dex/media/sprites/bw/zacian-crowned.gif: Not Found\n"
     ]
    },
    {
     "name": "stderr",
     "output_type": "stream",
     "text": [
      " 89%|██████████████████████████████████████████████████████████████████▉        | 1161/1300 [1:15:33<08:47,  3.80s/it]"
     ]
    },
    {
     "name": "stdout",
     "output_type": "stream",
     "text": [
      "did not find https://www.smogon.com/dex/media/sprites/rb/zamazenta.png: Not Found\n",
      "did not find https://www.smogon.com/dex/media/sprites/c/zamazenta.gif: Not Found\n",
      "did not find https://www.smogon.com/dex/media/sprites/rs/zamazenta.png: Not Found\n",
      "did not find https://www.smogon.com/dex/media/sprites/dp/zamazenta.png: Not Found\n",
      "did not find https://www.smogon.com/dex/media/sprites/bw/zamazenta.gif: Not Found\n"
     ]
    },
    {
     "name": "stderr",
     "output_type": "stream",
     "text": [
      " 89%|███████████████████████████████████████████████████████████████████        | 1162/1300 [1:15:37<08:47,  3.82s/it]"
     ]
    },
    {
     "name": "stdout",
     "output_type": "stream",
     "text": [
      "did not find https://www.smogon.com/dex/media/sprites/rb/zamazenta-crowned.png: Not Found\n",
      "did not find https://www.smogon.com/dex/media/sprites/c/zamazenta-crowned.gif: Not Found\n",
      "did not find https://www.smogon.com/dex/media/sprites/rs/zamazenta-crowned.png: Not Found\n",
      "did not find https://www.smogon.com/dex/media/sprites/dp/zamazenta-crowned.png: Not Found\n",
      "did not find https://www.smogon.com/dex/media/sprites/bw/zamazenta-crowned.gif: Not Found\n"
     ]
    },
    {
     "name": "stderr",
     "output_type": "stream",
     "text": [
      " 89%|███████████████████████████████████████████████████████████████████        | 1163/1300 [1:15:41<08:44,  3.83s/it]"
     ]
    },
    {
     "name": "stdout",
     "output_type": "stream",
     "text": [
      "did not find https://www.smogon.com/dex/media/sprites/rb/eternatus.png: Not Found\n",
      "did not find https://www.smogon.com/dex/media/sprites/c/eternatus.gif: Not Found\n",
      "did not find https://www.smogon.com/dex/media/sprites/rs/eternatus.png: Not Found\n",
      "did not find https://www.smogon.com/dex/media/sprites/dp/eternatus.png: Not Found\n",
      "did not find https://www.smogon.com/dex/media/sprites/bw/eternatus.gif: Not Found\n"
     ]
    },
    {
     "name": "stderr",
     "output_type": "stream",
     "text": [
      " 90%|███████████████████████████████████████████████████████████████████▏       | 1164/1300 [1:15:45<08:49,  3.90s/it]"
     ]
    },
    {
     "name": "stdout",
     "output_type": "stream",
     "text": [
      "did not find https://www.smogon.com/dex/media/sprites/rb/eternatus-eternamax.png: Not Found\n",
      "did not find https://www.smogon.com/dex/media/sprites/c/eternatus-eternamax.gif: Not Found\n",
      "did not find https://www.smogon.com/dex/media/sprites/rs/eternatus-eternamax.png: Not Found\n",
      "did not find https://www.smogon.com/dex/media/sprites/dp/eternatus-eternamax.png: Not Found\n",
      "did not find https://www.smogon.com/dex/media/sprites/bw/eternatus-eternamax.gif: Not Found\n"
     ]
    },
    {
     "name": "stderr",
     "output_type": "stream",
     "text": [
      " 90%|███████████████████████████████████████████████████████████████████▏       | 1165/1300 [1:15:50<09:41,  4.31s/it]"
     ]
    },
    {
     "name": "stdout",
     "output_type": "stream",
     "text": [
      "did not find https://www.smogon.com/dex/media/sprites/rb/kubfu.png: Not Found\n",
      "did not find https://www.smogon.com/dex/media/sprites/c/kubfu.gif: Not Found\n",
      "did not find https://www.smogon.com/dex/media/sprites/rs/kubfu.png: Not Found\n",
      "did not find https://www.smogon.com/dex/media/sprites/dp/kubfu.png: Not Found\n",
      "did not find https://www.smogon.com/dex/media/sprites/bw/kubfu.gif: Not Found\n"
     ]
    },
    {
     "name": "stderr",
     "output_type": "stream",
     "text": [
      " 90%|███████████████████████████████████████████████████████████████████▎       | 1166/1300 [1:15:54<09:06,  4.08s/it]"
     ]
    },
    {
     "name": "stdout",
     "output_type": "stream",
     "text": [
      "did not find https://www.smogon.com/dex/media/sprites/rb/urshifu.png: Not Found\n",
      "did not find https://www.smogon.com/dex/media/sprites/c/urshifu.gif: Not Found\n",
      "did not find https://www.smogon.com/dex/media/sprites/rs/urshifu.png: Not Found\n",
      "did not find https://www.smogon.com/dex/media/sprites/dp/urshifu.png: Not Found\n",
      "did not find https://www.smogon.com/dex/media/sprites/bw/urshifu.gif: Not Found\n"
     ]
    },
    {
     "name": "stderr",
     "output_type": "stream",
     "text": [
      " 90%|███████████████████████████████████████████████████████████████████▎       | 1167/1300 [1:15:58<08:49,  3.98s/it]"
     ]
    },
    {
     "name": "stdout",
     "output_type": "stream",
     "text": [
      "did not find https://www.smogon.com/dex/media/sprites/rb/urshifu-rapid-strike.png: Not Found\n",
      "did not find https://www.smogon.com/dex/media/sprites/c/urshifu-rapid-strike.gif: Not Found\n",
      "did not find https://www.smogon.com/dex/media/sprites/rs/urshifu-rapid-strike.png: Not Found\n",
      "did not find https://www.smogon.com/dex/media/sprites/dp/urshifu-rapid-strike.png: Not Found\n",
      "did not find https://www.smogon.com/dex/media/sprites/bw/urshifu-rapid-strike.gif: Not Found\n"
     ]
    },
    {
     "name": "stderr",
     "output_type": "stream",
     "text": [
      " 90%|███████████████████████████████████████████████████████████████████▍       | 1168/1300 [1:16:02<08:45,  3.98s/it]"
     ]
    },
    {
     "name": "stdout",
     "output_type": "stream",
     "text": [
      "did not find https://www.smogon.com/dex/media/sprites/rb/urshifu-gmax.png: Not Found\n",
      "did not find https://www.smogon.com/dex/media/sprites/c/urshifu-gmax.gif: Not Found\n",
      "did not find https://www.smogon.com/dex/media/sprites/rs/urshifu-gmax.png: Not Found\n",
      "did not find https://www.smogon.com/dex/media/sprites/dp/urshifu-gmax.png: Not Found\n",
      "did not find https://www.smogon.com/dex/media/sprites/bw/urshifu-gmax.gif: Not Found\n"
     ]
    },
    {
     "name": "stderr",
     "output_type": "stream",
     "text": [
      " 90%|███████████████████████████████████████████████████████████████████▍       | 1169/1300 [1:16:05<08:27,  3.88s/it]"
     ]
    },
    {
     "name": "stdout",
     "output_type": "stream",
     "text": [
      "did not find https://www.smogon.com/dex/media/sprites/xy/urshifu-gmax.gif: Not Found\n",
      "did not find https://www.smogon.com/dex/media/sprites/rb/urshifu-rapid-strike-gmax.png: Not Found\n",
      "did not find https://www.smogon.com/dex/media/sprites/c/urshifu-rapid-strike-gmax.gif: Not Found\n",
      "did not find https://www.smogon.com/dex/media/sprites/rs/urshifu-rapid-strike-gmax.png: Not Found\n",
      "did not find https://www.smogon.com/dex/media/sprites/dp/urshifu-rapid-strike-gmax.png: Not Found\n",
      "did not find https://www.smogon.com/dex/media/sprites/bw/urshifu-rapid-strike-gmax.gif: Not Found\n"
     ]
    },
    {
     "name": "stderr",
     "output_type": "stream",
     "text": [
      " 90%|███████████████████████████████████████████████████████████████████▌       | 1170/1300 [1:16:09<08:14,  3.80s/it]"
     ]
    },
    {
     "name": "stdout",
     "output_type": "stream",
     "text": [
      "did not find https://www.smogon.com/dex/media/sprites/xy/urshifu-rapid-strike-gmax.gif: Not Found\n",
      "did not find https://www.smogon.com/dex/media/sprites/rb/zarude.png: Not Found\n",
      "did not find https://www.smogon.com/dex/media/sprites/c/zarude.gif: Not Found\n",
      "did not find https://www.smogon.com/dex/media/sprites/rs/zarude.png: Not Found\n",
      "did not find https://www.smogon.com/dex/media/sprites/dp/zarude.png: Not Found\n",
      "did not find https://www.smogon.com/dex/media/sprites/bw/zarude.gif: Not Found\n"
     ]
    },
    {
     "name": "stderr",
     "output_type": "stream",
     "text": [
      " 90%|███████████████████████████████████████████████████████████████████▌       | 1171/1300 [1:16:13<08:19,  3.88s/it]"
     ]
    },
    {
     "name": "stdout",
     "output_type": "stream",
     "text": [
      "did not find https://www.smogon.com/dex/media/sprites/rb/zarude-dada.png: Not Found\n",
      "did not find https://www.smogon.com/dex/media/sprites/c/zarude-dada.gif: Not Found\n",
      "did not find https://www.smogon.com/dex/media/sprites/rs/zarude-dada.png: Not Found\n",
      "did not find https://www.smogon.com/dex/media/sprites/dp/zarude-dada.png: Not Found\n",
      "did not find https://www.smogon.com/dex/media/sprites/bw/zarude-dada.gif: Not Found\n"
     ]
    },
    {
     "name": "stderr",
     "output_type": "stream",
     "text": [
      " 90%|███████████████████████████████████████████████████████████████████▌       | 1172/1300 [1:16:17<08:18,  3.90s/it]"
     ]
    },
    {
     "name": "stdout",
     "output_type": "stream",
     "text": [
      "did not find https://www.smogon.com/dex/media/sprites/rb/regieleki.png: Not Found\n",
      "did not find https://www.smogon.com/dex/media/sprites/c/regieleki.gif: Not Found\n",
      "did not find https://www.smogon.com/dex/media/sprites/rs/regieleki.png: Not Found\n",
      "did not find https://www.smogon.com/dex/media/sprites/dp/regieleki.png: Not Found\n",
      "did not find https://www.smogon.com/dex/media/sprites/bw/regieleki.gif: Not Found\n"
     ]
    },
    {
     "name": "stderr",
     "output_type": "stream",
     "text": [
      " 90%|███████████████████████████████████████████████████████████████████▋       | 1173/1300 [1:16:21<08:34,  4.05s/it]"
     ]
    },
    {
     "name": "stdout",
     "output_type": "stream",
     "text": [
      "did not find https://www.smogon.com/dex/media/sprites/rb/regidrago.png: Not Found\n",
      "did not find https://www.smogon.com/dex/media/sprites/c/regidrago.gif: Not Found\n",
      "did not find https://www.smogon.com/dex/media/sprites/rs/regidrago.png: Not Found\n",
      "did not find https://www.smogon.com/dex/media/sprites/dp/regidrago.png: Not Found\n",
      "did not find https://www.smogon.com/dex/media/sprites/bw/regidrago.gif: Not Found\n"
     ]
    },
    {
     "name": "stderr",
     "output_type": "stream",
     "text": [
      " 90%|███████████████████████████████████████████████████████████████████▋       | 1174/1300 [1:16:25<08:33,  4.08s/it]"
     ]
    },
    {
     "name": "stdout",
     "output_type": "stream",
     "text": [
      "did not find https://www.smogon.com/dex/media/sprites/rb/glastrier.png: Not Found\n",
      "did not find https://www.smogon.com/dex/media/sprites/c/glastrier.gif: Not Found\n",
      "did not find https://www.smogon.com/dex/media/sprites/rs/glastrier.png: Not Found\n",
      "did not find https://www.smogon.com/dex/media/sprites/dp/glastrier.png: Not Found\n",
      "did not find https://www.smogon.com/dex/media/sprites/bw/glastrier.gif: Not Found\n"
     ]
    },
    {
     "name": "stderr",
     "output_type": "stream",
     "text": [
      " 90%|███████████████████████████████████████████████████████████████████▊       | 1175/1300 [1:16:29<08:26,  4.05s/it]"
     ]
    },
    {
     "name": "stdout",
     "output_type": "stream",
     "text": [
      "did not find https://www.smogon.com/dex/media/sprites/rb/spectrier.png: Not Found\n",
      "did not find https://www.smogon.com/dex/media/sprites/c/spectrier.gif: Not Found\n",
      "did not find https://www.smogon.com/dex/media/sprites/rs/spectrier.png: Not Found\n",
      "did not find https://www.smogon.com/dex/media/sprites/dp/spectrier.png: Not Found\n",
      "did not find https://www.smogon.com/dex/media/sprites/bw/spectrier.gif: Not Found\n"
     ]
    },
    {
     "name": "stderr",
     "output_type": "stream",
     "text": [
      " 90%|███████████████████████████████████████████████████████████████████▊       | 1176/1300 [1:16:33<08:20,  4.04s/it]"
     ]
    },
    {
     "name": "stdout",
     "output_type": "stream",
     "text": [
      "did not find https://www.smogon.com/dex/media/sprites/rb/calyrex.png: Not Found\n",
      "did not find https://www.smogon.com/dex/media/sprites/c/calyrex.gif: Not Found\n",
      "did not find https://www.smogon.com/dex/media/sprites/rs/calyrex.png: Not Found\n",
      "did not find https://www.smogon.com/dex/media/sprites/dp/calyrex.png: Not Found\n",
      "did not find https://www.smogon.com/dex/media/sprites/bw/calyrex.gif: Not Found\n"
     ]
    },
    {
     "name": "stderr",
     "output_type": "stream",
     "text": [
      " 91%|███████████████████████████████████████████████████████████████████▉       | 1177/1300 [1:16:37<08:15,  4.03s/it]"
     ]
    },
    {
     "name": "stdout",
     "output_type": "stream",
     "text": [
      "did not find https://www.smogon.com/dex/media/sprites/rb/calyrex-ice.png: Not Found\n",
      "did not find https://www.smogon.com/dex/media/sprites/c/calyrex-ice.gif: Not Found\n",
      "did not find https://www.smogon.com/dex/media/sprites/rs/calyrex-ice.png: Not Found\n",
      "did not find https://www.smogon.com/dex/media/sprites/dp/calyrex-ice.png: Not Found\n",
      "did not find https://www.smogon.com/dex/media/sprites/bw/calyrex-ice.gif: Not Found\n"
     ]
    },
    {
     "name": "stderr",
     "output_type": "stream",
     "text": [
      " 91%|███████████████████████████████████████████████████████████████████▉       | 1178/1300 [1:16:41<08:11,  4.03s/it]"
     ]
    },
    {
     "name": "stdout",
     "output_type": "stream",
     "text": [
      "did not find https://www.smogon.com/dex/media/sprites/rb/calyrex-shadow.png: Not Found\n",
      "did not find https://www.smogon.com/dex/media/sprites/c/calyrex-shadow.gif: Not Found\n",
      "did not find https://www.smogon.com/dex/media/sprites/rs/calyrex-shadow.png: Not Found\n",
      "did not find https://www.smogon.com/dex/media/sprites/dp/calyrex-shadow.png: Not Found\n",
      "did not find https://www.smogon.com/dex/media/sprites/bw/calyrex-shadow.gif: Not Found\n"
     ]
    },
    {
     "name": "stderr",
     "output_type": "stream",
     "text": [
      " 91%|████████████████████████████████████████████████████████████████████       | 1179/1300 [1:16:46<08:09,  4.05s/it]"
     ]
    },
    {
     "name": "stdout",
     "output_type": "stream",
     "text": [
      "did not find https://www.smogon.com/dex/media/sprites/rb/wyrdeer.png: Not Found\n",
      "did not find https://www.smogon.com/dex/media/sprites/c/wyrdeer.gif: Not Found\n",
      "did not find https://www.smogon.com/dex/media/sprites/rs/wyrdeer.png: Not Found\n",
      "did not find https://www.smogon.com/dex/media/sprites/dp/wyrdeer.png: Not Found\n",
      "did not find https://www.smogon.com/dex/media/sprites/bw/wyrdeer.gif: Not Found\n"
     ]
    },
    {
     "name": "stderr",
     "output_type": "stream",
     "text": [
      " 91%|████████████████████████████████████████████████████████████████████       | 1180/1300 [1:16:49<07:49,  3.91s/it]"
     ]
    },
    {
     "name": "stdout",
     "output_type": "stream",
     "text": [
      "did not find https://www.smogon.com/dex/media/sprites/rb/kleavor.png: Not Found\n",
      "did not find https://www.smogon.com/dex/media/sprites/c/kleavor.gif: Not Found\n",
      "did not find https://www.smogon.com/dex/media/sprites/rs/kleavor.png: Not Found\n",
      "did not find https://www.smogon.com/dex/media/sprites/dp/kleavor.png: Not Found\n",
      "did not find https://www.smogon.com/dex/media/sprites/bw/kleavor.gif: Not Found\n"
     ]
    },
    {
     "name": "stderr",
     "output_type": "stream",
     "text": [
      " 91%|████████████████████████████████████████████████████████████████████▏      | 1181/1300 [1:16:53<07:35,  3.83s/it]"
     ]
    },
    {
     "name": "stdout",
     "output_type": "stream",
     "text": [
      "did not find https://www.smogon.com/dex/media/sprites/rb/ursaluna.png: Not Found\n",
      "did not find https://www.smogon.com/dex/media/sprites/c/ursaluna.gif: Not Found\n",
      "did not find https://www.smogon.com/dex/media/sprites/rs/ursaluna.png: Not Found\n",
      "did not find https://www.smogon.com/dex/media/sprites/dp/ursaluna.png: Not Found\n",
      "did not find https://www.smogon.com/dex/media/sprites/bw/ursaluna.gif: Not Found\n"
     ]
    },
    {
     "name": "stderr",
     "output_type": "stream",
     "text": [
      " 91%|████████████████████████████████████████████████████████████████████▏      | 1182/1300 [1:16:56<07:24,  3.76s/it]"
     ]
    },
    {
     "name": "stdout",
     "output_type": "stream",
     "text": [
      "did not find https://www.smogon.com/dex/media/sprites/rb/ursaluna-bloodmoon.png: Not Found\n",
      "did not find https://www.smogon.com/dex/media/sprites/c/ursaluna-bloodmoon.gif: Not Found\n",
      "did not find https://www.smogon.com/dex/media/sprites/rs/ursaluna-bloodmoon.png: Not Found\n",
      "did not find https://www.smogon.com/dex/media/sprites/dp/ursaluna-bloodmoon.png: Not Found\n",
      "did not find https://www.smogon.com/dex/media/sprites/bw/ursaluna-bloodmoon.gif: Not Found\n"
     ]
    },
    {
     "name": "stderr",
     "output_type": "stream",
     "text": [
      " 91%|████████████████████████████████████████████████████████████████████▎      | 1183/1300 [1:17:00<07:15,  3.72s/it]"
     ]
    },
    {
     "name": "stdout",
     "output_type": "stream",
     "text": [
      "did not find https://www.smogon.com/dex/media/sprites/rb/basculegion.png: Not Found\n",
      "did not find https://www.smogon.com/dex/media/sprites/c/basculegion.gif: Not Found\n",
      "did not find https://www.smogon.com/dex/media/sprites/rs/basculegion.png: Not Found\n",
      "did not find https://www.smogon.com/dex/media/sprites/dp/basculegion.png: Not Found\n",
      "did not find https://www.smogon.com/dex/media/sprites/bw/basculegion.gif: Not Found\n"
     ]
    },
    {
     "name": "stderr",
     "output_type": "stream",
     "text": [
      " 91%|████████████████████████████████████████████████████████████████████▎      | 1184/1300 [1:17:04<07:06,  3.68s/it]"
     ]
    },
    {
     "name": "stdout",
     "output_type": "stream",
     "text": [
      "did not find https://www.smogon.com/dex/media/sprites/rb/basculegion-f.png: Not Found\n",
      "did not find https://www.smogon.com/dex/media/sprites/c/basculegion-f.gif: Not Found\n",
      "did not find https://www.smogon.com/dex/media/sprites/rs/basculegion-f.png: Not Found\n",
      "did not find https://www.smogon.com/dex/media/sprites/dp/basculegion-f.png: Not Found\n",
      "did not find https://www.smogon.com/dex/media/sprites/bw/basculegion-f.gif: Not Found\n"
     ]
    },
    {
     "name": "stderr",
     "output_type": "stream",
     "text": [
      " 91%|████████████████████████████████████████████████████████████████████▎      | 1185/1300 [1:17:07<07:01,  3.66s/it]"
     ]
    },
    {
     "name": "stdout",
     "output_type": "stream",
     "text": [
      "did not find https://www.smogon.com/dex/media/sprites/rb/sneasler.png: Not Found\n",
      "did not find https://www.smogon.com/dex/media/sprites/c/sneasler.gif: Not Found\n",
      "did not find https://www.smogon.com/dex/media/sprites/rs/sneasler.png: Not Found\n",
      "did not find https://www.smogon.com/dex/media/sprites/dp/sneasler.png: Not Found\n",
      "did not find https://www.smogon.com/dex/media/sprites/bw/sneasler.gif: Not Found\n"
     ]
    },
    {
     "name": "stderr",
     "output_type": "stream",
     "text": [
      " 91%|████████████████████████████████████████████████████████████████████▍      | 1186/1300 [1:17:11<06:55,  3.65s/it]"
     ]
    },
    {
     "name": "stdout",
     "output_type": "stream",
     "text": [
      "did not find https://www.smogon.com/dex/media/sprites/rb/overqwil.png: Not Found\n",
      "did not find https://www.smogon.com/dex/media/sprites/c/overqwil.gif: Not Found\n",
      "did not find https://www.smogon.com/dex/media/sprites/rs/overqwil.png: Not Found\n",
      "did not find https://www.smogon.com/dex/media/sprites/dp/overqwil.png: Not Found\n",
      "did not find https://www.smogon.com/dex/media/sprites/bw/overqwil.gif: Not Found\n"
     ]
    },
    {
     "name": "stderr",
     "output_type": "stream",
     "text": [
      " 91%|████████████████████████████████████████████████████████████████████▍      | 1187/1300 [1:17:14<06:52,  3.65s/it]"
     ]
    },
    {
     "name": "stdout",
     "output_type": "stream",
     "text": [
      "did not find https://www.smogon.com/dex/media/sprites/rb/enamorus.png: Not Found\n",
      "did not find https://www.smogon.com/dex/media/sprites/c/enamorus.gif: Not Found\n",
      "did not find https://www.smogon.com/dex/media/sprites/rs/enamorus.png: Not Found\n",
      "did not find https://www.smogon.com/dex/media/sprites/dp/enamorus.png: Not Found\n",
      "did not find https://www.smogon.com/dex/media/sprites/bw/enamorus.gif: Not Found\n"
     ]
    },
    {
     "name": "stderr",
     "output_type": "stream",
     "text": [
      " 91%|████████████████████████████████████████████████████████████████████▌      | 1188/1300 [1:17:18<06:49,  3.66s/it]"
     ]
    },
    {
     "name": "stdout",
     "output_type": "stream",
     "text": [
      "did not find https://www.smogon.com/dex/media/sprites/rb/enamorus-therian.png: Not Found\n",
      "did not find https://www.smogon.com/dex/media/sprites/c/enamorus-therian.gif: Not Found\n",
      "did not find https://www.smogon.com/dex/media/sprites/rs/enamorus-therian.png: Not Found\n",
      "did not find https://www.smogon.com/dex/media/sprites/dp/enamorus-therian.png: Not Found\n",
      "did not find https://www.smogon.com/dex/media/sprites/bw/enamorus-therian.gif: Not Found\n"
     ]
    },
    {
     "name": "stderr",
     "output_type": "stream",
     "text": [
      " 91%|████████████████████████████████████████████████████████████████████▌      | 1189/1300 [1:17:22<06:44,  3.64s/it]"
     ]
    },
    {
     "name": "stdout",
     "output_type": "stream",
     "text": [
      "did not find https://www.smogon.com/dex/media/sprites/rb/sprigatito.png: Not Found\n",
      "did not find https://www.smogon.com/dex/media/sprites/c/sprigatito.gif: Not Found\n",
      "did not find https://www.smogon.com/dex/media/sprites/rs/sprigatito.png: Not Found\n",
      "did not find https://www.smogon.com/dex/media/sprites/dp/sprigatito.png: Not Found\n",
      "did not find https://www.smogon.com/dex/media/sprites/bw/sprigatito.gif: Not Found\n"
     ]
    },
    {
     "name": "stderr",
     "output_type": "stream",
     "text": [
      " 92%|████████████████████████████████████████████████████████████████████▋      | 1190/1300 [1:17:25<06:40,  3.64s/it]"
     ]
    },
    {
     "name": "stdout",
     "output_type": "stream",
     "text": [
      "did not find https://www.smogon.com/dex/media/sprites/rb/floragato.png: Not Found\n",
      "did not find https://www.smogon.com/dex/media/sprites/c/floragato.gif: Not Found\n",
      "did not find https://www.smogon.com/dex/media/sprites/rs/floragato.png: Not Found\n",
      "did not find https://www.smogon.com/dex/media/sprites/dp/floragato.png: Not Found\n",
      "did not find https://www.smogon.com/dex/media/sprites/bw/floragato.gif: Not Found\n"
     ]
    },
    {
     "name": "stderr",
     "output_type": "stream",
     "text": [
      " 92%|████████████████████████████████████████████████████████████████████▋      | 1191/1300 [1:17:29<06:38,  3.65s/it]"
     ]
    },
    {
     "name": "stdout",
     "output_type": "stream",
     "text": [
      "did not find https://www.smogon.com/dex/media/sprites/rb/meowscarada.png: Not Found\n",
      "did not find https://www.smogon.com/dex/media/sprites/c/meowscarada.gif: Not Found\n",
      "did not find https://www.smogon.com/dex/media/sprites/rs/meowscarada.png: Not Found\n",
      "did not find https://www.smogon.com/dex/media/sprites/dp/meowscarada.png: Not Found\n",
      "did not find https://www.smogon.com/dex/media/sprites/bw/meowscarada.gif: Not Found\n"
     ]
    },
    {
     "name": "stderr",
     "output_type": "stream",
     "text": [
      " 92%|████████████████████████████████████████████████████████████████████▊      | 1192/1300 [1:17:33<06:33,  3.64s/it]"
     ]
    },
    {
     "name": "stdout",
     "output_type": "stream",
     "text": [
      "did not find https://www.smogon.com/dex/media/sprites/rb/fuecoco.png: Not Found\n",
      "did not find https://www.smogon.com/dex/media/sprites/c/fuecoco.gif: Not Found\n",
      "did not find https://www.smogon.com/dex/media/sprites/rs/fuecoco.png: Not Found\n",
      "did not find https://www.smogon.com/dex/media/sprites/dp/fuecoco.png: Not Found\n",
      "did not find https://www.smogon.com/dex/media/sprites/bw/fuecoco.gif: Not Found\n"
     ]
    },
    {
     "name": "stderr",
     "output_type": "stream",
     "text": [
      " 92%|████████████████████████████████████████████████████████████████████▊      | 1193/1300 [1:17:36<06:29,  3.64s/it]"
     ]
    },
    {
     "name": "stdout",
     "output_type": "stream",
     "text": [
      "did not find https://www.smogon.com/dex/media/sprites/rb/crocalor.png: Not Found\n",
      "did not find https://www.smogon.com/dex/media/sprites/c/crocalor.gif: Not Found\n",
      "did not find https://www.smogon.com/dex/media/sprites/rs/crocalor.png: Not Found\n",
      "did not find https://www.smogon.com/dex/media/sprites/dp/crocalor.png: Not Found\n",
      "did not find https://www.smogon.com/dex/media/sprites/bw/crocalor.gif: Not Found\n"
     ]
    },
    {
     "name": "stderr",
     "output_type": "stream",
     "text": [
      " 92%|████████████████████████████████████████████████████████████████████▉      | 1194/1300 [1:17:40<06:26,  3.65s/it]"
     ]
    },
    {
     "name": "stdout",
     "output_type": "stream",
     "text": [
      "did not find https://www.smogon.com/dex/media/sprites/rb/skeledirge.png: Not Found\n",
      "did not find https://www.smogon.com/dex/media/sprites/c/skeledirge.gif: Not Found\n",
      "did not find https://www.smogon.com/dex/media/sprites/rs/skeledirge.png: Not Found\n",
      "did not find https://www.smogon.com/dex/media/sprites/dp/skeledirge.png: Not Found\n",
      "did not find https://www.smogon.com/dex/media/sprites/bw/skeledirge.gif: Not Found\n"
     ]
    },
    {
     "name": "stderr",
     "output_type": "stream",
     "text": [
      " 92%|████████████████████████████████████████████████████████████████████▉      | 1195/1300 [1:17:44<06:21,  3.63s/it]"
     ]
    },
    {
     "name": "stdout",
     "output_type": "stream",
     "text": [
      "did not find https://www.smogon.com/dex/media/sprites/rb/quaxly.png: Not Found\n",
      "did not find https://www.smogon.com/dex/media/sprites/c/quaxly.gif: Not Found\n",
      "did not find https://www.smogon.com/dex/media/sprites/rs/quaxly.png: Not Found\n",
      "did not find https://www.smogon.com/dex/media/sprites/dp/quaxly.png: Not Found\n",
      "did not find https://www.smogon.com/dex/media/sprites/bw/quaxly.gif: Not Found\n"
     ]
    },
    {
     "name": "stderr",
     "output_type": "stream",
     "text": [
      " 92%|█████████████████████████████████████████████████████████████████████      | 1196/1300 [1:17:47<06:19,  3.65s/it]"
     ]
    },
    {
     "name": "stdout",
     "output_type": "stream",
     "text": [
      "did not find https://www.smogon.com/dex/media/sprites/rb/quaxwell.png: Not Found\n",
      "did not find https://www.smogon.com/dex/media/sprites/c/quaxwell.gif: Not Found\n",
      "did not find https://www.smogon.com/dex/media/sprites/rs/quaxwell.png: Not Found\n",
      "did not find https://www.smogon.com/dex/media/sprites/dp/quaxwell.png: Not Found\n",
      "did not find https://www.smogon.com/dex/media/sprites/bw/quaxwell.gif: Not Found\n"
     ]
    },
    {
     "name": "stderr",
     "output_type": "stream",
     "text": [
      " 92%|█████████████████████████████████████████████████████████████████████      | 1197/1300 [1:17:51<06:15,  3.65s/it]"
     ]
    },
    {
     "name": "stdout",
     "output_type": "stream",
     "text": [
      "did not find https://www.smogon.com/dex/media/sprites/rb/quaquaval.png: Not Found\n",
      "did not find https://www.smogon.com/dex/media/sprites/c/quaquaval.gif: Not Found\n",
      "did not find https://www.smogon.com/dex/media/sprites/rs/quaquaval.png: Not Found\n",
      "did not find https://www.smogon.com/dex/media/sprites/dp/quaquaval.png: Not Found\n",
      "did not find https://www.smogon.com/dex/media/sprites/bw/quaquaval.gif: Not Found\n"
     ]
    },
    {
     "name": "stderr",
     "output_type": "stream",
     "text": [
      " 92%|█████████████████████████████████████████████████████████████████████      | 1198/1300 [1:17:55<06:14,  3.67s/it]"
     ]
    },
    {
     "name": "stdout",
     "output_type": "stream",
     "text": [
      "did not find https://www.smogon.com/dex/media/sprites/rb/lechonk.png: Not Found\n",
      "did not find https://www.smogon.com/dex/media/sprites/c/lechonk.gif: Not Found\n",
      "did not find https://www.smogon.com/dex/media/sprites/rs/lechonk.png: Not Found\n",
      "did not find https://www.smogon.com/dex/media/sprites/dp/lechonk.png: Not Found\n",
      "did not find https://www.smogon.com/dex/media/sprites/bw/lechonk.gif: Not Found\n"
     ]
    },
    {
     "name": "stderr",
     "output_type": "stream",
     "text": [
      " 92%|█████████████████████████████████████████████████████████████████████▏     | 1199/1300 [1:17:58<06:12,  3.69s/it]"
     ]
    },
    {
     "name": "stdout",
     "output_type": "stream",
     "text": [
      "did not find https://www.smogon.com/dex/media/sprites/rb/oinkologne.png: Not Found\n",
      "did not find https://www.smogon.com/dex/media/sprites/c/oinkologne.gif: Not Found\n",
      "did not find https://www.smogon.com/dex/media/sprites/rs/oinkologne.png: Not Found\n",
      "did not find https://www.smogon.com/dex/media/sprites/dp/oinkologne.png: Not Found\n",
      "did not find https://www.smogon.com/dex/media/sprites/bw/oinkologne.gif: Not Found\n"
     ]
    },
    {
     "name": "stderr",
     "output_type": "stream",
     "text": [
      " 92%|█████████████████████████████████████████████████████████████████████▏     | 1200/1300 [1:18:02<06:09,  3.69s/it]"
     ]
    },
    {
     "name": "stdout",
     "output_type": "stream",
     "text": [
      "did not find https://www.smogon.com/dex/media/sprites/rb/oinkologne-f.png: Not Found\n",
      "did not find https://www.smogon.com/dex/media/sprites/c/oinkologne-f.gif: Not Found\n",
      "did not find https://www.smogon.com/dex/media/sprites/rs/oinkologne-f.png: Not Found\n",
      "did not find https://www.smogon.com/dex/media/sprites/dp/oinkologne-f.png: Not Found\n",
      "did not find https://www.smogon.com/dex/media/sprites/bw/oinkologne-f.gif: Not Found\n"
     ]
    },
    {
     "name": "stderr",
     "output_type": "stream",
     "text": [
      " 92%|█████████████████████████████████████████████████████████████████████▎     | 1201/1300 [1:18:06<06:02,  3.66s/it]"
     ]
    },
    {
     "name": "stdout",
     "output_type": "stream",
     "text": [
      "did not find https://www.smogon.com/dex/media/sprites/rb/tarountula.png: Not Found\n",
      "did not find https://www.smogon.com/dex/media/sprites/c/tarountula.gif: Not Found\n",
      "did not find https://www.smogon.com/dex/media/sprites/rs/tarountula.png: Not Found\n",
      "did not find https://www.smogon.com/dex/media/sprites/dp/tarountula.png: Not Found\n",
      "did not find https://www.smogon.com/dex/media/sprites/bw/tarountula.gif: Not Found\n"
     ]
    },
    {
     "name": "stderr",
     "output_type": "stream",
     "text": [
      " 92%|█████████████████████████████████████████████████████████████████████▎     | 1202/1300 [1:18:09<05:57,  3.65s/it]"
     ]
    },
    {
     "name": "stdout",
     "output_type": "stream",
     "text": [
      "did not find https://www.smogon.com/dex/media/sprites/rb/spidops.png: Not Found\n",
      "did not find https://www.smogon.com/dex/media/sprites/c/spidops.gif: Not Found\n",
      "did not find https://www.smogon.com/dex/media/sprites/rs/spidops.png: Not Found\n",
      "did not find https://www.smogon.com/dex/media/sprites/dp/spidops.png: Not Found\n",
      "did not find https://www.smogon.com/dex/media/sprites/bw/spidops.gif: Not Found\n"
     ]
    },
    {
     "name": "stderr",
     "output_type": "stream",
     "text": [
      " 93%|█████████████████████████████████████████████████████████████████████▍     | 1203/1300 [1:18:13<05:51,  3.62s/it]"
     ]
    },
    {
     "name": "stdout",
     "output_type": "stream",
     "text": [
      "did not find https://www.smogon.com/dex/media/sprites/rb/nymble.png: Not Found\n",
      "did not find https://www.smogon.com/dex/media/sprites/c/nymble.gif: Not Found\n",
      "did not find https://www.smogon.com/dex/media/sprites/rs/nymble.png: Not Found\n",
      "did not find https://www.smogon.com/dex/media/sprites/dp/nymble.png: Not Found\n",
      "did not find https://www.smogon.com/dex/media/sprites/bw/nymble.gif: Not Found\n"
     ]
    },
    {
     "name": "stderr",
     "output_type": "stream",
     "text": [
      " 93%|█████████████████████████████████████████████████████████████████████▍     | 1204/1300 [1:18:16<05:47,  3.62s/it]"
     ]
    },
    {
     "name": "stdout",
     "output_type": "stream",
     "text": [
      "did not find https://www.smogon.com/dex/media/sprites/rb/lokix.png: Not Found\n",
      "did not find https://www.smogon.com/dex/media/sprites/c/lokix.gif: Not Found\n",
      "did not find https://www.smogon.com/dex/media/sprites/rs/lokix.png: Not Found\n",
      "did not find https://www.smogon.com/dex/media/sprites/dp/lokix.png: Not Found\n",
      "did not find https://www.smogon.com/dex/media/sprites/bw/lokix.gif: Not Found\n"
     ]
    },
    {
     "name": "stderr",
     "output_type": "stream",
     "text": [
      " 93%|█████████████████████████████████████████████████████████████████████▌     | 1205/1300 [1:18:20<05:45,  3.64s/it]"
     ]
    },
    {
     "name": "stdout",
     "output_type": "stream",
     "text": [
      "did not find https://www.smogon.com/dex/media/sprites/rb/pawmi.png: Not Found\n",
      "did not find https://www.smogon.com/dex/media/sprites/c/pawmi.gif: Not Found\n",
      "did not find https://www.smogon.com/dex/media/sprites/rs/pawmi.png: Not Found\n",
      "did not find https://www.smogon.com/dex/media/sprites/dp/pawmi.png: Not Found\n",
      "did not find https://www.smogon.com/dex/media/sprites/bw/pawmi.gif: Not Found\n"
     ]
    },
    {
     "name": "stderr",
     "output_type": "stream",
     "text": [
      " 93%|█████████████████████████████████████████████████████████████████████▌     | 1206/1300 [1:18:24<05:42,  3.64s/it]"
     ]
    },
    {
     "name": "stdout",
     "output_type": "stream",
     "text": [
      "did not find https://www.smogon.com/dex/media/sprites/rb/pawmo.png: Not Found\n",
      "did not find https://www.smogon.com/dex/media/sprites/c/pawmo.gif: Not Found\n",
      "did not find https://www.smogon.com/dex/media/sprites/rs/pawmo.png: Not Found\n",
      "did not find https://www.smogon.com/dex/media/sprites/dp/pawmo.png: Not Found\n",
      "did not find https://www.smogon.com/dex/media/sprites/bw/pawmo.gif: Not Found\n"
     ]
    },
    {
     "name": "stderr",
     "output_type": "stream",
     "text": [
      " 93%|█████████████████████████████████████████████████████████████████████▋     | 1207/1300 [1:18:28<05:40,  3.66s/it]"
     ]
    },
    {
     "name": "stdout",
     "output_type": "stream",
     "text": [
      "did not find https://www.smogon.com/dex/media/sprites/rb/pawmot.png: Not Found\n",
      "did not find https://www.smogon.com/dex/media/sprites/c/pawmot.gif: Not Found\n",
      "did not find https://www.smogon.com/dex/media/sprites/rs/pawmot.png: Not Found\n",
      "did not find https://www.smogon.com/dex/media/sprites/dp/pawmot.png: Not Found\n",
      "did not find https://www.smogon.com/dex/media/sprites/bw/pawmot.gif: Not Found\n"
     ]
    },
    {
     "name": "stderr",
     "output_type": "stream",
     "text": [
      " 93%|█████████████████████████████████████████████████████████████████████▋     | 1208/1300 [1:18:31<05:37,  3.67s/it]"
     ]
    },
    {
     "name": "stdout",
     "output_type": "stream",
     "text": [
      "did not find https://www.smogon.com/dex/media/sprites/rb/tandemaus.png: Not Found\n",
      "did not find https://www.smogon.com/dex/media/sprites/c/tandemaus.gif: Not Found\n",
      "did not find https://www.smogon.com/dex/media/sprites/rs/tandemaus.png: Not Found\n",
      "did not find https://www.smogon.com/dex/media/sprites/dp/tandemaus.png: Not Found\n",
      "did not find https://www.smogon.com/dex/media/sprites/bw/tandemaus.gif: Not Found\n"
     ]
    },
    {
     "name": "stderr",
     "output_type": "stream",
     "text": [
      " 93%|█████████████████████████████████████████████████████████████████████▊     | 1209/1300 [1:18:35<05:35,  3.68s/it]"
     ]
    },
    {
     "name": "stdout",
     "output_type": "stream",
     "text": [
      "did not find https://www.smogon.com/dex/media/sprites/rb/maushold.png: Not Found\n",
      "did not find https://www.smogon.com/dex/media/sprites/c/maushold.gif: Not Found\n",
      "did not find https://www.smogon.com/dex/media/sprites/rs/maushold.png: Not Found\n",
      "did not find https://www.smogon.com/dex/media/sprites/dp/maushold.png: Not Found\n",
      "did not find https://www.smogon.com/dex/media/sprites/bw/maushold.gif: Not Found\n"
     ]
    },
    {
     "name": "stderr",
     "output_type": "stream",
     "text": [
      " 93%|█████████████████████████████████████████████████████████████████████▊     | 1210/1300 [1:18:39<05:30,  3.67s/it]"
     ]
    },
    {
     "name": "stdout",
     "output_type": "stream",
     "text": [
      "did not find https://www.smogon.com/dex/media/sprites/rb/maushold-four.png: Not Found\n",
      "did not find https://www.smogon.com/dex/media/sprites/c/maushold-four.gif: Not Found\n",
      "did not find https://www.smogon.com/dex/media/sprites/rs/maushold-four.png: Not Found\n",
      "did not find https://www.smogon.com/dex/media/sprites/dp/maushold-four.png: Not Found\n",
      "did not find https://www.smogon.com/dex/media/sprites/bw/maushold-four.gif: Not Found\n"
     ]
    },
    {
     "name": "stderr",
     "output_type": "stream",
     "text": [
      " 93%|█████████████████████████████████████████████████████████████████████▊     | 1211/1300 [1:18:42<05:22,  3.63s/it]"
     ]
    },
    {
     "name": "stdout",
     "output_type": "stream",
     "text": [
      "did not find https://www.smogon.com/dex/media/sprites/rb/fidough.png: Not Found\n",
      "did not find https://www.smogon.com/dex/media/sprites/c/fidough.gif: Not Found\n",
      "did not find https://www.smogon.com/dex/media/sprites/rs/fidough.png: Not Found\n",
      "did not find https://www.smogon.com/dex/media/sprites/dp/fidough.png: Not Found\n",
      "did not find https://www.smogon.com/dex/media/sprites/bw/fidough.gif: Not Found\n"
     ]
    },
    {
     "name": "stderr",
     "output_type": "stream",
     "text": [
      " 93%|█████████████████████████████████████████████████████████████████████▉     | 1212/1300 [1:18:46<05:19,  3.63s/it]"
     ]
    },
    {
     "name": "stdout",
     "output_type": "stream",
     "text": [
      "did not find https://www.smogon.com/dex/media/sprites/rb/dachsbun.png: Not Found\n",
      "did not find https://www.smogon.com/dex/media/sprites/c/dachsbun.gif: Not Found\n",
      "did not find https://www.smogon.com/dex/media/sprites/rs/dachsbun.png: Not Found\n",
      "did not find https://www.smogon.com/dex/media/sprites/dp/dachsbun.png: Not Found\n",
      "did not find https://www.smogon.com/dex/media/sprites/bw/dachsbun.gif: Not Found\n"
     ]
    },
    {
     "name": "stderr",
     "output_type": "stream",
     "text": [
      " 93%|█████████████████████████████████████████████████████████████████████▉     | 1213/1300 [1:18:49<05:14,  3.62s/it]"
     ]
    },
    {
     "name": "stdout",
     "output_type": "stream",
     "text": [
      "did not find https://www.smogon.com/dex/media/sprites/rb/smoliv.png: Not Found\n",
      "did not find https://www.smogon.com/dex/media/sprites/c/smoliv.gif: Not Found\n",
      "did not find https://www.smogon.com/dex/media/sprites/rs/smoliv.png: Not Found\n",
      "did not find https://www.smogon.com/dex/media/sprites/dp/smoliv.png: Not Found\n",
      "did not find https://www.smogon.com/dex/media/sprites/bw/smoliv.gif: Not Found\n"
     ]
    },
    {
     "name": "stderr",
     "output_type": "stream",
     "text": [
      " 93%|██████████████████████████████████████████████████████████████████████     | 1214/1300 [1:18:53<05:11,  3.62s/it]"
     ]
    },
    {
     "name": "stdout",
     "output_type": "stream",
     "text": [
      "did not find https://www.smogon.com/dex/media/sprites/rb/dolliv.png: Not Found\n",
      "did not find https://www.smogon.com/dex/media/sprites/c/dolliv.gif: Not Found\n",
      "did not find https://www.smogon.com/dex/media/sprites/rs/dolliv.png: Not Found\n",
      "did not find https://www.smogon.com/dex/media/sprites/dp/dolliv.png: Not Found\n",
      "did not find https://www.smogon.com/dex/media/sprites/bw/dolliv.gif: Not Found\n"
     ]
    },
    {
     "name": "stderr",
     "output_type": "stream",
     "text": [
      " 93%|██████████████████████████████████████████████████████████████████████     | 1215/1300 [1:18:56<05:05,  3.59s/it]"
     ]
    },
    {
     "name": "stdout",
     "output_type": "stream",
     "text": [
      "did not find https://www.smogon.com/dex/media/sprites/rb/arboliva.png: Not Found\n",
      "did not find https://www.smogon.com/dex/media/sprites/c/arboliva.gif: Not Found\n",
      "did not find https://www.smogon.com/dex/media/sprites/rs/arboliva.png: Not Found\n",
      "did not find https://www.smogon.com/dex/media/sprites/dp/arboliva.png: Not Found\n",
      "did not find https://www.smogon.com/dex/media/sprites/bw/arboliva.gif: Not Found\n"
     ]
    },
    {
     "name": "stderr",
     "output_type": "stream",
     "text": [
      " 94%|██████████████████████████████████████████████████████████████████████▏    | 1216/1300 [1:19:00<05:02,  3.60s/it]"
     ]
    },
    {
     "name": "stdout",
     "output_type": "stream",
     "text": [
      "did not find https://www.smogon.com/dex/media/sprites/rb/squawkabilly.png: Not Found\n",
      "did not find https://www.smogon.com/dex/media/sprites/c/squawkabilly.gif: Not Found\n",
      "did not find https://www.smogon.com/dex/media/sprites/rs/squawkabilly.png: Not Found\n",
      "did not find https://www.smogon.com/dex/media/sprites/dp/squawkabilly.png: Not Found\n",
      "did not find https://www.smogon.com/dex/media/sprites/bw/squawkabilly.gif: Not Found\n"
     ]
    },
    {
     "name": "stderr",
     "output_type": "stream",
     "text": [
      " 94%|██████████████████████████████████████████████████████████████████████▏    | 1217/1300 [1:19:04<04:58,  3.60s/it]"
     ]
    },
    {
     "name": "stdout",
     "output_type": "stream",
     "text": [
      "did not find https://www.smogon.com/dex/media/sprites/rb/squawkabilly-blue.png: Not Found\n",
      "did not find https://www.smogon.com/dex/media/sprites/c/squawkabilly-blue.gif: Not Found\n",
      "did not find https://www.smogon.com/dex/media/sprites/rs/squawkabilly-blue.png: Not Found\n",
      "did not find https://www.smogon.com/dex/media/sprites/dp/squawkabilly-blue.png: Not Found\n",
      "did not find https://www.smogon.com/dex/media/sprites/bw/squawkabilly-blue.gif: Not Found\n"
     ]
    },
    {
     "name": "stderr",
     "output_type": "stream",
     "text": [
      " 94%|██████████████████████████████████████████████████████████████████████▎    | 1218/1300 [1:19:07<04:54,  3.59s/it]"
     ]
    },
    {
     "name": "stdout",
     "output_type": "stream",
     "text": [
      "did not find https://www.smogon.com/dex/media/sprites/rb/squawkabilly-yellow.png: Not Found\n",
      "did not find https://www.smogon.com/dex/media/sprites/c/squawkabilly-yellow.gif: Not Found\n",
      "did not find https://www.smogon.com/dex/media/sprites/rs/squawkabilly-yellow.png: Not Found\n",
      "did not find https://www.smogon.com/dex/media/sprites/dp/squawkabilly-yellow.png: Not Found\n",
      "did not find https://www.smogon.com/dex/media/sprites/bw/squawkabilly-yellow.gif: Not Found\n"
     ]
    },
    {
     "name": "stderr",
     "output_type": "stream",
     "text": [
      " 94%|██████████████████████████████████████████████████████████████████████▎    | 1219/1300 [1:19:11<04:48,  3.57s/it]"
     ]
    },
    {
     "name": "stdout",
     "output_type": "stream",
     "text": [
      "did not find https://www.smogon.com/dex/media/sprites/rb/squawkabilly-white.png: Not Found\n",
      "did not find https://www.smogon.com/dex/media/sprites/c/squawkabilly-white.gif: Not Found\n",
      "did not find https://www.smogon.com/dex/media/sprites/rs/squawkabilly-white.png: Not Found\n",
      "did not find https://www.smogon.com/dex/media/sprites/dp/squawkabilly-white.png: Not Found\n",
      "did not find https://www.smogon.com/dex/media/sprites/bw/squawkabilly-white.gif: Not Found\n"
     ]
    },
    {
     "name": "stderr",
     "output_type": "stream",
     "text": [
      " 94%|██████████████████████████████████████████████████████████████████████▍    | 1220/1300 [1:19:14<04:48,  3.60s/it]"
     ]
    },
    {
     "name": "stdout",
     "output_type": "stream",
     "text": [
      "did not find https://www.smogon.com/dex/media/sprites/rb/nacli.png: Not Found\n",
      "did not find https://www.smogon.com/dex/media/sprites/c/nacli.gif: Not Found\n",
      "did not find https://www.smogon.com/dex/media/sprites/rs/nacli.png: Not Found\n",
      "did not find https://www.smogon.com/dex/media/sprites/dp/nacli.png: Not Found\n",
      "did not find https://www.smogon.com/dex/media/sprites/bw/nacli.gif: Not Found\n"
     ]
    },
    {
     "name": "stderr",
     "output_type": "stream",
     "text": [
      " 94%|██████████████████████████████████████████████████████████████████████▍    | 1221/1300 [1:19:18<04:43,  3.59s/it]"
     ]
    },
    {
     "name": "stdout",
     "output_type": "stream",
     "text": [
      "did not find https://www.smogon.com/dex/media/sprites/rb/naclstack.png: Not Found\n",
      "did not find https://www.smogon.com/dex/media/sprites/c/naclstack.gif: Not Found\n",
      "did not find https://www.smogon.com/dex/media/sprites/rs/naclstack.png: Not Found\n",
      "did not find https://www.smogon.com/dex/media/sprites/dp/naclstack.png: Not Found\n",
      "did not find https://www.smogon.com/dex/media/sprites/bw/naclstack.gif: Not Found\n"
     ]
    },
    {
     "name": "stderr",
     "output_type": "stream",
     "text": [
      " 94%|██████████████████████████████████████████████████████████████████████▌    | 1222/1300 [1:19:22<04:41,  3.61s/it]"
     ]
    },
    {
     "name": "stdout",
     "output_type": "stream",
     "text": [
      "did not find https://www.smogon.com/dex/media/sprites/rb/garganacl.png: Not Found\n",
      "did not find https://www.smogon.com/dex/media/sprites/c/garganacl.gif: Not Found\n",
      "did not find https://www.smogon.com/dex/media/sprites/rs/garganacl.png: Not Found\n",
      "did not find https://www.smogon.com/dex/media/sprites/dp/garganacl.png: Not Found\n",
      "did not find https://www.smogon.com/dex/media/sprites/bw/garganacl.gif: Not Found\n"
     ]
    },
    {
     "name": "stderr",
     "output_type": "stream",
     "text": [
      " 94%|██████████████████████████████████████████████████████████████████████▌    | 1223/1300 [1:19:25<04:38,  3.62s/it]"
     ]
    },
    {
     "name": "stdout",
     "output_type": "stream",
     "text": [
      "did not find https://www.smogon.com/dex/media/sprites/rb/charcadet.png: Not Found\n",
      "did not find https://www.smogon.com/dex/media/sprites/c/charcadet.gif: Not Found\n",
      "did not find https://www.smogon.com/dex/media/sprites/rs/charcadet.png: Not Found\n",
      "did not find https://www.smogon.com/dex/media/sprites/dp/charcadet.png: Not Found\n",
      "did not find https://www.smogon.com/dex/media/sprites/bw/charcadet.gif: Not Found\n"
     ]
    },
    {
     "name": "stderr",
     "output_type": "stream",
     "text": [
      " 94%|██████████████████████████████████████████████████████████████████████▌    | 1224/1300 [1:19:29<04:35,  3.62s/it]"
     ]
    },
    {
     "name": "stdout",
     "output_type": "stream",
     "text": [
      "did not find https://www.smogon.com/dex/media/sprites/rb/armarouge.png: Not Found\n",
      "did not find https://www.smogon.com/dex/media/sprites/c/armarouge.gif: Not Found\n",
      "did not find https://www.smogon.com/dex/media/sprites/rs/armarouge.png: Not Found\n",
      "did not find https://www.smogon.com/dex/media/sprites/dp/armarouge.png: Not Found\n",
      "did not find https://www.smogon.com/dex/media/sprites/bw/armarouge.gif: Not Found\n"
     ]
    },
    {
     "name": "stderr",
     "output_type": "stream",
     "text": [
      " 94%|██████████████████████████████████████████████████████████████████████▋    | 1225/1300 [1:19:32<04:29,  3.60s/it]"
     ]
    },
    {
     "name": "stdout",
     "output_type": "stream",
     "text": [
      "did not find https://www.smogon.com/dex/media/sprites/rb/ceruledge.png: Not Found\n",
      "did not find https://www.smogon.com/dex/media/sprites/c/ceruledge.gif: Not Found\n",
      "did not find https://www.smogon.com/dex/media/sprites/rs/ceruledge.png: Not Found\n",
      "did not find https://www.smogon.com/dex/media/sprites/dp/ceruledge.png: Not Found\n",
      "did not find https://www.smogon.com/dex/media/sprites/bw/ceruledge.gif: Not Found\n"
     ]
    },
    {
     "name": "stderr",
     "output_type": "stream",
     "text": [
      " 94%|██████████████████████████████████████████████████████████████████████▋    | 1226/1300 [1:19:36<04:25,  3.59s/it]"
     ]
    },
    {
     "name": "stdout",
     "output_type": "stream",
     "text": [
      "did not find https://www.smogon.com/dex/media/sprites/rb/tadbulb.png: Not Found\n",
      "did not find https://www.smogon.com/dex/media/sprites/c/tadbulb.gif: Not Found\n",
      "did not find https://www.smogon.com/dex/media/sprites/rs/tadbulb.png: Not Found\n",
      "did not find https://www.smogon.com/dex/media/sprites/dp/tadbulb.png: Not Found\n",
      "did not find https://www.smogon.com/dex/media/sprites/bw/tadbulb.gif: Not Found\n"
     ]
    },
    {
     "name": "stderr",
     "output_type": "stream",
     "text": [
      " 94%|██████████████████████████████████████████████████████████████████████▊    | 1227/1300 [1:19:40<04:22,  3.60s/it]"
     ]
    },
    {
     "name": "stdout",
     "output_type": "stream",
     "text": [
      "did not find https://www.smogon.com/dex/media/sprites/rb/bellibolt.png: Not Found\n",
      "did not find https://www.smogon.com/dex/media/sprites/c/bellibolt.gif: Not Found\n",
      "did not find https://www.smogon.com/dex/media/sprites/rs/bellibolt.png: Not Found\n",
      "did not find https://www.smogon.com/dex/media/sprites/dp/bellibolt.png: Not Found\n",
      "did not find https://www.smogon.com/dex/media/sprites/bw/bellibolt.gif: Not Found\n"
     ]
    },
    {
     "name": "stderr",
     "output_type": "stream",
     "text": [
      " 94%|██████████████████████████████████████████████████████████████████████▊    | 1228/1300 [1:19:43<04:19,  3.61s/it]"
     ]
    },
    {
     "name": "stdout",
     "output_type": "stream",
     "text": [
      "did not find https://www.smogon.com/dex/media/sprites/rb/wattrel.png: Not Found\n",
      "did not find https://www.smogon.com/dex/media/sprites/c/wattrel.gif: Not Found\n",
      "did not find https://www.smogon.com/dex/media/sprites/rs/wattrel.png: Not Found\n",
      "did not find https://www.smogon.com/dex/media/sprites/dp/wattrel.png: Not Found\n",
      "did not find https://www.smogon.com/dex/media/sprites/bw/wattrel.gif: Not Found\n"
     ]
    },
    {
     "name": "stderr",
     "output_type": "stream",
     "text": [
      " 95%|██████████████████████████████████████████████████████████████████████▉    | 1229/1300 [1:19:47<04:17,  3.62s/it]"
     ]
    },
    {
     "name": "stdout",
     "output_type": "stream",
     "text": [
      "did not find https://www.smogon.com/dex/media/sprites/rb/kilowattrel.png: Not Found\n",
      "did not find https://www.smogon.com/dex/media/sprites/c/kilowattrel.gif: Not Found\n",
      "did not find https://www.smogon.com/dex/media/sprites/rs/kilowattrel.png: Not Found\n",
      "did not find https://www.smogon.com/dex/media/sprites/dp/kilowattrel.png: Not Found\n",
      "did not find https://www.smogon.com/dex/media/sprites/bw/kilowattrel.gif: Not Found\n"
     ]
    },
    {
     "name": "stderr",
     "output_type": "stream",
     "text": [
      " 95%|██████████████████████████████████████████████████████████████████████▉    | 1230/1300 [1:19:51<04:14,  3.64s/it]"
     ]
    },
    {
     "name": "stdout",
     "output_type": "stream",
     "text": [
      "did not find https://www.smogon.com/dex/media/sprites/rb/maschiff.png: Not Found\n",
      "did not find https://www.smogon.com/dex/media/sprites/c/maschiff.gif: Not Found\n",
      "did not find https://www.smogon.com/dex/media/sprites/rs/maschiff.png: Not Found\n",
      "did not find https://www.smogon.com/dex/media/sprites/dp/maschiff.png: Not Found\n",
      "did not find https://www.smogon.com/dex/media/sprites/bw/maschiff.gif: Not Found\n"
     ]
    },
    {
     "name": "stderr",
     "output_type": "stream",
     "text": [
      " 95%|███████████████████████████████████████████████████████████████████████    | 1231/1300 [1:19:54<04:10,  3.63s/it]"
     ]
    },
    {
     "name": "stdout",
     "output_type": "stream",
     "text": [
      "did not find https://www.smogon.com/dex/media/sprites/rb/mabosstiff.png: Not Found\n",
      "did not find https://www.smogon.com/dex/media/sprites/c/mabosstiff.gif: Not Found\n",
      "did not find https://www.smogon.com/dex/media/sprites/rs/mabosstiff.png: Not Found\n",
      "did not find https://www.smogon.com/dex/media/sprites/dp/mabosstiff.png: Not Found\n",
      "did not find https://www.smogon.com/dex/media/sprites/bw/mabosstiff.gif: Not Found\n"
     ]
    },
    {
     "name": "stderr",
     "output_type": "stream",
     "text": [
      " 95%|███████████████████████████████████████████████████████████████████████    | 1232/1300 [1:19:58<04:07,  3.65s/it]"
     ]
    },
    {
     "name": "stdout",
     "output_type": "stream",
     "text": [
      "did not find https://www.smogon.com/dex/media/sprites/rb/shroodle.png: Not Found\n",
      "did not find https://www.smogon.com/dex/media/sprites/c/shroodle.gif: Not Found\n",
      "did not find https://www.smogon.com/dex/media/sprites/rs/shroodle.png: Not Found\n",
      "did not find https://www.smogon.com/dex/media/sprites/dp/shroodle.png: Not Found\n",
      "did not find https://www.smogon.com/dex/media/sprites/bw/shroodle.gif: Not Found\n"
     ]
    },
    {
     "name": "stderr",
     "output_type": "stream",
     "text": [
      " 95%|███████████████████████████████████████████████████████████████████████▏   | 1233/1300 [1:20:02<04:03,  3.64s/it]"
     ]
    },
    {
     "name": "stdout",
     "output_type": "stream",
     "text": [
      "did not find https://www.smogon.com/dex/media/sprites/rb/grafaiai.png: Not Found\n",
      "did not find https://www.smogon.com/dex/media/sprites/c/grafaiai.gif: Not Found\n",
      "did not find https://www.smogon.com/dex/media/sprites/rs/grafaiai.png: Not Found\n",
      "did not find https://www.smogon.com/dex/media/sprites/dp/grafaiai.png: Not Found\n",
      "did not find https://www.smogon.com/dex/media/sprites/bw/grafaiai.gif: Not Found\n"
     ]
    },
    {
     "name": "stderr",
     "output_type": "stream",
     "text": [
      " 95%|███████████████████████████████████████████████████████████████████████▏   | 1234/1300 [1:20:05<04:00,  3.64s/it]"
     ]
    },
    {
     "name": "stdout",
     "output_type": "stream",
     "text": [
      "did not find https://www.smogon.com/dex/media/sprites/rb/bramblin.png: Not Found\n",
      "did not find https://www.smogon.com/dex/media/sprites/c/bramblin.gif: Not Found\n",
      "did not find https://www.smogon.com/dex/media/sprites/rs/bramblin.png: Not Found\n",
      "did not find https://www.smogon.com/dex/media/sprites/dp/bramblin.png: Not Found\n",
      "did not find https://www.smogon.com/dex/media/sprites/bw/bramblin.gif: Not Found\n"
     ]
    },
    {
     "name": "stderr",
     "output_type": "stream",
     "text": [
      " 95%|███████████████████████████████████████████████████████████████████████▎   | 1235/1300 [1:20:09<03:57,  3.65s/it]"
     ]
    },
    {
     "name": "stdout",
     "output_type": "stream",
     "text": [
      "did not find https://www.smogon.com/dex/media/sprites/rb/brambleghast.png: Not Found\n",
      "did not find https://www.smogon.com/dex/media/sprites/c/brambleghast.gif: Not Found\n",
      "did not find https://www.smogon.com/dex/media/sprites/rs/brambleghast.png: Not Found\n",
      "did not find https://www.smogon.com/dex/media/sprites/dp/brambleghast.png: Not Found\n",
      "did not find https://www.smogon.com/dex/media/sprites/bw/brambleghast.gif: Not Found\n"
     ]
    },
    {
     "name": "stderr",
     "output_type": "stream",
     "text": [
      " 95%|███████████████████████████████████████████████████████████████████████▎   | 1236/1300 [1:20:12<03:52,  3.64s/it]"
     ]
    },
    {
     "name": "stdout",
     "output_type": "stream",
     "text": [
      "did not find https://www.smogon.com/dex/media/sprites/rb/toedscool.png: Not Found\n",
      "did not find https://www.smogon.com/dex/media/sprites/c/toedscool.gif: Not Found\n",
      "did not find https://www.smogon.com/dex/media/sprites/rs/toedscool.png: Not Found\n",
      "did not find https://www.smogon.com/dex/media/sprites/dp/toedscool.png: Not Found\n",
      "did not find https://www.smogon.com/dex/media/sprites/bw/toedscool.gif: Not Found\n"
     ]
    },
    {
     "name": "stderr",
     "output_type": "stream",
     "text": [
      " 95%|███████████████████████████████████████████████████████████████████████▎   | 1237/1300 [1:20:16<03:50,  3.65s/it]"
     ]
    },
    {
     "name": "stdout",
     "output_type": "stream",
     "text": [
      "did not find https://www.smogon.com/dex/media/sprites/rb/toedscruel.png: Not Found\n",
      "did not find https://www.smogon.com/dex/media/sprites/c/toedscruel.gif: Not Found\n",
      "did not find https://www.smogon.com/dex/media/sprites/rs/toedscruel.png: Not Found\n",
      "did not find https://www.smogon.com/dex/media/sprites/dp/toedscruel.png: Not Found\n",
      "did not find https://www.smogon.com/dex/media/sprites/bw/toedscruel.gif: Not Found\n"
     ]
    },
    {
     "name": "stderr",
     "output_type": "stream",
     "text": [
      " 95%|███████████████████████████████████████████████████████████████████████▍   | 1238/1300 [1:20:20<03:46,  3.66s/it]"
     ]
    },
    {
     "name": "stdout",
     "output_type": "stream",
     "text": [
      "did not find https://www.smogon.com/dex/media/sprites/rb/klawf.png: Not Found\n",
      "did not find https://www.smogon.com/dex/media/sprites/c/klawf.gif: Not Found\n",
      "did not find https://www.smogon.com/dex/media/sprites/rs/klawf.png: Not Found\n",
      "did not find https://www.smogon.com/dex/media/sprites/dp/klawf.png: Not Found\n",
      "did not find https://www.smogon.com/dex/media/sprites/bw/klawf.gif: Not Found\n"
     ]
    },
    {
     "name": "stderr",
     "output_type": "stream",
     "text": [
      " 95%|███████████████████████████████████████████████████████████████████████▍   | 1239/1300 [1:20:23<03:40,  3.61s/it]"
     ]
    },
    {
     "name": "stdout",
     "output_type": "stream",
     "text": [
      "did not find https://www.smogon.com/dex/media/sprites/rb/capsakid.png: Not Found\n",
      "did not find https://www.smogon.com/dex/media/sprites/c/capsakid.gif: Not Found\n",
      "did not find https://www.smogon.com/dex/media/sprites/rs/capsakid.png: Not Found\n",
      "did not find https://www.smogon.com/dex/media/sprites/dp/capsakid.png: Not Found\n",
      "did not find https://www.smogon.com/dex/media/sprites/bw/capsakid.gif: Not Found\n"
     ]
    },
    {
     "name": "stderr",
     "output_type": "stream",
     "text": [
      " 95%|███████████████████████████████████████████████████████████████████████▌   | 1240/1300 [1:20:27<03:37,  3.62s/it]"
     ]
    },
    {
     "name": "stdout",
     "output_type": "stream",
     "text": [
      "did not find https://www.smogon.com/dex/media/sprites/rb/scovillain.png: Not Found\n",
      "did not find https://www.smogon.com/dex/media/sprites/c/scovillain.gif: Not Found\n",
      "did not find https://www.smogon.com/dex/media/sprites/rs/scovillain.png: Not Found\n",
      "did not find https://www.smogon.com/dex/media/sprites/dp/scovillain.png: Not Found\n",
      "did not find https://www.smogon.com/dex/media/sprites/bw/scovillain.gif: Not Found\n"
     ]
    },
    {
     "name": "stderr",
     "output_type": "stream",
     "text": [
      " 95%|███████████████████████████████████████████████████████████████████████▌   | 1241/1300 [1:20:31<03:34,  3.63s/it]"
     ]
    },
    {
     "name": "stdout",
     "output_type": "stream",
     "text": [
      "did not find https://www.smogon.com/dex/media/sprites/rb/rellor.png: Not Found\n",
      "did not find https://www.smogon.com/dex/media/sprites/c/rellor.gif: Not Found\n",
      "did not find https://www.smogon.com/dex/media/sprites/rs/rellor.png: Not Found\n",
      "did not find https://www.smogon.com/dex/media/sprites/dp/rellor.png: Not Found\n",
      "did not find https://www.smogon.com/dex/media/sprites/bw/rellor.gif: Not Found\n"
     ]
    },
    {
     "name": "stderr",
     "output_type": "stream",
     "text": [
      " 96%|███████████████████████████████████████████████████████████████████████▋   | 1242/1300 [1:20:34<03:29,  3.62s/it]"
     ]
    },
    {
     "name": "stdout",
     "output_type": "stream",
     "text": [
      "did not find https://www.smogon.com/dex/media/sprites/rb/rabsca.png: Not Found\n",
      "did not find https://www.smogon.com/dex/media/sprites/c/rabsca.gif: Not Found\n",
      "did not find https://www.smogon.com/dex/media/sprites/rs/rabsca.png: Not Found\n",
      "did not find https://www.smogon.com/dex/media/sprites/dp/rabsca.png: Not Found\n",
      "did not find https://www.smogon.com/dex/media/sprites/bw/rabsca.gif: Not Found\n"
     ]
    },
    {
     "name": "stderr",
     "output_type": "stream",
     "text": [
      " 96%|███████████████████████████████████████████████████████████████████████▋   | 1243/1300 [1:20:38<03:25,  3.61s/it]"
     ]
    },
    {
     "name": "stdout",
     "output_type": "stream",
     "text": [
      "did not find https://www.smogon.com/dex/media/sprites/rb/flittle.png: Not Found\n",
      "did not find https://www.smogon.com/dex/media/sprites/c/flittle.gif: Not Found\n",
      "did not find https://www.smogon.com/dex/media/sprites/rs/flittle.png: Not Found\n",
      "did not find https://www.smogon.com/dex/media/sprites/dp/flittle.png: Not Found\n",
      "did not find https://www.smogon.com/dex/media/sprites/bw/flittle.gif: Not Found\n"
     ]
    },
    {
     "name": "stderr",
     "output_type": "stream",
     "text": [
      " 96%|███████████████████████████████████████████████████████████████████████▊   | 1244/1300 [1:20:41<03:21,  3.60s/it]"
     ]
    },
    {
     "name": "stdout",
     "output_type": "stream",
     "text": [
      "did not find https://www.smogon.com/dex/media/sprites/rb/espathra.png: Not Found\n",
      "did not find https://www.smogon.com/dex/media/sprites/c/espathra.gif: Not Found\n",
      "did not find https://www.smogon.com/dex/media/sprites/rs/espathra.png: Not Found\n",
      "did not find https://www.smogon.com/dex/media/sprites/dp/espathra.png: Not Found\n",
      "did not find https://www.smogon.com/dex/media/sprites/bw/espathra.gif: Not Found\n"
     ]
    },
    {
     "name": "stderr",
     "output_type": "stream",
     "text": [
      " 96%|███████████████████████████████████████████████████████████████████████▊   | 1245/1300 [1:20:45<03:19,  3.63s/it]"
     ]
    },
    {
     "name": "stdout",
     "output_type": "stream",
     "text": [
      "did not find https://www.smogon.com/dex/media/sprites/rb/tinkatink.png: Not Found\n",
      "did not find https://www.smogon.com/dex/media/sprites/c/tinkatink.gif: Not Found\n",
      "did not find https://www.smogon.com/dex/media/sprites/rs/tinkatink.png: Not Found\n",
      "did not find https://www.smogon.com/dex/media/sprites/dp/tinkatink.png: Not Found\n",
      "did not find https://www.smogon.com/dex/media/sprites/bw/tinkatink.gif: Not Found\n"
     ]
    },
    {
     "name": "stderr",
     "output_type": "stream",
     "text": [
      " 96%|███████████████████████████████████████████████████████████████████████▉   | 1246/1300 [1:20:49<03:15,  3.62s/it]"
     ]
    },
    {
     "name": "stdout",
     "output_type": "stream",
     "text": [
      "did not find https://www.smogon.com/dex/media/sprites/rb/tinkatuff.png: Not Found\n",
      "did not find https://www.smogon.com/dex/media/sprites/c/tinkatuff.gif: Not Found\n",
      "did not find https://www.smogon.com/dex/media/sprites/rs/tinkatuff.png: Not Found\n",
      "did not find https://www.smogon.com/dex/media/sprites/dp/tinkatuff.png: Not Found\n",
      "did not find https://www.smogon.com/dex/media/sprites/bw/tinkatuff.gif: Not Found\n"
     ]
    },
    {
     "name": "stderr",
     "output_type": "stream",
     "text": [
      " 96%|███████████████████████████████████████████████████████████████████████▉   | 1247/1300 [1:20:52<03:12,  3.63s/it]"
     ]
    },
    {
     "name": "stdout",
     "output_type": "stream",
     "text": [
      "did not find https://www.smogon.com/dex/media/sprites/rb/tinkaton.png: Not Found\n",
      "did not find https://www.smogon.com/dex/media/sprites/c/tinkaton.gif: Not Found\n",
      "did not find https://www.smogon.com/dex/media/sprites/rs/tinkaton.png: Not Found\n",
      "did not find https://www.smogon.com/dex/media/sprites/dp/tinkaton.png: Not Found\n",
      "did not find https://www.smogon.com/dex/media/sprites/bw/tinkaton.gif: Not Found\n"
     ]
    },
    {
     "name": "stderr",
     "output_type": "stream",
     "text": [
      " 96%|████████████████████████████████████████████████████████████████████████   | 1248/1300 [1:20:56<03:09,  3.65s/it]"
     ]
    },
    {
     "name": "stdout",
     "output_type": "stream",
     "text": [
      "did not find https://www.smogon.com/dex/media/sprites/rb/wiglett.png: Not Found\n",
      "did not find https://www.smogon.com/dex/media/sprites/c/wiglett.gif: Not Found\n",
      "did not find https://www.smogon.com/dex/media/sprites/rs/wiglett.png: Not Found\n",
      "did not find https://www.smogon.com/dex/media/sprites/dp/wiglett.png: Not Found\n",
      "did not find https://www.smogon.com/dex/media/sprites/bw/wiglett.gif: Not Found\n"
     ]
    },
    {
     "name": "stderr",
     "output_type": "stream",
     "text": [
      " 96%|████████████████████████████████████████████████████████████████████████   | 1249/1300 [1:21:00<03:06,  3.66s/it]"
     ]
    },
    {
     "name": "stdout",
     "output_type": "stream",
     "text": [
      "did not find https://www.smogon.com/dex/media/sprites/rb/wugtrio.png: Not Found\n",
      "did not find https://www.smogon.com/dex/media/sprites/c/wugtrio.gif: Not Found\n",
      "did not find https://www.smogon.com/dex/media/sprites/rs/wugtrio.png: Not Found\n",
      "did not find https://www.smogon.com/dex/media/sprites/dp/wugtrio.png: Not Found\n",
      "did not find https://www.smogon.com/dex/media/sprites/bw/wugtrio.gif: Not Found\n"
     ]
    },
    {
     "name": "stderr",
     "output_type": "stream",
     "text": [
      " 96%|████████████████████████████████████████████████████████████████████████   | 1250/1300 [1:21:03<03:02,  3.64s/it]"
     ]
    },
    {
     "name": "stdout",
     "output_type": "stream",
     "text": [
      "did not find https://www.smogon.com/dex/media/sprites/rb/bombirdier.png: Not Found\n",
      "did not find https://www.smogon.com/dex/media/sprites/c/bombirdier.gif: Not Found\n",
      "did not find https://www.smogon.com/dex/media/sprites/rs/bombirdier.png: Not Found\n",
      "did not find https://www.smogon.com/dex/media/sprites/dp/bombirdier.png: Not Found\n",
      "did not find https://www.smogon.com/dex/media/sprites/bw/bombirdier.gif: Not Found\n"
     ]
    },
    {
     "name": "stderr",
     "output_type": "stream",
     "text": [
      " 96%|████████████████████████████████████████████████████████████████████████▏  | 1251/1300 [1:21:07<02:58,  3.65s/it]"
     ]
    },
    {
     "name": "stdout",
     "output_type": "stream",
     "text": [
      "did not find https://www.smogon.com/dex/media/sprites/rb/finizen.png: Not Found\n",
      "did not find https://www.smogon.com/dex/media/sprites/c/finizen.gif: Not Found\n",
      "did not find https://www.smogon.com/dex/media/sprites/rs/finizen.png: Not Found\n",
      "did not find https://www.smogon.com/dex/media/sprites/dp/finizen.png: Not Found\n",
      "did not find https://www.smogon.com/dex/media/sprites/bw/finizen.gif: Not Found\n"
     ]
    },
    {
     "name": "stderr",
     "output_type": "stream",
     "text": [
      " 96%|████████████████████████████████████████████████████████████████████████▏  | 1252/1300 [1:21:11<02:54,  3.64s/it]"
     ]
    },
    {
     "name": "stdout",
     "output_type": "stream",
     "text": [
      "did not find https://www.smogon.com/dex/media/sprites/rb/palafin.png: Not Found\n",
      "did not find https://www.smogon.com/dex/media/sprites/c/palafin.gif: Not Found\n",
      "did not find https://www.smogon.com/dex/media/sprites/rs/palafin.png: Not Found\n",
      "did not find https://www.smogon.com/dex/media/sprites/dp/palafin.png: Not Found\n",
      "did not find https://www.smogon.com/dex/media/sprites/bw/palafin.gif: Not Found\n"
     ]
    },
    {
     "name": "stderr",
     "output_type": "stream",
     "text": [
      " 96%|████████████████████████████████████████████████████████████████████████▎  | 1253/1300 [1:21:14<02:51,  3.65s/it]"
     ]
    },
    {
     "name": "stdout",
     "output_type": "stream",
     "text": [
      "did not find https://www.smogon.com/dex/media/sprites/rb/palafin-hero.png: Not Found\n",
      "did not find https://www.smogon.com/dex/media/sprites/c/palafin-hero.gif: Not Found\n",
      "did not find https://www.smogon.com/dex/media/sprites/rs/palafin-hero.png: Not Found\n",
      "did not find https://www.smogon.com/dex/media/sprites/dp/palafin-hero.png: Not Found\n",
      "did not find https://www.smogon.com/dex/media/sprites/bw/palafin-hero.gif: Not Found\n"
     ]
    },
    {
     "name": "stderr",
     "output_type": "stream",
     "text": [
      " 96%|████████████████████████████████████████████████████████████████████████▎  | 1254/1300 [1:21:18<02:47,  3.64s/it]"
     ]
    },
    {
     "name": "stdout",
     "output_type": "stream",
     "text": [
      "did not find https://www.smogon.com/dex/media/sprites/rb/varoom.png: Not Found\n",
      "did not find https://www.smogon.com/dex/media/sprites/c/varoom.gif: Not Found\n",
      "did not find https://www.smogon.com/dex/media/sprites/rs/varoom.png: Not Found\n",
      "did not find https://www.smogon.com/dex/media/sprites/dp/varoom.png: Not Found\n",
      "did not find https://www.smogon.com/dex/media/sprites/bw/varoom.gif: Not Found\n"
     ]
    },
    {
     "name": "stderr",
     "output_type": "stream",
     "text": [
      " 97%|████████████████████████████████████████████████████████████████████████▍  | 1255/1300 [1:21:21<02:43,  3.63s/it]"
     ]
    },
    {
     "name": "stdout",
     "output_type": "stream",
     "text": [
      "did not find https://www.smogon.com/dex/media/sprites/rb/revavroom.png: Not Found\n",
      "did not find https://www.smogon.com/dex/media/sprites/c/revavroom.gif: Not Found\n",
      "did not find https://www.smogon.com/dex/media/sprites/rs/revavroom.png: Not Found\n",
      "did not find https://www.smogon.com/dex/media/sprites/dp/revavroom.png: Not Found\n",
      "did not find https://www.smogon.com/dex/media/sprites/bw/revavroom.gif: Not Found\n"
     ]
    },
    {
     "name": "stderr",
     "output_type": "stream",
     "text": [
      " 97%|████████████████████████████████████████████████████████████████████████▍  | 1256/1300 [1:21:25<02:39,  3.62s/it]"
     ]
    },
    {
     "name": "stdout",
     "output_type": "stream",
     "text": [
      "did not find https://www.smogon.com/dex/media/sprites/rb/cyclizar.png: Not Found\n",
      "did not find https://www.smogon.com/dex/media/sprites/c/cyclizar.gif: Not Found\n",
      "did not find https://www.smogon.com/dex/media/sprites/rs/cyclizar.png: Not Found\n",
      "did not find https://www.smogon.com/dex/media/sprites/dp/cyclizar.png: Not Found\n",
      "did not find https://www.smogon.com/dex/media/sprites/bw/cyclizar.gif: Not Found\n"
     ]
    },
    {
     "name": "stderr",
     "output_type": "stream",
     "text": [
      " 97%|████████████████████████████████████████████████████████████████████████▌  | 1257/1300 [1:21:29<02:35,  3.62s/it]"
     ]
    },
    {
     "name": "stdout",
     "output_type": "stream",
     "text": [
      "did not find https://www.smogon.com/dex/media/sprites/rb/orthworm.png: Not Found\n",
      "did not find https://www.smogon.com/dex/media/sprites/c/orthworm.gif: Not Found\n",
      "did not find https://www.smogon.com/dex/media/sprites/rs/orthworm.png: Not Found\n",
      "did not find https://www.smogon.com/dex/media/sprites/dp/orthworm.png: Not Found\n",
      "did not find https://www.smogon.com/dex/media/sprites/bw/orthworm.gif: Not Found\n"
     ]
    },
    {
     "name": "stderr",
     "output_type": "stream",
     "text": [
      " 97%|████████████████████████████████████████████████████████████████████████▌  | 1258/1300 [1:21:32<02:32,  3.62s/it]"
     ]
    },
    {
     "name": "stdout",
     "output_type": "stream",
     "text": [
      "did not find https://www.smogon.com/dex/media/sprites/rb/glimmet.png: Not Found\n",
      "did not find https://www.smogon.com/dex/media/sprites/c/glimmet.gif: Not Found\n",
      "did not find https://www.smogon.com/dex/media/sprites/rs/glimmet.png: Not Found\n",
      "did not find https://www.smogon.com/dex/media/sprites/dp/glimmet.png: Not Found\n",
      "did not find https://www.smogon.com/dex/media/sprites/bw/glimmet.gif: Not Found\n"
     ]
    },
    {
     "name": "stderr",
     "output_type": "stream",
     "text": [
      " 97%|████████████████████████████████████████████████████████████████████████▋  | 1259/1300 [1:21:36<02:28,  3.63s/it]"
     ]
    },
    {
     "name": "stdout",
     "output_type": "stream",
     "text": [
      "did not find https://www.smogon.com/dex/media/sprites/rb/glimmora.png: Not Found\n",
      "did not find https://www.smogon.com/dex/media/sprites/c/glimmora.gif: Not Found\n",
      "did not find https://www.smogon.com/dex/media/sprites/rs/glimmora.png: Not Found\n",
      "did not find https://www.smogon.com/dex/media/sprites/dp/glimmora.png: Not Found\n",
      "did not find https://www.smogon.com/dex/media/sprites/bw/glimmora.gif: Not Found\n"
     ]
    },
    {
     "name": "stderr",
     "output_type": "stream",
     "text": [
      " 97%|████████████████████████████████████████████████████████████████████████▋  | 1260/1300 [1:21:40<02:25,  3.63s/it]"
     ]
    },
    {
     "name": "stdout",
     "output_type": "stream",
     "text": [
      "did not find https://www.smogon.com/dex/media/sprites/rb/greavard.png: Not Found\n",
      "did not find https://www.smogon.com/dex/media/sprites/c/greavard.gif: Not Found\n",
      "did not find https://www.smogon.com/dex/media/sprites/rs/greavard.png: Not Found\n",
      "did not find https://www.smogon.com/dex/media/sprites/dp/greavard.png: Not Found\n",
      "did not find https://www.smogon.com/dex/media/sprites/bw/greavard.gif: Not Found\n"
     ]
    },
    {
     "name": "stderr",
     "output_type": "stream",
     "text": [
      " 97%|████████████████████████████████████████████████████████████████████████▊  | 1261/1300 [1:21:43<02:21,  3.63s/it]"
     ]
    },
    {
     "name": "stdout",
     "output_type": "stream",
     "text": [
      "did not find https://www.smogon.com/dex/media/sprites/rb/houndstone.png: Not Found\n",
      "did not find https://www.smogon.com/dex/media/sprites/c/houndstone.gif: Not Found\n",
      "did not find https://www.smogon.com/dex/media/sprites/rs/houndstone.png: Not Found\n",
      "did not find https://www.smogon.com/dex/media/sprites/dp/houndstone.png: Not Found\n",
      "did not find https://www.smogon.com/dex/media/sprites/bw/houndstone.gif: Not Found\n"
     ]
    },
    {
     "name": "stderr",
     "output_type": "stream",
     "text": [
      " 97%|████████████████████████████████████████████████████████████████████████▊  | 1262/1300 [1:21:47<02:19,  3.66s/it]"
     ]
    },
    {
     "name": "stdout",
     "output_type": "stream",
     "text": [
      "did not find https://www.smogon.com/dex/media/sprites/rb/flamigo.png: Not Found\n",
      "did not find https://www.smogon.com/dex/media/sprites/c/flamigo.gif: Not Found\n",
      "did not find https://www.smogon.com/dex/media/sprites/rs/flamigo.png: Not Found\n",
      "did not find https://www.smogon.com/dex/media/sprites/dp/flamigo.png: Not Found\n",
      "did not find https://www.smogon.com/dex/media/sprites/bw/flamigo.gif: Not Found\n"
     ]
    },
    {
     "name": "stderr",
     "output_type": "stream",
     "text": [
      " 97%|████████████████████████████████████████████████████████████████████████▊  | 1263/1300 [1:21:51<02:14,  3.65s/it]"
     ]
    },
    {
     "name": "stdout",
     "output_type": "stream",
     "text": [
      "did not find https://www.smogon.com/dex/media/sprites/rb/cetoddle.png: Not Found\n",
      "did not find https://www.smogon.com/dex/media/sprites/c/cetoddle.gif: Not Found\n",
      "did not find https://www.smogon.com/dex/media/sprites/rs/cetoddle.png: Not Found\n",
      "did not find https://www.smogon.com/dex/media/sprites/dp/cetoddle.png: Not Found\n",
      "did not find https://www.smogon.com/dex/media/sprites/bw/cetoddle.gif: Not Found\n"
     ]
    },
    {
     "name": "stderr",
     "output_type": "stream",
     "text": [
      " 97%|████████████████████████████████████████████████████████████████████████▉  | 1264/1300 [1:21:54<02:11,  3.66s/it]"
     ]
    },
    {
     "name": "stdout",
     "output_type": "stream",
     "text": [
      "did not find https://www.smogon.com/dex/media/sprites/rb/cetitan.png: Not Found\n",
      "did not find https://www.smogon.com/dex/media/sprites/c/cetitan.gif: Not Found\n",
      "did not find https://www.smogon.com/dex/media/sprites/rs/cetitan.png: Not Found\n",
      "did not find https://www.smogon.com/dex/media/sprites/dp/cetitan.png: Not Found\n",
      "did not find https://www.smogon.com/dex/media/sprites/bw/cetitan.gif: Not Found\n"
     ]
    },
    {
     "name": "stderr",
     "output_type": "stream",
     "text": [
      " 97%|████████████████████████████████████████████████████████████████████████▉  | 1265/1300 [1:21:58<02:09,  3.69s/it]"
     ]
    },
    {
     "name": "stdout",
     "output_type": "stream",
     "text": [
      "did not find https://www.smogon.com/dex/media/sprites/rb/veluza.png: Not Found\n",
      "did not find https://www.smogon.com/dex/media/sprites/c/veluza.gif: Not Found\n",
      "did not find https://www.smogon.com/dex/media/sprites/rs/veluza.png: Not Found\n",
      "did not find https://www.smogon.com/dex/media/sprites/dp/veluza.png: Not Found\n",
      "did not find https://www.smogon.com/dex/media/sprites/bw/veluza.gif: Not Found\n"
     ]
    },
    {
     "name": "stderr",
     "output_type": "stream",
     "text": [
      " 97%|█████████████████████████████████████████████████████████████████████████  | 1266/1300 [1:22:02<02:05,  3.68s/it]"
     ]
    },
    {
     "name": "stdout",
     "output_type": "stream",
     "text": [
      "did not find https://www.smogon.com/dex/media/sprites/rb/dondozo.png: Not Found\n",
      "did not find https://www.smogon.com/dex/media/sprites/c/dondozo.gif: Not Found\n",
      "did not find https://www.smogon.com/dex/media/sprites/rs/dondozo.png: Not Found\n",
      "did not find https://www.smogon.com/dex/media/sprites/dp/dondozo.png: Not Found\n",
      "did not find https://www.smogon.com/dex/media/sprites/bw/dondozo.gif: Not Found\n"
     ]
    },
    {
     "name": "stderr",
     "output_type": "stream",
     "text": [
      " 97%|█████████████████████████████████████████████████████████████████████████  | 1267/1300 [1:22:05<02:00,  3.65s/it]"
     ]
    },
    {
     "name": "stdout",
     "output_type": "stream",
     "text": [
      "did not find https://www.smogon.com/dex/media/sprites/rb/tatsugiri.png: Not Found\n",
      "did not find https://www.smogon.com/dex/media/sprites/c/tatsugiri.gif: Not Found\n",
      "did not find https://www.smogon.com/dex/media/sprites/rs/tatsugiri.png: Not Found\n",
      "did not find https://www.smogon.com/dex/media/sprites/dp/tatsugiri.png: Not Found\n",
      "did not find https://www.smogon.com/dex/media/sprites/bw/tatsugiri.gif: Not Found\n"
     ]
    },
    {
     "name": "stderr",
     "output_type": "stream",
     "text": [
      " 98%|█████████████████████████████████████████████████████████████████████████▏ | 1268/1300 [1:22:09<01:56,  3.65s/it]"
     ]
    },
    {
     "name": "stdout",
     "output_type": "stream",
     "text": [
      "did not find https://www.smogon.com/dex/media/sprites/rb/annihilape.png: Not Found\n",
      "did not find https://www.smogon.com/dex/media/sprites/c/annihilape.gif: Not Found\n",
      "did not find https://www.smogon.com/dex/media/sprites/rs/annihilape.png: Not Found\n",
      "did not find https://www.smogon.com/dex/media/sprites/dp/annihilape.png: Not Found\n",
      "did not find https://www.smogon.com/dex/media/sprites/bw/annihilape.gif: Not Found\n"
     ]
    },
    {
     "name": "stderr",
     "output_type": "stream",
     "text": [
      " 98%|█████████████████████████████████████████████████████████████████████████▏ | 1269/1300 [1:22:13<01:52,  3.64s/it]"
     ]
    },
    {
     "name": "stdout",
     "output_type": "stream",
     "text": [
      "did not find https://www.smogon.com/dex/media/sprites/rb/clodsire.png: Not Found\n",
      "did not find https://www.smogon.com/dex/media/sprites/c/clodsire.gif: Not Found\n",
      "did not find https://www.smogon.com/dex/media/sprites/rs/clodsire.png: Not Found\n",
      "did not find https://www.smogon.com/dex/media/sprites/dp/clodsire.png: Not Found\n",
      "did not find https://www.smogon.com/dex/media/sprites/bw/clodsire.gif: Not Found\n"
     ]
    },
    {
     "name": "stderr",
     "output_type": "stream",
     "text": [
      " 98%|█████████████████████████████████████████████████████████████████████████▎ | 1270/1300 [1:22:16<01:49,  3.65s/it]"
     ]
    },
    {
     "name": "stdout",
     "output_type": "stream",
     "text": [
      "did not find https://www.smogon.com/dex/media/sprites/rb/farigiraf.png: Not Found\n",
      "did not find https://www.smogon.com/dex/media/sprites/c/farigiraf.gif: Not Found\n",
      "did not find https://www.smogon.com/dex/media/sprites/rs/farigiraf.png: Not Found\n",
      "did not find https://www.smogon.com/dex/media/sprites/dp/farigiraf.png: Not Found\n",
      "did not find https://www.smogon.com/dex/media/sprites/bw/farigiraf.gif: Not Found\n"
     ]
    },
    {
     "name": "stderr",
     "output_type": "stream",
     "text": [
      " 98%|█████████████████████████████████████████████████████████████████████████▎ | 1271/1300 [1:22:20<01:45,  3.65s/it]"
     ]
    },
    {
     "name": "stdout",
     "output_type": "stream",
     "text": [
      "did not find https://www.smogon.com/dex/media/sprites/rb/dudunsparce.png: Not Found\n",
      "did not find https://www.smogon.com/dex/media/sprites/c/dudunsparce.gif: Not Found\n",
      "did not find https://www.smogon.com/dex/media/sprites/rs/dudunsparce.png: Not Found\n",
      "did not find https://www.smogon.com/dex/media/sprites/dp/dudunsparce.png: Not Found\n",
      "did not find https://www.smogon.com/dex/media/sprites/bw/dudunsparce.gif: Not Found\n"
     ]
    },
    {
     "name": "stderr",
     "output_type": "stream",
     "text": [
      " 98%|█████████████████████████████████████████████████████████████████████████▍ | 1272/1300 [1:22:23<01:41,  3.63s/it]"
     ]
    },
    {
     "name": "stdout",
     "output_type": "stream",
     "text": [
      "did not find https://www.smogon.com/dex/media/sprites/rb/dudunsparce-three-segment.png: Not Found\n",
      "did not find https://www.smogon.com/dex/media/sprites/c/dudunsparce-three-segment.gif: Not Found\n",
      "did not find https://www.smogon.com/dex/media/sprites/rs/dudunsparce-three-segment.png: Not Found\n",
      "did not find https://www.smogon.com/dex/media/sprites/dp/dudunsparce-three-segment.png: Not Found\n",
      "did not find https://www.smogon.com/dex/media/sprites/bw/dudunsparce-three-segment.gif: Not Found\n"
     ]
    },
    {
     "name": "stderr",
     "output_type": "stream",
     "text": [
      " 98%|█████████████████████████████████████████████████████████████████████████▍ | 1273/1300 [1:22:27<01:39,  3.69s/it]"
     ]
    },
    {
     "name": "stdout",
     "output_type": "stream",
     "text": [
      "did not find https://www.smogon.com/dex/media/sprites/rb/kingambit.png: Not Found\n",
      "did not find https://www.smogon.com/dex/media/sprites/c/kingambit.gif: Not Found\n",
      "did not find https://www.smogon.com/dex/media/sprites/rs/kingambit.png: Not Found\n",
      "did not find https://www.smogon.com/dex/media/sprites/dp/kingambit.png: Not Found\n",
      "did not find https://www.smogon.com/dex/media/sprites/bw/kingambit.gif: Not Found\n"
     ]
    },
    {
     "name": "stderr",
     "output_type": "stream",
     "text": [
      " 98%|█████████████████████████████████████████████████████████████████████████▌ | 1274/1300 [1:22:31<01:35,  3.66s/it]"
     ]
    },
    {
     "name": "stdout",
     "output_type": "stream",
     "text": [
      "did not find https://www.smogon.com/dex/media/sprites/rb/great-tusk.png: Not Found\n",
      "did not find https://www.smogon.com/dex/media/sprites/c/great-tusk.gif: Not Found\n",
      "did not find https://www.smogon.com/dex/media/sprites/rs/great-tusk.png: Not Found\n",
      "did not find https://www.smogon.com/dex/media/sprites/dp/great-tusk.png: Not Found\n",
      "did not find https://www.smogon.com/dex/media/sprites/bw/great-tusk.gif: Not Found\n"
     ]
    },
    {
     "name": "stderr",
     "output_type": "stream",
     "text": [
      " 98%|█████████████████████████████████████████████████████████████████████████▌ | 1275/1300 [1:22:34<01:30,  3.64s/it]"
     ]
    },
    {
     "name": "stdout",
     "output_type": "stream",
     "text": [
      "did not find https://www.smogon.com/dex/media/sprites/rb/scream-tail.png: Not Found\n",
      "did not find https://www.smogon.com/dex/media/sprites/c/scream-tail.gif: Not Found\n",
      "did not find https://www.smogon.com/dex/media/sprites/rs/scream-tail.png: Not Found\n",
      "did not find https://www.smogon.com/dex/media/sprites/dp/scream-tail.png: Not Found\n",
      "did not find https://www.smogon.com/dex/media/sprites/bw/scream-tail.gif: Not Found\n"
     ]
    },
    {
     "name": "stderr",
     "output_type": "stream",
     "text": [
      " 98%|█████████████████████████████████████████████████████████████████████████▌ | 1276/1300 [1:22:38<01:27,  3.64s/it]"
     ]
    },
    {
     "name": "stdout",
     "output_type": "stream",
     "text": [
      "did not find https://www.smogon.com/dex/media/sprites/rb/brute-bonnet.png: Not Found\n",
      "did not find https://www.smogon.com/dex/media/sprites/c/brute-bonnet.gif: Not Found\n",
      "did not find https://www.smogon.com/dex/media/sprites/rs/brute-bonnet.png: Not Found\n",
      "did not find https://www.smogon.com/dex/media/sprites/dp/brute-bonnet.png: Not Found\n",
      "did not find https://www.smogon.com/dex/media/sprites/bw/brute-bonnet.gif: Not Found\n"
     ]
    },
    {
     "name": "stderr",
     "output_type": "stream",
     "text": [
      " 98%|█████████████████████████████████████████████████████████████████████████▋ | 1277/1300 [1:22:42<01:23,  3.65s/it]"
     ]
    },
    {
     "name": "stdout",
     "output_type": "stream",
     "text": [
      "did not find https://www.smogon.com/dex/media/sprites/rb/flutter-mane.png: Not Found\n",
      "did not find https://www.smogon.com/dex/media/sprites/c/flutter-mane.gif: Not Found\n",
      "did not find https://www.smogon.com/dex/media/sprites/rs/flutter-mane.png: Not Found\n",
      "did not find https://www.smogon.com/dex/media/sprites/dp/flutter-mane.png: Not Found\n",
      "did not find https://www.smogon.com/dex/media/sprites/bw/flutter-mane.gif: Not Found\n"
     ]
    },
    {
     "name": "stderr",
     "output_type": "stream",
     "text": [
      " 98%|█████████████████████████████████████████████████████████████████████████▋ | 1278/1300 [1:22:45<01:20,  3.64s/it]"
     ]
    },
    {
     "name": "stdout",
     "output_type": "stream",
     "text": [
      "did not find https://www.smogon.com/dex/media/sprites/rb/slither-wing.png: Not Found\n",
      "did not find https://www.smogon.com/dex/media/sprites/c/slither-wing.gif: Not Found\n",
      "did not find https://www.smogon.com/dex/media/sprites/rs/slither-wing.png: Not Found\n",
      "did not find https://www.smogon.com/dex/media/sprites/dp/slither-wing.png: Not Found\n",
      "did not find https://www.smogon.com/dex/media/sprites/bw/slither-wing.gif: Not Found\n"
     ]
    },
    {
     "name": "stderr",
     "output_type": "stream",
     "text": [
      " 98%|█████████████████████████████████████████████████████████████████████████▊ | 1279/1300 [1:22:49<01:16,  3.63s/it]"
     ]
    },
    {
     "name": "stdout",
     "output_type": "stream",
     "text": [
      "did not find https://www.smogon.com/dex/media/sprites/rb/sandy-shocks.png: Not Found\n",
      "did not find https://www.smogon.com/dex/media/sprites/c/sandy-shocks.gif: Not Found\n",
      "did not find https://www.smogon.com/dex/media/sprites/rs/sandy-shocks.png: Not Found\n",
      "did not find https://www.smogon.com/dex/media/sprites/dp/sandy-shocks.png: Not Found\n",
      "did not find https://www.smogon.com/dex/media/sprites/bw/sandy-shocks.gif: Not Found\n"
     ]
    },
    {
     "name": "stderr",
     "output_type": "stream",
     "text": [
      " 98%|█████████████████████████████████████████████████████████████████████████▊ | 1280/1300 [1:22:53<01:12,  3.62s/it]"
     ]
    },
    {
     "name": "stdout",
     "output_type": "stream",
     "text": [
      "did not find https://www.smogon.com/dex/media/sprites/rb/iron-treads.png: Not Found\n",
      "did not find https://www.smogon.com/dex/media/sprites/c/iron-treads.gif: Not Found\n",
      "did not find https://www.smogon.com/dex/media/sprites/rs/iron-treads.png: Not Found\n",
      "did not find https://www.smogon.com/dex/media/sprites/dp/iron-treads.png: Not Found\n",
      "did not find https://www.smogon.com/dex/media/sprites/bw/iron-treads.gif: Not Found\n"
     ]
    },
    {
     "name": "stderr",
     "output_type": "stream",
     "text": [
      " 99%|█████████████████████████████████████████████████████████████████████████▉ | 1281/1300 [1:22:56<01:08,  3.63s/it]"
     ]
    },
    {
     "name": "stdout",
     "output_type": "stream",
     "text": [
      "did not find https://www.smogon.com/dex/media/sprites/rb/iron-bundle.png: Not Found\n",
      "did not find https://www.smogon.com/dex/media/sprites/c/iron-bundle.gif: Not Found\n",
      "did not find https://www.smogon.com/dex/media/sprites/rs/iron-bundle.png: Not Found\n",
      "did not find https://www.smogon.com/dex/media/sprites/dp/iron-bundle.png: Not Found\n",
      "did not find https://www.smogon.com/dex/media/sprites/bw/iron-bundle.gif: Not Found\n"
     ]
    },
    {
     "name": "stderr",
     "output_type": "stream",
     "text": [
      " 99%|█████████████████████████████████████████████████████████████████████████▉ | 1282/1300 [1:23:00<01:05,  3.63s/it]"
     ]
    },
    {
     "name": "stdout",
     "output_type": "stream",
     "text": [
      "did not find https://www.smogon.com/dex/media/sprites/rb/iron-hands.png: Not Found\n",
      "did not find https://www.smogon.com/dex/media/sprites/c/iron-hands.gif: Not Found\n",
      "did not find https://www.smogon.com/dex/media/sprites/rs/iron-hands.png: Not Found\n",
      "did not find https://www.smogon.com/dex/media/sprites/dp/iron-hands.png: Not Found\n",
      "did not find https://www.smogon.com/dex/media/sprites/bw/iron-hands.gif: Not Found\n"
     ]
    },
    {
     "name": "stderr",
     "output_type": "stream",
     "text": [
      " 99%|██████████████████████████████████████████████████████████████████████████ | 1283/1300 [1:23:04<01:01,  3.64s/it]"
     ]
    },
    {
     "name": "stdout",
     "output_type": "stream",
     "text": [
      "did not find https://www.smogon.com/dex/media/sprites/rb/iron-jugulis.png: Not Found\n",
      "did not find https://www.smogon.com/dex/media/sprites/c/iron-jugulis.gif: Not Found\n",
      "did not find https://www.smogon.com/dex/media/sprites/rs/iron-jugulis.png: Not Found\n",
      "did not find https://www.smogon.com/dex/media/sprites/dp/iron-jugulis.png: Not Found\n",
      "did not find https://www.smogon.com/dex/media/sprites/bw/iron-jugulis.gif: Not Found\n"
     ]
    },
    {
     "name": "stderr",
     "output_type": "stream",
     "text": [
      " 99%|██████████████████████████████████████████████████████████████████████████ | 1284/1300 [1:23:07<00:57,  3.62s/it]"
     ]
    },
    {
     "name": "stdout",
     "output_type": "stream",
     "text": [
      "did not find https://www.smogon.com/dex/media/sprites/rb/iron-moth.png: Not Found\n",
      "did not find https://www.smogon.com/dex/media/sprites/c/iron-moth.gif: Not Found\n",
      "did not find https://www.smogon.com/dex/media/sprites/rs/iron-moth.png: Not Found\n",
      "did not find https://www.smogon.com/dex/media/sprites/dp/iron-moth.png: Not Found\n",
      "did not find https://www.smogon.com/dex/media/sprites/bw/iron-moth.gif: Not Found\n"
     ]
    },
    {
     "name": "stderr",
     "output_type": "stream",
     "text": [
      " 99%|██████████████████████████████████████████████████████████████████████████▏| 1285/1300 [1:23:11<00:54,  3.63s/it]"
     ]
    },
    {
     "name": "stdout",
     "output_type": "stream",
     "text": [
      "did not find https://www.smogon.com/dex/media/sprites/rb/iron-thorns.png: Not Found\n",
      "did not find https://www.smogon.com/dex/media/sprites/c/iron-thorns.gif: Not Found\n",
      "did not find https://www.smogon.com/dex/media/sprites/rs/iron-thorns.png: Not Found\n",
      "did not find https://www.smogon.com/dex/media/sprites/dp/iron-thorns.png: Not Found\n",
      "did not find https://www.smogon.com/dex/media/sprites/bw/iron-thorns.gif: Not Found\n"
     ]
    },
    {
     "name": "stderr",
     "output_type": "stream",
     "text": [
      " 99%|██████████████████████████████████████████████████████████████████████████▏| 1286/1300 [1:23:14<00:50,  3.64s/it]"
     ]
    },
    {
     "name": "stdout",
     "output_type": "stream",
     "text": [
      "did not find https://www.smogon.com/dex/media/sprites/rb/frigibax.png: Not Found\n",
      "did not find https://www.smogon.com/dex/media/sprites/c/frigibax.gif: Not Found\n",
      "did not find https://www.smogon.com/dex/media/sprites/rs/frigibax.png: Not Found\n",
      "did not find https://www.smogon.com/dex/media/sprites/dp/frigibax.png: Not Found\n",
      "did not find https://www.smogon.com/dex/media/sprites/bw/frigibax.gif: Not Found\n"
     ]
    },
    {
     "name": "stderr",
     "output_type": "stream",
     "text": [
      " 99%|██████████████████████████████████████████████████████████████████████████▎| 1287/1300 [1:23:18<00:46,  3.59s/it]"
     ]
    },
    {
     "name": "stdout",
     "output_type": "stream",
     "text": [
      "did not find https://www.smogon.com/dex/media/sprites/rb/arctibax.png: Not Found\n",
      "did not find https://www.smogon.com/dex/media/sprites/c/arctibax.gif: Not Found\n",
      "did not find https://www.smogon.com/dex/media/sprites/rs/arctibax.png: Not Found\n",
      "did not find https://www.smogon.com/dex/media/sprites/dp/arctibax.png: Not Found\n",
      "did not find https://www.smogon.com/dex/media/sprites/bw/arctibax.gif: Not Found\n"
     ]
    },
    {
     "name": "stderr",
     "output_type": "stream",
     "text": [
      " 99%|██████████████████████████████████████████████████████████████████████████▎| 1288/1300 [1:23:21<00:43,  3.59s/it]"
     ]
    },
    {
     "name": "stdout",
     "output_type": "stream",
     "text": [
      "did not find https://www.smogon.com/dex/media/sprites/rb/baxcalibur.png: Not Found\n",
      "did not find https://www.smogon.com/dex/media/sprites/c/baxcalibur.gif: Not Found\n",
      "did not find https://www.smogon.com/dex/media/sprites/rs/baxcalibur.png: Not Found\n",
      "did not find https://www.smogon.com/dex/media/sprites/dp/baxcalibur.png: Not Found\n",
      "did not find https://www.smogon.com/dex/media/sprites/bw/baxcalibur.gif: Not Found\n"
     ]
    },
    {
     "name": "stderr",
     "output_type": "stream",
     "text": [
      " 99%|██████████████████████████████████████████████████████████████████████████▎| 1289/1300 [1:23:25<00:39,  3.57s/it]"
     ]
    },
    {
     "name": "stdout",
     "output_type": "stream",
     "text": [
      "did not find https://www.smogon.com/dex/media/sprites/rb/gimmighoul.png: Not Found\n",
      "did not find https://www.smogon.com/dex/media/sprites/c/gimmighoul.gif: Not Found\n",
      "did not find https://www.smogon.com/dex/media/sprites/rs/gimmighoul.png: Not Found\n",
      "did not find https://www.smogon.com/dex/media/sprites/dp/gimmighoul.png: Not Found\n",
      "did not find https://www.smogon.com/dex/media/sprites/bw/gimmighoul.gif: Not Found\n"
     ]
    },
    {
     "name": "stderr",
     "output_type": "stream",
     "text": [
      " 99%|██████████████████████████████████████████████████████████████████████████▍| 1290/1300 [1:23:29<00:35,  3.58s/it]"
     ]
    },
    {
     "name": "stdout",
     "output_type": "stream",
     "text": [
      "did not find https://www.smogon.com/dex/media/sprites/rb/gimmighoul-roaming.png: Not Found\n",
      "did not find https://www.smogon.com/dex/media/sprites/c/gimmighoul-roaming.gif: Not Found\n",
      "did not find https://www.smogon.com/dex/media/sprites/rs/gimmighoul-roaming.png: Not Found\n",
      "did not find https://www.smogon.com/dex/media/sprites/dp/gimmighoul-roaming.png: Not Found\n",
      "did not find https://www.smogon.com/dex/media/sprites/bw/gimmighoul-roaming.gif: Not Found\n"
     ]
    },
    {
     "name": "stderr",
     "output_type": "stream",
     "text": [
      " 99%|██████████████████████████████████████████████████████████████████████████▍| 1291/1300 [1:23:32<00:32,  3.62s/it]"
     ]
    },
    {
     "name": "stdout",
     "output_type": "stream",
     "text": [
      "did not find https://www.smogon.com/dex/media/sprites/rb/gholdengo.png: Not Found\n",
      "did not find https://www.smogon.com/dex/media/sprites/c/gholdengo.gif: Not Found\n",
      "did not find https://www.smogon.com/dex/media/sprites/rs/gholdengo.png: Not Found\n",
      "did not find https://www.smogon.com/dex/media/sprites/dp/gholdengo.png: Not Found\n",
      "did not find https://www.smogon.com/dex/media/sprites/bw/gholdengo.gif: Not Found\n"
     ]
    },
    {
     "name": "stderr",
     "output_type": "stream",
     "text": [
      " 99%|██████████████████████████████████████████████████████████████████████████▌| 1292/1300 [1:23:36<00:28,  3.62s/it]"
     ]
    },
    {
     "name": "stdout",
     "output_type": "stream",
     "text": [
      "did not find https://www.smogon.com/dex/media/sprites/rb/wo-chien.png: Not Found\n",
      "did not find https://www.smogon.com/dex/media/sprites/c/wo-chien.gif: Not Found\n",
      "did not find https://www.smogon.com/dex/media/sprites/rs/wo-chien.png: Not Found\n",
      "did not find https://www.smogon.com/dex/media/sprites/dp/wo-chien.png: Not Found\n",
      "did not find https://www.smogon.com/dex/media/sprites/bw/wo-chien.gif: Not Found\n"
     ]
    },
    {
     "name": "stderr",
     "output_type": "stream",
     "text": [
      " 99%|██████████████████████████████████████████████████████████████████████████▌| 1293/1300 [1:23:40<00:25,  3.62s/it]"
     ]
    },
    {
     "name": "stdout",
     "output_type": "stream",
     "text": [
      "did not find https://www.smogon.com/dex/media/sprites/rb/chien-pao.png: Not Found\n",
      "did not find https://www.smogon.com/dex/media/sprites/c/chien-pao.gif: Not Found\n",
      "did not find https://www.smogon.com/dex/media/sprites/rs/chien-pao.png: Not Found\n",
      "did not find https://www.smogon.com/dex/media/sprites/dp/chien-pao.png: Not Found\n",
      "did not find https://www.smogon.com/dex/media/sprites/bw/chien-pao.gif: Not Found\n"
     ]
    },
    {
     "name": "stderr",
     "output_type": "stream",
     "text": [
      "100%|██████████████████████████████████████████████████████████████████████████▋| 1294/1300 [1:23:43<00:21,  3.61s/it]"
     ]
    },
    {
     "name": "stdout",
     "output_type": "stream",
     "text": [
      "did not find https://www.smogon.com/dex/media/sprites/rb/ting-lu.png: Not Found\n",
      "did not find https://www.smogon.com/dex/media/sprites/c/ting-lu.gif: Not Found\n",
      "did not find https://www.smogon.com/dex/media/sprites/rs/ting-lu.png: Not Found\n",
      "did not find https://www.smogon.com/dex/media/sprites/dp/ting-lu.png: Not Found\n",
      "did not find https://www.smogon.com/dex/media/sprites/bw/ting-lu.gif: Not Found\n"
     ]
    },
    {
     "name": "stderr",
     "output_type": "stream",
     "text": [
      "100%|██████████████████████████████████████████████████████████████████████████▋| 1295/1300 [1:23:47<00:18,  3.61s/it]"
     ]
    },
    {
     "name": "stdout",
     "output_type": "stream",
     "text": [
      "did not find https://www.smogon.com/dex/media/sprites/rb/chi-yu.png: Not Found\n",
      "did not find https://www.smogon.com/dex/media/sprites/c/chi-yu.gif: Not Found\n",
      "did not find https://www.smogon.com/dex/media/sprites/rs/chi-yu.png: Not Found\n",
      "did not find https://www.smogon.com/dex/media/sprites/dp/chi-yu.png: Not Found\n",
      "did not find https://www.smogon.com/dex/media/sprites/bw/chi-yu.gif: Not Found\n"
     ]
    },
    {
     "name": "stderr",
     "output_type": "stream",
     "text": [
      "100%|██████████████████████████████████████████████████████████████████████████▊| 1296/1300 [1:23:50<00:14,  3.63s/it]"
     ]
    },
    {
     "name": "stdout",
     "output_type": "stream",
     "text": [
      "did not find https://www.smogon.com/dex/media/sprites/rb/roaring-moon.png: Not Found\n",
      "did not find https://www.smogon.com/dex/media/sprites/c/roaring-moon.gif: Not Found\n",
      "did not find https://www.smogon.com/dex/media/sprites/rs/roaring-moon.png: Not Found\n",
      "did not find https://www.smogon.com/dex/media/sprites/dp/roaring-moon.png: Not Found\n",
      "did not find https://www.smogon.com/dex/media/sprites/bw/roaring-moon.gif: Not Found\n"
     ]
    },
    {
     "name": "stderr",
     "output_type": "stream",
     "text": [
      "100%|██████████████████████████████████████████████████████████████████████████▊| 1297/1300 [1:23:54<00:10,  3.63s/it]"
     ]
    },
    {
     "name": "stdout",
     "output_type": "stream",
     "text": [
      "did not find https://www.smogon.com/dex/media/sprites/rb/iron-valiant.png: Not Found\n",
      "did not find https://www.smogon.com/dex/media/sprites/c/iron-valiant.gif: Not Found\n",
      "did not find https://www.smogon.com/dex/media/sprites/rs/iron-valiant.png: Not Found\n",
      "did not find https://www.smogon.com/dex/media/sprites/dp/iron-valiant.png: Not Found\n",
      "did not find https://www.smogon.com/dex/media/sprites/bw/iron-valiant.gif: Not Found\n"
     ]
    },
    {
     "name": "stderr",
     "output_type": "stream",
     "text": [
      "100%|██████████████████████████████████████████████████████████████████████████▉| 1298/1300 [1:23:58<00:07,  3.63s/it]"
     ]
    },
    {
     "name": "stdout",
     "output_type": "stream",
     "text": [
      "did not find https://www.smogon.com/dex/media/sprites/rb/koraidon.png: Not Found\n",
      "did not find https://www.smogon.com/dex/media/sprites/c/koraidon.gif: Not Found\n",
      "did not find https://www.smogon.com/dex/media/sprites/rs/koraidon.png: Not Found\n",
      "did not find https://www.smogon.com/dex/media/sprites/dp/koraidon.png: Not Found\n",
      "did not find https://www.smogon.com/dex/media/sprites/bw/koraidon.gif: Not Found\n"
     ]
    },
    {
     "name": "stderr",
     "output_type": "stream",
     "text": [
      "100%|██████████████████████████████████████████████████████████████████████████▉| 1299/1300 [1:24:01<00:03,  3.63s/it]"
     ]
    },
    {
     "name": "stdout",
     "output_type": "stream",
     "text": [
      "did not find https://www.smogon.com/dex/media/sprites/rb/miraidon.png: Not Found\n",
      "did not find https://www.smogon.com/dex/media/sprites/c/miraidon.gif: Not Found\n",
      "did not find https://www.smogon.com/dex/media/sprites/rs/miraidon.png: Not Found\n",
      "did not find https://www.smogon.com/dex/media/sprites/dp/miraidon.png: Not Found\n",
      "did not find https://www.smogon.com/dex/media/sprites/bw/miraidon.gif: Not Found\n"
     ]
    },
    {
     "name": "stderr",
     "output_type": "stream",
     "text": [
      "100%|███████████████████████████████████████████████████████████████████████████| 1300/1300 [1:24:05<00:00,  3.88s/it]\n"
     ]
    }
   ],
   "source": [
    "from tqdm import tqdm\n",
    "from time import sleep\n",
    "\n",
    "for i, pkmn in tqdm(df.iterrows(), total=df.shape[0]):\n",
    "    link, species = pkmn\n",
    "    print(f\"{i:<4} {species}\", end=\"\\r\")\n",
    "    for gen, file_format in gen_file_format_dict.items():\n",
    "        uri = ROOT_URL + f\"/{gen}/{link}.{file_format}\"\n",
    "        path = os.path.join(cwd, folder, species, f\"{link}-{gen}.{file_format}\")\n",
    "        try:\n",
    "            read_and_write_file(uri, path)\n",
    "        except Exception as e:\n",
    "            print(e)\n",
    "        sleep(0.1)"
   ]
  }
 ],
 "metadata": {
  "kernelspec": {
   "display_name": "Python 3 (ipykernel)",
   "language": "python",
   "name": "python3"
  },
  "language_info": {
   "codemirror_mode": {
    "name": "ipython",
    "version": 3
   },
   "file_extension": ".py",
   "mimetype": "text/x-python",
   "name": "python",
   "nbconvert_exporter": "python",
   "pygments_lexer": "ipython3",
   "version": "3.11.4"
  }
 },
 "nbformat": 4,
 "nbformat_minor": 5
}
