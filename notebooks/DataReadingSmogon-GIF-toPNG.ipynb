{
 "cells": [
  {
   "cell_type": "markdown",
   "id": "7992a6b1-7c17-4711-8bc8-df7b166e5f15",
   "metadata": {},
   "source": [
    "# Create folder structure:"
   ]
  },
  {
   "cell_type": "code",
   "execution_count": 1,
   "id": "a9a1997f-157f-476a-a769-43bfcc68162f",
   "metadata": {},
   "outputs": [
    {
     "data": {
      "text/plain": [
       "'/Users/fynn/Projects/PokeDex/dataset'"
      ]
     },
     "execution_count": 1,
     "metadata": {},
     "output_type": "execute_result"
    }
   ],
   "source": [
    "import os\n",
    "cwd = os.getcwd()\n",
    "cwd, _ = os.path.split(cwd)\n",
    "folder = \"dataset\"\n",
    "root = os.path.join(cwd, folder)\n",
    "root"
   ]
  },
  {
   "cell_type": "code",
   "execution_count": 2,
   "id": "12b984cf-420f-4478-85db-b7cadd98950f",
   "metadata": {},
   "outputs": [],
   "source": [
    "import tensorflow as tf\n",
    "import numpy as np\n",
    "\n",
    "def load_gif(file_path):\n",
    "    with tf.io.gfile.GFile(file_path, 'rb') as f:\n",
    "        video = tf.io.decode_gif(f.read())\n",
    "    return np.array(video)\n",
    "\n",
    "#gif = load_gif(path)\n",
    "#gif.shape\n"
   ]
  },
  {
   "cell_type": "code",
   "execution_count": 3,
   "id": "37f72f2f-9707-44ca-8ed2-a5cb86a4e43f",
   "metadata": {},
   "outputs": [],
   "source": [
    "def save_gif(gif: np.array, file_path: str) -> None:\n",
    "    for i, gif_ in enumerate(gif):\n",
    "\n",
    "        path = file_path[:-4]\n",
    "        path += f\"{i:0>3}\"\n",
    "        path += \".png\"\n",
    "        \n",
    "        #if (i % 1) != 0:\n",
    "        if i != 0:\n",
    "           if os.path.isfile(path):\n",
    "               os.remove(path) \n",
    "        else:\n",
    "            tf.keras.utils.save_img(\n",
    "                path, x=gif_, data_format=None, file_format=None, scale=False\n",
    "            )\n",
    "    return None"
   ]
  },
  {
   "cell_type": "code",
   "execution_count": 4,
   "id": "24a434c7-bd86-41d5-a0e4-94ec035e698e",
   "metadata": {},
   "outputs": [
    {
     "name": "stderr",
     "output_type": "stream",
     "text": [
      "2023-10-12 15:27:17.080024: I metal_plugin/src/device/metal_device.cc:1154] Metal device set to: Apple M1 Pro\n",
      "2023-10-12 15:27:17.080040: I metal_plugin/src/device/metal_device.cc:296] systemMemory: 16.00 GB\n",
      "2023-10-12 15:27:17.080043: I metal_plugin/src/device/metal_device.cc:313] maxCacheSize: 5.33 GB\n",
      "2023-10-12 15:27:17.080069: I tensorflow/core/common_runtime/pluggable_device/pluggable_device_factory.cc:306] Could not identify NUMA node of platform GPU ID 0, defaulting to 0. Your kernel may not have been built with NUMA support.\n",
      "2023-10-12 15:27:17.080083: I tensorflow/core/common_runtime/pluggable_device/pluggable_device_factory.cc:272] Created TensorFlow device (/job:localhost/replica:0/task:0/device:GPU:0 with 0 MB memory) -> physical PluggableDevice (device: 0, name: METAL, pci bus id: <undefined>)\n"
     ]
    }
   ],
   "source": [
    "for src, subdir, files in os.walk(root):\n",
    "    if subdir:\n",
    "        continue\n",
    "\n",
    "    for file in files:\n",
    "        if not file.endswith(\".gif\"):\n",
    "            continue\n",
    "\n",
    "        path = os.path.join(src, file)\n",
    "        if not os.path.isfile(path):\n",
    "            print(f\"file {path} NOT FOUND\")\n",
    "            continue\n",
    "\n",
    "        gif = load_gif(path)\n",
    "        save_gif(gif, path)"
   ]
  }
 ],
 "metadata": {
  "kernelspec": {
   "display_name": "Python 3 (ipykernel)",
   "language": "python",
   "name": "python3"
  },
  "language_info": {
   "codemirror_mode": {
    "name": "ipython",
    "version": 3
   },
   "file_extension": ".py",
   "mimetype": "text/x-python",
   "name": "python",
   "nbconvert_exporter": "python",
   "pygments_lexer": "ipython3",
   "version": "3.11.4"
  }
 },
 "nbformat": 4,
 "nbformat_minor": 5
}
